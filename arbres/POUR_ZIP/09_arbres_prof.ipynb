{
 "cells": [
  {
   "cell_type": "markdown",
   "metadata": {},
   "source": [
    "# Chapitre 9 : Arbres"
   ]
  },
  {
   "cell_type": "markdown",
   "metadata": {},
   "source": [
    "***Structure, implémentation et utilisation d'arbres et d'arbres binaires***"
   ]
  },
  {
   "cell_type": "markdown",
   "metadata": {},
   "source": [
    "## Partie A - Arbres"
   ]
  },
  {
   "cell_type": "markdown",
   "metadata": {},
   "source": [
    "### Vocabulaire des arbres"
   ]
  },
  {
   "cell_type": "markdown",
   "metadata": {},
   "source": [
    "On considère l'**arbre** ci-dessous, qui représente l'imbrication des balises contenues dans le fichier `pokemon.html`. On dit qu'il s'agit de l'arbre DOM (*Document Object Model*) du fichier HTML."
   ]
  },
  {
   "cell_type": "markdown",
   "metadata": {},
   "source": [
    "<img src='https://ntoulzac.github.io/Cours-NSI-Terminale/arbres/images/arbre_DOM_pokemon.png'>"
   ]
  },
  {
   "cell_type": "markdown",
   "metadata": {},
   "source": [
    "**(1)** Déterminer :\n",
    "- quelle est l'**étiquette** de la **racine** de l'arbre,\n",
    "- quelle est la **taille** de l'arbre, c'est-à-dire son nombre de **nœuds**,\n",
    "- combien l'arbre possède de **feuilles**,\n",
    "- combien l'arbre possède d'**arêtes**,\n",
    "- quelle est la **hauteur** de l'arbre,\n",
    "- quelle est la **profondeur** des nœuds colorés en vert,\n",
    "- quel nœud est le **parent** du nœud dont l'étiquette est `table`,\n",
    "- quels nœuds sont les **enfants** du nœud dont l'étiquette est `table`,\n",
    "- quelle est l'**arité** (ou le **degré**) du nœud dont l'étiquette est `h3`, c'est-à-dire le nombre de ses enfants."
   ]
  },
  {
   "cell_type": "markdown",
   "metadata": {},
   "source": [
    "<div class='rq'>\n",
    "    <ul>\n",
    "        <li>La racine l'arbre a pour étiquette <code>html</code>.</li>\n",
    "        <li>La taille de l'arbre est 26, cela signifie que l'arbre possède 26 nœuds.</li>\n",
    "        <li>Parmi les 26 nœuds, 11 sont des feuilles. Les 15 autres nœuds peuvent être qualifiés de nœuds internes.</li>\n",
    "        <li>L'arbre possède 25 arêtes. Le nombre d'arêtes est le nombre de nœuds moins un.</li>\n",
    "        <li>La hauteur de l'arbre est 6 si on considère qu'un arbre réduit à sa racine est de hauteur 0. Il est de hauteur 7 si on considère qu'un arbre réduit à sa racine est de hauteur 1.</li>\n",
    "        <li>Les nœuds colorés en vert ont une profondeur de 3 si on considère que la profondeur de la racine est 0. Ils ont une profondeur de 4 si on considère que la profondeur de la racine est 1.</li>\n",
    "        <li>Le nœud dont l'étiquette est <code>body</code> est le parent de celui dont l'étiquette est <code>table</code>.</li>\n",
    "        <li>Les deux nœuds dont l'étiquette est <code>tr</code> sont les enfants de celui dont l'étiquette est <code>table</code>.</li>\n",
    "        <li>Le nœud dont l'étiquette est <code>h3</code> est de degré 3.</li>\n",
    "    </ul>\n",
    "</div>"
   ]
  },
  {
   "cell_type": "markdown",
   "metadata": {},
   "source": [
    "**(2)** Après avoir affiché le code source du fichier `pokemon.html`, lister les huit éléments de texte présents dans le fichier."
   ]
  },
  {
   "cell_type": "markdown",
   "metadata": {},
   "source": [
    "<div class='rq'>\n",
    "<table>\n",
    "    <tr>\n",
    "        <th>Etiquette</th>\n",
    "        <th>Texte</th>\n",
    "    </tr>\n",
    "    <tr>\n",
    "        <td><code>txt0</code></td>\n",
    "        <td><code>img {margin: 1em; border: 2px solid black;}</code></td>\n",
    "    </tr>\n",
    "    <tr>\n",
    "        <td><code>txt1</code></td>\n",
    "        <td><code>Mes </code></td>\n",
    "    </tr>\n",
    "    <tr>\n",
    "        <td><code>txt2</code></td>\n",
    "        <td><code>Pokemon</code></td>\n",
    "    </tr>\n",
    "    <tr>\n",
    "        <td><code>txt3</code></td>\n",
    "        <td><code> préférés</code></td>\n",
    "    </tr>\n",
    "    <tr>\n",
    "        <td><code>txt4</code></td>\n",
    "        <td><code>Jigglypuff</code></td>\n",
    "    </tr>\n",
    "    <tr>\n",
    "        <td><code>txt5</code></td>\n",
    "        <td><code> (Rondoudou)</code></td>\n",
    "    </tr>\n",
    "    <tr>\n",
    "        <td><code>txt6</code></td>\n",
    "        <td><code>Vaporeon</code></td>\n",
    "    </tr>\n",
    "    <tr>\n",
    "        <td><code>txt7</code></td>\n",
    "        <td><code> (Aquali)</code></td>\n",
    "    </tr>\n",
    "</table>\n",
    "</div>"
   ]
  },
  {
   "cell_type": "markdown",
   "metadata": {},
   "source": [
    "### Arborescence d'un répertoire"
   ]
  },
  {
   "cell_type": "markdown",
   "metadata": {},
   "source": [
    "La fonction `arborescence` du module `arborescence` permet d'afficher les sous-dossiers et les fichiers contenus dans un répertoire donné."
   ]
  },
  {
   "cell_type": "code",
   "execution_count": 1,
   "metadata": {},
   "outputs": [],
   "source": [
    "from arborescence import arborescence"
   ]
  },
  {
   "cell_type": "markdown",
   "metadata": {},
   "source": [
    "**(3)** Représenter sous forme d'arbre les sous-dossiers et les fichiers contenus dans le répertoire `Dossier`."
   ]
  },
  {
   "cell_type": "code",
   "execution_count": 2,
   "metadata": {},
   "outputs": [
    {
     "name": "stdout",
     "output_type": "stream",
     "text": [
      "Dossier\n",
      "|____ Sous-dossier1\n",
      "|____ |____ Sous-dossier3\n",
      "|____ |____ |____ Sous-dossier6\n",
      "|____ |____ |____ |____ fich10.txt\n",
      "|____ |____ |____ |____ fich8.txt\n",
      "|____ |____ |____ |____ fich9.txt\n",
      "|____ |____ |____ fich5.txt\n",
      "|____ |____ fich4.txt\n",
      "|____ Sous-dossier2\n",
      "|____ |____ Sous-dossier4\n",
      "|____ |____ Sous-dossier5\n",
      "|____ |____ |____ fich6.txt\n",
      "|____ |____ |____ fich7.txt\n",
      "|____ fich1.txt\n",
      "|____ fich2.txt\n",
      "|____ fich3.txt\n"
     ]
    }
   ],
   "source": [
    "arborescence('Dossier')"
   ]
  },
  {
   "cell_type": "markdown",
   "metadata": {},
   "source": [
    "<img src='https://ntoulzac.github.io/Cours-NSI-Terminale/arbres/images/arborescence_dossier.png'>"
   ]
  },
  {
   "cell_type": "markdown",
   "metadata": {},
   "source": [
    "## Activité - Qui est-ce ?"
   ]
  },
  {
   "cell_type": "markdown",
   "metadata": {},
   "source": [
    "*Qui est-ce ?* est un jeu dont le but est de deviner le personnage choisi par son adversaire en posant un minimum de questions, auxquelles on ne peut répondre que par oui ou par non."
   ]
  },
  {
   "cell_type": "markdown",
   "metadata": {},
   "source": [
    "<table class='sobre'>\n",
    "    <tr>\n",
    "        <td><img src='https://ntoulzac.github.io/Cours-NSI-Terminale/arbres/images/monstre1.png'></td>\n",
    "        <td><img src='https://ntoulzac.github.io/Cours-NSI-Terminale/arbres/images/monstre2.png'></td>\n",
    "        <td><img src='https://ntoulzac.github.io/Cours-NSI-Terminale/arbres/images/monstre3.png'></td>\n",
    "        <td><img src='https://ntoulzac.github.io/Cours-NSI-Terminale/arbres/images/monstre4.png'></td>\n",
    "        <td><img src='https://ntoulzac.github.io/Cours-NSI-Terminale/arbres/images/monstre5.png'></td>\n",
    "        <td><img src='https://ntoulzac.github.io/Cours-NSI-Terminale/arbres/images/monstre6.png'></td>\n",
    "        <td><img src='https://ntoulzac.github.io/Cours-NSI-Terminale/arbres/images/monstre7.png'></td>\n",
    "        <td><img src='https://ntoulzac.github.io/Cours-NSI-Terminale/arbres/images/monstre8.png'></td>\n",
    "    </tr>\n",
    "</table>"
   ]
  },
  {
   "cell_type": "markdown",
   "metadata": {},
   "source": [
    "On peut dessiner un arbre dans lequel chaque nœud interne correspond à une question et chaque feuille à un personnage. Les nœuds internes possèdent deux enfants : à gauche l'enfant correspondant à la réponse \"oui\" et à droite l'enfant correspondant à la réponse \"non\".\n",
    "\n",
    "Voici un exemple d'arbre représentant sept questions que l'on peut poser :"
   ]
  },
  {
   "cell_type": "markdown",
   "metadata": {},
   "source": [
    "<img src='https://ntoulzac.github.io/Cours-NSI-Terminale/arbres/images/qui_est_ce1.png'>"
   ]
  },
  {
   "cell_type": "markdown",
   "metadata": {},
   "source": [
    "**(4)** Déterminer à quel personnage est associée chacune des feuilles de l'arbre."
   ]
  },
  {
   "cell_type": "markdown",
   "metadata": {},
   "source": [
    "<table class='sobre'>\n",
    "    <tr>\n",
    "        <td><img src='https://ntoulzac.github.io/Cours-NSI-Terminale/arbres/images/monstre7.png'></td>\n",
    "        <td><img src='https://ntoulzac.github.io/Cours-NSI-Terminale/arbres/images/monstre5.png'></td>\n",
    "        <td><img src='https://ntoulzac.github.io/Cours-NSI-Terminale/arbres/images/monstre3.png'></td>\n",
    "        <td><img src='https://ntoulzac.github.io/Cours-NSI-Terminale/arbres/images/monstre2.png'></td>\n",
    "        <td><img src='https://ntoulzac.github.io/Cours-NSI-Terminale/arbres/images/monstre4.png'></td>\n",
    "        <td><img src='https://ntoulzac.github.io/Cours-NSI-Terminale/arbres/images/monstre6.png'></td>\n",
    "        <td><img src='https://ntoulzac.github.io/Cours-NSI-Terminale/arbres/images/monstre8.png'></td>\n",
    "        <td><img src='https://ntoulzac.github.io/Cours-NSI-Terminale/arbres/images/monstre1.png'></td>\n",
    "    </tr>\n",
    "    <tr>\n",
    "        <td>Feuille A</td>\n",
    "        <td>Feuille B</td>\n",
    "        <td>Feuille C</td>\n",
    "        <td>Feuille D</td>\n",
    "        <td>Feuille E</td>\n",
    "        <td>Feuille F</td>\n",
    "        <td>Feuille G</td>\n",
    "        <td>Feuille H</td>\n",
    "    </tr>\n",
    "</table>"
   ]
  },
  {
   "cell_type": "markdown",
   "metadata": {},
   "source": [
    "**(5)** Représenter par un arbre un ensemble de questions permettant d'identifier n'importe quel personnage en posant un minimum de questions."
   ]
  },
  {
   "cell_type": "markdown",
   "metadata": {},
   "source": [
    "<img src='https://ntoulzac.github.io/Cours-NSI-Terminale/arbres/images/qui_est_ce2.png'>\n",
    "\n",
    "<table class='sobre'>\n",
    "    <tr>\n",
    "        <td><img src='https://ntoulzac.github.io/Cours-NSI-Terminale/arbres/images/monstre6.png'></td>\n",
    "        <td><img src='https://ntoulzac.github.io/Cours-NSI-Terminale/arbres/images/monstre8.png'></td>\n",
    "        <td><img src='https://ntoulzac.github.io/Cours-NSI-Terminale/arbres/images/monstre1.png'></td>\n",
    "        <td><img src='https://ntoulzac.github.io/Cours-NSI-Terminale/arbres/images/monstre3.png'></td>\n",
    "        <td><img src='https://ntoulzac.github.io/Cours-NSI-Terminale/arbres/images/monstre7.png'></td>\n",
    "        <td><img src='https://ntoulzac.github.io/Cours-NSI-Terminale/arbres/images/monstre4.png'></td>\n",
    "        <td><img src='https://ntoulzac.github.io/Cours-NSI-Terminale/arbres/images/monstre5.png'></td>\n",
    "        <td><img src='https://ntoulzac.github.io/Cours-NSI-Terminale/arbres/images/monstre2.png'></td>\n",
    "    </tr>\n",
    "    <tr>\n",
    "        <td>Feuille A</td>\n",
    "        <td>Feuille B</td>\n",
    "        <td>Feuille C</td>\n",
    "        <td>Feuille D</td>\n",
    "        <td>Feuille E</td>\n",
    "        <td>Feuille F</td>\n",
    "        <td>Feuille G</td>\n",
    "        <td>Feuille H</td>\n",
    "    </tr>\n",
    "</table>"
   ]
  },
  {
   "cell_type": "markdown",
   "metadata": {},
   "source": [
    "## Partie B - Arbres binaires"
   ]
  },
  {
   "cell_type": "markdown",
   "metadata": {},
   "source": [
    "Un **arbre binaire** est un arbre dans lequel tous les nœuds sont de degré inférieur ou égal à 2 et possèdent donc au plus deux enfants, appelés **enfant gauche** et **enfant droit**. Il s'agit d'une structure récursive puisque les enfants de la racine sont eux-mêmes la racine de nouveaux arbres binaires (éventuellement vides) appelés respectivement **sous-arbre gauche** et **sous-arbre droit**."
   ]
  },
  {
   "cell_type": "markdown",
   "metadata": {},
   "source": [
    "### Implémentation avec un tableau"
   ]
  },
  {
   "cell_type": "markdown",
   "metadata": {},
   "source": [
    "Une première façon de représenter un arbre binaire en mémoire est d'utiliser un tableau en respectant les règles suivantes :\n",
    "- si `h` désigne la hauteur de l'arbre binaire (en considérant qu'un arbre réduit à sa racine est de hauteur 1), alors la longueur du tableau est `2**h`.\n",
    "- l'indice `0` du tableau n'est pas utilisé, on y stocke la valeur `None`,\n",
    "- la racine de l'arbre est placée à l'indice `1`,\n",
    "- l'enfant gauche (s'il existe) du nœud stocké à l'indice `k` est stocké à l'indice `2*k`,\n",
    "- l'enfant droit (s'il existe) du nœud stocké à l'indice `k` est stocké à l'indice `2*k + 1`,\n",
    "- lorsqu'un nœud n'a pas d'enfant gauche et/ou d'enfant droit, on stocke `None` à l'indice correspondant.\n",
    "\n",
    "**(6)** On suppose qu'on représente en mémoire par un tableau l'arbre dessiné ci-dessous. Ecrire pour chaque nœud de l'arbre quel est l'indice qui lui est attribué dans le tableau."
   ]
  },
  {
   "cell_type": "markdown",
   "metadata": {},
   "source": [
    "<img src='https://ntoulzac.github.io/Cours-NSI-Terminale/arbres/images/parcours_AB_largeur.png'>"
   ]
  },
  {
   "cell_type": "markdown",
   "metadata": {},
   "source": [
    "**(7)** Représenter sous forme de tableau le second arbre de l'activité *Qui est-ce ?*."
   ]
  },
  {
   "cell_type": "code",
   "execution_count": 3,
   "metadata": {},
   "outputs": [],
   "source": [
    "arbre = [None, 'Crête ?',\n",
    "         'Orange ?', 'Cornes ?',\n",
    "         'Un oeil ?', 'Jaune ?', 'Trois yeux ?', 'Bleu ?',\n",
    "         'A', 'B', 'C', 'D', 'E', 'F', 'G', 'H']"
   ]
  },
  {
   "cell_type": "markdown",
   "metadata": {},
   "source": [
    "**(8)** Quelle serait la longueur du tableau représentant le premier arbre de l'activité *Qui est-ce ?*."
   ]
  },
  {
   "cell_type": "markdown",
   "metadata": {},
   "source": [
    "<div class='rq'>Puisque l'arbre en question est de hauteur 6, il serait représenté par un tableau de longueur $2^6=64$.</div>"
   ]
  },
  {
   "cell_type": "markdown",
   "metadata": {},
   "source": [
    "### Implémentation avec deux classes `Noeud` et `ArbreBinaire`"
   ]
  },
  {
   "cell_type": "markdown",
   "metadata": {},
   "source": [
    "On donne la définition d'une classe `Noeud` et d'une classe `ArbreBinaire`."
   ]
  },
  {
   "cell_type": "code",
   "execution_count": 78,
   "metadata": {},
   "outputs": [],
   "source": [
    "class Noeud:\n",
    "    def __init__(self, etiquette, gauche=None, droit=None):\n",
    "        \"\"\"\n",
    "        Crée une instance de la classe Noeud.\n",
    "        - Entrées : etiquette (type quelconque)\n",
    "                    gauche, droit (instances de la classe Noeud, ou None en l'absence d'enfant)\n",
    "        \"\"\"\n",
    "        self.etiquette = etiquette\n",
    "        self.gauche = gauche\n",
    "        self.droit = droit\n",
    "        \n",
    "    def est_feuille(self):\n",
    "        \"\"\"\n",
    "        Détermine si le noeud est une feuille.\n",
    "        - Sortie : (booléen, True si le noeud est une feuille, False sinon)\n",
    "        \"\"\"\n",
    "        return self.gauche is None and self.droit is None"
   ]
  },
  {
   "cell_type": "code",
   "execution_count": 35,
   "metadata": {},
   "outputs": [],
   "source": [
    "class ArbreBinaire:\n",
    "    def __init__(self, racine):\n",
    "        \"\"\"\n",
    "        Crée une instance de la classe ArbreBinaire.\n",
    "        - Entrée : racine (instance de la classe Noeud, ou None pour un arbre vide)\n",
    "        \"\"\"\n",
    "        self.racine = racine\n",
    "    \n",
    "    def est_vide(self):\n",
    "        \"\"\"\n",
    "        Détermine si l'arbre est vide.\n",
    "        - Sortie : (booléen, True si l'arbre est vide, False sinon)\n",
    "        \"\"\"\n",
    "        return self.racine is None \n",
    "    \n",
    "    def sa_gauche(self):\n",
    "        \"\"\"\n",
    "        Renvoie le sous-arbre gauche.\n",
    "        - Sortie : (instance de la classe ArbreBinaire)\n",
    "        \"\"\"\n",
    "        if self.est_vide():\n",
    "            raise IndexError('l\\'arbre est vide')\n",
    "        return ArbreBinaire(self.racine.gauche)\n",
    "    \n",
    "    def sa_droit(self):\n",
    "        \"\"\"\n",
    "        Renvoie le sous-arbre droit.\n",
    "        - Sortie : (instance de la classe ArbreBinaire)\n",
    "        \"\"\"\n",
    "        if self.est_vide():\n",
    "            raise IndexError('l\\'arbre est vide')\n",
    "        return ArbreBinaire(self.racine.droit)\n",
    "\n",
    "    def est_feuille(self):\n",
    "        \"\"\"\n",
    "        Détermine si l'arbre est réduit à sa racine.\n",
    "        - Sortie : (booléen, True si l'arbre est une feuille, False sinon)\n",
    "        \"\"\"\n",
    "        return self.sa_gauche().est_vide() and self.sa_droit().est_vide()\n",
    "    \n",
    "    def taille(self):\n",
    "        \"\"\"\n",
    "        Détermine la taille d'un arbre binaire.\n",
    "        - Sortie : (entier)\n",
    "        \"\"\"\n",
    "        if self.est_vide():\n",
    "            return 0\n",
    "        else:\n",
    "            return 1 + self.sa_gauche().taille() + self.sa_droit() .taille()\n",
    "    \n",
    "    def hauteur(self):\n",
    "        \"\"\"\n",
    "        Détermine la hauteur d'un arbre binaire.\n",
    "        - Sortie : (entier)\n",
    "        On considère que la hauteur d'un arbre réduit à sa racine est 1.\n",
    "        \"\"\"\n",
    "        if self.est_vide():\n",
    "            return 0\n",
    "        else:\n",
    "            return 1 + max(self.sa_gauche().hauteur(), self.sa_droit().hauteur())"
   ]
  },
  {
   "cell_type": "markdown",
   "metadata": {},
   "source": [
    "**(9)** Ecrire la spécification des méthodes définies ci-dessus."
   ]
  },
  {
   "cell_type": "markdown",
   "metadata": {},
   "source": [
    "**(10)** Dessiner l'arbre `arbre` défini dans la cellule ci-dessous."
   ]
  },
  {
   "cell_type": "code",
   "execution_count": 37,
   "metadata": {},
   "outputs": [],
   "source": [
    "feuille_A = Noeud('A')\n",
    "feuille_B = Noeud('B')\n",
    "feuille_C = Noeud('C')\n",
    "feuille_D = Noeud('D')\n",
    "feuille_E = Noeud('E')\n",
    "feuille_F = Noeud('F')\n",
    "feuille_G = Noeud('G')\n",
    "feuille_H = Noeud('H')\n",
    "ab_3 = Noeud('Un oeil ?', feuille_A, feuille_B)\n",
    "ab_4 = Noeud('Jaune ?', feuille_C, feuille_D)\n",
    "ab_5 = Noeud('Trois yeux ?', feuille_E, feuille_F)\n",
    "ab_6 = Noeud('Bleu ?', feuille_G, feuille_H)\n",
    "ab_1 = Noeud('Orange ?', ab_3, ab_4)\n",
    "ab_2 = Noeud('Cornes ?', ab_5, ab_6)\n",
    "arbre = ArbreBinaire(Noeud('Crête ?', ab_1, ab_2))"
   ]
  },
  {
   "cell_type": "markdown",
   "metadata": {},
   "source": [
    "<img src='https://ntoulzac.github.io/Cours-NSI-Terminale/arbres/images/arbre1.png'>"
   ]
  },
  {
   "cell_type": "markdown",
   "metadata": {},
   "source": [
    "**(11)** Ajouter dans la définition de la classe `ArbreBinaire` deux méthodes `taille` et `hauteur` qui retournent respectivement la taille et la hauteur de l'arbre binaire. On considèrera que la hauteur d'un arbre vide est 0 et que la hauteur d'un arbre réduit à sa racine est 1."
   ]
  },
  {
   "cell_type": "code",
   "execution_count": 38,
   "metadata": {},
   "outputs": [
    {
     "name": "stdout",
     "output_type": "stream",
     "text": [
      "La taille de l'arbre est 15 et sa hauteur est 4.\n"
     ]
    }
   ],
   "source": [
    "print(f\"La taille de l'arbre est {arbre.taille()} et sa hauteur est {arbre.hauteur()}.\")"
   ]
  },
  {
   "cell_type": "markdown",
   "metadata": {},
   "source": [
    "### Parcours d'un arbre binaire en largeur"
   ]
  },
  {
   "cell_type": "markdown",
   "metadata": {},
   "source": [
    "Une première façon de parcourir les noeuds d'un arbre s'appelle le **parcours en largeur** (parfois appelé BFS, de l'anglais *breadth-first search*).\n",
    "\n",
    "Le principe est d'explorer, à partir de la racine de l'arbre, les noeuds de profondeur 1 de gauche à droite, puis les noeuds de profondeur 2 de gauche à droite, puis les noeuds de profondeur 3 de gauche à droite,*etc.* Une file est utilisée pour stocker les noeuds à explorer."
   ]
  },
  {
   "cell_type": "markdown",
   "metadata": {},
   "source": [
    "<div class = 'rq3'>\n",
    "    <p><b>Algorithme de parcours d'un <code>arbre</code> binaire en largeur.</b></p>\n",
    "<p><b>Début</b></p>\n",
    "<p STYLE=\"padding:0 0 0 40px;\"><code>f</code> ← file vide</p>\n",
    "    <p STYLE=\"padding:0 0 0 40px;\">Enfiler la racine de l'<code>arbre</code> dans <code>f</code></p>\n",
    "<p STYLE=\"padding:0 0 0 40px;\">Tant que <code>f</code> n'est pas vide, faire</p>\n",
    "    <p STYLE=\"padding:0 0 0 80px;\"><code>noeud</code> ← Défiler un élément de <code>f</code></p>\n",
    "        <p STYLE=\"padding:0 0 0 80px;\">Marquer le <code>noeud</code></p>\n",
    "    <p STYLE=\"padding:0 0 0 80px;\">Enfiler l'éventuel enfant gauche de <code>noeud</code> dans <code>f</code></p>\n",
    "    <p STYLE=\"padding:0 0 0 80px;\">Enfiler l'éventuel enfant droit de <code>noeud</code> dans <code>f</code></p>\n",
    "    <p STYLE=\"padding:0 0 0 40px;\">Fin Tant que</p>\n",
    "<p><b>Fin</b></p>\n",
    "</div>"
   ]
  },
  {
   "cell_type": "markdown",
   "metadata": {},
   "source": [
    "**(12)** Numéroter les noeuds de l'arbre ci-dessous de 1 à 15, dans l'ordre où ils sont marqués lors d'un parcours en largeur."
   ]
  },
  {
   "cell_type": "markdown",
   "metadata": {},
   "source": [
    "<img src='https://ntoulzac.github.io/Cours-NSI-Terminale/arbres/images/parcours_AB_largeur.png'>\n",
    "<br><center><i>Ordre de marquage des noeuds lors d'un parcours en largeur</i></center>"
   ]
  },
  {
   "cell_type": "markdown",
   "metadata": {},
   "source": [
    "**(13)** Implémenter l'algorithme de parcours en largeur en complétant la définition de la fonction `parcours_largeur`."
   ]
  },
  {
   "cell_type": "code",
   "execution_count": 42,
   "metadata": {},
   "outputs": [],
   "source": [
    "from structures_lineaires import File"
   ]
  },
  {
   "cell_type": "code",
   "execution_count": 46,
   "metadata": {},
   "outputs": [],
   "source": [
    "def parcours_largeur(arbre):\n",
    "    \"\"\"\n",
    "    Parcourt un arbre en largeur.\n",
    "    - Entrée : arbre (instance de la classe ArbreBinaire)\n",
    "    - Sortie : L (liste)\n",
    "    \"\"\"\n",
    "    f = File()\n",
    "    f.enfiler(arbre.racine)\n",
    "    L = []\n",
    "    while not f.est_vide():\n",
    "        noeud = f.defiler()\n",
    "        if noeud is not None:\n",
    "            L.append(noeud.etiquette)\n",
    "            f.enfiler(noeud.gauche)\n",
    "            f.enfiler(noeud.droit)\n",
    "    return L"
   ]
  },
  {
   "cell_type": "markdown",
   "metadata": {},
   "source": [
    "**(14)** Afficher l'ordre dans lequel les noeuds sont parcourus pour l'arbre suivant."
   ]
  },
  {
   "cell_type": "code",
   "execution_count": 47,
   "metadata": {},
   "outputs": [],
   "source": [
    "arbre = ArbreBinaire(Noeud('A', Noeud('B', Noeud('D'), Noeud('E')), Noeud('C', Noeud('F'), Noeud('G'))))"
   ]
  },
  {
   "cell_type": "code",
   "execution_count": 48,
   "metadata": {},
   "outputs": [
    {
     "name": "stdout",
     "output_type": "stream",
     "text": [
      "['A', 'B', 'C', 'D', 'E', 'F', 'G']\n"
     ]
    }
   ],
   "source": [
    "print(parcours_largeur(arbre))"
   ]
  },
  {
   "cell_type": "markdown",
   "metadata": {},
   "source": [
    "### Parcours d'un arbre binaire en profondeur"
   ]
  },
  {
   "cell_type": "markdown",
   "metadata": {},
   "source": [
    "Une autre façon de parcourir les noeuds d'un arbre s'appelle le **parcours en profondeur** (parfois appelé DFS, de l'anglais *depth-first search*).\n",
    "\n",
    "Le principe est d'explorer récursivement, à partir de la racine de l'arbre, l'enfant gauche puis l'enfant droit de chaque noeud. On distingue trois versions du parcours en profondeur :\n",
    "- le **parcours préfixe**, dans lequel on marque un noeud avant de parcourir ses enfants,\n",
    "- le **parcours infixe**, dans lequel on marque un noeud après avoir parcouru son enfant gauche mais avant de parcourir son enfant droit,\n",
    "- le **parcours suffixe**, dans lequel on marque un noeud après avoir parcouru ses enfants."
   ]
  },
  {
   "cell_type": "markdown",
   "metadata": {},
   "source": [
    "<div class = 'rq3'>\n",
    "    <p><b>Algorithme de parcours d'un <code>arbre</code> binaire en profondeur.</b></p>\n",
    "<p><b>Début</b></p>\n",
    "<p STYLE=\"padding:0 0 0 40px;\">Si l'<code>arbre</code> n'est pas vide alors</p>\n",
    "    <p STYLE=\"padding:0 0 0 80px;\"><i><u>Pour un parcours préfixe,</u></i> marquer ici la racine de l'<code>arbre</code></p>\n",
    "        <p STYLE=\"padding:0 0 0 80px;\">Parcourir récursivement le sous-arbre gauche de la racine de l'<code>arbre</code></p>\n",
    "    <p STYLE=\"padding:0 0 0 80px;\"><i><u>Pour un parcours infixe,</u></i> marquer ici la racine de l'<code>arbre</code></p>\n",
    "        <p STYLE=\"padding:0 0 0 80px;\">Parcourir récursivement le sous-arbre droit de la racine de l'<code>arbre</code></p>\n",
    "    <p STYLE=\"padding:0 0 0 80px;\"><i><u>Pour un parcours suffixe,</u></i> marquer ici la racine de l'<code>arbre</code></p>\n",
    "    <p STYLE=\"padding:0 0 0 40px;\">Fin Si</p>\n",
    "<p><b>Fin</b></p>\n",
    "</div>"
   ]
  },
  {
   "cell_type": "markdown",
   "metadata": {},
   "source": [
    "**(15)** Numéroter les noeuds des arbres ci-dessous de 1 à 15, dans l'ordre où ils sont marqués lors d'un parcours en profondeur préfixe, en profondeur infixe et en profondeur suffixe."
   ]
  },
  {
   "cell_type": "markdown",
   "metadata": {},
   "source": [
    "<table class='sobre'>\n",
    "    <tr>\n",
    "        <td>\n",
    "            <img src='https://ntoulzac.github.io/Cours-NSI-Terminale/arbres/images/parcours_AB_préfixe.png'>\n",
    "            <br><center><i>Ordre de marquage des noeuds lors d'un parcours en profondeur préfixe</i></center>\n",
    "        </td>\n",
    "        <td>\n",
    "            <img src='https://ntoulzac.github.io/Cours-NSI-Terminale/arbres/images/parcours_AB_infixe.png'>\n",
    "            <br><center><i>Ordre de marquage des noeuds lors d'un parcours en profondeur infixe</i></center>\n",
    "        </td>\n",
    "        <td>\n",
    "            <img src='https://ntoulzac.github.io/Cours-NSI-Terminale/arbres/images/parcours_AB_postfixe.png'>\n",
    "            <br><center><i>Ordre de marquage des noeuds lors d'un parcours en profondeur postfixe</i></center>\n",
    "        </td>\n",
    "    </tr>\n",
    "</table>"
   ]
  },
  {
   "cell_type": "markdown",
   "metadata": {},
   "source": [
    "On donne une implémentation des algorithmes de parcours en profondeur."
   ]
  },
  {
   "cell_type": "code",
   "execution_count": 55,
   "metadata": {},
   "outputs": [],
   "source": [
    "def parcours_prefixe(arbre):\n",
    "    \"\"\"\n",
    "    Parcourt un arbre en profondeur, en marquant chaque noeud avant ses enfants.\n",
    "    - Entrée : arbre (instance de la classe ArbreBinaire)\n",
    "    - Sortie : tab (tableau)\n",
    "    \"\"\"\n",
    "    if arbre.est_vide():\n",
    "        return []\n",
    "    else:\n",
    "        parcours_gauche = parcours_prefixe(arbre.sa_gauche())\n",
    "        parcours_droit = parcours_prefixe(arbre.sa_droit())\n",
    "    return [arbre.racine.etiquette] + parcours_gauche + parcours_droit"
   ]
  },
  {
   "cell_type": "code",
   "execution_count": 8,
   "metadata": {},
   "outputs": [],
   "source": [
    "def parcours_infixe(arbre):\n",
    "    \"\"\"\n",
    "    Parcourt un arbre en profondeur, en marquant chaque noeud entre ses enfants.\n",
    "    - Entrée : arbre (instance de la classe ArbreBinaire)\n",
    "    - Sortie : tab (tableau)\n",
    "    \"\"\"\n",
    "    if arbre.est_vide():\n",
    "        return []\n",
    "    else:\n",
    "        parcours_gauche = parcours_infixe(arbre.sa_gauche())\n",
    "        parcours_droit = parcours_infixe(arbre.sa_droit())\n",
    "    return parcours_gauche + [arbre.racine.etiquette] + parcours_droit"
   ]
  },
  {
   "cell_type": "code",
   "execution_count": 70,
   "metadata": {},
   "outputs": [],
   "source": [
    "def parcours_suffixe(arbre):\n",
    "    \"\"\"\n",
    "    Parcourt un arbre en profondeur, en marquant chaque noeud après ses enfants.\n",
    "    - Entrée : arbre (instance de la classe ArbreBinaire)\n",
    "    - Sortie : tab (tableau)\n",
    "    \"\"\"\n",
    "    if arbre.est_vide():\n",
    "        return []\n",
    "    else:\n",
    "        parcours_gauche = parcours_suffixe(arbre.sa_gauche())\n",
    "        parcours_droit = parcours_suffixe(arbre.sa_droit())\n",
    "    return parcours_gauche + parcours_droit + [arbre.racine.etiquette]"
   ]
  },
  {
   "cell_type": "markdown",
   "metadata": {},
   "source": [
    "**(16)** Afficher l'ordre dans lequel les noeuds sont parcourus pour l'arbre suivant, pour chacun des trois types de parcours en profondeur."
   ]
  },
  {
   "cell_type": "code",
   "execution_count": 71,
   "metadata": {},
   "outputs": [],
   "source": [
    "arbre = ArbreBinaire(Noeud('A', Noeud('B', Noeud('D'), Noeud('E')), Noeud('C', Noeud('F'), Noeud('G'))))"
   ]
  },
  {
   "cell_type": "code",
   "execution_count": 72,
   "metadata": {},
   "outputs": [
    {
     "name": "stdout",
     "output_type": "stream",
     "text": [
      "['A', 'B', 'D', 'E', 'C', 'F', 'G']\n"
     ]
    }
   ],
   "source": [
    "print(parcours_prefixe(arbre))"
   ]
  },
  {
   "cell_type": "code",
   "execution_count": 73,
   "metadata": {},
   "outputs": [
    {
     "name": "stdout",
     "output_type": "stream",
     "text": [
      "['D', 'B', 'E', 'A', 'F', 'C', 'G']\n"
     ]
    }
   ],
   "source": [
    "print(parcours_infixe(arbre))"
   ]
  },
  {
   "cell_type": "code",
   "execution_count": 74,
   "metadata": {},
   "outputs": [
    {
     "name": "stdout",
     "output_type": "stream",
     "text": [
      "['D', 'E', 'B', 'F', 'G', 'C', 'A']\n"
     ]
    }
   ],
   "source": [
    "print(parcours_profondeur_suffixe(arbre))"
   ]
  },
  {
   "cell_type": "markdown",
   "metadata": {},
   "source": [
    "### Relation entre la taille et la hauteur d'un arbre binaire"
   ]
  },
  {
   "cell_type": "markdown",
   "metadata": {},
   "source": [
    "Parmi les arbres binaires, on distingue deux types particuliers :\n",
    "- les **arbres dégénérés (ou filiformes)** sont ceux pour lesquels la racine et chaque noeud interne ne possède qu'un seul enfant,\n",
    "- les **arbres parfaits** sont ceux pour lesquels la racine et tous les noeuds internes possèdent deux enfants et toutes les feuilles sont à la même profondeur.\n",
    "\n",
    "**(17)** Dessiner un exemple d'arbre dégénéré et un exemple d'arbre parfait, tous les deux de hauteur 4. Déterminer ensuite la taille de chacun des deux arbres."
   ]
  },
  {
   "cell_type": "markdown",
   "metadata": {},
   "source": [
    "<div>\n",
    "    <table class='sobre'>\n",
    "        <tr>\n",
    "            <td><img src='https://ntoulzac.github.io/Cours-NSI-Terminale/arbres/images/arbre_dégénéré.png'><br><center><i>Arbre dégénéré de hauteur 4 et de taille 4</i></center></td>\n",
    "            <td><img src='https://ntoulzac.github.io/Cours-NSI-Terminale/arbres/images/arbre_parfait.png'><br><center><i>Arbre parfait de hauteur 4 et de taille 15</i></center></td>\n",
    "        </tr>\n",
    "    </table> \n",
    "</div>"
   ]
  },
  {
   "cell_type": "markdown",
   "metadata": {},
   "source": [
    "Un arbre dégénéré de hauteur $h$ a une taille égale à $h$, puisque chaque profondeur d'un tel arbre contient un noeud et un seul.\n",
    "\n",
    "Il y a, par ailleurs, plusieurs façons de démontrer qu'un arbre parfait de hauteur $h$ a une taille égale à $2^h -1$. Nous donnerons plusieurs justifications de ce résultat en exercice.\n",
    "\n",
    "Enfin, si l'on remarque que, pour une hauteur donnée, l'arbre dégénéré est celui qui contient le moins possible de noeuds, et l'arbre parfait est celui qui en contient le plus possible, alors on obtient la relation suivante :\n",
    "\n",
    "$$h \\leq n \\leq 2^h-1$$\n",
    "\n",
    "où $n$ désigne la taille d'un arbre binaire et $h$ sa hauteur.\n",
    "\n",
    "Puisque l'écriture binaire du nombre $2^h-1$ se compose de $h$ bits, on déduit des inégalités précédentes que le nombre de bits dans l'écriture binaire de $n$ est inférieur ou égal à $h$.\n",
    "\n",
    "On obtient donc le nouvel encadrement :\n",
    "\n",
    "$$nb\\_bits(n) \\leq h \\leq n$$\n",
    "\n",
    "où $n$ désigne la taille d'un arbre binaire, $h$ sa hauteur et $nb\\_bits(n)$ le nombre de bits dans l'écriture binaire de $n$."
   ]
  },
  {
   "cell_type": "markdown",
   "metadata": {},
   "source": [
    "## Activité : Devine à quel animal je pense !"
   ]
  },
  {
   "cell_type": "code",
   "execution_count": 1,
   "metadata": {},
   "outputs": [],
   "source": [
    "from structures_hierarchiques import Noeud, ArbreBinaire"
   ]
  },
  {
   "cell_type": "markdown",
   "metadata": {},
   "source": [
    "**(18)** Définir une fonction `saisir_oui_non` qui demande à l'utilisateur de saisir au clavier `'OUI'` ou `'NON'` et qui renvoie le mot saisi."
   ]
  },
  {
   "cell_type": "code",
   "execution_count": 2,
   "metadata": {},
   "outputs": [],
   "source": [
    "def saisir_oui_non():\n",
    "    reponse = ''\n",
    "    while not reponse.upper() in ['OUI', 'NON']:\n",
    "        reponse = input('Taper OUI ou NON : ')\n",
    "    return reponse.upper()"
   ]
  },
  {
   "cell_type": "markdown",
   "metadata": {},
   "source": [
    "**(19)** Représenter l'arbre binaire `arbre` défini dans la cellule suivante."
   ]
  },
  {
   "cell_type": "code",
   "execution_count": 3,
   "metadata": {},
   "outputs": [],
   "source": [
    "enfant_gauche = Noeud('A-t-il quatre pattes ?', Noeud('un chien'), Noeud('une poule'))\n",
    "enfant_droit = Noeud('Est-ce un animal terrestre ?', Noeud('un lion'), Noeud('une baleine'))\n",
    "arbre = ArbreBinaire(Noeud('Est-ce un animal domestique ?', enfant_gauche, enfant_droit))"
   ]
  },
  {
   "cell_type": "markdown",
   "metadata": {},
   "source": [
    "<img src='https://ntoulzac.github.io/Cours-NSI-Terminale/arbres/images/arbre_animaux_1.png'>"
   ]
  },
  {
   "cell_type": "markdown",
   "metadata": {},
   "source": [
    "On souhaite maintenant définir une fonction `deviner_animal` qui prend en paramètre d'entrée un arbre binaire dont les noeuds internes sont des questions et les feuilles des animaux. L'objectif est qu'un appel à la fonction `deviner_animal` entraîne un dialogue entre l'ordinateur et le joueur, du type :\n",
    "\n",
    "<table class='dialogue'>\n",
    "    <tr>\n",
    "        <td><b>Ordinateur</b></td>\n",
    "        <td>Pense à un animal.</td>\n",
    "    </tr>\n",
    "        <tr>\n",
    "        <td><b>Ordinateur</b></td>\n",
    "        <td>Est-ce un animal domestique ?</td>\n",
    "    </tr>\n",
    "        <tr>\n",
    "        <td><b>Joueur</b></td>\n",
    "        <td>NON</td>\n",
    "    </tr>\n",
    "        <tr>\n",
    "        <td><b>Ordinateur</b></td>\n",
    "        <td>Est-ce un animal terrestre ?</td>\n",
    "    </tr>\n",
    "        <tr>\n",
    "        <td><b>Joueur</b></td>\n",
    "        <td>OUI</td>\n",
    "    </tr>\n",
    "        <tr>\n",
    "        <td><b>Ordinateur</b></td>\n",
    "        <td>Penses-tu à un lion ?</td>\n",
    "    </tr>\n",
    "        <tr>\n",
    "        <td><b>Joueur</b></td>\n",
    "        <td>NON</td>\n",
    "    </tr>\n",
    "    </tr>\n",
    "        <tr>\n",
    "        <td><b>Ordinateur</b></td>\n",
    "        <td>À quel animal penses-tu ?</td>\n",
    "    </tr>\n",
    "        <tr>\n",
    "        <td><b>Joueur</b></td>\n",
    "        <td>une girafe</td>\n",
    "    </tr>\n",
    "        <tr>\n",
    "        <td><b>Ordinateur</b></td>\n",
    "        <td>Propose une question qui m'aurait permis de distinguer une girafe et un lion.</td>\n",
    "    </tr>\n",
    "        <tr>\n",
    "        <td><b>Joueur</b></td>\n",
    "        <td>Est-il herbivore ?</td>\n",
    "    </tr>\n",
    "</table>\n",
    "\n",
    "Dans le cas où l'ordinateur ne devine pas l'animal auquel pensait le joueur, on complète l'arbre en y insérant la nouvelle question et le nouvel animal."
   ]
  },
  {
   "cell_type": "markdown",
   "metadata": {},
   "source": [
    "<img src='https://ntoulzac.github.io/Cours-NSI-Terminale/arbres/images/arbre_animaux_2.png'>"
   ]
  },
  {
   "cell_type": "markdown",
   "metadata": {},
   "source": [
    "**(20)** Compléter le code de la fonction `deviner_animal`."
   ]
  },
  {
   "cell_type": "code",
   "execution_count": 4,
   "metadata": {},
   "outputs": [],
   "source": [
    "def deviner_animal(arbre):\n",
    "    \"\"\"\n",
    "    Essaie de deviner à quel animal pense le joueur.\n",
    "    En cas d'échec, complète l'arbre avec une nouvelle question et un nouvel animal.\n",
    "    - Entrée : arbre (instance de la classe ArbreBinaire, pour laquelle les noeuds internes sont des questions\n",
    "                      et les feuilles des noms d'animaux)\n",
    "    - Effet de bord : modification de l'arbre\n",
    "    \"\"\"\n",
    "    noeud = arbre.racine # On se place à la racine de l'arbre\n",
    "    while not noeud.est_feuille():\n",
    "        print(noeud.etiquette) # On affiche une question (c'est-à-dire l'étiquette d'un noeud interne)\n",
    "        reponse = saisir_oui_non() # Le joueur répond à la question par OUI ou par NON\n",
    "        if reponse == 'OUI':\n",
    "            noeud = noeud.gauche # On passe à l'enfant gauche du noeud (dans l'arbre, les OUI sont à gauche)\n",
    "        else:\n",
    "            noeud = noeud.droit # On passe à l'enfant droit du noeud (dans l'arbre, les NON sont à droite)\n",
    "    print(f\"Pensais-tu à... {noeud.etiquette} ?\") # On propose un animal... et on demande au joueur si c'est le bon...\n",
    "    reponse = saisir_oui_non() # Le joueur répond à la question par OUI ou par NON\n",
    "    if reponse == 'NON':\n",
    "        nouvel_animal = input('A quel animal pensais-tu ? ') # On demande au joueur de dire à quel animal il pensait...\n",
    "        question = input(f\"Propose une question qui m'aurait permis de distinguer {nouvel_animal} et {noeud.etiquette} : \")\n",
    "        # On met l'arbre à jour\n",
    "        noeud.gauche = Noeud(nouvel_animal)\n",
    "        noeud.droit = Noeud(noeud.etiquette)\n",
    "        noeud.etiquette = question"
   ]
  },
  {
   "cell_type": "code",
   "execution_count": 5,
   "metadata": {},
   "outputs": [
    {
     "name": "stdout",
     "output_type": "stream",
     "text": [
      "Est-ce un animal domestique ?\n",
      "Taper OUI ou NON : NON\n",
      "Est-ce un animal terrestre ?\n",
      "Taper OUI ou NON : OUI\n",
      "Pensais-tu à... un lion ?\n",
      "Taper OUI ou NON : NON\n",
      "A quel animal pensais-tu ? une girafe\n",
      "Propose une question qui m'aurait permis de distinguer une girafe et un lion : Est-il herbivore ?\n"
     ]
    }
   ],
   "source": [
    "deviner_animal(arbre)"
   ]
  },
  {
   "cell_type": "markdown",
   "metadata": {},
   "source": [
    "**(21)** Après avoir affiché la documentation de `enregistrer` et `charger`, qui sont deux méthodes des instances de la classe `ArbreBinaire`, modifier la définition de la fonction `deviner_animal` pour que l'arbre soit chargé depuis un fichier `animaux.txt` et que le fichier soit mis à jour à la fin de l'exécution de la fonction. La fonction `deviner_animal` ne prend pas conséquent plus de paramètre d'entrée."
   ]
  },
  {
   "cell_type": "code",
   "execution_count": 24,
   "metadata": {},
   "outputs": [
    {
     "name": "stdout",
     "output_type": "stream",
     "text": [
      "Help on method enregistrer in module structures_hierarchiques:\n",
      "\n",
      "enregistrer(nom_fichier) method of structures_hierarchiques.ArbreBinaire instance\n",
      "    Enregistre l'arbre binaire dans un fichier texte.\n",
      "    - Entrée : nom_fichier (chaîne de caractères)\n",
      "    - Effet de bord : enregistrement dans un fichier\n",
      "\n"
     ]
    }
   ],
   "source": [
    "help(arbre.enregistrer)"
   ]
  },
  {
   "cell_type": "code",
   "execution_count": 25,
   "metadata": {},
   "outputs": [
    {
     "name": "stdout",
     "output_type": "stream",
     "text": [
      "Help on method charger in module structures_hierarchiques:\n",
      "\n",
      "charger(nom_fichier) method of structures_hierarchiques.ArbreBinaire instance\n",
      "    Charge un arbre binaire depuis un fichier texte.\n",
      "    - Entrée : nom_fichier (chaîne de caractères)\n",
      "    - Effet de bord : modification de l'arbre\n",
      "\n"
     ]
    }
   ],
   "source": [
    "help(arbre.charger)"
   ]
  },
  {
   "cell_type": "code",
   "execution_count": 6,
   "metadata": {},
   "outputs": [],
   "source": [
    "def deviner_animal():\n",
    "    \"\"\"\n",
    "    Essaie de deviner à quel animal pense le joueur.\n",
    "    En cas d'échec, complète l'arbre avec une nouvelle question et un nouvel animal.\n",
    "    - Effet de bord : modification du fichier animaux.txt\n",
    "    \"\"\"\n",
    "    arbre = ArbreBinaire(None)\n",
    "    arbre.charger('animaux.txt')\n",
    "    noeud = arbre.racine # On se place à la racine de l'arbre\n",
    "    while not noeud.est_feuille():\n",
    "        print(noeud.etiquette) # On affiche une question (c'est-à-dire l'étiquette d'un noeud interne)\n",
    "        reponse = saisir_oui_non() # Le joueur répond à la question par OUI ou par NON\n",
    "        if reponse == 'OUI':\n",
    "            noeud = noeud.gauche # On passe à l'enfant gauche du noeud (dans l'arbre, les OUI sont à gauche)\n",
    "        else:\n",
    "            noeud = noeud.droit # On passe à l'enfant droit du noeud (dans l'arbre, les NON sont à droite)\n",
    "    print(f\"Pensais-tu à... {noeud.etiquette} ?\") # On propose un animal... et on demande au joueur si c'est le bon...\n",
    "    reponse = saisir_oui_non() # Le joueur répond à la question par OUI ou par NON\n",
    "    if reponse == 'NON':\n",
    "        nouvel_animal = input('A quel animal pensais-tu ? ') # On demande au joueur de dire à quel animal il pensait...\n",
    "        question = input(f\"Propose une question qui m'aurait permis de distinguer {nouvel_animal} et {noeud.etiquette} : \")\n",
    "        # On met l'arbre à jour\n",
    "        noeud.gauche = Noeud(nouvel_animal)\n",
    "        noeud.droit = Noeud(noeud.etiquette)\n",
    "        noeud.etiquette = question\n",
    "        arbre.enregistrer('animaux.txt')"
   ]
  },
  {
   "cell_type": "markdown",
   "metadata": {},
   "source": [
    "## Exercices"
   ]
  },
  {
   "cell_type": "markdown",
   "metadata": {},
   "source": [
    "### Exercice 1"
   ]
  },
  {
   "cell_type": "markdown",
   "metadata": {},
   "source": [
    "**(1)** Représenter l'arbre ci-dessous sous la forme d'un tableau `tab`."
   ]
  },
  {
   "cell_type": "markdown",
   "metadata": {},
   "source": [
    "<img src='https://ntoulzac.github.io/Cours-NSI-Terminale/arbres/images/arbre2.png'>"
   ]
  },
  {
   "cell_type": "code",
   "execution_count": 27,
   "metadata": {},
   "outputs": [],
   "source": [
    "tab = [None, 20, 8, 12, 3, 5, 7, 5, None, None, None, None, None, None, 2, 3]"
   ]
  },
  {
   "cell_type": "markdown",
   "metadata": {},
   "source": [
    "**(2)** Dessiner l'arbre binaire représenté par le tableau `tab2`."
   ]
  },
  {
   "cell_type": "code",
   "execution_count": 28,
   "metadata": {},
   "outputs": [],
   "source": [
    "tab2 = [None, 'Édouard III', 'Édouard II', 'Isabelle de France',\n",
    "        'Édouard I', 'Éleonor de Castille', 'Philippe IV', 'Jeanne de Navarre']"
   ]
  },
  {
   "cell_type": "markdown",
   "metadata": {},
   "source": [
    "<img src='https://ntoulzac.github.io/Cours-NSI-Terminale/arbres/images/arbre_edouardIII.png'>"
   ]
  },
  {
   "cell_type": "markdown",
   "metadata": {},
   "source": [
    "### Exercice 2"
   ]
  },
  {
   "cell_type": "markdown",
   "metadata": {},
   "source": [
    "**(1)** Dessiner l'arbre défini dans la cellule suivante :"
   ]
  },
  {
   "cell_type": "code",
   "execution_count": 12,
   "metadata": {},
   "outputs": [],
   "source": [
    "arbre1 = ArbreBinaire(Noeud(2, Noeud(4, None, Noeud(1, Noeud(5, None, Noeud(3, None, Noeud(2))), None)), None))"
   ]
  },
  {
   "cell_type": "markdown",
   "metadata": {},
   "source": [
    "<img src='https://ntoulzac.github.io/Cours-NSI-Terminale/arbres/images/arbre3.png'>"
   ]
  },
  {
   "cell_type": "markdown",
   "metadata": {},
   "source": [
    "**(2)** Même question pour l'arbre défini dans la cellule suivante :"
   ]
  },
  {
   "cell_type": "code",
   "execution_count": 30,
   "metadata": {},
   "outputs": [],
   "source": [
    "arbre2 = ArbreBinaire(Noeud(4, Noeud(3, Noeud(6), Noeud(1)), Noeud(5, Noeud(7), Noeud(2))))"
   ]
  },
  {
   "cell_type": "markdown",
   "metadata": {},
   "source": [
    "<img src='https://ntoulzac.github.io/Cours-NSI-Terminale/arbres/images/arbre4.png'>"
   ]
  },
  {
   "cell_type": "markdown",
   "metadata": {},
   "source": [
    "### Exercice 3"
   ]
  },
  {
   "cell_type": "markdown",
   "metadata": {},
   "source": [
    "Donner l'ordre dans lequel sont marqués les noeuds de l'`arbre2` de l'exercice précédent pour :\n",
    "- un parcours en largeur,\n",
    "- un parcours en profondeur préfixe,\n",
    "- un parcours en profondeur infixe,\n",
    "- un parcours en profondeur suffixe."
   ]
  },
  {
   "cell_type": "code",
   "execution_count": 31,
   "metadata": {},
   "outputs": [],
   "source": [
    "arbre = ArbreBinaire(Noeud(4, Noeud(3, Noeud(6), Noeud(1)), Noeud(5, Noeud(7), Noeud(2))))"
   ]
  },
  {
   "cell_type": "code",
   "execution_count": 32,
   "metadata": {},
   "outputs": [
    {
     "name": "stdout",
     "output_type": "stream",
     "text": [
      "[4, 3, 5, 6, 1, 7, 2]\n"
     ]
    }
   ],
   "source": [
    "print(parcours_largeur(arbre))"
   ]
  },
  {
   "cell_type": "code",
   "execution_count": 33,
   "metadata": {},
   "outputs": [
    {
     "name": "stdout",
     "output_type": "stream",
     "text": [
      "[4, 3, 6, 1, 5, 7, 2]\n"
     ]
    }
   ],
   "source": [
    "print(parcours_profondeur_prefixe(arbre))"
   ]
  },
  {
   "cell_type": "code",
   "execution_count": 34,
   "metadata": {},
   "outputs": [
    {
     "name": "stdout",
     "output_type": "stream",
     "text": [
      "[6, 3, 1, 4, 7, 5, 2]\n"
     ]
    }
   ],
   "source": [
    "print(parcours_profondeur_infixe(arbre))"
   ]
  },
  {
   "cell_type": "code",
   "execution_count": 35,
   "metadata": {},
   "outputs": [
    {
     "name": "stdout",
     "output_type": "stream",
     "text": [
      "[6, 1, 3, 7, 2, 5, 4]\n"
     ]
    }
   ],
   "source": [
    "print(parcours_profondeur_suffixe(arbre))"
   ]
  },
  {
   "cell_type": "markdown",
   "metadata": {},
   "source": [
    "### Exercice 4"
   ]
  },
  {
   "cell_type": "markdown",
   "metadata": {},
   "source": [
    "Le but de cet exercice est de justifier que la taille d'un arbre binaire parfait de hauteur $h$ est $2^h-1$.\n",
    "\n",
    "***1e méthode*** *(pour tous les élèves)*\n",
    "\n",
    "On attribue à chaque noeud de l'arbre un nombre écrit en binaire :\n",
    "- `1` pour la racine de l'arbre,\n",
    "- l'enfant gauche d'un noeud prend le numéro de son parent suivi d'un `0`,\n",
    "- l'enfant droit d'un noeud prend le numéro de son parent suivi d'un `1`.\n",
    "\n",
    "Justifier que la taille d'un arbre binaire parfait de hauteur $h$ est $2^h-1$."
   ]
  },
  {
   "cell_type": "markdown",
   "metadata": {},
   "source": [
    "<div class='rq'>\n",
    "En numérotant les noeuds comme proposé, l'ordre des étiquettes correspond au parcours de l'arbre en largeur.<br>\n",
    "<br>\n",
    "L'étiquette de la feuille la plus à droite est <code>111...1</code> ($h$ bits dans l'écriture binaire du nombre), c'est-à-dire le nombre $2^h-1$. Ce nombre représente la taille de l'arbre, puisque ce dernier est parfait et que tous les nombres compris entre $1$ et $2^h-1$ sont attribués à une étiquette.\n",
    "</div>"
   ]
  },
  {
   "cell_type": "markdown",
   "metadata": {},
   "source": [
    "***2e méthode*** *(pour les élèves qui ont suivi la spécialité mathématiques en Première)*\n",
    "\n",
    "On note $u_k$ le nombre de noeuds de profondeur $k$ dans un arbre binaire parfait.\n",
    "\n",
    "*a)* Donner la valeur de $u_1$ et justifier que $(u_k)$ est une suite géométrique.\n",
    "\n",
    "*b)* En déduire que la taille d'un arbre binaire parfait de hauteur $h \\geq 1$ est $u_1 + u_2 + ... + u_h = 2^h-1$."
   ]
  },
  {
   "cell_type": "markdown",
   "metadata": {},
   "source": [
    "<div class='rq'>\n",
    "Un arbre binaire de hauteur 1 est réduit à sa racine. On a donc $u_1 = 1$. De plus, chaque noeud interne d'un arbre binaire parfait possède exactement deux enfants, ce qui signifie que le nombre de noeuds de profondeur $k+1$ est le double du nombre de noeuds de profondeur $k$, d'où l'égalité $u_{k+1} = 2 \\times u_k$, qui prouve que la suite $(u_k)$ est une suite géométrique de raison $2$. On a, pour tout $k \\geq 1$, $u_k = u_1 \\times 2^{k-1} = 2^{k-1}$.<br>\n",
    "    <br>\n",
    "    La taille d'un arbre de hauteur $h$ est le nombre total de noeuds aux profondeurs comprises entre $1$ et $h$. C'est donc le nombre $u_1 + u_2 + ... + u_h = 2^0 + ... + 2^{h-1}$, qui est la somme des termes d'une suite géométrique.<br>\n",
    "    D'après le cours de mathématiques, $2^0 + ... + 2^{h-1} = 2^0 \\times \\dfrac{2^h-1}{2-1}=2^h-1$.\n",
    "</div>"
   ]
  },
  {
   "cell_type": "markdown",
   "metadata": {},
   "source": [
    "***3e méthode*** *(pour les élèves qui suivent la spécialité mathématiques en Terminale)*\n",
    "\n",
    "Démontrer par récurrence sur $h$ que la taille d'un arbre binaire parfait de hauteur $h \\geq 0$ est $2^h-1$."
   ]
  },
  {
   "cell_type": "markdown",
   "metadata": {},
   "source": [
    "<div class='rq'>\n",
    "    Pour tout $h \\geq 0$, notons $P_h$ la propriété : <i>la taille d'un arbre binaire parfait de hauteur $h$ est $2^h-1$</i>.\n",
    "    <br>\n",
    "    <br>\n",
    "    <b>Initialisation :</b> Montrons que $P_0$ est vraie.<br>\n",
    "        Un arbre de hauteur $0$ est un arbre vide. Sa taille est donc bien $2^0-1=1-1=0$.\n",
    "     <br>\n",
    "    <br>\n",
    "    <b>Hérédité :</b> Supposons que $P_k$ est vraie pour un certain entier positif $k$ et montrons que $P_{k+1}$ est alors vraie aussi.<br>\n",
    "    <i>Hypothèse de récurrence :</i> la taille d'un arbre binaire parfait de hauteur $k$ est $2^k-1$.<br>\n",
    "    <i>Objectif :</i> la taille d'un arbre binaire parfait de hauteur $k+1$ est $2^{k+1}-1$.<br>\n",
    "    <br>\n",
    "    En remarquant qu'un arbre binaire parfait de hauteur $k+1$ est composé d'une racine (soit $1$ noeud) et de deux sous-arbres gauche et droit qui sont tous deux des arbres binaires parfaits de hauteur $k$ (soit $2^k-1$ noeuds chacun, par hypothèse de récurrence), on peut affirmer que la taille d'un arbre binaire parfait de hauteur $k+1$ est $1 + (2^k-1) + (2^k-1) = 2 \\times 2^k -1 = 2^{k+1} -1$.\n",
    "    <br>\n",
    "    <br>\n",
    "    <b>Conclusion :</b> Les deux étapes précédentes permettent d'affirmer, d'après le principe de récurrence, que $P_h$ est vraie pour tout $h \\geq 0$.\n",
    "</div>"
   ]
  },
  {
   "cell_type": "markdown",
   "metadata": {},
   "source": [
    "### Exercice 5"
   ]
  },
  {
   "cell_type": "markdown",
   "metadata": {},
   "source": [
    "On appelle **squelette (ou forme)** d'un arbre binaire l'arbre obtenu en retirant ses étiquettes.\n",
    "\n",
    "**(1)** Combien existe-t-il de squelettes différents d'arbres binaires de taille 2 ? de taille 3 ?"
   ]
  },
  {
   "cell_type": "markdown",
   "metadata": {},
   "source": [
    "<table class='sobre'>\n",
    "    <tr>\n",
    "        <td></td><td><img src='https://ntoulzac.github.io/Cours-NSI-Terminale/arbres/images/sq21.png'></td><td></td><td><img src='https://ntoulzac.github.io/Cours-NSI-Terminale/arbres/images/sq22.png'></td><td></td>\n",
    "    </tr>\n",
    "    <tr>\n",
    "        <td><img src='https://ntoulzac.github.io/Cours-NSI-Terminale/arbres/images/sq31.png'></td><td><img src='https://ntoulzac.github.io/Cours-NSI-Terminale/arbres/images/sq32.png'></td><td><img src='https://ntoulzac.github.io/Cours-NSI-Terminale/arbres/images/sq33.png'></td><td><img src='https://ntoulzac.github.io/Cours-NSI-Terminale/arbres/images/sq34.png'></td><td><img src='https://ntoulzac.github.io/Cours-NSI-Terminale/arbres/images/sq35.png'></td>\n",
    "    </tr>\n",
    "</table>"
   ]
  },
  {
   "cell_type": "markdown",
   "metadata": {},
   "source": [
    "<div class='rq'>Il existe deux squelettes différents d'arbres binaires de taille 2 et cinq squelettes d'arbres binaires de taille 3.</div>"
   ]
  },
  {
   "cell_type": "markdown",
   "metadata": {},
   "source": [
    "**(2)** Sachant qu'il existe un seul squelette d'arbre binaire vide, un seul squelette d'arbre binaire de taille 1 et 14 squelettes d'arbres binaires de taille 4, déterminer combien il existe de squelettes d'arbres binaires de taille 5."
   ]
  },
  {
   "cell_type": "markdown",
   "metadata": {},
   "source": [
    "<div class='rq'>On liste les façons dont peuvent être composés les enfants gauche et droit d'un arbre binaire de taille 5 :\n",
    "<ul>\n",
    "    <li><b>Cas 1 : </b>un enfant gauche de taille 4 (soit 14 squelettes) et un enfant droit de taille 0 (soit 1 squelette), et donc 14 squelettes possibles,</li>\n",
    "    <li><b>Cas 2 : </b>un enfant gauche de taille 3 (soit 5 squelettes) et un enfant droit de taille 1 (soit 1 squelette), et donc 5 squelettes possibles,</li>\n",
    "    <li><b>Cas 3 : </b>un enfant gauche de taille 2 (soit 2 squelettes) et un enfant droit de taille 2 (soit 2 squelettes), et donc 4 squelettes possibles,</li>\n",
    "    <li><b>Cas 4 : </b>un enfant gauche de taille 1 (soit 1 squelette) et un enfant droit de taille 3 (soit 5 squelettes), et donc 5 squelettes possibles,</li>\n",
    "    <li><b>Cas 5 : </b>un enfant gauche de taille 0 (soit 1 squelette) et un enfant droit de taille 4 (soit 14 squelettes), et donc 14 squelettes possibles.</li>\n",
    "</ul>\n",
    "    Au total, on compte 42 squelettes différents d'arbres binaires de taille 5.\n",
    "</div>"
   ]
  },
  {
   "cell_type": "markdown",
   "metadata": {},
   "source": [
    "**(3)** Déterminer le nombre de squelettes d'arbres binaires de taille 20."
   ]
  },
  {
   "cell_type": "code",
   "execution_count": 36,
   "metadata": {},
   "outputs": [],
   "source": [
    "def nb_squelettes(n):\n",
    "    if n <= 1:\n",
    "        return 1\n",
    "    else:\n",
    "        cpt = 0\n",
    "        for n_gauche in range(n):\n",
    "            n_droit = n - 1 - n_gauche\n",
    "            cpt = cpt + nb_squelettes(n_gauche)*nb_squelettes(n_droit)\n",
    "        return cpt"
   ]
  },
  {
   "cell_type": "markdown",
   "metadata": {},
   "source": [
    "<div class='rq'>La définition d'une simple fonction récursive n'est pas une bonne idée ici. En effet, l'appel <code>nb_squelettes(20)</code> engendredrait un beaucoup trop grand nombre d'appels récursifs.</div>"
   ]
  },
  {
   "cell_type": "code",
   "execution_count": 37,
   "metadata": {},
   "outputs": [
    {
     "name": "stdout",
     "output_type": "stream",
     "text": [
      "Il y a 6564120420 squelettes d'arbres binaires de taille 20.\n"
     ]
    }
   ],
   "source": [
    "nb_squelettes = [1, 1]\n",
    "for n in range(2, 21):\n",
    "    cpt = 0\n",
    "    # Pour un arbre binaire de taille n, le sous-arbre gauche a une taille comprise entre 0 et n-1\n",
    "    for n_gauche in range(n):\n",
    "        n_droit = n - 1 - n_gauche\n",
    "        cpt = cpt + nb_squelettes[n_gauche]*nb_squelettes[n_droit]\n",
    "    nb_squelettes.append(cpt)\n",
    "print(f\"Il y a {nb_squelettes[20]} squelettes d'arbres binaires de taille 20.\")"
   ]
  },
  {
   "cell_type": "markdown",
   "metadata": {},
   "source": [
    "### Exercice 6"
   ]
  },
  {
   "cell_type": "markdown",
   "metadata": {},
   "source": [
    "**(1)** Dessiner l'arbre binaire dont la liste des étiquettes est :\n",
    "- `[7, 4, 3, 6, 9, 8, 12]` lorsqu'il est parcouru en profondeur préfixe,\n",
    "- `[3, 4, 6, 7, 8, 9, 12]` lorsqu'il est parcouru en profondeur infixe."
   ]
  },
  {
   "cell_type": "markdown",
   "metadata": {},
   "source": [
    "<img src='https://ntoulzac.github.io/Cours-NSI-Terminale/arbres/images/arbre8.png'>"
   ]
  },
  {
   "cell_type": "markdown",
   "metadata": {},
   "source": [
    "**(2)** Dessiner l'arbre binaire dont la liste des étiquettes est :\n",
    "- `['G', 'B', 'I', 'E', 'H', 'C', 'D', 'A', 'L', 'F', 'K', 'J']` lorsqu'il est parcouru en profondeur préfixe,\n",
    "- `['I', 'E', 'B', 'C', 'H', 'G', 'L', 'A', 'F', 'D', 'J', 'K']` lorsqu'il est parcouru en profondeur infixe."
   ]
  },
  {
   "cell_type": "markdown",
   "metadata": {},
   "source": [
    "<img src='https://ntoulzac.github.io/Cours-NSI-Terminale/arbres/images/arbre5.png'>"
   ]
  },
  {
   "cell_type": "markdown",
   "metadata": {},
   "source": [
    "**(3)** Définir une fonction `reconstruire_arbre` qui prend en paramètres d'entrée deux listes `prefixe` et `infixe` (contenant respectivement les étiquettes de l'arbre lors d'un parcours en profondeur préfixe et les étiquettes de l'arbre lors d'un parcours en profondeur infixe) et qui renvoie l'arbre correspondant (sous la forme d'une instance de la classe ArbreBinaire)."
   ]
  },
  {
   "cell_type": "code",
   "execution_count": 38,
   "metadata": {},
   "outputs": [],
   "source": [
    "def reconstruire_arbre(prefixe, infixe):\n",
    "    \"\"\"\n",
    "    Construit un arbre binaire à partir de deux listes contenant ses étiquettes dans\n",
    "    l'ordre où elles sont parcourues en profondeur préfixe et en profondeur infixe.\n",
    "    - Entrées : prefixe, infixe (listes de mêmes longueurs et contenant les mêmes éléments)\n",
    "                Attention, chaque élément ne doit figurer qu'une seule fois dans chaque liste !\n",
    "    - Sortie : (instance de la classe ArbreBinaire)\n",
    "    \"\"\"\n",
    "    def decouper_parcours_infixe(racine, infixe):\n",
    "        \"\"\"\n",
    "        Extrait du parcours infixe d'un arbre le parcours infixe de ses deux sous-arbres.\n",
    "        - Entrées : racine (étiquette de la racine de l'arbre)\n",
    "                    infixe (liste contenant les étiquettes de l'arbre parcouru en profondeur infixe)\n",
    "        - Sortie : (tuple constitué de deux listes correspondant au parcours infixe des deux sous-arbres)\n",
    "        \"\"\"\n",
    "        k = 0\n",
    "        infixeG = []\n",
    "        while infixe[k] != racine:\n",
    "            infixeG.append(infixe[k])\n",
    "            k = k + 1\n",
    "        k = k + 1\n",
    "        infixeD = []\n",
    "        while k < len(infixe):\n",
    "            infixeD.append(infixe[k])\n",
    "            k = k + 1\n",
    "        return infixeG, infixeD\n",
    "    \n",
    "    def reconstruire_racine(prefixe, infixe):\n",
    "        \"\"\"\n",
    "        Construit la racine d'un arbre binaire à partir d'un parcours préfixe et d'un parcours infixe.\n",
    "        - Entrées : prefixe, infixe (listes)\n",
    "        - Sortie : (instance de la classe Noeud)\n",
    "        \"\"\"\n",
    "        taille = len(prefixe)\n",
    "        if taille == 0:\n",
    "            return None\n",
    "        racine = prefixe[0]\n",
    "        if taille == 1:\n",
    "            return Noeud(racine)\n",
    "        infixeG, infixeD = decouper_parcours_infixe(racine, infixe)\n",
    "        prefixeG = [prefixe[k] for k in range(1, len(infixeG)+1)]\n",
    "        prefixeD = [prefixe[k] for k in range(len(infixeG)+1, taille)]\n",
    "        return Noeud(racine, reconstruire_racine(prefixeG, infixeG), reconstruire_racine(prefixeD, infixeD))\n",
    "    \n",
    "    return ArbreBinaire(reconstruire_racine(prefixe, infixe))"
   ]
  },
  {
   "cell_type": "code",
   "execution_count": 39,
   "metadata": {},
   "outputs": [],
   "source": [
    "parcours_prefixe = ['A', 'B', 'D', 'G', 'E', 'H', 'I', 'C', 'F', 'J']\n",
    "parcours_infixe = ['G', 'D', 'B', 'H', 'E', 'I', 'A', 'C', 'J', 'F']\n",
    "arbre1 = reconstruire_arbre(parcours_prefixe, parcours_infixe)"
   ]
  },
  {
   "cell_type": "code",
   "execution_count": 40,
   "metadata": {},
   "outputs": [],
   "source": [
    "parcours_prefixe = ['D', 'H', 'A', 'K', 'C', 'F', 'J', 'B', 'G', 'E', 'I', 'L']\n",
    "parcours_infixe = ['A', 'K', 'H', 'F', 'C', 'J', 'D', 'G', 'E', 'B', 'I', 'L']\n",
    "arbre2 = reconstruire_arbre(parcours_prefixe, parcours_infixe)"
   ]
  },
  {
   "cell_type": "markdown",
   "metadata": {},
   "source": [
    "<div>\n",
    "    <table class='sobre'>\n",
    "        <tr>\n",
    "            <td><img src='https://ntoulzac.github.io/Cours-NSI-Terminale/arbres/images/arbre6.png'><br><center><i>Représentation de </i><code>arbre1</code></center></td>\n",
    "            <td><img src='https://ntoulzac.github.io/Cours-NSI-Terminale/arbres/images/arbre7.png'><br><center><i>Représentation de </i><code>arbre2</code></center></td>\n",
    "        </tr>\n",
    "    </table> \n",
    "</div>"
   ]
  }
 ],
 "metadata": {
  "kernelspec": {
   "display_name": "Python 3",
   "language": "python",
   "name": "python3"
  },
  "language_info": {
   "codemirror_mode": {
    "name": "ipython",
    "version": 3
   },
   "file_extension": ".py",
   "mimetype": "text/x-python",
   "name": "python",
   "nbconvert_exporter": "python",
   "pygments_lexer": "ipython3",
   "version": "3.8.5"
  }
 },
 "nbformat": 4,
 "nbformat_minor": 4
}
