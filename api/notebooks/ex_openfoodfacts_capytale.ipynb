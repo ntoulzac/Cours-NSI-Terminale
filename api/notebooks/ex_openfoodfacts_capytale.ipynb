{
 "cells": [
  {
   "cell_type": "markdown",
   "metadata": {},
   "source": [
    "<div style='background-color: #e3a8b6;\n",
    "    border: 0.5em solid black;\n",
    "    border-radius: 0.5em;\n",
    "    padding: 1em;'>\n",
    "    <h2>Exercice</h2>\n",
    "    <h1>Composition des produits alimentaires</h1>\n",
    "</div>"
   ]
  },
  {
   "cell_type": "markdown",
   "metadata": {},
   "source": [
    "L'API [_Open Food Facts_](https://fr.openfoodfacts.org/) permet de récupérer des informations sur un produit alimentaire à partir de son numéro de code-barres. Par exemple, pour le produit dont le code-barres est `8076800376999`, il suffit d'envoyer une requête GET à l'URL [https://world.openfoodfacts.org/api/v0/product/8076800376999.json](https://world.openfoodfacts.org/api/v0/product/8076800376999.json).\n",
    "\n",
    "**(1)** ✏️ 💻 Après avoir testé la fonction `interroger_API_openfoodfacts` pour le code-barres `8076800376999`, écrire sa spécification."
   ]
  },
  {
   "cell_type": "code",
   "execution_count": null,
   "metadata": {},
   "outputs": [],
   "source": [
    "import requests"
   ]
  },
  {
   "cell_type": "code",
   "execution_count": null,
   "metadata": {},
   "outputs": [],
   "source": [
    "def interroger_API_openfoodfacts(code_barres):\n",
    "    \"\"\"\n",
    "    Spécification à écrire...\n",
    "    \"\"\"\n",
    "    reponse = requests.get(f\"https://world.openfoodfacts.org/api/v0/product/{code_barres}.json\")\n",
    "    reponse = reponse.json()\n",
    "    if reponse['status'] == 1:\n",
    "        dico = {'nom': reponse['product']['product_name'],\n",
    "                'nutriments': reponse['product']['nutriments'],\n",
    "                'nutri_score': reponse['product']['nutrition_grade_fr']}\n",
    "    else:\n",
    "        dico = {'nom': 'Produit inconnu'}\n",
    "    return dico"
   ]
  },
  {
   "cell_type": "code",
   "execution_count": null,
   "metadata": {
    "scrolled": true
   },
   "outputs": [],
   "source": []
  },
  {
   "cell_type": "markdown",
   "metadata": {},
   "source": [
    "Voici un extrait du tableau d'information nutritionnelle d'un paquet de lasagnes dont le code-barres est `8076800376999` :\n",
    "\n",
    "<table>\n",
    "    <tr>\n",
    "        <th style='text-align: center;'>Information nutritionnelle</th>\n",
    "        <th style='text-align: center;'>Pour 100 g</th>\n",
    "    </tr>\n",
    "    <tr>\n",
    "        <td style='text-align: left;'>Énergie</td>\n",
    "        <td style='text-align: center;'>1554 kJ</td>\n",
    "    </tr>\n",
    "    <tr>\n",
    "        <td style='text-align: left;'>Matières grasses</td>\n",
    "        <td style='text-align: center;'>4 g</td>\n",
    "    </tr>\n",
    "    <tr>\n",
    "        <td style='text-align: left;'><i>dont acides gras saturés</i></td>\n",
    "        <td style='text-align: center;'>1,2 g</td>\n",
    "    </tr>\n",
    "        <tr>\n",
    "        <td style='text-align: left;'>Glucides</td>\n",
    "        <td style='text-align: center;'>67,3 g</td>\n",
    "    </tr>\n",
    "    <tr>\n",
    "        <td style='text-align: left;'><i>dont sucres</i></td>\n",
    "        <td style='text-align: center;'>3 g</td>\n",
    "    </tr>\n",
    "    <tr>\n",
    "        <td style='text-align: left;'>Fibres alimentaires</td>\n",
    "        <td style='text-align: center;'>3 g</td>\n",
    "    </tr>\n",
    "    <tr>\n",
    "        <td style='text-align: left;'>Protéines</td>\n",
    "        <td style='text-align: center;'>14 g</td>\n",
    "    </tr>\n",
    "    <tr>\n",
    "        <td style='text-align: left;'>Sel</td>\n",
    "        <td style='text-align: center;'>0,075 g</td>\n",
    "    </tr>\n",
    "</table>\n",
    "\n",
    "**(2)** ✏️ Déterminer comment accéder à la quantité d'énergie, de sel, de sucres, de matières grasses, de fibres et de protéines à partir de la réponse fournie par l'API."
   ]
  },
  {
   "cell_type": "code",
   "execution_count": null,
   "metadata": {},
   "outputs": [],
   "source": [
    "\n",
    "print(f\"Quantité d'énergie ......... : {......} kJ\")\n",
    "print(f\"         de sel ............ : {......} g\")\n",
    "print(f\"         de sucres ......... : {......} g\")\n",
    "print(f\"         de matières grasses : {......} g\")\n",
    "print(f\"         de fibres ......... : {......} g\")\n",
    "print(f\"         de protéines ...... : {......} g\")"
   ]
  },
  {
   "cell_type": "markdown",
   "metadata": {},
   "source": [
    "**(3)** ✏️ 💻 Écrire la spécification de la fonction `mystere`."
   ]
  },
  {
   "cell_type": "code",
   "execution_count": null,
   "metadata": {},
   "outputs": [],
   "source": [
    "def mystere(dico, cle):\n",
    "    \"\"\"\n",
    "    Spécification à écrire...\n",
    "    \"\"\"\n",
    "    if cle in dico:\n",
    "        return dico[cle]\n",
    "    else:\n",
    "        return 0"
   ]
  },
  {
   "cell_type": "markdown",
   "metadata": {},
   "source": [
    "**(4)** 💻 Définir une fonction `composition` prenant en paramètre d'entrée un numéro de code-barres et retournant un dictionnaire dont les clés sont :\n",
    "- `'nom'` : nom du produit,\n",
    "- `'énergie'` : énergie pour 100g de produit, exprimée en kJ,\n",
    "- `'sel'` : quantité de sel pour 100g de produit, exprimée en g,\n",
    "- `'sucres'` : quantité de sucres pour 100g de produit, exprimée en g,\n",
    "- `'mat_grasses'` : quantité de matières grasses pour 100g de produit, exprimée en g,\n",
    "- `'fibres'` : quantité de fibres pour 100g de produit, exprimée en g,\n",
    "- `'protéines'` : quantité de protéines pour 100g de produit, exprimée en g."
   ]
  },
  {
   "cell_type": "code",
   "execution_count": null,
   "metadata": {},
   "outputs": [],
   "source": []
  },
  {
   "cell_type": "code",
   "execution_count": null,
   "metadata": {},
   "outputs": [],
   "source": []
  },
  {
   "cell_type": "markdown",
   "metadata": {},
   "source": [
    "**(5)** 💻 Définir une procédure `comparer_produits` qui prend en paramètre d'entrée un tableau contenant des numéros de code-barres et qui affiche :\n",
    "- le produit qui contient le plus d'énergie pour 100g,\n",
    "- le produit qui contient le moins de sel pour 100g,\n",
    "- le produit qui contient le moins de matières grasses pour 100g,\n",
    "- le produit qui contient le plus de sucres pour 100g."
   ]
  },
  {
   "cell_type": "code",
   "execution_count": null,
   "metadata": {},
   "outputs": [],
   "source": []
  },
  {
   "cell_type": "markdown",
   "metadata": {},
   "source": [
    "Vous pouvez tester votre fonction avec les produits suivants :\n",
    "\n",
    "<table>\n",
    "    <tr>\n",
    "        <th style='text-align: left;'>Nom du produit</th>\n",
    "        <th style='text-align: center;'>Granola</th>\n",
    "        <th style='text-align: center;'>Petits pois Carottes</th>\n",
    "        <th style='text-align: center;'>Paëlla</th>\n",
    "        <th style='text-align: center;'>Ice tea pêche</th>\n",
    "        <th style='text-align: center;'>Blanc de poulet</th>\n",
    "        <th style='text-align: center;'>Cassoulet</th>\n",
    "        <th style='text-align: center;'>Coquillettes</th>\n",
    "    </tr>\n",
    "    <tr>\n",
    "        <td style='text-align: left;'>Code-barres</td>\n",
    "        <td style='text-align: center;'>7622300689124</td>\n",
    "        <td style='text-align: center;'>3083680026321</td>\n",
    "        <td style='text-align: center;'>3302741859105</td>\n",
    "        <td style='text-align: center;'>5449000232465</td>\n",
    "        <td style='text-align: center;'>3095756193011</td>\n",
    "        <td style='text-align: center;'>3261055930422</td>\n",
    "        <td style='text-align: center;'>8076808140325</td>\n",
    "    </tr>\n",
    "    <tr>\n",
    "        <td style='text-align: left;'>Energie</td>\n",
    "        <td style='text-align: center;'>2108 kJ</td>\n",
    "        <td style='text-align: center;'>226 kJ</td>    \n",
    "        <td style='text-align: center;'>888 kJ</td>\n",
    "        <td style='text-align: center;'>79 kJ</td>\n",
    "        <td style='text-align: center;'>416 kJ</td>\n",
    "        <td style='text-align: center;'>480 kJ</td>\n",
    "        <td style='text-align: center;'>1521 kJ</td>\n",
    "    </tr>\n",
    "    <tr>\n",
    "        <td style='text-align: left;'>Matières grasses</td>\n",
    "        <td style='text-align: center;'>26 g</td>\n",
    "        <td style='text-align: center;'>0,5 g</td>\n",
    "        <td style='text-align: center;'>10 g</td>\n",
    "        <td style='text-align: center;'>0 g</td>\n",
    "        <td style='text-align: center;'>1,6 g</td>\n",
    "        <td style='text-align: center;'>4,7 g</td>\n",
    "        <td style='text-align: center;'>2 g</td>\n",
    "    </tr>\n",
    "    <tr>\n",
    "        <td style='text-align: left;'><i>dont acides gras saturés</i></td>\n",
    "        <td style='text-align: center;'>14 g</td>\n",
    "        <td style='text-align: center;'>0,1 g</td>\n",
    "        <td style='text-align: center;'>2,8 g</td>\n",
    "        <td style='text-align: center;'>0 g</td>\n",
    "        <td style='text-align: center;'>0,4 g</td>\n",
    "        <td style='text-align: center;'>1,8 g</td>\n",
    "        <td style='text-align: center;'>0,5 g</td>\n",
    "    </tr>\n",
    "    <tr>\n",
    "        <td style='text-align: left;'>Glucides</td>\n",
    "        <td style='text-align: center;'>61 g</td>\n",
    "        <td style='text-align: center;'>7,2 g</td>\n",
    "        <td style='text-align: center;'>16 g</td>\n",
    "        <td style='text-align: center;'>4,3 g</td>\n",
    "        <td style='text-align: center;'>0,5 g</td>\n",
    "        <td style='text-align: center;'>8,9 g</td>\n",
    "        <td style='text-align: center;'>71,2 g</td>\n",
    "    </tr>\n",
    "    <tr>\n",
    "        <td style='text-align: left;'><i>dont sucres</i></td>\n",
    "        <td style='text-align: center;'>36 g</td>\n",
    "        <td style='text-align: center;'>3,4 g</td>\n",
    "        <td style='text-align: center;'>0,6 g</td>\n",
    "        <td style='text-align: center;'>4,3 g</td>\n",
    "        <td style='text-align: center;'>0,5 g</td>\n",
    "        <td style='text-align: center;'>0,6 g</td>\n",
    "        <td style='text-align: center;'>3,5 g</td>\n",
    "    </tr>\n",
    "    <tr>\n",
    "        <td style='text-align: left;'>Fibres alimentaires</td>\n",
    "        <td style='text-align: center;'>2,9 g</td>\n",
    "        <td style='text-align: center;'>4,5 g</td>\n",
    "        <td style='text-align: center;'>1,2 g</td>\n",
    "        <td style='text-align: center;'>0 g</td>\n",
    "        <td style='text-align: center;'>0 g</td>\n",
    "        <td style='text-align: center;'>3,8 g</td>\n",
    "        <td style='text-align: center;'>3 g</td>\n",
    "    </tr>\n",
    "    <tr>\n",
    "        <td style='text-align: left;'>Protéines</td>\n",
    "        <td style='text-align: center;'>4,5 g</td> \n",
    "        <td style='text-align: center;'>2,9 g</td>\n",
    "        <td style='text-align: center;'>10 g</td>\n",
    "        <td style='text-align: center;'>0 g</td>\n",
    "        <td style='text-align: center;'>21 g</td>\n",
    "        <td style='text-align: center;'>7,3 g</td>\n",
    "        <td style='text-align: center;'>12,5 g</td>\n",
    "    </tr>\n",
    "    <tr>\n",
    "        <td style='text-align: left;'>Sel</td>\n",
    "        <td style='text-align: center;'>1,05 g</td>\n",
    "        <td style='text-align: center;'>0,57 g</td>\n",
    "        <td style='text-align: center;'>0,8 g</td>\n",
    "        <td style='text-align: center;'>0,03 g</td>\n",
    "        <td style='text-align: center;'>1,8 g</td>\n",
    "        <td style='text-align: center;'>0,81 g</td>\n",
    "        <td style='text-align: center;'>0,013 g</td>\n",
    "    </tr>\n",
    "</table>"
   ]
  },
  {
   "cell_type": "code",
   "execution_count": null,
   "metadata": {},
   "outputs": [],
   "source": []
  }
 ],
 "metadata": {
  "kernelspec": {
   "display_name": "Python 3",
   "language": "python",
   "name": "python3"
  },
  "language_info": {
   "codemirror_mode": {
    "name": "ipython",
    "version": 3
   },
   "file_extension": ".py",
   "mimetype": "text/x-python",
   "name": "python",
   "nbconvert_exporter": "python",
   "pygments_lexer": "ipython3",
   "version": "3.8.5"
  }
 },
 "nbformat": 4,
 "nbformat_minor": 2
}
