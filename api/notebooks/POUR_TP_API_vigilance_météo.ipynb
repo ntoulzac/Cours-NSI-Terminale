{
 "cells": [
  {
   "cell_type": "markdown",
   "metadata": {},
   "source": [
    "<div style='background-color: lightgrey;\n",
    "    border: 0.5em solid black;\n",
    "    border-radius: 0.5em;\n",
    "    padding: 1em;'>\n",
    "    <h2>Activité 01-XX</h2>\n",
    "    <h1>La carte de vigilance météorologique</h1>\n",
    "</div>"
   ]
  },
  {
   "cell_type": "code",
   "execution_count": 178,
   "metadata": {},
   "outputs": [],
   "source": [
    "import requests"
   ]
  },
  {
   "cell_type": "code",
   "execution_count": 197,
   "metadata": {},
   "outputs": [],
   "source": [
    "def interroger_API_vigilance_meteo():\n",
    "    url = \"\"\"https://public.opendatasoft.com/api/records/1.0/search/?dataset=vigilance-meteorologique&q=&rows=110\"\"\"\n",
    "    reponse = requests.get(url)\n",
    "    reponse = reponse.json()\n",
    "    tableau = []\n",
    "    for elem in reponse['records']:\n",
    "        dico = {'nom_dep' : elem['fields']['nom_dept'],\n",
    "                'couleur' : elem['fields']['couleur'],\n",
    "                'contour' : elem['fields']['geo_shape']}\n",
    "        if dico['couleur'] != 'Vert':\n",
    "            dico['risque'] = 'risque ' + elem['fields']['risque_valeur'].lower()\n",
    "        tableau.append(dico)\n",
    "    return tableau"
   ]
  },
  {
   "cell_type": "code",
   "execution_count": 198,
   "metadata": {},
   "outputs": [],
   "source": [
    "donnees = interroger_API_vigilance_meteo()"
   ]
  },
  {
   "cell_type": "code",
   "execution_count": 199,
   "metadata": {},
   "outputs": [],
   "source": [
    "import folium"
   ]
  },
  {
   "cell_type": "code",
   "execution_count": 200,
   "metadata": {},
   "outputs": [],
   "source": [
    "COULEURS = {'Vert': lambda x: {'color': '#000000', 'weight': 1, 'fillColor': '#008000', 'fillOpacity': 1},\n",
    "            'Jaune': lambda x: {'color': '#000000', 'weight': 1, 'fillColor': '#ffff00', 'fillOpacity': 1},\n",
    "            'Orange': lambda x: {'color': '#000000', 'weight': 1, 'fillColor': '#ff5e13', 'fillOpacity': 1},\n",
    "            'Rouge': lambda x: {'color': '#000000', 'weight': 1, 'fillColor': '#ff0000', 'fillOpacity': 1}}"
   ]
  },
  {
   "cell_type": "code",
   "execution_count": 201,
   "metadata": {},
   "outputs": [],
   "source": [
    "def creer_carte_vigilance(donnees):\n",
    "    carte = folium.Map(location=(46.513 ,2.576), tiles=None, zoom_start=6)\n",
    "    for elem in donnees:\n",
    "        couleur = COULEURS[elem['couleur']]\n",
    "        if elem['couleur'] != 'Vert':\n",
    "            message = f\"{elem['nom_dep']} : {elem['risque']}\"\n",
    "        else:\n",
    "            message = None\n",
    "        folium.GeoJson(elem['contour'], tooltip=message, style_function=couleur).add_to(carte)\n",
    "    return carte"
   ]
  },
  {
   "cell_type": "code",
   "execution_count": 202,
   "metadata": {},
   "outputs": [],
   "source": [
    "ma_carte = creer_carte_vigilance(donnees)"
   ]
  },
  {
   "cell_type": "code",
   "execution_count": 203,
   "metadata": {},
   "outputs": [],
   "source": [
    "ma_carte.save('carte_vigilance.html')"
   ]
  },
  {
   "cell_type": "code",
   "execution_count": null,
   "metadata": {},
   "outputs": [],
   "source": []
  }
 ],
 "metadata": {
  "kernelspec": {
   "display_name": "Python 3",
   "language": "python",
   "name": "python3"
  },
  "language_info": {
   "codemirror_mode": {
    "name": "ipython",
    "version": 3
   },
   "file_extension": ".py",
   "mimetype": "text/x-python",
   "name": "python",
   "nbconvert_exporter": "python",
   "pygments_lexer": "ipython3",
   "version": "3.8.5"
  }
 },
 "nbformat": 4,
 "nbformat_minor": 4
}
