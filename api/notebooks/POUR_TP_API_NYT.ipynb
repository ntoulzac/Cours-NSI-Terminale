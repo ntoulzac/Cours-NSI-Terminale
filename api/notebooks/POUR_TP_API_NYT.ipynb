{
 "cells": [
  {
   "cell_type": "markdown",
   "metadata": {},
   "source": [
    "# API *Article Search* du *New York Times* "
   ]
  },
  {
   "cell_type": "code",
   "execution_count": 1,
   "metadata": {},
   "outputs": [],
   "source": [
    "import requests"
   ]
  },
  {
   "cell_type": "code",
   "execution_count": 43,
   "metadata": {},
   "outputs": [],
   "source": [
    "def interroger_API_NYT(mot_cle, num_page):\n",
    "    url = f\"\"\"https://api.nytimes.com/svc/search/v2/articlesearch.json?q={mot_cle}&page={num_page}\n",
    "              &api-key=d3fccdIth8SzsYue6mKY0Ycl7WRnifGU\"\"\"\n",
    "    reponse = requests.get(url)\n",
    "    reponse = reponse.json()\n",
    "    return reponse['response']['docs']"
   ]
  },
  {
   "cell_type": "code",
   "execution_count": 44,
   "metadata": {},
   "outputs": [],
   "source": [
    "rep = interroger_API_NYT('greece', 1)"
   ]
  },
  {
   "cell_type": "code",
   "execution_count": 45,
   "metadata": {},
   "outputs": [
    {
     "name": "stdout",
     "output_type": "stream",
     "text": [
      "Belarus Forces Down Plane to Seize Dissident; Europe Sees ‘State Hijacking’\n",
      "The dissident, Roman Protasevich, co-founded a Telegram channel that is a popular opposition outlet in Belarus. The plane was flying from Athens to Lithuania when it was forced down.\n",
      "\n",
      "A Country-by-Country Guide to Reopened Europe\n",
      "Members of the European Union are welcoming Americans. But there are still rules and restrictions to abide by. Here’s how to navigate them and what to expect.\n",
      "\n",
      "‘We Cannot Wait Until June’: Greece’s Reopening Gamble\n",
      "In easing its restrictions, the country, largely dependent on tourist dollars, has jumped ahead of a broader European Union plan to welcome visitors from outside the bloc.\n",
      "\n",
      "The Price They Pay for Your Perfect Vacation Photo\n",
      "Scientists are concerned about unregulated feeding of ocean wildlife by tour operators.\n",
      "\n",
      "Stephen Fry Would Like to Remind You That You Have No Free Will\n",
      "“Nobody elects to be a sociopath. The difference between us and them is one of degree.”\n",
      "\n",
      "Greek Neo-Nazi Lawmaker Stripped of Immunity by European Parliament\n",
      "Ioannis Lagos, sentenced to 13 years in prison by a Greek court for his part in running the fascist Golden Dawn party, had been immune from extradition as an elected member of the European Union’s legislature.\n",
      "\n",
      "E.U. Says Americans Can Come, but Europeans Wonder How\n",
      "In tourist-dependent countries, the announcement was called good news, but with lockdowns in place and vaccination slow, many wonder how realistic it is.\n",
      "\n",
      "Kicking Homer to the Curb: The American Scholar Who Upended the Classics\n",
      "Robert Kanigel’s new biography relates the curious life and death of Prof. Milman Parry.\n",
      "\n",
      "Howard Students Protest Cut of Classics Department, Hub for Black Scholarship\n",
      "Howard University’s board of trustees approved the decision to scrap the program, the only such department at a historically Black university.\n",
      "\n",
      "A Helper for Eastern Orthodox Easter\n",
      "The cookbook author Diane Kochilas now sells grape leaves from Crete for dolmas and fish.\n",
      "\n"
     ]
    }
   ],
   "source": [
    "for elem in rep:\n",
    "    print(elem['headline']['main'], elem['abstract'], sep='\\n', end='\\n\\n')"
   ]
  },
  {
   "cell_type": "code",
   "execution_count": 27,
   "metadata": {},
   "outputs": [
    {
     "name": "stdout",
     "output_type": "stream",
     "text": [
      "MOSCOW — The strongman president of Belarus sent a fighter jet to intercept a European airliner traveling through the country’s airspace on Sunday and ordered the plane to land in the capital, Minsk, where a prominent opposition journalist aboard was then seized, provoking international outrage. \n",
      "\n",
      "On Friday, the European Union recommended lifting the ban on nonessential travel for visitors from the United States just in time for the summer season, which is crucial to the E.U.’s economy. \n",
      "\n",
      "Greece has reopened to many overseas visitors, including from the United States, jumping ahead of most of its European neighbors in restarting tourism, even as the country’s hospitals remain full and more than three-quarters of Greeks are still unvaccinated. \n",
      "\n",
      "It took nearly three months, but Jody Pinder eventually succeeded. Endangered green sea turtles, usually shy, skittish and satisfied with a diet of sea grass and algae, were accepting handouts of squid that he and other local tour operators were providing at Bottom Harbor in the Bahamas. \n",
      "\n",
      "“Nobody elects to be a sociopath. The difference between us and them is one of degree.” \n",
      "\n",
      "BRUSSELS — The convicted Greek neo-Nazi Ioannis Lagos was stripped of his immunity as a member of the European Parliament on Tuesday, clearing the way for his extradition to Greece months after he was sentenced in a landmark trial. \n",
      "\n",
      "On March 31, President Emmanuel Macron of France announced the start of a third national lockdown in a bid to control the spread of a new deadly wave of the coronavirus. Domestic travel between regions is forbidden and restaurants, bars and cafes remain closed. \n",
      "\n",
      "HEARING HOMER’S SONGThe Brief Life and Big Idea of Milman ParryBy Robert Kanigel \n",
      "\n",
      "As an alumna of Howard University, Anika Prather remembers feeling that the classics were everywhere during her years as a student. No matter your major or field of study, she recalled, it was practically a given that classics would be woven into your educational experience. \n",
      "\n",
      "This year, Eastern Orthodox Easter comes on May 2. In a run-up to the celebration, there are some ingredients for traditional dishes that are worth having on hand, notably grape leaves, used for enclosing fillings to make dolmas (vine leaves stuffed with grains, meat or seafood) or to wrap fish before baking. The Greek food expert Diane Kochilas has recently added organic grape leaves from Crete to her website, along with recipes. \n",
      "\n"
     ]
    }
   ],
   "source": [
    "for elem in rep:\n",
    "    print(elem['lead_paragraph'], '\\n')"
   ]
  },
  {
   "cell_type": "code",
   "execution_count": null,
   "metadata": {},
   "outputs": [],
   "source": []
  }
 ],
 "metadata": {
  "kernelspec": {
   "display_name": "Python 3",
   "language": "python",
   "name": "python3"
  },
  "language_info": {
   "codemirror_mode": {
    "name": "ipython",
    "version": 3
   },
   "file_extension": ".py",
   "mimetype": "text/x-python",
   "name": "python",
   "nbconvert_exporter": "python",
   "pygments_lexer": "ipython3",
   "version": "3.8.5"
  }
 },
 "nbformat": 4,
 "nbformat_minor": 4
}
