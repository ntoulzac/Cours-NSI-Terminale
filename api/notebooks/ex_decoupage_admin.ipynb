{
 "cells": [
  {
   "cell_type": "markdown",
   "metadata": {},
   "source": [
    "<div style='background-color: #e3a8b6;\n",
    "    border: 0.5em solid black;\n",
    "    border-radius: 0.5em;\n",
    "    padding: 1em;'>\n",
    "    <h2>Exercice</h2>\n",
    "    <h1>Découpage administratif</h1>\n",
    "</div>"
   ]
  },
  {
   "cell_type": "markdown",
   "metadata": {},
   "source": [
    "Grâce à l'API [Découpage administratif](https://geo.api.gouv.fr/decoupage-administratif/communes), le gouvernement français met à disposition des données sur les communes : population, superficie, limites géographiques, etc.\n",
    "\n",
    "**(1)** ✏️ Cliquer le lien [https://geo.api.gouv.fr/communes?nom=Nogent-sur-Marne&boost=population&fields=population,surface,centre,contour](https://geo.api.gouv.fr/communes?nom=Nogent-sur-Marne&boost=population&fields=population,surface,centre,contour) puis déterminer quelles sont les données renvoyées par l'API.\n",
    "\n",
    "**(2)** ✏️ Sachant que Nogent-sur-Marne a une superficie de 2,8 km², déterminer dans quelle unité est exprimée la surface renvoyée par l'API.\n",
    "\n",
    "**(3)** 💻 Définir une fonction `interroger_API_decoupage_admin` qui prend en paramètre d'entrée une chaîne de caractères correspondant à un nom de ville française et qui renvoie un dictionnaire dont les clés sont `'nom'`, `'population'`, `'superficie'`, `'densité'`, `centre` et `'contour'`. La superficie sera donnée en kilomètres carrés et arrondie au centième. La densité sera donnée en habitants par kilomètre carré et arrondie à l'unité."
   ]
  },
  {
   "cell_type": "code",
   "execution_count": null,
   "metadata": {},
   "outputs": [],
   "source": [
    "import requests"
   ]
  },
  {
   "cell_type": "code",
   "execution_count": null,
   "metadata": {},
   "outputs": [],
   "source": []
  },
  {
   "cell_type": "code",
   "execution_count": null,
   "metadata": {},
   "outputs": [],
   "source": [
    "interroger_API_decoupage_admin('Nogent-sur-Marne')"
   ]
  },
  {
   "cell_type": "markdown",
   "metadata": {},
   "source": [
    "⚠️ La suite de l'exercice utilise le module `folium`, qui peut être installé en exécutant la cellule ci-dessous."
   ]
  },
  {
   "cell_type": "code",
   "execution_count": null,
   "metadata": {},
   "outputs": [],
   "source": [
    "import sys\n",
    "!{sys.executable} -m pip install folium"
   ]
  },
  {
   "cell_type": "markdown",
   "metadata": {},
   "source": [
    "On définit maintenant une carte grâce au module `folium`."
   ]
  },
  {
   "cell_type": "code",
   "execution_count": null,
   "metadata": {},
   "outputs": [],
   "source": [
    "import folium"
   ]
  },
  {
   "cell_type": "code",
   "execution_count": null,
   "metadata": {},
   "outputs": [],
   "source": [
    "ma_carte = folium.Map(location=(48.853,2.349), tiles='OpenStreetMap', zoom_start=11)"
   ]
  },
  {
   "cell_type": "markdown",
   "metadata": {},
   "source": [
    "Cette carte représente Paris et une partie de sa banlieue. Elle peut être affichée dans le carnet _Jupyter_ en exécutant la cellule suivante."
   ]
  },
  {
   "cell_type": "code",
   "execution_count": null,
   "metadata": {},
   "outputs": [],
   "source": [
    "ma_carte"
   ]
  },
  {
   "cell_type": "markdown",
   "metadata": {},
   "source": [
    "**(4)** 💻 Définir une procédure `dessiner_commune` qui prend en paramètre d'entrée une chaîne de caractères correspondant à un nom de ville française, qui dessine les contours de la commune et qui place un marqueur au centre de la commune. En cas de survol du marqueur par la souris, le nom de la ville doit s'afficher, et en cas de clic sur le marqueur, une fenêtre popup doit s'ouvrir, en indiquant la population et la superficie de la commune.\n",
    "\n",
    "Vous pourrez vous aider de la [documentation](http://python-visualization.github.io/folium/modules.html#module-folium.map) du module `folium`, en particulier les explications sur `Marker`,`Popup` et `GeoJson`."
   ]
  },
  {
   "cell_type": "code",
   "execution_count": null,
   "metadata": {},
   "outputs": [],
   "source": []
  },
  {
   "cell_type": "code",
   "execution_count": null,
   "metadata": {},
   "outputs": [],
   "source": [
    "ma_carte = folium.Map(location=(48.853,2.349), tiles='OpenStreetMap', zoom_start=11)\n",
    "dessiner_commune('Nogent-sur-Marne')\n",
    "dessiner_commune('Argenteuil')\n",
    "dessiner_commune('Meudon')\n",
    "dessiner_commune('Saint-Denis')\n",
    "dessiner_commune('Clermont-Ferrand')\n",
    "ma_carte # affichage de la carte sous la cellule"
   ]
  }
 ],
 "metadata": {
  "kernelspec": {
   "display_name": "Python 3",
   "language": "python",
   "name": "python3"
  },
  "language_info": {
   "codemirror_mode": {
    "name": "ipython",
    "version": 3
   },
   "file_extension": ".py",
   "mimetype": "text/x-python",
   "name": "python",
   "nbconvert_exporter": "python",
   "pygments_lexer": "ipython3",
   "version": "3.8.5"
  }
 },
 "nbformat": 4,
 "nbformat_minor": 2
}
