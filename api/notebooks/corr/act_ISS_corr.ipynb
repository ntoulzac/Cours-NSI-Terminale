{
 "cells": [
  {
   "cell_type": "markdown",
   "metadata": {},
   "source": [
    "<div style='background-color: #87ceeb;\n",
    "    border: 0.5em solid black;\n",
    "    border-radius: 0.5em;\n",
    "    padding: 1em;'>\n",
    "    <h2>Activité</h2>\n",
    "    <h1>Station spatiale internationale</h1>\n",
    "</div>"
   ]
  },
  {
   "cell_type": "markdown",
   "metadata": {},
   "source": [
    "<img src='https://upload.wikimedia.org/wikipedia/commons/thumb/f/ff/ISS-56_International_Space_Station_fly-around_%2805%29.jpg/1024px-ISS-56_International_Space_Station_fly-around_%2805%29.jpg' width=\"50%\">"
   ]
  },
  {
   "cell_type": "markdown",
   "metadata": {},
   "source": [
    "La [station spatiale internationale](https://fr.wikipedia.org/wiki/Station_spatiale_internationale) (ISS) orbite autour de la Terre depuis la fin des années 1990 à une altitude comprise entre 330 km et 420 km. La NASA communique la position de la station en temps réel à travers l'API *Open Notify ISS now*.\n",
    "\n",
    "Pour interroger l'API, il suffit de se rendre à l'adresse [http://api.open-notify.org/iss-now.json](http://api.open-notify.org/iss-now.json). Les données obtenues sont au format JSON et ont la forme d'un dictionnaire.\n",
    "\n",
    "**(1)** ✏️ Après avoir cliqué sur le lien permettant d'interroger l'API et avoir affiché les données renvoyées par l'API sous forme de dictionnaire, déterminer quelles sont les trois clés de ce dictionnaire et les trois valeurs associées.\n",
    "\n",
    "On souhaite définir une fonction `position_iss` qui renvoie les coordonnées de l'ISS sous la forme d'un tableau `[latitude, longitude]`. Le module `requests` est utilisé pour envoyer une *requête GET* à l'API.\n",
    "\n",
    "**(2)** ✏️ 💻 Écrire la spécification de la fonction `position_iss`.\n",
    "\n",
    "**(3)** 💻 Compléter les lignes 4 et 5 dans la définition de la fonction `position_iss`."
   ]
  },
  {
   "cell_type": "code",
   "execution_count": null,
   "metadata": {},
   "outputs": [],
   "source": [
    "import requests"
   ]
  },
  {
   "cell_type": "code",
   "execution_count": null,
   "metadata": {},
   "outputs": [],
   "source": [
    "def position_iss():\n",
    "    \"\"\"\n",
    "    Détermine la position de l'ISS au moment de l'appel de la fonction.\n",
    "    - Sortie : tableau au format [latitude, longitude] contenant des flottants.\n",
    "    \"\"\"\n",
    "    reponse = requests.get(\"http://api.open-notify.org/iss-now.json\")\n",
    "    reponse = reponse.json()\n",
    "    latitude = float(reponse['iss_position']['latitude'])\n",
    "    longitude = float(reponse['iss_position']['longitude'])\n",
    "    return [latitude, longitude]"
   ]
  },
  {
   "cell_type": "markdown",
   "metadata": {},
   "source": [
    "**(4)** 💻 Tester la fonction `position_iss` pour déterminer la position actuelle de l'ISS."
   ]
  },
  {
   "cell_type": "code",
   "execution_count": null,
   "metadata": {},
   "outputs": [],
   "source": [
    "pos = position_iss()\n",
    "print(pos)"
   ]
  },
  {
   "cell_type": "markdown",
   "metadata": {},
   "source": [
    "⚠️ La suite de l'activité utilise le module `folium`, qui peut être installé en exécutant la cellule ci-dessous."
   ]
  },
  {
   "cell_type": "code",
   "execution_count": null,
   "metadata": {},
   "outputs": [],
   "source": [
    "import sys\n",
    "!{sys.executable} -m pip install folium"
   ]
  },
  {
   "cell_type": "markdown",
   "metadata": {},
   "source": [
    "**(5)** ✏️ 💻 Tester la fonction `afficher_lieu` définie ci-dessous puis écrire sa spécification."
   ]
  },
  {
   "cell_type": "code",
   "execution_count": null,
   "metadata": {},
   "outputs": [],
   "source": [
    "import folium # Le module folium permet de créer des cartes géographiques"
   ]
  },
  {
   "cell_type": "code",
   "execution_count": null,
   "metadata": {},
   "outputs": [],
   "source": [
    "def afficher_lieu(position):\n",
    "    \"\"\"\n",
    "    Affiche une position sur une carte du monde.\n",
    "    - Entrée : position, tableau au format [latitude, longitude]\n",
    "    - Sortie : carte, instance de la classe Map\n",
    "    \"\"\"\n",
    "    carte = folium.Map(location = position, tiles = 'OpenStreetMap', zoom_start = 4)\n",
    "    folium.Marker(position).add_to(carte)\n",
    "    return carte # carte est une instance de la classe Map (voir chapitre 4)"
   ]
  },
  {
   "cell_type": "code",
   "execution_count": null,
   "metadata": {},
   "outputs": [],
   "source": [
    "afficher_lieu(pos)"
   ]
  },
  {
   "cell_type": "markdown",
   "metadata": {},
   "source": [
    "**(6)** ✏️ Préciser la date et l'heure actuelles ainsi que le pays ou l'océan au dessus duquel se trouve l'ISS.\n",
    "\n",
    "**(7)** ✏️ 💻 ⏱️ Écrire des lignes de code permettant d'afficher sur une même carte six positions successives de l'ISS, chacune des positions étant relevée cinq minutes après la précédente.\n",
    "\n",
    "On rappelle que la fonction `sleep` du module `time` permet de mettre en pause le programme pendant un nombre donné de secondes."
   ]
  },
  {
   "cell_type": "code",
   "execution_count": null,
   "metadata": {},
   "outputs": [],
   "source": [
    "from time import sleep"
   ]
  },
  {
   "cell_type": "code",
   "execution_count": null,
   "metadata": {},
   "outputs": [],
   "source": [
    "tableau_pos = []\n",
    "for k in range(6):\n",
    "    tableau_pos.append(position_iss())\n",
    "    sleep(300)"
   ]
  },
  {
   "cell_type": "code",
   "execution_count": null,
   "metadata": {
    "scrolled": false
   },
   "outputs": [],
   "source": [
    "ma_carte = folium.Map(location = tableau_pos[len(tableau_pos)//2], tiles = 'OpenStreetMap', zoom_start = 3)\n",
    "for pos in tableau_pos:\n",
    "    folium.Marker(pos).add_to(ma_carte)"
   ]
  },
  {
   "cell_type": "code",
   "execution_count": null,
   "metadata": {},
   "outputs": [],
   "source": [
    "ma_carte"
   ]
  },
  {
   "cell_type": "markdown",
   "metadata": {},
   "source": [
    "<div style='background-color: #87ceeb;\n",
    "    border-radius: 0.5em;\n",
    "    padding: 1em;'>\n",
    "    <h2>Pour aller plus loin...</h2>\n",
    "</div>"
   ]
  },
  {
   "cell_type": "markdown",
   "metadata": {},
   "source": [
    "La NASA communique également quels astronautes se trouvent dans l'espace à travers l'API *Open Notify Astros*.\n",
    "\n",
    "Pour interroger l'API, il suffit de se rendre à l'adresse [http://api.open-notify.org/astros.json](http://api.open-notify.org/astros.json). Comme pour l'API précédente, les données obtenues sont au format JSON et ont la forme d'un dictionnaire.\n",
    "\n",
    "**(8)** 💻 Définir une fonction `population_spatiale` qui renvoie (sous la forme d'un dictionnaire) le nombre de personnes à bord des différentes stations spatiales en orbite autour de la Terre.\n",
    "\n",
    "Par exemple, au 1er juillet 2021, la station internationale accueille sept personnes et la station chinoise trois. Un appel à `population_spatiale` doit donc renvoyer `{'ISS': 7, 'Tiangong': 3}`."
   ]
  },
  {
   "cell_type": "code",
   "execution_count": null,
   "metadata": {},
   "outputs": [],
   "source": [
    "def population_spatiale():\n",
    "    \"\"\"\n",
    "    Détermine le nombre d'occupant de chacune des stations spatiales non vides.\n",
    "    - Sortie : dico (dictionnaire associant un nom de station (clé) à un nombre d'occupants (valeur))\n",
    "    \"\"\"\n",
    "    reponse = requests.get(\"http://api.open-notify.org/astros.json\")\n",
    "    reponse = reponse.json()\n",
    "    dico = {}\n",
    "    for astronaute in reponse['people']:\n",
    "        if astronaute['craft'] not in dico: # Cas où la clé n'existe pas encore dans dico...\n",
    "            dico[astronaute['craft']] = 1   # ... on crée alors la clé et on y associe la valeur 1.\n",
    "        else:                               # Cas où la clé existe déjà dans dico...\n",
    "            dico[astronaute['craft']] += 1  # ... on incrémente alors la valeur associée à la clé.\n",
    "    return dico"
   ]
  },
  {
   "cell_type": "code",
   "execution_count": null,
   "metadata": {},
   "outputs": [],
   "source": [
    "population_spatiale()"
   ]
  }
 ],
 "metadata": {
  "kernelspec": {
   "display_name": "Python 3",
   "language": "python",
   "name": "python3"
  },
  "language_info": {
   "codemirror_mode": {
    "name": "ipython",
    "version": 3
   },
   "file_extension": ".py",
   "mimetype": "text/x-python",
   "name": "python",
   "nbconvert_exporter": "python",
   "pygments_lexer": "ipython3",
   "version": "3.8.5"
  }
 },
 "nbformat": 4,
 "nbformat_minor": 4
}
