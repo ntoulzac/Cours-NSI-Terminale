{
 "cells": [
  {
   "cell_type": "markdown",
   "metadata": {},
   "source": [
    "<div style='background-color: #e3a8b6;\n",
    "    border: 0.5em solid black;\n",
    "    border-radius: 0.5em;\n",
    "    padding: 1em;'>\n",
    "    <h2>Exercice</h2>\n",
    "    <h1>Composition des produits alimentaires</h1>\n",
    "</div>"
   ]
  },
  {
   "cell_type": "markdown",
   "metadata": {},
   "source": [
    "L'API [_Open Food Facts_](https://fr.openfoodfacts.org/) permet de récupérer des informations sur un produit alimentaire à partir de son numéro de code-barres. Par exemple, pour le produit dont le code-barres est `8076800376999`, il suffit d'envoyer une requête GET à l'URL [https://world.openfoodfacts.org/api/v0/product/8076800376999.json](https://world.openfoodfacts.org/api/v0/product/8076800376999.json).\n",
    "\n",
    "**(1)** ✏️ 💻 Après avoir testé la fonction `interroger_API_openfoodfacts` pour le code-barres `8076800376999`, écrire sa spécification."
   ]
  },
  {
   "cell_type": "code",
   "execution_count": 1,
   "metadata": {},
   "outputs": [],
   "source": [
    "import requests"
   ]
  },
  {
   "cell_type": "code",
   "execution_count": 2,
   "metadata": {},
   "outputs": [],
   "source": [
    "def interroger_API_openfoodfacts(code_barres):\n",
    "    \"\"\"\n",
    "    Retourne, à partir d'un code-barres, le nom, le nutri score et les nutriments contenus dans un produit.\n",
    "    - Entrée : code_barres (entier ou chaîne de caractères)\n",
    "    - Sortie : dictionnaire contenant les clés 'nom', 'nutriments' et 'nutri_score' (les deux dernières\n",
    "               clés uniquement si le code_barres est reconnu par l'API)\n",
    "    \"\"\"\n",
    "    reponse = requests.get(f\"https://world.openfoodfacts.org/api/v0/product/{code_barres}.json\")\n",
    "    reponse = reponse.json()\n",
    "    if reponse['status'] == 1:\n",
    "        dico = {'nom': reponse['product']['product_name'],\n",
    "                'nutriments': reponse['product']['nutriments'],\n",
    "                'nutri_score': reponse['product']['nutrition_grade_fr']}\n",
    "    else:\n",
    "        dico = {'nom': 'Produit inconnu'}\n",
    "    return dico"
   ]
  },
  {
   "cell_type": "code",
   "execution_count": 3,
   "metadata": {
    "scrolled": true
   },
   "outputs": [
    {
     "data": {
      "text/plain": [
       "{'nom': \"Lasagne all'uovo\",\n",
       " 'nutriments': {'carbohydrates': 67.3,\n",
       "  'carbohydrates_100g': 67.3,\n",
       "  'carbohydrates_unit': 'g',\n",
       "  'carbohydrates_value': 67.3,\n",
       "  'carbon-footprint-from-known-ingredients_100g': 50.336,\n",
       "  'carbon-footprint-from-known-ingredients_product': 252,\n",
       "  'energy': 1554,\n",
       "  'energy-kcal': 367,\n",
       "  'energy-kcal_100g': 367,\n",
       "  'energy-kcal_unit': 'kcal',\n",
       "  'energy-kcal_value': 367,\n",
       "  'energy-kj': 1554,\n",
       "  'energy-kj_100g': 1554,\n",
       "  'energy-kj_unit': 'kJ',\n",
       "  'energy-kj_value': 1554,\n",
       "  'energy_100g': 1554,\n",
       "  'energy_unit': 'kJ',\n",
       "  'energy_value': 1554,\n",
       "  'fat': 4,\n",
       "  'fat_100g': 4,\n",
       "  'fat_unit': 'g',\n",
       "  'fat_value': 4,\n",
       "  'fiber': 3,\n",
       "  'fiber_100g': 3,\n",
       "  'fiber_unit': 'g',\n",
       "  'fiber_value': 3,\n",
       "  'fruits-vegetables-nuts': 0,\n",
       "  'fruits-vegetables-nuts-estimate-from-ingredients_100g': 0,\n",
       "  'fruits-vegetables-nuts_100g': 0,\n",
       "  'fruits-vegetables-nuts_serving': 0,\n",
       "  'fruits-vegetables-nuts_unit': 'g',\n",
       "  'fruits-vegetables-nuts_value': 0,\n",
       "  'nova-group': 1,\n",
       "  'nova-group_100g': 1,\n",
       "  'nova-group_serving': 1,\n",
       "  'nutrition-score-fr': -3,\n",
       "  'nutrition-score-fr_100g': -3,\n",
       "  'proteins': 14,\n",
       "  'proteins_100g': 14,\n",
       "  'proteins_unit': 'g',\n",
       "  'proteins_value': 14,\n",
       "  'salt': 0.075,\n",
       "  'salt_100g': 0.075,\n",
       "  'salt_unit': 'g',\n",
       "  'salt_value': 0.075,\n",
       "  'saturated-fat': 1.2,\n",
       "  'saturated-fat_100g': 1.2,\n",
       "  'saturated-fat_unit': 'g',\n",
       "  'saturated-fat_value': 1.2,\n",
       "  'sodium': 0.03,\n",
       "  'sodium_100g': 0.03,\n",
       "  'sodium_unit': 'g',\n",
       "  'sodium_value': 0.03,\n",
       "  'sugars': 3,\n",
       "  'sugars_100g': 3,\n",
       "  'sugars_unit': 'g',\n",
       "  'sugars_value': 3},\n",
       " 'nutri_score': 'a'}"
      ]
     },
     "execution_count": 3,
     "metadata": {},
     "output_type": "execute_result"
    }
   ],
   "source": [
    "interroger_API_openfoodfacts(8076800376999)"
   ]
  },
  {
   "cell_type": "markdown",
   "metadata": {},
   "source": [
    "Voici un extrait du tableau d'information nutritionnelle d'un paquet de lasagnes dont le code-barres est `8076800376999` :\n",
    "\n",
    "<table>\n",
    "    <tr>\n",
    "        <th style='text-align: center;'>Information nutritionnelle</th>\n",
    "        <th style='text-align: center;'>Pour 100 g</th>\n",
    "    </tr>\n",
    "    <tr>\n",
    "        <td style='text-align: left;'>Énergie</td>\n",
    "        <td style='text-align: center;'>1554 kJ</td>\n",
    "    </tr>\n",
    "    <tr>\n",
    "        <td style='text-align: left;'>Matières grasses</td>\n",
    "        <td style='text-align: center;'>4 g</td>\n",
    "    </tr>\n",
    "    <tr>\n",
    "        <td style='text-align: left;'><i>dont acides gras saturés</i></td>\n",
    "        <td style='text-align: center;'>1,2 g</td>\n",
    "    </tr>\n",
    "        <tr>\n",
    "        <td style='text-align: left;'>Glucides</td>\n",
    "        <td style='text-align: center;'>67,3 g</td>\n",
    "    </tr>\n",
    "    <tr>\n",
    "        <td style='text-align: left;'><i>dont sucres</i></td>\n",
    "        <td style='text-align: center;'>3 g</td>\n",
    "    </tr>\n",
    "    <tr>\n",
    "        <td style='text-align: left;'>Fibres alimentaires</td>\n",
    "        <td style='text-align: center;'>3 g</td>\n",
    "    </tr>\n",
    "    <tr>\n",
    "        <td style='text-align: left;'>Protéines</td>\n",
    "        <td style='text-align: center;'>14 g</td>\n",
    "    </tr>\n",
    "    <tr>\n",
    "        <td style='text-align: left;'>Sel</td>\n",
    "        <td style='text-align: center;'>0,075 g</td>\n",
    "    </tr>\n",
    "</table>\n",
    "\n",
    "**(2)** ✏️ Déterminer comment accéder à la quantité d'énergie, de sel, de sucres, de matières grasses, de fibres et de protéines à partir de la réponse fournie par l'API."
   ]
  },
  {
   "cell_type": "code",
   "execution_count": 4,
   "metadata": {},
   "outputs": [
    {
     "name": "stdout",
     "output_type": "stream",
     "text": [
      "Quantité d'énergie ......... : 1554 kJ\n",
      "         de sel ............ : 0.075 g\n",
      "         de sucres ......... : 3 g\n",
      "         de matières grasses : 4 g\n",
      "         de fibres ......... : 3 g\n",
      "         de protéines ...... : 14 g\n"
     ]
    }
   ],
   "source": [
    "donnees = interroger_API_openfoodfacts(8076800376999)\n",
    "print(f\"Quantité d'énergie ......... : {donnees['nutriments']['energy']} kJ\")\n",
    "print(f\"         de sel ............ : {donnees['nutriments']['salt']} g\")\n",
    "print(f\"         de sucres ......... : {donnees['nutriments']['sugars']} g\")\n",
    "print(f\"         de matières grasses : {donnees['nutriments']['fat']} g\")\n",
    "print(f\"         de fibres ......... : {donnees['nutriments']['fiber']} g\")\n",
    "print(f\"         de protéines ...... : {donnees['nutriments']['proteins']} g\")"
   ]
  },
  {
   "cell_type": "markdown",
   "metadata": {},
   "source": [
    "**(3)** ✏️ 💻 Écrire la spécification de la fonction `mystere`."
   ]
  },
  {
   "cell_type": "code",
   "execution_count": 5,
   "metadata": {},
   "outputs": [],
   "source": [
    "def mystere(dico, cle):\n",
    "    \"\"\"\n",
    "    Retourne dico[cle] si cette valeur existe, et 0 sinon.\n",
    "    - Entrées : dico (dictionnaire), cle (clé potentielle du dictionnaire dico)\n",
    "    - Sortie : valeur associée à cle dans le dictionnaire si elle existe, 0 sinon\n",
    "    \"\"\"\n",
    "    if cle in dico:\n",
    "        return dico[cle]\n",
    "    else:\n",
    "        return 0"
   ]
  },
  {
   "cell_type": "markdown",
   "metadata": {},
   "source": [
    "**(4)** 💻 Définir une fonction `composition` prenant en paramètre d'entrée un numéro de code-barres et retournant un dictionnaire dont les clés sont :\n",
    "- `'nom'` : nom du produit,\n",
    "- `'énergie'` : énergie pour 100g de produit, exprimée en kJ,\n",
    "- `'sel'` : quantité de sel pour 100g de produit, exprimée en g,\n",
    "- `'sucres'` : quantité de sucres pour 100g de produit, exprimée en g,\n",
    "- `'mat_grasses'` : quantité de matières grasses pour 100g de produit, exprimée en g,\n",
    "- `'fibres'` : quantité de fibres pour 100g de produit, exprimée en g,\n",
    "- `'protéines'` : quantité de protéines pour 100g de produit, exprimée en g."
   ]
  },
  {
   "cell_type": "code",
   "execution_count": 6,
   "metadata": {},
   "outputs": [],
   "source": [
    "def composition(code_barres):\n",
    "    \"\"\"\n",
    "    Détermine la quantité de certains nutriments dans un produit alimentaire, à partir de son code-barres.\n",
    "    - Entrée : code_barres (entier ou chaîne de caractères)\n",
    "    - Sortie : dictionnaire contenant les clés 'nom', 'énergie', 'sel', 'sucres', 'mat_grasses', 'fibres', 'protéines'\n",
    "    \"\"\"\n",
    "    donnees = interroger_API_openfoodfacts(code_barres)\n",
    "    nom = donnees['nom']\n",
    "    energie = mystere(donnees['nutriments'], 'energy')\n",
    "    sel = mystere(donnees['nutriments'], 'salt')\n",
    "    sucres = mystere(donnees['nutriments'], 'sugars')\n",
    "    mat_grasses = mystere(donnees['nutriments'], 'fat')\n",
    "    fibres = mystere(donnees['nutriments'], 'fiber')\n",
    "    proteines = mystere(donnees['nutriments'], 'proteins')\n",
    "    return {'nom' : nom, 'énergie' : energie, 'sel' : sel, 'sucres' : sucres,\n",
    "            'mat_grasses' : mat_grasses, 'fibres' : fibres, 'protéines' : proteines}"
   ]
  },
  {
   "cell_type": "code",
   "execution_count": 7,
   "metadata": {},
   "outputs": [
    {
     "data": {
      "text/plain": [
       "{'nom': \"Lasagne all'uovo\",\n",
       " 'énergie': 1554,\n",
       " 'sel': 0.075,\n",
       " 'sucres': 3,\n",
       " 'mat_grasses': 4,\n",
       " 'fibres': 3,\n",
       " 'protéines': 14}"
      ]
     },
     "execution_count": 7,
     "metadata": {},
     "output_type": "execute_result"
    }
   ],
   "source": [
    "composition(8076800376999)"
   ]
  },
  {
   "cell_type": "markdown",
   "metadata": {},
   "source": [
    "**(5)** 💻 Définir une procédure `comparer_produits` qui prend en paramètre d'entrée un tableau contenant des numéros de code-barres et qui affiche :\n",
    "- le produit qui contient le plus d'énergie pour 100g,\n",
    "- le produit qui contient le moins de sel pour 100g,\n",
    "- le produit qui contient le moins de matières grasses pour 100g,\n",
    "- le produit qui contient le plus de sucres pour 100g."
   ]
  },
  {
   "cell_type": "code",
   "execution_count": 8,
   "metadata": {},
   "outputs": [],
   "source": [
    "def _recherche_min(prod, cle):\n",
    "    \"\"\"\n",
    "    Détermine l'indice de l'élément de prod qui a la plus petite valeur associée à une clé.\n",
    "    - Entrées : prod (tableau de dictionnaires), cle (cle des dictionnaires éléments de prod)\n",
    "    - Sortie : indice_min (entier)\n",
    "    \"\"\"\n",
    "    indice_min = 0\n",
    "    for k in range(1, len(prod)):\n",
    "        if prod[k][cle] < prod[indice_min][cle]:\n",
    "            indice_min = k\n",
    "    return indice_min\n",
    "\n",
    "def _recherche_max(prod, cle):\n",
    "    \"\"\"\n",
    "    Détermine l'indice de l'élément de prod qui a la plus grande valeur associée à une clé.\n",
    "    - Entrées : prod (tableau de dictionnaires), cle (cle des dictionnaires éléments de prod)\n",
    "    - Sortie : indice_max (entier)\n",
    "    \"\"\"\n",
    "    indice_max = 0\n",
    "    for k in range(1, len(prod)):\n",
    "        if prod[k][cle] > prod[indice_max][cle]:\n",
    "            indice_max = k\n",
    "    return indice_max\n",
    "    \n",
    "def comparer_produits(tab):\n",
    "    \"\"\"\n",
    "    Affiche le produit contenant le plus d'énergie, le moins de sel, le moins de gras, le plus de sucres.\n",
    "    - Entrée : tab (tableau dont les éléments sont des numéros de code-barres)\n",
    "    - Effet de bord : affichage à l'écran\n",
    "    \"\"\"\n",
    "    produits = [composition(code_barres) for code_barres in tab]\n",
    "    print(f\"Produit contenant le plus d'énergie : {produits[_recherche_max(produits, 'énergie')]['nom']}\")\n",
    "    print(f\"Produit contenant le moins de sel : {produits[_recherche_min(produits, 'sel')]['nom']}\")\n",
    "    print(f\"Produit contenant le moins de matières grasses : {produits[_recherche_min(produits, 'mat_grasses')]['nom']}\")\n",
    "    print(f\"Produit contenant le plus de sucres : {produits[_recherche_max(produits, 'sucres')]['nom']}\")"
   ]
  },
  {
   "cell_type": "markdown",
   "metadata": {},
   "source": [
    "Vous pouvez tester votre fonction avec les produits suivants :\n",
    "\n",
    "<table>\n",
    "    <tr>\n",
    "        <th style='text-align: left;'>Nom du produit</th>\n",
    "        <th style='text-align: center;'>Granola</th>\n",
    "        <th style='text-align: center;'>Petits pois Carottes</th>\n",
    "        <th style='text-align: center;'>Paëlla</th>\n",
    "        <th style='text-align: center;'>Ice tea pêche</th>\n",
    "        <th style='text-align: center;'>Blanc de poulet</th>\n",
    "        <th style='text-align: center;'>Cassoulet</th>\n",
    "        <th style='text-align: center;'>Coquillettes</th>\n",
    "    </tr>\n",
    "    <tr>\n",
    "        <td style='text-align: left;'>Code-barres</td>\n",
    "        <td style='text-align: center;'>7622300689124</td>\n",
    "        <td style='text-align: center;'>3083680026321</td>\n",
    "        <td style='text-align: center;'>3302741859105</td>\n",
    "        <td style='text-align: center;'>5449000232465</td>\n",
    "        <td style='text-align: center;'>3095756193011</td>\n",
    "        <td style='text-align: center;'>3261055930422</td>\n",
    "        <td style='text-align: center;'>8076808140325</td>\n",
    "    </tr>\n",
    "    <tr>\n",
    "        <td style='text-align: left;'>Energie</td>\n",
    "        <td style='text-align: center;'>2108 kJ</td>\n",
    "        <td style='text-align: center;'>226 kJ</td>    \n",
    "        <td style='text-align: center;'>888 kJ</td>\n",
    "        <td style='text-align: center;'>79 kJ</td>\n",
    "        <td style='text-align: center;'>416 kJ</td>\n",
    "        <td style='text-align: center;'>480 kJ</td>\n",
    "        <td style='text-align: center;'>1521 kJ</td>\n",
    "    </tr>\n",
    "    <tr>\n",
    "        <td style='text-align: left;'>Matières grasses</td>\n",
    "        <td style='text-align: center;'>26 g</td>\n",
    "        <td style='text-align: center;'>0,5 g</td>\n",
    "        <td style='text-align: center;'>10 g</td>\n",
    "        <td style='text-align: center;'>0 g</td>\n",
    "        <td style='text-align: center;'>1,6 g</td>\n",
    "        <td style='text-align: center;'>4,7 g</td>\n",
    "        <td style='text-align: center;'>2 g</td>\n",
    "    </tr>\n",
    "    <tr>\n",
    "        <td style='text-align: left;'><i>dont acides gras saturés</i></td>\n",
    "        <td style='text-align: center;'>14 g</td>\n",
    "        <td style='text-align: center;'>0,1 g</td>\n",
    "        <td style='text-align: center;'>2,8 g</td>\n",
    "        <td style='text-align: center;'>0 g</td>\n",
    "        <td style='text-align: center;'>0,4 g</td>\n",
    "        <td style='text-align: center;'>1,8 g</td>\n",
    "        <td style='text-align: center;'>0,5 g</td>\n",
    "    </tr>\n",
    "    <tr>\n",
    "        <td style='text-align: left;'>Glucides</td>\n",
    "        <td style='text-align: center;'>61 g</td>\n",
    "        <td style='text-align: center;'>7,2 g</td>\n",
    "        <td style='text-align: center;'>16 g</td>\n",
    "        <td style='text-align: center;'>4,3 g</td>\n",
    "        <td style='text-align: center;'>0,5 g</td>\n",
    "        <td style='text-align: center;'>8,9 g</td>\n",
    "        <td style='text-align: center;'>71,2 g</td>\n",
    "    </tr>\n",
    "    <tr>\n",
    "        <td style='text-align: left;'><i>dont sucres</i></td>\n",
    "        <td style='text-align: center;'>36 g</td>\n",
    "        <td style='text-align: center;'>3,4 g</td>\n",
    "        <td style='text-align: center;'>0,6 g</td>\n",
    "        <td style='text-align: center;'>4,3 g</td>\n",
    "        <td style='text-align: center;'>0,5 g</td>\n",
    "        <td style='text-align: center;'>0,6 g</td>\n",
    "        <td style='text-align: center;'>3,5 g</td>\n",
    "    </tr>\n",
    "    <tr>\n",
    "        <td style='text-align: left;'>Fibres alimentaires</td>\n",
    "        <td style='text-align: center;'>2,9 g</td>\n",
    "        <td style='text-align: center;'>4,5 g</td>\n",
    "        <td style='text-align: center;'>1,2 g</td>\n",
    "        <td style='text-align: center;'>0 g</td>\n",
    "        <td style='text-align: center;'>0 g</td>\n",
    "        <td style='text-align: center;'>3,8 g</td>\n",
    "        <td style='text-align: center;'>3 g</td>\n",
    "    </tr>\n",
    "    <tr>\n",
    "        <td style='text-align: left;'>Protéines</td>\n",
    "        <td style='text-align: center;'>4,5 g</td> \n",
    "        <td style='text-align: center;'>2,9 g</td>\n",
    "        <td style='text-align: center;'>10 g</td>\n",
    "        <td style='text-align: center;'>0 g</td>\n",
    "        <td style='text-align: center;'>21 g</td>\n",
    "        <td style='text-align: center;'>7,3 g</td>\n",
    "        <td style='text-align: center;'>12,5 g</td>\n",
    "    </tr>\n",
    "    <tr>\n",
    "        <td style='text-align: left;'>Sel</td>\n",
    "        <td style='text-align: center;'>1,05 g</td>\n",
    "        <td style='text-align: center;'>0,57 g</td>\n",
    "        <td style='text-align: center;'>0,8 g</td>\n",
    "        <td style='text-align: center;'>0,03 g</td>\n",
    "        <td style='text-align: center;'>1,8 g</td>\n",
    "        <td style='text-align: center;'>0,81 g</td>\n",
    "        <td style='text-align: center;'>0,013 g</td>\n",
    "    </tr>\n",
    "</table>"
   ]
  },
  {
   "cell_type": "code",
   "execution_count": 9,
   "metadata": {},
   "outputs": [
    {
     "name": "stdout",
     "output_type": "stream",
     "text": [
      "Produit contenant le plus d'énergie : Granola Gros éclats de Chocolat\n",
      "Produit contenant le moins de sel : Barilla pates coquillettes\n",
      "Produit contenant le moins de matières grasses : FuzeTea Thé glacé pêche intense\n",
      "Produit contenant le plus de sucres : Granola Gros éclats de Chocolat\n"
     ]
    }
   ],
   "source": [
    "liste = [7622300689124, 3083680026321, 3302741859105, 5449000232465, 3095756193011, 3261055930422, 8076808140325]\n",
    "comparer_produits(liste)"
   ]
  }
 ],
 "metadata": {
  "kernelspec": {
   "display_name": "Python 3",
   "language": "python",
   "name": "python3"
  },
  "language_info": {
   "codemirror_mode": {
    "name": "ipython",
    "version": 3
   },
   "file_extension": ".py",
   "mimetype": "text/x-python",
   "name": "python",
   "nbconvert_exporter": "python",
   "pygments_lexer": "ipython3",
   "version": "3.8.8"
  }
 },
 "nbformat": 4,
 "nbformat_minor": 2
}
