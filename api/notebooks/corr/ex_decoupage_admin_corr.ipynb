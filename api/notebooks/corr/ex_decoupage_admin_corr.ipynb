{
 "cells": [
  {
   "cell_type": "markdown",
   "metadata": {},
   "source": [
    "<div style='background-color: #e3a8b6;\n",
    "    border: 0.5em solid black;\n",
    "    border-radius: 0.5em;\n",
    "    padding: 1em;'>\n",
    "    <h2>Exercice</h2>\n",
    "    <h1>Découpage administratif</h1>\n",
    "</div>"
   ]
  },
  {
   "cell_type": "markdown",
   "metadata": {},
   "source": [
    "Grâce à l'API [Découpage administratif](https://geo.api.gouv.fr/decoupage-administratif/communes), le gouvernement français met à disposition des données sur les communes : population, superficie, limites géographiques, etc.\n",
    "\n",
    "**(1)** ✏️ Cliquer le lien [https://geo.api.gouv.fr/communes?nom=Nogent-sur-Marne&boost=population&fields=population,surface,centre,contour](https://geo.api.gouv.fr/communes?nom=Nogent-sur-Marne&boost=population&fields=population,surface,centre,contour) puis déterminer quelles sont les données renvoyées par l'API.\n",
    "\n",
    "**(2)** ✏️ Sachant que Nogent-sur-Marne a une superficie de 2,8 km², déterminer dans quelle unité est exprimée la surface renvoyée par l'API.\n",
    "\n",
    "**(3)** 💻 Définir une fonction `interroger_API_decoupage_admin` qui prend en paramètre d'entrée une chaîne de caractères correspondant à un nom de ville française et qui renvoie un dictionnaire dont les clés sont `'nom'`, `'population'`, `'superficie'`, `'densité'`, `centre` et `'contour'`. La superficie sera donnée en kilomètres carrés et arrondie au centième. La densité sera donnée en habitants par kilomètre carré et arrondie à l'unité."
   ]
  },
  {
   "cell_type": "code",
   "execution_count": null,
   "metadata": {},
   "outputs": [],
   "source": [
    "import requests"
   ]
  },
  {
   "cell_type": "code",
   "execution_count": null,
   "metadata": {},
   "outputs": [],
   "source": [
    "def interroger_API_decoupage_admin(nom):\n",
    "    \"\"\"\n",
    "    Récupère des informations sur une commune française via l'API Découpage administratif.\n",
    "    - Entrée : nom (chaîne de caractères, nom d'une commune française)\n",
    "    - Sortie : dictionnaire dont les clés sont 'nom', 'population', 'superficie' (en km2), 'densité',\n",
    "               'centre' (coordonnées géographiques du centre de la commune), 'contour' (au format GeoJSON)\n",
    "    \"\"\"\n",
    "    url = f\"https://geo.api.gouv.fr/communes?nom={nom}&boost=population&fields=population,surface,centre,contour\"\n",
    "    reponse = requests.get(url)\n",
    "    reponse = reponse.json()\n",
    "    nom = reponse[0]['nom']\n",
    "    population = reponse[0]['population']\n",
    "    superficie = reponse[0]['surface'] / 100\n",
    "    coord_centre = reponse[0]['centre']['coordinates']\n",
    "    contour = reponse[0]['contour']\n",
    "    return {'nom': nom, 'population': population, 'superficie': round(superficie, 2),\n",
    "            'densité': round(population / superficie), 'centre': (coord_centre[1], coord_centre[0]),\n",
    "            'contour': contour}"
   ]
  },
  {
   "cell_type": "code",
   "execution_count": null,
   "metadata": {},
   "outputs": [],
   "source": [
    "interroger_API_decoupage_admin('Nogent-sur-Marne')"
   ]
  },
  {
   "cell_type": "markdown",
   "metadata": {},
   "source": [
    "⚠️ La suite de l'exercice utilise le module `folium`, qui peut être installé en exécutant la cellule ci-dessous."
   ]
  },
  {
   "cell_type": "code",
   "execution_count": null,
   "metadata": {},
   "outputs": [],
   "source": [
    "import sys\n",
    "!{sys.executable} -m pip install folium"
   ]
  },
  {
   "cell_type": "markdown",
   "metadata": {},
   "source": [
    "On définit maintenant une carte grâce au module `folium`."
   ]
  },
  {
   "cell_type": "code",
   "execution_count": null,
   "metadata": {},
   "outputs": [],
   "source": [
    "import folium"
   ]
  },
  {
   "cell_type": "code",
   "execution_count": null,
   "metadata": {},
   "outputs": [],
   "source": [
    "ma_carte = folium.Map(location=(48.853,2.349), tiles='OpenStreetMap', zoom_start=11)"
   ]
  },
  {
   "cell_type": "markdown",
   "metadata": {},
   "source": [
    "Cette carte représente Paris et une partie de sa banlieue. Elle peut être affichée dans le carnet _Jupyter_ en exécutant la cellule suivante."
   ]
  },
  {
   "cell_type": "code",
   "execution_count": null,
   "metadata": {},
   "outputs": [],
   "source": [
    "ma_carte"
   ]
  },
  {
   "cell_type": "markdown",
   "metadata": {},
   "source": [
    "**(4)** 💻 Définir une procédure `dessiner_commune` qui prend en paramètre d'entrée une chaîne de caractères correspondant à un nom de ville française, qui dessine les contours de la commune et qui place un marqueur au centre de la commune. En cas de survol du marqueur par la souris, le nom de la ville doit s'afficher, et en cas de clic sur le marqueur, une fenêtre popup doit s'ouvrir, en indiquant la population et la superficie de la commune.\n",
    "\n",
    "Vous pourrez vous aider de la [documentation](http://python-visualization.github.io/folium/modules.html#module-folium.map) du module `folium`, en particulier les explications sur `Marker`,`Popup` et `GeoJson`."
   ]
  },
  {
   "cell_type": "code",
   "execution_count": null,
   "metadata": {},
   "outputs": [],
   "source": [
    "def dessiner_commune(nom, carte):\n",
    "    \"\"\"\n",
    "    Ajoute sur une carte la représentation d'une commune.\n",
    "    - Entrées : nom (chaîne de caractères, nom d'une commune française), carte (carte créée avec le module folium)\n",
    "    Effet de bord : modification de la carte\n",
    "    \"\"\"\n",
    "    dico = interroger_API_decoupage_admin(nom)\n",
    "    html = f\"Population : {dico['population']} hab.<br>Superficie : {dico['superficie']} km2\"\n",
    "    folium.Marker(dico['centre'], tooltip=dico['nom'], popup=folium.Popup(html=html, max_width=300)).add_to(carte)\n",
    "    folium.GeoJson(dico['contour']).add_to(carte)"
   ]
  },
  {
   "cell_type": "code",
   "execution_count": null,
   "metadata": {},
   "outputs": [],
   "source": [
    "ma_carte = folium.Map(location=(48.853,2.349), tiles='OpenStreetMap', zoom_start=11)\n",
    "dessiner_commune('Nogent-sur-Marne', ma_carte)\n",
    "dessiner_commune('Argenteuil', ma_carte)\n",
    "dessiner_commune('Meudon', ma_carte)\n",
    "dessiner_commune('Saint-Denis', ma_carte)\n",
    "dessiner_commune('Clermont-Ferrand', ma_carte)\n",
    "ma_carte # affichage de la carte sous la cellule"
   ]
  },
  {
   "cell_type": "markdown",
   "metadata": {},
   "source": [
    "Lorsque plusieurs villes portent le même nom, ce sont les caractéristiques de la ville la plus peuplée qui sont renvoyées par la fonction `interroger_API_decoupage_admin`. En effet, dans la définition de cette fonction, l'API est interrogée avec l'argument _boost=population_, ce qui met en avant (en première position dans `reponse`) la ville la plus peuplée. C'est la raison pour laquelle l'appel `dessiner_commune('Saint-Denis')` marque la ville de Saint-Denis de la Réunion, qui est plus peuplée que Saint-Denis en Seine-Saint-Denis."
   ]
  }
 ],
 "metadata": {
  "kernelspec": {
   "display_name": "Python 3 (ipykernel)",
   "language": "python",
   "name": "python3"
  },
  "language_info": {
   "codemirror_mode": {
    "name": "ipython",
    "version": 3
   },
   "file_extension": ".py",
   "mimetype": "text/x-python",
   "name": "python",
   "nbconvert_exporter": "python",
   "pygments_lexer": "ipython3",
   "version": "3.9.12"
  }
 },
 "nbformat": 4,
 "nbformat_minor": 2
}
