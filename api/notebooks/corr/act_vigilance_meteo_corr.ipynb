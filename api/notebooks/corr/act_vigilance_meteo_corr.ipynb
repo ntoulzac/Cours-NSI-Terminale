{
 "cells": [
  {
   "cell_type": "markdown",
   "metadata": {},
   "source": [
    "<div style='background-color: #87ceeb;\n",
    "    border: 0.5em solid black;\n",
    "    border-radius: 0.5em;\n",
    "    padding: 1em;'>\n",
    "    <h2>Activité</h2>\n",
    "    <h1>Carte de vigilance météorologique</h1>\n",
    "</div>"
   ]
  },
  {
   "cell_type": "markdown",
   "metadata": {},
   "source": [
    "Les cartes de vigilance de Météo France permettent, depuis 2001, d'alerter la population avant la survenue de divers phénomènes tels que les vents violents, les fortes précipitations, les orages, les avalanches, etc. Elles ont été imaginées à la suite des deux tempêtes qui ont traversé la France les 26 et 27 décembre 1999 et ont tué 92 personnes.\n",
    "\n",
    "Si elles avaient existé à l'époque, voici quelles auraient été les cartes de vigilance des 26 et 27 décembre 1999 :\n",
    "\n",
    "<img src='https://ntoulzac.github.io/Cours-NSI-Terminale/api/images/vigilance_1999-12-26.svg' width=\"49%\" style=\"display:inline-block;\">\n",
    "<img src='https://ntoulzac.github.io/Cours-NSI-Terminale/api/images/vigilance_1999-12-27.svg' width=\"49%\" style=\"display:inline-block;\">\n",
    "\n",
    "*OpenDataSoft* met à disposition une API permettant de connaître, pour chaque département de l'Hexagone, la couleur et le ou les risques associés.\n",
    "\n",
    "Pour obtenir au format JSON l'ensemble des informations disponibles, il suffit d'interroger l'API en se rendant à l'adresse [https://public.opendatasoft.com/api/records/1.0/search/?dataset=vigilance-meteorologique&rows=100](https://public.opendatasoft.com/api/records/1.0/search/?dataset=vigilance-meteorologique&rows=100).\n",
    "\n",
    "**(1)** ✏️ Après avoir cliqué sur le lien permettant d'interroger l'API et avoir affiché les données renvoyées par l'API sous forme de dictionnaire, déterminer :\n",
    "- le nombre de clés que possède le dictionnaire,\n",
    "- quel est le type de la valeur associée à la clé `records`, combien d'éléments elle contient et de quel type sont ces éléments.\n",
    "\n",
    "On a isolé un extrait des données concernant un département :\n",
    "\n",
    "```json\n",
    "{\"datasetid\": \"vigilance-meteorologique\",\n",
    " \"recordid\": \"57e3f6dfb550022b892dba19b4215ce6fad943d2\",\n",
    " \"fields\": {\"nom_dept\": \"NORD\",\n",
    "            \"dep\": \"59\",\n",
    "            \"geo_point_2d\": [50.4475936458, 3.21550472852],\n",
    "            \"couleur\": \"Jaune\",\n",
    "            \"geo_shape\": {\"type\": \"MultiPolygon\", \"coordinates\": [###_trop_long_pour_être_recopié_###]]},\n",
    "            \"risque_valeur\": \"Orages\"},\n",
    " \"geometry\": {\"type\": \"Point\",\n",
    "              \"coordinates\": [3.21550472852, 50.4475936458]},\n",
    " \"record_timestamp\": \"1970-01-01T00:00:00+00:00\"}\n",
    "```\n",
    "\n",
    "**(2)** ✏️ Si on suppose que ces données sont stockées dans un dictionnaire appelé `donnees`, déterminer quelles expressions\n",
    "permettent d'obtenir :\n",
    "- le numéro du département,\n",
    "- la couleur correspondant au risque identifié dans le département.\n",
    "\n",
    "**(3)** 💻 Écrire la spécification de la fonction `interroger_API_vigilance_meteo`."
   ]
  },
  {
   "cell_type": "code",
   "execution_count": null,
   "metadata": {},
   "outputs": [],
   "source": [
    "import requests"
   ]
  },
  {
   "cell_type": "code",
   "execution_count": null,
   "metadata": {},
   "outputs": [],
   "source": [
    "COULEURS = {'Vert': '#008000', 'Jaune': '#ffff00', 'Orange': '#ff5e13', 'Rouge': '#ff0000'}"
   ]
  },
  {
   "cell_type": "code",
   "execution_count": null,
   "metadata": {},
   "outputs": [],
   "source": [
    "def interroger_API_vigilance_meteo():\n",
    "    \"\"\"\n",
    "    Détermine, pour chaque département, sa couleur sur la carte de vigilance de Météo France.\n",
    "    - Sortie : dico (dictionnaire dont les clés sont les numéros des départements et la valeur associée\n",
    "                     est le code RGB correspondant à la couleur du département)\n",
    "    \"\"\"\n",
    "    url = \"https://public.opendatasoft.com/api/records/1.0/search/?dataset=vigilance-meteorologique&rows=100\"\n",
    "    reponse = requests.get(url)\n",
    "    reponse = reponse.json()\n",
    "    dico = {elem['fields']['dep'] : COULEURS[elem['fields']['couleur']] for elem in reponse['records']}\n",
    "    return dico"
   ]
  },
  {
   "cell_type": "markdown",
   "metadata": {},
   "source": [
    "La cellule suivante met à notre disposition une procédure `creer_svg_departements` qui permet de créer une carte des départements de l'Hexagone en couleurs et au format SVG. La procédure prend deux ou trois paramètres d'entrée :\n",
    "- un dictionnaire qui associe à chaque numéro de département un code couleur RGB,\n",
    "- une chaîne de caractères qui est le nom de fichier SVG dans lequel stocker la carte,\n",
    "- un booléen (optionnel,  valant `False` par défaut) qui permet de décider d'afficher ou pas la carte dans le carnet *Jupyter*."
   ]
  },
  {
   "cell_type": "code",
   "execution_count": null,
   "metadata": {},
   "outputs": [],
   "source": [
    "from carte_france import creer_svg_departements"
   ]
  },
  {
   "cell_type": "markdown",
   "metadata": {},
   "source": [
    "**(4)** ✏️ 💻 Écrire des lignes de code permettant d'enregistrer dans un fichier `vigilance.svg` la carte de vigilance de Météo France et de l'afficher dans le carnet *Jupyter*."
   ]
  },
  {
   "cell_type": "code",
   "execution_count": null,
   "metadata": {},
   "outputs": [],
   "source": [
    "dictionnaire_couleurs = interroger_API_vigilance_meteo()\n",
    "creer_svg_departements(dictionnaire_couleurs, 'vigilance.svg', True)"
   ]
  },
  {
   "cell_type": "markdown",
   "metadata": {},
   "source": [
    "<div style='background-color: #87ceeb;\n",
    "    border-radius: 0.5em;\n",
    "    padding: 1em;'>\n",
    "    <h2>Pour aller plus loin...</h2>\n",
    "</div>"
   ]
  },
  {
   "cell_type": "markdown",
   "metadata": {},
   "source": [
    "**(5)** 💻 Modifier la définition de la fonction `interroger_API_vigilance_meteo` pour qu'elle renvoie un dictionnaire :\n",
    "- dont les clés sont les numéros des départements,\n",
    "- et dont les valeurs associées aux clés sont des dictionnaires dont les clés sont `'nom_dep'` (nom du département), `'couleur'` (couleur du département), `'contour'` (limites géographiques du département au format GeoJSON) et, dans le cas où le département n'est pas vert, `'risque'` (type de risque identifié dans le département)."
   ]
  },
  {
   "cell_type": "code",
   "execution_count": null,
   "metadata": {},
   "outputs": [],
   "source": [
    "def interroger_API_vigilance_meteo():\n",
    "    \"\"\"\n",
    "    Détermine, pour chaque département, son nom, sa couleur et son risque sur la carte de vigilance de Météo France.\n",
    "    - Sortie : dico (dictionnaire dont les clés sont les numéros des départements et la valeur associée\n",
    "                     est un dictionnaire dont les clés sont 'nom_dep', 'couleur', 'contour' (limites départementales\n",
    "                     au format GeoJSON) et eventuellement 'risque')\n",
    "    \"\"\"\n",
    "    url = \"https://public.opendatasoft.com/api/records/1.0/search/?dataset=vigilance-meteorologique&rows=100\"\n",
    "    reponse = requests.get(url)\n",
    "    reponse = reponse.json()\n",
    "    dico = {}\n",
    "    for elem in reponse['records']:\n",
    "        donnees = elem['fields']\n",
    "        dico[donnees['dep']] = {'nom_dep': donnees['nom_dept'],\n",
    "                                'couleur': donnees['couleur'],\n",
    "                                'contour': donnees['geo_shape']}\n",
    "        if donnees['couleur'] != 'Vert':\n",
    "            dico[donnees['dep']]['risque'] = f\"risque {donnees['risque_valeur'].lower()}\"\n",
    "    return dico"
   ]
  },
  {
   "cell_type": "markdown",
   "metadata": {},
   "source": [
    "⚠️ La suite de l'activité utilise le module `folium`, qui peut être installé en exécutant la cellule ci-dessous."
   ]
  },
  {
   "cell_type": "code",
   "execution_count": null,
   "metadata": {},
   "outputs": [],
   "source": [
    "import sys\n",
    "!{sys.executable} -m pip install folium"
   ]
  },
  {
   "cell_type": "markdown",
   "metadata": {},
   "source": [
    "**(6)** 💻 Tester la fonction `interroger_API_vigilance_meteo` en exécutant la cellule suivante :"
   ]
  },
  {
   "cell_type": "code",
   "execution_count": null,
   "metadata": {
    "scrolled": false
   },
   "outputs": [],
   "source": [
    "import folium\n",
    "\n",
    "def fonction_couleur(coul):\n",
    "    def fonction_de_style(x):\n",
    "        return {'color': '#000000', 'weight': 1, 'fillColor': coul, 'fillOpacity': 1}\n",
    "    return fonction_de_style\n",
    "\n",
    "COULEURS = {'Vert': '#008000', 'Jaune': '#ffff00', 'Orange': '#ff5e13', 'Rouge': '#ff0000'}\n",
    "\n",
    "def creer_carte_vigilance(dico):\n",
    "    \"\"\"\n",
    "    Crée une carte de vigilance Météo France via le module folium.\n",
    "    - Entrée : dico (dictionnaire dont les clés sont les numéros des départements et la valeur associée\n",
    "                     est un dictionnaire dont les clés sont 'nom_dep', 'couleur', 'contour' (limites départementales\n",
    "                     au format GeoJSON) et eventuellement 'risque')\n",
    "    - Sortie : carte (instance de la classe folium.Map)\n",
    "    \"\"\"\n",
    "    carte = folium.Map(location=(46.513 ,2.576), tiles=None, zoom_start=6)\n",
    "    for cle in dico:\n",
    "        contour = dico[cle]['contour']\n",
    "        if dico[cle]['couleur'] != 'Vert':\n",
    "            message = f\"{dico[cle]['nom_dep']} {dico[cle]['risque']}\"\n",
    "        else:\n",
    "            message = None\n",
    "        fonc_coul = fonction_couleur(COULEURS[dico[cle]['couleur']])\n",
    "        folium.GeoJson(contour, tooltip=message, style_function=fonc_coul).add_to(carte)\n",
    "    return carte\n",
    "\n",
    "creer_carte_vigilance(interroger_API_vigilance_meteo())"
   ]
  },
  {
   "cell_type": "markdown",
   "metadata": {},
   "source": [
    "**(6)** 💻 Modifier la définition de la fonction `creer_carte_vigilance` de sorte que, lors du survol d'un département jaune, orange ou rouge avec la souris, le nom du département apparaisse en gras et le risque apparaisse en italique sur la ligne en dessous."
   ]
  },
  {
   "cell_type": "code",
   "execution_count": null,
   "metadata": {},
   "outputs": [],
   "source": [
    "import folium\n",
    "\n",
    "def fonction_couleur(coul):\n",
    "    def fonction_de_style(x):\n",
    "        return {'color': '#000000', 'weight': 1, 'fillColor': coul, 'fillOpacity': 1}\n",
    "    return fonction_de_style\n",
    "\n",
    "COULEURS = {'Vert': '#008000', 'Jaune': '#ffff00', 'Orange': '#ff5e13', 'Rouge': '#ff0000'}\n",
    "\n",
    "def creer_carte_vigilance(dico):\n",
    "    carte = folium.Map(location=(46.513 ,2.576), tiles=None, zoom_start=6)\n",
    "    for cle in dico:\n",
    "        contour = dico[cle]['contour']\n",
    "        if dico[cle]['couleur'] != 'Vert':\n",
    "            message = f\"<b>{dico[cle]['nom_dep']}</b><br><i>{dico[cle]['risque']}</i>\"\n",
    "        else:\n",
    "            message = None\n",
    "        fonc_coul = fonction_couleur(COULEURS[dico[cle]['couleur']])\n",
    "        folium.GeoJson(contour, tooltip=message, style_function=fonc_coul).add_to(carte)\n",
    "    return carte\n",
    "\n",
    "creer_carte_vigilance(interroger_API_vigilance_meteo())"
   ]
  }
 ],
 "metadata": {
  "kernelspec": {
   "display_name": "Python 3",
   "language": "python",
   "name": "python3"
  },
  "language_info": {
   "codemirror_mode": {
    "name": "ipython",
    "version": 3
   },
   "file_extension": ".py",
   "mimetype": "text/x-python",
   "name": "python",
   "nbconvert_exporter": "python",
   "pygments_lexer": "ipython3",
   "version": "3.8.5"
  }
 },
 "nbformat": 4,
 "nbformat_minor": 4
}
