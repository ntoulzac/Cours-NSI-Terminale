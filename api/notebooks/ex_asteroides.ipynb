{
 "cells": [
  {
   "cell_type": "markdown",
   "metadata": {},
   "source": [
    "<div style='background-color: #e3a8b6;\n",
    "    border: 0.5em solid black;\n",
    "    border-radius: 0.5em;\n",
    "    padding: 1em;'>\n",
    "    <h2>Exercice</h2>\n",
    "    <h1>Astéroïdes à surveiller</h1>\n",
    "</div>"
   ]
  },
  {
   "cell_type": "markdown",
   "metadata": {},
   "source": [
    "[_Near Earth Object Web Service_](https://api.nasa.gov/) (*NEOWS*) est une API par l'intermédiaire de laquelle la NASA met à disposition des données sur les astéroïdes passant à proximité de la Terre.\n",
    "\n",
    "Contrairement à l'API *Base Adresse Nationale*, l'utilisation de cette API nécessite de disposer d'une **clé d'API**, qui permet d'identifier le programme consommateur et éventuellement de limiter le nombre de requêtes autorisées.\n",
    "\n",
    "La clé de démonstration `DEMO_KEY` est fournie par la NASA pour tester l'API. Le nombre de requêtes est néanmoins limité à 30 par heure et par adresse IP et à 50 par jour et par adresse IP. Vous pouvez vous inscrire [ici](https://api.nasa.gov/) pour obtenir une clé gratuite personnelle ou bien utiliser la clé figurant sur le cahier."
   ]
  },
  {
   "cell_type": "code",
   "execution_count": null,
   "metadata": {},
   "outputs": [],
   "source": [
    "CLE_API = 'DEMO-KEY' # Clé d'API personnelle à insérer ici..."
   ]
  },
  {
   "cell_type": "markdown",
   "metadata": {},
   "source": [
    "**(1)** ✏️ Après avoir cliqué sur le lien [https://api.nasa.gov/neo/rest/v1/feed?start_date=2021-08-01&end_date=2021-08-01&api_key=DEMO_KEY](https://api.nasa.gov/neo/rest/v1/feed?start_date=2021-08-01&end_date=2021-08-01&api_key=DEMO_KEY), déterminer à quoi correspond le champ `element_count`.\n",
    "\n",
    "**(2)** 💻 Compléter la définition de la fonction `interroger_API_NEOWS` qui prend en paramètre d'entrée une chaîne de caractères (correspondant à une date au format `AAAA-MM-JJ`) et qui renvoie un tableau dont les élements sont des dictionnaires possédant les clés suivantes : \n",
    "- `nom` : nom d'un astéroïde passé proche de la Terre à la date considérée,\n",
    "- `taille` : taille (minimale) de l'astéroïde, en mètres,\n",
    "- `distance` : distance entre le centre de la Terre et l'astéroïde au moment de son passage le plus proche, en kilomètres."
   ]
  },
  {
   "cell_type": "code",
   "execution_count": null,
   "metadata": {},
   "outputs": [],
   "source": [
    "import requests"
   ]
  },
  {
   "cell_type": "code",
   "execution_count": null,
   "metadata": {},
   "outputs": [],
   "source": [
    "def interroger_API_NEOWS(date):\n",
    "    \"\"\"\n",
    "    Détermine la liste des astéroïdes identifiés par la NASA comme ayant approché la Terre à une date donnée.\n",
    "    - Entrée : date (chaîne de caractères, date au format AAAA-MM-JJ)\n",
    "    - Sortie : aster (tableau de dictionnaires)\n",
    "    Attention, penser à importer le module requests !\n",
    "    \"\"\"\n",
    "    url = ......\n",
    "    reponse = requests.get(url)\n",
    "    reponse = reponse.json()\n",
    "    nb_aster = int(......)\n",
    "    liste_objets = ......\n",
    "    if len(liste_objets) != ......:\n",
    "        raise ValueError('Problème au niveau des données reçues')\n",
    "    aster = [{'nom': ......,\n",
    "              'taille': round(float(......)),\n",
    "              'distance' : round(float(......))}\n",
    "             for objet in liste_objets]\n",
    "    return aster"
   ]
  },
  {
   "cell_type": "markdown",
   "metadata": {},
   "source": [
    "**(3)** ✏️ 💻 Écrire des lignes de code permettant d'afficher le nom des astéroïdes passés à moins d'un million de kilomètres de la Terre le 13 novembre 2020, ainsi que leur taille et la distance à laquelle ils sont passés."
   ]
  },
  {
   "cell_type": "code",
   "execution_count": null,
   "metadata": {},
   "outputs": [],
   "source": []
  },
  {
   "cell_type": "code",
   "execution_count": null,
   "metadata": {},
   "outputs": [],
   "source": []
  },
  {
   "cell_type": "markdown",
   "metadata": {},
   "source": [
    "**(4)** 💻 Définir une fonction `plus_proche_asteroide` qui prend en paramètre d'entrée un tableau de dictionnaires et qui retourne à quelle distance du centre de la Terre est passé l'astéroïde s'étant le plus approché (parmi ceux identifiés dans le tableau)."
   ]
  },
  {
   "cell_type": "code",
   "execution_count": null,
   "metadata": {},
   "outputs": [],
   "source": []
  },
  {
   "cell_type": "code",
   "execution_count": null,
   "metadata": {},
   "outputs": [],
   "source": []
  },
  {
   "cell_type": "markdown",
   "metadata": {},
   "source": [
    "**(5)** 💻 Définir une fonction `plus_gros_asteroide` qui prend en paramètre d'entrée un tableau de dictionnaires et qui retourne la taille du plus gros astéroïde (parmi ceux identifiés dans le tableau)."
   ]
  },
  {
   "cell_type": "code",
   "execution_count": null,
   "metadata": {},
   "outputs": [],
   "source": []
  },
  {
   "cell_type": "code",
   "execution_count": null,
   "metadata": {},
   "outputs": [],
   "source": []
  }
 ],
 "metadata": {
  "kernelspec": {
   "display_name": "Python 3",
   "language": "python",
   "name": "python3"
  },
  "language_info": {
   "codemirror_mode": {
    "name": "ipython",
    "version": 3
   },
   "file_extension": ".py",
   "mimetype": "text/x-python",
   "name": "python",
   "nbconvert_exporter": "python",
   "pygments_lexer": "ipython3",
   "version": "3.8.8"
  }
 },
 "nbformat": 4,
 "nbformat_minor": 2
}
