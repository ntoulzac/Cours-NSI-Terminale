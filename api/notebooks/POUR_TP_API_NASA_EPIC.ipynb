{
 "cells": [
  {
   "cell_type": "markdown",
   "metadata": {},
   "source": [
    "# TP API : NASA (EPIC)"
   ]
  },
  {
   "cell_type": "markdown",
   "metadata": {},
   "source": [
    "https://epic.gsfc.nasa.gov/archive/natural/2017/08/21/png/epic_1b_20170821171450.png (éclipse)\n",
    "https://epic.gsfc.nasa.gov/archive/natural/2016/03/09/png/epic_1b_20160309022104.png (éclipse)\n",
    "https://epic.gsfc.nasa.gov/archive/natural/2021/02/11/png/epic_1b_20210211024604.png (lune sur la photo)"
   ]
  },
  {
   "cell_type": "code",
   "execution_count": 7,
   "metadata": {},
   "outputs": [],
   "source": [
    "import requests"
   ]
  },
  {
   "cell_type": "code",
   "execution_count": 8,
   "metadata": {},
   "outputs": [],
   "source": [
    "def liste_images(jour, mois, annee):\n",
    "    if mois < 10:\n",
    "        mois = '0' + str(mois)\n",
    "    if jour < 10:\n",
    "        jour = '0' + str(jour)\n",
    "    reponse = requests.get(f\"https://epic.gsfc.nasa.gov/api/natural/date/{annee}-{mois}-{jour}\")\n",
    "    reponse = reponse.json()\n",
    "    return [f\"https://epic.gsfc.nasa.gov/archive/natural//{annee}/{mois}/{jour}/png/{reponse[k]['image']}.png\" for k in range(len(reponse))]"
   ]
  },
  {
   "cell_type": "code",
   "execution_count": 9,
   "metadata": {},
   "outputs": [],
   "source": [
    "from IPython.display import HTML\n",
    "\n",
    "def afficher_image_depuis_url(*urls):\n",
    "    code_html = \"<style> img {float: left; margin: 0; padding :0;}</style>\"\n",
    "    for url in urls:\n",
    "        code_html += f\"<img src='{url}' width='30%'>\"\n",
    "    return HTML(code_html)"
   ]
  },
  {
   "cell_type": "code",
   "execution_count": 10,
   "metadata": {},
   "outputs": [],
   "source": [
    "ma_liste = liste_images(18, 6, 2020)"
   ]
  },
  {
   "cell_type": "code",
   "execution_count": 11,
   "metadata": {
    "scrolled": false
   },
   "outputs": [
    {
     "data": {
      "text/html": [
       "<style> img {float: left; margin: 0; padding :0;}</style><img src='https://epic.gsfc.nasa.gov/archive/natural//2020/06/18/png/epic_1b_20200618000831.png' width='30%'><img src='https://epic.gsfc.nasa.gov/archive/natural//2020/06/18/png/epic_1b_20200618011358.png' width='30%'><img src='https://epic.gsfc.nasa.gov/archive/natural//2020/06/18/png/epic_1b_20200618021926.png' width='30%'><img src='https://epic.gsfc.nasa.gov/archive/natural//2020/06/18/png/epic_1b_20200618032453.png' width='30%'><img src='https://epic.gsfc.nasa.gov/archive/natural//2020/06/18/png/epic_1b_20200618043021.png' width='30%'><img src='https://epic.gsfc.nasa.gov/archive/natural//2020/06/18/png/epic_1b_20200618053548.png' width='30%'><img src='https://epic.gsfc.nasa.gov/archive/natural//2020/06/18/png/epic_1b_20200618064115.png' width='30%'><img src='https://epic.gsfc.nasa.gov/archive/natural//2020/06/18/png/epic_1b_20200618074642.png' width='30%'><img src='https://epic.gsfc.nasa.gov/archive/natural//2020/06/18/png/epic_1b_20200618085210.png' width='30%'><img src='https://epic.gsfc.nasa.gov/archive/natural//2020/06/18/png/epic_1b_20200618095737.png' width='30%'><img src='https://epic.gsfc.nasa.gov/archive/natural//2020/06/18/png/epic_1b_20200618110305.png' width='30%'><img src='https://epic.gsfc.nasa.gov/archive/natural//2020/06/18/png/epic_1b_20200618120833.png' width='30%'><img src='https://epic.gsfc.nasa.gov/archive/natural//2020/06/18/png/epic_1b_20200618131400.png' width='30%'><img src='https://epic.gsfc.nasa.gov/archive/natural//2020/06/18/png/epic_1b_20200618141928.png' width='30%'><img src='https://epic.gsfc.nasa.gov/archive/natural//2020/06/18/png/epic_1b_20200618152455.png' width='30%'><img src='https://epic.gsfc.nasa.gov/archive/natural//2020/06/18/png/epic_1b_20200618163023.png' width='30%'><img src='https://epic.gsfc.nasa.gov/archive/natural//2020/06/18/png/epic_1b_20200618173551.png' width='30%'><img src='https://epic.gsfc.nasa.gov/archive/natural//2020/06/18/png/epic_1b_20200618184118.png' width='30%'><img src='https://epic.gsfc.nasa.gov/archive/natural//2020/06/18/png/epic_1b_20200618194646.png' width='30%'><img src='https://epic.gsfc.nasa.gov/archive/natural//2020/06/18/png/epic_1b_20200618205213.png' width='30%'><img src='https://epic.gsfc.nasa.gov/archive/natural//2020/06/18/png/epic_1b_20200618215740.png' width='30%'><img src='https://epic.gsfc.nasa.gov/archive/natural//2020/06/18/png/epic_1b_20200618230308.png' width='30%'>"
      ],
      "text/plain": [
       "<IPython.core.display.HTML object>"
      ]
     },
     "execution_count": 11,
     "metadata": {},
     "output_type": "execute_result"
    }
   ],
   "source": [
    "afficher_image_depuis_url(*ma_liste)"
   ]
  },
  {
   "cell_type": "code",
   "execution_count": 6,
   "metadata": {},
   "outputs": [],
   "source": [
    "ma_liste = liste_images(11, 2, 2021)"
   ]
  },
  {
   "cell_type": "code",
   "execution_count": 7,
   "metadata": {},
   "outputs": [
    {
     "data": {
      "text/html": [
       "<style> img {float: left; margin: 0; padding :0;}</style><img src='https://epic.gsfc.nasa.gov/archive/natural//2021/02/11/png/epic_1b_20210211004104.png' width='30%'><img src='https://epic.gsfc.nasa.gov/archive/natural//2021/02/11/png/epic_1b_20210211005709.png' width='30%'><img src='https://epic.gsfc.nasa.gov/archive/natural//2021/02/11/png/epic_1b_20210211011209.png' width='30%'><img src='https://epic.gsfc.nasa.gov/archive/natural//2021/02/11/png/epic_1b_20210211012604.png' width='30%'><img src='https://epic.gsfc.nasa.gov/archive/natural//2021/02/11/png/epic_1b_20210211014104.png' width='30%'><img src='https://epic.gsfc.nasa.gov/archive/natural//2021/02/11/png/epic_1b_20210211015604.png' width='30%'><img src='https://epic.gsfc.nasa.gov/archive/natural//2021/02/11/png/epic_1b_20210211021209.png' width='30%'><img src='https://epic.gsfc.nasa.gov/archive/natural//2021/02/11/png/epic_1b_20210211022709.png' width='30%'><img src='https://epic.gsfc.nasa.gov/archive/natural//2021/02/11/png/epic_1b_20210211024604.png' width='30%'><img src='https://epic.gsfc.nasa.gov/archive/natural//2021/02/11/png/epic_1b_20210211025709.png' width='30%'><img src='https://epic.gsfc.nasa.gov/archive/natural//2021/02/11/png/epic_1b_20210211031209.png' width='30%'>"
      ],
      "text/plain": [
       "<IPython.core.display.HTML object>"
      ]
     },
     "execution_count": 7,
     "metadata": {},
     "output_type": "execute_result"
    }
   ],
   "source": [
    "afficher_image_depuis_url(*ma_liste)"
   ]
  },
  {
   "cell_type": "code",
   "execution_count": 10,
   "metadata": {},
   "outputs": [],
   "source": [
    "ma_liste = liste_images(21, 8, 2017)"
   ]
  },
  {
   "cell_type": "code",
   "execution_count": 11,
   "metadata": {},
   "outputs": [
    {
     "data": {
      "text/html": [
       "<style> img {float: left; margin: 0; padding :0;}</style><img src='https://epic.gsfc.nasa.gov/archive/natural//2017/08/21/png/epic_1b_20170821151450.png' width='30%'><img src='https://epic.gsfc.nasa.gov/archive/natural//2017/08/21/png/epic_1b_20170821154450.png' width='30%'><img src='https://epic.gsfc.nasa.gov/archive/natural//2017/08/21/png/epic_1b_20170821161450.png' width='30%'><img src='https://epic.gsfc.nasa.gov/archive/natural//2017/08/21/png/epic_1b_20170821164450.png' width='30%'><img src='https://epic.gsfc.nasa.gov/archive/natural//2017/08/21/png/epic_1b_20170821171450.png' width='30%'><img src='https://epic.gsfc.nasa.gov/archive/natural//2017/08/21/png/epic_1b_20170821174450.png' width='30%'><img src='https://epic.gsfc.nasa.gov/archive/natural//2017/08/21/png/epic_1b_20170821181450.png' width='30%'><img src='https://epic.gsfc.nasa.gov/archive/natural//2017/08/21/png/epic_1b_20170821184450.png' width='30%'><img src='https://epic.gsfc.nasa.gov/archive/natural//2017/08/21/png/epic_1b_20170821191450.png' width='30%'><img src='https://epic.gsfc.nasa.gov/archive/natural//2017/08/21/png/epic_1b_20170821194450.png' width='30%'><img src='https://epic.gsfc.nasa.gov/archive/natural//2017/08/21/png/epic_1b_20170821201450.png' width='30%'><img src='https://epic.gsfc.nasa.gov/archive/natural//2017/08/21/png/epic_1b_20170821204450.png' width='30%'>"
      ],
      "text/plain": [
       "<IPython.core.display.HTML object>"
      ]
     },
     "execution_count": 11,
     "metadata": {},
     "output_type": "execute_result"
    }
   ],
   "source": [
    "afficher_image_depuis_url(*ma_liste)"
   ]
  }
 ],
 "metadata": {
  "kernelspec": {
   "display_name": "Python 3",
   "language": "python",
   "name": "python3"
  },
  "language_info": {
   "codemirror_mode": {
    "name": "ipython",
    "version": 3
   },
   "file_extension": ".py",
   "mimetype": "text/x-python",
   "name": "python",
   "nbconvert_exporter": "python",
   "pygments_lexer": "ipython3",
   "version": "3.8.5"
  }
 },
 "nbformat": 4,
 "nbformat_minor": 5
}
