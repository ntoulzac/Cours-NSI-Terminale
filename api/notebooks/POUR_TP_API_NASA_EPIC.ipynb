{
 "cells": [
  {
   "cell_type": "markdown",
   "metadata": {},
   "source": [
    "<div style='background-color: ##87ceeb;\n",
    "    border: 0.5em solid black;\n",
    "    border-radius: 0.5em;\n",
    "    padding: 1em;'>\n",
    "    <h2>Activité 01-XX</h2>\n",
    "    <h1>La Terre vue de l'espace</h1>\n",
    "</div>"
   ]
  },
  {
   "cell_type": "markdown",
   "metadata": {},
   "source": [
    "<img src='https://epic.gsfc.nasa.gov/archive/natural//2021/07/05/png/epic_1b_20210705104424.png' width='50%' style=\"margin-left: 25%; margin-right: 25%;\">"
   ]
  },
  {
   "cell_type": "markdown",
   "metadata": {},
   "source": [
    "https://epic.gsfc.nasa.gov/archive/natural/2017/08/21/png/epic_1b_20170821171450.png (éclipse)\n",
    "https://epic.gsfc.nasa.gov/archive/natural/2016/03/09/png/epic_1b_20160309022104.png (éclipse)\n",
    "https://epic.gsfc.nasa.gov/archive/natural/2021/02/11/png/epic_1b_20210211024604.png (lune sur la photo)"
   ]
  },
  {
   "cell_type": "code",
   "execution_count": 1,
   "metadata": {},
   "outputs": [],
   "source": [
    "def normaliser(jour_ou_mois):\n",
    "    if jour_ou_mois < 10:\n",
    "        return '0' + str(jour_ou_mois)\n",
    "    else:\n",
    "        return str(jour_ou_mois)"
   ]
  },
  {
   "cell_type": "code",
   "execution_count": 2,
   "metadata": {},
   "outputs": [],
   "source": [
    "import requests"
   ]
  },
  {
   "cell_type": "code",
   "execution_count": 3,
   "metadata": {},
   "outputs": [],
   "source": [
    "def liste_images(jour, mois, annee):\n",
    "    jour = normaliser(jour)\n",
    "    mois = normaliser(mois)\n",
    "    url = f\"https://epic.gsfc.nasa.gov/api/natural/date/{annee}-{mois}-{jour}\"\n",
    "    reponse = requests.get(url)\n",
    "    reponse = reponse.json()\n",
    "    return [f\"https://epic.gsfc.nasa.gov/archive/natural//{annee}/{mois}/{jour}/png/{reponse[k]['image']}.png\" for k in range(len(reponse))]"
   ]
  },
  {
   "cell_type": "code",
   "execution_count": 4,
   "metadata": {},
   "outputs": [],
   "source": [
    "from IPython.display import HTML\n",
    "\n",
    "def afficher_image_depuis_url(*urls):\n",
    "    code_html = \"<style> img {float: left;}</style>\"\n",
    "    for url in urls:\n",
    "        code_html += f\"<img src='{url}' width='33%'>\"\n",
    "    return HTML(code_html)"
   ]
  },
  {
   "cell_type": "code",
   "execution_count": 5,
   "metadata": {},
   "outputs": [],
   "source": [
    "ma_liste = liste_images(5, 8, 2021)"
   ]
  },
  {
   "cell_type": "code",
   "execution_count": 6,
   "metadata": {
    "scrolled": false
   },
   "outputs": [
    {
     "data": {
      "text/html": [
       "<style> img {float: left;}</style><img src='https://epic.gsfc.nasa.gov/archive/natural//2021/08/05/png/epic_1b_20210805011359.png' width='33%'><img src='https://epic.gsfc.nasa.gov/archive/natural//2021/08/05/png/epic_1b_20210805053549.png' width='33%'><img src='https://epic.gsfc.nasa.gov/archive/natural//2021/08/05/png/epic_1b_20210805085211.png' width='33%'><img src='https://epic.gsfc.nasa.gov/archive/natural//2021/08/05/png/epic_1b_20210805131402.png' width='33%'><img src='https://epic.gsfc.nasa.gov/archive/natural//2021/08/05/png/epic_1b_20210805141930.png' width='33%'><img src='https://epic.gsfc.nasa.gov/archive/natural//2021/08/05/png/epic_1b_20210805152457.png' width='33%'><img src='https://epic.gsfc.nasa.gov/archive/natural//2021/08/05/png/epic_1b_20210805163025.png' width='33%'><img src='https://epic.gsfc.nasa.gov/archive/natural//2021/08/05/png/epic_1b_20210805173554.png' width='33%'><img src='https://epic.gsfc.nasa.gov/archive/natural//2021/08/05/png/epic_1b_20210805194649.png' width='33%'><img src='https://epic.gsfc.nasa.gov/archive/natural//2021/08/05/png/epic_1b_20210805205217.png' width='33%'><img src='https://epic.gsfc.nasa.gov/archive/natural//2021/08/05/png/epic_1b_20210805215744.png' width='33%'><img src='https://epic.gsfc.nasa.gov/archive/natural//2021/08/05/png/epic_1b_20210805230312.png' width='33%'>"
      ],
      "text/plain": [
       "<IPython.core.display.HTML object>"
      ]
     },
     "execution_count": 6,
     "metadata": {},
     "output_type": "execute_result"
    }
   ],
   "source": [
    "afficher_image_depuis_url(*ma_liste)"
   ]
  },
  {
   "cell_type": "code",
   "execution_count": 83,
   "metadata": {},
   "outputs": [],
   "source": [
    "ma_liste = liste_images(18, 6, 2020)"
   ]
  },
  {
   "cell_type": "code",
   "execution_count": 84,
   "metadata": {
    "scrolled": false
   },
   "outputs": [
    {
     "data": {
      "text/html": [
       "<style> img {float: left;}</style><img src='https://epic.gsfc.nasa.gov/archive/natural//2020/06/18/png/epic_1b_20200618000831.png' width='33%'><img src='https://epic.gsfc.nasa.gov/archive/natural//2020/06/18/png/epic_1b_20200618011358.png' width='33%'><img src='https://epic.gsfc.nasa.gov/archive/natural//2020/06/18/png/epic_1b_20200618021926.png' width='33%'><img src='https://epic.gsfc.nasa.gov/archive/natural//2020/06/18/png/epic_1b_20200618032453.png' width='33%'><img src='https://epic.gsfc.nasa.gov/archive/natural//2020/06/18/png/epic_1b_20200618043021.png' width='33%'><img src='https://epic.gsfc.nasa.gov/archive/natural//2020/06/18/png/epic_1b_20200618053548.png' width='33%'><img src='https://epic.gsfc.nasa.gov/archive/natural//2020/06/18/png/epic_1b_20200618064115.png' width='33%'><img src='https://epic.gsfc.nasa.gov/archive/natural//2020/06/18/png/epic_1b_20200618074642.png' width='33%'><img src='https://epic.gsfc.nasa.gov/archive/natural//2020/06/18/png/epic_1b_20200618085210.png' width='33%'><img src='https://epic.gsfc.nasa.gov/archive/natural//2020/06/18/png/epic_1b_20200618095737.png' width='33%'><img src='https://epic.gsfc.nasa.gov/archive/natural//2020/06/18/png/epic_1b_20200618110305.png' width='33%'><img src='https://epic.gsfc.nasa.gov/archive/natural//2020/06/18/png/epic_1b_20200618120833.png' width='33%'><img src='https://epic.gsfc.nasa.gov/archive/natural//2020/06/18/png/epic_1b_20200618131400.png' width='33%'><img src='https://epic.gsfc.nasa.gov/archive/natural//2020/06/18/png/epic_1b_20200618141928.png' width='33%'><img src='https://epic.gsfc.nasa.gov/archive/natural//2020/06/18/png/epic_1b_20200618152455.png' width='33%'><img src='https://epic.gsfc.nasa.gov/archive/natural//2020/06/18/png/epic_1b_20200618163023.png' width='33%'><img src='https://epic.gsfc.nasa.gov/archive/natural//2020/06/18/png/epic_1b_20200618173551.png' width='33%'><img src='https://epic.gsfc.nasa.gov/archive/natural//2020/06/18/png/epic_1b_20200618184118.png' width='33%'><img src='https://epic.gsfc.nasa.gov/archive/natural//2020/06/18/png/epic_1b_20200618194646.png' width='33%'><img src='https://epic.gsfc.nasa.gov/archive/natural//2020/06/18/png/epic_1b_20200618205213.png' width='33%'><img src='https://epic.gsfc.nasa.gov/archive/natural//2020/06/18/png/epic_1b_20200618215740.png' width='33%'><img src='https://epic.gsfc.nasa.gov/archive/natural//2020/06/18/png/epic_1b_20200618230308.png' width='33%'>"
      ],
      "text/plain": [
       "<IPython.core.display.HTML object>"
      ]
     },
     "execution_count": 84,
     "metadata": {},
     "output_type": "execute_result"
    }
   ],
   "source": [
    "afficher_image_depuis_url(*ma_liste)"
   ]
  },
  {
   "cell_type": "code",
   "execution_count": 85,
   "metadata": {},
   "outputs": [],
   "source": [
    "ma_liste = liste_images(11, 2, 2021)"
   ]
  },
  {
   "cell_type": "code",
   "execution_count": 86,
   "metadata": {},
   "outputs": [
    {
     "data": {
      "text/html": [
       "<style> img {float: left;}</style><img src='https://epic.gsfc.nasa.gov/archive/natural//2021/02/11/png/epic_1b_20210211004104.png' width='33%'><img src='https://epic.gsfc.nasa.gov/archive/natural//2021/02/11/png/epic_1b_20210211005709.png' width='33%'><img src='https://epic.gsfc.nasa.gov/archive/natural//2021/02/11/png/epic_1b_20210211011209.png' width='33%'><img src='https://epic.gsfc.nasa.gov/archive/natural//2021/02/11/png/epic_1b_20210211012604.png' width='33%'><img src='https://epic.gsfc.nasa.gov/archive/natural//2021/02/11/png/epic_1b_20210211014104.png' width='33%'><img src='https://epic.gsfc.nasa.gov/archive/natural//2021/02/11/png/epic_1b_20210211015604.png' width='33%'><img src='https://epic.gsfc.nasa.gov/archive/natural//2021/02/11/png/epic_1b_20210211021209.png' width='33%'><img src='https://epic.gsfc.nasa.gov/archive/natural//2021/02/11/png/epic_1b_20210211022709.png' width='33%'><img src='https://epic.gsfc.nasa.gov/archive/natural//2021/02/11/png/epic_1b_20210211024604.png' width='33%'><img src='https://epic.gsfc.nasa.gov/archive/natural//2021/02/11/png/epic_1b_20210211025709.png' width='33%'><img src='https://epic.gsfc.nasa.gov/archive/natural//2021/02/11/png/epic_1b_20210211031209.png' width='33%'>"
      ],
      "text/plain": [
       "<IPython.core.display.HTML object>"
      ]
     },
     "execution_count": 86,
     "metadata": {},
     "output_type": "execute_result"
    }
   ],
   "source": [
    "afficher_image_depuis_url(*ma_liste)"
   ]
  },
  {
   "cell_type": "code",
   "execution_count": 87,
   "metadata": {},
   "outputs": [],
   "source": [
    "ma_liste = liste_images(21, 8, 2017)"
   ]
  },
  {
   "cell_type": "code",
   "execution_count": 88,
   "metadata": {},
   "outputs": [
    {
     "data": {
      "text/html": [
       "<style> img {float: left;}</style><img src='https://epic.gsfc.nasa.gov/archive/natural//2017/08/21/png/epic_1b_20170821151450.png' width='33%'><img src='https://epic.gsfc.nasa.gov/archive/natural//2017/08/21/png/epic_1b_20170821154450.png' width='33%'><img src='https://epic.gsfc.nasa.gov/archive/natural//2017/08/21/png/epic_1b_20170821161450.png' width='33%'><img src='https://epic.gsfc.nasa.gov/archive/natural//2017/08/21/png/epic_1b_20170821164450.png' width='33%'><img src='https://epic.gsfc.nasa.gov/archive/natural//2017/08/21/png/epic_1b_20170821171450.png' width='33%'><img src='https://epic.gsfc.nasa.gov/archive/natural//2017/08/21/png/epic_1b_20170821174450.png' width='33%'><img src='https://epic.gsfc.nasa.gov/archive/natural//2017/08/21/png/epic_1b_20170821181450.png' width='33%'><img src='https://epic.gsfc.nasa.gov/archive/natural//2017/08/21/png/epic_1b_20170821184450.png' width='33%'><img src='https://epic.gsfc.nasa.gov/archive/natural//2017/08/21/png/epic_1b_20170821191450.png' width='33%'><img src='https://epic.gsfc.nasa.gov/archive/natural//2017/08/21/png/epic_1b_20170821194450.png' width='33%'><img src='https://epic.gsfc.nasa.gov/archive/natural//2017/08/21/png/epic_1b_20170821201450.png' width='33%'><img src='https://epic.gsfc.nasa.gov/archive/natural//2017/08/21/png/epic_1b_20170821204450.png' width='33%'>"
      ],
      "text/plain": [
       "<IPython.core.display.HTML object>"
      ]
     },
     "execution_count": 88,
     "metadata": {},
     "output_type": "execute_result"
    }
   ],
   "source": [
    "afficher_image_depuis_url(*ma_liste)"
   ]
  },
  {
   "cell_type": "code",
   "execution_count": null,
   "metadata": {},
   "outputs": [],
   "source": []
  }
 ],
 "metadata": {
  "kernelspec": {
   "display_name": "Python 3",
   "language": "python",
   "name": "python3"
  },
  "language_info": {
   "codemirror_mode": {
    "name": "ipython",
    "version": 3
   },
   "file_extension": ".py",
   "mimetype": "text/x-python",
   "name": "python",
   "nbconvert_exporter": "python",
   "pygments_lexer": "ipython3",
   "version": "3.8.5"
  }
 },
 "nbformat": 4,
 "nbformat_minor": 5
}
