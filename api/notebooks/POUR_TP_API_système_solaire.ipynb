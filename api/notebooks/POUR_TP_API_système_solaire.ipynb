{
 "cells": [
  {
   "cell_type": "markdown",
   "metadata": {},
   "source": [
    "# API Système solaire"
   ]
  },
  {
   "cell_type": "code",
   "execution_count": 1,
   "metadata": {},
   "outputs": [],
   "source": [
    "import requests"
   ]
  },
  {
   "cell_type": "code",
   "execution_count": 10,
   "metadata": {},
   "outputs": [],
   "source": [
    "def liste_planetes():\n",
    "    reponse = requests.get(\"https://api.le-systeme-solaire.net/rest/bodies/\")\n",
    "    reponse = reponse.json()\n",
    "    return [elem for elem in reponse['bodies'] if elem['isPlanet']]"
   ]
  },
  {
   "cell_type": "code",
   "execution_count": 13,
   "metadata": {},
   "outputs": [],
   "source": [
    "L_planetes = liste_planetes()"
   ]
  },
  {
   "cell_type": "code",
   "execution_count": 14,
   "metadata": {},
   "outputs": [
    {
     "name": "stdout",
     "output_type": "stream",
     "text": [
      "(1) Cérès\n",
      "(136199) Éris\n",
      "Uranus\n",
      "Pluton\n",
      "Neptune\n",
      "(136108) Hauméa\n",
      "(136472) Makémaké\n",
      "Jupiter\n",
      "Mars\n",
      "Mercure\n",
      "Saturne\n",
      "La Terre\n",
      "Vénus\n"
     ]
    }
   ],
   "source": [
    "for planete in L_planetes:\n",
    "    print(planete['name'])"
   ]
  },
  {
   "cell_type": "code",
   "execution_count": null,
   "metadata": {},
   "outputs": [],
   "source": []
  }
 ],
 "metadata": {
  "kernelspec": {
   "display_name": "Python 3",
   "language": "python",
   "name": "python3"
  },
  "language_info": {
   "codemirror_mode": {
    "name": "ipython",
    "version": 3
   },
   "file_extension": ".py",
   "mimetype": "text/x-python",
   "name": "python",
   "nbconvert_exporter": "python",
   "pygments_lexer": "ipython3",
   "version": "3.8.5"
  }
 },
 "nbformat": 4,
 "nbformat_minor": 5
}
