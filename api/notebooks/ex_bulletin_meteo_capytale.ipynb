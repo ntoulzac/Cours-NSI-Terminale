{
 "cells": [
  {
   "cell_type": "markdown",
   "metadata": {},
   "source": [
    "<div style='background-color: #e3a8b6;\n",
    "    border: 0.5em solid black;\n",
    "    border-radius: 0.5em;\n",
    "    padding: 1em;'>\n",
    "    <h2>Exercice</h2>\n",
    "    <h1>Bulletin météo</h1>\n",
    "</div>"
   ]
  },
  {
   "cell_type": "markdown",
   "metadata": {},
   "source": [
    "L'API [_OpenWeatherMap_](https://openweathermap.org/current) permet de récupérer les données météorologiques d'un lieu donné.\n",
    "\n",
    "Contrairement à l'API *Base Adresse Nationale*, l'utilisation de cette API nécessite de disposer d'une **clé d'API**, qui permet d'identifier le programme consommateur et éventuellement de limiter le nombre de requêtes autorisées.\n",
    "\n",
    "Vous pouvez vous inscrire [ici](https://openweathermap.org/price) pour obtenir une clé gratuite personnelle ou bien utiliser la clé figurant sur le cahier."
   ]
  },
  {
   "cell_type": "code",
   "execution_count": null,
   "metadata": {},
   "outputs": [],
   "source": [
    "CLE_API = 'CLE-API-A-INSERER-ICI'\n",
    "# Cette clé d'API permet de réaliser un maximum de 60 requêtes par minute et 1 000 000 par mois."
   ]
  },
  {
   "cell_type": "markdown",
   "metadata": {},
   "source": [
    "Pour connaître le temps qu'il fait actuellement à Nogent-sur-Marne, on interroge l'API en envoyant une requête GET à l'URL [http://api.openweathermap.org/data/2.5/weather?q=Nogent-sur-Marne,FR&units=metric&appid=CLE-API-A-INSERER-ICI](http://api.openweathermap.org/data/2.5/weather?q=Nogent-sur-Marne,FR&units=metric&appid=CLE-API-A-INSERER-ICI).\n",
    "\n",
    "⚠️ La fin de l'URL doit être remplacée par une clé d'API (après `&appid=`).\n",
    "\n",
    "**(1)** 💻 Définir une fonction `interroger_API_OpenWeatherMap` qui prend en paramètre d'entrée une chaîne de caractères correspondant à un nom de lieu et qui renvoie sous forme de dictionnaire la réponse de l'API."
   ]
  },
  {
   "cell_type": "code",
   "execution_count": null,
   "metadata": {},
   "outputs": [],
   "source": []
  },
  {
   "cell_type": "code",
   "execution_count": null,
   "metadata": {},
   "outputs": [],
   "source": []
  },
  {
   "cell_type": "code",
   "execution_count": null,
   "metadata": {},
   "outputs": [],
   "source": [
    "interroger_API_OpenWeatherMap('Nogent-sur-Marne, FR')"
   ]
  },
  {
   "cell_type": "markdown",
   "metadata": {},
   "source": [
    "**(2)** 💻 Définir une fonction `meteo` qui prend en paramètre d'entrée une chaîne de caractères correspondant à un nom de lieu et qui renvoie, sous forme de dictionnaire, le temps qu'il fait en ce lieu, la température (en °C), la pression atmosphérique (en hPa) et le taux d'humidité (en %)."
   ]
  },
  {
   "cell_type": "code",
   "execution_count": null,
   "metadata": {},
   "outputs": [],
   "source": []
  },
  {
   "cell_type": "markdown",
   "metadata": {},
   "source": [
    "**(3)** ✏️ 💻 Tester la fonction `meteo` sur trois lieux au choix."
   ]
  },
  {
   "cell_type": "code",
   "execution_count": null,
   "metadata": {},
   "outputs": [],
   "source": []
  },
  {
   "cell_type": "code",
   "execution_count": null,
   "metadata": {},
   "outputs": [],
   "source": []
  },
  {
   "cell_type": "code",
   "execution_count": null,
   "metadata": {},
   "outputs": [],
   "source": []
  }
 ],
 "metadata": {
  "kernelspec": {
   "display_name": "Python 3",
   "language": "python",
   "name": "python3"
  },
  "language_info": {
   "codemirror_mode": {
    "name": "ipython",
    "version": 3
   },
   "file_extension": ".py",
   "mimetype": "text/x-python",
   "name": "python",
   "nbconvert_exporter": "python",
   "pygments_lexer": "ipython3",
   "version": "3.8.5"
  }
 },
 "nbformat": 4,
 "nbformat_minor": 2
}
