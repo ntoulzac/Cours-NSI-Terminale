{
 "cells": [
  {
   "cell_type": "markdown",
   "metadata": {},
   "source": [
    "<div style='background-color: #87ceeb;\n",
    "    border: 0.5em solid black;\n",
    "    border-radius: 0.5em;\n",
    "    padding: 1em;'>\n",
    "    <h2>Activité</h2>\n",
    "    <h1>Centres de vaccination anti-Covid</h1>\n",
    "</div>"
   ]
  },
  {
   "cell_type": "markdown",
   "metadata": {},
   "source": [
    "*OpenDataSoft* met à disposition une API permettant de connaître les lieux de vaccination contre le Covid-19 en France.\n",
    "\n",
    "Pour obtenir des informations  au format JSON sur les centres de vaccination situés à Paris (département 75), il suffit d'interroger l'API en se rendant à l'adresse [https://public.opendatasoft.com/api/records/1.0/search/?dataset=covid19-france-lieu-vaccination&rows=100&refine.dep_code=75](https://public.opendatasoft.com/api/records/1.0/search/?dataset=covid19-france-lieu-vaccination&rows=100&refine.dep_code=75).\n",
    "\n",
    "**(1)** ✏️ Après avoir cliqué sur le lien permettant d'interroger l'API et avoir affiché les données renvoyées par l'API sous forme de dictionnaire, déterminer :\n",
    "- le nombre de clés que possède le dictionnaire,\n",
    "- quelle est la clé correspondant au nombre de centres de vaccination situés à Paris, ainsi que la valeur qui lui est associée,\n",
    "- quel est le type de la valeur associée à la clé `records`, combien d'éléments elle contient et de quel type sont ces éléments.\n",
    "\n",
    "On a isolé un extrait des données concernant un centre de vaccination parisien :\n",
    "\n",
    "```\n",
    "{\"datasetid\": \"covid19-france-lieu-vaccination\",\n",
    " \"recordid\": \"8ab93d89d3f85b6682105bdf0178d3ff0dea6b32\",\n",
    " \"fields\": {\"dep_code\": \"75\",\n",
    "            \"dep_name\": \"Paris\", \n",
    "            \"vaccine_center_address_pc\": \"75004\",\n",
    "            \"vaccine_center_address_city\": \"Paris\",\n",
    "            \"com_arm_name\": \"Paris 4e Arrondissement\",\n",
    "            \"vaccine_center_address\": \"7 Place de l'Hotel de Ville - Esplanade de la Libération\", \n",
    "            \"name\": \"Opération Parvis Hôtel de Ville\", \n",
    "            \"geo_point_2d\": [48.8569, 2.35133],\n",
    " \"geometry\": {\"type\": \"Point\",\n",
    "              \"coordinates\": [2.35133, 48.8569]},\n",
    " \"record_timestamp\": \"2021-07-06T16:10:00.652000+00:00\"}\n",
    "```\n",
    "\n",
    "**(2)** ✏️ Si on suppose que ces données sont stockées dans un dictionnaire appelé `donnees`, déterminer quelles expressions\n",
    "permettent d'obtenir :\n",
    "- le nom du centre de vaccination,\n",
    "- les coordonnées géographiques du centre de vaccination au format `[longitude, latitude]`,\n",
    "- l'adresse complète du centre de vaccination.\n",
    "\n",
    "\n",
    "**(3)** 💻 Compléter la définition de la fonction `interroger_API_vaccination` conformément à sa spécification."
   ]
  },
  {
   "cell_type": "code",
   "execution_count": null,
   "metadata": {},
   "outputs": [],
   "source": [
    "import requests"
   ]
  },
  {
   "cell_type": "code",
   "execution_count": null,
   "metadata": {},
   "outputs": [],
   "source": [
    "def interroger_API_vaccination(dep):\n",
    "    \"\"\"\n",
    "    Récupère la liste des centres de vaccination Covid dans un département donné.\n",
    "    - Entrée : dep (entier ou chaîne correspondant à un numéro de département français)\n",
    "    - Sortie : tab (tableau de dictionnaires, chaque dictionnaire correspond à un centre de vaccination\n",
    "                    et posséde les clés 'nom', 'adr' (adresse complète) et 'pos' (coordonnées géographiques))\n",
    "    \"\"\"\n",
    "    url = ......\n",
    "    reponse = requests.get(url)\n",
    "    reponse = reponse.json()\n",
    "    tab = [{'nom' : ......,\n",
    "            'adr' : ......,\n",
    "            'pos' : ......}\n",
    "           for elem in reponse['records']]\n",
    "    return tab"
   ]
  },
  {
   "cell_type": "markdown",
   "metadata": {},
   "source": [
    "**(4)** 💻 Écrire des lignes de code permettant d'afficher le nom (en majuscules) et l'adresse de tous les centres de vaccination du Val-de-Marne."
   ]
  },
  {
   "cell_type": "code",
   "execution_count": null,
   "metadata": {},
   "outputs": [],
   "source": []
  },
  {
   "cell_type": "code",
   "execution_count": null,
   "metadata": {},
   "outputs": [],
   "source": []
  },
  {
   "cell_type": "markdown",
   "metadata": {},
   "source": [
    "⚠️ La suite de l'activité utilise le module `folium`, qui peut être installé en exécutant la cellule ci-dessous."
   ]
  },
  {
   "cell_type": "code",
   "execution_count": null,
   "metadata": {},
   "outputs": [],
   "source": [
    "import sys\n",
    "!{sys.executable} -m pip install folium"
   ]
  },
  {
   "cell_type": "markdown",
   "metadata": {},
   "source": [
    "**(5)** 💻 Compléter le code ci-dessous dans le but de repérer sur une carte les centres de vaccination du Val-de-Marne."
   ]
  },
  {
   "cell_type": "code",
   "execution_count": null,
   "metadata": {},
   "outputs": [],
   "source": [
    "import folium"
   ]
  },
  {
   "cell_type": "code",
   "execution_count": null,
   "metadata": {},
   "outputs": [],
   "source": [
    "ma_carte = folium.Map(location=[48.79, 2.42], tiles='OpenStreetMap', zoom_start=12)\n",
    "for ......:\n",
    "    folium.Marker(......).add_to(ma_carte) # insérer les coordonnées géographiques du lieu à repérer"
   ]
  },
  {
   "cell_type": "code",
   "execution_count": null,
   "metadata": {},
   "outputs": [],
   "source": [
    "ma_carte"
   ]
  },
  {
   "cell_type": "markdown",
   "metadata": {},
   "source": [
    "**(6)** 💻 Modifier le code ci-dessous dans le but d'obtenir, lors d'un survol avec la souris, le nom et l'adresse du centre de vaccination.\n",
    "\n",
    "![](exemple_carte_vaccination.png)"
   ]
  },
  {
   "cell_type": "code",
   "execution_count": null,
   "metadata": {},
   "outputs": [],
   "source": [
    "ma_carte = folium.Map(location=[48.79, 2.42], tiles='OpenStreetMap', zoom_start=12)\n",
    "for ......:\n",
    "    code_html = f\"<b>NOM DU CENTRE DE VACCINATION</b><br><i>Adresse complète</i>\"\n",
    "    folium.Marker(......, tooltip=code_html).add_to(ma_carte)"
   ]
  },
  {
   "cell_type": "code",
   "execution_count": null,
   "metadata": {},
   "outputs": [],
   "source": [
    "ma_carte"
   ]
  }
 ],
 "metadata": {
  "kernelspec": {
   "display_name": "Python 3",
   "language": "python",
   "name": "python3"
  },
  "language_info": {
   "codemirror_mode": {
    "name": "ipython",
    "version": 3
   },
   "file_extension": ".py",
   "mimetype": "text/x-python",
   "name": "python",
   "nbconvert_exporter": "python",
   "pygments_lexer": "ipython3",
   "version": "3.8.5"
  }
 },
 "nbformat": 4,
 "nbformat_minor": 4
}
