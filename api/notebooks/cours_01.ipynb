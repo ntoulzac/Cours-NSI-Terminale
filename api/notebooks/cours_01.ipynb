{
 "cells": [
  {
   "cell_type": "markdown",
   "metadata": {},
   "source": [
    "# Chapitre 1 : Interfaces de programmation d'applications\n",
    "\n",
    "Une **API** (*Application Programming Interface*), ou une **interface de programmation d’applications**, est un ensemble de classes, fonctions, constantes grâce auquel un programme *fournisseur* met à disposition diverses fonctionnalités pour des programmes *consommateurs*.\n",
    "\n",
    "C'est le programme fournisseur qui définit de quelle façon les fonctionnalités sont mises à disposition des consommateurs, en imposant éventuellement un certain nombre de contraintes d'accès à l'API (par exemple, la nécessité d'utiliser une clé ou la limitation du nombre d'appels).\n",
    "\n",
    "## Premier exemple : la _Base Adresse Nationale_\n",
    "\n",
    "La _Base Adresse Nationale_ est une API gratuite du gouvernement français qui permet d'obtenir un certain nombre d'informations à partir d'une adresse postale.\n",
    "\n",
    "### Interrogation de l'API\n",
    "\n",
    "On souhaite, grâce à l'API, obtenir des informations sur l'adresse postale du lycée Louis Armand. Pour interroger l'API, il suffit d'envoyer une requête GET à l'adresse [https://api-adresse.data.gouv.fr/search/?q=173-boulevard-de-strasbourg&postcode=94130](https://api-adresse.data.gouv.fr/search/?q=173-boulevard-de-strasbourg&postcode=94130). On obtient alors la réponse suivante :\n",
    "\n",
    "```json\n",
    "{\"type\": \"FeatureCollection\",\n",
    " \"version\": \"draft\",\n",
    " \"features\": [{\"type\": \"Feature\",\n",
    "               \"geometry\": {\"type\": \"Point\",\n",
    "                            \"coordinates\": [2.491306, 48.846716]},\n",
    "               \"properties\": {\"label\": \"173 Boulevard de Strasbourg 94130 Nogent-sur-Marne\",\n",
    "                              \"score\": 0.88381,\n",
    "                              \"housenumber\": \"173\",\n",
    "                              \"id\": \"94052_8560_00173\",\n",
    "                              \"name\": \"173 Boulevard de Strasbourg\",\n",
    "                              \"postcode\": \"94130\",\n",
    "                              \"citycode\": \"94052\",\n",
    "                              \"x\": 662668.4,\n",
    "                              \"y\": 6860861.49,\n",
    "                              \"city\": \"Nogent-sur-Marne\",\n",
    "                              \"context\": \"94, Val-de-Marne, Île-de-France\",\n",
    "                              \"type\": \"housenumber\",\n",
    "                              \"importance\": 0.72191,\n",
    "                              \"street\": \"Boulevard de Strasbourg\"}}],\n",
    " \"attribution\": \"BAN\",\n",
    " \"licence\": \"ETALAB-2.0\",\n",
    " \"query\": \"173-boulevard-de-strasbourg\",\n",
    " \"filters\": {\"postcode\": \"94130\"},\n",
    " \"limit\": 5}\n",
    "```\n",
    "\n",
    "La réponse reçue est au format JSON (_JavaScript Object Notation_). La signification des champs de la réponse est donnée dans la\n",
    "[documentation](https://geo.api.gouv.fr/adresse) de l'API.\n",
    "\n",
    "L'interrogation de l'API peut être réalisée grâce au code Python suivant :"
   ]
  },
  {
   "cell_type": "code",
   "execution_count": null,
   "metadata": {},
   "outputs": [],
   "source": [
    "import requests\n",
    "url = \"https://api-adresse.data.gouv.fr/search/?q=173-boulevard-de-strasbourg&postcode=94130\"\n",
    "reponse = requests.get(url)\n",
    "reponse = reponse.json()"
   ]
  },
  {
   "cell_type": "markdown",
   "metadata": {},
   "source": [
    "_Affichage du contenu de la variable_ `reponse`"
   ]
  },
  {
   "cell_type": "code",
   "execution_count": null,
   "metadata": {},
   "outputs": [],
   "source": [
    "reponse"
   ]
  },
  {
   "cell_type": "markdown",
   "metadata": {},
   "source": [
    "La fonction `get` du module `requests` permet d'envoyer une requête GET à l'URL spécifiée et ensuite de récupérer la réponse.\n",
    "\n",
    "La commande `reponse.json()` extrait de la réponse les données encodées dans le format JSON, qui est un format de données textuelles que l'on peut traiter en Python comme s'il s'agissait d'un dictionnaire.\n",
    "\n",
    "### Traitement de la réponse envoyée par l'API\n",
    "\n",
    "Il est possible de définir une fonction qui interroge l'API à partir d'une adresse postale au choix, passée en paramètre.\n",
    "\n",
    "***Première version : réponse complète***"
   ]
  },
  {
   "cell_type": "code",
   "execution_count": null,
   "metadata": {},
   "outputs": [],
   "source": [
    "def interroger_API_BAN(adresse, code_postal):\n",
    "    \"\"\"\n",
    "    Interroge l'API Base Adresse Nationale.\n",
    "    - Entrées : adresse (chaîne de caractères), code_postal (entier ou chaîne de caractères)\n",
    "    - Sortie : reponse (dictionnaire contenant l'ensemble des données renvoyées par l'API)\n",
    "    Attention : penser à importer le module requests !\n",
    "    \"\"\"\n",
    "    url = f\"https://api-adresse.data.gouv.fr/search/?q={adresse}&postcode={code_postal}\"\n",
    "    reponse = requests.get(url)\n",
    "    reponse = reponse.json()\n",
    "    return reponse"
   ]
  },
  {
   "cell_type": "markdown",
   "metadata": {},
   "source": [
    "_Test de la fonction puis affichage du contenu de la variable_ `reponse`"
   ]
  },
  {
   "cell_type": "code",
   "execution_count": null,
   "metadata": {},
   "outputs": [],
   "source": [
    "reponse = interroger_API_BAN('173 boulevard de Strasbourg', 94130)"
   ]
  },
  {
   "cell_type": "code",
   "execution_count": null,
   "metadata": {},
   "outputs": [],
   "source": [
    "reponse"
   ]
  },
  {
   "cell_type": "markdown",
   "metadata": {},
   "source": [
    "***Seconde version : réponse partielle***"
   ]
  },
  {
   "cell_type": "code",
   "execution_count": null,
   "metadata": {},
   "outputs": [],
   "source": [
    "def interroger_API_BAN(adresse, code_postal):\n",
    "    \"\"\"\n",
    "    Renvoie les coordonnées géographiques d'un lieu après interrogation de l'API Base Adresse Nationale.\n",
    "    - Entrées : adresse (chaîne de caractères), code_postal (entier ou chaîne de caractères)\n",
    "    - Sortie : (lat, long) (couple de coordonnées géographiques)\n",
    "    Attention : penser à importer le module requests !\n",
    "    \"\"\"\n",
    "    url = f\"https://api-adresse.data.gouv.fr/search/?q={adresse}&postcode={code_postal}\"\n",
    "    reponse = requests.get(url)\n",
    "    reponse = reponse.json()\n",
    "    coord = reponse['features'][0]['geometry']['coordinates']\n",
    "    long = coord[0]\n",
    "    lat = coord[1]\n",
    "    return (lat, long)"
   ]
  },
  {
   "cell_type": "markdown",
   "metadata": {},
   "source": [
    "L'utilisation d'une f-string pour l'écriture de l'URL permet d'y intégrer simplement et lisiblement les paramètres d'entrée de la fonction.\n",
    "\t\n",
    "Une fois la réponse de l'API transformée en dictionnaire, il suffit de _naviguer_ pour récupérer les données qui nous intéressent :\n",
    "\t\n",
    "- `reponse` est un dictionnaire possédant huit clés : `'type'`, `'version'`, `'features'`, `'attribution'`, `'licence'`, `'query'`, `'filters'` et `'limit'`.\n",
    "- `reponse['features']` est un tableau contenant un ou plusieurs éléments de type dictionnaire : chaque dictionnaire correspond à une adresse potentielle, de la plus probable (indice `0`) à la moins probable.\n",
    "- `reponse['features'][0]` est un dictionnaire possédant trois clés : `'type'`, `'geometry'` et `'properties'`.\n",
    "- `reponse['features'][0]['geometry']` est un dictionnaire possédant deux clés : `'type'` et `'coordinates'`.\n",
    "- `reponse['features'][0]['geometry']['coordinates']` est un tableau contenant deux éléments de type flottant : la longitude (indice `0`) et la latitude (indice `1`) du lieu."
   ]
  },
  {
   "cell_type": "markdown",
   "metadata": {},
   "source": [
    "_Test de la fonction puis affichage du contenu de la variable_ `coordonnees`"
   ]
  },
  {
   "cell_type": "code",
   "execution_count": null,
   "metadata": {},
   "outputs": [],
   "source": [
    "coordonnees = interroger_API_BAN('173 boulevard de Strasbourg', 94130)"
   ]
  },
  {
   "cell_type": "code",
   "execution_count": null,
   "metadata": {},
   "outputs": [],
   "source": [
    "coordonnees"
   ]
  },
  {
   "cell_type": "markdown",
   "metadata": {},
   "source": [
    "_Affichage d'une adresse sur une carte via le module_ `folium`"
   ]
  },
  {
   "cell_type": "code",
   "execution_count": null,
   "metadata": {},
   "outputs": [],
   "source": [
    "import folium\n",
    "\n",
    "mon_adresse = '173 boulevard de Strasbourg'\n",
    "mon_code_postal = 94130\n",
    "coordonnees = interroger_API_BAN(mon_adresse, mon_code_postal)\n",
    "\n",
    "mon_quartier = folium.Map(location=coordonnees, tiles='OpenStreetMap', zoom_start=15)\n",
    "folium.Marker(coordonnees, icon=folium.Icon(color='red', icon='home')).add_to(mon_quartier)\n",
    "mon_quartier # Affichage de la carte sous cette cellule"
   ]
  },
  {
   "cell_type": "markdown",
   "metadata": {},
   "source": [
    "⚠️ Le module `folium` peut être installé en exécutant la cellule ci-dessous."
   ]
  },
  {
   "cell_type": "code",
   "execution_count": null,
   "metadata": {},
   "outputs": [],
   "source": [
    "import sys\n",
    "!{sys.executable} -m pip install folium"
   ]
  }
 ],
 "metadata": {
  "kernelspec": {
   "display_name": "Python 3",
   "language": "python",
   "name": "python3"
  },
  "language_info": {
   "codemirror_mode": {
    "name": "ipython",
    "version": 3
   },
   "file_extension": ".py",
   "mimetype": "text/x-python",
   "name": "python",
   "nbconvert_exporter": "python",
   "pygments_lexer": "ipython3",
   "version": "3.8.5"
  }
 },
 "nbformat": 4,
 "nbformat_minor": 2
}
