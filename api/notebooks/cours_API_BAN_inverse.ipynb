{
 "cells": [
  {
   "cell_type": "code",
   "execution_count": 22,
   "metadata": {},
   "outputs": [
    {
     "name": "stdout",
     "output_type": "stream",
     "text": [
      "1 Rue Toulzac 19100 Brive-la-Gaillarde\n"
     ]
    }
   ],
   "source": [
    "import requests\n",
    "\n",
    "def adresse_lieu(coord):\n",
    "    latitude, longitude = coord\n",
    "    url = f\"https://api-adresse.data.gouv.fr/reverse/?lon={longitude}&lat={latitude}\"\n",
    "    reponse = requests.get(url)\n",
    "    reponse = reponse.json()\n",
    "    if len(reponse['features']) == 0:\n",
    "        return ''\n",
    "    else:\n",
    "        return reponse['features'][0]['properties']['label']\n",
    "\n",
    "print(adresse_lieu((45.1608,1.5330)))"
   ]
  }
 ],
 "metadata": {
  "kernelspec": {
   "display_name": "Python 3",
   "language": "python",
   "name": "python3"
  },
  "language_info": {
   "codemirror_mode": {
    "name": "ipython",
    "version": 3
   },
   "file_extension": ".py",
   "mimetype": "text/x-python",
   "name": "python",
   "nbconvert_exporter": "python",
   "pygments_lexer": "ipython3",
   "version": "3.8.5"
  }
 },
 "nbformat": 4,
 "nbformat_minor": 4
}
