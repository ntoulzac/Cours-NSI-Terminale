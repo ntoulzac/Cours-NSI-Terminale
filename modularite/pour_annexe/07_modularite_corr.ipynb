{
 "cells": [
  {
   "cell_type": "markdown",
   "metadata": {},
   "source": [
    "# Chapitre 7 : Modularité"
   ]
  },
  {
   "cell_type": "markdown",
   "metadata": {},
   "source": [
    "***Utilisation d'une bibliothèque, création et documentation d'un module***"
   ]
  },
  {
   "cell_type": "markdown",
   "metadata": {},
   "source": [
    "## Partie A - Utilisation d'une bibliothèque"
   ]
  },
  {
   "cell_type": "markdown",
   "metadata": {},
   "source": [
    "Lorsqu'on écrit des programmes en Python, un certain nombre de fonctions sont reconnues automatiquement par l'interpréteur : il s'agit des **fonctions natives** du langage (_built-in functions_). On y trouve, par exemple, les fonctions `input` et `print` mais aussi `len`, `range`, `sorted`, etc. La liste est disponible <a href=\"https://docs.python.org/fr/3/library/functions.html#built-in-funcs\">ici</a>.\n",
    "\n",
    "D'autres fonctions très classiques font partie de la **bibliothèque standard** : il s'agit des fonctions disponibles par défaut mais qui doivent être importées depuis un module complémentaire. On y trouve, par exemple, les fonctions `randint` du module `random`, les fonctions du module graphique `turtle` ou du module `tkinter`, ou encore les fonctions du module `csv` vues en classe de Première.\n",
    "\n",
    "Enfin, de nombreuses autres bibliothèques sont téléchargeables en ligne, en particulier via le **Python Package Index** (<a href=\"https://pypi.org/\">PyPI</a>). On y trouve, par exemple, le module `tutormagic` ou les bibliothèques `pygame` et `Pillow` (`PIL`).\n",
    "\n",
    "Le but de cette partie est d'étudier comment s'utilise un module complémentaire ou une bibliothèque, et nous en profiterons pour développer notre connaissance du module `folium`, qui permet de générer des cartes interactives."
   ]
  },
  {
   "cell_type": "markdown",
   "metadata": {},
   "source": [
    "### Installation d'un module"
   ]
  },
  {
   "cell_type": "markdown",
   "metadata": {},
   "source": [
    "**(1)** Exécuter la cellule suivante pour installer le module `folium`, qui ne fait pas partie de la bibliothèque standard mais qui est disponible via le PyPI."
   ]
  },
  {
   "cell_type": "code",
   "execution_count": null,
   "metadata": {},
   "outputs": [],
   "source": [
    "import sys\n",
    "!{sys.executable} -m pip install folium"
   ]
  },
  {
   "cell_type": "markdown",
   "metadata": {},
   "source": [
    "### Importation d'un module"
   ]
  },
  {
   "cell_type": "markdown",
   "metadata": {},
   "source": [
    "En exécutant la cellule suivante, l'ensemble des constantes, fonctions, classes du module `folium` sont importées et donc utilisables."
   ]
  },
  {
   "cell_type": "code",
   "execution_count": null,
   "metadata": {},
   "outputs": [],
   "source": [
    "import folium"
   ]
  },
  {
   "cell_type": "markdown",
   "metadata": {},
   "source": [
    "On accède alors aux différents objets importés grâce à la syntaxe `folium.nom_objet`."
   ]
  },
  {
   "cell_type": "markdown",
   "metadata": {},
   "source": [
    "<div class='rq'>Lorsque le nom du module est long, il est possible de lui donner un <b>alias</b> lors de l'importation, en écrivant <code>import folium as f</code> par exemple. Dans ce cas, les objects importés seront accessibles sous le nom <code>f.nom_objet</code>.<br>\n",
    "    <br>\n",
    "    Il existe une autre façon d'importer le contenu d'un module, avec l'instruction <code>from module import ...</code> :\n",
    "    <ul>\n",
    "        <li><code>from module import Classe, fonction, CONSTANTE</code> permet d'importer quelques classes, fonctions, constantes depuis le module. Elles sont accessibles directement par leur nom, qui n'a pas à être précédé par le nom du <code>module</code>,</li>\n",
    "        <li><code>from module import *</code> permet d'importer toutes les classes, fonctions, constantes depuis le module. Elles sont accessibles directement par leur nom, qui n'a pas à être précédé par le nom du <code>module</code>. Cette façon d'importer est déconseillée car des fonctions provenant de modules différents peuvent porter le même nom.</li>\n",
    "    </ul></div>"
   ]
  },
  {
   "cell_type": "markdown",
   "metadata": {},
   "source": [
    "**(2)** Afficher la documentation (rubrique d'aide) de la classe `Map` importée depuis le module `folium`."
   ]
  },
  {
   "cell_type": "code",
   "execution_count": null,
   "metadata": {},
   "outputs": [],
   "source": [
    "help(folium.Map)"
   ]
  },
  {
   "cell_type": "markdown",
   "metadata": {},
   "source": [
    "### Utilisation du module `folium`"
   ]
  },
  {
   "cell_type": "markdown",
   "metadata": {},
   "source": [
    "#### Création d'une carte"
   ]
  },
  {
   "cell_type": "markdown",
   "metadata": {},
   "source": [
    "**(3)** Créer une carte centrée sur la gare de Nogent-Le Perreux, dont les coordonnées sont (48,839°N ; 2,494°E), en exécutant la cellule suivante."
   ]
  },
  {
   "cell_type": "code",
   "execution_count": null,
   "metadata": {},
   "outputs": [],
   "source": [
    "# Création de la carte\n",
    "ma_carte = folium.Map(location=[48.839, 2.494], tiles='OpenStreetMap', zoom_start=13)"
   ]
  },
  {
   "cell_type": "code",
   "execution_count": null,
   "metadata": {
    "scrolled": false
   },
   "outputs": [],
   "source": [
    "# Affichage de la carte dans le Notebook\n",
    "ma_carte"
   ]
  },
  {
   "cell_type": "code",
   "execution_count": null,
   "metadata": {},
   "outputs": [],
   "source": [
    "# Enregistrement de la carte dans un fichier HTML\n",
    "ma_carte.save('IDF.html')"
   ]
  },
  {
   "cell_type": "markdown",
   "metadata": {},
   "source": [
    "Le fichier `IDF.html` peut maintenant être ouvert dans un navigateur."
   ]
  },
  {
   "cell_type": "markdown",
   "metadata": {},
   "source": [
    "**(4)** A quoi correspondent les paramètres `location`, `tiles` et `zoom_start` ?"
   ]
  },
  {
   "cell_type": "markdown",
   "metadata": {},
   "source": [
    "<div class='rq'><ul>\n",
    "    <li><code>location</code> correspond aux coordonnées du centre de la carte lors de son ouverture. Il s'agit d'un tableau <code>[latitude, longitude]</code> contenant deux flottants.</li>\n",
    "    <li><code>tiles</code> correspond au type de fond de carte à utilser. Il s'agit d'une chaîne de caractères dont la valeur par défaut est <code>'OpenStreetMap'</code>. La liste des fonds de carte disponibles est visible dans la documentation de <code>folium.Map</code>.</li>\n",
    "    <li><code>zoom_start</code> correspond à la profondeur de zoom de la carte lors de son ouverture. Il s'agit d'un entier d'autant plus grand que l'échelle de la carte est petite.</li>\n",
    "    </ul></div>"
   ]
  },
  {
   "cell_type": "markdown",
   "metadata": {},
   "source": [
    "#### Affichage d'un marqueur sur la carte"
   ]
  },
  {
   "cell_type": "markdown",
   "metadata": {},
   "source": [
    "On peut ajouter un marqueur sur la carte, par exemple la position du lycée, dont les coordonnées sont (48,847°N ; 2,490°E)."
   ]
  },
  {
   "cell_type": "code",
   "execution_count": null,
   "metadata": {},
   "outputs": [],
   "source": [
    "folium.Marker([48.847, 2.490]).add_to(ma_carte)\n",
    "ma_carte.save('IDF.html')\n",
    "ma_carte # Affichage de la carte sous cette cellule"
   ]
  },
  {
   "cell_type": "markdown",
   "metadata": {},
   "source": [
    "**(5)** Rechercher les coordonnées de la gare RER de Nogent-sur-Marne et celles de la station de métro Château de Vincennes, puis représenter ces deux stations sur la carte."
   ]
  },
  {
   "cell_type": "code",
   "execution_count": null,
   "metadata": {},
   "outputs": [],
   "source": [
    "folium.Marker([48.835, 2.472]).add_to(ma_carte)\n",
    "folium.Marker([48.845, 2.437]).add_to(ma_carte)\n",
    "ma_carte.save('IDF.html')\n",
    "ma_carte # Affichage de la carte sous cette cellule"
   ]
  },
  {
   "cell_type": "markdown",
   "metadata": {},
   "source": [
    "#### Affichage d'un texte lors du survol d'un marqueur par la souris"
   ]
  },
  {
   "cell_type": "markdown",
   "metadata": {},
   "source": [
    "**(6)** Après avoir consulté la documentation de `folium.Marker`, représenter la position de la Tour Eiffel, du Château de Versailles et du Stade de France, et faire en sorte que leur nom apparaisse lorsqu'on les survole avec la souris."
   ]
  },
  {
   "cell_type": "code",
   "execution_count": null,
   "metadata": {
    "scrolled": true
   },
   "outputs": [],
   "source": [
    "help(folium.Marker)"
   ]
  },
  {
   "cell_type": "markdown",
   "metadata": {},
   "source": [
    "<div class='rq'>On peut lire dans la documentation de <code>folium.Marker</code> que l'affichage d'un texte lors du survol d'un marqueur avec la souris se fait grâce au paramètre <code>tooltip</code>.</div>"
   ]
  },
  {
   "cell_type": "code",
   "execution_count": null,
   "metadata": {},
   "outputs": [],
   "source": [
    "folium.Marker([48.858, 2.295], tooltip='Tour Eiffel').add_to(ma_carte)\n",
    "folium.Marker([48.805, 2.120], tooltip='Chateau de Versailles').add_to(ma_carte)\n",
    "folium.Marker([48.924, 2.360], tooltip='Stade de France').add_to(ma_carte)\n",
    "ma_carte.save('IDF.html')\n",
    "ma_carte # Affichage de la carte sous cette cellule"
   ]
  },
  {
   "cell_type": "markdown",
   "metadata": {},
   "source": [
    "#### Ouverture d'un *popup* lors d'un clic sur un marqueur"
   ]
  },
  {
   "cell_type": "markdown",
   "metadata": {},
   "source": [
    "`folium.Popup` permet d'ouvrir une fenêtre *popup* lors du clic sur un marqueur. Le contenu du *popup* est décrit en HTML.\n",
    "\n",
    "<table>\n",
    "    <tr>\n",
    "        <td><a href=\"https://commons.wikimedia.org/wiki/File:Louvre_Museum_Wikimedia_Commons.jpg\">\n",
    "            <img src=\"https://upload.wikimedia.org/wikipedia/commons/thumb/6/66/Louvre_Museum_Wikimedia_Commons.jpg/256px-Louvre_Museum_Wikimedia_Commons.jpg\" alt=\"Pyramide du Louvre\">\n",
    "            </a>\n",
    "        </td>\n",
    "    </tr>\n",
    "    <tr>\n",
    "        <td>Benh LIEU SONG (Flickr) via Wikimedia Common, <a href=\"https://creativecommons.org/licenses/by-sa/3.0\">CC BY-SA 3.0</a></td>\n",
    "    </tr>\n",
    "\n",
    "**(7)** Représenter la position de la pyramide du Louvre et, en cas de clic sur le marqueur, faire afficher sa photo."
   ]
  },
  {
   "cell_type": "code",
   "execution_count": null,
   "metadata": {},
   "outputs": [],
   "source": [
    "html_louvre = \"\"\"<img src=\"https://upload.wikimedia.org/wikipedia/commons/thumb/6/66/Louvre_Museum_Wikimedia_Commons.jpg/256px-Louvre_Museum_Wikimedia_Commons.jpg\"\n",
    "                      alt=\"Pyramide du Louvre\">\n",
    "                 <br><i>la pyramide du Louvre</i>\"\"\"\n",
    "folium.Marker([48.861, 2.336], popup=folium.Popup(html=html_louvre)).add_to(ma_carte)\n",
    "ma_carte.save('IDF.html')\n",
    "ma_carte # Affichage de la carte sous cette cellule"
   ]
  },
  {
   "cell_type": "markdown",
   "metadata": {},
   "source": [
    "#### Affichage de données GeoJSON sur la carte"
   ]
  },
  {
   "cell_type": "markdown",
   "metadata": {},
   "source": [
    "Le format GeoJSON est un format d'encodage de données géospatiales telles que des points, des lignes, des polygones, etc.\n",
    "\n",
    "Par exemple, le fichier [`val_de_marne.geojson`](https://ntoulzac.github.io/Cours-NSI-Terminale/modularite/donnees/val_de_marne.geojson) contient la frontière du département du Val-de-Marne, que l'on peut faire apparaître sur notre carte en exécutant la cellule suivante."
   ]
  },
  {
   "cell_type": "code",
   "execution_count": null,
   "metadata": {},
   "outputs": [],
   "source": [
    "url = \"https://ntoulzac.github.io/Cours-NSI-Terminale/modularite/donnees/val_de_marne.geojson\"\n",
    "folium.GeoJson(url).add_to(ma_carte)\n",
    "ma_carte.save('IDF.html')\n",
    "ma_carte # Affichage de la carte sous cette cellule"
   ]
  },
  {
   "cell_type": "markdown",
   "metadata": {},
   "source": [
    "## Activité : Les sept merveilles du monde"
   ]
  },
  {
   "cell_type": "markdown",
   "metadata": {},
   "source": [
    "**(8)** Représenter dans un fichier `sept_merveilles.html` ainsi que dans ce carnet *Jupyter* la localisation des sept merveilles du monde antique :\n",
    "- la pyramide de Khéops à **Gizeh**,\n",
    "- les jardins suspendus de **Babylone**,\n",
    "- la statue chryséléphantine de Zeus à **Olympie**,\n",
    "- l'Artémision à **Ephèse**,\n",
    "- le tombeau de Mausole à **Halicarnasse**,\n",
    "- la statue en bronze d'Hélios à **Rhodes**,\n",
    "- la tour de l'île de Pharos à **Alexandrie**.\n",
    "\n",
    "Les sept lieux seront tous visibles directement sans besoin de dézoomer. Les frontières actuelles de la Grèce, stockées dans le fichier [`grece.geojson`](https://ntoulzac.github.io/Cours-NSI-Terminale/modularite/donnees/grece.geojson), seront également représentées. Enfin, une photo de chaque merveille apparaîtra en cas de clic sur le marqueur correspondant.\n",
    "\n",
    "*Remarque :* Sept photos sont disponibles dans le répertoire à l'adresse `https://ntoulzac.github.io/Cours-NSI-Terminale/modularite/images` : `artemision.jpg`, `jardins_suspendus.jpg`, `mausolee.jpg`, `pyramide_kheops.jpg`, `statue_helios.jpg`, `statue_zeus.jpg` et `tour_pharos.jpg`."
   ]
  },
  {
   "cell_type": "code",
   "execution_count": null,
   "metadata": {},
   "outputs": [],
   "source": [
    "carte_merveilles = folium.Map(location = [37.345, 34.006], tiles = 'OpenStreetMap', zoom_start = 5)"
   ]
  },
  {
   "cell_type": "code",
   "execution_count": null,
   "metadata": {},
   "outputs": [],
   "source": [
    "def ajouter_marqueur(coordonnees, fichier_image, legende):\n",
    "    html_a_inserer = f\"\"\"<img src=\"https://ntoulzac.github.io/Cours-NSI-Terminale/modularite/images/{fichier_image}\">\n",
    "                         <br><br><i>{legende}</i>\"\"\"\n",
    "    folium.Marker(coordonnees, popup=folium.Popup(html=html_a_inserer)).add_to(carte_merveilles)"
   ]
  },
  {
   "cell_type": "code",
   "execution_count": null,
   "metadata": {},
   "outputs": [],
   "source": [
    "ajouter_marqueur([29.979, 31.134], 'pyramide_kheops.jpg', 'la pyramide de Kheops')\n",
    "ajouter_marqueur([32.542, 44.421], 'jardins_suspendus.jpg', 'les jardins suspendus')\n",
    "ajouter_marqueur([37.638, 21.630], 'statue_zeus.jpg', 'la statue de Zeus')\n",
    "ajouter_marqueur([37.950, 27.364], 'artemision.jpg', 'l\\'Artemision')\n",
    "ajouter_marqueur([37.038, 27.424], 'mausolee.jpg', 'le tombeau de Mausole')\n",
    "ajouter_marqueur([36.451, 28.226], 'statue_helios.jpg', 'la statue d\\'Helios')\n",
    "ajouter_marqueur([31.224, 29.933], 'tour_pharos.jpg', 'la tour de Pharos')\n",
    "folium.GeoJson('https://ntoulzac.github.io/Cours-NSI-Terminale/modularite/donnees/grece.geojson').add_to(carte_merveilles)\n",
    "carte_merveilles.save('sept_merveilles.html')\n",
    "carte_merveilles # Affichage de la carte sous cette cellule"
   ]
  },
  {
   "cell_type": "markdown",
   "metadata": {},
   "source": [
    "## Partie C - Documentation d'un module"
   ]
  },
  {
   "cell_type": "markdown",
   "metadata": {},
   "source": [
    "Dans cette partie, on travaille avec le module `labyrinthe` qui est stocké dans le fichier `labyrinthe.py` à télécharger [ici](https://ntoulzac.github.io/Cours-NSI-Terminale/modularite/labyrinthe.py) et à placer dans le même répertoire que ce carnet."
   ]
  },
  {
   "cell_type": "markdown",
   "metadata": {},
   "source": [
    "**(15)** Importer le module `labyrinthe` sous le nom `lab`, puis faire afficher sa documentation"
   ]
  },
  {
   "cell_type": "code",
   "execution_count": null,
   "metadata": {},
   "outputs": [],
   "source": [
    "import labyrinthe as lab"
   ]
  },
  {
   "cell_type": "code",
   "execution_count": null,
   "metadata": {
    "scrolled": true
   },
   "outputs": [],
   "source": [
    "help(lab)"
   ]
  },
  {
   "cell_type": "markdown",
   "metadata": {},
   "source": [
    "La documentation obtenue donne accès à l'**interface** du module. Elle explique le rôle global du module et liste les classes, les fonctions, les constantes mises à disposition de l'utilisateur par le concepteur du module ainsi que leurs spécifications.\n",
    "\n",
    "L'interface doit permettre de se servir du module sans avoir à réfléchir à la manière dont les classes et les fonctions ont été implémentées."
   ]
  },
  {
   "cell_type": "markdown",
   "metadata": {},
   "source": [
    "### Ecriture de la documentation"
   ]
  },
  {
   "cell_type": "markdown",
   "metadata": {},
   "source": [
    "**(16)** Ouvrir le fichier `labyrinthe.py` avec un éditeur de texte et repérer où sont écrites :\n",
    "- la documentation du module,\n",
    "- la documentation de chaque fonction et procédure."
   ]
  },
  {
   "cell_type": "markdown",
   "metadata": {},
   "source": [
    "<div class='rq'>La documentation du module est écrite dans la docstring au début du fichier <code>labyrinthe.py</code>.\n",
    "<br><br>La documentation de chaque fonction est écrite dans la docstring au début de la définition de la fonction.\n",
    "<br><br>On peut remarquer que certaines fonctions et constantes définies dans le module ne font pas partie de son interface. En effet, elles sont définies car elles servent au fonctionnement interne du module mais elles n'ont pas vocation à être utilisées par autrui. Elles se distinguent par le fait que leur nom commence par un <i>underscore</i> : <code>_fonction</code> ou <code>_CONSTANTE</code>.</div>"
   ]
  },
  {
   "cell_type": "markdown",
   "metadata": {},
   "source": [
    "**(17)** Ecrire dans le fichier `labyrinthe.py` la documentation de la classe `Pion`."
   ]
  },
  {
   "cell_type": "markdown",
   "metadata": {},
   "source": [
    "```python\n",
    "class Pion:\n",
    "    \"\"\"\n",
    "    Classe permettant de créer et déplacer un pion dans un labyrinthe.\n",
    "    \"\"\"\n",
    "    def __init__(self, pos, couleur=ROUGE):\n",
    "        \"\"\"\n",
    "        Crée un pion à une position donnée et dans une couleur donnée.\n",
    "        - Entrées : pos (couple d'entiers au format (ligne, colonne)),\n",
    "                    couleur (triplet d'entiers au format (R, V, B))\n",
    "        \"\"\"\n",
    "        (...)\n",
    "        \n",
    "    def est_positionne_sur(self, pos):\n",
    "        \"\"\"\n",
    "        Détermine si le pion est à une position donnée.\n",
    "        - Entrée : pos (couple d'entiers au format (ligne, colonne))\n",
    "        - Sortie : (booléen)\n",
    "        \"\"\"\n",
    "        (...)\n",
    "            \n",
    "    def deplacer(self, laby, direction):\n",
    "        \"\"\"\n",
    "        Déplace le pion dans une direction donnée.\n",
    "        - Entrées : laby (instance de la classe Labyrinthe), direction (chaîne de caractères)\n",
    "        \"\"\"\n",
    "        (...)\n",
    "```"
   ]
  },
  {
   "cell_type": "markdown",
   "metadata": {},
   "source": [
    "<img src=\"https://ntoulzac.github.io/Cours-NSI-Terminale/modularite/images/laby.png\">"
   ]
  },
  {
   "cell_type": "markdown",
   "metadata": {},
   "source": [
    "### Utilisation de la documentation"
   ]
  },
  {
   "cell_type": "markdown",
   "metadata": {},
   "source": [
    "**(18)** Ecrire des lignes de code permettant :\n",
    "- de définir un labyrinthe aléatoire composé de 20 lignes et 30 colonnes,\n",
    "- de positionner un pion bleu à l'entrée du labyrinthe,\n",
    "- de faire afficher l'ensemble dans une fenêtre Pygame,\n",
    "- de faire déplacer le pion avec les touches du clavier jusqu'à ce qu'il atteigne la sortie, et\n",
    "- de fermer la fenêtre une fois la sortie atteinte."
   ]
  },
  {
   "cell_type": "code",
   "execution_count": null,
   "metadata": {},
   "outputs": [],
   "source": [
    "mon_laby = lab.Labyrinthe(20, 30)\n",
    "mon_pion = lab.Pion(mon_laby.entree, lab.BLEU)\n",
    "ma_fenetre = lab.FenetreLaby(mon_laby)\n",
    "ma_fenetre.afficher_tout(mon_laby, mon_pion)\n",
    "ma_fenetre.actualiser()\n",
    "while mon_pion.pos != mon_laby.sortie:\n",
    "    direction = ma_fenetre.lire_fleche()\n",
    "    mon_pion.deplacer(mon_laby, direction)\n",
    "    ma_fenetre.afficher_tout(mon_laby, mon_pion)\n",
    "    ma_fenetre.actualiser()\n",
    "ma_fenetre.fermer()"
   ]
  },
  {
   "cell_type": "markdown",
   "metadata": {},
   "source": [
    "**(19)** Modifier la définition de la méthode `deplacer` de la classe `Pion` pour empêcher le pion de traverser les murs du labyrinthe et de sortir de la fenêtre."
   ]
  },
  {
   "cell_type": "markdown",
   "metadata": {},
   "source": [
    "```python\n",
    "def deplacer(self, laby, direction):\n",
    "    \"\"\"\n",
    "    Déplace le pion dans une direction donnée.\n",
    "    - Entrées : laby (instance de la classe Labyrinthe), direction (chaîne de caractères)\n",
    "    \"\"\"\n",
    "    L, C = self.pos\n",
    "    if direction == 'gauche' and C > 0 and laby.grille[L][C-1] == 0:\n",
    "        self.pos = (L, C-1)\n",
    "    elif direction == 'droite' and C < laby.nb_c-1 and laby.grille[L][C+1] == 0:\n",
    "        self.pos = (L, C+1)\n",
    "    elif direction == 'haut' and L > 0 and laby.grille[L-1][C] == 0:\n",
    "        self.pos = (L-1, C)\n",
    "    elif direction == 'bas' and L < laby.nb_l-1 and laby.grille[L+1][C] == 0:\n",
    "        self.pos = (L+1, C)\n",
    "```"
   ]
  },
  {
   "cell_type": "markdown",
   "metadata": {},
   "source": [
    "## Activité : Le voyage en France"
   ]
  },
  {
   "cell_type": "markdown",
   "metadata": {},
   "source": [
    "**(20)** Avant de commencer, installer le module `geodaisy` (disponible via PyPI)."
   ]
  },
  {
   "cell_type": "code",
   "execution_count": null,
   "metadata": {},
   "outputs": [],
   "source": [
    "import sys\n",
    "!{sys.executable} -m pip install geodaisy"
   ]
  },
  {
   "cell_type": "markdown",
   "metadata": {},
   "source": [
    "On veut définir un module `voyage` dans un fichier `voyage.py`. Le but de ce module est de fournir des fonctions permettant de repérer des lieux sur une carte ou d'y représenter des itinéraires.\n",
    "\n",
    "Les cartes seront construites grâce au module `folium` et les éléments géographiques seront obtenus en interrogeant l'API *Base Adresse Nationale* du gouvernement français et l'API <a href=\"https://geoservices.ign.fr/documentation/geoservices/itineraires.html\"><i>Itinéraires</i></a> de l'Institut Géographique National.\n",
    "\n",
    "Deux fonctions sont prédéfinies dans le module :\n",
    "- `_coord_BAN` prend en entrée un couple `lieu` au format `(adresse, code_postal)`, où `adresse` est une chaîne de caractères et `code_postal` un entier. Elle retourne un couple au format `(latitude, longitude)` contenant les coordonnées géographiques du `lieu` obtenues grâce à l'API *Base Adresse Nationale*.\n",
    "- `_itineraire_IGN` prend en entrée deux couples `dep` et `arr` au format `(latitude, longitude)`, où `latitude` et `longitude` sont deux flottants. Elle retourne un dictionnaire dont les clés sont `distance`, `duree` et `geojson`. On obtient en effet, grâce à l'API *Itinéraires* de l'IGN, à la fois la longueur, la durée et la représentation spatiale du trajet le plus rapide entre `dep` et `arr`.\n",
    "\n",
    "**(21)** Votre travail consiste, dans le module `voyage`, à définir les fonctions et procédures suivantes :\n",
    "\n",
    "*(a)* `creer_carte`. Elle retourne une carte créée avec `folium`, centrée sur le point de coordonnées (46,513°N ; 2,576°E) avec un niveau de zoom 6."
   ]
  },
  {
   "cell_type": "code",
   "execution_count": null,
   "metadata": {},
   "outputs": [],
   "source": [
    "def creer_carte():\n",
    "    return folium.Map(location = [46.513, 2.576], tiles = 'OpenStreetMap', zoom_start = 6)"
   ]
  },
  {
   "cell_type": "markdown",
   "metadata": {},
   "source": [
    "*(b)* `enregistrer_carte` prend en paramètres d'entrée une `carte` et un `nom_de_fichier`. Elle enregistre la carte dans le fichier `nom_de_fichier.html`."
   ]
  },
  {
   "cell_type": "code",
   "execution_count": null,
   "metadata": {},
   "outputs": [],
   "source": [
    "def enregistrer_carte(carte, nom_de_fichier):\n",
    "    carte.save(f\"{nom_de_fichier}.html\")"
   ]
  },
  {
   "cell_type": "markdown",
   "metadata": {},
   "source": [
    "*(c)* `placer_marqueur` prend en paramètres d'entrée une `carte` et un `lieu` au format `(adresse, code_postal)`. Elle place sur la `carte` un marqueur au `lieu` désigné et renvoie la carte ainsi modifiée."
   ]
  },
  {
   "cell_type": "code",
   "execution_count": null,
   "metadata": {},
   "outputs": [],
   "source": [
    "def placer_marqueur(carte, lieu):\n",
    "    folium.Marker(_coord_BAN(lieu)).add_to(carte)\n",
    "    return carte"
   ]
  },
  {
   "cell_type": "markdown",
   "metadata": {},
   "source": [
    "*(d)* `tracer_itineraire` prend en paramètres d'entrée une `carte` et deux lieux `depart` et `arrivee` au format `(adresse, code_postal)`. Elle dessine sur la `carte` l'itinéraire le plus court entre les deux lieux, place un marqueur sur les deux lieux et renvoie la `carte` ainsi modifiée."
   ]
  },
  {
   "cell_type": "code",
   "execution_count": null,
   "metadata": {},
   "outputs": [],
   "source": [
    "def tracer_itineraire(carte, depart, arrivee):\n",
    "    carte = placer_marqueur(carte, depart)\n",
    "    carte = placer_marqueur(carte, arrivee)\n",
    "    geojson = _itineraire_IGN(_coord_BAN(depart), _coord_BAN(arrivee))['geojson']\n",
    "    folium.GeoJson(geojson).add_to(carte)\n",
    "    return carte"
   ]
  },
  {
   "cell_type": "markdown",
   "metadata": {},
   "source": [
    "*(e)* `tracer_itineraire_multiple` prend en paramètres d'entrée une `carte` et un tableau `lieux` contenant des lieux (au moins deux) au format `(adresse, code_postal)`. Elle dessine sur la `carte` l'itinéraire le plus court passant (dans l'ordre) par tous les lieux désignés et renvoie la carte ainsi modifiée."
   ]
  },
  {
   "cell_type": "code",
   "execution_count": null,
   "metadata": {},
   "outputs": [],
   "source": [
    "def tracer_itineraire_multiple(carte, lieux):\n",
    "    for k in range(len(lieux)-1):\n",
    "        carte = tracer_itineraire(carte, lieux[k], lieux[k+1])\n",
    "    return carte"
   ]
  },
  {
   "cell_type": "markdown",
   "metadata": {},
   "source": [
    "**(21)** Ecrire la documentation du module et des fonctions et procédures."
   ]
  },
  {
   "cell_type": "code",
   "execution_count": null,
   "metadata": {},
   "outputs": [],
   "source": [
    "import voyage"
   ]
  },
  {
   "cell_type": "code",
   "execution_count": null,
   "metadata": {},
   "outputs": [],
   "source": [
    "help(voyage)"
   ]
  },
  {
   "cell_type": "markdown",
   "metadata": {},
   "source": [
    "On peut tester les fonctions définies dans le module `voyage` en exécutant la cellule suivante."
   ]
  },
  {
   "cell_type": "code",
   "execution_count": null,
   "metadata": {},
   "outputs": [],
   "source": [
    "depart = ('16 avenue Henri Mondor', 15000)\n",
    "intermediaire = ('24 avenue des Landais', 63170)\n",
    "arrivee = ('173 boulevard de Strasbourg', 94130)\n",
    "ma_carte = voyage.creer_carte()\n",
    "ma_carte = voyage.tracer_itineraire_multiple(ma_carte, [depart, intermediaire, arrivee])\n",
    "voyage.enregistrer_carte(ma_carte, 'exemple')"
   ]
  },
  {
   "cell_type": "code",
   "execution_count": null,
   "metadata": {},
   "outputs": [],
   "source": [
    "ma_carte"
   ]
  },
  {
   "cell_type": "markdown",
   "metadata": {},
   "source": [
    "## Ce que vous devez savoir"
   ]
  },
  {
   "cell_type": "markdown",
   "metadata": {},
   "source": [
    "<div class=\"rq2\">\n",
    "    <ul>\n",
    "        <li>Installer un module via le Python Package Index.</li>\n",
    "        <li>Importer un module.</li>\n",
    "        <li>Afficher la documentation d'un module.</li>\n",
    "        <li>Faire la différence entre les fonctionnalités présentes dans l'interface et celles qui sont uniquement internes au module.</li>\n",
    "        <li>Ecrire un module ainsi que sa documentation et celle des fonctions et procédures qu'il contient.</li>\n",
    "</ul>\n",
    "</div>"
   ]
  },
  {
   "cell_type": "markdown",
   "metadata": {},
   "source": [
    "## Exercices"
   ]
  },
  {
   "cell_type": "markdown",
   "metadata": {},
   "source": [
    "### Exercice 1"
   ]
  },
  {
   "cell_type": "markdown",
   "metadata": {},
   "source": [
    "Les molécules d'ADN présentes dans les cellules vivantes contiennent l'information génétique et permettent le développement, le fonctionnement et la reproduction des êtres vivants. L'ADN est formé de deux brins qui sont une succession de nucléotides portant chacun une base azotée.\n",
    "\n",
    "Les quatre bases azotées sont l'adénine (A), la thymine (T), la cytosine (C) et la guanine (G). Elles s'associent deux par deux : A avec T d'une part, C avec G d'autre part. \n",
    "\n",
    "Le but de cet exercice est de définir un module `adn` contenant la constante et les fonctions suivantes :\n",
    "\n",
    "*(a)* La constante `BASES_ASSOCIEES = {'A':'T', 'T':'A', 'C':'G', 'G':'C'}`."
   ]
  },
  {
   "cell_type": "code",
   "execution_count": null,
   "metadata": {},
   "outputs": [],
   "source": [
    "BASES_ASSOCIEES = {'A':'T', 'T':'A', 'C':'G', 'G':'C'}"
   ]
  },
  {
   "cell_type": "markdown",
   "metadata": {},
   "source": [
    "*(b)* La fonction `sequence_alea` prend en paramètre d'entrée un entier `n` positif et renvoie une séquence d'ADN aléatoire de longueur `n` sous la forme de chaîne de caractères."
   ]
  },
  {
   "cell_type": "code",
   "execution_count": null,
   "metadata": {},
   "outputs": [],
   "source": [
    "from random import choice\n",
    "\n",
    "def sequence_alea(n):\n",
    "    \"\"\"\n",
    "    Renvoie une séquence ADN aléatoire de longueur n\n",
    "    - Entrée : n (entier positif)\n",
    "    - Sortie : brin (chaîne de caractères)\n",
    "    \"\"\"\n",
    "    brin = ''\n",
    "    for _ in range(n):\n",
    "        brin += choice(['A', 'T', 'C', 'G'])\n",
    "    return brin"
   ]
  },
  {
   "cell_type": "code",
   "execution_count": null,
   "metadata": {},
   "outputs": [],
   "source": [
    "sequence_alea(50)"
   ]
  },
  {
   "cell_type": "markdown",
   "metadata": {},
   "source": [
    "*(c)* La fonction `complementaire` prend en paramètre d'entrée une chaîne de caractères `brin` et renvoie le brin complémentaire sous forme de chaîne de caractères."
   ]
  },
  {
   "cell_type": "code",
   "execution_count": null,
   "metadata": {},
   "outputs": [],
   "source": [
    "def complementaire(brin):\n",
    "    \"\"\"\n",
    "    Détermine le brin d'ADN complémentaire d'un brin donné.\n",
    "    - Entrée : brin (chaîne de caractères)\n",
    "    - Sortie : brin_comp (chaîne de caractères)\n",
    "    \"\"\"\n",
    "    brin_comp = ''\n",
    "    for k in range(len(brin)):\n",
    "        brin_comp += BASES_ASSOCIEES[brin[k]]\n",
    "    return brin_comp"
   ]
  },
  {
   "cell_type": "code",
   "execution_count": null,
   "metadata": {},
   "outputs": [],
   "source": [
    "brin = sequence_alea(50)\n",
    "print(brin)\n",
    "print(complementaire(brin))"
   ]
  },
  {
   "cell_type": "markdown",
   "metadata": {},
   "source": [
    "*(d)* La fonction `proportionAT` prend en paramètre d'entrée une chaîne `brin` et renvoie la proportion de bases A/T présentes dans le brin."
   ]
  },
  {
   "cell_type": "code",
   "execution_count": null,
   "metadata": {},
   "outputs": [],
   "source": [
    "def proportionAT(brin):\n",
    "    \"\"\"\n",
    "    Calcule la proportion de bases A ou T dans un brin donné.\n",
    "    - Entrée : brin (chaîne de caractères)\n",
    "    - Sortie : (flottant)\n",
    "    \"\"\"\n",
    "    cpt = 0\n",
    "    for k in range(len(brin)):\n",
    "        if brin[k] in ['A', 'T']:\n",
    "            cpt = cpt + 1\n",
    "    return cpt / len(brin)"
   ]
  },
  {
   "cell_type": "code",
   "execution_count": null,
   "metadata": {},
   "outputs": [],
   "source": [
    "brin = sequence_alea(50)\n",
    "print(brin)\n",
    "print(proportionAT(brin))"
   ]
  },
  {
   "cell_type": "code",
   "execution_count": null,
   "metadata": {},
   "outputs": [],
   "source": [
    "import adn\n",
    "help(adn)"
   ]
  },
  {
   "cell_type": "markdown",
   "metadata": {},
   "source": [
    "### Exercice 2"
   ]
  },
  {
   "cell_type": "code",
   "execution_count": null,
   "metadata": {},
   "outputs": [],
   "source": []
  }
 ],
 "metadata": {
  "kernelspec": {
   "display_name": "Python 3",
   "language": "python",
   "name": "python3"
  },
  "language_info": {
   "codemirror_mode": {
    "name": "ipython",
    "version": 3
   },
   "file_extension": ".py",
   "mimetype": "text/x-python",
   "name": "python",
   "nbconvert_exporter": "python",
   "pygments_lexer": "ipython3",
   "version": "3.8.5"
  }
 },
 "nbformat": 4,
 "nbformat_minor": 2
}
