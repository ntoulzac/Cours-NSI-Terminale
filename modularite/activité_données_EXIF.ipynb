{
 "cells": [
  {
   "cell_type": "markdown",
   "metadata": {},
   "source": [
    "# Activité : Géolocalisation de photos"
   ]
  },
  {
   "cell_type": "markdown",
   "metadata": {},
   "source": [
    "Activité à écrire !!!\n",
    "\n",
    "Pour le module `exif`, consulter https://auth0.com/blog/read-edit-exif-metadata-in-photos-with-python/"
   ]
  },
  {
   "cell_type": "code",
   "execution_count": null,
   "metadata": {},
   "outputs": [],
   "source": [
    "from donnees_GPS import extraire_donnees_GPS"
   ]
  },
  {
   "cell_type": "code",
   "execution_count": null,
   "metadata": {},
   "outputs": [],
   "source": [
    "image = \"images/EXIF/1.jpg\"\n",
    "extraire_donnees_GPS(image, 'local')"
   ]
  },
  {
   "cell_type": "code",
   "execution_count": null,
   "metadata": {},
   "outputs": [],
   "source": [
    "image = \"https://ntoulzac.github.io/Cours-NSI-Terminale/modularite/images/EXIF/1.jpg\"\n",
    "extraire_donnees_GPS(image, 'url')"
   ]
  },
  {
   "cell_type": "code",
   "execution_count": null,
   "metadata": {},
   "outputs": [],
   "source": [
    "import folium"
   ]
  },
  {
   "cell_type": "code",
   "execution_count": null,
   "metadata": {},
   "outputs": [],
   "source": [
    "ma_carte = folium.Map(location=[48.84741, 2.49052], tiles='OpenStreetMap', zoom_start=19)"
   ]
  },
  {
   "cell_type": "code",
   "execution_count": null,
   "metadata": {},
   "outputs": [],
   "source": [
    "ma_carte"
   ]
  },
  {
   "cell_type": "code",
   "execution_count": null,
   "metadata": {},
   "outputs": [],
   "source": [
    "def choisir_popup(nom_fichier, dico):\n",
    "    if dico['larg'] > dico['haut']:\n",
    "        return folium.Popup(html=f\"<img src='{nom_fichier}' width='300px'>\")\n",
    "    else:\n",
    "        return folium.Popup(html=f\"<img src='{nom_fichier}' height='300px'>\")"
   ]
  },
  {
   "cell_type": "code",
   "execution_count": null,
   "metadata": {},
   "outputs": [],
   "source": [
    "for k in range(2, 13):\n",
    "    nom_fichier = f'https://ntoulzac.github.io/Cours-NSI-Terminale/modularite/images/EXIF/{k}.jpg'\n",
    "    donnees = extraire_donnees_GPS(nom_fichier)\n",
    "    mon_popup = choisir_popup(nom_fichier, donnees)\n",
    "    mon_icone = folium.Icon(icon='arrow-up', color='red', angle=donnees['orient'])\n",
    "    folium.Marker([donnees['lat'], donnees['long']], popup=mon_popup, icon=mon_icone).add_to(ma_carte)\n",
    "ma_carte"
   ]
  },
  {
   "cell_type": "code",
   "execution_count": null,
   "metadata": {},
   "outputs": [],
   "source": []
  }
 ],
 "metadata": {
  "kernelspec": {
   "display_name": "Python 3",
   "language": "python",
   "name": "python3"
  },
  "language_info": {
   "codemirror_mode": {
    "name": "ipython",
    "version": 3
   },
   "file_extension": ".py",
   "mimetype": "text/x-python",
   "name": "python",
   "nbconvert_exporter": "python",
   "pygments_lexer": "ipython3",
   "version": "3.8.5"
  }
 },
 "nbformat": 4,
 "nbformat_minor": 4
}
