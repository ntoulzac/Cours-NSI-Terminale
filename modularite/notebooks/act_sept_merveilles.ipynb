{
 "cells": [
  {
   "cell_type": "markdown",
   "metadata": {},
   "source": [
    "<div style='background-color: #87ceeb;\n",
    "    border: 0.5em solid black;\n",
    "    border-radius: 0.5em;\n",
    "    padding: 1em;'>\n",
    "    <h2>Activité</h2>\n",
    "    <h1>Sept merveilles du monde</h1>\n",
    "</div>"
   ]
  },
  {
   "cell_type": "markdown",
   "metadata": {},
   "source": [
    "Représenter dans un fichier `sept_merveilles.html`, à l'aide du module `folium`, la localisation des sept merveilles du monde antique :\n",
    "\n",
    "- la pyramide de Khéops à **Gizeh**,\n",
    "- les jardins suspendus de **Babylone**,\n",
    "- la statue chryséléphantine de Zeus à **Olympie**,\n",
    "- l'Artémision à **Ephèse**,\n",
    "- le tombeau de Mausole à **Halicarnasse**,\n",
    "- la statue en bronze d'Hélios à **Rhodes**,\n",
    "- la tour de l'île de Pharos à **Alexandrie**.\n",
    "\n",
    "Les sept lieux seront tous visibles directement sans besoin de dézoomer. Les frontières actuelles de la Grèce, stockées dans le fichier [`grece.geojson`](https://ntoulzac.github.io/Cours-NSI-Terminale/modularite/donnees/grece.geojson), seront également représentées. Enfin, une photo de chaque merveille apparaîtra en cas de clic sur le marqueur correspondant.\n",
    "\n",
    "*Remarque :* Sept photos sont disponibles dans le répertoire à l'adresse `https://ntoulzac.github.io/Cours-NSI-Terminale/modularite/images` : `artemision.jpg`, `jardins_suspendus.jpg`, `mausolee.jpg`, `pyramide_kheops.jpg`, `statue_helios.jpg`, `statue_zeus.jpg` et `tour_pharos.jpg`."
   ]
  },
  {
   "cell_type": "code",
   "execution_count": null,
   "metadata": {},
   "outputs": [],
   "source": []
  }
 ],
 "metadata": {
  "kernelspec": {
   "display_name": "Python 3 (ipykernel)",
   "language": "python",
   "name": "python3"
  },
  "language_info": {
   "codemirror_mode": {
    "name": "ipython",
    "version": 3
   },
   "file_extension": ".py",
   "mimetype": "text/x-python",
   "name": "python",
   "nbconvert_exporter": "python",
   "pygments_lexer": "ipython3",
   "version": "3.9.12"
  }
 },
 "nbformat": 4,
 "nbformat_minor": 4
}
