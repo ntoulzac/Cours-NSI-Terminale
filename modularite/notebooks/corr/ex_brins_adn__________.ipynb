{
 "cells": [
  {
   "cell_type": "markdown",
   "metadata": {},
   "source": [
    "<div style='background-color: #e3a8b6;\n",
    "    border: 0.5em solid black;\n",
    "    border-radius: 0.5em;\n",
    "    padding: 1em;'>\n",
    "    <h2>Exercice</h2>\n",
    "    <h1>Brins d'ADN</h1>\n",
    "</div>"
   ]
  },
  {
   "cell_type": "markdown",
   "metadata": {},
   "source": [
    "Les molécules d'ADN présentes dans les cellules vivantes contiennent l'information génétique et permettent le développement, le fonctionnement et la reproduction des êtres vivants. L'ADN est formé de deux brins qui sont une succession de nucléotides portant chacun une base azotée.\n",
    "\n",
    "Les quatre bases azotées sont l'adénine (A), la thymine (T), la cytosine (C) et la guanine (G). Elles s'associent deux par deux : A avec T d'une part, C avec G d'autre part. \n",
    "\n",
    "Le but de cet exercice est de définir un module `adn` contenant la constante et les fonctions suivantes :\n",
    "\n",
    "*(a)* La constante `BASES_ASSOCIEES = {'A':'T', 'T':'A', 'C':'G', 'G':'C'}`."
   ]
  },
  {
   "cell_type": "code",
   "execution_count": null,
   "metadata": {},
   "outputs": [],
   "source": [
    "BASES_ASSOCIEES = {'A':'T', 'T':'A', 'C':'G', 'G':'C'}"
   ]
  },
  {
   "cell_type": "markdown",
   "metadata": {},
   "source": [
    "*(b)* La fonction `sequence_alea` prend en paramètre d'entrée un entier `n` positif et renvoie une séquence d'ADN aléatoire de longueur `n` sous la forme de chaîne de caractères."
   ]
  },
  {
   "cell_type": "code",
   "execution_count": null,
   "metadata": {},
   "outputs": [],
   "source": [
    "from random import choice\n",
    "\n",
    "def sequence_alea(n):\n",
    "    \"\"\"\n",
    "    Renvoie une séquence ADN aléatoire de longueur n\n",
    "    - Entrée : n (entier positif)\n",
    "    - Sortie : brin (chaîne de caractères)\n",
    "    \"\"\"\n",
    "    brin = \"\"\n",
    "    for _ in range(n):\n",
    "        brin += choice(['A', 'T', 'C', 'G'])\n",
    "    return brin"
   ]
  },
  {
   "cell_type": "code",
   "execution_count": null,
   "metadata": {},
   "outputs": [],
   "source": [
    "sequence_alea(50)"
   ]
  },
  {
   "cell_type": "markdown",
   "metadata": {},
   "source": [
    "*(c)* La fonction `complementaire` prend en paramètre d'entrée une chaîne de caractères `brin` et renvoie le brin complémentaire sous forme de chaîne de caractères."
   ]
  },
  {
   "cell_type": "code",
   "execution_count": null,
   "metadata": {},
   "outputs": [],
   "source": [
    "def complementaire(brin):\n",
    "    \"\"\"\n",
    "    Détermine le brin d'ADN complémentaire d'un brin donné.\n",
    "    - Entrée : brin (chaîne de caractères)\n",
    "    - Sortie : brin_comp (chaîne de caractères)\n",
    "    \"\"\"\n",
    "    brin_comp = \"\"\n",
    "    for k in range(len(brin)):\n",
    "        brin_comp += BASES_ASSOCIEES[brin[k]]\n",
    "    return brin_comp"
   ]
  },
  {
   "cell_type": "code",
   "execution_count": null,
   "metadata": {},
   "outputs": [],
   "source": [
    "brin = sequence_alea(50)\n",
    "print(brin)\n",
    "print(complementaire(brin))"
   ]
  },
  {
   "cell_type": "markdown",
   "metadata": {},
   "source": [
    "*(d)* La fonction `proportionAT` prend en paramètre d'entrée une chaîne `brin` et renvoie la proportion de bases A/T présentes dans le brin."
   ]
  },
  {
   "cell_type": "code",
   "execution_count": null,
   "metadata": {},
   "outputs": [],
   "source": [
    "def proportionAT(brin):\n",
    "    \"\"\"\n",
    "    Calcule la proportion de bases A ou T dans un brin donné.\n",
    "    - Entrée : brin (chaîne de caractères)\n",
    "    - Sortie : (flottant)\n",
    "    \"\"\"\n",
    "    cpt = 0\n",
    "    for k in range(len(brin)):\n",
    "        if brin[k] in ['A', 'T']:\n",
    "            cpt = cpt + 1\n",
    "    return cpt / len(brin)"
   ]
  },
  {
   "cell_type": "code",
   "execution_count": null,
   "metadata": {},
   "outputs": [],
   "source": [
    "brin = sequence_alea(50)\n",
    "print(brin)\n",
    "print(proportionAT(brin))"
   ]
  },
  {
   "cell_type": "markdown",
   "metadata": {},
   "source": [
    "Le module `adn` complet est téléchargeable [ici](https://ntoulzac.github.io/Cours-NSI-Terminale/modularite/notebooks/corr/adn.py)."
   ]
  }
 ],
 "metadata": {
  "kernelspec": {
   "display_name": "Python 3 (ipykernel)",
   "language": "python",
   "name": "python3"
  },
  "language_info": {
   "codemirror_mode": {
    "name": "ipython",
    "version": 3
   },
   "file_extension": ".py",
   "mimetype": "text/x-python",
   "name": "python",
   "nbconvert_exporter": "python",
   "pygments_lexer": "ipython3",
   "version": "3.9.12"
  }
 },
 "nbformat": 4,
 "nbformat_minor": 4
}
