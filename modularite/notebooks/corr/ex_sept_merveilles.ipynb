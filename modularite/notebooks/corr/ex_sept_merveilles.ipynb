{
 "cells": [
  {
   "cell_type": "markdown",
   "metadata": {},
   "source": [
    "<div style='background-color: #e3a8b6;\n",
    "    border: 0.5em solid black;\n",
    "    border-radius: 0.5em;\n",
    "    padding: 1em;'>\n",
    "    <h2>Exercice</h2>\n",
    "    <h1>Sept merveilles du monde</h1>\n",
    "</div>"
   ]
  },
  {
   "cell_type": "markdown",
   "metadata": {},
   "source": [
    "Représenter dans un fichier `sept_merveilles.html`, à l'aide du module `folium`, la localisation des sept merveilles du monde antique :\n",
    "\n",
    "- la pyramide de Khéops à **Gizeh**,\n",
    "- les jardins suspendus de **Babylone**,\n",
    "- la statue chryséléphantine de Zeus à **Olympie**,\n",
    "- l'Artémision à **Ephèse**,\n",
    "- le tombeau de Mausole à **Halicarnasse**,\n",
    "- la statue en bronze d'Hélios à **Rhodes**,\n",
    "- la tour de l'île de Pharos à **Alexandrie**.\n",
    "\n",
    "Les sept lieux seront tous visibles directement sans besoin de dézoomer. Les frontières actuelles de la Grèce, stockées dans le fichier [`grece.geojson`](https://ntoulzac.github.io/Cours-NSI-Terminale/modularite/donnees/grece.geojson), seront également représentées. Enfin, une photo de chaque merveille apparaîtra en cas de clic sur le marqueur correspondant.\n",
    "\n",
    "*Remarque :* Sept photos sont disponibles dans le répertoire à l'adresse `https://ntoulzac.github.io/Cours-NSI-Terminale/modularite/images` : `artemision.jpg`, `jardins_suspendus.jpg`, `mausolee.jpg`, `pyramide_kheops.jpg`, `statue_helios.jpg`, `statue_zeus.jpg` et `tour_pharos.jpg`."
   ]
  },
  {
   "cell_type": "code",
   "execution_count": null,
   "metadata": {},
   "outputs": [],
   "source": [
    "import folium"
   ]
  },
  {
   "cell_type": "code",
   "execution_count": null,
   "metadata": {},
   "outputs": [],
   "source": [
    "carte_merveilles = folium.Map(location=[37.345, 34.006], tiles=\"OpenStreetMap\", zoom_start=5)"
   ]
  },
  {
   "cell_type": "code",
   "execution_count": null,
   "metadata": {},
   "outputs": [],
   "source": [
    "def ajouter_marqueur(carte, coordonnees, nom_fichier_image, legende):\n",
    "    \"\"\"\n",
    "    Ajoute à une carte Folium un marqueur associé à une fenêtre popup.\n",
    "    - Entrées : carte (instance de la classe folium.Map),\n",
    "                coordonnees (tableau de deux flottants de la forme [latitude, longitude]),\n",
    "                nom_fichier_image (chaine),\n",
    "                legende (chaine)\n",
    "    Effet de bord : modification de la carte\n",
    "    \"\"\"\n",
    "    html_a_inserer = f\"\"\"<img src=\"https://ntoulzac.github.io/Cours-NSI-Terminale/modularite/images/{nom_fichier_image}\">\n",
    "                         <br><br><i>{legende}</i>\"\"\"\n",
    "    folium.Marker(coordonnees, popup=folium.Popup(html=html_a_inserer)).add_to(carte_merveilles)"
   ]
  },
  {
   "cell_type": "code",
   "execution_count": null,
   "metadata": {},
   "outputs": [],
   "source": [
    "ajouter_marqueur(carte_merveilles, [29.979, 31.134], \"pyramide_kheops.jpg\", \"la pyramide de Kheops\")\n",
    "ajouter_marqueur(carte_merveilles, [32.542, 44.421], \"jardins_suspendus.jpg\", \"les jardins suspendus\")\n",
    "ajouter_marqueur(carte_merveilles, [37.638, 21.630], \"statue_zeus.jpg\", \"la statue de Zeus\")\n",
    "ajouter_marqueur(carte_merveilles, [37.950, 27.364], \"artemision.jpg\", \"l'Artemision\")\n",
    "ajouter_marqueur(carte_merveilles, [37.038, 27.424], \"mausolee.jpg\", \"le tombeau de Mausole\")\n",
    "ajouter_marqueur(carte_merveilles, [36.451, 28.226], \"statue_helios.jpg\", \"la statue d'Helios\")\n",
    "ajouter_marqueur(carte_merveilles, [31.224, 29.933], \"tour_pharos.jpg\", \"la tour de Pharos\")\n",
    "folium.GeoJson(\"https://ntoulzac.github.io/Cours-NSI-Terminale/modularite/donnees/grece.geojson\").add_to(carte_merveilles)\n",
    "carte_merveilles.save(\"sept_merveilles.html\")\n",
    "carte_merveilles  # Affichage de la carte sous cette cellule"
   ]
  }
 ],
 "metadata": {
  "kernelspec": {
   "display_name": "Python 3 (ipykernel)",
   "language": "python",
   "name": "python3"
  },
  "language_info": {
   "codemirror_mode": {
    "name": "ipython",
    "version": 3
   },
   "file_extension": ".py",
   "mimetype": "text/x-python",
   "name": "python",
   "nbconvert_exporter": "python",
   "pygments_lexer": "ipython3",
   "version": "3.9.12"
  }
 },
 "nbformat": 4,
 "nbformat_minor": 4
}
