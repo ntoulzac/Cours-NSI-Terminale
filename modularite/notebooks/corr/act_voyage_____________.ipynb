{
 "cells": [
  {
   "cell_type": "markdown",
   "metadata": {},
   "source": [
    "<div style='background-color: #87ceeb;\n",
    "    border: 0.5em solid black;\n",
    "    border-radius: 0.5em;\n",
    "    padding: 1em;'>\n",
    "    <h2>Activité</h2>\n",
    "    <h1>Voyage en France</h1>\n",
    "</div>"
   ]
  },
  {
   "cell_type": "markdown",
   "metadata": {},
   "source": [
    "**(1)** Avant de commencer, installer le module `geodaisy`, disponible via le _Python Package Index_."
   ]
  },
  {
   "cell_type": "code",
   "execution_count": null,
   "metadata": {},
   "outputs": [],
   "source": [
    "import sys\n",
    "!{sys.executable} -m pip install geodaisy"
   ]
  },
  {
   "cell_type": "markdown",
   "metadata": {},
   "source": [
    "On veut définir un module `voyage` dans le fichier `voyage.py` à télécharger [ici](https://ntoulzac.github.io/Cours-NSI-Terminale/modularite/donnees/voyage.py). Le but de ce module est de fournir des fonctions permettant de repérer des lieux sur une carte ou d'y représenter des itinéraires.\n",
    "\n",
    "Les cartes seront construites grâce au module `folium` et les éléments géographiques seront obtenus en interrogeant l'API *Base Adresse Nationale* du gouvernement français et l'API <a href=\"https://geoservices.ign.fr/documentation/geoservices/itineraires.html\"><i>Itinéraires</i></a> de l'Institut Géographique National.\n",
    "\n",
    "Deux fonctions sont prédéfinies dans le module :\n",
    "- `_coord_BAN` prend en entrée un couple `lieu` au format `(adresse, code_postal)`, où `adresse` est une chaîne de caractères et `code_postal` un entier. Elle retourne un couple au format `(latitude, longitude)` contenant les coordonnées géographiques du `lieu` obtenues grâce à l'API *Base Adresse Nationale*.\n",
    "- `_itineraire_IGN` prend en entrée deux couples `dep` et `arr` au format `(latitude, longitude)`, où `latitude` et `longitude` sont deux flottants. Elle retourne un dictionnaire dont les clés sont `distance`, `duree` et `geojson`. On obtient en effet, grâce à l'API *Itinéraires* de l'IGN, à la fois la longueur, la durée et la représentation spatiale du trajet le plus rapide entre `dep` et `arr`.\n",
    "\n",
    "**(2)** Votre travail consiste, dans le module `voyage`, à définir les fonctions et procédures suivantes :\n",
    "\n",
    "*(a)* `creer_carte`. Elle renvoie une carte créée avec `folium`, centrée sur le point de coordonnées (46,513°N ; 2,576°E) avec un niveau de zoom 6."
   ]
  },
  {
   "cell_type": "code",
   "execution_count": null,
   "metadata": {},
   "outputs": [],
   "source": [
    "def creer_carte():\n",
    "    return folium.Map(location=[46.513, 2.576], tiles=\"OpenStreetMap\", zoom_start=6)"
   ]
  },
  {
   "cell_type": "markdown",
   "metadata": {},
   "source": [
    "*(b)* `enregistrer_carte` prend en paramètres d'entrée une `carte` et un `nom_de_fichier`. Elle enregistre la carte dans le fichier `nom_de_fichier.html`."
   ]
  },
  {
   "cell_type": "code",
   "execution_count": null,
   "metadata": {},
   "outputs": [],
   "source": [
    "def enregistrer_carte(carte, nom_de_fichier):\n",
    "    carte.save(f\"{nom_de_fichier}.html\")"
   ]
  },
  {
   "cell_type": "markdown",
   "metadata": {},
   "source": [
    "*(c)* `placer_marqueur` prend en paramètres d'entrée une `carte` et un `lieu` au format `(adresse, code_postal)`. Elle place sur la `carte` un marqueur au `lieu` désigné et renvoie la carte ainsi modifiée."
   ]
  },
  {
   "cell_type": "code",
   "execution_count": null,
   "metadata": {},
   "outputs": [],
   "source": [
    "def placer_marqueur(carte, lieu):\n",
    "    folium.Marker(_coord_BAN(lieu)).add_to(carte)\n",
    "    return carte"
   ]
  },
  {
   "cell_type": "markdown",
   "metadata": {},
   "source": [
    "*(d)* `tracer_itineraire` prend en paramètres d'entrée une `carte` et deux lieux `depart` et `arrivee` au format `(adresse, code_postal)`. Elle dessine sur la `carte` l'itinéraire le plus court entre les deux lieux, place un marqueur sur les deux lieux et renvoie la `carte` ainsi modifiée."
   ]
  },
  {
   "cell_type": "code",
   "execution_count": null,
   "metadata": {},
   "outputs": [],
   "source": [
    "def tracer_itineraire(carte, depart, arrivee):\n",
    "    carte = placer_marqueur(carte, depart)\n",
    "    carte = placer_marqueur(carte, arrivee)\n",
    "    geojson = _itineraire_IGN(_coord_BAN(depart), _coord_BAN(arrivee))[\"geojson\"]\n",
    "    folium.GeoJson(geojson).add_to(carte)\n",
    "    return carte"
   ]
  },
  {
   "cell_type": "markdown",
   "metadata": {},
   "source": [
    "*(e)* `tracer_itineraire_multiple` prend en paramètres d'entrée une `carte` et un tableau `lieux` contenant des lieux (au moins deux) au format `(adresse, code_postal)`. Elle dessine sur la `carte` l'itinéraire le plus court passant (dans l'ordre) par tous les lieux désignés et renvoie la carte ainsi modifiée."
   ]
  },
  {
   "cell_type": "code",
   "execution_count": null,
   "metadata": {},
   "outputs": [],
   "source": [
    "def tracer_itineraire_multiple(carte, lieux):\n",
    "    for k in range(len(lieux)-1):\n",
    "        carte = tracer_itineraire(carte, lieux[k], lieux[k+1])\n",
    "    return carte"
   ]
  },
  {
   "cell_type": "markdown",
   "metadata": {},
   "source": [
    "**(3)** Ecrire la documentation du module et des fonctions et procédures."
   ]
  },
  {
   "cell_type": "markdown",
   "metadata": {},
   "source": [
    "On peut tester les fonctions définies dans le module `voyage` (module complet à télécharger [ici](https://ntoulzac.github.io/Cours-NSI-Terminale/modularite/notebooks/corr/voyage.py)) en exécutant la cellule suivante."
   ]
  },
  {
   "cell_type": "code",
   "execution_count": null,
   "metadata": {},
   "outputs": [],
   "source": [
    "import voyage\n",
    "depart = (\"16 avenue Henri Mondor\", 15000)\n",
    "intermediaire = (\"24 avenue des Landais\", 63170)\n",
    "arrivee = (\"173 boulevard de Strasbourg\", 94130)\n",
    "ma_carte = voyage.creer_carte()\n",
    "ma_carte = voyage.tracer_itineraire_multiple(ma_carte, [depart, intermediaire, arrivee])\n",
    "voyage.enregistrer_carte(ma_carte, \"exemple\")"
   ]
  },
  {
   "cell_type": "code",
   "execution_count": null,
   "metadata": {},
   "outputs": [],
   "source": [
    "ma_carte"
   ]
  }
 ],
 "metadata": {
  "kernelspec": {
   "display_name": "Python 3 (ipykernel)",
   "language": "python",
   "name": "python3"
  },
  "language_info": {
   "codemirror_mode": {
    "name": "ipython",
    "version": 3
   },
   "file_extension": ".py",
   "mimetype": "text/x-python",
   "name": "python",
   "nbconvert_exporter": "python",
   "pygments_lexer": "ipython3",
   "version": "3.9.12"
  }
 },
 "nbformat": 4,
 "nbformat_minor": 4
}
