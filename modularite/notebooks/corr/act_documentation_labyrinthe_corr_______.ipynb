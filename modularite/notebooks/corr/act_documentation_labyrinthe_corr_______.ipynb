{
 "cells": [
  {
   "cell_type": "markdown",
   "metadata": {},
   "source": [
    "<div style='background-color: #87ceeb;\n",
    "    border: 0.5em solid black;\n",
    "    border-radius: 0.5em;\n",
    "    padding: 1em;'>\n",
    "    <h2>Activité</h2>\n",
    "    <h1>Documentation d'un module</h1>\n",
    "</div>"
   ]
  },
  {
   "cell_type": "markdown",
   "metadata": {},
   "source": [
    "Dans cette activité, on travaille avec le module `labyrinthe` qui est stocké dans le fichier `labyrinthe.py` à télécharger [ici](https://ntoulzac.github.io/Cours-NSI-Terminale/modularite/notebooks/corr/labyrinthe.py) et à placer dans le même répertoire que ce carnet."
   ]
  },
  {
   "cell_type": "markdown",
   "metadata": {},
   "source": [
    "**(1)** Importer le module `labyrinthe` sous le nom `lab`, puis faire afficher sa documentation"
   ]
  },
  {
   "cell_type": "code",
   "execution_count": null,
   "metadata": {
    "scrolled": true
   },
   "outputs": [],
   "source": [
    "import labyrinthe as lab"
   ]
  },
  {
   "cell_type": "code",
   "execution_count": null,
   "metadata": {},
   "outputs": [],
   "source": [
    "help(lab)"
   ]
  },
  {
   "cell_type": "markdown",
   "metadata": {},
   "source": [
    "### Écriture de la documentation"
   ]
  },
  {
   "cell_type": "markdown",
   "metadata": {},
   "source": [
    "**(2)** Ouvrir le fichier `labyrinthe.py` avec un éditeur de code et repérer où sont écrites :\n",
    "- la documentation du module,\n",
    "- la documentation de chaque fonction et procédure."
   ]
  },
  {
   "cell_type": "markdown",
   "metadata": {},
   "source": [
    "La documentation du module est écrite dans la docstring au début du fichier `labyrinthe.py`.\n",
    "\n",
    "La documentation de chaque fonction est écrite dans la docstring au début de la définition de la fonction.\n",
    "\n",
    "On peut remarquer que certaines fonctions et constantes définies dans le module ne font pas partie de son interface. En effet, elles sont définies car elles servent au fonctionnement interne du module mais elles n'ont pas vocation à être utilisées par autrui. Elles se distinguent par le fait que leur nom commence par un _underscore_ : `_fonction` ou `_CONSTANTE`."
   ]
  },
  {
   "cell_type": "markdown",
   "metadata": {},
   "source": [
    "**(3)** Écrire dans le fichier `labyrinthe.py` la documentation de la classe `Pion`.\n",
    "\n",
    "```python\n",
    "class Pion:\n",
    "    \"\"\"\n",
    "    Classe permettant de créer et déplacer un pion dans un labyrinthe.\n",
    "    \"\"\"\n",
    "    def __init__(self, pos, couleur=ROUGE):\n",
    "        \"\"\"\n",
    "        Crée un pion à une position donnée et dans une couleur donnée.\n",
    "        - Entrées : pos (couple d'entiers au format (ligne, colonne)),\n",
    "                    couleur (triplet d'entiers au format (R, V, B))\n",
    "        \"\"\"\n",
    "        ......\n",
    "        \n",
    "    def est_positionne_sur(self, pos):\n",
    "        \"\"\"\n",
    "        Détermine si le pion est à une position donnée.\n",
    "        - Entrée : pos (couple d'entiers au format (ligne, colonne))\n",
    "        - Sortie : (booléen)\n",
    "        \"\"\"\n",
    "        ......\n",
    "            \n",
    "    def deplacer(self, laby, direction):\n",
    "        \"\"\"\n",
    "        Déplace le pion dans une direction donnée.\n",
    "        - Entrées : laby (instance de la classe Labyrinthe), direction (chaîne de caractères)\n",
    "        \"\"\"\n",
    "        ......\n",
    "```"
   ]
  },
  {
   "cell_type": "markdown",
   "metadata": {},
   "source": [
    "<img src=\"https://ntoulzac.github.io/Cours-NSI-Terminale/modularite/images/laby.png\">"
   ]
  },
  {
   "cell_type": "markdown",
   "metadata": {},
   "source": [
    "### Utilisation de la documentation"
   ]
  },
  {
   "cell_type": "markdown",
   "metadata": {},
   "source": [
    "**(4)** Ecrire des lignes de code permettant :\n",
    "- de définir un labyrinthe aléatoire composé de 20 lignes et 30 colonnes,\n",
    "- de positionner un pion bleu à l'entrée du labyrinthe,\n",
    "- de faire afficher l'ensemble dans une fenêtre Pygame,\n",
    "- de faire déplacer le pion avec les touches du clavier jusqu'à ce qu'il atteigne la sortie, et\n",
    "- de fermer la fenêtre une fois la sortie atteinte."
   ]
  },
  {
   "cell_type": "code",
   "execution_count": null,
   "metadata": {},
   "outputs": [],
   "source": [
    "mon_laby = lab.Labyrinthe(20, 30)\n",
    "mon_pion = lab.Pion(mon_laby.entree, lab.BLEU)\n",
    "ma_fenetre = lab.FenetreLaby(mon_laby)\n",
    "ma_fenetre.afficher_tout(mon_laby, mon_pion)\n",
    "ma_fenetre.actualiser()\n",
    "while not mon_pion.est_positionne_sur(mon_laby.sortie):\n",
    "    direction = ma_fenetre.lire_fleche()\n",
    "    mon_pion.deplacer(mon_laby, direction)\n",
    "    ma_fenetre.afficher_tout(mon_laby, mon_pion)\n",
    "    ma_fenetre.actualiser()\n",
    "ma_fenetre.fermer()"
   ]
  },
  {
   "cell_type": "markdown",
   "metadata": {},
   "source": [
    "**(5)** Modifier la définition de la méthode `deplacer` de la classe `Pion` pour empêcher le pion de traverser les murs du labyrinthe et de sortir de la fenêtre.\n",
    "\n",
    "```python\n",
    "    def deplacer(self, laby, direction):\n",
    "        \"\"\"\n",
    "        Déplace le pion dans une direction donnée.\n",
    "        - Entrées : laby (instance de la classe Labyrinthe), direction (chaîne de caractères)\n",
    "        \"\"\"\n",
    "        L, C = self.pos\n",
    "        if direction == \"gauche\" and C > 0 and laby.grille[L][C-1] == 0:\n",
    "            self.pos = (L, C-1)\n",
    "        elif direction == \"droite\" and C < laby.nb_c-1 and laby.grille[L][C+1] == 0:\n",
    "            self.pos = (L, C+1)\n",
    "        elif direction == \"haut\" and L > 0 and laby.grille[L-1][C] == 0:\n",
    "            self.pos = (L-1, C)\n",
    "        elif direction == \"bas\" and L < laby.nb_l-1 and laby.grille[L+1][C] == 0:\n",
    "            self.pos = (L+1, C)\n",
    "```"
   ]
  }
 ],
 "metadata": {
  "kernelspec": {
   "display_name": "Python 3 (ipykernel)",
   "language": "python",
   "name": "python3"
  },
  "language_info": {
   "codemirror_mode": {
    "name": "ipython",
    "version": 3
   },
   "file_extension": ".py",
   "mimetype": "text/x-python",
   "name": "python",
   "nbconvert_exporter": "python",
   "pygments_lexer": "ipython3",
   "version": "3.9.12"
  }
 },
 "nbformat": 4,
 "nbformat_minor": 4
}
