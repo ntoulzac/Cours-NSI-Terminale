{
 "cells": [
  {
   "cell_type": "markdown",
   "metadata": {},
   "source": [
    "<div style='background-color: #e3a8b6;\n",
    "    border: 0.5em solid black;\n",
    "    border-radius: 0.5em;\n",
    "    padding: 1em;'>\n",
    "    <h2>Exercice</h2>\n",
    "    <h1>Données EXIF</h1>\n",
    "</div>"
   ]
  },
  {
   "cell_type": "markdown",
   "metadata": {},
   "source": [
    "**(1)** Télécharger le fichier [`donnees_image.py`](https://ntoulzac.github.io/Cours-NSI-Terminale/modularite/donnees/donnees_image.py) puis importer la fonction `donnees_exif` depuis le module `donnees_image`."
   ]
  },
  {
   "cell_type": "code",
   "execution_count": null,
   "metadata": {},
   "outputs": [],
   "source": [
    "from donnees_image import donnees_exif"
   ]
  },
  {
   "cell_type": "markdown",
   "metadata": {},
   "source": [
    "**(2)** Dans le fichier `donnees_image.py`, écrire la spécification de la fonction `donnees_exif` après l'avoir testée."
   ]
  },
  {
   "cell_type": "code",
   "execution_count": null,
   "metadata": {},
   "outputs": [],
   "source": [
    "image = \"https://ntoulzac.github.io/Cours-NSI-Terminale/modularite/images/EXIF/0.jpg\"\n",
    "donnees_exif(image, 'url')"
   ]
  },
  {
   "cell_type": "markdown",
   "metadata": {},
   "source": [
    "On souhaite localiser sur une carte seize photos dont l'adresse est de la forme `https://ntoulzac.github.io/Cours-NSI-Terminale/modularite/images/EXIF/numero.jpg`, avec `numero` compris entre `0` et `15`.\n",
    "\n",
    "**(3)** Compléter les lignes de code ci-dessous de sorte que :\n",
    "\n",
    "- la carte fasse apparaître l'ensemble du continent européen,\n",
    "- la localisation de chaque photo soit représentée par un marqueur sur la carte,\n",
    "- le survol d'un marqueur fasse apparaître la latitude, la longitude et l'altitude du lieu où la photo a été prise,\n",
    "- le clic sur un marqueur fasse apparaître une fenêtre pop up avec la photo à l'intérieur, la photo ne dépassant pas 300 px de côté."
   ]
  },
  {
   "cell_type": "code",
   "execution_count": null,
   "metadata": {},
   "outputs": [],
   "source": [
    "import folium"
   ]
  },
  {
   "cell_type": "code",
   "execution_count": null,
   "metadata": {},
   "outputs": [],
   "source": [
    "def choisir_popup(nom_fichier, dico):\n",
    "    if dico['larg'] > dico['haut']:\n",
    "        return folium.Popup(html=f\"<img src='{nom_fichier}' width='300px'>\")\n",
    "    else:\n",
    "        return folium.Popup(html=f\"<img src='{nom_fichier}' height='300px'>\")"
   ]
  },
  {
   "cell_type": "code",
   "execution_count": null,
   "metadata": {},
   "outputs": [],
   "source": [
    "ma_carte = folium.Map(??????)\n",
    "for k in range(16):\n",
    "    url_image = ??????\n",
    "    donnees = ??????\n",
    "    mon_tooltip = ??????\n",
    "    mon_popup = ??????\n",
    "    mon_icone = folium.Icon(icon='arrow-up', color='red', angle=donnees['orient'])\n",
    "    folium.Marker(??????, tooltip=mon_tooltip, popup=mon_popup, icon=mon_icone).add_to(ma_carte)\n",
    "ma_carte"
   ]
  },
  {
   "cell_type": "markdown",
   "metadata": {},
   "source": [
    "**(4)** Répondre à la question associée à chacune des photos suivantes :\n",
    "\n",
    "<table>\n",
    "    <tr>\n",
    "        <td width=\"25%\"><img src=\"https://ntoulzac.github.io/Cours-NSI-Terminale/modularite/images/EXIF/14.jpg\"></td>\n",
    "        <td width=\"25%\"><img src=\"https://ntoulzac.github.io/Cours-NSI-Terminale/modularite/images/EXIF/12.jpg\"></td>\n",
    "        <td width=\"25%\"><img src=\"https://ntoulzac.github.io/Cours-NSI-Terminale/modularite/images/EXIF/2.jpg\"></td>\n",
    "        <td width=\"25%\"><img src=\"https://ntoulzac.github.io/Cours-NSI-Terminale/modularite/images/EXIF/1.jpg\"></td>\n",
    "    </tr>\n",
    "    <tr>\n",
    "        <td>À quelle altitude la photo a-t-elle été prise ?</td>\n",
    "        <td>Dans quelle direction la photo a-t-elle été prise ?</td>\n",
    "        <td>Dans quelle ville la photo a-t-elle été prise ?</td>\n",
    "        <td>Devant quel monument la photo a-t-elle été prise ?</td>\n",
    "    </tr>\n",
    "    <tr>\n",
    "        <td width=\"25%\"><img src=\"https://ntoulzac.github.io/Cours-NSI-Terminale/modularite/images/EXIF/13.jpg\"></td>\n",
    "        <td width=\"25%\"><img src=\"https://ntoulzac.github.io/Cours-NSI-Terminale/modularite/images/EXIF/7.jpg\"></td>\n",
    "        <td width=\"25%\"><img src=\"https://ntoulzac.github.io/Cours-NSI-Terminale/modularite/images/EXIF/10.jpg\"></td>\n",
    "        <td width=\"25%\"><img src=\"https://ntoulzac.github.io/Cours-NSI-Terminale/modularite/images/EXIF/8.jpg\"></td>\n",
    "    </tr>\n",
    "    <tr>\n",
    "        <td>Depuis quelle colline la photo a-t-elle été prise ?</td>\n",
    "        <td>Dans quel musée la photo a-t-elle été prise ?</td>\n",
    "        <td>Dans quel stade la photo a-t-elle été prise ?</td>\n",
    "        <td>Devant quel lycée la photo a-t-elle été prise ?</td> \n",
    "    </tr>\n",
    "</table>"
   ]
  }
 ],
 "metadata": {
  "kernelspec": {
   "display_name": "Python 3",
   "language": "python",
   "name": "python3"
  },
  "language_info": {
   "codemirror_mode": {
    "name": "ipython",
    "version": 3
   },
   "file_extension": ".py",
   "mimetype": "text/x-python",
   "name": "python",
   "nbconvert_exporter": "python",
   "pygments_lexer": "ipython3",
   "version": "3.8.5"
  }
 },
 "nbformat": 4,
 "nbformat_minor": 4
}
