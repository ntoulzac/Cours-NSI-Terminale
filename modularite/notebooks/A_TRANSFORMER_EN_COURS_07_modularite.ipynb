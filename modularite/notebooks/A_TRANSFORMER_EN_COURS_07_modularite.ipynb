{
 "cells": [
  {
   "cell_type": "markdown",
   "metadata": {},
   "source": [
    "# Chapitre 7 : Modularité"
   ]
  },
  {
   "cell_type": "markdown",
   "metadata": {},
   "source": [
    "***Utilisation d'une bibliothèque, création et documentation d'un module***"
   ]
  },
  {
   "cell_type": "markdown",
   "metadata": {},
   "source": [
    "## Partie A - Utilisation d'une bibliothèque"
   ]
  },
  {
   "cell_type": "markdown",
   "metadata": {},
   "source": [
    "Lorsqu'on écrit des programmes en Python, un certain nombre de fonctions sont reconnues automatiquement par l'interpréteur : il s'agit des **fonctions natives** du langage (_built-in functions_). On y trouve, par exemple, les fonctions `input` et `print` mais aussi `len`, `range`, `sorted`, etc. La liste est disponible <a href=\"https://docs.python.org/fr/3/library/functions.html#built-in-funcs\">ici</a>.\n",
    "\n",
    "D'autres fonctions très classiques font partie de la **bibliothèque standard** : il s'agit des fonctions disponibles par défaut mais qui doivent être importées depuis un module complémentaire. On y trouve, par exemple, les fonctions `randint` du module `random`, les fonctions du module graphique `turtle` ou du module `tkinter`, ou encore les fonctions du module `csv` vues en classe de Première.\n",
    "\n",
    "Enfin, de nombreuses autres bibliothèques sont téléchargeables en ligne, en particulier via le **Python Package Index** (<a href=\"https://pypi.org/\">PyPI</a>). On y trouve, par exemple, le module `tutormagic` ou les bibliothèques `pygame` et `Pillow` (`PIL`).\n"
   ]
  },
  {
   "cell_type": "markdown",
   "metadata": {},
   "source": [
    "## Partie C - Documentation d'un module"
   ]
  },
  {
   "cell_type": "markdown",
   "metadata": {},
   "source": [
    "Dans cette partie, on travaille avec le module `labyrinthe` qui est stocké dans le fichier `labyrinthe.py` à télécharger [ici](https://ntoulzac.github.io/Cours-NSI-Terminale/modularite/labyrinthe.py) et à placer dans le même répertoire que ce carnet."
   ]
  },
  {
   "cell_type": "markdown",
   "metadata": {},
   "source": [
    "**(15)** Importer le module `labyrinthe` sous le nom `lab`, puis faire afficher sa documentation"
   ]
  },
  {
   "cell_type": "code",
   "execution_count": null,
   "metadata": {},
   "outputs": [],
   "source": []
  },
  {
   "cell_type": "code",
   "execution_count": null,
   "metadata": {
    "scrolled": true
   },
   "outputs": [],
   "source": []
  },
  {
   "cell_type": "markdown",
   "metadata": {},
   "source": [
    "La documentation obtenue donne accès à l'**interface** du module. Elle explique le rôle global du module et liste les classes, les fonctions, les constantes mises à disposition de l'utilisateur par le concepteur du module ainsi que leurs spécifications.\n",
    "\n",
    "L'interface doit permettre de se servir du module sans avoir à réfléchir à la manière dont les classes et les fonctions ont été implémentées."
   ]
  },
  {
   "cell_type": "markdown",
   "metadata": {},
   "source": [
    "### Ecriture de la documentation"
   ]
  },
  {
   "cell_type": "markdown",
   "metadata": {},
   "source": [
    "**(16)** Ouvrir le fichier `labyrinthe.py` avec un éditeur de texte et repérer où sont écrites :\n",
    "- la documentation du module,\n",
    "- la documentation de chaque fonction et procédure."
   ]
  },
  {
   "cell_type": "markdown",
   "metadata": {},
   "source": [
    "On peut remarquer que certaines fonctions et constantes définies dans le module ne font pas partie de son interface. En effet, elles sont définies car elles servent au fonctionnement interne du module mais elles n'ont pas vocation à être utilisées par autrui. Elles se distinguent par le fait que leur nom commence par un <i>underscore</i> : <code>_fonction</code> ou <code>_CONSTANTE</code>.</div>"
   ]
  },
  {
   "cell_type": "markdown",
   "metadata": {},
   "source": [
    "**(17)** Ecrire dans le fichier `labyrinthe.py` la documentation de la classe `Pion`."
   ]
  },
  {
   "cell_type": "markdown",
   "metadata": {},
   "source": [
    "<img src=\"https://ntoulzac.github.io/Cours-NSI-Terminale/modularite/images/laby.png\">"
   ]
  },
  {
   "cell_type": "markdown",
   "metadata": {},
   "source": [
    "### Utilisation de la documentation"
   ]
  },
  {
   "cell_type": "markdown",
   "metadata": {},
   "source": [
    "**(18)** Ecrire des lignes de code permettant :\n",
    "- de définir un labyrinthe aléatoire composé de 20 lignes et 30 colonnes,\n",
    "- de positionner un pion bleu à l'entrée du labyrinthe,\n",
    "- de faire afficher l'ensemble dans une fenêtre Pygame,\n",
    "- de faire déplacer le pion avec les touches du clavier jusqu'à ce qu'il atteigne la sortie, et\n",
    "- de fermer la fenêtre une fois la sortie atteinte."
   ]
  },
  {
   "cell_type": "code",
   "execution_count": null,
   "metadata": {},
   "outputs": [],
   "source": []
  },
  {
   "cell_type": "markdown",
   "metadata": {},
   "source": [
    "**(19)** Modifier la définition de la méthode `deplacer` de la classe `Pion` pour empêcher le pion de traverser les murs du labyrinthe et de sortir de la fenêtre."
   ]
  },
  {
   "cell_type": "markdown",
   "metadata": {},
   "source": [
    "## Ce que vous devez savoir"
   ]
  },
  {
   "cell_type": "markdown",
   "metadata": {},
   "source": [
    "<div class=\"rq2\">\n",
    "    <ul>\n",
    "        <li>Installer un module via le Python Package Index.</li>\n",
    "        <li>Importer un module.</li>\n",
    "        <li>Afficher la documentation d'un module.</li>\n",
    "        <li>Faire la différence entre les fonctionnalités présentes dans l'interface et celles qui sont uniquement internes au module.</li>\n",
    "        <li>Ecrire un module ainsi que sa documentation et celle des fonctions et procédures qu'il contient.</li>\n",
    "</ul>\n",
    "</div>"
   ]
  }
 ],
 "metadata": {
  "kernelspec": {
   "display_name": "Python 3",
   "language": "python",
   "name": "python3"
  },
  "language_info": {
   "codemirror_mode": {
    "name": "ipython",
    "version": 3
   },
   "file_extension": ".py",
   "mimetype": "text/x-python",
   "name": "python",
   "nbconvert_exporter": "python",
   "pygments_lexer": "ipython3",
   "version": "3.8.5"
  }
 },
 "nbformat": 4,
 "nbformat_minor": 4
}
