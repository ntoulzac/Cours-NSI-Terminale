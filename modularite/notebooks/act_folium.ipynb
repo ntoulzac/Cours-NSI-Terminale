{
 "cells": [
  {
   "cell_type": "markdown",
   "metadata": {},
   "source": [
    "<div style='background-color: #87ceeb;\n",
    "    border: 0.5em solid black;\n",
    "    border-radius: 0.5em;\n",
    "    padding: 1em;'>\n",
    "    <h2>Activité</h2>\n",
    "    <h1>Module <code>folium</code></h1>\n",
    "</div>"
   ]
  },
  {
   "cell_type": "markdown",
   "metadata": {},
   "source": [
    "Le but de cette activité est de découvrir le module `folium`, qui permet de générer des cartes interactives."
   ]
  },
  {
   "cell_type": "markdown",
   "metadata": {},
   "source": [
    "### Installation d'un module"
   ]
  },
  {
   "cell_type": "markdown",
   "metadata": {},
   "source": [
    "**(1)** Exécuter la cellule suivante pour installer le module `folium`, qui ne fait pas partie de la bibliothèque standard mais qui est disponible via le PyPI."
   ]
  },
  {
   "cell_type": "code",
   "execution_count": null,
   "metadata": {},
   "outputs": [],
   "source": [
    "import sys\n",
    "!{sys.executable} -m pip install folium"
   ]
  },
  {
   "cell_type": "markdown",
   "metadata": {},
   "source": [
    "### Importation d'un module"
   ]
  },
  {
   "cell_type": "markdown",
   "metadata": {},
   "source": [
    "En exécutant la cellule suivante, l'ensemble des constantes, fonctions, classes du module `folium` sont importées et donc utilisables."
   ]
  },
  {
   "cell_type": "code",
   "execution_count": null,
   "metadata": {},
   "outputs": [],
   "source": [
    "import folium"
   ]
  },
  {
   "cell_type": "markdown",
   "metadata": {},
   "source": [
    "On accède alors aux différents objets importés grâce à la syntaxe `folium.nom_objet`."
   ]
  },
  {
   "cell_type": "markdown",
   "metadata": {},
   "source": [
    "<div class='rq'>Lorsque le nom du module est long, il est possible de lui donner un <b>alias</b> lors de l'importation, en écrivant <code>import folium as f</code> par exemple. Dans ce cas, les objects importés seront accessibles sous le nom <code>f.nom_objet</code>.<br>\n",
    "    <br>\n",
    "    Il existe une autre façon d'importer le contenu d'un module, avec l'instruction <code>from module import ...</code> :\n",
    "    <ul>\n",
    "        <li><code>from module import Classe, fonction, CONSTANTE</code> permet d'importer quelques classes, fonctions, constantes depuis le module. Elles sont accessibles directement par leur nom, qui n'a pas à être précédé par le nom du <code>module</code>,</li>\n",
    "        <li><code>from module import *</code> permet d'importer toutes les classes, fonctions, constantes depuis le module. Elles sont accessibles directement par leur nom, qui n'a pas à être précédé par le nom du <code>module</code>. Cette façon d'importer est déconseillée car des fonctions provenant de modules différents peuvent porter le même nom.</li>\n",
    "    </ul></div>"
   ]
  },
  {
   "cell_type": "markdown",
   "metadata": {},
   "source": [
    "**(2)** Afficher la documentation (rubrique d'aide) de la classe `Map` importée depuis le module `folium`."
   ]
  },
  {
   "cell_type": "code",
   "execution_count": null,
   "metadata": {},
   "outputs": [],
   "source": []
  },
  {
   "cell_type": "markdown",
   "metadata": {},
   "source": [
    "### Utilisation du module `folium`"
   ]
  },
  {
   "cell_type": "markdown",
   "metadata": {},
   "source": [
    "#### Création d'une carte"
   ]
  },
  {
   "cell_type": "markdown",
   "metadata": {},
   "source": [
    "**(3)** Créer une carte centrée sur la gare de Nogent-Le Perreux, dont les coordonnées sont (48,839°N ; 2,494°E), en exécutant la cellule suivante."
   ]
  },
  {
   "cell_type": "code",
   "execution_count": null,
   "metadata": {},
   "outputs": [],
   "source": [
    "# Création de la carte\n",
    "ma_carte = folium.Map(location=[48.839, 2.494], tiles='OpenStreetMap', zoom_start=13)"
   ]
  },
  {
   "cell_type": "code",
   "execution_count": null,
   "metadata": {
    "scrolled": false
   },
   "outputs": [],
   "source": [
    "# Affichage de la carte dans le Notebook\n",
    "ma_carte"
   ]
  },
  {
   "cell_type": "code",
   "execution_count": null,
   "metadata": {},
   "outputs": [],
   "source": [
    "# Enregistrement de la carte dans un fichier HTML\n",
    "ma_carte.save('IDF.html')"
   ]
  },
  {
   "cell_type": "markdown",
   "metadata": {},
   "source": [
    "Le fichier `IDF.html` peut maintenant être ouvert dans un navigateur."
   ]
  },
  {
   "cell_type": "markdown",
   "metadata": {},
   "source": [
    "**(4)** A quoi correspondent les paramètres `location`, `tiles` et `zoom_start` ?"
   ]
  },
  {
   "cell_type": "markdown",
   "metadata": {},
   "source": [
    "#### Affichage d'un marqueur sur la carte"
   ]
  },
  {
   "cell_type": "markdown",
   "metadata": {},
   "source": [
    "On peut ajouter un marqueur sur la carte, par exemple la position du lycée, dont les coordonnées sont (48,847°N ; 2,490°E)."
   ]
  },
  {
   "cell_type": "code",
   "execution_count": null,
   "metadata": {},
   "outputs": [],
   "source": [
    "folium.Marker([48.847, 2.490]).add_to(ma_carte)\n",
    "ma_carte.save('IDF.html')\n",
    "ma_carte # Affichage de la carte sous cette cellule"
   ]
  },
  {
   "cell_type": "markdown",
   "metadata": {},
   "source": [
    "**(5)** Rechercher les coordonnées de la gare RER de Nogent-sur-Marne et celles de la station de métro Château de Vincennes, puis représenter ces deux stations sur la carte."
   ]
  },
  {
   "cell_type": "code",
   "execution_count": null,
   "metadata": {},
   "outputs": [],
   "source": []
  },
  {
   "cell_type": "markdown",
   "metadata": {},
   "source": [
    "#### Affichage d'un texte lors du survol d'un marqueur par la souris"
   ]
  },
  {
   "cell_type": "markdown",
   "metadata": {},
   "source": [
    "**(6)** Après avoir consulté la documentation de `folium.Marker`, représenter la position de la Tour Eiffel, du Château de Versailles et du Stade de France, et faire en sorte que leur nom apparaisse lorsqu'on les survole avec la souris."
   ]
  },
  {
   "cell_type": "code",
   "execution_count": null,
   "metadata": {
    "scrolled": true
   },
   "outputs": [],
   "source": []
  },
  {
   "cell_type": "markdown",
   "metadata": {},
   "source": [
    "<div class='rq'>On peut lire dans la documentation de <code>folium.Marker</code> que l'affichage d'un texte lors du survol d'un marqueur avec la souris se fait grâce au paramètre <code>tooltip</code>.</div>"
   ]
  },
  {
   "cell_type": "code",
   "execution_count": null,
   "metadata": {},
   "outputs": [],
   "source": []
  },
  {
   "cell_type": "markdown",
   "metadata": {},
   "source": [
    "#### Ouverture d'un *popup* lors d'un clic sur un marqueur"
   ]
  },
  {
   "cell_type": "markdown",
   "metadata": {},
   "source": [
    "`folium.Popup` permet d'ouvrir une fenêtre *popup* lors du clic sur un marqueur. Le contenu du *popup* est décrit en HTML.\n",
    "\n",
    "<table>\n",
    "    <tr>\n",
    "        <td><a href=\"https://commons.wikimedia.org/wiki/File:Louvre_Museum_Wikimedia_Commons.jpg\">\n",
    "            <img src=\"https://upload.wikimedia.org/wikipedia/commons/thumb/6/66/Louvre_Museum_Wikimedia_Commons.jpg/256px-Louvre_Museum_Wikimedia_Commons.jpg\" alt=\"Pyramide du Louvre\">\n",
    "            </a>\n",
    "        </td>\n",
    "    </tr>\n",
    "    <tr>\n",
    "        <td>Benh LIEU SONG (Flickr) via Wikimedia Common, <a href=\"https://creativecommons.org/licenses/by-sa/3.0\">CC BY-SA 3.0</a></td>\n",
    "    </tr>\n",
    "\n",
    "**(7)** Représenter la position de la pyramide du Louvre et, en cas de clic sur le marqueur, faire afficher sa photo."
   ]
  },
  {
   "cell_type": "code",
   "execution_count": null,
   "metadata": {},
   "outputs": [],
   "source": []
  },
  {
   "cell_type": "markdown",
   "metadata": {},
   "source": [
    "#### Affichage de données GeoJSON sur la carte"
   ]
  },
  {
   "cell_type": "markdown",
   "metadata": {},
   "source": [
    "Le format GeoJSON est un format d'encodage de données géospatiales telles que des points, des lignes, des polygones, etc.\n",
    "\n",
    "Par exemple, le fichier [`val_de_marne.geojson`](https://ntoulzac.github.io/Cours-NSI-Terminale/modularite/donnees/val_de_marne.geojson) contient la frontière du département du Val-de-Marne, que l'on peut faire apparaître sur notre carte en exécutant la cellule suivante."
   ]
  },
  {
   "cell_type": "code",
   "execution_count": null,
   "metadata": {},
   "outputs": [],
   "source": [
    "url = \"https://ntoulzac.github.io/Cours-NSI-Terminale/modularite/donnees/val_de_marne.geojson\"\n",
    "folium.GeoJson(url).add_to(ma_carte)\n",
    "ma_carte.save('IDF.html')\n",
    "ma_carte # Affichage de la carte sous cette cellule"
   ]
  },
  {
   "cell_type": "markdown",
   "metadata": {},
   "source": [
    "<div style='background-color: #87ceeb;\n",
    "    border-radius: 0.5em;\n",
    "    padding: 1em;'>\n",
    "    <h2>Pour aller plus loin...</h2>\n",
    "</div>"
   ]
  },
  {
   "cell_type": "markdown",
   "metadata": {},
   "source": [
    "**(8)** Représenter dans un fichier `sept_merveilles.html` ainsi que dans ce carnet *Jupyter* la localisation des sept merveilles du monde antique :\n",
    "- la pyramide de Khéops à **Gizeh**,\n",
    "- les jardins suspendus de **Babylone**,\n",
    "- la statue chryséléphantine de Zeus à **Olympie**,\n",
    "- l'Artémision à **Ephèse**,\n",
    "- le tombeau de Mausole à **Halicarnasse**,\n",
    "- la statue en bronze d'Hélios à **Rhodes**,\n",
    "- la tour de l'île de Pharos à **Alexandrie**.\n",
    "\n",
    "Les sept lieux seront tous visibles directement sans besoin de dézoomer. Les frontières actuelles de la Grèce, stockées dans le fichier [`grece.geojson`](https://ntoulzac.github.io/Cours-NSI-Terminale/modularite/donnees/grece.geojson), seront également représentées. Enfin, une photo de chaque merveille apparaîtra en cas de clic sur le marqueur correspondant.\n",
    "\n",
    "*Remarque :* Sept photos sont disponibles dans le répertoire à l'adresse `https://ntoulzac.github.io/Cours-NSI-Terminale/modularite/images` : `artemision.jpg`, `jardins_suspendus.jpg`, `mausolee.jpg`, `pyramide_kheops.jpg`, `statue_helios.jpg`, `statue_zeus.jpg` et `tour_pharos.jpg`."
   ]
  },
  {
   "cell_type": "code",
   "execution_count": null,
   "metadata": {},
   "outputs": [],
   "source": []
  }
 ],
 "metadata": {
  "kernelspec": {
   "display_name": "Python 3",
   "language": "python",
   "name": "python3"
  },
  "language_info": {
   "codemirror_mode": {
    "name": "ipython",
    "version": 3
   },
   "file_extension": ".py",
   "mimetype": "text/x-python",
   "name": "python",
   "nbconvert_exporter": "python",
   "pygments_lexer": "ipython3",
   "version": "3.8.5"
  }
 },
 "nbformat": 4,
 "nbformat_minor": 4
}
