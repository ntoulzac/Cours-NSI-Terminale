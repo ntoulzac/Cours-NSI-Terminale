{
 "cells": [
  {
   "cell_type": "markdown",
   "metadata": {},
   "source": [
    "<div style='background-color: #87ceeb;\n",
    "    border: 0.5em solid black;\n",
    "    border-radius: 0.5em;\n",
    "    padding: 1em;'>\n",
    "    <h2>Activité</h2>\n",
    "    <h1>Module <code>folium</code></h1>\n",
    "</div>"
   ]
  },
  {
   "cell_type": "markdown",
   "metadata": {},
   "source": [
    "### Installation du module `folium`\n",
    "\n",
    "**(1)** Écrire les lignes de code permettant d'installer le module `folium` depuis le _Python Package Index_."
   ]
  },
  {
   "cell_type": "code",
   "execution_count": null,
   "metadata": {},
   "outputs": [],
   "source": []
  },
  {
   "cell_type": "markdown",
   "metadata": {},
   "source": [
    "### Importation du module `folium`\n",
    "\n",
    "**(2)** Écrire la ligne de code permettant d'importer le module `folium`."
   ]
  },
  {
   "cell_type": "code",
   "execution_count": null,
   "metadata": {},
   "outputs": [],
   "source": []
  },
  {
   "cell_type": "markdown",
   "metadata": {},
   "source": [
    "### Création d'une carte"
   ]
  },
  {
   "cell_type": "markdown",
   "metadata": {},
   "source": [
    "**(3)** Créer une carte centrée sur la gare de Nogent-Le Perreux, dont les coordonnées sont (48,839°N ; 2,494°E), en exécutant la cellule suivante."
   ]
  },
  {
   "cell_type": "code",
   "execution_count": null,
   "metadata": {},
   "outputs": [],
   "source": [
    "# Création de la carte\n",
    "ma_carte = folium.Map(location=[48.839, 2.494], tiles='OpenStreetMap', zoom_start=13)"
   ]
  },
  {
   "cell_type": "code",
   "execution_count": null,
   "metadata": {
    "scrolled": false
   },
   "outputs": [],
   "source": [
    "# Affichage de la carte dans le Notebook\n",
    "ma_carte"
   ]
  },
  {
   "cell_type": "markdown",
   "metadata": {},
   "source": [
    "**(4)** Afficher la documentation (rubrique d'aide) de la classe `Map` importée depuis le module `folium`."
   ]
  },
  {
   "cell_type": "code",
   "execution_count": null,
   "metadata": {},
   "outputs": [],
   "source": []
  },
  {
   "cell_type": "markdown",
   "metadata": {},
   "source": [
    "**(5)** A quoi correspondent les paramètres `location`, `tiles` et `zoom_start` ?"
   ]
  },
  {
   "cell_type": "markdown",
   "metadata": {},
   "source": [
    "_Réponse :_ ..."
   ]
  },
  {
   "cell_type": "markdown",
   "metadata": {},
   "source": [
    "**(6)** Expliquer le rôle de l'instruction suivante :"
   ]
  },
  {
   "cell_type": "code",
   "execution_count": null,
   "metadata": {},
   "outputs": [],
   "source": [
    "ma_carte.save('IDF.html')"
   ]
  },
  {
   "cell_type": "markdown",
   "metadata": {},
   "source": [
    "### Affichage d'un marqueur sur la carte"
   ]
  },
  {
   "cell_type": "markdown",
   "metadata": {},
   "source": [
    "On peut ajouter un marqueur sur la carte, par exemple la position du lycée, dont les coordonnées sont (48,847°N ; 2,490°E)."
   ]
  },
  {
   "cell_type": "code",
   "execution_count": null,
   "metadata": {},
   "outputs": [],
   "source": [
    "folium.Marker([48.847, 2.490]).add_to(ma_carte)\n",
    "ma_carte.save('IDF.html')\n",
    "ma_carte # Affichage de la carte sous cette cellule"
   ]
  },
  {
   "cell_type": "markdown",
   "metadata": {},
   "source": [
    "**(7)** Rechercher les coordonnées de la gare RER de Nogent-sur-Marne et celles de la station de métro Château de Vincennes, puis représenter ces deux stations sur la carte."
   ]
  },
  {
   "cell_type": "code",
   "execution_count": null,
   "metadata": {},
   "outputs": [],
   "source": []
  },
  {
   "cell_type": "markdown",
   "metadata": {},
   "source": [
    "### Affichage d'un texte lors du survol d'un marqueur par la souris"
   ]
  },
  {
   "cell_type": "markdown",
   "metadata": {},
   "source": [
    "**(8)** Après avoir consulté la documentation de `folium.Marker`, représenter la position de la Tour Eiffel, du Château de Versailles et du Stade de France, et faire en sorte que leur nom apparaisse lorsqu'on les survole avec la souris."
   ]
  },
  {
   "cell_type": "code",
   "execution_count": null,
   "metadata": {
    "scrolled": true
   },
   "outputs": [],
   "source": []
  },
  {
   "cell_type": "markdown",
   "metadata": {},
   "source": [
    "### Ouverture d'un *popup* lors d'un clic sur un marqueur"
   ]
  },
  {
   "cell_type": "markdown",
   "metadata": {},
   "source": [
    "`folium.Popup` permet d'ouvrir une fenêtre *popup* lors du clic sur un marqueur. Le contenu du *popup* est décrit en HTML.\n",
    "\n",
    "<table>\n",
    "    <tr>\n",
    "        <td><a href=\"https://commons.wikimedia.org/wiki/File:Louvre_Museum_Wikimedia_Commons.jpg\">\n",
    "            <img src=\"https://upload.wikimedia.org/wikipedia/commons/thumb/6/66/Louvre_Museum_Wikimedia_Commons.jpg/256px-Louvre_Museum_Wikimedia_Commons.jpg\" alt=\"Pyramide du Louvre\">\n",
    "            </a>\n",
    "        </td>\n",
    "    </tr>\n",
    "    <tr>\n",
    "        <td>Benh LIEU SONG (Flickr) via Wikimedia Common, <a href=\"https://creativecommons.org/licenses/by-sa/3.0\">CC BY-SA 3.0</a></td>\n",
    "    </tr>\n",
    "\n",
    "**(9)** Représenter la position de la pyramide du Louvre et, en cas de clic sur le marqueur, faire afficher sa photo."
   ]
  },
  {
   "cell_type": "code",
   "execution_count": null,
   "metadata": {},
   "outputs": [],
   "source": []
  },
  {
   "cell_type": "markdown",
   "metadata": {},
   "source": [
    "### Affichage de données GeoJSON sur la carte"
   ]
  },
  {
   "cell_type": "markdown",
   "metadata": {},
   "source": [
    "Le format GeoJSON est un format d'encodage de données géospatiales telles que des points, des lignes, des polygones, etc.\n",
    "\n",
    "Par exemple, le fichier `val_de_marne.geojson` téléchargeable [ici](https://ntoulzac.github.io/Cours-NSI-Terminale/modularite/donnees/val_de_marne.geojson) contient la frontière du département du Val-de-Marne, que l'on peut faire apparaître sur notre carte en exécutant la cellule suivante."
   ]
  },
  {
   "cell_type": "code",
   "execution_count": null,
   "metadata": {},
   "outputs": [],
   "source": [
    "url = \"https://ntoulzac.github.io/Cours-NSI-Terminale/modularite/donnees/val_de_marne.geojson\"\n",
    "folium.GeoJson(url).add_to(ma_carte)\n",
    "ma_carte.save('IDF.html')\n",
    "ma_carte # Affichage de la carte sous cette cellule"
   ]
  }
 ],
 "metadata": {
  "kernelspec": {
   "display_name": "Python 3 (ipykernel)",
   "language": "python",
   "name": "python3"
  },
  "language_info": {
   "codemirror_mode": {
    "name": "ipython",
    "version": 3
   },
   "file_extension": ".py",
   "mimetype": "text/x-python",
   "name": "python",
   "nbconvert_exporter": "python",
   "pygments_lexer": "ipython3",
   "version": "3.9.12"
  }
 },
 "nbformat": 4,
 "nbformat_minor": 4
}
