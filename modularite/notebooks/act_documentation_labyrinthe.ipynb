{
 "cells": [
  {
   "cell_type": "markdown",
   "metadata": {},
   "source": [
    "<div style='background-color: #87ceeb;\n",
    "    border: 0.5em solid black;\n",
    "    border-radius: 0.5em;\n",
    "    padding: 1em;'>\n",
    "    <h2>Activité</h2>\n",
    "    <h1>Documentation d'un module</h1>\n",
    "</div>"
   ]
  },
  {
   "cell_type": "markdown",
   "metadata": {},
   "source": [
    "Dans cette partie, on travaille avec le module `labyrinthe` qui est stocké dans le fichier `labyrinthe.py` à télécharger [ici](https://ntoulzac.github.io/Cours-NSI-Terminale/modularite/labyrinthe.py) et à placer dans le même répertoire que ce carnet."
   ]
  },
  {
   "cell_type": "markdown",
   "metadata": {},
   "source": [
    "**(15)** Importer le module `labyrinthe` sous le nom `lab`, puis faire afficher sa documentation"
   ]
  },
  {
   "cell_type": "code",
   "execution_count": null,
   "metadata": {
    "scrolled": true
   },
   "outputs": [],
   "source": []
  },
  {
   "cell_type": "markdown",
   "metadata": {},
   "source": [
    "### Ecriture de la documentation"
   ]
  },
  {
   "cell_type": "markdown",
   "metadata": {},
   "source": [
    "**(16)** Ouvrir le fichier `labyrinthe.py` avec un éditeur de texte et repérer où sont écrites :\n",
    "- la documentation du module,\n",
    "- la documentation de chaque fonction et procédure."
   ]
  },
  {
   "cell_type": "markdown",
   "metadata": {},
   "source": [
    "On peut remarquer que certaines fonctions et constantes définies dans le module ne font pas partie de son interface. En effet, elles sont définies car elles servent au fonctionnement interne du module mais elles n'ont pas vocation à être utilisées par autrui. Elles se distinguent par le fait que leur nom commence par un <i>underscore</i> : <code>_fonction</code> ou <code>_CONSTANTE</code>.</div>"
   ]
  },
  {
   "cell_type": "markdown",
   "metadata": {},
   "source": [
    "**(17)** Ecrire dans le fichier `labyrinthe.py` la documentation de la classe `Pion`."
   ]
  },
  {
   "cell_type": "markdown",
   "metadata": {},
   "source": [
    "<img src=\"https://ntoulzac.github.io/Cours-NSI-Terminale/modularite/images/laby.png\">"
   ]
  },
  {
   "cell_type": "markdown",
   "metadata": {},
   "source": [
    "### Utilisation de la documentation"
   ]
  },
  {
   "cell_type": "markdown",
   "metadata": {},
   "source": [
    "**(18)** Ecrire des lignes de code permettant :\n",
    "- de définir un labyrinthe aléatoire composé de 20 lignes et 30 colonnes,\n",
    "- de positionner un pion bleu à l'entrée du labyrinthe,\n",
    "- de faire afficher l'ensemble dans une fenêtre Pygame,\n",
    "- de faire déplacer le pion avec les touches du clavier jusqu'à ce qu'il atteigne la sortie, et\n",
    "- de fermer la fenêtre une fois la sortie atteinte."
   ]
  },
  {
   "cell_type": "code",
   "execution_count": null,
   "metadata": {},
   "outputs": [],
   "source": []
  },
  {
   "cell_type": "markdown",
   "metadata": {},
   "source": [
    "**(19)** Modifier la définition de la méthode `deplacer` de la classe `Pion` pour empêcher le pion de traverser les murs du labyrinthe et de sortir de la fenêtre."
   ]
  }
 ],
 "metadata": {
  "kernelspec": {
   "display_name": "Python 3 (ipykernel)",
   "language": "python",
   "name": "python3"
  },
  "language_info": {
   "codemirror_mode": {
    "name": "ipython",
    "version": 3
   },
   "file_extension": ".py",
   "mimetype": "text/x-python",
   "name": "python",
   "nbconvert_exporter": "python",
   "pygments_lexer": "ipython3",
   "version": "3.9.12"
  }
 },
 "nbformat": 4,
 "nbformat_minor": 4
}
