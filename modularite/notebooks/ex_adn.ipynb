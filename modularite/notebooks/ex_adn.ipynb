{
 "cells": [
  {
   "cell_type": "markdown",
   "metadata": {},
   "source": [
    "<div style='background-color: #e3a8b6;\n",
    "    border: 0.5em solid black;\n",
    "    border-radius: 0.5em;\n",
    "    padding: 1em;'>\n",
    "    <h2>Exercice</h2>\n",
    "    <h1>Brins d'ADN</h1>\n",
    "</div>"
   ]
  },
  {
   "cell_type": "markdown",
   "metadata": {},
   "source": [
    "Les molécules d'ADN présentes dans les cellules vivantes contiennent l'information génétique et permettent le développement, le fonctionnement et la reproduction des êtres vivants. L'ADN est formé de deux brins qui sont une succession de nucléotides portant chacun une base azotée.\n",
    "\n",
    "Les quatre bases azotées sont l'adénine (A), la thymine (T), la cytosine (C) et la guanine (G). Elles s'associent deux par deux : A avec T d'une part, C avec G d'autre part. \n",
    "\n",
    "Le but de cet exercice est de définir un module `adn` contenant la constante et les fonctions suivantes :\n",
    "\n",
    "*(a)* La constante `BASES_ASSOCIEES = {'A':'T', 'T':'A', 'C':'G', 'G':'C'}`."
   ]
  },
  {
   "cell_type": "markdown",
   "metadata": {},
   "source": [
    "*(b)* La fonction `sequence_alea` prend en paramètre d'entrée un entier `n` positif et renvoie une séquence d'ADN aléatoire de longueur `n` sous la forme de chaîne de caractères."
   ]
  },
  {
   "cell_type": "markdown",
   "metadata": {},
   "source": [
    "*(c)* La fonction `complementaire` prend en paramètre d'entrée une chaîne de caractères `brin` et renvoie le brin complémentaire sous forme de chaîne de caractères."
   ]
  },
  {
   "cell_type": "markdown",
   "metadata": {},
   "source": [
    "*(d)* La fonction `proportionAT` prend en paramètre d'entrée une chaîne `brin` et renvoie la proportion de bases A/T présentes dans le brin."
   ]
  }
 ],
 "metadata": {
  "kernelspec": {
   "display_name": "Python 3",
   "language": "python",
   "name": "python3"
  },
  "language_info": {
   "codemirror_mode": {
    "name": "ipython",
    "version": 3
   },
   "file_extension": ".py",
   "mimetype": "text/x-python",
   "name": "python",
   "nbconvert_exporter": "python",
   "pygments_lexer": "ipython3",
   "version": "3.8.5"
  }
 },
 "nbformat": 4,
 "nbformat_minor": 4
}
