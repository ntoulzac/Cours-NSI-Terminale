{
 "cells": [
  {
   "cell_type": "markdown",
   "metadata": {},
   "source": [
    "# Chapitre 4 : Mise au point des programmes"
   ]
  },
  {
   "cell_type": "markdown",
   "metadata": {},
   "source": [
    "***Gestion des bugs, construction de jeux de tests***"
   ]
  },
  {
   "cell_type": "markdown",
   "metadata": {},
   "source": [
    "## Partie A - Utilisation du module `doctest`"
   ]
  },
  {
   "cell_type": "markdown",
   "metadata": {},
   "source": [
    "### Valeur minimale et valeur maximale dans un tableau"
   ]
  },
  {
   "cell_type": "markdown",
   "metadata": {},
   "source": [
    "Dans cette partie, on définit une fonction `min_et_max` dont le rôle est de retourner la plus petite et la plus grande des valeurs stockées dans un tableau.\n",
    "\n",
    "**(1)** Donner une implémentation de la fonction `min_et_max`."
   ]
  },
  {
   "cell_type": "code",
   "execution_count": null,
   "metadata": {},
   "outputs": [],
   "source": [
    "def min_et_max(tab):\n",
    "    \"\"\"\n",
    "    Renvoie la plus petite et la plus grande valeur d'un tableau.\n",
    "    - Entrée : tab (tableau non vide)\n",
    "    - Sortie : (plus_petit, plus_grand) (couple d'éléments du tableau)\n",
    "    \"\"\"\n",
    "    # Code à écrire..."
   ]
  },
  {
   "cell_type": "markdown",
   "metadata": {},
   "source": [
    "**(2)** Modifier l'implémentation de la fonction `min_et_max` pour assurer que la valeur passée en argument est un tableau non vide."
   ]
  },
  {
   "cell_type": "code",
   "execution_count": null,
   "metadata": {},
   "outputs": [],
   "source": [
    "def min_et_max(tab):\n",
    "    \"\"\"\n",
    "    Renvoie la plus petite et la plus grande valeur d'un tableau.\n",
    "    - Entrée : tab (tableau non vide)\n",
    "    - Sortie : (plus_petit, plus_grand) (couple d'éléments du tableau)\n",
    "    \"\"\"\n",
    "    # Code à recopier et à modifier..."
   ]
  },
  {
   "cell_type": "markdown",
   "metadata": {},
   "source": [
    "**(3)** Quel résultat doit-on normalement obtenir lors de chacun des appels suivants ?"
   ]
  },
  {
   "cell_type": "code",
   "execution_count": null,
   "metadata": {},
   "outputs": [],
   "source": [
    "# Test 1\n",
    "min_et_max([1, 7, 9, 3, 2, 0, 2, 0])"
   ]
  },
  {
   "cell_type": "code",
   "execution_count": null,
   "metadata": {},
   "outputs": [],
   "source": [
    "# Test 2\n",
    "min_et_max([0 for _ in range(1000)])"
   ]
  },
  {
   "cell_type": "code",
   "execution_count": null,
   "metadata": {},
   "outputs": [],
   "source": [
    "from random import randint, shuffle"
   ]
  },
  {
   "cell_type": "code",
   "execution_count": null,
   "metadata": {},
   "outputs": [],
   "source": [
    "# Test 3\n",
    "T = [-10000, 10000] + [randint(-10000, 10000) for _ in range(998)]\n",
    "shuffle(T)\n",
    "min_et_max(T)"
   ]
  },
  {
   "cell_type": "code",
   "execution_count": null,
   "metadata": {},
   "outputs": [],
   "source": [
    "# Test 4\n",
    "min_et_max('tableau')"
   ]
  },
  {
   "cell_type": "code",
   "execution_count": null,
   "metadata": {},
   "outputs": [],
   "source": [
    "# Test 5\n",
    "min_et_max([])"
   ]
  },
  {
   "cell_type": "markdown",
   "metadata": {},
   "source": [
    "Il est possible d'intégrer directement ces tests à la *docstring* de la fonction `min_et_max` en procédant de la façon suivante :\n",
    "- Les tests s'écrivent à la fin de la *docstring*.\n",
    "- Les lignes de code à exécuter au cours du test sont précédées de trois chevrons `>>>`.\n",
    "- Le résultat attendu pour chaque test est indiqué sur la ligne juste en dessous des trois chevrons.\n",
    "\n",
    "Les tests intégrés à la *docstring* sont appelés **doctests**."
   ]
  },
  {
   "cell_type": "code",
   "execution_count": null,
   "metadata": {},
   "outputs": [],
   "source": [
    "def min_et_max(tab):\n",
    "    \"\"\"\n",
    "    Retourne la plus petite et la plus grande valeur d'un tableau.\n",
    "    - Entrée : tab (tableau non vide)\n",
    "    - Sortie : (plus_petit, plus_grand) (couple d'éléments du tableau)\n",
    "    \n",
    "    >>> min_et_max([1, 7, 9, 3, 2, 0, 2, 0])\n",
    "    (0, 9)\n",
    "    \n",
    "    Compléter la docstring en ajoutant d'autres tests...\n",
    "    \"\"\"\n",
    "    # Code à recopier..."
   ]
  },
  {
   "cell_type": "markdown",
   "metadata": {},
   "source": [
    "**(4)** Pour lancer les tests présents dans la *docstring* d'une fonction, il suffit d'appeler la fonction `run_docstring_examples` du module `doctest`. Le premier argument est le nom de la fonction à tester, le second est `globals()`."
   ]
  },
  {
   "cell_type": "code",
   "execution_count": null,
   "metadata": {},
   "outputs": [],
   "source": [
    "import doctest as dt"
   ]
  },
  {
   "cell_type": "code",
   "execution_count": null,
   "metadata": {},
   "outputs": [],
   "source": [
    "dt.run_docstring_examples(min_et_max, globals())"
   ]
  },
  {
   "cell_type": "markdown",
   "metadata": {},
   "source": [
    "<div class='rq'>Le fait que rien ne s'affiche à l'exécution de la cellule ci-dessus signifie que tous les tests ont été passés avec succès.</div>"
   ]
  },
  {
   "cell_type": "markdown",
   "metadata": {},
   "source": [
    "En passant l'argument `True` au paramètre optionnel `verbose`, on obtient un affichage détaillé des tests effectués."
   ]
  },
  {
   "cell_type": "code",
   "execution_count": null,
   "metadata": {},
   "outputs": [],
   "source": [
    "dt.run_docstring_examples(min_et_max, globals(), verbose = True)"
   ]
  },
  {
   "cell_type": "markdown",
   "metadata": {},
   "source": [
    "<div class='rq'>Il est également possible de tester l'ensemble des doctests présents dans un fichier ou dans un <i>Notebook</i>. Il suffit pour cela d'appeler la fonction <code>testmod</code> du module <code>doctest</code> sans aucun argument (ou avec le paramètre optionnel <code>verbose</code>).</div>"
   ]
  }
 ],
 "metadata": {
  "kernelspec": {
   "display_name": "Python 3 (ipykernel)",
   "language": "python",
   "name": "python3"
  },
  "language_info": {
   "codemirror_mode": {
    "name": "ipython",
    "version": 3
   },
   "file_extension": ".py",
   "mimetype": "text/x-python",
   "name": "python",
   "nbconvert_exporter": "python",
   "pygments_lexer": "ipython3",
   "version": "3.9.12"
  }
 },
 "nbformat": 4,
 "nbformat_minor": 4
}
