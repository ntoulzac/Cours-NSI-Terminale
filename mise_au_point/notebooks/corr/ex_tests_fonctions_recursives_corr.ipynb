{
 "cells": [
  {
   "cell_type": "markdown",
   "metadata": {},
   "source": [
    "<div style='background-color: #e3a8b6;\n",
    "    border: 0.5em solid black;\n",
    "    border-radius: 0.5em;\n",
    "    padding: 1em;'>\n",
    "    <h2>Exercice</h2>\n",
    "    <h1>Tests de fonctions récursives</h1>\n",
    "</div>"
   ]
  },
  {
   "cell_type": "markdown",
   "metadata": {},
   "source": [
    "### Somme des entiers compris entre `a` et `b`"
   ]
  },
  {
   "cell_type": "markdown",
   "metadata": {},
   "source": [
    "Proposer un jeu de tests pour la fonction `somme`. Dans le cas où `b` est strictement plus petit que `a`, on souhaite obtenir une erreur de type `ValueError` et le message `\"le second argument doit être plus petit que le premier\"`."
   ]
  },
  {
   "cell_type": "code",
   "execution_count": 20,
   "metadata": {},
   "outputs": [],
   "source": [
    "def somme(a, b):\n",
    "    \"\"\"\n",
    "    Calcule la somme des entiers compris entre a et b.\n",
    "    - Entrées : a, b (entiers)\n",
    "    - Sortie : total (entier)\n",
    "    \n",
    "    >>> somme(1, 10)\n",
    "    55\n",
    "    \n",
    "    >>> from random import randint\n",
    "    >>> n = randint(0, 500); somme(-n, n)\n",
    "    0\n",
    "    \n",
    "    >>> n = randint(-1000, 1000); somme(n, n) == n\n",
    "    True\n",
    "    \n",
    "    >>> somme(1, 0)\n",
    "    Traceback (most recent call last):\n",
    "        ...\n",
    "    ValueError: le second argument doit être plus petit que le premier\n",
    "    \"\"\"\n",
    "    if a > b:\n",
    "        raise ValueError(\"le second argument doit être plus petit que le premier\")\n",
    "    if a == b:\n",
    "        return a\n",
    "    else:\n",
    "        return a + somme(a+1, b)"
   ]
  },
  {
   "cell_type": "code",
   "execution_count": 21,
   "metadata": {},
   "outputs": [],
   "source": [
    "import doctest as dt\n",
    "dt.run_docstring_examples(somme, globals())"
   ]
  },
  {
   "cell_type": "markdown",
   "metadata": {},
   "source": [
    "<div class='rq'>On peut aussi faire en sorte que la fonction renvoie la somme des entiers compris entre <code>a</code> et <code>b</code> dans tous les cas.</div>"
   ]
  },
  {
   "cell_type": "code",
   "execution_count": 22,
   "metadata": {},
   "outputs": [],
   "source": [
    "def somme(a, b):\n",
    "    \"\"\"\n",
    "    Calcule la somme des entiers compris entre a et b.\n",
    "    - Entrées : a, b (entiers)\n",
    "    - Sortie : total (entier)\n",
    "    \n",
    "    >>> somme(1, 10)\n",
    "    55\n",
    "    \n",
    "    >>> from random import randint\n",
    "    >>> n = randint(0, 500); somme(-n, n)\n",
    "    0\n",
    "    \n",
    "    >>> n = randint(-1000, 1000); somme(n, n) == n\n",
    "    True\n",
    "    \n",
    "    >>> somme(1, 0)\n",
    "    1\n",
    "    \"\"\"\n",
    "    if a > b:\n",
    "        return somme(b, a)\n",
    "    elif a == b:\n",
    "        return a\n",
    "    else:\n",
    "        return a + somme(a+1, b)"
   ]
  },
  {
   "cell_type": "code",
   "execution_count": 23,
   "metadata": {},
   "outputs": [],
   "source": [
    "dt.run_docstring_examples(somme, globals())"
   ]
  },
  {
   "cell_type": "markdown",
   "metadata": {},
   "source": [
    "### Exponentiation rapide"
   ]
  },
  {
   "cell_type": "markdown",
   "metadata": {},
   "source": [
    "Proposer un jeu de tests pour la fonction `exponentiation_rapide`. Dans le cas où `n` n'est pas entier ou pas positif, on souhaite obtenir une erreur de type `TypeError` ou `ValueError` associée à un message d'erreur adapté."
   ]
  },
  {
   "cell_type": "code",
   "execution_count": 24,
   "metadata": {},
   "outputs": [],
   "source": [
    "def exponentiation_rapide(a, n):\n",
    "    \"\"\"\n",
    "    Calcule a puissance n par l'algorithme récursif d'exponentiation rapide.\n",
    "    - Entrées : a (nombre), n (entier positif)\n",
    "    - Sortie : (nombre)\n",
    "    \n",
    "    >>> exponentiation_rapide(2, 5)\n",
    "    32\n",
    "    \n",
    "    >>> from random import randint\n",
    "    >>> a = randint(-100, 100); n = randint(0, 20); exponentiation_rapide(a, n) == a**n\n",
    "    True\n",
    "    \n",
    "    >>> exponentiation_rapide(2, 0.5)\n",
    "    Traceback (most recent call last):\n",
    "        ...\n",
    "    TypeError: le second argument doit être entier\n",
    "    \"\"\"\n",
    "    if type(n) != int:\n",
    "        raise TypeError(\"le second argument doit être entier\")\n",
    "    if n < 0:\n",
    "        raise ValueError(\"le second argument doit être positif\")\n",
    "    if n == 0:\n",
    "        return 1\n",
    "    elif n % 2 == 0:\n",
    "        return exponentiation_rapide(a*a, n//2)\n",
    "    else:\n",
    "        return a * exponentiation_rapide(a*a, (n-1)//2)"
   ]
  },
  {
   "cell_type": "code",
   "execution_count": 25,
   "metadata": {},
   "outputs": [],
   "source": [
    "dt.run_docstring_examples(exponentiation_rapide, globals())"
   ]
  },
  {
   "cell_type": "markdown",
   "metadata": {},
   "source": [
    "### Palindromes"
   ]
  },
  {
   "cell_type": "markdown",
   "metadata": {},
   "source": [
    "Proposer un jeu de tests pour la fonction `est_palindrome`."
   ]
  },
  {
   "cell_type": "code",
   "execution_count": 26,
   "metadata": {},
   "outputs": [],
   "source": [
    "def est_palindrome(texte):\n",
    "    \"\"\"\n",
    "    Détermine si une chaîne de caractères est un palindrome.\n",
    "    - Entrée : texte (chaîne)\n",
    "    - Sortie : (booléen, True si texte est un palindrome, False sinon)\n",
    "    \n",
    "    >>> est_palindrome(\"Hello world!\")\n",
    "    False\n",
    "    \n",
    "    >>> est_palindrome(\"ΝΙΨΟΝΑΝΟΜΗΜΑΤΑΜΗΜΟΝΑΝΟΨΙΝ\")\n",
    "    True\n",
    "    \n",
    "    >>> est_palindrome(\"Ce reptile lit Perec.\")  # Palindrome de Georges Perec\n",
    "    True\n",
    "    \"\"\"\n",
    "    longueur = len(texte)\n",
    "    if longueur <= 1:\n",
    "        return True\n",
    "    elif texte[0] != texte[-1]:\n",
    "        return False\n",
    "    else:\n",
    "        return est_palindrome(texte[1:-1])"
   ]
  },
  {
   "cell_type": "code",
   "execution_count": 27,
   "metadata": {},
   "outputs": [
    {
     "name": "stdout",
     "output_type": "stream",
     "text": [
      "**********************************************************************\n",
      "File \"__main__\", line 13, in NoName\n",
      "Failed example:\n",
      "    est_palindrome(\"Ce reptile lit Perec.\")  # Palindrome de Georges Perec\n",
      "Expected:\n",
      "    True\n",
      "Got:\n",
      "    False\n"
     ]
    }
   ],
   "source": [
    "dt.run_docstring_examples(est_palindrome, globals())"
   ]
  },
  {
   "cell_type": "markdown",
   "metadata": {},
   "source": [
    "<div class='rq'>Telle qu'elle est implémentée, la fonction <code>est_palindrome</code> est sensible aux majuscules, aux accents et aux signes de ponctuation, ce qui rend le test non concluant sur une phrase telle que la phrase de Georges Perec <code>\"Ce reptile lit Perec.\"</code>.\n",
    "    \n",
    "Pour contourner ce problème, définissions une fonction <code>simplifier_texte_FR</code> qui retire d'une chaîne de caractères les minuscules, les accents et tous les caractères qui ne sont pas des lettres.</div>"
   ]
  },
  {
   "cell_type": "code",
   "execution_count": 28,
   "metadata": {},
   "outputs": [],
   "source": [
    "def simplifier_texte_FR(chaine):\n",
    "    \"\"\"\n",
    "    Met un texte en majuscules et retire les accents et les caractères qui ne sont pas des lettres.\n",
    "    - Entrée : chaine (chaîne de caractères)\n",
    "    - Sortie : nouvelle_chaine (chaîne de caractères)\n",
    "\n",
    "    >>> simplifier_texte_FR(\"Bonjour, comment allez-vous ? Ça va, et vous-même ?\")\n",
    "    'BONJOURCOMMENTALLEZVOUSCAVAETVOUSMEME'\n",
    "    \"\"\"\n",
    "    alphabet1 = \"ABCDEFGHIJKLMNOPQRSTUVWXYZ\"\n",
    "    alphabet2 = \"ÀÁÂÄÆÇÈÉÊËÎÏÔÖŒÙÛÜ\"\n",
    "    correspondances = {\"ÀÂÄ\" : \"A\",\n",
    "                       \"Æ\" : \"AE\",\n",
    "                       \"Ç\" : \"C\",\n",
    "                       \"ÈÉÊË\" : \"E\",\n",
    "                       \"ÎÏ\" : \"I\",\n",
    "                       \"ÔÖ\" : \"O\",\n",
    "                       \"Œ\" : \"OE\",\n",
    "                       \"ÙÛÜ\": \"U\"}\n",
    "    nouvelle_chaine = \"\"\n",
    "    for lettre in chaine:\n",
    "        lettre = lettre.upper()\n",
    "        if lettre in alphabet1:\n",
    "            nouvelle_chaine += lettre\n",
    "        elif lettre in alphabet2:\n",
    "            for cle in correspondances:\n",
    "                if lettre in cle:\n",
    "                    nouvelle_chaine += correspondances[cle]\n",
    "    return nouvelle_chaine        "
   ]
  },
  {
   "cell_type": "code",
   "execution_count": 29,
   "metadata": {},
   "outputs": [],
   "source": [
    "dt.run_docstring_examples(simplifier_texte_FR, globals())"
   ]
  },
  {
   "cell_type": "markdown",
   "metadata": {},
   "source": [
    "<div class='rq'>Il suffit maintenant d'appeler la fonction <code>simplifier_texte_FR</code> au début de l'exécution de la fonction <code>est_palindrome</code>.</div>"
   ]
  },
  {
   "cell_type": "code",
   "execution_count": 32,
   "metadata": {},
   "outputs": [],
   "source": [
    "def est_palindrome(texte):\n",
    "    \"\"\"\n",
    "    Détermine si une chaîne de caractères est un palindrome.\n",
    "    - Entrée : texte (chaîne)\n",
    "    - Sortie : (booléen, True si texte est un palindrome, False sinon)\n",
    "    \n",
    "    >>> est_palindrome(\"Hello world!\")\n",
    "    False\n",
    "    \n",
    "    >>> est_palindrome(\"ΝΙΨΟΝΑΝΟΜΗΜΑΤΑΜΗΜΟΝΑΝΟΨΙΝ\")\n",
    "    True\n",
    "    \n",
    "    >>> est_palindrome(\"Ce reptile lit Perec.\")  # Palindrome de Georges Perec\n",
    "    True\n",
    "    \n",
    "    >>> est_palindrome(\"Et la marine va, papa, venir à Malte.\")  # Palindrome de Victor Hugo\n",
    "    True\n",
    "    \"\"\"\n",
    "    texte = simplifier_texte_FR(texte)\n",
    "    longueur = len(texte)\n",
    "    if longueur <= 1:\n",
    "        return True\n",
    "    elif texte[0] != texte[-1]:\n",
    "        return False\n",
    "    else:\n",
    "        return est_palindrome(texte[1:-1])"
   ]
  },
  {
   "cell_type": "code",
   "execution_count": 33,
   "metadata": {},
   "outputs": [],
   "source": [
    "dt.run_docstring_examples(est_palindrome, globals())"
   ]
  }
 ],
 "metadata": {
  "kernelspec": {
   "display_name": "Python 3 (ipykernel)",
   "language": "python",
   "name": "python3"
  },
  "language_info": {
   "codemirror_mode": {
    "name": "ipython",
    "version": 3
   },
   "file_extension": ".py",
   "mimetype": "text/x-python",
   "name": "python",
   "nbconvert_exporter": "python",
   "pygments_lexer": "ipython3",
   "version": "3.9.12"
  }
 },
 "nbformat": 4,
 "nbformat_minor": 4
}
