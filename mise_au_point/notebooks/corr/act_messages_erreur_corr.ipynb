{
 "cells": [
  {
   "cell_type": "markdown",
   "metadata": {},
   "source": [
    "<div style='background-color: #87ceeb;\n",
    "    border: 0.5em solid black;\n",
    "    border-radius: 0.5em;\n",
    "    padding: 1em;'>\n",
    "    <h2>Activité</h2>\n",
    "    <h1>Messages d'erreur classiques</h1>\n",
    "</div>"
   ]
  },
  {
   "cell_type": "markdown",
   "metadata": {},
   "source": [
    "Voici une liste de trente messages d'erreur classiques. Donner pour chacun d'entre eux une ou plusieurs lignes de code qui le provoquent ainsi qu'une explication."
   ]
  },
  {
   "cell_type": "markdown",
   "metadata": {},
   "source": [
    "### `AttributeError: 'int' object has no attribute 'append'`"
   ]
  },
  {
   "cell_type": "code",
   "execution_count": null,
   "metadata": {},
   "outputs": [],
   "source": [
    "n = 0\n",
    "n.append(1)"
   ]
  },
  {
   "cell_type": "markdown",
   "metadata": {},
   "source": [
    "<div class='rq'>La méthode <code>append</code> n'existe pas pour les objets de type entier.<br><br>\n",
    "    <i>Pour éviter cette erreur : </i><br>\n",
    "    Vérifier que la méthode <code>append</code> est utilisée sur un objet de type liste.</div>"
   ]
  },
  {
   "cell_type": "markdown",
   "metadata": {},
   "source": [
    "### `FileNotFoundError: [Errno 2] No such file or directory: 'fichier.txt'`"
   ]
  },
  {
   "cell_type": "code",
   "execution_count": null,
   "metadata": {},
   "outputs": [],
   "source": [
    "with open('fichier.txt', 'r') as fichier:\n",
    "    chaine = fichier.read()"
   ]
  },
  {
   "cell_type": "markdown",
   "metadata": {},
   "source": [
    "<div class='rq'>Le fichier appelé <code>fichier.txt</code> est introuvable.<br><br>\n",
    "    <i>Pour éviter cette erreur : </i><br>\n",
    "    Vérifier que les fichiers (par exemple texte ou image) dont notre code a besoin sont bien présents dans le répertoire où notre code s'exécute.</div>"
   ]
  },
  {
   "cell_type": "markdown",
   "metadata": {},
   "source": [
    "### `ImportError: cannot import name 'randit' from 'random'`"
   ]
  },
  {
   "cell_type": "code",
   "execution_count": null,
   "metadata": {},
   "outputs": [],
   "source": [
    "from random import randit"
   ]
  },
  {
   "cell_type": "markdown",
   "metadata": {},
   "source": [
    "<div class='rq'>Le module <code>random</code> ne contient pas d'objet appelé <code>randit</code>.<br><br>\n",
    "    <i>Pour éviter cette erreur : </i><br>\n",
    "    Vérifier que le nom des objets (classes, fonctions, constantes) que l'on souhaite importer sont orthographiées correctement, et que ces objets se trouvent dans le bon module.</div>"
   ]
  },
  {
   "cell_type": "markdown",
   "metadata": {},
   "source": [
    "### `IndentationError: expected an indented block`"
   ]
  },
  {
   "cell_type": "code",
   "execution_count": null,
   "metadata": {},
   "outputs": [],
   "source": [
    "for k in range(10):\n",
    "print(k)"
   ]
  },
  {
   "cell_type": "markdown",
   "metadata": {},
   "source": [
    "<div class='rq'>Une indentation est nécessaire et a été oubliée.</div>"
   ]
  },
  {
   "cell_type": "markdown",
   "metadata": {},
   "source": [
    "### `IndentationError: unexpected indent`"
   ]
  },
  {
   "cell_type": "code",
   "execution_count": null,
   "metadata": {},
   "outputs": [],
   "source": [
    "n = 0\n",
    "    n = n + 1"
   ]
  },
  {
   "cell_type": "markdown",
   "metadata": {},
   "source": [
    "<div class='rq'>Une indentation est présente alors qu'elle n'a pas lieu d'être.</div>"
   ]
  },
  {
   "cell_type": "markdown",
   "metadata": {},
   "source": [
    "### `IndentationError: unindent does not match any outer indentation level`"
   ]
  },
  {
   "cell_type": "code",
   "execution_count": null,
   "metadata": {},
   "outputs": [],
   "source": [
    "n = 0\n",
    "if n > 0:\n",
    "    print('n est strictement positif')\n",
    "  print('exécution terminée')"
   ]
  },
  {
   "cell_type": "markdown",
   "metadata": {},
   "source": [
    "<div class='rq'>Une désindentation ne correspond à aucun niveau d'indentation.<br><br>\n",
    " <i>Pour éviter cette erreur : </i><br>\n",
    "    Ne pas mélanger les espaces et les tabulations pour indenter le code.</div>"
   ]
  },
  {
   "cell_type": "markdown",
   "metadata": {},
   "source": [
    "### `IndexError: list index out of range`"
   ]
  },
  {
   "cell_type": "code",
   "execution_count": null,
   "metadata": {},
   "outputs": [],
   "source": [
    "T = [1, 2, 3, 4]\n",
    "valeur = T[4]"
   ]
  },
  {
   "cell_type": "markdown",
   "metadata": {},
   "source": [
    "<div class='rq'>L'élément auquel on cherche à accéder dans un tableau ou une liste n'existe pas.<br><br>\n",
    "    <i>Pour éviter cette erreur : </i><br>\n",
    "    Se souvenir que les éléments d'un tableau ou d'une liste de longueur <code>n</code> ont un index compris entre <code>0</code> et <code>n - 1</code>.</div>"
   ]
  },
  {
   "cell_type": "markdown",
   "metadata": {},
   "source": [
    "### `KeyError: 'clé'`"
   ]
  },
  {
   "cell_type": "code",
   "execution_count": null,
   "metadata": {},
   "outputs": [],
   "source": [
    "dico = {'key' : 'valeur'}\n",
    "valeur = dico['clé']"
   ]
  },
  {
   "cell_type": "markdown",
   "metadata": {},
   "source": [
    "<div class='rq'>L'élement associé à la clé à laquelle on essaie d'accéder dans un dictionnaire n'existe pas.<br><br>\n",
    "    <i>Pour éviter cette erreur : </i><br>\n",
    "    Vérifier l'orthographe et l'existence du nom de la clé qu'on cherche à atteindre.</div>"
   ]
  },
  {
   "cell_type": "markdown",
   "metadata": {},
   "source": [
    "### `ModuleNotFoundError: No module named 'un_module'`"
   ]
  },
  {
   "cell_type": "code",
   "execution_count": null,
   "metadata": {},
   "outputs": [],
   "source": [
    "import un_module"
   ]
  },
  {
   "cell_type": "markdown",
   "metadata": {},
   "source": [
    "<div class='rq'>Le module qu'on cherche à importer est introuvable.<br><br>\n",
    "    <i>Pour éviter cette erreur : </i><br>\n",
    "    Vérifier que le fichier contenant le module est présent dans le répertoire de travail, ou que le module a bien été installé.</div>"
   ]
  },
  {
   "cell_type": "markdown",
   "metadata": {},
   "source": [
    "### `NameError: name 'randint' is not defined`"
   ]
  },
  {
   "cell_type": "code",
   "execution_count": null,
   "metadata": {},
   "outputs": [],
   "source": [
    "n = randint(0, 1)"
   ]
  },
  {
   "cell_type": "markdown",
   "metadata": {},
   "source": [
    "<div class='rq'>L'objet n'est pas défini.<br><br>\n",
    "    <i>Pour éviter cette erreur : </i><br>\n",
    "    S'il s'agit d'un objet à importer depuis un module, vérifier que l'importation a bien été faite. S'il s'agit d'un objet (variable, fonction, classe, etc.) définie par vous, vérifier l'orthographe du nom et que la définition (pour une fonction ou une classe) ou l'initialisation (pour une variable) a bien été faite.</div>"
   ]
  },
  {
   "cell_type": "markdown",
   "metadata": {},
   "source": [
    "### `OverflowError: (34, 'Result too large')`"
   ]
  },
  {
   "cell_type": "code",
   "execution_count": null,
   "metadata": {},
   "outputs": [],
   "source": [
    "x = 1.1**10000"
   ]
  },
  {
   "cell_type": "markdown",
   "metadata": {},
   "source": [
    "<div class='rq'>Le flottant qu'on essaie de calculer est trop grand pour être représenté en mémoire.<br><br>\n",
    "    <i>Pour éviter cette erreur : </i><br>\n",
    "    Le langage Python permet de travailler avec de très grands nombres entiers. En ce qui concerne les flottants, se référer au cours de Première pour voir quels sont les nombres qui peuvent être représentés en mémoire.</div>"
   ]
  },
  {
   "cell_type": "markdown",
   "metadata": {},
   "source": [
    "### `RecursionError: maximum recursion depth exceeded`"
   ]
  },
  {
   "cell_type": "code",
   "execution_count": null,
   "metadata": {},
   "outputs": [],
   "source": [
    "def factorielle(n):\n",
    "    return n * factorielle(n-1)\n",
    "print(factorielle(10))"
   ]
  },
  {
   "cell_type": "markdown",
   "metadata": {},
   "source": [
    "<div class='rq'>Le nombre d'appels récursifs empilés dépasse la limite autorisée.<br><br>\n",
    "    <i>Pour éviter cette erreur : </i><br>\n",
    "    Vérifier que la fonction récursive possède bien un cas de base et que ce cas de base est effectivement atteint après un nombre raisonnable d'appels récursifs. Penser éventuellement à modifier la définition de la fonction pour la rendre itérative.</div>"
   ]
  },
  {
   "cell_type": "markdown",
   "metadata": {},
   "source": [
    "### `SyntaxError: 'return' outside function`"
   ]
  },
  {
   "cell_type": "code",
   "execution_count": null,
   "metadata": {},
   "outputs": [],
   "source": [
    "def f(x):\n",
    "    x = x + 1\n",
    "return x"
   ]
  },
  {
   "cell_type": "markdown",
   "metadata": {},
   "source": [
    "<div class='rq'>L'instruction <code>return</code> doit impérativement figurer à l'intérieur de la définition d'une fonction ou d'une méthode.</div>"
   ]
  },
  {
   "cell_type": "markdown",
   "metadata": {},
   "source": [
    "### `SyntaxError: can't assign to literal`"
   ]
  },
  {
   "cell_type": "code",
   "execution_count": null,
   "metadata": {},
   "outputs": [],
   "source": [
    "'n' = 0"
   ]
  },
  {
   "cell_type": "markdown",
   "metadata": {},
   "source": [
    "<div class='rq'>Une valeur ne peut pas être affectée à une chaîne de caractères.<br><br>\n",
    "    <i>Pour éviter cette erreur : </i><br>\n",
    "    Ne pas écrire les noms de variables entre guillemets.</div>"
   ]
  },
  {
   "cell_type": "markdown",
   "metadata": {},
   "source": [
    "### `SyntaxError: invalid syntax`"
   ]
  },
  {
   "cell_type": "code",
   "execution_count": null,
   "metadata": {},
   "outputs": [],
   "source": [
    "for k in range(10)\n",
    "    print(k)"
   ]
  },
  {
   "cell_type": "markdown",
   "metadata": {},
   "source": [
    "<div class='rq'>Une erreur de syntaxe apparaît dans de nombreuses situations, par exemple l'oubli des <code>:</code> à la fin de certaines lignes, l'oubli d'une parenthèse (ou crochet, accolade, guillemet) ou l'oubli d'une virgule. Attention, l'erreur de syntaxe n'est pas systématiquement à chercher à l'endroit exact où elle est indiquée dans le message d'erreur qui s'affiche à l'écran. Penser à vérifier la ligne précédente en particulier.</div>"
   ]
  },
  {
   "cell_type": "markdown",
   "metadata": {},
   "source": [
    "### `SyntaxError: Missing parentheses in call to 'print'. Did you mean print('erreur')?`"
   ]
  },
  {
   "cell_type": "code",
   "execution_count": null,
   "metadata": {},
   "outputs": [],
   "source": [
    "print 'erreur'"
   ]
  },
  {
   "cell_type": "markdown",
   "metadata": {},
   "source": [
    "<div class='rq'>La fonction <code>print</code>, comme toutes les fonctions, est appelée avec des arguments écrits entre parenthèses.</div>"
   ]
  },
  {
   "cell_type": "markdown",
   "metadata": {},
   "source": [
    "### `SyntaxError: unexpected EOF while parsing`"
   ]
  },
  {
   "cell_type": "code",
   "execution_count": null,
   "metadata": {},
   "outputs": [],
   "source": [
    "T = [[0, 1, 2], [3, 4, 5], [6, 7, 8]"
   ]
  },
  {
   "cell_type": "markdown",
   "metadata": {},
   "source": [
    "<div class='rq'>La fin du code est atteinte alors que l'interpréteur Python s'attend à ce que le code continue. EOF signifie fin du fichier (<i>end of file</i>) et EOL fin de la ligne (<i>end of line</i>).<br><br>\n",
    "    <i>Pour éviter cette erreur : </i><br>\n",
    "    Vérifier qu'il ne manque dans le code ni parenthèse fermante, ni crochet, accolade, guillemet.</div>"
   ]
  },
  {
   "cell_type": "markdown",
   "metadata": {},
   "source": [
    "### `TypeError: '<' not supported between instances of 'dict' and 'dict'`"
   ]
  },
  {
   "cell_type": "code",
   "execution_count": null,
   "metadata": {},
   "outputs": [],
   "source": [
    "{'clé' : 0} < {'clé' : 1}"
   ]
  },
  {
   "cell_type": "markdown",
   "metadata": {},
   "source": [
    "<div class='rq'>La comparaison de deux objets est impossible, par exemple la comparaison de deux dictionnaires.<br><br>\n",
    "    <i>Pour éviter cette erreur : </i><br>\n",
    "    Vérifier que les objets qu'on cherche à comparer sont de type numérique ou chaîne de caractères par exemple. En cas de comparaison d'instances d'une classe, vérifier que les méthodes spéciales de comparaison (<code>__lt__</code>, <code>__gt__</code>, etc.) sont bien définies.</div>"
   ]
  },
  {
   "cell_type": "markdown",
   "metadata": {},
   "source": [
    "### `TypeError: 'int' object is not callable`"
   ]
  },
  {
   "cell_type": "code",
   "execution_count": null,
   "metadata": {},
   "outputs": [],
   "source": [
    "n = 0\n",
    "n = 2(n + 1)"
   ]
  },
  {
   "cell_type": "markdown",
   "metadata": {},
   "source": [
    "<div class='rq'>Un entier (ou un autre objet) ne peut pas être appelé.<br><br>\n",
    "    <i>Pour éviter cette erreur : </i><br>\n",
    "    Vérifier que c'est un nom de fonction ou de classe qui apparaît à gauche d'une parenthèse ouvrante. Pour calculer la multiplication de deux nombres, la présence de l'opérateur <code>*</code> est nécessaire.</div>"
   ]
  },
  {
   "cell_type": "markdown",
   "metadata": {},
   "source": [
    "### `TypeError: 'int' object is not iterable`"
   ]
  },
  {
   "cell_type": "code",
   "execution_count": null,
   "metadata": {},
   "outputs": [],
   "source": [
    "for k in 10:\n",
    "    print(k)"
   ]
  },
  {
   "cell_type": "markdown",
   "metadata": {},
   "source": [
    "<div class='rq'>Un entier (ou un autre objet) ne peut pas être parcouru.<br><br>\n",
    "    <i>Pour éviter cette erreur : </i><br>\n",
    "    Vérifier que l'objet situé à droite de <code>in</code> est un tableau, un dictionnaire ou un ensemble, ou qu'il est bien fait appel à la fonction <code>range</code>.</div>"
   ]
  },
  {
   "cell_type": "markdown",
   "metadata": {},
   "source": [
    "### `TypeError: 'int' object is not subscriptable`"
   ]
  },
  {
   "cell_type": "code",
   "execution_count": null,
   "metadata": {},
   "outputs": [],
   "source": [
    "T = 0\n",
    "n = T[0]"
   ]
  },
  {
   "cell_type": "markdown",
   "metadata": {},
   "source": [
    "<div class='rq'>Un entier (ou un autre objet) n'est pas indexable.<br><br>\n",
    "    <i>Pour éviter cette erreur : </i><br>\n",
    "    Vérifier que  l'objet situé à gauche des crochets est un tableau ou un dictionnaire.</div>"
   ]
  },
  {
   "cell_type": "markdown",
   "metadata": {},
   "source": [
    "### `TypeError: 'list' object cannot be interpreted as an integer`"
   ]
  },
  {
   "cell_type": "code",
   "execution_count": null,
   "metadata": {},
   "outputs": [],
   "source": [
    "T = [1, 2, 3, 4]\n",
    "for k in range(T):\n",
    "    T[k] = T[k] + 1"
   ]
  },
  {
   "cell_type": "markdown",
   "metadata": {},
   "source": [
    "<div class='rq'>Les arguments de la fonction <code>range</code> doivent être entiers.<br><br>\n",
    "    <i>Pour éviter cette erreur : </i><br>\n",
    "    Penser à écrire <code>range(len(T))</code> dans le cas d'un parcours de tableau par indices.</div>"
   ]
  },
  {
   "cell_type": "markdown",
   "metadata": {},
   "source": [
    "### `TypeError: can only concatenate str (not \"int\") to str`"
   ]
  },
  {
   "cell_type": "code",
   "execution_count": null,
   "metadata": {},
   "outputs": [],
   "source": [
    "cpt = 10\n",
    "message = 'Vous avez ' + cpt + ' points.'"
   ]
  },
  {
   "cell_type": "markdown",
   "metadata": {},
   "source": [
    "<div class='rq'>La concaténation n'est pas possible entre une chaîne de caractères et un entier.<br><br>\n",
    "    <i>Pour éviter cette erreur : </i><br>\n",
    "    Penser à convertir l'entier en chaîne de caractères via la fonction <code>str</code>, ou à utiliser une f-string.</div>"
   ]
  },
  {
   "cell_type": "markdown",
   "metadata": {},
   "source": [
    "### `TypeError: fonc() missing 1 required positional argument: 'a'`"
   ]
  },
  {
   "cell_type": "code",
   "execution_count": null,
   "metadata": {},
   "outputs": [],
   "source": [
    "def fonc(a):\n",
    "    return a + 1\n",
    "fonc()"
   ]
  },
  {
   "cell_type": "markdown",
   "metadata": {},
   "source": [
    "<div class='rq'>Il manque un argument dans l'appel de la fonction.</div>"
   ]
  },
  {
   "cell_type": "markdown",
   "metadata": {},
   "source": [
    "### `TypeError: fonc() takes 1 positional argument but 2 were given`"
   ]
  },
  {
   "cell_type": "code",
   "execution_count": null,
   "metadata": {},
   "outputs": [],
   "source": [
    "def fonc(a):\n",
    "    return a + 1\n",
    "fonc(0, 1)"
   ]
  },
  {
   "cell_type": "markdown",
   "metadata": {},
   "source": [
    "<div class='rq'>Il y a trop d'arguments dans l'appel de la fonction.</div>"
   ]
  },
  {
   "cell_type": "markdown",
   "metadata": {},
   "source": [
    "### `TypeError: object of type 'int' has no len()`"
   ]
  },
  {
   "cell_type": "code",
   "execution_count": null,
   "metadata": {},
   "outputs": [],
   "source": [
    "T = 0\n",
    "longueur = len(T)"
   ]
  },
  {
   "cell_type": "markdown",
   "metadata": {},
   "source": [
    "<div class='rq'>Un entier n'a pas de longueur, contrairement à une chaîne de caractères, à un tableau ou à un dictionnaire.</div>"
   ]
  },
  {
   "cell_type": "markdown",
   "metadata": {},
   "source": [
    "### `TypeError: unhashable type: 'list'`"
   ]
  },
  {
   "cell_type": "code",
   "execution_count": null,
   "metadata": {},
   "outputs": [],
   "source": [
    "dico = {[] : 0}"
   ]
  },
  {
   "cell_type": "markdown",
   "metadata": {},
   "source": [
    "<div class='rq'>Les clés d'un dictionnaire doivent avoir une valeur immuable (ou non mutable) : entier, chaîne de caractères, p-uplet, mais ni tableau, ni dictionnaire.</div>"
   ]
  },
  {
   "cell_type": "markdown",
   "metadata": {},
   "source": [
    "### `UnboundLocalError: local variable 'x' referenced before assignment`"
   ]
  },
  {
   "cell_type": "code",
   "execution_count": null,
   "metadata": {},
   "outputs": [],
   "source": [
    "def f(n):\n",
    "    x = x + 1\n",
    "    return x\n",
    "f(0)"
   ]
  },
  {
   "cell_type": "markdown",
   "metadata": {},
   "source": [
    "<div class='rq'>Une variable n'est pas initialisée.</div>"
   ]
  },
  {
   "cell_type": "markdown",
   "metadata": {},
   "source": [
    "### `ValueError: invalid literal for int() with base 10: ' '`"
   ]
  },
  {
   "cell_type": "code",
   "execution_count": null,
   "metadata": {},
   "outputs": [],
   "source": [
    "n = int(' ')"
   ]
  },
  {
   "cell_type": "markdown",
   "metadata": {},
   "source": [
    "<div class='rq'>La fonction <code>int</code> permet de transformer une chaîne de caractères en entier uniquement si la chaîne contient seulement des caractères numériques.</div>"
   ]
  },
  {
   "cell_type": "markdown",
   "metadata": {},
   "source": [
    "### `ZeroDivisionError: division by zero`"
   ]
  },
  {
   "cell_type": "code",
   "execution_count": null,
   "metadata": {},
   "outputs": [],
   "source": [
    "n = 0\n",
    "x = 1/n"
   ]
  },
  {
   "cell_type": "markdown",
   "metadata": {},
   "source": [
    "<div class='rq'>La division par 0 n'est pas possible.</div>"
   ]
  }
 ],
 "metadata": {
  "kernelspec": {
   "display_name": "Python 3 (ipykernel)",
   "language": "python",
   "name": "python3"
  },
  "language_info": {
   "codemirror_mode": {
    "name": "ipython",
    "version": 3
   },
   "file_extension": ".py",
   "mimetype": "text/x-python",
   "name": "python",
   "nbconvert_exporter": "python",
   "pygments_lexer": "ipython3",
   "version": "3.9.12"
  }
 },
 "nbformat": 4,
 "nbformat_minor": 4
}
