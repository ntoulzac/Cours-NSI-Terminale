{
 "cells": [
  {
   "cell_type": "markdown",
   "metadata": {},
   "source": [
    "<div style='background-color: #e3a8b6;\n",
    "    border: 0.5em solid black;\n",
    "    border-radius: 0.5em;\n",
    "    padding: 1em;'>\n",
    "    <h2>Exercice</h2>\n",
    "    <h1>Écriture de doctests</h1>\n",
    "</div>"
   ]
  },
  {
   "cell_type": "markdown",
   "metadata": {},
   "source": [
    "On donne ci-dessous la définition d'une fonction `indices_min_et_max`.\n",
    "\n",
    "**(1)** Après avoir lu la spécification de la fonction, écrire une série de doctests variés pour la tester.\n",
    "\n",
    "Certains des tests devraient normalement échouer car le code de la fonction contient une erreur."
   ]
  },
  {
   "cell_type": "code",
   "execution_count": null,
   "metadata": {},
   "outputs": [],
   "source": [
    "def indices_min_et_max(tab):\n",
    "    \"\"\"\n",
    "    Retourne les rangs des occurences de la plus petite et de la plus grande valeur d'un tableau.\n",
    "    - Entrée : tab (tableau non vide)\n",
    "    - Sortie : (indices_plus_petits, indices_plus_grands) (couple de tableaux contenant des indices de tab)\n",
    "\n",
    "    >>> indices_min_et_max([1, 0, 9, 9, 3, 2, 0, 2])\n",
    "    ([1, 6], [2, 3])\n",
    "\n",
    "    >>> indices_min_et_max([1, 7, 9, 3, 2, 0, 2, 0])\n",
    "    ([5, 7], [2])\n",
    "    \n",
    "    >>> indices_min_et_max([0 for _ in range(1000)]) == (list(range(1000)), list(range(1000)))\n",
    "    True\n",
    "    \"\"\"\n",
    "    if type(tab) != list:\n",
    "        raise TypeError(\"l'argument doit être un tableau\")\n",
    "    if tab == []:\n",
    "        raise ValueError(\"l'argument ne doit pas être un tableau vide\")\n",
    "    plus_petit, plus_grand = tab[0], tab[0]\n",
    "    indices_plus_petit = [0]\n",
    "    indices_plus_grand = [0]\n",
    "    for k in range(1, len(tab)-1):\n",
    "        if tab[k] == plus_petit:\n",
    "            indices_plus_petit.append(k)\n",
    "        elif tab[k] < plus_petit:\n",
    "            plus_petit = tab[k]\n",
    "            indices_plus_petit = [k]\n",
    "        if tab[k] == plus_grand:\n",
    "            indices_plus_grand.append(k)\n",
    "        elif tab[k] > plus_grand:\n",
    "            plus_grand = tab[k]\n",
    "            indices_plus_grand = [k]\n",
    "    return indices_plus_petit, indices_plus_grand"
   ]
  },
  {
   "cell_type": "markdown",
   "metadata": {},
   "source": [
    "<div class='rq'>Dans le troisième doctest de la fonction <code>indices_min_et_max</code>, on considère un tableau composé de mille éléments tous identiques. Tous les indices compris entre <code>0</code> et <code>999</code> correspondent donc à la fois à la position de la valeur minimale et de la valeur maximale du tableau. La fonction est donc censée renvoyer le couple <code>([0, 1, 2, ..., 999], [0, 1, 2, ..., 999])</code>, mais on ne peut pas écrire la réponse attendue sous cette forme. Il n'est pas non plus raisonnable d'envisager de l'écrire en extension.<br>\n",
    "<br>\n",
    "Une façon de contourner le problème est de remarquer que la réponse attendue est équivalente au couple <code>(list(range(1000)), list(range(1000)))</code> et de tester par conséquent l'égalité :<br><br>\n",
    "    <center><code>indices_min_et_max([0 for _ in range(1000)]) == (list(range(1000)), list(range(1000)))</code></center><br>\n",
    "   Le résultat attendu pour ce doctest est tout simplement <code>True</code>.</div>"
   ]
  },
  {
   "cell_type": "code",
   "execution_count": null,
   "metadata": {},
   "outputs": [],
   "source": [
    "import doctest as dt\n",
    "dt.run_docstring_examples(indices_min_et_max, globals())"
   ]
  },
  {
   "cell_type": "markdown",
   "metadata": {},
   "source": [
    "<div class='rq'>Il semble que les bornes de la boucle Pour (ligne 23) sont mal choisies, de sorte que le dernier élément du tableau n'est pas pris en compte.</div>"
   ]
  },
  {
   "cell_type": "markdown",
   "metadata": {},
   "source": [
    "**(2)** Corriger l'erreur présente dans la définition de la fonction `indices_min_et_max` et relancer les tests."
   ]
  },
  {
   "cell_type": "code",
   "execution_count": null,
   "metadata": {},
   "outputs": [],
   "source": [
    "def indices_min_et_max(tab):\n",
    "    \"\"\"\n",
    "    Retourne les rangs des occurences de la plus petite et de la plus grande valeur d'un tableau.\n",
    "    - Entrée : tab (tableau non vide)\n",
    "    - Sortie : (indices_plus_petits, indices_plus_grands) (couple de tableaux contenant des indices de tab)\n",
    "    \n",
    "    >>> indices_min_et_max([1, 0, 9, 9, 3, 2, 0, 2])\n",
    "    ([1, 6], [2, 3])\n",
    "\n",
    "    >>> indices_min_et_max([1, 7, 9, 3, 2, 0, 2, 0])\n",
    "    ([5, 7], [2])\n",
    "    \n",
    "    >>> indices_min_et_max([0 for _ in range(1000)]) == (list(range(1000)), list(range(1000)))\n",
    "    True\n",
    "    \"\"\"\n",
    "    if type(tab) != list:\n",
    "        raise TypeError(\"l'argument doit être un tableau\")\n",
    "    if tab == []:\n",
    "        raise ValueError(\"l'argument ne doit pas être un tableau vide\")\n",
    "    plus_petit, plus_grand = tab[0], tab[0]\n",
    "    indices_plus_petit = [0]\n",
    "    indices_plus_grand = [0]\n",
    "    for k in range(1, len(tab)):  # len(tab) au lieu de len(tab)-1\n",
    "        if tab[k] == plus_petit:\n",
    "            indices_plus_petit.append(k)\n",
    "        elif tab[k] < plus_petit:\n",
    "            plus_petit = tab[k]\n",
    "            indices_plus_petit = [k]\n",
    "        if tab[k] == plus_grand:\n",
    "            indices_plus_grand.append(k)\n",
    "        elif tab[k] > plus_grand:\n",
    "            plus_grand = tab[k]\n",
    "            indices_plus_grand = [k]\n",
    "    return indices_plus_petit, indices_plus_grand"
   ]
  },
  {
   "cell_type": "code",
   "execution_count": null,
   "metadata": {},
   "outputs": [],
   "source": [
    "dt.run_docstring_examples(indices_min_et_max, globals())"
   ]
  },
  {
   "cell_type": "markdown",
   "metadata": {},
   "source": [
    "<div class='rq'>Après correction, tous les tests sont passés avec succès.</div>"
   ]
  }
 ],
 "metadata": {
  "kernelspec": {
   "display_name": "Python 3 (ipykernel)",
   "language": "python",
   "name": "python3"
  },
  "language_info": {
   "codemirror_mode": {
    "name": "ipython",
    "version": 3
   },
   "file_extension": ".py",
   "mimetype": "text/x-python",
   "name": "python",
   "nbconvert_exporter": "python",
   "pygments_lexer": "ipython3",
   "version": "3.9.12"
  }
 },
 "nbformat": 4,
 "nbformat_minor": 4
}
