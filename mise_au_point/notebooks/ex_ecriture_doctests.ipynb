{
 "cells": [
  {
   "cell_type": "markdown",
   "metadata": {},
   "source": [
    "<div style='background-color: #e3a8b6;\n",
    "    border: 0.5em solid black;\n",
    "    border-radius: 0.5em;\n",
    "    padding: 1em;'>\n",
    "    <h2>Exercice</h2>\n",
    "    <h1>Écriture de doctests</h1>\n",
    "</div>"
   ]
  },
  {
   "cell_type": "markdown",
   "metadata": {},
   "source": [
    "On donne ci-dessous la définition d'une fonction `indices_min_et_max`.\n",
    "\n",
    "**(1)** Après avoir lu la spécification de la fonction, écrire une série de doctests variés pour la tester.\n",
    "\n",
    "Certains des tests devraient normalement échouer car le code de la fonction contient une erreur."
   ]
  },
  {
   "cell_type": "code",
   "execution_count": null,
   "metadata": {},
   "outputs": [],
   "source": [
    "def indices_min_et_max(tab):\n",
    "    \"\"\"\n",
    "    Retourne les rangs des occurences de la plus petite et de la plus grande valeur d'un tableau.\n",
    "    - Entrée : tab (tableau non vide)\n",
    "    - Sortie : (indices_plus_petits, indices_plus_grands) (couple de tableaux contenant des indices de tab)\n",
    "    \"\"\"\n",
    "    if type(tab) != list:\n",
    "        raise TypeError(\"l'argument doit être un tableau\")\n",
    "    if tab == []:\n",
    "        raise ValueError(\"l'argument ne doit pas être un tableau vide\")\n",
    "    plus_petit, plus_grand = tab[0], tab[0]\n",
    "    indices_plus_petit = [0]\n",
    "    indices_plus_grand = [0]\n",
    "    for k in range(1, len(tab)-1):\n",
    "        if tab[k] == plus_petit:\n",
    "            indices_plus_petit.append(k)\n",
    "        elif tab[k] < plus_petit:\n",
    "            plus_petit = tab[k]\n",
    "            indices_plus_petit = [k]\n",
    "        if tab[k] == plus_grand:\n",
    "            indices_plus_grand.append(k)\n",
    "        elif tab[k] > plus_grand:\n",
    "            plus_grand = tab[k]\n",
    "            indices_plus_grand = [k]\n",
    "    return indices_plus_petit, indices_plus_grand"
   ]
  },
  {
   "cell_type": "code",
   "execution_count": null,
   "metadata": {},
   "outputs": [],
   "source": [
    "import doctest as dt\n",
    "dt.run_docstring_examples(indices_min_et_max, globals())"
   ]
  },
  {
   "cell_type": "markdown",
   "metadata": {},
   "source": [
    "**(2)** Corriger l'erreur présente dans la définition de la fonction `indices_min_et_max` et relancer les tests."
   ]
  },
  {
   "cell_type": "code",
   "execution_count": null,
   "metadata": {},
   "outputs": [],
   "source": [
    "def indices_min_et_max(tab):\n",
    "    \"\"\"\n",
    "    Retourne les rangs des occurences de la plus petite et de la plus grande valeur d'un tableau.\n",
    "    - Entrée : tab (tableau non vide)\n",
    "    - Sortie : (indices_plus_petits, indices_plus_grands) (couple de tableaux contenant des indices de tab)\n",
    "    \"\"\"\n",
    "    if type(tab) != list:\n",
    "        raise TypeError(\"l'argument doit être un tableau\")\n",
    "    if tab == []:\n",
    "        raise ValueError(\"l'argument ne doit pas être un tableau vide\")\n",
    "    plus_petit, plus_grand = tab[0], tab[0]\n",
    "    indices_plus_petit = [0]\n",
    "    indices_plus_grand = [0]\n",
    "    for k in range(1, len(tab)-1):\n",
    "        if tab[k] == plus_petit:\n",
    "            indices_plus_petit.append(k)\n",
    "        elif tab[k] < plus_petit:\n",
    "            plus_petit = tab[k]\n",
    "            indices_plus_petit = [k]\n",
    "        if tab[k] == plus_grand:\n",
    "            indices_plus_grand.append(k)\n",
    "        elif tab[k] > plus_grand:\n",
    "            plus_grand = tab[k]\n",
    "            indices_plus_grand = [k]\n",
    "    return indices_plus_petit, indices_plus_grand"
   ]
  },
  {
   "cell_type": "code",
   "execution_count": null,
   "metadata": {},
   "outputs": [],
   "source": [
    "dt.run_docstring_examples(indices_min_et_max, globals())"
   ]
  }
 ],
 "metadata": {
  "kernelspec": {
   "display_name": "Python 3 (ipykernel)",
   "language": "python",
   "name": "python3"
  },
  "language_info": {
   "codemirror_mode": {
    "name": "ipython",
    "version": 3
   },
   "file_extension": ".py",
   "mimetype": "text/x-python",
   "name": "python",
   "nbconvert_exporter": "python",
   "pygments_lexer": "ipython3",
   "version": "3.9.12"
  }
 },
 "nbformat": 4,
 "nbformat_minor": 4
}
