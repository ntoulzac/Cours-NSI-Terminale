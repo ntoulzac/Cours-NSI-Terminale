{
 "cells": [
  {
   "cell_type": "markdown",
   "metadata": {},
   "source": [
    "<div style='background-color: #87ceeb;\n",
    "    border: 0.5em solid black;\n",
    "    border-radius: 0.5em;\n",
    "    padding: 1em;'>\n",
    "    <h2>Activité</h2>\n",
    "    <h1>Solveur de Sudoku</h1>\n",
    "</div>"
   ]
  },
  {
   "cell_type": "markdown",
   "metadata": {},
   "source": [
    "### Cases voisines dans une grille de sudoku"
   ]
  },
  {
   "cell_type": "markdown",
   "metadata": {},
   "source": [
    "Une grille de sudoku est composée de quatre-vingt-une cases réparties sur neuf lignes, neuf colonnes et neuf blocs carrés.<br><br>\n",
    "Les cases peuvent être numérotées de la façon suivante :"
   ]
  },
  {
   "cell_type": "markdown",
   "metadata": {},
   "source": [
    "<div><img src='http://ntoulzac.github.io/Cours-NSI-Terminale/mise_au_point/images/cases_numerotees.png'></div>"
   ]
  },
  {
   "cell_type": "markdown",
   "metadata": {},
   "source": [
    "On dit que deux cases sont voisines si elles sont sur la même ligne, dans la même colonne ou dans le même bloc de neuf cases.\n",
    "\n",
    "**(1)** De quelle case les cases colorées en orange sont-elles les voisines ?"
   ]
  },
  {
   "cell_type": "markdown",
   "metadata": {},
   "source": [
    "**(2)** Définir une fonction `meme_ligne` prenant en paramètres d'entrée deux entiers `i` et `j` compris entre 0 et 80 et retournant `True` si les cases numéro `i` et `j` sont sur la même ligne, et `False` sinon. Ecrire la spécification de la fonction et ainsi qu'un jeu de tests."
   ]
  },
  {
   "cell_type": "code",
   "execution_count": null,
   "metadata": {},
   "outputs": [],
   "source": []
  },
  {
   "cell_type": "markdown",
   "metadata": {},
   "source": [
    "**(3)** Définir une fonction `meme_colonne` prenant en paramètres d'entrée deux entiers `i` et `j` compris entre 0 et 80 et retournant `True` si les cases numéro `i` et `j` sont dans la même colonne, et `False` sinon. Ecrire la spécification de la fonction et ainsi qu'un jeu de tests."
   ]
  },
  {
   "cell_type": "code",
   "execution_count": null,
   "metadata": {},
   "outputs": [],
   "source": []
  },
  {
   "cell_type": "markdown",
   "metadata": {},
   "source": [
    "**(4)** Définir une fonction `meme_bloc` prenant en paramètres d'entrée deux entiers `i` et `j` compris entre 0 et 80 et retournant `True` si les cases numéro `i` et `j` sont dans le même bloc de neuf cases, et `False` sinon. Ecrire la spécification de la fonction et ainsi qu'un jeu de tests."
   ]
  },
  {
   "cell_type": "code",
   "execution_count": null,
   "metadata": {},
   "outputs": [],
   "source": []
  },
  {
   "cell_type": "markdown",
   "metadata": {},
   "source": [
    "**(5)** Définir une fonction `voisines` prenant en paramètres d'entrée deux entiers `i` et `j` compris entre 0 et 80 et retournant `True` si les cases numéro `i` et `j` sont voisines, et `False` sinon. Ecrire la spécification de la fonction et ainsi qu'un jeu de tests."
   ]
  },
  {
   "cell_type": "code",
   "execution_count": null,
   "metadata": {},
   "outputs": [],
   "source": []
  },
  {
   "cell_type": "markdown",
   "metadata": {},
   "source": [
    "### Définition d'une classe `Sudoku`"
   ]
  },
  {
   "cell_type": "markdown",
   "metadata": {},
   "source": [
    "On donne l'ébauche de la définition d'une classe `Sudoku`."
   ]
  },
  {
   "cell_type": "code",
   "execution_count": null,
   "metadata": {},
   "outputs": [],
   "source": [
    "from random import randint"
   ]
  },
  {
   "cell_type": "code",
   "execution_count": null,
   "metadata": {},
   "outputs": [],
   "source": [
    "class Sudoku:\n",
    "    def __init__(self, nom_de_fichier):\n",
    "        \"\"\"\n",
    "        Lit des grilles de sudoku dans un fichier texte.\n",
    "        \"\"\"\n",
    "        with open(nom_de_fichier, \"r\") as fichier:\n",
    "            self.liste_grilles = fichier.readlines()\n",
    "        self.choisir_grille()\n",
    "\n",
    "    def choisir_grille(self):\n",
    "        \"\"\"\n",
    "        Choisit une grille au hasard parmi les grilles disponibles.\n",
    "        \"\"\"\n",
    "        n = len(self.liste_grilles)\n",
    "        chaine = self.liste_grilles[randint(0, n-1)]\n",
    "        grille = [int(chaine[k]) for k in range(81)]\n",
    "        self.grille = grille\n",
    "        self.grille_init = grille[:]\n",
    "    \n",
    "    def __str__(self):\n",
    "        \"\"\"\n",
    "        Permet l'affichage de la grille de sudoku via la fonction print.\n",
    "        \"\"\"\n",
    "        chaine = ''\n",
    "        for k in range(81):\n",
    "            if self.grille[k] == 0:\n",
    "                chaine = chaine + '. '\n",
    "            else:\n",
    "                chaine = chaine + str(self.grille[k]) + ' '\n",
    "            if k % 9 == 8:\n",
    "                chaine = chaine + '\\n'\n",
    "        return chaine\n",
    "\n",
    "    def _resolution_recursive(self, grille):\n",
    "        \"\"\"\n",
    "        Résout récursivement une grille de sudoku.\n",
    "        - Entrée : grille (tableau, grille à résoudre)\n",
    "        - Sortie : (tableau si la grille a été résolue, None sinon)\n",
    "        \"\"\"\n",
    "\n",
    "    def resoudre(self):\n",
    "        \"\"\"\n",
    "        Résout la grille de sudoku.\n",
    "        \"\"\"\n",
    "        self.grille = self._resolution_recursive(self.grille)"
   ]
  },
  {
   "cell_type": "markdown",
   "metadata": {},
   "source": [
    "**(6)** Donner la liste des attributs et des méthodes que possèdent les instances de la classe `Sudoku` ainsi définie."
   ]
  },
  {
   "cell_type": "markdown",
   "metadata": {},
   "source": [
    "**(7)** Télécharger, en exécutant la cellule suivante, le fichier `grilles_sudoku.txt`, qui contient 200 exemples de grilles de sudoku, et expliquer sous quelle forme ces grilles sont stockées."
   ]
  },
  {
   "cell_type": "code",
   "execution_count": 6,
   "metadata": {},
   "outputs": [],
   "source": [
    "import requests\n",
    "\n",
    "def telecharger(url, nom_fichier):\n",
    "    data = requests.get(url)\n",
    "    with open(nom_fichier, 'wb') as fichier:    \n",
    "        fichier.write(data.content)\n",
    "    \n",
    "telecharger('https://ntoulzac.github.io/Cours-NSI-Terminale/mise_au_point/fichiers/grilles_sudoku.txt', 'grilles_sudoku.txt')"
   ]
  },
  {
   "cell_type": "markdown",
   "metadata": {},
   "source": [
    "**(8)** En deux lignes de code, lire une grille de sudoku dans le fichier `grilles_sudoku.txt` et afficher cette grille à l'écran."
   ]
  },
  {
   "cell_type": "code",
   "execution_count": null,
   "metadata": {},
   "outputs": [],
   "source": []
  },
  {
   "cell_type": "markdown",
   "metadata": {},
   "source": [
    "**(9)** Modifier ci-dessous la définition de la classe `Sudoku` pour y définir les méthodes `meme_ligne`, `meme_colonne`, `meme_bloc` et `voisines`."
   ]
  },
  {
   "cell_type": "code",
   "execution_count": null,
   "metadata": {},
   "outputs": [],
   "source": [
    "class Sudoku:\n",
    "    def __init__(self, nom_de_fichier):\n",
    "        \"\"\"\n",
    "        Lit des grilles de sudoku dans un fichier texte.\n",
    "        \"\"\"\n",
    "        with open(nom_de_fichier, \"r\") as fichier:\n",
    "            self.liste_grilles = fichier.readlines()\n",
    "        self.choisir_grille()\n",
    "\n",
    "    def choisir_grille(self):\n",
    "        \"\"\"\n",
    "        Choisit une grille au hasard parmi les grilles disponibles.\n",
    "        \"\"\"\n",
    "        n = len(self.liste_grilles)\n",
    "        chaine = self.liste_grilles[randint(0, n-1)]\n",
    "        grille = [int(chaine[k]) for k in range(81)]\n",
    "        self.grille = grille\n",
    "        self.grille_init = grille[:]\n",
    "    \n",
    "    def __str__(self):\n",
    "        \"\"\"\n",
    "        Permet l'affichage de la grille de sudoku via la fonction print.\n",
    "        \"\"\"\n",
    "        chaine = ''\n",
    "        for k in range(81):\n",
    "            if self.grille[k] == 0:\n",
    "                chaine = chaine + '. '\n",
    "            else:\n",
    "                chaine = chaine + str(self.grille[k]) + ' '\n",
    "            if k % 9 == 8:\n",
    "                chaine = chaine + '\\n'\n",
    "        return chaine\n",
    "\n",
    "    def _resolution_recursive(self, grille):\n",
    "        \"\"\"\n",
    "        Résout récursivement une grille de sudoku.\n",
    "        - Entrée : grille (tableau, grille à résoudre)\n",
    "        - Sortie : (tableau si la grille a été résolue, None sinon)\n",
    "        \"\"\"\n",
    "\n",
    "    def resoudre(self):\n",
    "        \"\"\"\n",
    "        Résout la grille de sudoku.\n",
    "        \"\"\"\n",
    "        self.grille = self._resolution_recursive(self.grille)"
   ]
  },
  {
   "cell_type": "markdown",
   "metadata": {},
   "source": [
    "### Résolution récursive d'une grille de sudoku"
   ]
  },
  {
   "cell_type": "markdown",
   "metadata": {},
   "source": [
    "**(10)** Implémenter la méthode récursive `_resolution_recursive`, dont la spécification est donnée plus haut, en se basant sur l'algorithme suivant écrit en français. On suppose que, dans la `grille`, les cases contenant la valeur 0 sont celles qui n'ont pas encore été remplies."
   ]
  },
  {
   "cell_type": "markdown",
   "metadata": {},
   "source": [
    "<div class='rq3'>\n",
    "<p><b>Algorithme de backtracking pour la résolution d'une <code>grille</code> de sudoku</b></p>\n",
    "<p><b>Début</b></p>\n",
    "<p STYLE=\"padding:0 0 0 40px;\">Si le sudoku est résolu alors</p>\n",
    "<p STYLE=\"padding:0 0 0 80px;\">Retourner <code>grille</code></p>  \n",
    "<p STYLE=\"padding:0 0 0 40px;\">Sinon</p>\n",
    "<p STYLE=\"padding:0 0 0 80px;\"><code>i</code> ← Indice du premier 0 dans la <code>grille</code></p>\n",
    "<p STYLE=\"padding:0 0 0 80px;\"><code>valeurs_interdites</code> ← Ensemble des valeurs contenues dans les cases voisines de la case <code>i</code></p>\n",
    "<p STYLE=\"padding:0 0 0 80px;\">Pour <code>valeur</code> allant de 1 à 9</p>\n",
    "<p STYLE=\"padding:0 0 0 120px;\">Si <code>valeur</code> n'est pas dans <code>valeurs_interdites</code> alors</p>\n",
    "<p STYLE=\"padding:0 0 0 160px;\"><code>nouvelle_grille</code> ← Copie de <code>grille</code>, en plaçant <code>valeur</code> en position <code>i</code></p>\n",
    "<p STYLE=\"padding:0 0 0 160px;\"><code>resultat</code> ← Appel récursif de la fonction sur la <code>nouvelle_grille</code></p>\n",
    "    <p STYLE=\"padding:0 0 0 160px;\">Si <code>resultat</code> est un tableau alors</p>\n",
    "<p STYLE=\"padding:0 0 0 200px;\">Retourner <code>resultat</code></p>\n",
    "<p STYLE=\"padding:0 0 0 160px;\">Fin Si</p>\n",
    "<p STYLE=\"padding:0 0 0 120px;\">Fin Si</p>\n",
    "<p STYLE=\"padding:0 0 0 80px;\">Fin Pour</p>\n",
    "<p STYLE=\"padding:0 0 0 40px;\">Fin Si</p>\n",
    "<p><b>Fin</b></p>\n",
    "</div>"
   ]
  },
  {
   "cell_type": "markdown",
   "metadata": {},
   "source": [
    "**(11)** En quatre lignes de code, afficher une grille de sudoku avant et après sa résolution."
   ]
  },
  {
   "cell_type": "code",
   "execution_count": null,
   "metadata": {},
   "outputs": [],
   "source": []
  },
  {
   "cell_type": "markdown",
   "metadata": {},
   "source": [
    "### Affichage dans une fenêtre `pygame`"
   ]
  },
  {
   "cell_type": "markdown",
   "metadata": {},
   "source": [
    "On donne la définition d'une classe `FenetreSudoku`"
   ]
  },
  {
   "cell_type": "code",
   "execution_count": null,
   "metadata": {},
   "outputs": [],
   "source": [
    "import pygame\n",
    "from pygame.locals import QUIT as _QUIT, KEYUP as _KEYUP, K_ESCAPE as _K_ESCAPE, MOUSEBUTTONUP as _MOUSEBUTTONUP\n",
    "pygame.init()\n",
    "pygame.font.init()\n",
    "\n",
    "NOIR = (0, 0, 0)\n",
    "BLANC = (255, 255, 255)\n",
    "COULEUR = (255, 153, 153)\n",
    "\n",
    "class FenetreSudoku:\n",
    "    \"\"\"\n",
    "    Classe permettant de gérer une fenêtre pygame pour l'affichage d'une grille de sudoku.\n",
    "    \"\"\"\n",
    "    def __init__(self, taille_case):\n",
    "        \"\"\"\n",
    "        Ouvre une fenêtre pygame aux dimensions d'une grille de Sudoku\n",
    "        (9 lignes et 9 colonnes), plus une zone de texte en bas.\n",
    "        - Entrée : taille_case (entier, taille en pixels d'une case de la grille)\n",
    "        \"\"\"\n",
    "        self.t_c = taille_case\n",
    "        pygame.display.init()\n",
    "        self.police = pygame.font.SysFont('Courier New', self.t_c//2)\n",
    "        self.fen = pygame.display.set_mode((9*self.t_c, 10*self.t_c))\n",
    "        pygame.display.set_caption('Solveur de Sudoku')\n",
    "\n",
    "    def fermer(self):\n",
    "        \"\"\"\n",
    "        Ferme la fenêtre pygame.\n",
    "        \"\"\"\n",
    "        pygame.display.quit()\n",
    "\n",
    "    def _afficher_grille(self, sud):\n",
    "        \"\"\"\n",
    "        Affiche dans la fenêtre pygame les frontières des cases de la grille,\n",
    "        et en couleur les cases dont la valeur est donnée dès le départ.\n",
    "        - Entrée : sud (instance de la classe Sudoku)\n",
    "        \"\"\"\n",
    "        def epaisseur(n):\n",
    "            if n % 3 == 0:\n",
    "                return self.t_c//15\n",
    "            else:\n",
    "                return self.t_c//30\n",
    "        for num_lig in range(9):\n",
    "            for num_col in range(9):\n",
    "                if sud.grille_init[9*num_lig + num_col] != 0:\n",
    "                    pygame.draw.rect(self.fen, COULEUR, (num_col*self.t_c, num_lig*self.t_c, self.t_c, self.t_c))\n",
    "        for num in range(1, 9):\n",
    "            ep = epaisseur(num)\n",
    "            pygame.draw.line(self.fen, NOIR, (num*self.t_c-ep/2, 0), (num*self.t_c-ep/2, 9*self.t_c), ep)\n",
    "            pygame.draw.line(self.fen, NOIR, (0, num*self.t_c-ep/2), (9*self.t_c, num*self.t_c-ep/2), ep)\n",
    "        \n",
    "    def _afficher_chiffres(self, sud):\n",
    "        \"\"\"\n",
    "        Affiche dans la fenêtre pygame des valeurs de la grille de sudoku.\n",
    "        - Entrée : sud (instance de la classe Sudoku)\n",
    "        \"\"\"\n",
    "        for i in range(81):\n",
    "            if sud.grille[i] != 0:\n",
    "                if sud.grille_init[i] != 0:\n",
    "                    couleur_fond = COULEUR\n",
    "                else:\n",
    "                    couleur_fond = BLANC\n",
    "                texte = self.police.render(str(sud.grille[i]), True, NOIR, couleur_fond)\n",
    "                self.fen.blit(texte, ((0.5+i%9)*self.t_c-texte.get_width()/2, (0.5+i//9)*self.t_c-texte.get_height()/2))\n",
    "\n",
    "    def _afficher_texte(self, texte):\n",
    "        \"\"\"\n",
    "        Affiche un texte en bas de la fenêtre pygame.\n",
    "        - Entrée : texte (chaîne de caractères)\n",
    "        \"\"\"\n",
    "        pygame.draw.rect(self.fen, NOIR, (0, 9*self.t_c, 9*self.t_c, self.t_c))\n",
    "        texte = self.police.render(texte, True, BLANC, NOIR)\n",
    "        self.fen.blit(texte, (4.5*self.t_c-texte.get_width()/2, 9.5*self.t_c-texte.get_height()/2))\n",
    "\n",
    "    def effacer(self):\n",
    "        \"\"\"\n",
    "        Efface la fenêtre pygame en la remplissant de blanc.\n",
    "        \"\"\"\n",
    "        self.fen.fill(BLANC)\n",
    "    \n",
    "    def actualiser(self, sud, texte):\n",
    "        \"\"\"\n",
    "        Affiche dans la fenêtre pygame une grille de sudoku et un texte.\n",
    "        - Entrées : sud (instance de la classe Sudoku), texte (chaîne de caractères)\n",
    "        \"\"\"\n",
    "        self._afficher_grille(sud)\n",
    "        self._afficher_chiffres(sud)\n",
    "        self._afficher_texte(texte)\n",
    "        pygame.display.flip()\n",
    "\n",
    "    def attendre_clic(self):\n",
    "        \"\"\"\n",
    "        Met le programme en attente d'un clic à la souris ou de l'appui sur une touche.\n",
    "        Permet à l'utilisateur de décider entre continuer ou s'arrêter.\n",
    "        - Sortie : (booléen, False pour s'arrêter, en cas de fermeture de la fenêtre ou d'appui sur Echap,\n",
    "                             True pour continuer, en cas d'appui sur une autre touche ou de clic à la souris)\n",
    "        \"\"\"\n",
    "        while True:\n",
    "            pygame.time.Clock().tick(30)\n",
    "            for event in pygame.event.get():\n",
    "                if event.type == _QUIT or event.type == _KEYUP and event.key == _K_ESCAPE:\n",
    "                    return False\n",
    "                elif event.type == _KEYUP or event.type == _MOUSEBUTTONUP:\n",
    "                    return True"
   ]
  },
  {
   "cell_type": "markdown",
   "metadata": {},
   "source": [
    "**(12)** Ecrire des lignes de code permettant d'ouvrir une fenêtre `pygame` et d'y faire afficher une grille de sudoku, chaque case ayant 60 pixels de côté. Faire ensuite afficher la grille résolue et le temps mis pour la résolution."
   ]
  },
  {
   "cell_type": "code",
   "execution_count": null,
   "metadata": {},
   "outputs": [],
   "source": []
  },
  {
   "cell_type": "markdown",
   "metadata": {},
   "source": [
    "**(13)** Recopier et modifier le code précédent pour que plusieurs grilles soient résolues à la suite. Le choix de continuer sera fait en cliquant dans la fenêtre ou en appuyant sur une touche. Le choix de s'arrêter sera fait en fermant la fenêtre ou en appuyant sur Echap."
   ]
  },
  {
   "cell_type": "code",
   "execution_count": null,
   "metadata": {},
   "outputs": [],
   "source": []
  }
 ],
 "metadata": {
  "kernelspec": {
   "display_name": "Python 3",
   "language": "python",
   "name": "python3"
  },
  "language_info": {
   "codemirror_mode": {
    "name": "ipython",
    "version": 3
   },
   "file_extension": ".py",
   "mimetype": "text/x-python",
   "name": "python",
   "nbconvert_exporter": "python",
   "pygments_lexer": "ipython3",
   "version": "3.8.5"
  }
 },
 "nbformat": 4,
 "nbformat_minor": 4
}
