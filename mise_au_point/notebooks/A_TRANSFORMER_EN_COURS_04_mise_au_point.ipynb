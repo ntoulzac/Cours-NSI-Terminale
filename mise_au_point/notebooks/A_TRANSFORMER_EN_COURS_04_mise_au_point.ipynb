{
 "cells": [
  {
   "cell_type": "markdown",
   "metadata": {},
   "source": [
    "# Chapitre 4 : Mise au point des programmes"
   ]
  },
  {
   "cell_type": "markdown",
   "metadata": {},
   "source": [
    "***Gestion des bugs, construction de jeux de tests***"
   ]
  },
  {
   "cell_type": "markdown",
   "metadata": {},
   "source": [
    "## Partie A - Utilisation du module `doctest`"
   ]
  },
  {
   "cell_type": "markdown",
   "metadata": {},
   "source": [
    "### Valeur minimale et valeur maximale dans un tableau"
   ]
  },
  {
   "cell_type": "markdown",
   "metadata": {},
   "source": [
    "Dans cette partie, on définit une fonction `min_et_max` dont le rôle est de retourner la plus petite et la plus grande des valeurs stockées dans un tableau.\n",
    "\n",
    "**(1)** Donner une implémentation de la fonction `min_et_max`."
   ]
  },
  {
   "cell_type": "code",
   "execution_count": null,
   "metadata": {},
   "outputs": [],
   "source": [
    "def min_et_max(tab):\n",
    "    \"\"\"\n",
    "    Renvoie la plus petite et la plus grande valeur d'un tableau.\n",
    "    - Entrée : tab (tableau non vide)\n",
    "    - Sortie : (plus_petit, plus_grand) (couple d'éléments du tableau)\n",
    "    \"\"\"\n",
    "    # Code à écrire..."
   ]
  },
  {
   "cell_type": "markdown",
   "metadata": {},
   "source": [
    "**(2)** Modifier l'implémentation de la fonction `min_et_max` pour assurer que la valeur passée en argument est un tableau non vide."
   ]
  },
  {
   "cell_type": "code",
   "execution_count": null,
   "metadata": {},
   "outputs": [],
   "source": [
    "def min_et_max(tab):\n",
    "    \"\"\"\n",
    "    Renvoie la plus petite et la plus grande valeur d'un tableau.\n",
    "    - Entrée : tab (tableau non vide)\n",
    "    - Sortie : (plus_petit, plus_grand) (couple d'éléments du tableau)\n",
    "    \"\"\"\n",
    "    # Code à recopier et à modifier..."
   ]
  },
  {
   "cell_type": "markdown",
   "metadata": {},
   "source": [
    "**(3)** Quel résultat doit-on normalement obtenir lors de chacun des appels suivants ?"
   ]
  },
  {
   "cell_type": "code",
   "execution_count": null,
   "metadata": {},
   "outputs": [],
   "source": [
    "# Test 1\n",
    "min_et_max([1, 7, 9, 3, 2, 0, 2, 0])"
   ]
  },
  {
   "cell_type": "code",
   "execution_count": null,
   "metadata": {},
   "outputs": [],
   "source": [
    "# Test 2\n",
    "min_et_max([0 for _ in range(1000)])"
   ]
  },
  {
   "cell_type": "code",
   "execution_count": null,
   "metadata": {},
   "outputs": [],
   "source": [
    "from random import randint, shuffle"
   ]
  },
  {
   "cell_type": "code",
   "execution_count": null,
   "metadata": {},
   "outputs": [],
   "source": [
    "# Test 3\n",
    "T = [-10000, 10000] + [randint(-10000, 10000) for _ in range(998)]\n",
    "shuffle(T)\n",
    "min_et_max(T)"
   ]
  },
  {
   "cell_type": "code",
   "execution_count": null,
   "metadata": {},
   "outputs": [],
   "source": [
    "# Test 4\n",
    "min_et_max('tableau')"
   ]
  },
  {
   "cell_type": "code",
   "execution_count": null,
   "metadata": {},
   "outputs": [],
   "source": [
    "# Test 5\n",
    "min_et_max([])"
   ]
  },
  {
   "cell_type": "markdown",
   "metadata": {},
   "source": [
    "Il est possible d'intégrer directement ces tests à la *docstring* de la fonction `min_et_max` en procédant de la façon suivante :\n",
    "- Les tests s'écrivent à la fin de la *docstring*.\n",
    "- Les lignes de code à exécuter au cours du test sont précédées de trois chevrons `>>>`.\n",
    "- Le résultat attendu pour chaque test est indiqué sur la ligne juste en dessous des trois chevrons.\n",
    "\n",
    "Les tests intégrés à la *docstring* sont appelés **doctests**."
   ]
  },
  {
   "cell_type": "code",
   "execution_count": null,
   "metadata": {},
   "outputs": [],
   "source": [
    "def min_et_max(tab):\n",
    "    \"\"\"\n",
    "    Retourne la plus petite et la plus grande valeur d'un tableau.\n",
    "    - Entrée : tab (tableau non vide)\n",
    "    - Sortie : (plus_petit, plus_grand) (couple d'éléments du tableau)\n",
    "    \n",
    "    >>> min_et_max([1, 7, 9, 3, 2, 0, 2, 0])\n",
    "    (0, 9)\n",
    "    \n",
    "    Compléter la docstring en ajoutant d'autres tests...\n",
    "    \"\"\"\n",
    "    # Code à recopier..."
   ]
  },
  {
   "cell_type": "markdown",
   "metadata": {},
   "source": [
    "**(4)** Pour lancer les tests présents dans la *docstring* d'une fonction, il suffit d'appeler la fonction `run_docstring_examples` du module `doctest`. Le premier argument est le nom de la fonction à tester, le second est `globals()`."
   ]
  },
  {
   "cell_type": "code",
   "execution_count": null,
   "metadata": {},
   "outputs": [],
   "source": [
    "import doctest as dt"
   ]
  },
  {
   "cell_type": "code",
   "execution_count": null,
   "metadata": {},
   "outputs": [],
   "source": [
    "dt.run_docstring_examples(min_et_max, globals())"
   ]
  },
  {
   "cell_type": "markdown",
   "metadata": {},
   "source": [
    "<div class='rq'>Le fait que rien ne s'affiche à l'exécution de la cellule ci-dessus signifie que tous les tests ont été passés avec succès.</div>"
   ]
  },
  {
   "cell_type": "markdown",
   "metadata": {},
   "source": [
    "En passant l'argument `True` au paramètre optionnel `verbose`, on obtient un affichage détaillé des tests effectués."
   ]
  },
  {
   "cell_type": "code",
   "execution_count": null,
   "metadata": {},
   "outputs": [],
   "source": [
    "dt.run_docstring_examples(min_et_max, globals(), verbose = True)"
   ]
  },
  {
   "cell_type": "markdown",
   "metadata": {},
   "source": [
    "<div class='rq'>Il est également possible de tester l'ensemble des doctests présents dans un fichier ou dans un <i>Notebook</i>. Il suffit pour cela d'appeler la fonction <code>testmod</code> du module <code>doctest</code> sans aucun argument (ou avec le paramètre optionnel <code>verbose</code>).</div>"
   ]
  },
  {
   "cell_type": "markdown",
   "metadata": {},
   "source": [
    "### Indices des occurences de la valeur minimale et de la valeur maximale dans un tableau"
   ]
  },
  {
   "cell_type": "markdown",
   "metadata": {},
   "source": [
    "On donne la fonction `indices_min_et_max` définie ci-dessous.\n",
    "\n",
    "**(5)** Après avoir lu la spécification de la fonction, écrire une série de doctests variés pour la tester. Certains des tests devraient normalement échouer car le code de la fonction contient une erreur."
   ]
  },
  {
   "cell_type": "code",
   "execution_count": null,
   "metadata": {},
   "outputs": [],
   "source": [
    "def indices_min_et_max(tab):\n",
    "    \"\"\"\n",
    "    Retourne les rangs des occurences de la plus petite et de la plus grande valeur d'un tableau.\n",
    "    - Entrée : tab (tableau non vide)\n",
    "    - Sortie : (indices_plus_petits, indices_plus_grands) (couple de tableaux contenant des indices de tab)\n",
    "    \n",
    "    Tests à écrire...\n",
    "    \"\"\"\n",
    "    if type(tab) != list:\n",
    "        raise TypeError('l\\'argument doit être un tableau')\n",
    "    if tab == []:\n",
    "        raise ValueError('l\\'argument ne doit pas être un tableau vide')\n",
    "    plus_petit, plus_grand = min_et_max(tab)\n",
    "    indices_plus_petit = []\n",
    "    indices_plus_grand = []\n",
    "    for k in range(len(tab)-1):\n",
    "        if tab[k] == plus_petit:\n",
    "            indices_plus_petit.append(k)\n",
    "        if tab[k] == plus_grand:\n",
    "            indices_plus_grand.append(k)\n",
    "    return indices_plus_petit, indices_plus_grand"
   ]
  },
  {
   "cell_type": "code",
   "execution_count": null,
   "metadata": {},
   "outputs": [],
   "source": [
    "dt.run_docstring_examples(indices_min_et_max, globals())"
   ]
  },
  {
   "cell_type": "markdown",
   "metadata": {},
   "source": [
    "**(6)** Corriger l'erreur présente dans la définition de la fonction `indices_min_et_max` et relancer les tests."
   ]
  },
  {
   "cell_type": "code",
   "execution_count": null,
   "metadata": {},
   "outputs": [],
   "source": [
    "def indices_min_et_max(tab):\n",
    "    \"\"\"\n",
    "    Retourne les rangs des occurences de la plus petite et de la plus grande valeur d'un tableau.\n",
    "    - Entrée : tab (tableau non vide)\n",
    "    - Sortie : (indices_plus_petits, indices_plus_grands) (couple de tableaux contenant des indices de tab)\n",
    "    \n",
    "    Tests à recopier...\n",
    "    \"\"\"\n",
    "    if type(tab) != list:\n",
    "        raise TypeError('l\\'argument doit être un tableau')\n",
    "    if tab == []:\n",
    "        raise ValueError('l\\'argument ne doit pas être un tableau vide')\n",
    "    plus_petit, plus_grand = min_et_max(tab)\n",
    "    indices_plus_petit = []\n",
    "    indices_plus_grand = []\n",
    "    for k in range(len(tab)-1):\n",
    "        if tab[k] == plus_petit:\n",
    "            indices_plus_petit.append(k)\n",
    "        if tab[k] == plus_grand:\n",
    "            indices_plus_grand.append(k)\n",
    "    return indices_plus_petit, indices_plus_grand"
   ]
  },
  {
   "cell_type": "code",
   "execution_count": null,
   "metadata": {},
   "outputs": [],
   "source": [
    "dt.run_docstring_examples(indices_min_et_max, globals())"
   ]
  },
  {
   "cell_type": "markdown",
   "metadata": {},
   "source": [
    "## Activité : Tests de fonctions récursives"
   ]
  },
  {
   "cell_type": "markdown",
   "metadata": {},
   "source": [
    "### Somme des entiers compris entre `a` et `b`"
   ]
  },
  {
   "cell_type": "markdown",
   "metadata": {},
   "source": [
    "Proposer un jeu de tests pour la fonction `somme`. Dans le cas où `b` est strictement plus petit que `a`, on souhaite obtenir une erreur de type `ValueError` et le message `'le second argument doit être plus petit que le premier'`."
   ]
  },
  {
   "cell_type": "code",
   "execution_count": null,
   "metadata": {},
   "outputs": [],
   "source": [
    "def somme(a, b):\n",
    "    \"\"\"\n",
    "    Calcule la somme des entiers compris entre a et b.\n",
    "    - Entrées : a, b (entiers)\n",
    "    - Sortie : total (entier)\n",
    "    \"\"\"\n",
    "    if a > b:\n",
    "        raise ValueError('le second argument doit être plus petit que le premier')\n",
    "    if a == b:\n",
    "        return a\n",
    "    else:\n",
    "        return a + somme(a+1, b)"
   ]
  },
  {
   "cell_type": "code",
   "execution_count": null,
   "metadata": {},
   "outputs": [],
   "source": [
    "dt.run_docstring_examples(somme, globals())"
   ]
  },
  {
   "cell_type": "markdown",
   "metadata": {},
   "source": [
    "<div class='rq'>On peut aussi faire en sorte que la fonction renvoie la somme des entiers compris entre <code>a</code> et <code>b</code> dans tous les cas.</div>"
   ]
  },
  {
   "cell_type": "code",
   "execution_count": null,
   "metadata": {},
   "outputs": [],
   "source": [
    "def somme(a, b):\n",
    "    \"\"\"\n",
    "    Calcule la somme des entiers compris entre a et b.\n",
    "    - Entrées : a, b (entiers)\n",
    "    - Sortie : total (entier)\n",
    "    \"\"\"\n",
    "    if a > b:\n",
    "        return somme(b, a)\n",
    "    elif a == b:\n",
    "        return a\n",
    "    else:\n",
    "        return a + somme(a+1, b)"
   ]
  },
  {
   "cell_type": "code",
   "execution_count": null,
   "metadata": {},
   "outputs": [],
   "source": [
    "dt.run_docstring_examples(somme, globals())"
   ]
  },
  {
   "cell_type": "markdown",
   "metadata": {},
   "source": [
    "### Exponentiation rapide"
   ]
  },
  {
   "cell_type": "markdown",
   "metadata": {},
   "source": [
    "Proposer un jeu de tests pour la fonction `exponentiation_rapide`. Dans le cas où `n` n'est pas entier ou pas positif, on souhaite obtenir une erreur de type `TypeError` ou `ValueError` associée à un message d'erreur adapté."
   ]
  },
  {
   "cell_type": "code",
   "execution_count": null,
   "metadata": {},
   "outputs": [],
   "source": [
    "def exponentiation_rapide(a, n):\n",
    "    \"\"\"\n",
    "    Calcule a puissance n par l'algorithme récursif d'exponentiation rapide.\n",
    "    - Entrées : a (nombre), n (entier positif)\n",
    "    - Sortie : (nombre)\n",
    "    \"\"\"\n",
    "    if type(n) != int:\n",
    "        raise TypeError('le second argument doit être entier')\n",
    "    if n < 0:\n",
    "        raise ValueError('le second argument doit être positif')\n",
    "    if n == 0:\n",
    "        return 1\n",
    "    elif n % 2 == 0:\n",
    "        return exponentiation_rapide(a*a, n//2)\n",
    "    else:\n",
    "        return a * exponentiation_rapide(a*a, (n-1)//2)"
   ]
  },
  {
   "cell_type": "code",
   "execution_count": null,
   "metadata": {},
   "outputs": [],
   "source": [
    "dt.run_docstring_examples(exponentiation_rapide, globals())"
   ]
  },
  {
   "cell_type": "markdown",
   "metadata": {},
   "source": [
    "### Palindromes"
   ]
  },
  {
   "cell_type": "markdown",
   "metadata": {},
   "source": [
    "Proposer un jeu de tests pour la fonction `est_palindrome`."
   ]
  },
  {
   "cell_type": "code",
   "execution_count": null,
   "metadata": {},
   "outputs": [],
   "source": [
    "def est_palindrome(texte):\n",
    "    \"\"\"\n",
    "    Détermine si une chaîne de caractères est un palindrome.\n",
    "    - Entrée : texte (chaîne)\n",
    "    - Sortie : (booléen, True si texte est un palindrome, False sinon)\n",
    "    \"\"\"\n",
    "    longueur = len(texte)\n",
    "    if longueur <= 1:\n",
    "        return True\n",
    "    elif texte[0] != texte[-1]:\n",
    "        return False\n",
    "    else:\n",
    "        return est_palindrome(texte[1:-1])"
   ]
  },
  {
   "cell_type": "code",
   "execution_count": null,
   "metadata": {},
   "outputs": [],
   "source": [
    "dt.run_docstring_examples(est_palindrome, globals())"
   ]
  },
  {
   "cell_type": "markdown",
   "metadata": {},
   "source": [
    "<div class='rq'>Telle qu'elle est implémentée, la fonction <code>est_palindrome</code> est sensible aux majuscules, aux accents et aux signes de ponctuation, ce qui rend le test non concluant sur la phrase de Georges Perec <code>'Ce reptile lit Perec.'</code>. Pour contourner ce problème, définissions une fonction <code>simplifier_texte_FR</code> qui retire d'une chaîne de caractères les minuscules, les accents et tous les caractères qui ne sont pas des lettres.</div>"
   ]
  },
  {
   "cell_type": "code",
   "execution_count": null,
   "metadata": {},
   "outputs": [],
   "source": [
    "def simplifier_texte_FR(chaine):\n",
    "    \"\"\"\n",
    "    Met un texte en majuscules et retire les accents et les caractères qui ne sont pas des lettres.\n",
    "    - Entrée : chaine (chaîne de caractères)\n",
    "    - Sortie : nouvelle_chaine (chaîne de caractères)\n",
    "\n",
    "    Tests à écrire...\n",
    "    \"\"\"\n",
    "    alphabet1 = 'ABCDEFGHIJKLMNOPQRSTUVWXYZ'\n",
    "    alphabet2 = 'ÀÁÂÄÆÇÈÉÊËÎÏÔÖŒÙÛÜ'\n",
    "    correspondances = {'ÀÂÄ' : 'A',\n",
    "                       'Æ' : 'AE',\n",
    "                       'Ç' : 'C',\n",
    "                       'ÈÉÊË' : 'E',\n",
    "                       'ÎÏ' : 'I',\n",
    "                       'ÔÖ' : 'O',\n",
    "                       'Œ' : 'OE',\n",
    "                       'ÙÛÜ': 'U'}\n",
    "    nouvelle_chaine = ''\n",
    "    for lettre in chaine:\n",
    "        lettre = lettre.upper()\n",
    "        if lettre in alphabet1:\n",
    "            nouvelle_chaine += lettre\n",
    "        elif lettre in alphabet2:\n",
    "            for cle in correspondances:\n",
    "                if lettre in cle:\n",
    "                    nouvelle_chaine += correspondances[cle]\n",
    "    return nouvelle_chaine        "
   ]
  },
  {
   "cell_type": "code",
   "execution_count": null,
   "metadata": {},
   "outputs": [],
   "source": [
    "dt.run_docstring_examples(simplifier_texte_FR, globals())"
   ]
  },
  {
   "cell_type": "markdown",
   "metadata": {},
   "source": [
    "<div class='rq'>Il suffit maintenant d'appeler la fonction <code>simplifier_texte_FR</code> au début de l'exécution de la fonction <code>est_palindrome</code>.</div>"
   ]
  },
  {
   "cell_type": "code",
   "execution_count": null,
   "metadata": {},
   "outputs": [],
   "source": [
    "def est_palindrome(texte):\n",
    "    \"\"\"\n",
    "    Détermine si une chaîne de caractères est un palindrome.\n",
    "    - Entrée : texte (chaîne)\n",
    "    - Sortie : (booléen, True si texte est un palindrome, False sinon)\n",
    "    \"\"\"\n",
    "    texte = simplifier_texte_FR(texte)\n",
    "    longueur = len(texte)\n",
    "    if longueur <= 1:\n",
    "        return True\n",
    "    elif texte[0] != texte[-1]:\n",
    "        return False\n",
    "    else:\n",
    "        return est_palindrome(texte[1:-1])"
   ]
  },
  {
   "cell_type": "code",
   "execution_count": null,
   "metadata": {},
   "outputs": [],
   "source": [
    "dt.run_docstring_examples(est_palindrome, globals())"
   ]
  }
 ],
 "metadata": {
  "kernelspec": {
   "display_name": "Python 3",
   "language": "python",
   "name": "python3"
  },
  "language_info": {
   "codemirror_mode": {
    "name": "ipython",
    "version": 3
   },
   "file_extension": ".py",
   "mimetype": "text/x-python",
   "name": "python",
   "nbconvert_exporter": "python",
   "pygments_lexer": "ipython3",
   "version": "3.8.5"
  }
 },
 "nbformat": 4,
 "nbformat_minor": 4
}
