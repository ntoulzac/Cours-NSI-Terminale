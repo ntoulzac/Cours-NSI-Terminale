{
 "cells": [
  {
   "cell_type": "code",
   "execution_count": 15,
   "id": "e2b672e1",
   "metadata": {},
   "outputs": [],
   "source": [
    "def min_et_max(tab):\n",
    "    \"\"\"\n",
    "    Renvoie la plus petite et la plus grande valeur d'un tableau.\n",
    "    - Entrée : tab (tableau non vide)\n",
    "    - Sortie : (plus_petit, plus_grand) (couple d'éléments du tableau)\n",
    "    \n",
    "    >>> min_et_max([1, 7, 9, 3, 2, 0, 2, 0])\n",
    "    (0, 9)\n",
    "\n",
    "    >>> min_et_max([0 for _ in range(1000)])\n",
    "    (0, 0)\n",
    "\n",
    "    >>> from random import randint, shuffle\n",
    "    >>> T = [-10000, 10000] + [randint(-10000, 10000) for _ in range(998)]\n",
    "    >>> shuffle(T)\n",
    "    >>> min_et_max(T)\n",
    "    (-10000, 10000)\n",
    "    \n",
    "    >>> min_et_max(\"tableau\")\n",
    "    Traceback (most recent call last):\n",
    "        ...\n",
    "    TypeError: l'argument doit être un tableau\n",
    "    \n",
    "    >>> min_et_max([])\n",
    "    Traceback (most recent call last):\n",
    "        ...\n",
    "    ValueError: l'argument doit être un tableau non vide\n",
    "    \"\"\"\n",
    "    if type(tab) != list:\n",
    "        raise TypeError(\"l'argument doit être un tableau\")\n",
    "    if len(tab) == 0:\n",
    "        raise ValueError(\"l'argument doit être un tableau non vide\")\n",
    "    plus_petit = tab[0]\n",
    "    plus_grand = tab[0]\n",
    "    for k in range(1, len(tab)):\n",
    "        if tab[k] < plus_petit:\n",
    "            plus_petit = tab[k]\n",
    "        if tab[k] > plus_grand:\n",
    "            plus_grand = tab[k]\n",
    "    return plus_petit, plus_grand"
   ]
  },
  {
   "cell_type": "code",
   "execution_count": 16,
   "id": "e948f294",
   "metadata": {},
   "outputs": [],
   "source": [
    "import doctest as dt\n",
    "dt.run_docstring_examples(min_et_max, globals())"
   ]
  },
  {
   "cell_type": "code",
   "execution_count": null,
   "id": "31a1f796",
   "metadata": {},
   "outputs": [],
   "source": []
  }
 ],
 "metadata": {
  "kernelspec": {
   "display_name": "Python 3 (ipykernel)",
   "language": "python",
   "name": "python3"
  },
  "language_info": {
   "codemirror_mode": {
    "name": "ipython",
    "version": 3
   },
   "file_extension": ".py",
   "mimetype": "text/x-python",
   "name": "python",
   "nbconvert_exporter": "python",
   "pygments_lexer": "ipython3",
   "version": "3.9.12"
  }
 },
 "nbformat": 4,
 "nbformat_minor": 5
}
