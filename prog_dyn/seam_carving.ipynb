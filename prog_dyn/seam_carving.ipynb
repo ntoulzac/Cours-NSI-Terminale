{
 "cells": [
  {
   "cell_type": "markdown",
   "id": "7e49172f",
   "metadata": {},
   "source": [
    "<div style='background-color: #ffc154;\n",
    "    border: 0.5em solid black;\n",
    "    border-radius: 0.5em;\n",
    "    padding: 1em;'>\n",
    "    <h2>Devoir maison</h2>\n",
    "    <h1>Redimensionnement d'une image par <i>seam carving</i></h1>\n",
    "</div>"
   ]
  },
  {
   "cell_type": "markdown",
   "id": "eb09c87d",
   "metadata": {},
   "source": [
    "L'objectif de ce devoir est de travailler sur le redimensionnement d'une image via un algorithme de _découpage de couture_ (en anglais, _seam carving_).\n",
    "\n",
    "Il utilise le module `PIL`, qui peut être installé en exécutant la cellule suivante."
   ]
  },
  {
   "cell_type": "code",
   "execution_count": null,
   "id": "4a10c151",
   "metadata": {},
   "outputs": [],
   "source": [
    "import sys\n",
    "!{sys.executable} -m pip install --upgrade Pillow"
   ]
  },
  {
   "cell_type": "markdown",
   "id": "feb12f9b",
   "metadata": {},
   "source": [
    "On peut importer la classe `Image` du module `PIL` en exécutant la cellule suivante."
   ]
  },
  {
   "cell_type": "code",
   "execution_count": null,
   "id": "a59818ff",
   "metadata": {},
   "outputs": [],
   "source": [
    "from PIL import Image"
   ]
  },
  {
   "cell_type": "markdown",
   "id": "1ab26ef6",
   "metadata": {},
   "source": [
    "### Chargement et enregistrement d'une image\n",
    "\n",
    "**(1)** Après avoir testé la fonction `charger_image` et la procédure `enregistrer_image`, écrire leur spécification."
   ]
  },
  {
   "cell_type": "code",
   "execution_count": null,
   "id": "2e9d0d32",
   "metadata": {},
   "outputs": [],
   "source": [
    "import requests\n",
    "\n",
    "def charger_image(url):\n",
    "    \"\"\"\n",
    "    Ouvre une image avec le module PIL.\n",
    "    - Entrée : url (chaîne, url d'un fichier image)\n",
    "    - Sortie : img (instance de la classe Image)\n",
    "    \"\"\"\n",
    "    image = Image.open(requests.get(url, stream=True).raw)\n",
    "    image = image.convert(mode='RGB')\n",
    "    return image\n",
    "\n",
    "def enregistrer_image(image, nom_fichier):\n",
    "    \"\"\"\n",
    "    Enregistre une image dans un fichier.\n",
    "    - Entrées : image (instance de la classe Image),\n",
    "                nom_fichier (chaîne, nom d'un fichier image)\n",
    "    Effet de bord : écriture dans un fichier\n",
    "    \"\"\"\n",
    "    image.save(nom_fichier)"
   ]
  },
  {
   "cell_type": "code",
   "execution_count": null,
   "id": "698ebb2e",
   "metadata": {},
   "outputs": [],
   "source": [
    "image = charger_image('https://ntoulzac.github.io/Cours-NSI-Terminale/prog_dyn/images/seam_carv_acropole0.png')\n",
    "enregistrer_image(image, \"acropole0.png\")\n",
    "image  # Affichage de l'image"
   ]
  },
  {
   "cell_type": "markdown",
   "id": "f5007a2d",
   "metadata": {},
   "source": [
    "### Calcul de l'_énergie_ des pixels\n",
    "\n",
    "On souhaite calculer l'_écart_ entre la couleur de deux pixels.\n",
    "\n",
    "Si les composantes RVB des deux couleurs sont respectivement $(R, V, B)$ et $(R', V', B')$, on appelle _écart_ entre les deux couleurs le nombre :\n",
    "\n",
    "$$0,2126 \\times |R - R'| + 0,7152 \\times |V - V'| + 0,0722 \\times |B - B'|$$\n",
    "\n",
    "**(2)** Définir une fonction `ecart_couleurs` qui prend en paramètres d'entrée deux couleurs représentées par des p-puplets de la forme `(r, v, b)` et qui renvoie l'écart entre les deux couleurs."
   ]
  },
  {
   "cell_type": "code",
   "execution_count": null,
   "id": "ad02c933",
   "metadata": {},
   "outputs": [],
   "source": [
    "def ecart_couleurs(coul1, coul2):\n",
    "    r1, v1, b1 = coul1\n",
    "    r2, v2, b2 = coul2\n",
    "    return 0.2126 * abs(r1 - r2) + 0.7152 * abs(v1 - v2) + 0.0722 * abs(b1 - b2)"
   ]
  },
  {
   "cell_type": "markdown",
   "id": "407696bd",
   "metadata": {},
   "source": [
    "On souhaite maintenant calculer l'_énergie_ des pixels d'une image.\n",
    "\n",
    "On appelle _énergie_ d'un pixel l'_écart_ moyen entre la couleur de ce pixel et la couleur de ses voisins.\n",
    "\n",
    "**(3)** Définir une fonction `energie_pixel` conformément à la spécification suivante :"
   ]
  },
  {
   "cell_type": "code",
   "execution_count": null,
   "id": "71b40b8e",
   "metadata": {},
   "outputs": [],
   "source": [
    "def energie_pixel(image, largeur, hauteur, x, y):\n",
    "    \"\"\"\n",
    "    Calcule l'énergie d'un pixel d'une image.\n",
    "    - Entrées : image (instance de la classe Image)\n",
    "                largeur, hauteur (entiers, dimensions de l'image)\n",
    "                x, y (entiers, coordonnées du pixel dont on calcule l'énergie)\n",
    "    - Sortie : (flottant)\n",
    "    \"\"\"\n",
    "    coul1 = image.getpixel((x, y))  # couleur du pixel étudié\n",
    "    somme_ecarts = 0\n",
    "    nb_voisins = 0\n",
    "    for a in range(-1, 2):\n",
    "        for b in range(-1, 2):\n",
    "            if (a, b) != (0, 0) and (x + a) in range(largeur) and (y + b) in range(hauteur):\n",
    "                coul2 = image.getpixel((x + a, y + b))  # couleur d'un pixel voisin\n",
    "                somme_ecarts = somme_ecarts + ecart_couleurs(coul1, coul2)\n",
    "                nb_voisins = nb_voisins + 1\n",
    "    return somme_ecarts / nb_voisins"
   ]
  },
  {
   "cell_type": "markdown",
   "id": "3238f607",
   "metadata": {},
   "source": [
    "**(4)** Définir une fonction `tableau_energies` conformément à la spécification suivante :"
   ]
  },
  {
   "cell_type": "code",
   "execution_count": null,
   "id": "564788d3",
   "metadata": {},
   "outputs": [],
   "source": [
    "def tableau_energies(image):\n",
    "    \"\"\"\n",
    "    Détermine, sous forme de tableau à deux dimensions, l'énergie de chaque pixel d'une image.\n",
    "    - Entrée : image (instance de la classe Image)\n",
    "    - Sortie : tab (tableau à deux dimensions, dont le nombre de lignes est la hauteur de l'image\n",
    "                    et le nombre de colonnes la largeur de l'image)\n",
    "    \"\"\"\n",
    "    largeur = image.width\n",
    "    hauteur = image.height\n",
    "    tab = []\n",
    "    for y in range(hauteur):\n",
    "        lig = []\n",
    "        for x in range(largeur):\n",
    "            lig.append(energie_pixel(image, largeur, hauteur, x, y))\n",
    "        tab.append(lig)\n",
    "    return tab"
   ]
  },
  {
   "cell_type": "markdown",
   "id": "12d6decf",
   "metadata": {},
   "source": [
    "On donne la fonction suivante, qui permet d'obtenir une représentation de l'énergie des pixels d'une image. Les pixels qui apparaissent en blanc ont une faible énergie, ceux qui apparaissent en noir ont une forte énergie."
   ]
  },
  {
   "cell_type": "code",
   "execution_count": null,
   "id": "55ee9755",
   "metadata": {},
   "outputs": [],
   "source": [
    "def image_energies(image):\n",
    "    tab_en = tableau_energies(image)\n",
    "    en_max = 0\n",
    "    for x in range(image.width):\n",
    "        for y in range(image.height):\n",
    "            if en_max < tab_en[y][x]:\n",
    "                en_max = tab_en[y][x]\n",
    "    image_en = image.copy()\n",
    "    for x in range(image.width):\n",
    "        for y in range(image.height):\n",
    "            rvb = int(255 * (1 - tab_en[y][x] / en_max))\n",
    "            image_en.putpixel((x, y), (rvb, rvb, rvb))\n",
    "    return image_en"
   ]
  },
  {
   "cell_type": "code",
   "execution_count": null,
   "id": "b94c2193",
   "metadata": {},
   "outputs": [],
   "source": [
    "image_energies(image)"
   ]
  },
  {
   "cell_type": "markdown",
   "id": "cb41f3ae",
   "metadata": {},
   "source": [
    "### Détermination de la couture d'énergie minimale\n",
    "\n",
    "Déf de _couture_"
   ]
  },
  {
   "cell_type": "code",
   "execution_count": null,
   "id": "008274af",
   "metadata": {},
   "outputs": [],
   "source": [
    "def recherche_min_dessous(tab, x, y):\n",
    "    L = [(tab[y+1][a][0], a) for a in range(x-1, x+2) if a in range(len(tab[y]))]\n",
    "    val_min, x_min = L[0][0], L[0][1]\n",
    "    for k in range(1, len(L)):\n",
    "        if L[k][0] < val_min:\n",
    "            val_min, x_min = L[k][0], L[k][1]\n",
    "    return val_min, x_min"
   ]
  },
  {
   "cell_type": "markdown",
   "id": "1da20555",
   "metadata": {},
   "source": [
    "Couture minimale avec programmation dynamique"
   ]
  },
  {
   "cell_type": "code",
   "execution_count": null,
   "id": "fd21a885",
   "metadata": {},
   "outputs": [],
   "source": [
    "def couture_min(image):\n",
    "    largeur = image.width\n",
    "    hauteur = image.height\n",
    "    tab_en = tableau_energies(image)\n",
    "    for x in range(largeur):\n",
    "        tab_en[hauteur-1][x] = (tab_en[hauteur-1][x], None)\n",
    "    for y in range(hauteur-2, -1, -1):\n",
    "        for x in range(largeur):\n",
    "            val_min, x_min = recherche_min_dessous(tab_en, x, y)\n",
    "            tab_en[y][x] = (val_min + tab_en[y][x], x_min)\n",
    "    val_min, x_min = tab_en[0][0][0], 0\n",
    "    for x in range(1, largeur):\n",
    "        if tab_en[0][x][0] < val_min:\n",
    "            val_min, x_min = tab_en[0][x][0], x\n",
    "    x = x_min\n",
    "    couture = [(x_min, 0)]\n",
    "    for y in range(hauteur-1):\n",
    "        x = tab_en[y][x][1]\n",
    "        couture.append((x, y+1))\n",
    "    return couture"
   ]
  },
  {
   "cell_type": "markdown",
   "id": "ded59025",
   "metadata": {},
   "source": [
    "### Redimensionnement de l'image\n",
    "\n",
    "Suppression d'une couture"
   ]
  },
  {
   "cell_type": "code",
   "execution_count": null,
   "id": "5e215650",
   "metadata": {},
   "outputs": [],
   "source": [
    "def retirer_couture(image, couture):\n",
    "    largeur = image.width\n",
    "    hauteur = image.height\n",
    "    for (x, y) in couture:\n",
    "        for xx in range(x, largeur - 1):\n",
    "            image.putpixel((xx, y), image.getpixel((xx+1, y)))\n",
    "    return image.crop((0, 0, largeur-1, hauteur))"
   ]
  },
  {
   "cell_type": "markdown",
   "id": "f7306972",
   "metadata": {},
   "source": [
    "### Test"
   ]
  },
  {
   "cell_type": "code",
   "execution_count": null,
   "id": "2a324b7e",
   "metadata": {},
   "outputs": [],
   "source": [
    "image = charger_image('https://ntoulzac.github.io/Cours-NSI-Terminale/prog_dyn/images/seam_carv_acropole0.png')\n",
    "image  # Affichage de l'image"
   ]
  },
  {
   "cell_type": "code",
   "execution_count": null,
   "id": "c482735c",
   "metadata": {},
   "outputs": [],
   "source": [
    "for _ in range(20):\n",
    "    image = retirer_couture(image, couture_min(image))"
   ]
  },
  {
   "cell_type": "code",
   "execution_count": null,
   "id": "cca53deb",
   "metadata": {},
   "outputs": [],
   "source": [
    "image"
   ]
  },
  {
   "cell_type": "code",
   "execution_count": null,
   "id": "b1a7421c",
   "metadata": {},
   "outputs": [],
   "source": []
  }
 ],
 "metadata": {
  "kernelspec": {
   "display_name": "Python 3 (ipykernel)",
   "language": "python",
   "name": "python3"
  },
  "language_info": {
   "codemirror_mode": {
    "name": "ipython",
    "version": 3
   },
   "file_extension": ".py",
   "mimetype": "text/x-python",
   "name": "python",
   "nbconvert_exporter": "python",
   "pygments_lexer": "ipython3",
   "version": "3.9.12"
  }
 },
 "nbformat": 4,
 "nbformat_minor": 5
}
