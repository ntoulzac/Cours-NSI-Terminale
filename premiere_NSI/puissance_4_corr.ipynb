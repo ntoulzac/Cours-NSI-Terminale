{
 "cells": [
  {
   "cell_type": "markdown",
   "metadata": {},
   "source": [
    "# Mini projet : Puissance 4\n",
    "\n",
    "## Présentation du jeu\n",
    "\n",
    "Le *Puissance 4* est un jeu à deux joueurs qui se joue sur une grille de six lignes et sept colonnes.\n",
    "\n",
    "A tour de rôle, chaque joueur fait tomber un pion de sa couleur dans la colonne de son choix, à condition qu'elle ne soit pas pleine.\n",
    "\n",
    "Le vainqueur est le premier joueur qui aligne quatre pions de sa couleur (horizontalement, verticalement ou en diagonale). La partie est nulle si la grille est totalement remplie sans qu'aucun joueur ne gagne.\n",
    "\n",
    "## Représentation de la grille de jeu\n",
    "\n",
    "On propose de représenter la grille de jeu par un tableau à deux dimensions appelé ``grille`` :\n",
    "- les six éléments de ``grille`` sont des tableaux représentant les lignes de la grille de jeu,\n",
    "- les sept élements de chaque ligne contiennent l'entier ``0`` pour une case vide, ``1`` pour un pion du joueur 1 et ``2`` pour un pion du joueur 2.\n",
    "\n",
    "**Question 1 :** Ecrire une fonction ``grille_vide`` qui retourne un tableau de six lignes et sept colonnes dont tous les éléments sont ``0``."
   ]
  },
  {
   "cell_type": "code",
   "execution_count": null,
   "metadata": {},
   "outputs": [],
   "source": [
    "def grille_vide():\n",
    "    \"\"\"\n",
    "    Renvoie une grille vide (6 lignes et 7 colonnes)\n",
    "    - Sortie : (tableau à deux dimensions)\n",
    "    \"\"\"\n",
    "    return [[0 for _ in range(7)] for _ in range(6)]"
   ]
  },
  {
   "cell_type": "markdown",
   "metadata": {},
   "source": [
    "**Question 2 :** Ecrire une fonction ``afficher`` qui prend en paramètre d'entrée un tableau ``g`` de six lignes et sept colonnes et qui affiche la grille à l'écran. Le caractère ``.`` représentera une case vide, ``X`` un pion du premier joueur et `O` un pion du second joueur. On prendra soin de bien afficher la première ligne du tableau en bas et la dernière en haut."
   ]
  },
  {
   "cell_type": "code",
   "execution_count": null,
   "metadata": {},
   "outputs": [],
   "source": [
    "def afficher(g):\n",
    "    \"\"\"\n",
    "    Affiche une grille à l'écran.\n",
    "    - Entrée : g (tableau à deux dimensions)\n",
    "    - Effet de bord : affichage à l'écran\n",
    "    \"\"\"\n",
    "    for l in range(len(g)-1, -1, -1):\n",
    "        for c in range(len(g[l])):\n",
    "            if g[l][c] == 0:\n",
    "                print('.', end = '   ')\n",
    "            elif g[l][c] == 1:\n",
    "                print('X', end = '   ')\n",
    "            if g[l][c] == 2:\n",
    "                print('O', end = '   ')\n",
    "        print('\\n')"
   ]
  },
  {
   "cell_type": "markdown",
   "metadata": {},
   "source": [
    "## Ajout d'un pion dans la grille\n",
    "\n",
    "**Question 3 :** Ecrire une fonction ``coup_possible`` qui prend en paramètres d'entrée un tableau ``g`` (correspondant à la grille de jeu) et un entier ``c`` et qui retourne un booléen indiquant s'il est possible d'ajouter un pion dans la colonne ``c``."
   ]
  },
  {
   "cell_type": "code",
   "execution_count": null,
   "metadata": {},
   "outputs": [],
   "source": [
    "def coup_possible(g, c):\n",
    "    \"\"\"\n",
    "    Vérifie si un coup est jouable dans une colonne donnée.\n",
    "    - Entrées : g (tableau à deux dimensions), c (entier, numéro de colonne)\n",
    "    - Sortie : (booléen, True si le coup est possible, False sinon)\n",
    "    \"\"\"\n",
    "    if c in range(7):\n",
    "        return g[5][c] == 0\n",
    "    else:\n",
    "        return False"
   ]
  },
  {
   "cell_type": "markdown",
   "metadata": {},
   "source": [
    "**Question 4 :** Ecrire une fonction ``jouer`` qui prend en paramètres d'entrée un tableau ``g`` (correspondant à la grille de jeu), un entier ``j`` (correspondant au numéro du joueur prêt à jouer) et un entier ``c`` et qui modifie la grille de jeu en ajoutant un pion dans la colonne ``c``, en supposant qu'elle n'est pas pleine."
   ]
  },
  {
   "cell_type": "code",
   "execution_count": null,
   "metadata": {},
   "outputs": [],
   "source": [
    "def jouer(g, j, c):\n",
    "    \"\"\"\n",
    "    Place un pion au sommet d'une colonne donnée.\n",
    "    - Entrées : g (tableau à deux dimensions), j (entier, numéro du joueur), c (entier, numéro de colonne)\n",
    "    - Effet : modification de la grille\n",
    "    \"\"\"\n",
    "    l = 0\n",
    "    while g[l][c] != 0:\n",
    "        l = l + 1\n",
    "    g[l][c] = j"
   ]
  },
  {
   "cell_type": "markdown",
   "metadata": {},
   "source": [
    "## Recherche d'un vainqueur\n",
    "\n",
    "**Question 5 :** Ecrire trois fonctions ``horiz``, ``vert`` et ``diag`` qui prennent chacune en paramètres d'entrée un tableau ``g`` (correspondant à la grille de jeu), un entier ``j`` (correspondant à un numéro de joueur) et deux entiers ``l`` et ``c`` (correspondant à un numéro de ligne et un numéro de colonne) et qui déterminent respectivement s'il y a un alignement horizontal, vertical ou diagonal de quatre points du joueur ``j`` à partir de la case située sur la ligne ``l`` et dans la colonne ``c``."
   ]
  },
  {
   "cell_type": "code",
   "execution_count": null,
   "metadata": {},
   "outputs": [],
   "source": [
    "def horiz(g, j, l, c):\n",
    "    \"\"\"\n",
    "    Vérifie la présence éventuelle d'un alignement horizontal de quatre pions.\n",
    "    - Entrées : g (tableau à deux dimensions), j (entier, numéro d'un joueur),\n",
    "                l, c (entiers, coordonnées de la case à partir de laquelle on recherche un alignement horizontal)\n",
    "    - Sortie : (booléen, True si un alignement de quatre pions identiques est présent, False sinon)\n",
    "    \"\"\"\n",
    "    for k in range(4):\n",
    "        if g[l][c + k] != j:\n",
    "            return False\n",
    "    return True\n",
    "\n",
    "def vert(g, j, l, c):\n",
    "    \"\"\"\n",
    "    Vérifie la présence éventuelle d'un alignement vertical de quatre pions.\n",
    "    - Entrées : g (tableau à deux dimensions), j (entier, numéro d'un joueur),\n",
    "                l, c (entiers, coordonnées de la case à partir de laquelle on recherche un alignement vertical)\n",
    "    - Sortie : (booléen, True si un alignement de quatre pions identiques est présent, False sinon)\n",
    "    \"\"\"\n",
    "    for k in range(4):\n",
    "        if g[l + k][c] != j:\n",
    "            return False\n",
    "    return True\n",
    "\n",
    "def diag(g, j, l, c):\n",
    "    \"\"\"\n",
    "    Vérifie la présence éventuelle d'un alignement diagonal de quatre pions.\n",
    "    - Entrées : g (tableau à deux dimensions), j (entier, numéro d'un joueur),\n",
    "                l, c (entiers, coordonnées de la case à partir de laquelle on recherche un alignement diagonal)\n",
    "    - Sortie : (booléen, True si un alignement de quatre pions identiques est présent, False sinon)\n",
    "    \"\"\"\n",
    "    if l <= 2:\n",
    "        for k in range(4):\n",
    "            if g[l + k][c + k] != j:\n",
    "                return False\n",
    "        return True\n",
    "    if l >= 3:\n",
    "        for k in range(4):\n",
    "            if g[l - k][c + k] != j:\n",
    "                return False\n",
    "        return True"
   ]
  },
  {
   "cell_type": "markdown",
   "metadata": {},
   "source": [
    "**Question 6 :** Ecrire une fonction ``victoire`` qui prend en paramètres d'entrée un tableau ``g`` (correspondant à la grille de jeu) et un entier ``j`` (correspondant à un numéro de joueur) et qui retourne ``True`` si le joueur ``j`` a gagné et ``False`` sinon."
   ]
  },
  {
   "cell_type": "code",
   "execution_count": null,
   "metadata": {},
   "outputs": [],
   "source": [
    "def victoire(g, j):\n",
    "    \"\"\"\n",
    "    Vérifie si un joueur a gagné.\n",
    "    - Entrées : g (tableau à deux dimensions), j (entier, numéro d'un joueur)\n",
    "    - Sortie : (booléen, True si le joueur a gagné, False sinon)\n",
    "    \"\"\"\n",
    "    for l in range(6):\n",
    "        for c in range(4):\n",
    "            if horiz(g, j, l, c) or diag(g, j, l, c):\n",
    "                return True\n",
    "    for l in range(3):\n",
    "        for c in range(7):\n",
    "            if vert(g, j, l, c):\n",
    "                return True"
   ]
  },
  {
   "cell_type": "markdown",
   "metadata": {},
   "source": [
    "**Question 7 :** Ecrire une fonction ``match_nul`` qui prend en paramètre d'entrée un tableau ``g`` (correspondant à la grille de jeu) et qui renvoie ``True`` si la grille est totalement remplie et ``False`` sinon."
   ]
  },
  {
   "cell_type": "code",
   "execution_count": null,
   "metadata": {},
   "outputs": [],
   "source": [
    "def match_nul(g):\n",
    "    \"\"\"\n",
    "    Détermine si la partie se termine sur un match nul (aucun coup jouable).\n",
    "    - Entrée : g (tableau à deux dimensions)\n",
    "    - Sortie : (booléen, True si la grille est pleine, False sinon)\n",
    "    \"\"\"\n",
    "    for c in range(7):\n",
    "        if g[5][c] == 0:\n",
    "            return False\n",
    "    return True"
   ]
  },
  {
   "cell_type": "markdown",
   "metadata": {},
   "source": [
    "## Programme principal\n",
    "\n",
    "**Question 8 :** Ecrire le programme principal permettant de jouer une partie de Puissance 4 :\n",
    "- la grille est vide au départ,\n",
    "- les joueurs déposent l'un après l'autre un pion dans une colonne qui n'est pas pleine,\n",
    "- le nom du vainqueur, ou le message \"Match nul\", s'affiche à la fin de la partie."
   ]
  },
  {
   "cell_type": "code",
   "execution_count": null,
   "metadata": {},
   "outputs": [],
   "source": [
    "grille = grille_vide()\n",
    "joueur = 1\n",
    "partie_terminee = False\n",
    "while not partie_terminee:\n",
    "    afficher(grille)\n",
    "    choix_colonne = int(input('Au tour du joueur ' + str(joueur) + ', dans quelle colonne jouez-vous ? '))\n",
    "    while not coup_possible(grille, choix_colonne):\n",
    "        choix_colonne = int(input('Coup impossible ! Dans quelle colonne jouez-vous ? '))\n",
    "    jouer(grille, joueur, choix_colonne)\n",
    "    if victoire(grille, joueur):\n",
    "        afficher(grille)\n",
    "        print('Victoire du joueur ' + str(joueur) + ' !')\n",
    "        partie_terminee = True\n",
    "    elif match_nul(grille):\n",
    "        afficher(grille)\n",
    "        print('Match nul !')\n",
    "        partie_terminee = True\n",
    "    if joueur == 1:\n",
    "        joueur = 2\n",
    "    else:\n",
    "        joueur = 1"
   ]
  },
  {
   "cell_type": "markdown",
   "metadata": {},
   "source": [
    "## Bonus\n",
    "\n",
    "On donne les lignes de code permettant d'ouvrir une fenêtre *Pygame* et deux fonctions ``afficher_pion`` et ``lire_clic_colonne``."
   ]
  },
  {
   "cell_type": "code",
   "execution_count": null,
   "metadata": {},
   "outputs": [],
   "source": [
    "def afficher_dans_fenetre(fen, g):\n",
    "    \"\"\"\n",
    "    Affiche la grille de jeu (pion rouge pour joueur 1, bleu pour joueur 2) dans la fenetre fen\n",
    "    - Entrées : fen (fenêtre Pygame), g (tableau de 6 lignes et 7 colonnes)\n",
    "    - Effet de bord : modification de la fenêtre Pygame\n",
    "    \"\"\"\n",
    "    for l in range(6):\n",
    "        for c in range(7):\n",
    "            if g[l][c] != 0:\n",
    "                if g[l][c] == 1:\n",
    "                    couleur = (255, 0, 0)\n",
    "                else:\n",
    "                    couleur = (0, 0, 255)\n",
    "                pygame.draw.circle(fen, couleur, (int((c+0.5)*taille_case), int((6-l-0.5)*taille_case)), int(0.4*taille_case))\n",
    "    pygame.display.update()"
   ]
  },
  {
   "cell_type": "code",
   "execution_count": null,
   "metadata": {},
   "outputs": [],
   "source": [
    "def lire_clic_colonne():\n",
    "    \"\"\"\n",
    "    Attend que le joueur clique sur une colonne puis renvoie son numéro\n",
    "    - Sortie : (entier compris entre 0 et 6)\n",
    "    Attention : le programme est suspendu dans l'attente d'un clic\n",
    "    \"\"\"\n",
    "    while True:\n",
    "        pygame.time.Clock().tick(30)\n",
    "        for event in pygame.event.get():\n",
    "            if event.type == QUIT:\n",
    "                pygame.quit()\n",
    "            elif event.type == MOUSEBUTTONDOWN:\n",
    "                x, y = pygame.mouse.get_pos()\n",
    "                return x // taille_case"
   ]
  },
  {
   "cell_type": "markdown",
   "metadata": {},
   "source": [
    "**Question 9 :** Recopier et modifier le programme principal pour que la partie de *Puissance 4* se joue dans une fenêtre graphique."
   ]
  },
  {
   "cell_type": "code",
   "execution_count": null,
   "metadata": {},
   "outputs": [],
   "source": [
    "import pygame\n",
    "from pygame.locals import QUIT, MOUSEBUTTONDOWN\n",
    "\n",
    "# Ouverture de la fenêtre graphique et affichage d'une grille vide\n",
    "taille_case = 80\n",
    "pygame.init()\n",
    "fenetre = pygame.display.set_mode((7*taille_case, 6*taille_case))\n",
    "fenetre.fill((255, 255, 255))\n",
    "for l in range(1, 6):\n",
    "    pygame.draw.line(fenetre, (0, 0, 0), (0, l*taille_case), (7*taille_case, l*taille_case))\n",
    "for c in range(1, 7):\n",
    "    pygame.draw.line(fenetre, (0, 0, 0), (c*taille_case, 0), (c*taille_case, 6*taille_case))\n",
    "pygame.display.flip()\n",
    "\n",
    "grille = grille_vide()\n",
    "joueur = 1\n",
    "partie_terminee = False\n",
    "while not partie_terminee:\n",
    "    afficher_dans_fenetre(fenetre, grille)\n",
    "    choix_colonne = lire_clic_colonne()\n",
    "    while not coup_possible(grille, choix_colonne):\n",
    "        choix_colonne = lire_clic_colonne()\n",
    "    jouer(grille, joueur, choix_colonne)\n",
    "    if victoire(grille, joueur):\n",
    "        afficher_dans_fenetre(fenetre, grille)\n",
    "        print('Victoire du joueur ' + str(joueur) + ' !')\n",
    "        partie_terminee = True\n",
    "    elif match_nul(grille):\n",
    "        afficher_dans_fenetre(fenetre, grille)\n",
    "        print('Match nul !')\n",
    "        partie_terminee = True\n",
    "    if joueur == 1:\n",
    "        joueur = 2\n",
    "    else:\n",
    "        joueur = 1\n",
    "pygame.quit()"
   ]
  },
  {
   "cell_type": "markdown",
   "metadata": {},
   "source": [
    "<div>\n",
    "    <img src=\"https://ntoulzac.github.io/Cours-NSI-Terminale/premiere_NSI/Images/puissance4.png\" width = 560></td>\n",
    "</div>"
   ]
  }
 ],
 "metadata": {
  "kernelspec": {
   "display_name": "Python 3 (ipykernel)",
   "language": "python",
   "name": "python3"
  },
  "language_info": {
   "codemirror_mode": {
    "name": "ipython",
    "version": 3
   },
   "file_extension": ".py",
   "mimetype": "text/x-python",
   "name": "python",
   "nbconvert_exporter": "python",
   "pygments_lexer": "ipython3",
   "version": "3.9.12"
  }
 },
 "nbformat": 4,
 "nbformat_minor": 2
}
