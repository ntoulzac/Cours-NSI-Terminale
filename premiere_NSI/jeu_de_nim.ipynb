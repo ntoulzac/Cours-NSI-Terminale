{
 "cells": [
  {
   "cell_type": "markdown",
   "id": "2aa2afae",
   "metadata": {},
   "source": [
    "# Mini-projet : Jeux de Nim\n",
    "\n",
    "Les [jeux de Nim](https://fr.wikipedia.org/wiki/Jeux_de_Nim) sont des jeux de stratégie qui se jouent par exemple avec des allumettes.\n",
    "\n",
    "## Partie A - Avec un seul tas d'allumettes et deux joueurs/joueuses\n",
    "\n",
    "L'objectif est d'écrire un programme pour jouer une partie avec les règles suivantes :\n",
    "- Il y a deux joueurs ou joueuses, et un seul tas d'allumettes.\n",
    "- Lorsque c'est à son tour de jouer, le joueur ou la joueuse retire 1, 2 ou 3 allumettes du tas.\n",
    "- Celui ou celle qui prend la dernière allumette a gagné.\n",
    "\n",
    "**Question 1 :** Définir une procédure `afficher` qui prend en paramètre d'entrée un entier `nb_allumettes` et qui affiche à l'écran l'alignement des allumettes.\n",
    "\n",
    "Par exemple, l'appel `afficher(15)` doit provoquer l'affichage suivant :\n",
    "\n",
    "```\n",
    "| | | | | | | | | | | | | | | \n",
    "```"
   ]
  },
  {
   "cell_type": "code",
   "execution_count": null,
   "id": "5cb39463",
   "metadata": {},
   "outputs": [],
   "source": []
  },
  {
   "cell_type": "markdown",
   "id": "40d58b69",
   "metadata": {},
   "source": [
    "**Question 2 :** Définir une fonction `saisir_entier` qui prend en paramètre d'entrée deux entiers `val_min` et `val_max`, qui demande la saisie au clavier d'un entier compris entre `val_min` et `val_max` et qui renvoie en sortie la valeur saisie.\n",
    "\n",
    "_Remarque :_ Si la valeur saisie n'est pas comprise dans le bon intervalle, une nouvelle saisie est demandée."
   ]
  },
  {
   "cell_type": "code",
   "execution_count": null,
   "id": "93723942",
   "metadata": {},
   "outputs": [],
   "source": []
  },
  {
   "cell_type": "markdown",
   "id": "1db7836f",
   "metadata": {},
   "source": [
    "**Question 3 :** Définir une procédure `partie` qui prend en paramètre d'entrée un entier `taille_tas` (le tas d'allumettes au début de la partie) et qui joue une partie du jeu de Nim selon les règles définies précédemment.\n",
    "\n",
    "Par exemple, l'appel `partie(10)` peut provoquer les affichages suivants :\n",
    "\n",
    "```\n",
    "Quel est le nom du premier joueur ? Hermès\n",
    "Quel est le nom du second joueur ? Athéna\n",
    "\n",
    "| | | | | | | | | | \n",
    "Au tour du joueur 1\n",
    "Combien d'allumettes voulez-vous retirer ? 3\n",
    "\n",
    "| | | | | | | \n",
    "Au tour du joueur 2\n",
    "Combien d'allumettes voulez-vous retirer ? 3\n",
    "\n",
    "| | | | \n",
    "Au tour du joueur 1\n",
    "Combien d'allumettes voulez-vous retirer ? 1\n",
    "\n",
    "| | | \n",
    "Au tour du joueur 2\n",
    "Combien d'allumettes voulez-vous retirer ? 3\n",
    "\n",
    "\n",
    "Victoire de Athéna\n",
    "```"
   ]
  },
  {
   "cell_type": "code",
   "execution_count": null,
   "id": "005cc533",
   "metadata": {},
   "outputs": [],
   "source": []
  },
  {
   "cell_type": "markdown",
   "id": "8edb11d2",
   "metadata": {},
   "source": [
    "## Partie B - Avec un seul tas d'allumettes et un joueur ou une joueuse contre l'ordinateur\n",
    "\n",
    "**Question 4 :** Recopier et modifier le code de la procédure `partie` pour que le joueur ou la joueuse unique affronte l'ordinateur.\n",
    "\n",
    "Deux possibilités :\n",
    "- _assez facile_ : l'ordinateur joue au hasard.\n",
    "\n",
    "```\n",
    "Quel est le nom du joueur ? Athéna\n",
    "\n",
    "| | | | | | | | | | \n",
    "Au tour du joueur\n",
    "Combien d'allumettes voulez-vous retirer ? 2\n",
    "\n",
    "| | | | | | | | \n",
    "L'ordinateur retire 3 allumette(s).\n",
    "\n",
    "| | | | | \n",
    "Au tour du joueur\n",
    "Combien d'allumettes voulez-vous retirer ? 1\n",
    "\n",
    "| | | | \n",
    "L'ordinateur retire 2 allumette(s).\n",
    "\n",
    "| | \n",
    "Au tour du joueur\n",
    "Combien d'allumettes voulez-vous retirer ? 2\n",
    "\n",
    "\n",
    "Bravo, vous avez gagné !\n",
    "```"
   ]
  },
  {
   "cell_type": "code",
   "execution_count": null,
   "id": "81118e3b",
   "metadata": {},
   "outputs": [],
   "source": []
  },
  {
   "cell_type": "markdown",
   "id": "d9b4cb29",
   "metadata": {},
   "source": [
    "- _plus difficile_ : l'ordinateur joue le meilleur coup possible.\n",
    "\n",
    "```\n",
    "Quel est le nom du joueur ? Hermès\n",
    "\n",
    "| | | | | | | | | | \n",
    "Au tour du joueur\n",
    "Combien d'allumettes voulez-vous retirer ? 1\n",
    "\n",
    "| | | | | | | | | \n",
    "L'ordinateur retire 1 allumette(s).\n",
    "\n",
    "| | | | | | | | \n",
    "Au tour du joueur\n",
    "Combien d'allumettes voulez-vous retirer ? 3\n",
    "\n",
    "| | | | | \n",
    "L'ordinateur retire 1 allumette(s).\n",
    "\n",
    "| | | | \n",
    "Au tour du joueur\n",
    "Combien d'allumettes voulez-vous retirer ? 2\n",
    "\n",
    "| | \n",
    "L'ordinateur retire 2 allumette(s).\n",
    "\n",
    "\n",
    "Dommage, vous avez perdu !\n",
    "```"
   ]
  },
  {
   "cell_type": "code",
   "execution_count": null,
   "id": "5038dd08",
   "metadata": {},
   "outputs": [],
   "source": []
  }
 ],
 "metadata": {
  "kernelspec": {
   "display_name": "Python 3",
   "language": "python",
   "name": "python3"
  },
  "language_info": {
   "codemirror_mode": {
    "name": "ipython",
    "version": 3
   },
   "file_extension": ".py",
   "mimetype": "text/x-python",
   "name": "python",
   "nbconvert_exporter": "python",
   "pygments_lexer": "ipython3",
   "version": "3.8.8"
  }
 },
 "nbformat": 4,
 "nbformat_minor": 5
}
