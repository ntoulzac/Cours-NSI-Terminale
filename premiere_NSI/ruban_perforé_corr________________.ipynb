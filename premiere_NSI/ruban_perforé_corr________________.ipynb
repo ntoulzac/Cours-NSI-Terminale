{
 "cells": [
  {
   "cell_type": "markdown",
   "id": "2aa2afae",
   "metadata": {},
   "source": [
    "# Mini-projet : Ruban perforé\n",
    "\n",
    "Un [ruban perforé](https://fr.wikipedia.org/wiki/Ruban_perfor%C3%A9) est un support ayant permis de stocker de grandes quantités de données aux débuts de l'informatique.\n",
    "\n",
    "Il se présente sous la forme d'un long ruban de papier percé de trous circulaires.\n",
    "\n",
    "![Exemple de ruban perforé](https://ntoulzac.github.io/Cours-NSI-Terminale/premiere_NSI/Images/ruban_long.png)\n",
    "\n",
    "## Partie A - Lecture à la main d'un court message\n",
    "\n",
    "L'objectif de cette première partie est de comprendre le fonctionnement d'un ruban perforé et de trouver quel message est stocké sur le morceau suivant :\n",
    "\n",
    "![Autre exemple de ruban perforé](https://ntoulzac.github.io/Cours-NSI-Terminale/premiere_NSI/Images/ruban_court.png)\n",
    "\n",
    "Sur chaque ruban se trouve un alignement de petits trous qui permettent de faire défiler le ruban. Ces trous, représentés en gris clair sur le dessin, ne codent aucune information et ne sont donc pas à prendre en compte.\n",
    "\n",
    "Chaque caractère du message est représenté par une colonne, par exemple celle qui est encadrée en rouge sur le dessin. Sur chaque colonne se trouvent sept emplacements qui peuvent être troués ou non et qui représentent les sept bits de l'écriture binaire d'un nombre compris entre 0 et 127.\n",
    "\n",
    "Les bits sont positionnés de haut en bas par poids croissant : le bit de poids le plus faible est en haut et le bit de poids le plus fort est en bas. Un trou correspond à un `1` et une absence de trou correspond à un `0`.\n",
    "\n",
    "Dans le cadre rouge, par exemple, on peut lire les sept bits `1000010` puisqu'il n'y a que deux trous (en première et en avant dernière positions).\n",
    "\n",
    "Il ne reste plus qu'à retrouver quel entier a pour écriture binaire `1000010` : c'est l'entier `66`. Enfin, le caractère associé se lit dans la table ASCII : c'est la lettre `'B'`.\n",
    "\n",
    "**Question 1 :** Le deuxième caractère du message est encodé par l'entier `1110010` écrit en binaire. Quelle est la valeur décimale de ce nombre et à quel caractère correspond-il dans la table ASCII ?"
   ]
  },
  {
   "cell_type": "markdown",
   "id": "1f7ab100",
   "metadata": {},
   "source": [
    "**Réponse :** `1110010` est l'écriture binaire de l'entier `114` car $64 + 32 + 16 + 2 = 114$. Le caractère correspondant à l'entier `114` dans la table ASCII est `'r'`."
   ]
  },
  {
   "cell_type": "markdown",
   "id": "e36991e6",
   "metadata": {},
   "source": [
    "**Question 2 :** Retrouver le message complet stocké sur ce ruban, en expliquant votre démarche."
   ]
  },
  {
   "cell_type": "markdown",
   "id": "326513e1",
   "metadata": {},
   "source": [
    "**Réponse :** Nous avons déjà vu que les deux premiers caractères sont `'Br'`.\n",
    "\n",
    "Le troisième caractère est associé à l'entier `1000001` écrit en binaire. $64 + 1 = 65$ et l'entier `65` correspond au caractère `'A'` dans la table ASCII.\n",
    "\n",
    "Le quatrième caractère est associé à l'entier `1110110` écrit en binaire. $64 + 32 + 16 + 4 + 2 = 118$ et l'entier `118` correspond au caractère `'v'` dans la table ASCII.\n",
    "\n",
    "Le cinquième caractère est associé à l'entier `1101111` écrit en binaire. $127 - 16 = 111$ et l'entier `111` correspond au caractère `'o'` dans la table ASCII.\n",
    "\n",
    "Le message complet est donc `'BrAvo'`."
   ]
  },
  {
   "cell_type": "markdown",
   "id": "0195b5ad",
   "metadata": {},
   "source": [
    "## Partie B - Lecture automatisée d'un long message\n",
    "\n",
    "L'objectif de cette seconde partie est d'automatiser la lecture pour pouvoir déchiffrer des rubans beaucoup plus longs.\n",
    "\n",
    "On utilisera le module `PIL` qui peut être installé si nécessaire en exécutant la cellule suivante :"
   ]
  },
  {
   "cell_type": "code",
   "execution_count": null,
   "id": "c6aa6449",
   "metadata": {},
   "outputs": [],
   "source": [
    "import sys\n",
    "!{sys.executable} -m pip install Pillow"
   ]
  },
  {
   "cell_type": "markdown",
   "id": "a2ab864f",
   "metadata": {},
   "source": [
    "On donne une première fonction."
   ]
  },
  {
   "cell_type": "code",
   "execution_count": 1,
   "id": "530a2c27",
   "metadata": {},
   "outputs": [],
   "source": [
    "from PIL import Image\n",
    "\n",
    "def est_sombre(pixel):\n",
    "    \"\"\"\n",
    "    Détermine si un pixel est sombre ou pas.\n",
    "    - Entrée : pixel (p-uplet constitué de trois entiers compris entre 0 et 255, composantes RVB d'un pixel)\n",
    "    - Sortie : (booléen, True si le pixel est sombre, False sinon)\n",
    "    \"\"\"\n",
    "    return pixel[0] + pixel[1] + pixel[2] < 200"
   ]
  },
  {
   "cell_type": "markdown",
   "id": "736ed851",
   "metadata": {},
   "source": [
    "**Question 3 :** Dans les fichiers PNG où sont stockées les images de ruban, les composantes RVB du gris utilisé pour dessiner les trous sont `(64, 64, 64)`. Justifier ce que renvoie la fonction `est_sombre` pour un pixel situé dans un trou."
   ]
  },
  {
   "cell_type": "markdown",
   "id": "36817da2",
   "metadata": {},
   "source": [
    "**Réponse :** Si les trois composantes RVB du pixel sont égales à `64`,  leur somme `pixel[0] + pixel[1] + pixel[2]` vaut `192` et est donc strictement inférieure à `200`. La fonction `est_sombre` renvoie donc `True` dans ce cas."
   ]
  },
  {
   "cell_type": "markdown",
   "id": "07ecc65e",
   "metadata": {},
   "source": [
    "On donne deux autres fonctions."
   ]
  },
  {
   "cell_type": "code",
   "execution_count": 2,
   "id": "f5cea1cc",
   "metadata": {},
   "outputs": [],
   "source": [
    "def lecture_bits_colonne(image, n):\n",
    "    \"\"\"\n",
    "    Détermine la position des trous sur une colonne du ruban et renvoie les sept bits correspondants.\n",
    "    - Entrées : image (instance de la classe PIL.Image), n (entier, numéro de colonne sur le ruban)\n",
    "    - Sortie : chaine (chaîne de caractères correspondant à l'écriture binaire d'un entier sur sept bits)\n",
    "    \"\"\"\n",
    "    chaine = \"\"\n",
    "    for k in range(8):\n",
    "        if k != 3:\n",
    "            if est_sombre(image.getpixel((315 + 120*n, 140 + 120*k))):\n",
    "                chaine = \"1\" + chaine\n",
    "            else:\n",
    "                chaine = \"0\" + chaine\n",
    "    return chaine\n",
    "\n",
    "def ruban_vers_tableau(nom_de_fichier):\n",
    "    \"\"\"\n",
    "    Transforme le dessin d'un ruban en un tableau d'entiers écrits sur sept bits.\n",
    "    - Entrée : nom_de_fichier (chaîne de caractères, nom d'un fichier PNG)\n",
    "    - Sortie : (tableau de chaînes de caractères, correspondant à des entiers écrits en binaire sur sept bits)\n",
    "    \"\"\"\n",
    "    image = Image.open(nom_de_fichier)\n",
    "    largeur, hauteur = image.size\n",
    "    nb_caracteres = (largeur - 470) // 120  # longueur du message, 470 pixels de marges à gauche et à droite\n",
    "    return [lecture_bits_colonne(image, n) for n in range(nb_caracteres)]"
   ]
  },
  {
   "cell_type": "markdown",
   "id": "796e2f43",
   "metadata": {},
   "source": [
    "**Question 4 :** Expliquer le rôle des lignes `8` et `9` dans la définition de la fonction `lecture_bits_colonne`:\n",
    "\n",
    "```python\n",
    "for k in range(8):\n",
    "    if k != 3:\n",
    "```"
   ]
  },
  {
   "cell_type": "markdown",
   "id": "7ccd11d3",
   "metadata": {},
   "source": [
    "**Réponse :** La boucle (ligne `8`) permet de parcourir (de haut en bas) les huit positions où se trouve potentiellement un trou. La condition (ligne `9`) permet de ne pas tenir compte du trou en quatrième position, c'est-à-dire du petit trou dont le rôle est de faire défiler le ruban."
   ]
  },
  {
   "cell_type": "markdown",
   "id": "30cf4adc",
   "metadata": {},
   "source": [
    "**Question 5 :** Après avoir téléchargé le fichier `'ruban_long.png'` accessible [ici](https://ntoulzac.github.io/Cours-NSI-Terminale/premiere_NSI/Images/ruban_long.png), tester la fonction `ruban_vers_tableau` avec ce fichier PNG puis afficher le nombre de caractères présents sur le ruban."
   ]
  },
  {
   "cell_type": "code",
   "execution_count": 3,
   "id": "303ed4a4",
   "metadata": {},
   "outputs": [
    {
     "name": "stdout",
     "output_type": "stream",
     "text": [
      "64\n"
     ]
    }
   ],
   "source": [
    "liste = ruban_vers_tableau('ruban_long.png')\n",
    "print(len(liste))"
   ]
  },
  {
   "cell_type": "markdown",
   "id": "40cd4b62",
   "metadata": {},
   "source": [
    "Le ruban peut donc désormais être transformé en un tableau contenant des chaînes de caractères, chaque chaîne étant composée de sept bits.\n",
    "\n",
    "**Question 6 :** Définir une fonction `bits_vers_entier` qui prend en entrée une chaîne composée de sept bits et qui renvoie l'entier correspondant écrit en décimal.\n",
    "\n",
    "Par exemple, l'appel `bits_vers_entier('1000010')` doit renvoyer l'entier `66`."
   ]
  },
  {
   "cell_type": "code",
   "execution_count": 4,
   "id": "740dbb86",
   "metadata": {},
   "outputs": [],
   "source": [
    "def bits_vers_entier(bits):\n",
    "    \"\"\"\n",
    "    Donne l'écriture décimale d'un entier à partir de son écriture binaire sur sept bits.\n",
    "    - Entrée : bits (chaîne de sept caractères, '0' ou '1')\n",
    "    - Sortie : n (entier compris entre 0 et 127)\n",
    "    \"\"\"\n",
    "    n = 0\n",
    "    for k in range(7):\n",
    "        if bits[k] == '1':\n",
    "            n = n + 2**(6-k)\n",
    "    return n"
   ]
  },
  {
   "cell_type": "code",
   "execution_count": 5,
   "id": "a620062c",
   "metadata": {},
   "outputs": [],
   "source": [
    "assert bits_vers_entier('1000010') == 66, \"Problème...\""
   ]
  },
  {
   "cell_type": "markdown",
   "id": "4254933b",
   "metadata": {},
   "source": [
    "**Question 7 :** Définir une fonction `lecture_ruban` qui prend en entrée un nom de fichier PNG et qui renvoie sous forme de chaîne de caractères le message contenu dans le ruban."
   ]
  },
  {
   "cell_type": "code",
   "execution_count": 6,
   "id": "0e5e8850",
   "metadata": {},
   "outputs": [],
   "source": [
    "def lecture_ruban(nom_de_fichier):\n",
    "    \"\"\"\n",
    "    Extrait un message depuis un ruban perforé.\n",
    "    - Entrée : nom_de_ficher (chaîne de caractères, nom d'un fichier PNG)\n",
    "    - Sortie : chaine (chaîne de caractères, message extrait du ruban)\n",
    "    \"\"\"\n",
    "    chaine = \"\"\n",
    "    tab = ruban_vers_tableau(nom_de_fichier)\n",
    "    for bits in tab:\n",
    "        n = bits_vers_entier(bits)\n",
    "        chaine = chaine + chr(n)\n",
    "    return chaine"
   ]
  },
  {
   "cell_type": "code",
   "execution_count": 7,
   "id": "f67a7b24",
   "metadata": {},
   "outputs": [
    {
     "name": "stdout",
     "output_type": "stream",
     "text": [
      "BrAvo ! VoUs aVez reUssI a deChifFrer le mEssaGe Sur lE rubAn...\n"
     ]
    }
   ],
   "source": [
    "print(lecture_ruban(\"ruban_long.png\"))"
   ]
  }
 ],
 "metadata": {
  "kernelspec": {
   "display_name": "Python 3 (ipykernel)",
   "language": "python",
   "name": "python3"
  },
  "language_info": {
   "codemirror_mode": {
    "name": "ipython",
    "version": 3
   },
   "file_extension": ".py",
   "mimetype": "text/x-python",
   "name": "python",
   "nbconvert_exporter": "python",
   "pygments_lexer": "ipython3",
   "version": "3.9.13"
  }
 },
 "nbformat": 4,
 "nbformat_minor": 5
}
