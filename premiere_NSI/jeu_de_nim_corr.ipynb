{
 "cells": [
  {
   "cell_type": "markdown",
   "metadata": {},
   "source": [
    "# Mini-projet : Jeux de Nim\n",
    "\n",
    "Les [jeux de Nim](https://fr.wikipedia.org/wiki/Jeux_de_Nim) sont des jeux de stratégie qui se jouent par exemple avec des allumettes.\n",
    "\n",
    "## Partie A - Avec un seul tas d'allumettes et deux joueurs/joueuses\n",
    "\n",
    "L'objectif est d'écrire un programme pour jouer une partie avec les règles suivantes :\n",
    "- Il y a deux joueurs ou joueuses, et un seul tas d'allumettes.\n",
    "- Lorsque c'est à son tour de jouer, le joueur ou la joueuse retire 1, 2 ou 3 allumettes du tas.\n",
    "- Celui ou celle qui prend la dernière allumette a gagné.\n",
    "\n",
    "**Question 1 :** Définir une procédure `afficher` qui prend en paramètre d'entrée un entier `nb_allumettes` et qui affiche à l'écran l'alignement des allumettes.\n",
    "\n",
    "Par exemple, l'appel `afficher(15)` doit provoquer l'affichage suivant :\n",
    "\n",
    "```\n",
    "| | | | | | | | | | | | | | | \n",
    "```"
   ]
  },
  {
   "cell_type": "code",
   "execution_count": null,
   "metadata": {},
   "outputs": [],
   "source": [
    "def afficher(nb_allumettes):\n",
    "    for k in range(nb_allumettes):\n",
    "        print(\"| \", end=\"\")"
   ]
  },
  {
   "cell_type": "code",
   "execution_count": null,
   "metadata": {},
   "outputs": [],
   "source": [
    "afficher(15)"
   ]
  },
  {
   "cell_type": "markdown",
   "metadata": {},
   "source": [
    "**Question 2 :** Définir une fonction `saisir_entier` qui prend en paramètre d'entrée deux entiers `val_min` et `val_max`, qui demande la saisie au clavier d'un entier compris entre `val_min` et `val_max` et qui renvoie en sortie la valeur saisie.\n",
    "\n",
    "_Remarque :_ Si la valeur saisie n'est pas comprise dans le bon intervalle, une nouvelle saisie est demandée."
   ]
  },
  {
   "cell_type": "code",
   "execution_count": null,
   "metadata": {},
   "outputs": [],
   "source": [
    "def saisir_entier(val_min, val_max):\n",
    "    n = val_min - 1\n",
    "    while not val_min <= n <= val_max:\n",
    "        n = int(input(\"Combien d'allumettes voulez-vous retirer ? \"))\n",
    "    return n"
   ]
  },
  {
   "cell_type": "code",
   "execution_count": null,
   "metadata": {},
   "outputs": [],
   "source": [
    "print(saisir_entier(1, 3))"
   ]
  },
  {
   "cell_type": "markdown",
   "metadata": {},
   "source": [
    "**Question 3 :** Définir une procédure `partie` qui prend en paramètre d'entrée un entier `taille_tas` (le tas d'allumettes au début de la partie) et qui joue une partie du jeu de Nim selon les règles définies précédemment.\n",
    "\n",
    "Par exemple, l'appel `partie(10)` peut provoquer les affichages suivants :\n",
    "\n",
    "```\n",
    "Quel est le nom du premier joueur ? Hermès\n",
    "Quel est le nom du second joueur ? Athéna\n",
    "\n",
    "| | | | | | | | | | \n",
    "Au tour du joueur 1\n",
    "Combien d'allumettes voulez-vous retirer ? 3\n",
    "\n",
    "| | | | | | | \n",
    "Au tour du joueur 2\n",
    "Combien d'allumettes voulez-vous retirer ? 3\n",
    "\n",
    "| | | | \n",
    "Au tour du joueur 1\n",
    "Combien d'allumettes voulez-vous retirer ? 1\n",
    "\n",
    "| | | \n",
    "Au tour du joueur 2\n",
    "Combien d'allumettes voulez-vous retirer ? 3\n",
    "\n",
    "\n",
    "Victoire de Athéna\n",
    "```"
   ]
  },
  {
   "cell_type": "code",
   "execution_count": null,
   "metadata": {},
   "outputs": [],
   "source": [
    "def partie(taille_tas):\n",
    "    nom_joueur1 = input(\"Quel est le nom du premier joueur ? \")\n",
    "    nom_joueur2 = input(\"Quel est le nom du second joueur ? \")\n",
    "    nb_allumettes = taille_tas\n",
    "    afficher(nb_allumettes)\n",
    "    joueur = 2\n",
    "    while nb_allumettes > 0:\n",
    "        joueur = 3 - joueur\n",
    "        print(\"Au tour du joueur\", joueur)\n",
    "        n = saisir_entier(1, min(3, nb_allumettes))\n",
    "        nb_allumettes = nb_allumettes - n\n",
    "        afficher(nb_allumettes)\n",
    "    if joueur == 1:\n",
    "        print(\"Victoire de\", nom_joueur1)\n",
    "    else:\n",
    "        print(\"Victoire de\", nom_joueur2)"
   ]
  },
  {
   "cell_type": "code",
   "execution_count": null,
   "metadata": {},
   "outputs": [],
   "source": [
    "partie(10)"
   ]
  },
  {
   "cell_type": "markdown",
   "metadata": {},
   "source": [
    "## Partie B - Avec un seul tas d'allumettes et un joueur ou une joueuse contre l'ordinateur\n",
    "\n",
    "**Question 4 :** Recopier et modifier le code de la procédure `partie` pour que le joueur ou la joueuse unique affronte l'ordinateur.\n",
    "\n",
    "Deux possibilités :\n",
    "- _assez facile_ : l'ordinateur joue au hasard.\n",
    "\n",
    "```\n",
    "Quel est le nom du joueur ? Athéna\n",
    "\n",
    "| | | | | | | | | | \n",
    "Au tour du joueur\n",
    "Combien d'allumettes voulez-vous retirer ? 2\n",
    "\n",
    "| | | | | | | | \n",
    "L'ordinateur retire 3 allumette(s).\n",
    "\n",
    "| | | | | \n",
    "Au tour du joueur\n",
    "Combien d'allumettes voulez-vous retirer ? 1\n",
    "\n",
    "| | | | \n",
    "L'ordinateur retire 2 allumette(s).\n",
    "\n",
    "| | \n",
    "Au tour du joueur\n",
    "Combien d'allumettes voulez-vous retirer ? 2\n",
    "\n",
    "\n",
    "Bravo, vous avez gagné !\n",
    "```"
   ]
  },
  {
   "cell_type": "code",
   "execution_count": null,
   "metadata": {},
   "outputs": [],
   "source": [
    "from random import randint"
   ]
  },
  {
   "cell_type": "code",
   "execution_count": null,
   "metadata": {},
   "outputs": [],
   "source": [
    "def partie(taille_tas):\n",
    "    nom_joueur = input(\"Quel est le nom du joueur ? \")\n",
    "    nb_allumettes = taille_tas\n",
    "    afficher(nb_allumettes)\n",
    "\n",
    "    while nb_allumettes > 0:\n",
    "        print(\"Au tour du joueur\")\n",
    "        n = saisir_entier(1, min(3, nb_allumettes))\n",
    "        nb_allumettes = nb_allumettes - n\n",
    "        afficher(nb_allumettes)\n",
    "        if nb_allumettes > 0:\n",
    "            n = randint(1, min(3, nb_allumettes))\n",
    "            print(\"L'ordinateur retire\", n, \"allumette(s).\")\n",
    "            nb_allumettes = nb_allumettes - n\n",
    "            afficher(nb_allumettes)\n",
    "            if nb_allumettes == 0:\n",
    "                print(\"Dommage, vous avez perdu !\")\n",
    "        else:\n",
    "            print(\"Bravo, vous avez gagné !\")"
   ]
  },
  {
   "cell_type": "code",
   "execution_count": null,
   "metadata": {},
   "outputs": [],
   "source": [
    "partie(10)"
   ]
  },
  {
   "cell_type": "markdown",
   "metadata": {},
   "source": [
    "- _plus difficile_ : l'ordinateur joue le meilleur coup possible.\n",
    "\n",
    "```\n",
    "Quel est le nom du joueur ? Hermès\n",
    "\n",
    "| | | | | | | | | | \n",
    "Au tour du joueur\n",
    "Combien d'allumettes voulez-vous retirer ? 1\n",
    "\n",
    "| | | | | | | | | \n",
    "L'ordinateur retire 1 allumette(s).\n",
    "\n",
    "| | | | | | | | \n",
    "Au tour du joueur\n",
    "Combien d'allumettes voulez-vous retirer ? 3\n",
    "\n",
    "| | | | | \n",
    "L'ordinateur retire 1 allumette(s).\n",
    "\n",
    "| | | | \n",
    "Au tour du joueur\n",
    "Combien d'allumettes voulez-vous retirer ? 2\n",
    "\n",
    "| | \n",
    "L'ordinateur retire 2 allumette(s).\n",
    "\n",
    "\n",
    "Dommage, vous avez perdu !\n",
    "```"
   ]
  },
  {
   "cell_type": "code",
   "execution_count": null,
   "metadata": {},
   "outputs": [],
   "source": [
    "def partie(taille_tas):\n",
    "    nom_joueur = input(\"Quel est le nom du joueur ? \")\n",
    "    nb_allumettes = taille_tas\n",
    "    afficher(nb_allumettes)\n",
    "\n",
    "    while nb_allumettes > 0:\n",
    "        print(\"Au tour du joueur\")\n",
    "        n = saisir_entier(1, min(3, nb_allumettes))\n",
    "        nb_allumettes = nb_allumettes - n\n",
    "        afficher(nb_allumettes)\n",
    "        if nb_allumettes > 0:\n",
    "            n = nb_allumettes % 4\n",
    "            if n == 0:\n",
    "                n = randint(1, min(3, nb_allumettes))\n",
    "            print(\"L'ordinateur retire\", n, \"allumette(s).\")\n",
    "            nb_allumettes = nb_allumettes - n\n",
    "            afficher(nb_allumettes)\n",
    "            if nb_allumettes == 0:\n",
    "                print(\"Dommage, vous avez perdu !\")\n",
    "        else:\n",
    "            print(\"Bravo, vous avez gagné !\")"
   ]
  },
  {
   "cell_type": "code",
   "execution_count": null,
   "metadata": {},
   "outputs": [],
   "source": [
    "partie(10)"
   ]
  }
 ],
 "metadata": {
  "kernelspec": {
   "display_name": "Python 3",
   "language": "python",
   "name": "python3"
  },
  "language_info": {
   "codemirror_mode": {
    "name": "ipython",
    "version": 3
   },
   "file_extension": ".py",
   "mimetype": "text/x-python",
   "name": "python",
   "nbconvert_exporter": "python",
   "pygments_lexer": "ipython3",
   "version": "3.8.5"
  }
 },
 "nbformat": 4,
 "nbformat_minor": 5
}
