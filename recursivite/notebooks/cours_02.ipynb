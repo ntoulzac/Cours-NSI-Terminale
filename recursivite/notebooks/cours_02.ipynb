{
 "cells": [
  {
   "cell_type": "markdown",
   "metadata": {},
   "source": [
    "# Chapitre 2 : Récursivité\n",
    "\n",
    "Le but de ce chapitre est d'introduire le concept de **fonction récursive**.\n",
    "\n",
    "## Notion de fonction récursive\n",
    "\n",
    "Il s'agit d'une fonction qui fait appel à elle-même lors de son exécution.\n",
    "\n",
    "### Premier exemple : calcul de la somme des entiers compris entre `a` et `b`\n",
    "\n",
    "On suppose que `a` est inférieur à `b` et on souhaite définir une fonction\n",
    "`somme` qui calcule la somme des entiers compris entre `a` et `b`.\n",
    "\n",
    "***Première version : version itérative***\n",
    "\n",
    "Une première façon de faire est d'utiliser une boucle pour : on obtient une **version itérative** de la fonction."
   ]
  },
  {
   "cell_type": "code",
   "execution_count": null,
   "metadata": {},
   "outputs": [],
   "source": [
    "def somme(a, b):\n",
    "    \"\"\"\n",
    "    Détermine la somme des entiers compris entre a et b.\n",
    "    - Entrées : a (entier), b (entier supérieur ou égal à a)\n",
    "    - Sortie : total (entier)\n",
    "    \"\"\"\n",
    "    total = 0\n",
    "    for k in range(a, b+1):\n",
    "        total = total + k\n",
    "    return total"
   ]
  },
  {
   "cell_type": "markdown",
   "metadata": {},
   "source": [
    "_Test de la fonction_"
   ]
  },
  {
   "cell_type": "code",
   "execution_count": null,
   "metadata": {},
   "outputs": [],
   "source": [
    "somme(1, 100)"
   ]
  },
  {
   "cell_type": "markdown",
   "metadata": {},
   "source": [
    "***Seconde version : version récursive***\n",
    "\n",
    "Une autre façon de faire est de constater qu'il y a deux cas à envisager :\n",
    "            \n",
    "- Si `a == b`, cela signifie qu'il y a un seul nombre dans la liste des nombres à additionner : le nombre `a`. On renvoie donc sa valeur.\n",
    "- Si `a < b`, on calcule récursivement la somme des entiers compris entre `a+1` et `b`, on y ajoute la valeur de `a` et on renvoie le total.\n"
   ]
  },
  {
   "cell_type": "code",
   "execution_count": null,
   "metadata": {},
   "outputs": [],
   "source": [
    "def somme(a, b):\n",
    "    \"\"\"\n",
    "    Détermine la somme des entiers compris entre a et b.\n",
    "    - Entrées : a (entier), b (entier supérieur ou égal à a)\n",
    "    - Sortie : total (entier)\n",
    "    \"\"\"\n",
    "    if a == b:\n",
    "        total = a\n",
    "    else:\n",
    "        total = a + somme(a+1, b)\n",
    "    return total"
   ]
  },
  {
   "cell_type": "markdown",
   "metadata": {},
   "source": [
    "_Test de la fonction_"
   ]
  },
  {
   "cell_type": "code",
   "execution_count": null,
   "metadata": {},
   "outputs": [],
   "source": [
    "somme(1, 100)"
   ]
  },
  {
   "cell_type": "markdown",
   "metadata": {},
   "source": [
    "Ainsi définie, la fonction est une fonction récursive parce qu'elle s'appelle elle-même dans le cas où `a` est différent de `b`.\n",
    "\n",
    "On distingue deux parties dans l'écriture d'une fonction récursive :\n",
    "            \n",
    "- un (ou plusieurs) **cas résursif(s)**, dans lesquels la fonction \n",
    "fait appel à elle-même avec de nouveaux arguments,\n",
    "- un (ou plusieurs) **cas de base**, qui permet(tent) de mettre un terme\n",
    "aux appels récursifs successifs.\n",
    "\n",
    "### Deuxième exemple : calcul du produit des entiers compris entre 1 et `n`\n",
    "\n",
    "On suppose que `n` est un entier strictement positif et on souhaite définir\n",
    "une fonction `factorielle` qui calcule le produit des entiers compris entre\n",
    "1 et `n`.\n",
    "\n",
    "***Première version : version itérative***\n"
   ]
  },
  {
   "cell_type": "code",
   "execution_count": null,
   "metadata": {},
   "outputs": [],
   "source": [
    "def factorielle(n):\n",
    "    \"\"\"\n",
    "    Détermine le produit des entiers compris entre 1 et n.\n",
    "    - Entrée : n (entier strictement positif)\n",
    "    - Sortie : fac (entier)\n",
    "    \"\"\"\n",
    "    fac = 1\n",
    "    for k in range(2, n+1):\n",
    "        fac = k * fac\n",
    "    return fac"
   ]
  },
  {
   "cell_type": "markdown",
   "metadata": {},
   "source": [
    "_Test de la fonction_"
   ]
  },
  {
   "cell_type": "code",
   "execution_count": null,
   "metadata": {},
   "outputs": [],
   "source": [
    "factorielle(10)"
   ]
  },
  {
   "cell_type": "markdown",
   "metadata": {},
   "source": [
    "***Seconde version : Version récursive***\n",
    "\n",
    " Pour l'écriture de la fonction récursive, deux cas à sont envisager :\n",
    "            \n",
    "- Si `n == 1`, cela signifie qu'il y a un seul nombre dans la liste des nombres à multiplier : le nombre 1. On renvoie donc sa valeur. C'est le _cas de base_. \n",
    "- Si `n > 1`, on calcule récursivement le produit des entiers compris entre 1 et `n-1`, on multiplie le résultat par la valeur de `n` et on renvoie le total. C'est le _cas récursif_."
   ]
  },
  {
   "cell_type": "code",
   "execution_count": null,
   "metadata": {},
   "outputs": [],
   "source": [
    "def factorielle(n):\n",
    "    \"\"\"\n",
    "    Détermine le produit des entiers compris entre 1 et n.\n",
    "    - Entrée : n (entier strictement positif)\n",
    "    - Sortie : fac (entier)\n",
    "    \"\"\"\n",
    "    if n == 0:\n",
    "        fac = 1\n",
    "    else:\n",
    "        fac = n * factorielle(n-1)\n",
    "    return fac"
   ]
  },
  {
   "cell_type": "markdown",
   "metadata": {},
   "source": [
    "_Test de la fonction_"
   ]
  },
  {
   "cell_type": "code",
   "execution_count": null,
   "metadata": {},
   "outputs": [],
   "source": [
    "factorielle(10)"
   ]
  },
  {
   "cell_type": "markdown",
   "metadata": {},
   "source": [
    "### Troisième exemple : calcul de `x` puissance `n`\n",
    "\n",
    "On suppose que `x` est un nombre et que `n` est un entier positif et on\n",
    "souhaite définir une fonction `puissance` qui calcule `x` puissance `n`.\n",
    "\n",
    "***Première version : version itérative***"
   ]
  },
  {
   "cell_type": "code",
   "execution_count": null,
   "metadata": {},
   "outputs": [],
   "source": [
    " def puissance(x, n):\n",
    "    \"\"\"\n",
    "    Détermine la valeur de x puissance n.\n",
    "    - Entrées : x (nombre), n (entier positif)\n",
    "    - Sortie : val (même type que x)\n",
    "    \"\"\"\n",
    "    val = 1\n",
    "    for k in range(1, n+1):\n",
    "        val = x * val\n",
    "    return val"
   ]
  },
  {
   "cell_type": "markdown",
   "metadata": {},
   "source": [
    "_Test de la fonction_"
   ]
  },
  {
   "cell_type": "code",
   "execution_count": null,
   "metadata": {},
   "outputs": [],
   "source": [
    "puissance(2, 3)"
   ]
  },
  {
   "cell_type": "markdown",
   "metadata": {},
   "source": [
    "***Seconde version : version récursive***\n",
    "\n",
    " Pour l'écriture de la fonction récursive, deux cas à sont envisager :\n",
    "            \n",
    " - Si `n == 0`, on utilise la propriété $x^0 = 1$ : on renvoie la valeur 1. C'est le _cas de base_.\n",
    " - Si `n > 0`, on utilise la propriété $x^n = x \\times x^{n-1}$ : on calcule récursivement $x^{n-1}$, on multiplie le résultat par la valeur de `x` et on renvoie le total. C'est le _cas récursif_."
   ]
  },
  {
   "cell_type": "code",
   "execution_count": null,
   "metadata": {},
   "outputs": [],
   "source": [
    "def puissance(x, n):\n",
    "    if n == 0:\n",
    "        return 1\n",
    "    else:\n",
    "        return x * puissance(x, n-1)"
   ]
  },
  {
   "cell_type": "markdown",
   "metadata": {},
   "source": [
    "_Test de la fonction_"
   ]
  },
  {
   "cell_type": "code",
   "execution_count": null,
   "metadata": {},
   "outputs": [],
   "source": [
    "puissance(2, 3)"
   ]
  },
  {
   "cell_type": "markdown",
   "metadata": {},
   "source": [
    "## Pile d'appels récursifs\n",
    "\n",
    "Si on effectue l'appel `puissance(2, 3)`, on peut représenter la pile des quatre appels\n",
    "de la fonction `puissance`, et les paramètres correspondant à chaque appel, sous la forme d'un arbre.\n",
    "\n",
    "```python\n",
    "puissance(2, 3)\n",
    "    |\n",
    "    return 2 * puissance(2, 2)\n",
    "                   |\n",
    "                   return 2 * puissance(2, 1)\n",
    "                                  |\n",
    "                                  return 2 * puissance(2, 0)\n",
    "                                                 |\n",
    "                                                 return 1\n",
    "```\n",
    "Le nombre d'appels simultanés de fonctions est limité. On peut en connaître le nombre maximal\n",
    "grâce à la fonction `getrecursionlimit` du module `sys`."
   ]
  },
  {
   "cell_type": "code",
   "execution_count": null,
   "metadata": {},
   "outputs": [],
   "source": [
    "from sys import getrecursionlimit\n",
    "print(getrecursionlimit())"
   ]
  },
  {
   "cell_type": "markdown",
   "metadata": {},
   "source": [
    "Une erreur apparaît si on essaie de réaliser plus d'appels récursifs que la limite autorisée."
   ]
  },
  {
   "cell_type": "code",
   "execution_count": null,
   "metadata": {},
   "outputs": [],
   "source": [
    "somme(1, 3500)"
   ]
  },
  {
   "cell_type": "markdown",
   "metadata": {},
   "source": [
    "La limite du nombre d'appels simultanés de fonctions peut être modifié grâce à la fonction\n",
    "`setrecursionlimit `du module `sys`."
   ]
  },
  {
   "cell_type": "code",
   "execution_count": null,
   "metadata": {},
   "outputs": [],
   "source": [
    "from sys import setrecursionlimit\n",
    "setrecursionlimit(4000)"
   ]
  },
  {
   "cell_type": "code",
   "execution_count": null,
   "metadata": {},
   "outputs": [],
   "source": [
    "puissance(2, 4000)"
   ]
  },
  {
   "cell_type": "markdown",
   "metadata": {},
   "source": [
    "Il faut néanmoins être raisonnable en cas de modification de cette limite, car un nombre excessif\n",
    "de récursions provoque le crash du programme à cause d'une erreur de débordement de pile d'exécution\n",
    "(_stack overflow_).\n",
    "\n",
    "## Tours de Hanoï\n",
    "\n",
    "Les [*tours de Hanoï*](https://ntoulzac.github.io/Cours-NSI-Terminale/recursivite/Hanoï.html) sont un jeu de réflexion consistant à déplacer des disques de diamètres\n",
    "différents d'une tour gauche à une tour droite en passant par une tour centrale, et ceci en\n",
    "un minimum de coups, tout en respectant les règles suivantes :\n",
    "\n",
    "- on ne peut pas déplacer plus d'un disque à la fois,\n",
    "- on ne peut placer un disque que sur un autre disque plus grand ou sur un emplacement vide.\n",
    "\n",
    "Ce jeu est un exemple de problème qui peut être résolu par une approche récursive."
   ]
  }
 ],
 "metadata": {
  "kernelspec": {
   "display_name": "Python 3",
   "language": "python",
   "name": "python3"
  },
  "language_info": {
   "codemirror_mode": {
    "name": "ipython",
    "version": 3
   },
   "file_extension": ".py",
   "mimetype": "text/x-python",
   "name": "python",
   "nbconvert_exporter": "python",
   "pygments_lexer": "ipython3",
   "version": "3.8.5"
  }
 },
 "nbformat": 4,
 "nbformat_minor": 2
}
