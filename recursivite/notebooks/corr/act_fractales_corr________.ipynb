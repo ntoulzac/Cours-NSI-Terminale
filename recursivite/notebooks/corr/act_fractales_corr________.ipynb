{
 "cells": [
  {
   "cell_type": "markdown",
   "metadata": {},
   "source": [
    "<div style='background-color: #87ceeb;\n",
    "    border: 0.5em solid black;\n",
    "    border-radius: 0.5em;\n",
    "    padding: 1em;'>\n",
    "    <h2>Activité</h2>\n",
    "    <h1>Fractales</h1>\n",
    "</div>"
   ]
  },
  {
   "cell_type": "markdown",
   "metadata": {},
   "source": [
    "L'objectif de cette activité est de dessiner grâce au module `turtle` des figures [fractales](https://fr.wikipedia.org/wiki/Fractale) à partir de fonctions récursives."
   ]
  },
  {
   "cell_type": "code",
   "execution_count": null,
   "metadata": {},
   "outputs": [],
   "source": [
    "import turtle"
   ]
  },
  {
   "cell_type": "markdown",
   "metadata": {},
   "source": [
    "<div style='background-color: #87ceeb;\n",
    "    border-radius: 0.5em;\n",
    "    padding: 1em;'>\n",
    "    <h2>Figure 1 : la courbe de Von Koch</h2>\n",
    "</div>\n",
    "\n",
    "La courbe de Von Koch est la figure géométrique obtenue par la suite d'opérations suivantes :\n",
    "- Au départ, on dessine un segment.\n",
    "- À chaque étape, on coupe chaque segment en trois parties égales, on retire le tiers central et on le remplace par deux segments de même longueur.\n",
    "\n",
    "<table>\n",
    "    <tr>\n",
    "        <td><img src='https://ntoulzac.github.io/Cours-NSI-Terminale/recursivite/images/vonkoch0.png'><br><center><i>Étape 0</i></center></td>\n",
    "        <td><img src='https://ntoulzac.github.io/Cours-NSI-Terminale/recursivite/images/vonkoch1.png'><br><center><i>Étape 1</i></center></td>\n",
    "        <td><img src='https://ntoulzac.github.io/Cours-NSI-Terminale/recursivite/images/vonkoch2.png'><br><center><i>Étape 2</i></center></td>\n",
    "    </tr>\n",
    "</table>\n",
    "\n",
    "La procédure `courbe_von_koch` prend deux paramètres d'entrée (un flottant `longueur` et un entier `degre`) et dessine dans la fenêtre *Turtle* l'étape numéro `degre` de la courbe de Von Koch, à partir d'un segment initial de longueur `longueur`.\n",
    "\n",
    "**(1)** 💻 Compléter les six lignes de code incomplètes dans la cellule ci-dessous."
   ]
  },
  {
   "cell_type": "code",
   "execution_count": null,
   "metadata": {},
   "outputs": [],
   "source": [
    "def courbe_von_koch(longueur, degre):\n",
    "    \"\"\"\n",
    "    Dessine une étape de la courbe de Von Koch.\n",
    "    - Entrées : longueur (nombre, taille en pixels du segment à l'étape 0), degre (entier, numéro de l'étape à dessiner)\n",
    "    Effet de bord : dessin dans une fenêtre Turtle\n",
    "    \"\"\"\n",
    "    if degre == 0:\n",
    "        turtle.forward(longueur)\n",
    "    else:\n",
    "        nouvelle_longueur = longueur / 3\n",
    "        nouveau_degre = degre - 1\n",
    "        courbe_von_koch(nouvelle_longueur, nouveau_degre)\n",
    "        turtle.left(60)\n",
    "        courbe_von_koch(nouvelle_longueur, nouveau_degre)\n",
    "        turtle.right(120)\n",
    "        courbe_von_koch(nouvelle_longueur, nouveau_degre)\n",
    "        turtle.left(60)\n",
    "        courbe_von_koch(nouvelle_longueur, nouveau_degre)"
   ]
  },
  {
   "cell_type": "markdown",
   "metadata": {},
   "source": [
    "Vous pouvez tester la procédure `courbe_von_koch` grâce à la cellule ci-dessous."
   ]
  },
  {
   "cell_type": "code",
   "execution_count": null,
   "metadata": {},
   "outputs": [],
   "source": [
    "TAILLE_FLOCON = 486 # taille en pixels du segment de l'étape 0\n",
    "DEGRE = 4           # numéro de l'étape à dessiner\n",
    "\n",
    "fenetre = turtle.Screen()                                            # ouverture\n",
    "fenetre.setup(1.2 * TAILLE_FLOCON, (3**0.5/6 + 0.2) * TAILLE_FLOCON) # et dimensionnement de la fenêtre Turtle\n",
    "\n",
    "turtle.TurtleScreen._RUNNING = True # instruction permettant d'éviter une erreur Terminator en cas de réexécution de la cellule\n",
    "turtle.speed('fastest') # choix de la vitesse la plus rapide pour la tortue\n",
    "turtle.hideturtle() # choix de ne pas afficher la tortue\n",
    "\n",
    "turtle.up()                                                 # positionnement\n",
    "turtle.goto(-TAILLE_FLOCON / 2, -3**0.5/12 * TAILLE_FLOCON) # initial\n",
    "turtle.down()                                               # de la tortue\n",
    "\n",
    "courbe_von_koch(TAILLE_FLOCON, DEGRE)\n",
    "\n",
    "fenetre.exitonclick() # fermeture de la fenêtre en cas de clic"
   ]
  },
  {
   "cell_type": "markdown",
   "metadata": {},
   "source": [
    "![Courbe de Von Koch](https://ntoulzac.github.io/Cours-NSI-Terminale/recursivite/images/vonkoch.gif)"
   ]
  },
  {
   "cell_type": "markdown",
   "metadata": {},
   "source": [
    "<div style='background-color: #87ceeb;\n",
    "    border-radius: 0.5em;\n",
    "    padding: 1em;'>\n",
    "    <h2>Figure 2 : la courbe du dragon</h2>\n",
    "</div>\n",
    "\n",
    "La courbe du dragon est la figure géométrique obtenue par la suite d'opérations suivantes :\n",
    "- Au départ, on dessine un segment.\n",
    "- À chaque étape, on construit sur chaque segment un triangle rectangle isocèle dont le segment initial est l'hypoténuse. On efface ce segment initial pour ne conserver que les deux côtés de l'angle droit. Les triangles rectangles isocèles sont construits alternativement d'un côté puis de l'autre par rapport aux segments initiaux.\n",
    "\n",
    "<table>\n",
    "    <tr>\n",
    "        <td><img src='https://ntoulzac.github.io/Cours-NSI-Terminale/recursivite/images/dragon0.png'><br><center><i>Étape 0</i></center></td>\n",
    "        <td><img src='https://ntoulzac.github.io/Cours-NSI-Terminale/recursivite/images/dragon1.png'><br><center><i>Étape 1</i></center></td>\n",
    "        <td><img src='https://ntoulzac.github.io/Cours-NSI-Terminale/recursivite/images/dragon2.png'><br><center><i>Étape 2</i></center></td>\n",
    "    </tr>\n",
    "</table>\n",
    "\n",
    "**(2)** 💻 En vous inspirant de la procédure `courbe_von_koch`, définir une procédure `courbe_dragon` permettant de dessiner dans la fenêtre *Turtle* l'étape numéro `degre` de la courbe du dragon, à partir d'un segment initial de longueur `longueur`. Le troisième paramètre d'entrée, `orientation`, sera égal à l'une des chaînes de caractères `'gauche'` ou `'droite'`."
   ]
  },
  {
   "cell_type": "code",
   "execution_count": null,
   "metadata": {},
   "outputs": [],
   "source": [
    "def courbe_dragon(longueur, degre, orientation):\n",
    "    \"\"\"\n",
    "    Dessine une étape de la courbe du dragon.\n",
    "    - Entrées : longueur (nombre, taille en pixels du segment à l'étape 0), degre (entier, numéro de l'étape à dessiner),\n",
    "                orientation (chaîne égale à 'gauche' ou 'droite', orientation du premier segment dessiné)\n",
    "    Effet de bord : dessin dans une fenêtre Turtle\n",
    "    \"\"\"\n",
    "    if degre == 0:\n",
    "        turtle.forward(longueur)\n",
    "    else:\n",
    "        nouvelle_longueur = longueur / 2**0.5 # côté de l'angle droit dans un triangle rectangle isocèle d'hypoténuse longueur\n",
    "        nouveau_degre = degre - 1\n",
    "        if orientation == 'gauche':\n",
    "            turtle.left(45)\n",
    "            courbe_dragon(nouvelle_longueur, nouveau_degre, 'gauche')\n",
    "            turtle.right(90)\n",
    "            courbe_dragon(nouvelle_longueur, nouveau_degre, 'droite')\n",
    "            turtle.left(45)\n",
    "        else:\n",
    "            turtle.right(45)\n",
    "            courbe_dragon(nouvelle_longueur, nouveau_degre, 'gauche')\n",
    "            turtle.left(90)\n",
    "            courbe_dragon(nouvelle_longueur, nouveau_degre, 'droite')\n",
    "            turtle.right(45)"
   ]
  },
  {
   "cell_type": "markdown",
   "metadata": {},
   "source": [
    "Vous pouvez tester la procédure `courbe_dragon` grâce à la cellule ci-dessous."
   ]
  },
  {
   "cell_type": "code",
   "execution_count": null,
   "metadata": {},
   "outputs": [],
   "source": [
    "TAILLE_DRAGON = 256\n",
    "DEGRE = 8\n",
    "\n",
    "fenetre = turtle.Screen()\n",
    "fenetre.setup(1.7 * TAILLE_DRAGON, 1.2 * TAILLE_DRAGON)\n",
    "\n",
    "turtle.TurtleScreen._RUNNING = True\n",
    "turtle.speed('fastest')\n",
    "turtle.hideturtle()\n",
    "\n",
    "turtle.up()\n",
    "turtle.goto(- 5*TAILLE_DRAGON / 12, - TAILLE_DRAGON / 6)\n",
    "turtle.down()\n",
    "\n",
    "courbe_dragon(TAILLE_DRAGON, DEGRE, 'gauche')\n",
    "\n",
    "fenetre.exitonclick()"
   ]
  },
  {
   "cell_type": "markdown",
   "metadata": {},
   "source": [
    "![Courbe de Von Koch](https://ntoulzac.github.io/Cours-NSI-Terminale/recursivite/images/dragon.gif)"
   ]
  },
  {
   "cell_type": "markdown",
   "metadata": {},
   "source": [
    "<div style='background-color: #87ceeb;\n",
    "    border-radius: 0.5em;\n",
    "    padding: 1em;'>\n",
    "    <h2>Figure 3 : le carré de Sierpiński</h2>\n",
    "</div>\n",
    "\n",
    "Le carré (ou le tapis) de Sierpiński est la figure géométrique obtenue par la suite d'opérations suivantes :\n",
    "- Au départ, on dessine un carré blanc.\n",
    "- À chaque étape, on découpe chaque carré blanc en neuf petits carrés, et on colore en noir le carré central.\n",
    "\n",
    "<table>\n",
    "    <tr>\n",
    "        <td><img src='https://ntoulzac.github.io/Cours-NSI-Terminale/recursivite/images/carre_sierp0.png'><br><center><i>Étape 0</i></center></td>\n",
    "        <td><img src='https://ntoulzac.github.io/Cours-NSI-Terminale/recursivite/images/carre_sierp1.png'><br><center><i>Étape 1</i></center></td>\n",
    "        <td><img src='https://ntoulzac.github.io/Cours-NSI-Terminale/recursivite/images/carre_sierp2.png'><br><center><i>Étape 2</i></center></td>\n",
    "    </tr>\n",
    "</table>\n",
    "\n",
    "On donne la procédure `carre_noir` :"
   ]
  },
  {
   "cell_type": "code",
   "execution_count": null,
   "metadata": {},
   "outputs": [],
   "source": [
    "def carre_noir(coin, taille, remplissage):\n",
    "    \"\"\"\n",
    "    Dessine un carré grâce au module turtle.\n",
    "    - Entrées : coin (couple correspondant aux coordonnées du sommet inférieur gauche du carré à dessiner),\n",
    "                taille (entier correspondant à la longueur, en pixels, du côté du carré),\n",
    "                remplissage (booléen, True si on souhaite colorer l'intérieur du carré en noir, False sinon)\n",
    "    Effet de bord : dessin dans une fenêtre Turtle\n",
    "    Attention : penser à importer le module turtle !\n",
    "    \"\"\"\n",
    "    turtle.up()\n",
    "    turtle.goto(coin)\n",
    "    turtle.down()\n",
    "    if remplissage:\n",
    "        turtle.begin_fill()\n",
    "    for _ in range(4):\n",
    "        turtle.forward(taille)\n",
    "        turtle.left(90)\n",
    "    if remplissage:\n",
    "        turtle.end_fill()"
   ]
  },
  {
   "cell_type": "markdown",
   "metadata": {},
   "source": [
    " **(3)** 💻 Définir une procédure récursive `carre_sierpinski` ayant la spécification suivante :"
   ]
  },
  {
   "cell_type": "code",
   "execution_count": null,
   "metadata": {},
   "outputs": [],
   "source": [
    "def carre_sierpinski(coin, taille, degre):\n",
    "    \"\"\"\n",
    "    Dessine une étape du carré de Sierpiński.\n",
    "    - Entrées : coin (couple correspondant aux coordonnées du sommet inférieur gauche du carré)\n",
    "                taille (entier correspondant à la longueur, en pixels, du côté du carré)\n",
    "                degre (entier positif, correspondant au numéro de l'étape à dessiner)\n",
    "    Effet de bord : dessin dans une fenêtre Turtle\n",
    "    Attention : penser à importer le module turtle : import turtle\n",
    "    \"\"\"\n",
    "    nouvelle_taille = taille / 3\n",
    "    coin_x, coin_y = coin\n",
    "    nouveau_degre = degre - 1\n",
    "    if degre > 0:\n",
    "        carre_noir((coin_x + nouvelle_taille, coin_y + nouvelle_taille), nouvelle_taille, True)\n",
    "        for a in range(3):\n",
    "            for b in range(3):\n",
    "                if (a, b) != (1, 1):\n",
    "                    carre_sierpinski((coin_x + a*nouvelle_taille, coin_y + b*nouvelle_taille), nouvelle_taille, nouveau_degre)"
   ]
  },
  {
   "cell_type": "markdown",
   "metadata": {},
   "source": [
    "Vous pouvez tester la procédure `carre_sierpinski` grâce à la cellule ci-dessous."
   ]
  },
  {
   "cell_type": "code",
   "execution_count": null,
   "metadata": {},
   "outputs": [],
   "source": [
    "TAILLE_CARRE = 486\n",
    "DEGRE = 3\n",
    "\n",
    "fenetre = turtle.Screen()\n",
    "fenetre.setup(1.2*TAILLE_CARRE, 1.2*TAILLE_CARRE)\n",
    "\n",
    "turtle.TurtleScreen._RUNNING = True\n",
    "turtle.speed('fastest')\n",
    "turtle.hideturtle()\n",
    "\n",
    "carre_noir((-TAILLE_CARRE/2, -TAILLE_CARRE/2), TAILLE_CARRE, False)       # Dessine le bord du carré de Sierpiński\n",
    "carre_sierpinski((-TAILLE_CARRE/2, -TAILLE_CARRE/2), TAILLE_CARRE, DEGRE) # Dessine l'intérieur du carré de Sierpiński\n",
    "\n",
    "fenetre.exitonclick()"
   ]
  },
  {
   "cell_type": "markdown",
   "metadata": {},
   "source": [
    "![Courbe de Von Koch](https://ntoulzac.github.io/Cours-NSI-Terminale/recursivite/images/carre_sierp.gif)"
   ]
  },
  {
   "cell_type": "markdown",
   "metadata": {},
   "source": [
    "<div style='background-color: #87ceeb;\n",
    "    border-radius: 0.5em;\n",
    "    padding: 1em;'>\n",
    "    <h2>Figure 4 : le triangle de Sierpiński</h2>\n",
    "</div>\n",
    "\n",
    "Le triangle de Sierpiński est la figure géométrique obtenue par la suite d'opérations suivantes :\n",
    "- Au départ, on dessine un triangle blanc.\n",
    "- À chaque étape, on découpe chaque triangle blanc en quatre petits triangles en joignant les milieux des côtés, et on colore en noir le triangle central.\n",
    "\n",
    "<table>\n",
    "    <tr>\n",
    "        <td><img src='https://ntoulzac.github.io/Cours-NSI-Terminale/recursivite/images/triang_sierp0.png'><br><center><i>Étape 0</i></center></td>\n",
    "        <td><img src='https://ntoulzac.github.io/Cours-NSI-Terminale/recursivite/images/triang_sierp1.png'><br><center><i>Étape 1</i></center></td>\n",
    "        <td><img src='https://ntoulzac.github.io/Cours-NSI-Terminale/recursivite/images/triang_sierp2.png'><br><center><i>Étape 2</i></center></td>\n",
    "    </tr>\n",
    "</table>\n",
    "\n",
    "On donne la procédure `triangle_noir` :"
   ]
  },
  {
   "cell_type": "code",
   "execution_count": null,
   "metadata": {},
   "outputs": [],
   "source": [
    "def triangle_noir(coin, taille, orientation_virage, remplissage):\n",
    "    \"\"\"\n",
    "    Dessine un triangle équilatéral grâce au module turtle.\n",
    "    - Entrées : coin (couple correspondant aux coordonnées du sommet le plus à gauche du triangle à dessiner),\n",
    "                taille (entier correspondant à la longueur, en pixels, du côté du triangle),\n",
    "                orientation virage (fonction égale soit à turtle.left, soit à turtle.right, en fonction de l'orientation\n",
    "                que l'on souhaite donner au triangle),\n",
    "                remplissage (booléen, True si on souhaite colorer l'intérieur du triangle en noir, False sinon)\n",
    "    Effet de bord : dessin dans une fenêtre Turtle\n",
    "    Attention : penser à importer le module turtle !\n",
    "    \"\"\"\n",
    "    turtle.up()\n",
    "    turtle.goto(coin)\n",
    "    turtle.down()\n",
    "    if remplissage:\n",
    "        turtle.begin_fill()\n",
    "    for _ in range(3):\n",
    "        turtle.forward(taille)\n",
    "        orientation_virage(120)\n",
    "    if remplissage:\n",
    "        turtle.end_fill()"
   ]
  },
  {
   "cell_type": "markdown",
   "metadata": {},
   "source": [
    "**(4)** 💻 Définir une procédure récursive `triangle_sierpinski` ayant la spécification suivante :"
   ]
  },
  {
   "cell_type": "code",
   "execution_count": null,
   "metadata": {},
   "outputs": [],
   "source": [
    "def triangle_sierpinski(coin, taille, degre):\n",
    "    \"\"\"\n",
    "    Dessine une étape du triangle de Sierpiński.\n",
    "    - Entrées : coin (couple correspondant aux coordonnées du sommet inférieur gauche du triangle),\n",
    "                taille (entier correspondant à la longueur, en pixels, du côté du triangle),\n",
    "                degre (entier positif, correspondant au numéro de l'étape à dessiner)\n",
    "    Effet de bord : dessin dans une fenêtre Turtle\n",
    "    Attention : penser à importer le module turtle !\n",
    "    \"\"\"\n",
    "    nouvelle_taille = taille / 2\n",
    "    coin_x, coin_y = coin\n",
    "    nouveau_degre = degre - 1\n",
    "    if degre > 0:\n",
    "        triangle_noir((coin_x + nouvelle_taille/2, coin_y + 3**0.5*nouvelle_taille/2), nouvelle_taille, turtle.right, True)\n",
    "        for pos in [(0, 0), (1, 0), (0.5, 3**0.5/2)]:\n",
    "            a, b = pos\n",
    "            triangle_sierpinski((coin_x + a*nouvelle_taille, coin_y + b*nouvelle_taille), nouvelle_taille, nouveau_degre)"
   ]
  },
  {
   "cell_type": "markdown",
   "metadata": {},
   "source": [
    "Vous pouvez tester la procédure `triangle_sierpinski` grâce à la cellule ci-dessous."
   ]
  },
  {
   "cell_type": "code",
   "execution_count": null,
   "metadata": {},
   "outputs": [],
   "source": [
    "TAILLE_TRIANGLE = 512\n",
    "DEGRE = 4\n",
    "\n",
    "fenetre = turtle.Screen()\n",
    "fenetre.setup(1.2*TAILLE_TRIANGLE, 1.2*3**0.5/2*TAILLE_TRIANGLE)\n",
    "\n",
    "turtle.TurtleScreen._RUNNING = True\n",
    "turtle.speed('fastest')\n",
    "turtle.hideturtle()\n",
    "\n",
    "triangle_noir((-TAILLE_TRIANGLE/2, -3**0.5*TAILLE_TRIANGLE/4), TAILLE_TRIANGLE, turtle.left, False)\n",
    "triangle_sierpinski((-TAILLE_TRIANGLE/2, -3**0.5*TAILLE_TRIANGLE/4), TAILLE_TRIANGLE, DEGRE)\n",
    "\n",
    "fenetre.exitonclick()"
   ]
  },
  {
   "cell_type": "markdown",
   "metadata": {},
   "source": [
    "![Courbe de Von Koch](https://ntoulzac.github.io/Cours-NSI-Terminale/recursivite/images/triang_sierp.gif)"
   ]
  }
 ],
 "metadata": {
  "kernelspec": {
   "display_name": "Python 3",
   "language": "python",
   "name": "python3"
  },
  "language_info": {
   "codemirror_mode": {
    "name": "ipython",
    "version": 3
   },
   "file_extension": ".py",
   "mimetype": "text/x-python",
   "name": "python",
   "nbconvert_exporter": "python",
   "pygments_lexer": "ipython3",
   "version": "3.8.5"
  }
 },
 "nbformat": 4,
 "nbformat_minor": 2
}
