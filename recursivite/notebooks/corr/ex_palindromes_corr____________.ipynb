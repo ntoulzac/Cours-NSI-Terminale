{
 "cells": [
  {
   "cell_type": "markdown",
   "metadata": {},
   "source": [
    "<div style='background-color: #e3a8b6;\n",
    "    border: 0.5em solid black;\n",
    "    border-radius: 0.5em;\n",
    "    padding: 1em;'>\n",
    "    <h2>Exercice</h2>\n",
    "    <h1>Palindromes</h1>\n",
    "</div>"
   ]
  },
  {
   "cell_type": "markdown",
   "metadata": {},
   "source": [
    "Un palindrome est un mot, un texte ou un nombre dont l'ordre des lettres (ou des chiffres) reste le même qu'on le lise de gauche à droite ou de droite à gauche.\n",
    "\n",
    "Par exemple, `'kayak'`, `'radar'` et `22022022` sont des palindromes."
   ]
  },
  {
   "cell_type": "markdown",
   "metadata": {},
   "source": [
    "**(1)** ✏️ Une chaîne de caractères composée d'un caractère maximum est-elle un palindrome ? Une chaîne dont le premier caractère est différent du dernier caractère est-elle un palindrome ?\n",
    "\n",
    "**(2)** ✏️ Si `chaine` est une chaîne de caractères de longueur `n` et que `a` et `b` sont deux entiers tels que $0 \\leq a < b < n$, à quoi correspond l'expression `chaine[a:b]` ?\n",
    "\n",
    "**(3)** 💻 Définir une fonction récursive `est_palindrome` qui prend en paramètre d'entrée une chaîne de caractères et qui renvoie `True` si la chaîne est un palindrome et `False` sinon."
   ]
  },
  {
   "cell_type": "code",
   "execution_count": 1,
   "metadata": {},
   "outputs": [],
   "source": [
    "def est_palindrome(texte):\n",
    "    \"\"\"\n",
    "    Détermine si une chaîne de caractères est un palindrome.\n",
    "    - Entrée : texte (chaîne)\n",
    "    - Sortie : (booléen, True si la chaîne est un palindrome, False sinon)\n",
    "    \"\"\"\n",
    "    longueur = len(texte)\n",
    "    if longueur <= 1:\n",
    "        return True\n",
    "    elif texte[0] != texte[longueur-1]:\n",
    "        return False\n",
    "    else:\n",
    "        return est_palindrome(texte[1:longueur-1])"
   ]
  },
  {
   "cell_type": "markdown",
   "metadata": {},
   "source": [
    "**(4)** 💻 Tester la fonction `est_palindrome` sur plusieurs exemples."
   ]
  },
  {
   "cell_type": "code",
   "execution_count": 2,
   "metadata": {},
   "outputs": [
    {
     "data": {
      "text/plain": [
       "True"
      ]
     },
     "execution_count": 2,
     "metadata": {},
     "output_type": "execute_result"
    }
   ],
   "source": [
    "est_palindrome('kayak')"
   ]
  },
  {
   "cell_type": "code",
   "execution_count": 3,
   "metadata": {},
   "outputs": [
    {
     "data": {
      "text/plain": [
       "False"
      ]
     },
     "execution_count": 3,
     "metadata": {},
     "output_type": "execute_result"
    }
   ],
   "source": [
    "est_palindrome('Kayak')"
   ]
  },
  {
   "cell_type": "code",
   "execution_count": 4,
   "metadata": {},
   "outputs": [
    {
     "data": {
      "text/plain": [
       "False"
      ]
     },
     "execution_count": 4,
     "metadata": {},
     "output_type": "execute_result"
    }
   ],
   "source": [
    "est_palindrome('palindrome')"
   ]
  },
  {
   "cell_type": "code",
   "execution_count": 5,
   "metadata": {},
   "outputs": [
    {
     "data": {
      "text/plain": [
       "True"
      ]
     },
     "execution_count": 5,
     "metadata": {},
     "output_type": "execute_result"
    }
   ],
   "source": [
    "est_palindrome('22022022') # Le 22 février 2022 est le prochain jour palindrome"
   ]
  },
  {
   "cell_type": "code",
   "execution_count": 6,
   "metadata": {},
   "outputs": [
    {
     "data": {
      "text/plain": [
       "True"
      ]
     },
     "execution_count": 6,
     "metadata": {},
     "output_type": "execute_result"
    }
   ],
   "source": [
    "est_palindrome('ΝΙΨΟΝΑΝΟΜΗΜΑΤΑΜΗΜΟΝΑΝΟΨΙΝ')"
   ]
  },
  {
   "cell_type": "markdown",
   "metadata": {},
   "source": [
    "![Mosaïque située sur l'église Sainte-Sophie de Constantinople (Istanbul)](https://upload.wikimedia.org/wikipedia/commons/thumb/1/1a/Ambigram_palindrome_%CE%9D%CE%99%CE%A8%CE%9F%CE%9D%CE%91%CE%9D%CE%9F%CE%9C%CE%97%CE%9C%CE%91%CE%A4%CE%91%CE%9C%CE%97%CE%9C%CE%9F%CE%9D%CE%91%CE%9D%CE%9F%CE%A8%CE%99%CE%9D_%28Wash_your_sins%2C_not_only_your_face%2C_in_Greek%29.jpg/640px-Ambigram_palindrome_%CE%9D%CE%99%CE%A8%CE%9F%CE%9D%CE%91%CE%9D%CE%9F%CE%9C%CE%97%CE%9C%CE%91%CE%A4%CE%91%CE%9C%CE%97%CE%9C%CE%9F%CE%9D%CE%91%CE%9D%CE%9F%CE%A8%CE%99%CE%9D_%28Wash_your_sins%2C_not_only_your_face%2C_in_Greek%29.jpg)"
   ]
  },
  {
   "cell_type": "markdown",
   "metadata": {},
   "source": [
    "<div style='background-color: #e3a8b6;\n",
    "    border-radius: 0.5em;\n",
    "    padding: 1em;'>\n",
    "    <h2>Pour aller plus loin...</h2>\n",
    "</div>"
   ]
  },
  {
   "cell_type": "markdown",
   "metadata": {},
   "source": [
    "**(5)** 💻 Modifier la fonction `est_palindrome` pour qu'elle détecte les palindromes sans tenir compte des majuscules et minuscules, des accents et de la ponctuation."
   ]
  },
  {
   "cell_type": "code",
   "execution_count": 7,
   "metadata": {},
   "outputs": [],
   "source": [
    "def ascii(texte):\n",
    "    \"\"\"\n",
    "    Retire les minuscules, les accents et la ponctuation d'une chaîne de caractères.\n",
    "    - Entrée : texte (chaîne)\n",
    "    - Sortie : nouvelle_chaine (chaîne)\n",
    "    \"\"\"\n",
    "    dico = {'ÀÂÄ': 'A', 'Æ': 'AE', 'Ç': 'C', 'ÈÉÊË': 'E', 'ÎÏ': 'I', 'ÔÖ': 'O', 'Œ': 'OE', 'ÙÛÜ': 'U'}    \n",
    "    nouvelle_chaine = ''\n",
    "    for car in texte:\n",
    "        car = car.upper()\n",
    "        if 65 <= ord(car) <= 90:\n",
    "            nouvelle_chaine += car\n",
    "        for cle in dico:\n",
    "            if car in cle:\n",
    "                nouvelle_chaine += dico[cle]\n",
    "    return nouvelle_chaine"
   ]
  },
  {
   "cell_type": "code",
   "execution_count": 8,
   "metadata": {},
   "outputs": [],
   "source": [
    "def est_palindrome(texte):\n",
    "    \"\"\"\n",
    "    Détermine si une chaîne de caractères est un palindrome.\n",
    "    - Entrée : texte (chaîne)\n",
    "    - Sortie : (booléen, True si la chaîne est un palindrome, False sinon)\n",
    "    \"\"\"\n",
    "    texte = ascii(texte)\n",
    "    longueur = len(texte)\n",
    "    if longueur <= 1:\n",
    "        return True\n",
    "    elif texte[0] != texte[longueur-1]:\n",
    "        return False\n",
    "    else:\n",
    "        return est_palindrome(texte[1:longueur-1])"
   ]
  },
  {
   "cell_type": "code",
   "execution_count": 9,
   "metadata": {},
   "outputs": [
    {
     "data": {
      "text/plain": [
       "True"
      ]
     },
     "execution_count": 9,
     "metadata": {},
     "output_type": "execute_result"
    }
   ],
   "source": [
    "est_palindrome('kayak')"
   ]
  },
  {
   "cell_type": "code",
   "execution_count": 10,
   "metadata": {},
   "outputs": [
    {
     "data": {
      "text/plain": [
       "True"
      ]
     },
     "execution_count": 10,
     "metadata": {},
     "output_type": "execute_result"
    }
   ],
   "source": [
    "est_palindrome('Kayak')"
   ]
  },
  {
   "cell_type": "markdown",
   "metadata": {},
   "source": [
    "<div style='background-color: #e3e3e3;\n",
    "    border-radius: 0.5em;\n",
    "    padding: 1em;'>\n",
    "\n",
    "<b>9691, EDNA D'NILU O, MÛ, ACÉRÉ, PSEG ROEG</b>    \n",
    "    \n",
    "Trace l’inégal palindrome. Neige. Bagatelle, dira Hercule. Le brut repentir, cet écrit né Perec. L’arc lu pèse trop, lis à vice versa.\n",
    "\n",
    "Perte. Cerise d’une vérité banale, le Malstrom, Alep, mort édulcoré, crêpe porté de ce désir brisé d’un iota. Livre si aboli, tes sacres ont éreinté, cor cruel, nos albatros. Être las, autel bâti, miette vice versa du jeu que fit, nacré, médical, le sélénite relaps, ellipsoïdal.\n",
    "\n",
    "Ivre il bat, la turbine bat, l’isolé me ravale : le verre si obéi du Pernod — eh, port su ! – obsédante sonate teintée d’ivresse.\n",
    "\n",
    "Ce rêve se mit — peste ! — à blaguer. Beh ! L’art sec n’a si peu qu’algèbre s’élabore de l’or évalué.\n",
    "\n",
    "Idiome étiré, hésite, bâtard replié, l’os nu. Si, à la gêne secrète — verbe nul à l’instar de cinq occis –, rets amincis, drailles inégales, il, avatar espacé, caresse ce noir Belzebuth, œil offensé, tire !\n",
    "\n",
    "L’écho fit (à désert) : Salut, sang, robe et été.\n",
    "\n",
    "Fièvres.\n",
    "\n",
    "Adam, rauque ; il écrit : Abrupt ogre, eh, cercueil, l’avenir tu, effilé, génial à la rue (murmure sud eu ne tire vaseline séparée ; l’épeire gelée rode : Hep, mortel ?) lia ta balafre native.\n",
    "\n",
    "Litige. Regagner (et ne m’…).\n",
    "\n",
    "Ressac. Il frémit, se sape, na ! Eh, cavale ! Timide, il nia ce sursaut.\n",
    "\n",
    "Hasard repu, tel, le magicien à morte me lit. Un ignare le rapsode, lacs ému, mixa, mêla : Hep, Oceano Nox, ô, béchamel azur ! Éjaculer ! Topaze !\n",
    "\n",
    "Le cèdre, malabar faible, Arsinoë le macule, mante ivre, glauque, pis, l’air atone (sic). Art sournois : si, médicinale, l’autre glace (Melba ?) l’un ? N’alertai ni pollen (retêter : gercé, repu, denté…) ni tobacco.\n",
    "\n",
    "Tu, désir, brio rimé, eh, prolixe nécrophore, tu ferres l’avenir velu, ocre, cromant-né ?\n",
    "\n",
    "Rage, l’ara. Veuglaire. Sedan, tes elzévirs t’obsèdent. Romain ? Exact. Et Nemrod selle ses Samson !\n",
    "\n",
    "Et nier téocalli ?\n",
    "\n",
    "Cave canem (car ce nu trop minois – rembuscade d’éruptives à babil — admonesta, fil accru, Têtebleu ! qu’Ariane évitât net.\n",
    "\n",
    "Attention, ébénier factice, ressorti du réel. Ci-gît. Alpaga, gnome, le héros se lamente, trompé, chocolat : ce laid totem, ord, nil aplati, rituel biscornu ; ce sacré bedeau (quel bât ce Jésus !). Palace piégé, Torpédo drue si à fellah tôt ne peut ni le Big à ruer bezef.\n",
    "\n",
    "L’eugéniste en rut consuma d’art son épi d’éolienne ici rot (eh… rut ?). Toi, d’idem gin, élèvera, élu, bifocal, l’ithos et notre pathos à la hauteur de sec salamalec ?\n",
    "\n",
    "Élucider. Ion éclaté : Elle ? Tenu. Etna but (item mal famé), degré vide, julep : macédoine d’axiomes, sac semé d’École, véniel, ah, le verbe enivré (ne sucer ni arrêter, eh ça jamais !) lu n’abolira le hasard ?\n",
    "\n",
    "Nu, ottoman à écho, l’art su, oh, tara zéro, belle Deborah, ô, sacre ! Pute, vertubleu, qualité si vertu à la part tarifé (décalitres ?) et nul n’a lu trop s’il séria de ce basilic Iseut.\n",
    "\n",
    "Il à prié bonzes, Samaritain, Tora, vilains monstres (idolâtre DNA en sus) rêvés, évaporés : Arbalète (bètes) en noce du Tell ivre-mort, émeri tu : O, trapu à elfe, il lie l’os, il lia jérémiade lucide. Pétard ! Rate ta reinette, bigleur cruel, non à ce lot ! Si, farcis-toi dito le cœur !\n",
    "\n",
    "Lied à monstre velu, ange ni bête, sec à pseudo délire : Tsarine (sellée, là), Cid, Arétin, abruti de Ninive, Déjanire…\n",
    "\n",
    "Le Phénix, ève de sables, écarté, ne peut égarer racines radiales en mana : l’Oubli, fétiche en argile.\n",
    "Foudre.\n",
    "\n",
    "Prix : Ile de la Gorgone en roc, et, ô, Licorne écartelée, Sirène, rumb à bannir à ma (Red n’osa) niére de mimosa : Paysage d’Ourcq ocre sous ive d’écale ; Volcan. Roc : tarot célé du Père.\n",
    "\n",
    "Livres.\n",
    "\n",
    "Silène bavard, replié sur sa nullité (nu à je) belge : ipséité banale. L’ (eh, ça !) hydromel à ri, psaltérion. Errée Lorelei…\n",
    "\n",
    "Fi ! Marmelade déviré d’Aladine. D’or, Noël : crèche (l’an ici taverne gelée dès bol…) à santon givré, fi !, culé de l’âne vairon.\n",
    "\n",
    "Lapalisse élu, gnoses sans orgueil (écru, sale, sec). Saluts : angiome. T’es si crâneur !\n",
    "\n",
    "* * *\n",
    "\n",
    "Rue. Narcisse ! Témoignas-tu ! l’ascèse, là, sur ce lieu gros, nasses ongulées…\n",
    "\n",
    "S’il a pal, noria vénale de Lucifer, vignot nasal (obsédée, le genre vaticinal), eh, Cercle, on rode, nid à la dérive, Dèdale (M… !) ramifié ?\n",
    "\n",
    "Le rôle erre, noir, et la spirale mord, y hache l’élan abêti : Espiègle (béjaune) Till : un as rusé.\n",
    "\n",
    "Il perdra. Va bene.\n",
    "\n",
    "Lis, servile repu d’électorat, cornac, Lovelace. De visu, oser ?\n",
    "\n",
    "Coq cru, ô, Degas, y’a pas, ô mime, de rein à sonder : à marin nabab, murène risée.\n",
    "\n",
    "Le trace en roc, ilote cornéen.\n",
    "\n",
    "O, grog, ale d’elixir perdu, ô, feligrane ! Eh, cité, fil bu ! ô ! l’anamnèse, lai d’arsenic, arrérage tué, pénétra ce sel-base de Vexin. Eh, pèlerin à (Je : devin inédit) urbanité radicale (elle s’en ira…), stérile, dodu.\n",
    "\n",
    "Espaces (été biné ? gnaule ?) verts.\n",
    "\n",
    "Nomade, il rue, ocelot. Idiot-sic rafistolé : canon !\n",
    "\n",
    "Leur cruel gibet te niera, têtard raté, pédicule d’aimé rejailli.\n",
    "\n",
    "Soleil lie, fléau, partout ire (Métro, Mer, Ville…) tu déconnes. Été : bètel à brasero. Pavese versus Neandertal ! O, diserts noms ni à Livarot ni à Tir !\n",
    "\n",
    "Amassez.\n",
    "\n",
    "N’obéir.\n",
    "\n",
    "Pali, tu es ici : lis abécédaires, lis portulan : l’un te sert-il ? à ce défi rattrapa l’autre ? Vise-t-il auquel but rêvé tu perças ?\n",
    "\n",
    "Oh, arobe d’ellébore, Zarathoustra ! L’ohcéan à mot (Toundra ? Sahel ?) à ri : Lob à nul si à ma jachère, terrain récusé, nervi, née brève l’haleine véloce de mes casse-moix à (Déni, ô !) décampé.\n",
    "\n",
    "Lu, je diverge de ma flamme titubante : une telle (étal, ce noir édicule cela mal) ascèse drue tua, ha, l’As.\n",
    "\n",
    "Oh, taper ! Tontes ! Oh, tillac, ô, fibule à rêve l’Énigme (d’idiot tu) rhétoricienne.\n",
    "\n",
    "Il, Œdipe, Nostradamus nocturne et, si né Guelfe, zébreur à Gibelin tué (pentothal ?), le faiseur d’ode protège.\n",
    "Ipéca… : lapsus.\n",
    "\n",
    "Eject à bleu qu’aède berça sec. Un roc si bleu ! Tir.\n",
    "\n",
    "ital. : palindrome tôt dialectal. Oc ? Oh, cep mort et né, mal essoré, hélé. Mon gag aplati gicle. Érudit rossérecit, ça freine, benoit, net.\n",
    "\n",
    "Ta tentative en air auquel bète, turc, califat se (nom d’Ali-Baba !) sévit, pure de — d’ac ? — submersion importune, crac, menace, vacilla, co-étreinte…\n",
    "\n",
    "Nos masses, elles dorment ? Etc… Axé ni à mort-né des bots. Rivez ! Les Etna de Serial-Guevara l’égarent. N’amorcer coulevrine.\n",
    "\n",
    "Valser. Refuter.\n",
    "\n",
    "Oh, porc en exil (Orphée), miroir brisé du toc cabotin et né du Perec : Regret éternel.\n",
    "\n",
    "L’opiniâtre. L’annulable.\n",
    "\n",
    "Mec, Alger tua l’élan ici démission. Ru ostracisé, notarial, si peu qu’Alger, Viêt-Nam (élu caméléon !), Israël, Biafra, bal à merde : celez, apôtre Luc à Jéruzalem, ah ce boxon ! On à écopé, ha, le maximum.\n",
    "\n",
    "Escale d’os, pare le rang inutile. Métromane ici gamelle, tu perdras. Ah, tu as rusé ! Cain ! Lied imité la vache (à ne pas estimer) (flic assermenté, rengagé) régit.\n",
    "\n",
    "Il évita, nerf à la bataille trompé.\n",
    "\n",
    "Hé, dorée, l’Égérie pelée rape, sénile, sa vérité nue du sérum : rumeur à la laine, gel, if, feutrine, val, lieu-créche, ergot, pur, Bâtir ce lieu qu’Armada serve : if étété, éborgnas-tu l’astre sédatif ?\n",
    "\n",
    "Oh, célérités ! Nef ! Folie ! Oh, tubez ! Le brio ne cessera, ce cap sera ta valise ; l’âge : ni sel-liard (sic) ni master-(sic)-coq, ni cédrats, ni la lune brève. Tercé, sénégalais, un soleil perdra ta bétise héritée (Moi-Dieu, la vérole !)\n",
    "\n",
    "Déroba le serbe glauque, pis, ancestral, hébreu (Galba et Septime-Sévère). Cesser, vidé et nié.\n",
    "\n",
    "Tetanos. Etna dès boustrophédon répudié. Boiser.\n",
    "\n",
    "Révèle l’avare mélo, s’il t’a béni, brutal tablier vil.\n",
    "\n",
    "Adios. Pilles, pale rétine, le sel, l’acide mercanti.\n",
    "\n",
    "Feu que Judas rêve, civette imitable, tu as alerté, sort à blason, leur croc. Et nier et n’oser.\n",
    "\n",
    "Casse-t-il, ô, baiser vil ? à toi, nu désir brisé, décédé, trope percé, roc lu. Détrompe-la. Morts : l’Ame, l’Élan abêti, revenu.\n",
    "\n",
    "Désire ce trépas rêvé : Ci va ! S’il porte, sépulcral, ce repentir, cet écrit ne perturbe le lucre : Haridelle, ta gabegie ne mord ni la plage ni l’écart.\n",
    "    \n",
    "_[Georges Perec](https://fr.wikipedia.org/wiki/Georges_Perec). Au moulin d'Andé, 1969._\n",
    "</div>\n",
    "\n",
    "\n",
    "\n",
    "\n"
   ]
  }
 ],
 "metadata": {
  "kernelspec": {
   "display_name": "Python 3",
   "language": "python",
   "name": "python3"
  },
  "language_info": {
   "codemirror_mode": {
    "name": "ipython",
    "version": 3
   },
   "file_extension": ".py",
   "mimetype": "text/x-python",
   "name": "python",
   "nbconvert_exporter": "python",
   "pygments_lexer": "ipython3",
   "version": "3.8.5"
  }
 },
 "nbformat": 4,
 "nbformat_minor": 2
}
