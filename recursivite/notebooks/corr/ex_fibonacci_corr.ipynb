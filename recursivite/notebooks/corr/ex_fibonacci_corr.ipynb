{
 "cells": [
  {
   "cell_type": "markdown",
   "metadata": {},
   "source": [
    "<div style='background-color: #e3a8b6;\n",
    "    border: 0.5em solid black;\n",
    "    border-radius: 0.5em;\n",
    "    padding: 1em;'>\n",
    "    <h2>Exercice</h2>\n",
    "    <h1>Suite de Fibonacci</h1>\n",
    "</div>"
   ]
  },
  {
   "cell_type": "markdown",
   "metadata": {},
   "source": [
    "La suite de Fibonacci est définie de la façon suivante :\n",
    "\n",
    "- les deux premiers termes de la suite, $u_0$ et $u_1$, ont pour valeur $1$,\n",
    "- lorsque $n \\geq 2$, le terme $u_n$ est la somme des deux termes précédents, $u_{n-1}$ et $u_{n-2}$.\n",
    "\n",
    "**(1)** ✏️ Déterminer les premières valeurs de la suite de Fibonacci.\n",
    "\n",
    "| Valeur de $n$   | $0$ | $1$ | $2$ | $3$ | $4$ | $5$ | $6$  | $7$  | $8$  | $9$  | $10$ | $11$  | $12$  |\n",
    "|:---------------:|:---:|:---:|:---:|:---:|:---:|:---:|:----:|:----:|:----:|:----:|:----:|:-----:|:-----:|\n",
    "| Valeur de $u_n$ | $1$ | $1$ | $2$ | $3$ | $5$ | $8$ | $13$ | $21$ | $34$ | $55$ | $89$ | $144$ | $233$ |"
   ]
  },
  {
   "cell_type": "markdown",
   "metadata": {},
   "source": [
    "**(2)** 💻 Définir une fonction récursive `fibonacci` qui prend en paramètre d'entrée un entier positif `n` et qui renvoie la valeur du terme de rang `n` dans la suite de Fibonacci."
   ]
  },
  {
   "cell_type": "code",
   "execution_count": 1,
   "metadata": {},
   "outputs": [],
   "source": [
    "def fibonacci(n):\n",
    "    \"\"\"\n",
    "    Calcule le terme de rang n dans la suite de Fibonacci.\n",
    "    - Entrées : n (entier positif)\n",
    "    - Sortie : (entier)\n",
    "    \"\"\"\n",
    "    if n == 0 or n == 1:\n",
    "        return 1\n",
    "    else:\n",
    "        return fibonacci(n-1) + fibonacci(n-2)"
   ]
  },
  {
   "cell_type": "code",
   "execution_count": 2,
   "metadata": {},
   "outputs": [
    {
     "name": "stdout",
     "output_type": "stream",
     "text": [
      "1 1 2 3 5 8 13 21 34 55 89 144 233 377 610 987 1597 2584 4181 6765 "
     ]
    }
   ],
   "source": [
    "for n in range(20):\n",
    "    print(fibonacci(n), end=' ')"
   ]
  },
  {
   "cell_type": "markdown",
   "metadata": {},
   "source": [
    "**(3)** ✏️ Dessiner la pile d'appels de la fonction `fibonacci` lors de l'exécution de l'appel `fibonacci(5)`."
   ]
  },
  {
   "cell_type": "raw",
   "metadata": {},
   "source": [
    "fibonacci(5)\n",
    "    |\n",
    "    return fibonacci(4) + fibonacci(3)\n",
    "               |              |\n",
    "               |              return fibonacci(2) + fibonacci(1)\n",
    "               |                         |              |\n",
    "               |                         |              return 1\n",
    "               |                         |\n",
    "               |                         return fibonacci(1) + fibonacci(0)\n",
    "               |                                    |              |\n",
    "               |                                    |              return 1\n",
    "               |                                    |\n",
    "               |                                    return 1\n",
    "               |\n",
    "               return fibonacci(3) + fibonacci(2)\n",
    "                          |              |\n",
    "                          |              return fibonacci(1) + fibonacci(0)\n",
    "                          |                         |              |\n",
    "                          |                         |              return 1\n",
    "                          |                         |\n",
    "                          |                         return 1\n",
    "                          |\n",
    "                          return fibonacci(2) + fibonacci(1)\n",
    "                                     |              |\n",
    "                                     |              return 1\n",
    "                                     |\n",
    "                                     return fibonacci(1) + fibonacci(0)\n",
    "                                                |              |\n",
    "                                                |              return 1\n",
    "                                                |\n",
    "                                                return 1"
   ]
  },
  {
   "cell_type": "markdown",
   "metadata": {},
   "source": [
    "**(4)** 💻 Compléter les lignes de code ci-dessous, dont l'objectif est mesurer le temps nécessaire pour calculer `fibonacci(n)`, pour toutes les valeurs entières de `n` comprises entre 20 et 36."
   ]
  },
  {
   "cell_type": "code",
   "execution_count": 3,
   "metadata": {},
   "outputs": [],
   "source": [
    "from time import time\n",
    "\n",
    "def chrono(n):\n",
    "    \"\"\"\n",
    "    Chronomètre le temps de calcul de fibonacci(n).\n",
    "    - Entrée : n (entier)\n",
    "    - Sortie : (flottant)\n",
    "    \"\"\"\n",
    "    tps_debut = time()\n",
    "    u_n = fibonacci(n)\n",
    "    tps_fin = time()\n",
    "    return tps_fin - tps_debut\n",
    "\n",
    "liste_abscisses = [n for n in range(20, 37)]\n",
    "liste_ordonnees = [chrono(n) for n in range(20, 37)]"
   ]
  },
  {
   "cell_type": "markdown",
   "metadata": {},
   "source": [
    "**(5)** Exécuter la cellule suivante pour représenter le temps de calcul de `fibonacci(n)` en fonction de `n`."
   ]
  },
  {
   "cell_type": "code",
   "execution_count": 4,
   "metadata": {},
   "outputs": [
    {
     "data": {
      "image/png": "[encoded data removed]",
      "text/plain": [
       "<Figure size 1152x432 with 2 Axes>"
      ]
     },
     "metadata": {
      "needs_background": "light"
     },
     "output_type": "display_data"
    }
   ],
   "source": [
    "import matplotlib.pyplot as plt\n",
    "\n",
    "plt.figure(figsize=(16, 6))\n",
    "\n",
    "plt.subplot(121)\n",
    "plt.scatter(liste_abscisses, liste_ordonnees)\n",
    "plt.xlabel(\"Rang n du terme calculé\")\n",
    "plt.ylabel(\"Temps de calcul (en secondes)\")\n",
    "\n",
    "plt.subplot(122)\n",
    "plt.scatter(liste_abscisses, liste_ordonnees)\n",
    "plt.yscale('log')\n",
    "plt.xlabel(\"Rang n du terme calculé\")\n",
    "plt.ylabel(\"Temps de calcul (en secondes, échelle log.)\")\n",
    "\n",
    "plt.show()"
   ]
  }
 ],
 "metadata": {
  "kernelspec": {
   "display_name": "Python 3",
   "language": "python",
   "name": "python3"
  },
  "language_info": {
   "codemirror_mode": {
    "name": "ipython",
    "version": 3
   },
   "file_extension": ".py",
   "mimetype": "text/x-python",
   "name": "python",
   "nbconvert_exporter": "python",
   "pygments_lexer": "ipython3",
   "version": "3.8.5"
  }
 },
 "nbformat": 4,
 "nbformat_minor": 2
}
