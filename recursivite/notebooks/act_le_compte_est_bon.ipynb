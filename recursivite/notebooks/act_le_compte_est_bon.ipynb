{
 "cells": [
  {
   "cell_type": "markdown",
   "metadata": {},
   "source": [
    "<div style='background-color: #87ceeb;\n",
    "    border: 0.5em solid black;\n",
    "    border-radius: 0.5em;\n",
    "    padding: 1em;'>\n",
    "    <h2>Activité</h2>\n",
    "    <h1>Le compte est bon !</h1>\n",
    "</div>"
   ]
  },
  {
   "cell_type": "markdown",
   "metadata": {},
   "source": [
    "Le but de l'activité est de réaliser un solveur du jeu *Le compte est bon* dont voici les règles.\n",
    "\n",
    "D'abord, on tire au hasard :\n",
    "- un entier `objectif` compris entre 100 et 999,\n",
    "- six éléments différents dans le tableau `[1, 1, 2, 2, 3, 3, 4, 4, 5, 5, 6, 6, 7, 7, 8, 8, 9, 9, 10, 10, 25, 25, 50, 50, 75, 75, 100, 100]`.\n",
    "\n",
    "Le but du jeu est d'atteindre l'objectif à partir des six nombres via des additions, soustractions, multiplications ou divisions sachant que :\n",
    "- on ne peut utiliser qu'une seule fois chacun des six nombres,\n",
    "- les seules opérations permises sont celles dont le résultat est un entier positif."
   ]
  },
  {
   "cell_type": "markdown",
   "metadata": {},
   "source": [
    "![Le compte est bon](https://ntoulzac.github.io/Cours-NSI-Terminale/recursivite/images/le_compte_est_bon.png)"
   ]
  },
  {
   "cell_type": "markdown",
   "metadata": {},
   "source": [
    "Par exemple, pour le tirage ci-dessus, une solution est :\n",
    "<table class='sobre'>\n",
    "    <tr><td><b>25</b> + <b>10</b> = 35</td></tr>\n",
    "    <tr><td><b>9</b> + <b>6</b> = 15</td></tr>\n",
    "    <tr><td>15 + <b>3</b> = 18</td></tr>\n",
    "    <tr><td>18 - <b>1</b> = 17</td></tr>\n",
    "    <tr><td>35 x 17 = 595</td></tr>\n",
    "</table>\n",
    "\n",
    "Notre but est d'écrire une fonction récursive permettant de trouver une solution, quand elle existe.\n",
    "\n",
    "**(1)** 💻 Écrire les instructions permettant d'initialiser la variable `objectif`."
   ]
  },
  {
   "cell_type": "code",
   "execution_count": null,
   "metadata": {},
   "outputs": [],
   "source": []
  },
  {
   "cell_type": "markdown",
   "metadata": {},
   "source": [
    "**(2)** 💻 Définir une fonction `selectionner` prenant en paramètres d'entrée un tableau `tab` et un entier `nb_elem` et renvoyant un tableau constitué de `nb_elem` éléments choisis au hasard dans `tab`. Attention, un même élément ne peut pas être choisi deux fois."
   ]
  },
  {
   "cell_type": "code",
   "execution_count": null,
   "metadata": {},
   "outputs": [],
   "source": []
  },
  {
   "cell_type": "markdown",
   "metadata": {},
   "source": [
    "**(3)** 💻 Définir trois fonctions `additionner`, `soustraire` et `multiplier` prenant en paramètres d'entrée deux entiers `x` et `y` et renvoyant respectivement la somme, la différence et le produit de `x` et `y`."
   ]
  },
  {
   "cell_type": "code",
   "execution_count": null,
   "metadata": {},
   "outputs": [],
   "source": []
  },
  {
   "cell_type": "markdown",
   "metadata": {},
   "source": [
    "**(4)** 💻 Définir une fonction `diviser` prenant en paramètres d'entrée deux entiers `x` et `y` et renvoyant le quotient de `x` par `y` dans le cas où `x` est divisible par `y`, et 0 dans tous les autres cas."
   ]
  },
  {
   "cell_type": "code",
   "execution_count": null,
   "metadata": {},
   "outputs": [],
   "source": []
  },
  {
   "cell_type": "markdown",
   "metadata": {},
   "source": [
    "**(5)** ✏️ Quel est le type de la variable `operations` définie ci-dessous ?"
   ]
  },
  {
   "cell_type": "code",
   "execution_count": null,
   "metadata": {},
   "outputs": [],
   "source": [
    "operations = {'+' : additionner, '-' : soustraire, 'x' : multiplier, '/' : diviser}"
   ]
  },
  {
   "cell_type": "markdown",
   "metadata": {},
   "source": [
    "**(6)** ✏️ À quoi correspondent les affichages obtenus en exécutant la cellule suivante ?"
   ]
  },
  {
   "cell_type": "code",
   "execution_count": null,
   "metadata": {},
   "outputs": [],
   "source": [
    "for op in operations:\n",
    "    print(operations[op](12, 3))"
   ]
  },
  {
   "cell_type": "markdown",
   "metadata": {},
   "source": [
    "On souhaite maintenant définir une fonction récursive `existe_solution` qui prend en paramètres d'entrée :\n",
    "- un tableau `tab` dont les éléments sont les nombres à partir desquels on opère pour tenter d'atteindre l'objectif,\n",
    "- un entier `obj` correspondant à l'objectif à atteindre,\n",
    "- un entier `nb_ope_max` correspondant au nombre maximal d'opérations autorisées pour atteindre l'objectif,\n",
    "\n",
    "et qui renvoie `True` si une solution existe et `False` sinon. On donne la structure de la fonction `existe_solution`.\n",
    "\n",
    "**(7)** 💻 Compléter le code de la fonction `existe_solution`.\n",
    "\n",
    "*Indication :* Pour chaque couple d'éléments de `tab` et pour chacune des quatre opérations, on calcule le résultat obtenu. Si ce résultat est égal à `obj`, cela signifie qu'une solution existe. Sinon, on appelle récursivement la fonction `existe_solution` avec un nouveau tableau bien choisi..."
   ]
  },
  {
   "cell_type": "code",
   "execution_count": null,
   "metadata": {},
   "outputs": [],
   "source": [
    "def existe_solution(tab, obj, nb_ope_max):\n",
    "    \"\"\"\n",
    "    Détermine si le nombre objectif peut être obtenir à partir des nombres présents dans un tableau.\n",
    "    - Entrées : tab (tableau d'entiers), obj (entier, objectif à atteindre),\n",
    "                nb_ope_max (entier, nombre maximal d'opérations autorisées)\n",
    "    - Sortie : (booléen, True si une solution existe, False sinon)\n",
    "    \"\"\"\n",
    "    for ......:\n",
    "        for ......:\n",
    "            for ......:\n",
    "                resultat = operations[......](tab[......], tab[......])\n",
    "                if resultat > 0:\n",
    "                    if resultat == obj : # Si l'objectif est atteint\n",
    "                        return ......\n",
    "                    nouveau_tab = [elem for elem in tab] # Création d'une copie du tableau tab\n",
    "                    nouveau_tab[......] = resultat\n",
    "                    del nouveau_tab[......] \n",
    "                    if existe_solution(......): # Si l'objectif est atteignable\n",
    "                        return ......\n",
    "    return ......"
   ]
  },
  {
   "cell_type": "markdown",
   "metadata": {},
   "source": [
    "**(8)** ✏️ 💻 Tester la fonction `existe_solution` en exécutant les cellules suivantes :"
   ]
  },
  {
   "cell_type": "code",
   "execution_count": null,
   "metadata": {},
   "outputs": [],
   "source": [
    "assert existe_solution([10, 1, 25, 9, 3, 6], 595, 5), 'Test échoué'"
   ]
  },
  {
   "cell_type": "code",
   "execution_count": null,
   "metadata": {},
   "outputs": [],
   "source": [
    "assert not existe_solution([5, 10, 7, 1, 6, 1], 934, 5), 'Test échoué'"
   ]
  },
  {
   "cell_type": "code",
   "execution_count": null,
   "metadata": {},
   "outputs": [],
   "source": [
    "assert existe_solution([6, 50, 25, 75, 25, 10], 777, 5), 'Test échoué'"
   ]
  },
  {
   "cell_type": "markdown",
   "metadata": {},
   "source": [
    "**(9)** 💻 Recopier puis modifier la définition de la fonction `existe_solution` pour faire afficher les opérations permettant d'atteindre l'objectif. Pour simplifier, la solution sera lue à l'écran de bas en haut."
   ]
  },
  {
   "cell_type": "code",
   "execution_count": null,
   "metadata": {},
   "outputs": [],
   "source": []
  },
  {
   "cell_type": "code",
   "execution_count": null,
   "metadata": {},
   "outputs": [],
   "source": [
    "existe_solution([10, 1, 25, 9, 3, 6], 595, 5)"
   ]
  },
  {
   "cell_type": "code",
   "execution_count": null,
   "metadata": {},
   "outputs": [],
   "source": [
    "existe_solution([5, 10, 7, 1, 6, 1], 934, 5)"
   ]
  },
  {
   "cell_type": "markdown",
   "metadata": {},
   "source": [
    "**(10)** 💻 Écrire le programme principal, au cours duquel :\n",
    "- l'objectif est tiré au hasard entre 100 et 999, et il s'affiche à l'écran,\n",
    "- six nombres sont tirés au hasard parmi les 28 nombres possibles, et ils s'affichent à l'écran,\n",
    "- le message `'Le compte est bon !'` s'affiche à l'écran suivi de la solution trouvée, ou bien le message `'Pas de solution...'`."
   ]
  },
  {
   "cell_type": "code",
   "execution_count": null,
   "metadata": {},
   "outputs": [],
   "source": []
  },
  {
   "cell_type": "markdown",
   "metadata": {},
   "source": [
    "<div style='background-color: #87ceeb;\n",
    "    border-radius: 0.5em;\n",
    "    padding: 1em;'>\n",
    "    <h2>Pour aller plus loin...</h2>\n",
    "</div>"
   ]
  },
  {
   "cell_type": "markdown",
   "metadata": {},
   "source": [
    "**(11)** 💻 Faire en sorte que la solution s'affiche *dans le bon sens*, sans qu'on n'ait besoin de la lire de bas en haut."
   ]
  },
  {
   "cell_type": "code",
   "execution_count": null,
   "metadata": {},
   "outputs": [],
   "source": []
  },
  {
   "cell_type": "code",
   "execution_count": null,
   "metadata": {},
   "outputs": [],
   "source": []
  },
  {
   "cell_type": "markdown",
   "metadata": {},
   "source": [
    "**(12)** 💻 Dans le cas où il n'existe pas de solution, faire rechercher une solution pour une valeur la plus proche possible de l'objectif."
   ]
  },
  {
   "cell_type": "code",
   "execution_count": null,
   "metadata": {},
   "outputs": [],
   "source": []
  }
 ],
 "metadata": {
  "kernelspec": {
   "display_name": "Python 3",
   "language": "python",
   "name": "python3"
  },
  "language_info": {
   "codemirror_mode": {
    "name": "ipython",
    "version": 3
   },
   "file_extension": ".py",
   "mimetype": "text/x-python",
   "name": "python",
   "nbconvert_exporter": "python",
   "pygments_lexer": "ipython3",
   "version": "3.8.8"
  }
 },
 "nbformat": 4,
 "nbformat_minor": 4
}
