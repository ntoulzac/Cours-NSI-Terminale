{
 "cells": [
  {
   "cell_type": "markdown",
   "metadata": {},
   "source": [
    "<div style='background-color: #e3a8b6;\n",
    "    border: 0.5em solid black;\n",
    "    border-radius: 0.5em;\n",
    "    padding: 1em;'>\n",
    "    <h2>Exercice</h2>\n",
    "    <h1>Algorithme d'Euclide</h1>\n",
    "</div>"
   ]
  },
  {
   "cell_type": "markdown",
   "metadata": {},
   "source": [
    "Le plus grand commun diviseur (PGCD) de deux entiers peut être calculé grâce à l'algorithme d'Euclide :"
   ]
  },
  {
   "cell_type": "markdown",
   "metadata": {},
   "source": [
    "<div style='background-color: #f7bd83;\n",
    "    border-radius: 0.5em;\n",
    "    padding: 1em;\n",
    "    margin: 0em 2em 0em 2em'>\n",
    "\n",
    "<p><b>Algorithme d'Euclide pour le calcul du PGCD des entiers <code>a</code> et <code>b</code>.</b></p>\n",
    "<p><b>Début</b></p>\n",
    "<p STYLE=\"padding:0 0 0 40px;\"><code>r</code> ← reste de la division de  <code>a</code> par <code>b</code></p>\n",
    "<p STYLE=\"padding:0 0 0 40px;\">Si <code>r</code> = 0 alors</p>\n",
    "    <p STYLE=\"padding:0 0 0 80px;\">Retourner <code>b</code></p>\n",
    "<p STYLE=\"padding:0 0 0 40px;\">Sinon</p>\n",
    "<p STYLE=\"padding:0 0 0 80px;\">Retourner PGCD(<code>b</code>,  <code>r</code>)</p>\n",
    "<p><b>Fin</b></p>\n",
    "        \n",
    "</div>"
   ]
  },
  {
   "cell_type": "markdown",
   "metadata": {},
   "source": [
    "**(1)** ✏️ Appliquer à la main l'algorithme d'Euclide pour calculer le PGCD de 1260 et 546.\n",
    "\n",
    "**(2)** 💻 Implémenter l'algorithme d'Euclide sous la forme d'une fonction `pgcd`."
   ]
  },
  {
   "cell_type": "code",
   "execution_count": 20,
   "metadata": {},
   "outputs": [],
   "source": []
  },
  {
   "cell_type": "markdown",
   "metadata": {},
   "source": [
    "**(3)** ✏️ Dessiner la pile d'appels de la fonction `pgcd` lors de l'exécution de l'appel `pgcd(1260, 546)`."
   ]
  }
 ],
 "metadata": {
  "kernelspec": {
   "display_name": "Python 3",
   "language": "python",
   "name": "python3"
  },
  "language_info": {
   "codemirror_mode": {
    "name": "ipython",
    "version": 3
   },
   "file_extension": ".py",
   "mimetype": "text/x-python",
   "name": "python",
   "nbconvert_exporter": "python",
   "pygments_lexer": "ipython3",
   "version": "3.8.5"
  }
 },
 "nbformat": 4,
 "nbformat_minor": 2
}
