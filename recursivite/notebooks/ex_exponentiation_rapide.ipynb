{
 "cells": [
  {
   "cell_type": "markdown",
   "metadata": {},
   "source": [
    "<div style='background-color: #e3a8b6;\n",
    "    border: 0.5em solid black;\n",
    "    border-radius: 0.5em;\n",
    "    padding: 1em;'>\n",
    "    <h2>Exercice</h2>\n",
    "    <h1>Exponentiation rapide</h1>\n",
    "</div>"
   ]
  },
  {
   "cell_type": "markdown",
   "metadata": {},
   "source": [
    "La fonction récursive `puissance_rec` définie dans le cours peut être rendue beaucoup plus efficace en modifiant sa définition. Le nombre d'appels récursifs est grandement diminué si on tient compte du fait que :\n",
    "- $a^0 = 1$ et $a^1 = a$,\n",
    "- lorsque $n$ est pair, $a^n = (a\\times a)^{n/2}$,\n",
    "- lorsque $n$ est impair, $a^n = a \\times (a\\times a)^{(n-1)/2}$.\n",
    "\n",
    "On parle d'exponentiation rapide."
   ]
  },
  {
   "cell_type": "markdown",
   "metadata": {},
   "source": [
    "**(1)** 💻 Définir la fonction récursive `exponentiation_rapide`."
   ]
  },
  {
   "cell_type": "code",
   "execution_count": null,
   "metadata": {},
   "outputs": [],
   "source": []
  },
  {
   "cell_type": "markdown",
   "metadata": {},
   "source": [
    "**(2)** ✏️ Dessiner la pile d'appels de la fonction `exponentiation_rapide` lors de l'exécution de l'appel `exponentiation_rapide(2, 100)`.\n",
    "\n",
    "**(3)** 💻 Déterminer le nombre de chiffres dans l'écriture décimale du nombre $2^{1000000}$ (deux puissance un million)."
   ]
  },
  {
   "cell_type": "code",
   "execution_count": null,
   "metadata": {},
   "outputs": [],
   "source": []
  }
 ],
 "metadata": {
  "kernelspec": {
   "display_name": "Python 3",
   "language": "python",
   "name": "python3"
  },
  "language_info": {
   "codemirror_mode": {
    "name": "ipython",
    "version": 3
   },
   "file_extension": ".py",
   "mimetype": "text/x-python",
   "name": "python",
   "nbconvert_exporter": "python",
   "pygments_lexer": "ipython3",
   "version": "3.8.8"
  }
 },
 "nbformat": 4,
 "nbformat_minor": 2
}
