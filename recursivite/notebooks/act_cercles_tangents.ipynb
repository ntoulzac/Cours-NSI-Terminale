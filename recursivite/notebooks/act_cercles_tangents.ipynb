{
 "cells": [
  {
   "cell_type": "markdown",
   "metadata": {},
   "source": [
    "<div style='background-color: #87ceeb;\n",
    "    border: 0.5em solid black;\n",
    "    border-radius: 0.5em;\n",
    "    padding: 1em;'>\n",
    "    <h2>Activité</h2>\n",
    "    <h1>Cercles tangents</h1>\n",
    "</div>"
   ]
  },
  {
   "cell_type": "markdown",
   "metadata": {},
   "source": [
    "L'objectif de cette activité est de dessiner grâce au module `turtle` des figures géométriques à partir de fonctions récursives."
   ]
  },
  {
   "cell_type": "code",
   "execution_count": null,
   "metadata": {},
   "outputs": [],
   "source": [
    "import turtle"
   ]
  },
  {
   "cell_type": "markdown",
   "metadata": {},
   "source": [
    "**(1)** ✏️ 💻 Écrire la spécification de la procédure `dessiner_cercle`."
   ]
  },
  {
   "cell_type": "code",
   "execution_count": null,
   "metadata": {},
   "outputs": [],
   "source": [
    "def dessiner_cercle(centre, rayon, couleur, est_plein):\n",
    "    \"\"\"\n",
    "    Spécification à écrire...\n",
    "    \"\"\"\n",
    "    turtle.color(couleur)\n",
    "    turtle.up()\n",
    "    centre_x, centre_y = centre\n",
    "    turtle.goto(centre_x, centre_y - rayon)\n",
    "    turtle.down()\n",
    "    if est_plein:\n",
    "        turtle.begin_fill()\n",
    "    turtle.circle(rayon)\n",
    "    if est_plein:\n",
    "        turtle.end_fill()"
   ]
  },
  {
   "cell_type": "code",
   "execution_count": null,
   "metadata": {},
   "outputs": [],
   "source": [
    "fenetre = turtle.Screen() # Ces deux lignes permettent d'ouvrir une fenêtre Turtle\n",
    "fenetre.setup(800, 600)   # avec une résolution de 800px par 600px\n",
    "turtle.TurtleScreen._RUNNING = True\n",
    "turtle.speed('fastest')   # Le dessin est réalisé à vitesse rapide\n",
    "turtle.hideturtle()       # La \"tortue\" n'apparaît pas dans la fenêtre\n",
    "\n",
    "dessiner_cercle((0, 0), 200, 'red', True)\n",
    "\n",
    "fenetre.exitonclick()     # La fenêtre Turtle se ferme en cliquant dessus"
   ]
  },
  {
   "cell_type": "markdown",
   "metadata": {},
   "source": [
    "On souhaite reproduire la figure suivante :"
   ]
  },
  {
   "cell_type": "markdown",
   "metadata": {},
   "source": [
    "<img src=\"https://ntoulzac.github.io/Cours-NSI-Terminale/recursivite/images/cercles_tangents_1.png\" alt=\"Cercles tangents\">"
   ]
  },
  {
   "cell_type": "markdown",
   "metadata": {},
   "source": [
    "Chaque cercle est entouré, au dessus et à droite, de deux cercles deux fois plus petits et qui lui sont tangents.\n",
    "\n",
    "**(2)** ✏️ Si un cercle a pour centre le point de coordonnées `(centre_x, centre_y)` et a pour rayon `rayon`, quelles sont les coordonnées du centre des deux petits cercles qui lui sont tangents, et quel est leur rayon ?\n",
    "\n",
    "**(3)** 💻 Définir une procédure récursive `cercles_tangents` qui permet de dessiner la figure."
   ]
  },
  {
   "cell_type": "code",
   "execution_count": null,
   "metadata": {},
   "outputs": [],
   "source": []
  },
  {
   "cell_type": "code",
   "execution_count": null,
   "metadata": {},
   "outputs": [],
   "source": [
    "fenetre = turtle.Screen()\n",
    "fenetre.setup(800, 600)\n",
    "turtle.TurtleScreen._RUNNING = True\n",
    "turtle.speed('fastest')\n",
    "turtle.hideturtle()\n",
    "\n",
    "cercles_tangents((-64, -64), 64, 6)\n",
    "\n",
    "fenetre.exitonclick()"
   ]
  },
  {
   "cell_type": "markdown",
   "metadata": {},
   "source": [
    "On souhaite maintenant reproduire la figure suivante :"
   ]
  },
  {
   "cell_type": "markdown",
   "metadata": {},
   "source": [
    "![Cercles tangents ](https://ntoulzac.github.io/Cours-NSI-Terminale/recursivite/images/cercles_tangents_2.png)"
   ]
  },
  {
   "cell_type": "markdown",
   "metadata": {},
   "source": [
    "**(4)** 💻 Définir une procédure récursive `autres_cercles_tangents` qui permet de dessiner la figure."
   ]
  },
  {
   "cell_type": "code",
   "execution_count": null,
   "metadata": {},
   "outputs": [],
   "source": []
  },
  {
   "cell_type": "code",
   "execution_count": null,
   "metadata": {},
   "outputs": [],
   "source": []
  }
 ],
 "metadata": {
  "kernelspec": {
   "display_name": "Python 3",
   "language": "python",
   "name": "python3"
  },
  "language_info": {
   "codemirror_mode": {
    "name": "ipython",
    "version": 3
   },
   "file_extension": ".py",
   "mimetype": "text/x-python",
   "name": "python",
   "nbconvert_exporter": "python",
   "pygments_lexer": "ipython3",
   "version": "3.8.5"
  }
 },
 "nbformat": 4,
 "nbformat_minor": 2
}
