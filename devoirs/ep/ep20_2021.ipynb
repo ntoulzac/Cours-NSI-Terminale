{
 "cells": [
  {
   "cell_type": "markdown",
   "metadata": {},
   "source": [
    "<div style='background-color: #34c924;\n",
    "    border: 0.5em solid black;\n",
    "    border-radius: 0.5em;\n",
    "    padding: 1em;'>\n",
    "    <h2>Épreuve pratique</h2>\n",
    "    <h1>Sujet 2021_20</h1>\n",
    "</div>"
   ]
  },
  {
   "cell_type": "markdown",
   "metadata": {},
   "source": [
    "<div style='background-color: #34c924;\n",
    "    border-radius: 0.5em;\n",
    "    padding: 1em;'>\n",
    "    <h2>Exercice 1</h2>\n",
    "</div>"
   ]
  },
  {
   "cell_type": "markdown",
   "metadata": {},
   "source": [
    "On a relevé les valeurs moyennes annuelles des températures à Paris pour la période\n",
    "allant de 2013 à 2019. Les résultats ont été récupérés sous la forme de deux listes : l’une\n",
    "pour les températures, l’autre pour les années :\n",
    "\n",
    "`t_moy = [14.9, 13.3, 13.1, 12.5, 13.0, 13.6, 13.7]`\n",
    "\n",
    "`annees = [2013, 2014, 2015, 2016, 2017, 2018, 2019]`\n",
    "\n",
    "Écrire la fonction `mini` qui prend en paramètres le tableau `releve` des relevés et le\n",
    "tableau `date` des dates et qui renvoie la plus petite valeur relevée au cours de la\n",
    "période et l’année correspondante.\n",
    "\n",
    "Exemple :\n",
    "\n",
    "```python\n",
    ">>> mini(t_moy, annees)\n",
    "12.5, 2016\n",
    "```"
   ]
  },
  {
   "cell_type": "code",
   "execution_count": null,
   "metadata": {},
   "outputs": [],
   "source": [
    "# code de l'exercice 1 ici ..."
   ]
  },
  {
   "cell_type": "markdown",
   "metadata": {},
   "source": [
    "<div style='background-color: #34c924;\n",
    "    border-radius: 0.5em;\n",
    "    padding: 1em;'>\n",
    "    <h2>Exercice 2</h2>\n",
    "</div>"
   ]
  },
  {
   "cell_type": "markdown",
   "metadata": {},
   "source": [
    "Un mot palindrome peut se lire de la même façon de gauche à droite ou de droite à gauche : _bob_, _radar_ et _non_ sont des mots palindromes.\n",
    "\n",
    "De même certains nombres sont eux aussi des palindromes : _33_, _121_, _345543_.\n",
    "\n",
    "L’objectif de cet exercice est d’obtenir un programme Python permettant de tester si un nombre est un nombre palindrome.\n",
    "\n",
    "Pour remplir cette tâche, on vous demande de compléter le code des trois fonctions ci-dessous sachant que la fonction `est_nbre_palindrome` s’appuiera sur la fonction `est_palindrome` qui elle-même s’appuiera sur la fonction `inverse_chaine`.\n",
    "\n",
    "La fonction `inverse_chaine` inverse l'ordre des caractères d'une chaîne de caractères chaine et renvoie la chaîne inversée.\n",
    "\n",
    "La fonction `est_palindrome` teste si une chaine de caractères chaine est un palindrome. Elle renvoie `True` si c’est le cas et `False` sinon. Cette fonction s’appuie sur la fonction précédente.\n",
    "\n",
    "La fonction `est_nbre_palindrome` teste si un nombre `nbre` est un palindrome. Elle renvoie `True` si c’est le cas et `False` sinon. Cette fonction s’appuie sur la fonction précédente.\n",
    "\n",
    "Compléter le code des trois fonctions ci-dessous.\n",
    "\n",
    "Exemples :\n",
    "```python\n",
    ">>> inverse_chaine('bac')\n",
    "'cab'\n",
    ">>> est_palindrome('NSI')\n",
    "False\n",
    ">>> est_palindrome('ISN-NSI')\n",
    "True\n",
    ">>> est_nbre_palindrome(214312)\n",
    "False\n",
    ">>> est_nbre_palindrome(213312)\n",
    "True\n",
    "```"
   ]
  },
  {
   "cell_type": "code",
   "execution_count": null,
   "metadata": {},
   "outputs": [],
   "source": [
    "def inverse_chaine(chaine):\n",
    "    result = ...\n",
    "    for caractere in chaine:\n",
    "        result = ...\n",
    "    return result\n",
    "\n",
    "def est_palindrome(chaine):\n",
    "    inverse = inverse_chaine(chaine)\n",
    "    return ...\n",
    "\n",
    "def est_nbre_palindrome(nbre):\n",
    "    chaine = ...\n",
    "    return est_palindrome(chaine)"
   ]
  },
  {
   "cell_type": "markdown",
   "metadata": {},
   "source": [
    "<div style='background-color: #34c924;\n",
    "    border-radius: 0.5em;\n",
    "    padding: 1em;'>\n",
    "    <h2>Tests</h2>\n",
    "</div>"
   ]
  },
  {
   "cell_type": "code",
   "execution_count": null,
   "metadata": {},
   "outputs": [],
   "source": [
    "assert mini([14.9, 13.3, 13.1, 12.5, 13.0, 13.6, 13.7], [2013, 2014, 2015, 2016, 2017, 2018, 2019]) == (12.5, 2016)\n",
    "assert mini([12.5, 13.0, 13.6, 13.7, 12.3, 16], [2016, 2017, 2018, 2019, 2020, 2021]) == (12.3, 2020)\n",
    "assert mini([12.5, 13.3, 13.1, 12.5, 13.0, 13.6, 13.7], [2013, 2014, 2015, 2016, 2017, 2018, 2019]) == (12.5, 2013)\n",
    "print(\"Tests passés avec succès pour l'exercice 1 !\")"
   ]
  },
  {
   "cell_type": "code",
   "execution_count": null,
   "metadata": {},
   "outputs": [],
   "source": [
    "assert inverse_chaine('bac') == 'cab'\n",
    "assert not est_palindrome('NSI')\n",
    "assert est_palindrome('ISN-NSI')\n",
    "assert not est_nbre_palindrome(214312)\n",
    "assert est_nbre_palindrome(213312)\n",
    "print(\"Tests passés avec succès pour l'exercice 2 !\")"
   ]
  }
 ],
 "metadata": {
  "kernelspec": {
   "display_name": "Python 3",
   "language": "python",
   "name": "python3"
  },
  "language_info": {
   "codemirror_mode": {
    "name": "ipython",
    "version": 3
   },
   "file_extension": ".py",
   "mimetype": "text/x-python",
   "name": "python",
   "nbconvert_exporter": "python",
   "pygments_lexer": "ipython3",
   "version": "3.8.8"
  }
 },
 "nbformat": 4,
 "nbformat_minor": 2
}
