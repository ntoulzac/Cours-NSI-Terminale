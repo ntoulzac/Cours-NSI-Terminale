{
 "cells": [
  {
   "cell_type": "markdown",
   "metadata": {},
   "source": [
    "<div style='background-color: #34c924;\n",
    "    border: 0.5em solid black;\n",
    "    border-radius: 0.5em;\n",
    "    padding: 1em;'>\n",
    "    <h2>Épreuve pratique</h2>\n",
    "    <h1>Sujet 2022_29</h1>\n",
    "</div>"
   ]
  },
  {
   "cell_type": "markdown",
   "metadata": {},
   "source": [
    "<div style='background-color: #34c924;\n",
    "    border-radius: 0.5em;\n",
    "    padding: 1em;'>\n",
    "    <h2>Exercice 1</h2>\n",
    "</div>"
   ]
  },
  {
   "cell_type": "markdown",
   "metadata": {},
   "source": [
    "On s’intéresse à la suite d’entiers définie par $U_1 = 1$, $U_2 = 1$ et, pour tout entier naturel $n$, par $U_{n+2} = U_{n+1} + U_n$. Elle s’appelle la suite de Fibonnaci.\n",
    "\n",
    "Écrire la fonction `fibonacci` qui prend un entier `n` strictement positif et qui renvoie l’élément d’indice `n` de cette suite.\n",
    "\n",
    "On utilisera une programmation dynamique (pas de récursivité).\n",
    "\n",
    "Exemples :\n",
    "\n",
    "```python\n",
    ">>> fibonacci(1)\n",
    "1\n",
    ">>> fibonacci(2)\n",
    "1\n",
    ">>> fibonacci(25)\n",
    "75025\n",
    ">>> fibonacci(45)\n",
    "1134903170\n",
    "```"
   ]
  },
  {
   "cell_type": "code",
   "execution_count": null,
   "metadata": {},
   "outputs": [],
   "source": [
    "# code de l'exercice 1 ici ..."
   ]
  },
  {
   "cell_type": "markdown",
   "metadata": {},
   "source": [
    "<div style='background-color: #34c924;\n",
    "    border-radius: 0.5em;\n",
    "    padding: 1em;'>\n",
    "    <h2>Exercice 2</h2>\n",
    "</div>"
   ]
  },
  {
   "cell_type": "markdown",
   "metadata": {},
   "source": [
    "Les variables `liste_eleves` et `liste_notes` ayant été préalablement définies et étant de même longueur, la fonction `meilleures_notes` renvoie la note maximale qui a été attribuée, le nombre d’élèves ayant obtenu cette note et la liste des noms de ces élèves.\n",
    "\n",
    "Compléter le code Python de la fonction `meilleures_notes` ci-dessous."
   ]
  },
  {
   "cell_type": "code",
   "execution_count": null,
   "metadata": {},
   "outputs": [],
   "source": [
    "liste_eleves = ['a', 'b', 'c', 'd', 'e', 'f', 'g', 'h', 'i', 'j']\n",
    "liste_notes = [1, 40, 80, 60, 58, 80, 75, 80, 60, 24]\n",
    "\n",
    "def meilleures_notes():\n",
    "    note_maxi = 0\n",
    "    nb_eleves_note_maxi = ...\n",
    "    liste_maxi = ...\n",
    "    for compteur in range(...):\n",
    "        if liste_notes[compteur] == ...:\n",
    "            nb_eleves_note_maxi = nb_eleves_note_maxi + 1\n",
    "            liste_maxi.append(liste_eleves[...])\n",
    "        if liste_notes[compteur] > note_maxi:\n",
    "            note_maxi = liste_notes[compteur]\n",
    "            nb_eleves_note_maxi = ...\n",
    "            liste_maxi = [...]\n",
    "    return (note_maxi, nb_eleves_note_maxi, liste_maxi)"
   ]
  },
  {
   "cell_type": "markdown",
   "metadata": {},
   "source": [
    "Une fois complété, le code ci-dessus donne :\n",
    "\n",
    "```python\n",
    ">>> meilleures_notes()\n",
    "(80, 3, ['c', 'f', 'h'])\n",
    "```"
   ]
  },
  {
   "cell_type": "markdown",
   "metadata": {},
   "source": [
    "<div style='background-color: #34c924;\n",
    "    border-radius: 0.5em;\n",
    "    padding: 1em;'>\n",
    "    <h2>Tests</h2>\n",
    "</div>"
   ]
  },
  {
   "cell_type": "code",
   "execution_count": null,
   "metadata": {},
   "outputs": [],
   "source": [
    "assert fibonacci(1) == 1\n",
    "assert fibonacci(2) == 1\n",
    "assert fibonacci(25) == 75025\n",
    "assert fibonacci(45) == 1134903170\n",
    "print(\"Tests passés avec succès pour l'exercice 1 !\")"
   ]
  },
  {
   "cell_type": "code",
   "execution_count": null,
   "metadata": {},
   "outputs": [],
   "source": [
    "assert meilleures_notes() == (80, 3, ['c', 'f', 'h'])\n",
    "print(\"Test passé avec succès pour l'exercice 2 !\")"
   ]
  }
 ],
 "metadata": {
  "kernelspec": {
   "display_name": "Python 3 (ipykernel)",
   "language": "python",
   "name": "python3"
  },
  "language_info": {
   "codemirror_mode": {
    "name": "ipython",
    "version": 3
   },
   "file_extension": ".py",
   "mimetype": "text/x-python",
   "name": "python",
   "nbconvert_exporter": "python",
   "pygments_lexer": "ipython3",
   "version": "3.9.12"
  }
 },
 "nbformat": 4,
 "nbformat_minor": 2
}
