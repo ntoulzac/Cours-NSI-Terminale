{
 "cells": [
  {
   "cell_type": "markdown",
   "metadata": {},
   "source": [
    "<div style='background-color: #34c924;\n",
    "    border: 0.5em solid black;\n",
    "    border-radius: 0.5em;\n",
    "    padding: 1em;'>\n",
    "    <h2>Épreuve pratique</h2>\n",
    "    <h1>Sujet 2021_17</h1>\n",
    "</div>"
   ]
  },
  {
   "cell_type": "markdown",
   "metadata": {},
   "source": [
    "<div style='background-color: #34c924;\n",
    "    border-radius: 0.5em;\n",
    "    padding: 1em;'>\n",
    "    <h2>Exercice 1</h2>\n",
    "</div>"
   ]
  },
  {
   "cell_type": "markdown",
   "metadata": {},
   "source": [
    "Écrire une fonction `indice_du_min` qui prend en paramètre un tableau de nombres non trié `tab`, et qui renvoie l'indice de la première occurrence du minimum de ce tableau. Les tableaux seront représentés sous forme de liste Python.\n",
    "\n",
    "Exemples :\n",
    "```python\n",
    ">>> indice_du_min([5])\n",
    "0\n",
    ">>> indice_du_min([2, 4, 1])\n",
    "2\n",
    ">>> indice_du_min([5, 3, 2, 2, 4])\n",
    "2\n",
    "```"
   ]
  },
  {
   "cell_type": "code",
   "execution_count": 1,
   "metadata": {},
   "outputs": [],
   "source": [
    "def indice_du_min(tab):\n",
    "    \"\"\"\n",
    "    Détermine l'indice de la première occurrence de la valeur minimale d'un tableau.\n",
    "    - Entrée : tab (tableau de nombres)\n",
    "    - Sortie : pos_min (entier)\n",
    "    \"\"\"\n",
    "    pos_min = 0\n",
    "    for k in range(1, len(tab)):\n",
    "        if tab[k] < tab[pos_min]:\n",
    "            pos_min = k\n",
    "    return pos_min"
   ]
  },
  {
   "cell_type": "markdown",
   "metadata": {},
   "source": [
    "<div style='background-color: #34c924;\n",
    "    border-radius: 0.5em;\n",
    "    padding: 1em;'>\n",
    "    <h2>Exercice 2</h2>\n",
    "</div>"
   ]
  },
  {
   "cell_type": "markdown",
   "metadata": {},
   "source": [
    "On considère la fonction `separe` ci-dessous qui prend en argument un tableau `tab` dont les éléments sont des 0 et des 1 et qui sépare les 0 des 1 en plaçant les 0 en début de tableau et les 1 à la suite.\n",
    "\n",
    "Compléter la fonction `separe` ci-dessous.\n",
    "\n",
    "Exemples :\n",
    "```python\n",
    ">>> separe([1, 0, 1, 0, 1, 0, 1, 0])\n",
    "[0, 0, 0, 0, 1, 1, 1, 1]\n",
    ">>> separe([1, 0, 0, 0, 1, 1, 0, 1, 1, 0, 1, 0, 1, 1, 1, 0])\n",
    "[0, 0, 0, 0, 0, 0, 0, 1, 1, 1, 1, 1, 1, 1, 1, 1]\n",
    "```"
   ]
  },
  {
   "cell_type": "code",
   "execution_count": 2,
   "metadata": {},
   "outputs": [],
   "source": [
    "def separe(tab):\n",
    "    \"\"\"\n",
    "    Sépare les 0 et les 1 contenus dans un tableau en plaçant les 0 au début et les 1 à la fin.\n",
    "    - Entrée : tab (tableau de bits)\n",
    "    - Sortie : tab (tableau de bits)\n",
    "    \"\"\"\n",
    "    i = 0\n",
    "    j = len(tab) - 1\n",
    "    while i < j :\n",
    "        if tab[i] == 0 :\n",
    "            i = i + 1\n",
    "        else :\n",
    "            tab[i], tab[j] = tab[j], tab[i]\n",
    "            j = j - 1\n",
    "    return tab"
   ]
  },
  {
   "cell_type": "markdown",
   "metadata": {},
   "source": [
    "<div style='background-color: #34c924;\n",
    "    border-radius: 0.5em;\n",
    "    padding: 1em;'>\n",
    "    <h2>Tests</h2>\n",
    "</div>"
   ]
  },
  {
   "cell_type": "code",
   "execution_count": 3,
   "metadata": {},
   "outputs": [
    {
     "name": "stdout",
     "output_type": "stream",
     "text": [
      "Tests passés avec succès pour l'exercice 1 !\n"
     ]
    }
   ],
   "source": [
    "assert indice_du_min([5]) == 0\n",
    "assert indice_du_min([2, 4, 1]) == 2\n",
    "assert indice_du_min([5, 3, 2, 2, 4]) == 2\n",
    "print(\"Tests passés avec succès pour l'exercice 1 !\")"
   ]
  },
  {
   "cell_type": "code",
   "execution_count": 4,
   "metadata": {},
   "outputs": [
    {
     "name": "stdout",
     "output_type": "stream",
     "text": [
      "Tests passés avec succès pour l'exercice 2 !\n"
     ]
    }
   ],
   "source": [
    "assert separe([1, 0, 1, 0, 1, 0, 1, 0]) == [0, 0, 0, 0, 1, 1, 1, 1]\n",
    "assert separe([1, 0, 0, 0, 1, 1, 0, 1, 1, 0, 1, 0, 1, 1, 1, 0]) == [0, 0, 0, 0, 0, 0, 0, 1, 1, 1, 1, 1, 1, 1, 1, 1]\n",
    "assert separe([1, 1, 1, 0, 0, 0, 0, 0]) == [0, 0, 0, 0, 0, 1, 1, 1]\n",
    "print(\"Tests passés avec succès pour l'exercice 2 !\")"
   ]
  }
 ],
 "metadata": {
  "kernelspec": {
   "display_name": "Python 3",
   "language": "python",
   "name": "python3"
  },
  "language_info": {
   "codemirror_mode": {
    "name": "ipython",
    "version": 3
   },
   "file_extension": ".py",
   "mimetype": "text/x-python",
   "name": "python",
   "nbconvert_exporter": "python",
   "pygments_lexer": "ipython3",
   "version": "3.8.5"
  }
 },
 "nbformat": 4,
 "nbformat_minor": 2
}
