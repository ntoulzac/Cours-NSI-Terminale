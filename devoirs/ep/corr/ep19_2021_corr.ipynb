{
 "cells": [
  {
   "cell_type": "markdown",
   "metadata": {},
   "source": [
    "<div style='background-color: #34c924;\n",
    "    border: 0.5em solid black;\n",
    "    border-radius: 0.5em;\n",
    "    padding: 1em;'>\n",
    "    <h2>Épreuve pratique</h2>\n",
    "    <h1>Sujet 2021_19</h1>\n",
    "</div>"
   ]
  },
  {
   "cell_type": "markdown",
   "metadata": {},
   "source": [
    "<div style='background-color: #34c924;\n",
    "    border-radius: 0.5em;\n",
    "    padding: 1em;'>\n",
    "    <h2>Exercice 1</h2>\n",
    "</div>"
   ]
  },
  {
   "cell_type": "markdown",
   "metadata": {},
   "source": [
    "Écrire une fonction `recherche` qui prend en paramètres un tableau `tab` de nombres entiers triés par ordre croissant et un nombre entier `n`, et qui effectue une recherche dichotomique du nombre entier `n` dans le tableau non vide `tab`.\n",
    "\n",
    "Cette fonction doit renvoyer un indice correspondant au nombre cherché s’il est dans le tableau, `-1` sinon.\n",
    "\n",
    "Exemples:\n",
    "```python\n",
    ">>> recherche([2, 3, 4, 5, 6], 5)\n",
    "3\n",
    ">>> recherche([2, 3, 4, 6, 7], 5)\n",
    "-1\n",
    "```"
   ]
  },
  {
   "cell_type": "code",
   "execution_count": 1,
   "metadata": {},
   "outputs": [],
   "source": [
    "def recherche(tab, n):\n",
    "    \"\"\"\n",
    "    Renvoie l'indice d'une valeur dans un tableau trié.\n",
    "    - Entrées : tab (tableau trié), n (valeur)\n",
    "    - Sortie : (entier, -1 dans le cas où la valeur cherchée n'est pas dans le tableau)\n",
    "    \"\"\"\n",
    "    g = 0\n",
    "    d = len(tab) - 1\n",
    "    while g <= d:\n",
    "        m = (g + d) // 2\n",
    "        if tab[m] == n:\n",
    "            return m\n",
    "        elif tab[m] > n:\n",
    "            d = m - 1\n",
    "        else:\n",
    "            g = m + 1\n",
    "    return -1"
   ]
  },
  {
   "cell_type": "markdown",
   "metadata": {},
   "source": [
    "<div style='background-color: #34c924;\n",
    "    border-radius: 0.5em;\n",
    "    padding: 1em;'>\n",
    "    <h2>Exercice 2</h2>\n",
    "</div>"
   ]
  },
  {
   "cell_type": "markdown",
   "metadata": {},
   "source": [
    "Le codage de César transforme un message en changeant chaque lettre en la décalant dans l’alphabet.\n",
    "\n",
    "Par exemple, avec un décalage de 3, le A se transforme en D, le B en E, ..., le X en A, le Y en B et le Z en C. Les autres caractères (!, ?...) ne sont pas codés.\n",
    "\n",
    "La fonction `position_alphabet` ci-dessous prend en paramètre un caractère `lettre` et renvoie la position de lettre dans la chaîne de caractères `ALPHABET` s’il s’y trouve et -1 sinon.\n",
    "\n",
    "La fonction `cesar` prend en paramètre une chaîne de caractères `message` et un nombre entier `decalage` et renvoie le nouveau message codé avec le codage de César utilisant le décalage `decalage`.\n",
    "\n",
    "Compléter la fonction `cesar` ci-dessous.\n",
    "\n",
    "Exemples du résultat attendu:\n",
    "```python\n",
    ">>> cesar('BONJOUR A TOUS. VIVE LA MATIERE NSI !', 4)\n",
    "'FSRNSYV E XSYW. ZMZI PE QEXMIVI RWM !'\n",
    ">>> cesar('GTSOTZW F YTZX. ANAJ QF RFYNJWJ SXN !', -5)\n",
    "'BONJOUR A TOUS. VIVE LA MATIERE NSI !'\n",
    "```"
   ]
  },
  {
   "cell_type": "code",
   "execution_count": 2,
   "metadata": {},
   "outputs": [],
   "source": [
    "ALPHABET = 'ABCDEFGHIJKLMNOPQRSTUVWXYZ'\n",
    "\n",
    "def position_alphabet(lettre):\n",
    "    \"\"\"\n",
    "    Détermine la position d'une lettre dans l'alphabet.\n",
    "    - Entrée : lettre (caractère, lettre majuscule de l'alphabet latin)\n",
    "    - Sortie : (entier)\n",
    "    \"\"\"\n",
    "    return ALPHABET.find(lettre)\n",
    "\n",
    "def cesar(message, decalage):\n",
    "    \"\"\"\n",
    "    Code un message suivant l'algorithme de César.\n",
    "    - Entrées : message (chaîne), decalage (entier)\n",
    "    - Sortie : resultat (chaîne)\n",
    "    \"\"\"\n",
    "    resultat = ''\n",
    "    for lettre in message :\n",
    "        if lettre in ALPHABET :\n",
    "            indice = (position_alphabet(lettre) + decalage) % 26\n",
    "            resultat = resultat + ALPHABET[indice]\n",
    "        else:\n",
    "            resultat = resultat + lettre\n",
    "    return resultat"
   ]
  },
  {
   "cell_type": "markdown",
   "metadata": {},
   "source": [
    "<div style='background-color: #34c924;\n",
    "    border-radius: 0.5em;\n",
    "    padding: 1em;'>\n",
    "    <h2>Tests</h2>\n",
    "</div>"
   ]
  },
  {
   "cell_type": "code",
   "execution_count": 3,
   "metadata": {},
   "outputs": [
    {
     "name": "stdout",
     "output_type": "stream",
     "text": [
      "Tests passés avec succès pour l'exercice 1 !\n"
     ]
    }
   ],
   "source": [
    "assert recherche(list(range(1000)), 365) == 365\n",
    "assert recherche([2, 3, 4, 5, 6], 5) == 3\n",
    "assert recherche([2, 3, 4, 6, 7], 5) == -1\n",
    "print(\"Tests passés avec succès pour l'exercice 1 !\")"
   ]
  },
  {
   "cell_type": "code",
   "execution_count": 4,
   "metadata": {},
   "outputs": [
    {
     "name": "stdout",
     "output_type": "stream",
     "text": [
      "Tests passés avec succès pour l'exercice 2 !\n"
     ]
    }
   ],
   "source": [
    "assert cesar('ABCDEFGHIJKLMNOPQRSTUVWXYZ', 13) == 'NOPQRSTUVWXYZABCDEFGHIJKLM'\n",
    "assert cesar('BONJOUR A TOUS. VIVE LA MATIERE NSI !', 4) == 'FSRNSYV E XSYW. ZMZI PE QEXMIVI RWM !'\n",
    "assert cesar('GTSOTZW F YTZX. ANAJ QF RFYNJWJ SXN !', -5) == 'BONJOUR A TOUS. VIVE LA MATIERE NSI !'\n",
    "print(\"Tests passés avec succès pour l'exercice 2 !\")"
   ]
  }
 ],
 "metadata": {
  "kernelspec": {
   "display_name": "Python 3",
   "language": "python",
   "name": "python3"
  },
  "language_info": {
   "codemirror_mode": {
    "name": "ipython",
    "version": 3
   },
   "file_extension": ".py",
   "mimetype": "text/x-python",
   "name": "python",
   "nbconvert_exporter": "python",
   "pygments_lexer": "ipython3",
   "version": "3.8.5"
  }
 },
 "nbformat": 4,
 "nbformat_minor": 2
}
