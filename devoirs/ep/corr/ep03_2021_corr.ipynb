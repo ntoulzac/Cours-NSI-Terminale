{
 "cells": [
  {
   "cell_type": "markdown",
   "metadata": {},
   "source": [
    "<div style='background-color: #34c924;\n",
    "    border: 0.5em solid black;\n",
    "    border-radius: 0.5em;\n",
    "    padding: 1em;'>\n",
    "    <h2>Épreuve pratique</h2>\n",
    "    <h1>Sujet 2021_03</h1>\n",
    "</div>"
   ]
  },
  {
   "cell_type": "markdown",
   "metadata": {},
   "source": [
    "<div style='background-color: #34c924;\n",
    "    border-radius: 0.5em;\n",
    "    padding: 1em;'>\n",
    "    <h2>Exercice 1</h2>\n",
    "</div>"
   ]
  },
  {
   "cell_type": "markdown",
   "metadata": {},
   "source": [
    "Programmer la fonction `multiplication`, prenant en paramètres deux nombres entiers `n1` et `n2`, et qui renvoie le produit de ces deux nombres.\n",
    "\n",
    "Les seules opérations autorisées sont l’addition et la soustraction.\n",
    "\n",
    "Exemples :\n",
    "```python\n",
    ">>> multiplication(3, 5)\n",
    "15\n",
    ">>> multiplication(-4, -8)\n",
    "32\n",
    ">>> multiplication(-2, 6)\n",
    "-12\n",
    ">>> multiplication(-2, 0)\n",
    "0\n",
    "```"
   ]
  },
  {
   "cell_type": "code",
   "execution_count": 1,
   "metadata": {},
   "outputs": [],
   "source": [
    "def multiplication(n1, n2):\n",
    "    \"\"\"\n",
    "    Multiplie deux entiers.\n",
    "    - Entrées : n1, n2 (entiers)\n",
    "    - Sortie : prod (entier)\n",
    "    \"\"\"\n",
    "    if n1 == 0 or n2 == 0:\n",
    "        return 0\n",
    "    elif n2 < 0:\n",
    "        return multiplication(-n1, -n2)\n",
    "    else: # n2 > 0\n",
    "        prod = 0\n",
    "        for k in range(n2):\n",
    "            prod = prod + n1\n",
    "        return prod"
   ]
  },
  {
   "cell_type": "markdown",
   "metadata": {},
   "source": [
    "<div style='background-color: #34c924;\n",
    "    border-radius: 0.5em;\n",
    "    padding: 1em;'>\n",
    "    <h2>Exercice 2</h2>\n",
    "</div>"
   ]
  },
  {
   "cell_type": "markdown",
   "metadata": {},
   "source": [
    "Recopier et compléter sous Python la fonction suivante en respectant la spécification. On ne recopiera pas les commentaires."
   ]
  },
  {
   "cell_type": "code",
   "execution_count": 2,
   "metadata": {},
   "outputs": [],
   "source": [
    "def dichotomie(tab, x):\n",
    "    \"\"\"\n",
    "    tab : tableau d’entiers trié dans l’ordre croissant\n",
    "    x : nombre entier\n",
    "    La fonction renvoie True si tab contient x et False sinon\n",
    "    \"\"\"\n",
    "    debut = 0\n",
    "    fin = len(tab) - 1\n",
    "    while debut <= fin:\n",
    "        m = (debut + fin) // 2\n",
    "        if x == tab[m]:\n",
    "            return True\n",
    "        if x > tab[m]:\n",
    "            debut = m + 1\n",
    "        else:\n",
    "            fin = m - 1\n",
    "    return False"
   ]
  },
  {
   "cell_type": "markdown",
   "metadata": {},
   "source": [
    "<div style='background-color: #34c924;\n",
    "    border-radius: 0.5em;\n",
    "    padding: 1em;'>\n",
    "    <h2>Tests</h2>\n",
    "</div>"
   ]
  },
  {
   "cell_type": "code",
   "execution_count": 3,
   "metadata": {},
   "outputs": [
    {
     "name": "stdout",
     "output_type": "stream",
     "text": [
      "Tests passés avec succès pour l'exercice 1 !\n"
     ]
    }
   ],
   "source": [
    "assert multiplication(3, 5) == 15\n",
    "assert multiplication(-4, -8) == 32\n",
    "assert multiplication(-2, 6) == -12\n",
    "assert multiplication(-2, 0) == 0\n",
    "print(\"Tests passés avec succès pour l'exercice 1 !\")"
   ]
  },
  {
   "cell_type": "code",
   "execution_count": 4,
   "metadata": {},
   "outputs": [
    {
     "name": "stdout",
     "output_type": "stream",
     "text": [
      "Tests passés avec succès pour l'exercice 2 !\n"
     ]
    }
   ],
   "source": [
    "assert dichotomie([15, 16, 18, 19, 23, 24, 28, 29, 31, 33], 28)\n",
    "assert not dichotomie([15, 16, 18, 19, 23, 24, 28, 29, 31, 33], 27)\n",
    "assert not dichotomie([], 0)\n",
    "print(\"Tests passés avec succès pour l'exercice 2 !\")"
   ]
  }
 ],
 "metadata": {
  "kernelspec": {
   "display_name": "Python 3",
   "language": "python",
   "name": "python3"
  },
  "language_info": {
   "codemirror_mode": {
    "name": "ipython",
    "version": 3
   },
   "file_extension": ".py",
   "mimetype": "text/x-python",
   "name": "python",
   "nbconvert_exporter": "python",
   "pygments_lexer": "ipython3",
   "version": "3.8.8"
  }
 },
 "nbformat": 4,
 "nbformat_minor": 2
}
