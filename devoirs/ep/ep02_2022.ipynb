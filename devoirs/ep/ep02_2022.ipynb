{
 "cells": [
  {
   "cell_type": "markdown",
   "metadata": {},
   "source": [
    "<div style='background-color: #34c924;\n",
    "    border: 0.5em solid black;\n",
    "    border-radius: 0.5em;\n",
    "    padding: 1em;'>\n",
    "    <h2>Épreuve pratique</h2>\n",
    "    <h1>Sujet 2022_02</h1>\n",
    "</div>"
   ]
  },
  {
   "cell_type": "markdown",
   "metadata": {},
   "source": [
    "<div style='background-color: #34c924;\n",
    "    border-radius: 0.5em;\n",
    "    padding: 1em;'>\n",
    "    <h2>Exercice 1</h2>\n",
    "</div>"
   ]
  },
  {
   "cell_type": "markdown",
   "metadata": {},
   "source": [
    "Soit le couple `(note, coefficient)`:\n",
    "\n",
    "- `note` est un nombre de type flottant (`float`) compris entre 0 et 20 ;\n",
    "- `coefficient` est un nombre entier positif.\n",
    "\n",
    "Les résultats aux évaluations d'un élève sont regroupés dans une liste composée de couples `(note, coefficient)`.\n",
    "Écrire une fonction `moyenne` qui renvoie la moyenne pondérée de cette liste donnée en paramètre.\n",
    "\n",
    "Par exemple, l’expression `moyenne([(15, 2), (9, 1), (12, 3)])` devra renvoyer le résultat du calcul suivant : \n",
    "$\\dfrac{2 \\times 15 + 1 \\times 9 + 3 \\times 12}{2 + 1 + 3} = 12,5$."
   ]
  },
  {
   "cell_type": "code",
   "execution_count": null,
   "metadata": {},
   "outputs": [],
   "source": [
    "# code de l'exercice 1 ici ..."
   ]
  },
  {
   "cell_type": "markdown",
   "metadata": {},
   "source": [
    "<div style='background-color: #34c924;\n",
    "    border-radius: 0.5em;\n",
    "    padding: 1em;'>\n",
    "    <h2>Exercice 2</h2>\n",
    "</div>"
   ]
  },
  {
   "cell_type": "markdown",
   "metadata": {},
   "source": [
    "On cherche à déterminer les valeurs du triangle de Pascal.\n",
    "\n",
    "Dans ce tableau de forme triangulaire, chaque ligne commence et se termine par le nombre 1. Par ailleurs, la valeur qui occupe une case située à l’intérieur du tableau s’obtient en ajoutant les valeurs des deux cases situées juste au-dessus, comme l’indique la figure suivante :\n",
    "\n",
    "<img src=\"https://ntoulzac.github.io/Cours-NSI-Terminale/devoirs/images/triangle_pascal.png\" width=\"80%\">\n",
    "\n",
    "Compléter la fonction `pascal` ci-après. Elle doit renvoyer une liste correspondant au triangle de Pascal de la ligne 1 à la ligne `n` où `n` est un nombre entier supérieur ou égal à 2 (le tableau sera contenu dans la variable `C`). La variable `Ck` doit, quant à elle, contenir, à l’étape numéro `k`, la `k`-ième ligne du tableau."
   ]
  },
  {
   "cell_type": "code",
   "execution_count": null,
   "metadata": {},
   "outputs": [],
   "source": [
    "def pascal(n):\n",
    "    C = [[1]]\n",
    "    for k in range(1, ...):\n",
    "        Ck = [...]\n",
    "        for i in range(1, k):\n",
    "            Ck.append(C[...][i-1] + C[...][...])\n",
    "        Ck.append(...)\n",
    "        C.append(Ck)\n",
    "    return C"
   ]
  },
  {
   "cell_type": "markdown",
   "metadata": {},
   "source": [
    "Pour `n` = 4, voici ce que l’on devra obtenir :\n",
    "\n",
    "```python\n",
    ">> pascal(4)\n",
    "[[1], [1, 1], [1, 2, 1], [1, 3, 3, 1], [1, 4, 6, 4, 1]]\n",
    "```\n",
    "\n",
    "Et pour `n` = 5, voici ce que l’on devra obtenir :\n",
    "\n",
    "```python\n",
    ">> pascal(5)\n",
    "[[1], [1, 1], [1, 2, 1], [1, 3, 3, 1], [1, 4, 6, 4, 1], [1, 5, 10, 10, 5, 1]]\n",
    "```"
   ]
  },
  {
   "cell_type": "markdown",
   "metadata": {},
   "source": [
    "<div style='background-color: #34c924;\n",
    "    border-radius: 0.5em;\n",
    "    padding: 1em;'>\n",
    "    <h2>Tests</h2>\n",
    "</div>"
   ]
  },
  {
   "cell_type": "code",
   "execution_count": null,
   "metadata": {},
   "outputs": [],
   "source": [
    "assert moyenne([(15, 2), (9, 1), (12, 3)]) == 12.5\n",
    "assert moyenne([(15, 1), (9, 1), (12, 1)]) == 12\n",
    "assert moyenne([(15, 2), (9, 1)]) == 13\n",
    "print(\"Tests passés avec succès pour l'exercice 1 !\")"
   ]
  },
  {
   "cell_type": "code",
   "execution_count": null,
   "metadata": {},
   "outputs": [],
   "source": [
    "assert pascal(4) == [[1], [1, 1], [1, 2, 1], [1, 3, 3, 1], [1, 4, 6, 4, 1]]\n",
    "assert pascal(5) == [[1], [1, 1], [1, 2, 1], [1, 3, 3, 1], [1, 4, 6, 4, 1], [1, 5, 10, 10, 5, 1]]\n",
    "print(\"Tests passés avec succès pour l'exercice 2 !\")"
   ]
  },
  {
   "cell_type": "code",
   "execution_count": null,
   "metadata": {},
   "outputs": [],
   "source": []
  }
 ],
 "metadata": {
  "kernelspec": {
   "display_name": "Python 3 (ipykernel)",
   "language": "python",
   "name": "python3"
  },
  "language_info": {
   "codemirror_mode": {
    "name": "ipython",
    "version": 3
   },
   "file_extension": ".py",
   "mimetype": "text/x-python",
   "name": "python",
   "nbconvert_exporter": "python",
   "pygments_lexer": "ipython3",
   "version": "3.9.12"
  }
 },
 "nbformat": 4,
 "nbformat_minor": 2
}
