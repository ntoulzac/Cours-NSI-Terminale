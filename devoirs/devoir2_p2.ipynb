{
 "cells": [
  {
   "cell_type": "markdown",
   "metadata": {},
   "source": [
    "<div style='background-color: #dda0dd;\n",
    "    border-radius: 0.5em;\n",
    "    padding: 1em;'>\n",
    "    <h2>Seconde partie</h2>\n",
    "</div>"
   ]
  },
  {
   "cell_type": "markdown",
   "metadata": {},
   "source": [
    "## Exercice 1 - Fonction d'Ackermann (2 points)"
   ]
  },
  {
   "cell_type": "markdown",
   "metadata": {},
   "source": [
    "On appelle fonction d'Ackermann la fonction $Ack$ définie récursivement de la façon suivante, pour tous entiers positifs $m$ et $n$ :\n",
    "\n",
    "- si $m = 0$, alors $Ack(m ; n) = n+1$,\n",
    "- si $m > 0$ et $n = 0$, alors $Ack(m ; n) = Ack(m-1 ; 1)$,\n",
    "- si $m > 0$ et $n > 0$, alors $Ack(m ; n) = Ack(m-1 ; A(m ; n-1))$.\n",
    "\n",
    "**(1)** Définir une fonction récursive `ack` qui prend en paramètres d'entrée deux entiers positifs `m` et `n` et qui renvoie la valeur de $Ack(m ; n)$."
   ]
  },
  {
   "cell_type": "code",
   "execution_count": null,
   "metadata": {},
   "outputs": [],
   "source": []
  },
  {
   "cell_type": "markdown",
   "metadata": {},
   "source": [
    "**(2)** Faire afficher la valeur de $A(m, n)$ pour toutes les valeurs $0 \\leq m \\leq 3$ et toutes les valeurs $0 \\leq n \\leq 4$."
   ]
  },
  {
   "cell_type": "code",
   "execution_count": null,
   "metadata": {},
   "outputs": [],
   "source": []
  },
  {
   "cell_type": "markdown",
   "metadata": {},
   "source": [
    "## Exercice 2 - Points et vecteurs (3 points)\n",
    "\n",
    "**(1)** Définir une classe `Point` dont les instances possèdent deux attributs `x` (abscisse) et `y` (ordonnée). Les valeurs des deux attributs seront passées en argument du constructeur.\n",
    "\n",
    "Si on crée une instance `point_A = Point(1, 5)`, l'appel `print(point_A)` doit afficher `(1 ; 5)`."
   ]
  },
  {
   "cell_type": "code",
   "execution_count": null,
   "metadata": {},
   "outputs": [],
   "source": []
  },
  {
   "cell_type": "code",
   "execution_count": null,
   "metadata": {},
   "outputs": [],
   "source": [
    "# Création de deux instances de la classe Point\n",
    "point_A = Point(1, 5)\n",
    "point_B = Point(-2, 1)"
   ]
  },
  {
   "cell_type": "markdown",
   "metadata": {},
   "source": [
    "**(2)** Définir une fonction `milieu` qui prend en paramètres d'entrée deux instances de la classe `Point` et qui renvoie le milieu du segment délimité par ces deux points. Le milieu du segment est bien sûr un `Point`.\n",
    "\n",
    "On rappelle que, si les points $A$ et $B$ ont pour coordonnées $A(x_A;y_A)$ et $B(x_B;y_B)$, alors le milieu $I$ du segment $[AB]$ a pour coordonnées $I\\left(\\dfrac{x_A + x_B}{2}; \\dfrac{y_A + y_B}{2}\\right)$."
   ]
  },
  {
   "cell_type": "code",
   "execution_count": null,
   "metadata": {},
   "outputs": [],
   "source": []
  },
  {
   "cell_type": "code",
   "execution_count": null,
   "metadata": {},
   "outputs": [],
   "source": [
    "print(milieu(point_A, point_B))"
   ]
  },
  {
   "cell_type": "markdown",
   "metadata": {},
   "source": [
    "**(3)** Définir une classe `Vecteur` dont les instances possèdent deux attributs `x` (abscisse) et `y` (ordonnée). Le constructeur prend en argument deux instances de la classe `Point`.\n",
    "\n",
    "On rappelle que, si les points $A$ et $B$ ont pour coordonnées $A(x_A;y_A)$ et $B(x_B;y_B)$, alors le vecteur $\\vec{AB}$ a pour coordonnées $\\vec{AB}(x_B - x_A; y_B - y_A)$."
   ]
  },
  {
   "cell_type": "code",
   "execution_count": null,
   "metadata": {},
   "outputs": [],
   "source": []
  },
  {
   "cell_type": "code",
   "execution_count": null,
   "metadata": {},
   "outputs": [],
   "source": [
    "# Création d'une instance de la classe Vecteur\n",
    "u = Vecteur(point_A, point_B)"
   ]
  },
  {
   "cell_type": "markdown",
   "metadata": {},
   "source": [
    "**(4)** Ajouter dans la classe `Vecteur` la définition d'une méthode `norme` qui renvoie la norme du vecteur.\n",
    "\n",
    "On rappelle que, si le vecteur $\\vec{u}$ pour coordonnées $\\vec{u}(x;y)$, alors la norme du vecteur $\\vec{u}$ est $\\sqrt{x^2 + y^2}$."
   ]
  },
  {
   "cell_type": "code",
   "execution_count": null,
   "metadata": {},
   "outputs": [],
   "source": []
  },
  {
   "cell_type": "code",
   "execution_count": null,
   "metadata": {},
   "outputs": [],
   "source": [
    "u = Vecteur(point_A, point_B)\n",
    "print(u.norme())"
   ]
  },
  {
   "cell_type": "markdown",
   "metadata": {},
   "source": [
    "## Exercice bonus - Fractale (1 point)\n",
    "\n",
    "Définir une procédure récursive `fractale` permettant d'obtenir le dessin ci-dessous, en utilisant uniquement les procédures `forward`, `backward`, `left` et `right` du module `turtle`.\n",
    "\n",
    "<img src=\"https://ntoulzac.github.io/Cours-NSI-Terminale/devoirs/images/fractale_en_L.png\" width=\"40%\">"
   ]
  },
  {
   "cell_type": "code",
   "execution_count": null,
   "metadata": {},
   "outputs": [],
   "source": []
  },
  {
   "cell_type": "markdown",
   "metadata": {},
   "source": [
    "Pour tester votre procédure, exécuter la cellule suivante :"
   ]
  },
  {
   "cell_type": "code",
   "execution_count": null,
   "metadata": {},
   "outputs": [],
   "source": [
    "from turtle import forward, backward, left, right, speed, Screen, TurtleScreen\n",
    "\n",
    "fenetre = Screen()\n",
    "TurtleScreen._RUNNING = True\n",
    "\n",
    "speed(50)\n",
    "fractale(150, 5)\n",
    "\n",
    "fenetre.exitonclick()"
   ]
  }
 ],
 "metadata": {
  "kernelspec": {
   "display_name": "Python 3 (ipykernel)",
   "language": "python",
   "name": "python3"
  },
  "language_info": {
   "codemirror_mode": {
    "name": "ipython",
    "version": 3
   },
   "file_extension": ".py",
   "mimetype": "text/x-python",
   "name": "python",
   "nbconvert_exporter": "python",
   "pygments_lexer": "ipython3",
   "version": "3.9.12"
  }
 },
 "nbformat": 4,
 "nbformat_minor": 4
}
