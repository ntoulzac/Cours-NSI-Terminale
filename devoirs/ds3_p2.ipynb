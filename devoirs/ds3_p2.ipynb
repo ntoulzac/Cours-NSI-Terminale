{
 "cells": [
  {
   "cell_type": "markdown",
   "metadata": {},
   "source": [
    "# Devoir 3 - Seconde partie (10 points)\n",
    "\n",
    "**Les documents et la recherche d'informations sur internet sont strictement interdits.**"
   ]
  },
  {
   "cell_type": "markdown",
   "metadata": {},
   "source": [
    "## Exercice A - Classe `Carte` (2 points)\n",
    "\n",
    "Donner la définition d'une classe `Carte` dont les instances possèdent les attributs et les méthodes suivants :\n",
    "\n",
    "***Attributs***\n",
    "\n",
    "- `couleur` : un caractère passé en paramètre de la méthode constructeur, parmi `'S'` (pique ou _spades_), `'H'` (coeur ou _hearts_), `'D'` (carreau ou _diamonds_) et `'C'` (trèfle ou _clubs_),\n",
    "- `valeur` : un entier passé en paramètre de la méthode constructeur, compris entre `1` (as) et `14` (`11` pour valet, `12` pour cavalier, `13` pour dame et `14` pour roi),\n",
    "- `visible` : un booléen égal à `False` par défaut.\n",
    "\n",
    "***Méthodes***\n",
    "\n",
    "- `__str__` : renvoie une chaine de caractères du type `'[1 S]'` (as de pique) si la carte est visible et du type `'[???]'` si la carte n'est pas visible,\n",
    "- `retourner` : rend visible une carte invisible et inversement."
   ]
  },
  {
   "cell_type": "code",
   "execution_count": null,
   "metadata": {},
   "outputs": [],
   "source": []
  },
  {
   "cell_type": "code",
   "execution_count": null,
   "metadata": {},
   "outputs": [],
   "source": [
    "carte1 = Carte('S', 1)\n",
    "carte2 = Carte('H', 13)\n",
    "print(carte1, carte2)\n",
    "carte1.retourner()\n",
    "carte2.retourner()\n",
    "print(carte1, carte2)"
   ]
  },
  {
   "cell_type": "markdown",
   "metadata": {},
   "source": [
    "<table>\n",
    "        <td><img src=\"https://upload.wikimedia.org/wikipedia/commons/thumb/a/ab/01_of_spades_A.svg/langfr-800px-01_of_spades_A.svg.png\" width=\"50%\"></td>\n",
    "<td><img src=\"https://upload.wikimedia.org/wikipedia/commons/thumb/3/36/Queen_of_hearts_fr.svg/langfr-800px-Queen_of_hearts_fr.svg.png\" width=\"50%\"></td>\n",
    "</table>"
   ]
  },
  {
   "cell_type": "markdown",
   "metadata": {},
   "source": [
    "## Exercice B - Messages d'erreur (3 points)\n",
    "\n",
    "On donne le code ci-dessous, qui contient trois erreurs. On vous demande d'expliquer chacune des erreurs et de les corriger."
   ]
  },
  {
   "cell_type": "code",
   "execution_count": null,
   "metadata": {},
   "outputs": [],
   "source": [
    "def liste_bits_alea(n):\n",
    "    \"\"\"Crée une liste de n bits aléatoires.\n",
    "    - Entrée : n (entier positif)\n",
    "    - Sortie : (liste d'entiers)\"\"\"\n",
    "    return [randint(0, 1) for k in range(n)]\n",
    "\n",
    "def contraire(liste):\n",
    "    \"\"\"Remplace, dans une liste de bits, chaque bit par le bit contraire.\n",
    "    - Entrée : liste (liste de bits)\n",
    "    - Sortie : nouvelle_liste (liste de bits)\n",
    "    \"\"\"\n",
    "    nouvelle_liste = [0 for k in range(len(liste))]\n",
    "    for pos in range(liste):\n",
    "        if liste[pos] == 0:\n",
    "            nouvelle_liste[pos] = 1\n",
    "    return nouvelle_liste\n",
    "\n",
    "def nb_differences(liste1, liste2):\n",
    "    \"\"\"Compte le nombre d'éléments différents dans deux listes de même longueur,\n",
    "    les valeurs comparées étant à la même position dans les deux listes.\n",
    "    - Entrées : liste1, liste2 (listes d'entiers)\n",
    "    - Sortie : cpt (entier)\"\"\"\n",
    "    cpt = 0\n",
    "    for k in range(len(liste1)):\n",
    "        if liste1[k] == liste2[k]:\n",
    "            cpt = cpt + 1\n",
    "    return cpt\n",
    "\n",
    "L1 = liste_bits_alea(10)\n",
    "print('L1 : ', L1)\n",
    "L2 = liste_bits_alea(10)\n",
    "print('L2 : ', L2)\n",
    "print(contraire(L1))\n",
    "print(nb_differences(L1, L2))"
   ]
  },
  {
   "cell_type": "markdown",
   "metadata": {},
   "source": [
    "Erreur n° | Ligne n° | Explication\n",
    ":--------:|:--------:|:-------------------------------:\n",
    "1         | ??       | Ecrire votre explication ici...\n",
    "2         | ??       | Ecrire votre explication ici...\n",
    "3         | ??       | Ecrire votre explication ici..."
   ]
  },
  {
   "cell_type": "markdown",
   "metadata": {},
   "source": [
    "## Exercice C - Une épreuve pratique... (5 points)"
   ]
  },
  {
   "cell_type": "markdown",
   "metadata": {},
   "source": [
    "**Partie 1**\n",
    "\n",
    "Programmer la fonction `moyenne` prenant en paramètre un tableau d'entiers `tab` (type `list`) qui renvoie la moyenne de ses éléments si le tableau est non vide et qui renvoie `None` si le tableau est vide.\n",
    "\n",
    "Exemples :\n",
    "```python\n",
    ">>> moyenne([5, 3, 8])\n",
    "5.333333333333333\n",
    ">>> moyenne([1, 2, 3, 4, 5, 6, 7, 8, 9, 10])\n",
    "5.5\n",
    ">>> moyenne([])\n",
    "None\n",
    "```"
   ]
  },
  {
   "cell_type": "code",
   "execution_count": null,
   "metadata": {},
   "outputs": [],
   "source": []
  },
  {
   "cell_type": "code",
   "execution_count": null,
   "metadata": {},
   "outputs": [],
   "source": [
    "assert moyenne([5, 3, 8]) == 5.333333333333333\n",
    "assert moyenne([1, 2, 3, 4, 5, 6, 7, 8, 9, 10]) == 5.5\n",
    "assert moyenne([]) == None\n",
    "print(\"Tests passés avec succès pour la partie 1 !\")"
   ]
  },
  {
   "cell_type": "markdown",
   "metadata": {},
   "source": [
    "**Partie 2**\n",
    "\n",
    "On considère un tableau d'entiers `tab` (type `list` dont les éléments sont des `0` ou des `1`). On se propose de trier ce tableau selon l'algorithme suivant : à chaque étape du tri, le tableau est constitué de trois zones consécutives, la première ne contenant que des `0`, la seconde n'étant pas triée et la dernière ne contenant que des `1`.\n",
    "\n",
    "<table>\n",
    "    <tr>\n",
    "        <td style=\"padding:1em 2em 1em 2em; border: 1px solid;\">Zone de 0</td>\n",
    "        <td style=\"padding:1em 2em 1em 2em; border: 1px solid;\">Zone non triée</td>\n",
    "        <td style=\"padding:1em 2em 1em 2em; border: 1px solid;\">Zone de 1</td>\n",
    "    </tr>\n",
    "</table>\n",
    "\n",
    "Tant que la zone non triée n'est pas réduite à un seul élément, on regarde son premier élément :\n",
    "- si cet élément vaut `0`, on considère qu'il appartient désormais à la zone ne contenant que des `0` ;\n",
    "- si cet élément vaut `1`, il est échangé avec le dernier élément de la zone non triée et on considère alors qu’il appartient à la zone ne contenant que des `1`.\n",
    "\n",
    "Dans tous les cas, la longueur de la zone non triée diminue de 1.\n",
    "\n",
    "Exemple :\n",
    "```python\n",
    ">>> tri([0, 1, 0, 1, 0, 1, 0, 1, 0])\n",
    "[0, 0, 0, 0, 0, 1, 1, 1, 1]\n",
    "```\n",
    "\n",
    "Compléter la fonction `tri` suivante :"
   ]
  },
  {
   "cell_type": "code",
   "execution_count": null,
   "metadata": {},
   "outputs": [],
   "source": [
    "def tri(tab):\n",
    "    # i est le premier indice de la zone non triee, j le dernier indice.\n",
    "    # Au debut, la zone non triee est le tableau entier.\n",
    "    i = ...\n",
    "    j = ...\n",
    "    while i != j:\n",
    "        if tab[i] == 0:\n",
    "            i = ...\n",
    "        else:\n",
    "            valeur = tab[j]\n",
    "            tab[j] = ...\n",
    "            ...\n",
    "            j = ...\n",
    "    ..."
   ]
  },
  {
   "cell_type": "code",
   "execution_count": null,
   "metadata": {},
   "outputs": [],
   "source": [
    "assert tri([0, 0, 1, 1, 1, 1, 1]) == [0, 0, 1, 1, 1, 1, 1]\n",
    "assert tri([0, 1, 1, 0, 1]) == [0, 0, 1, 1, 1]\n",
    "assert tri([0, 1, 0, 1, 0, 1, 0, 1, 0]) == [0, 0, 0, 0, 0, 1, 1, 1, 1]\n",
    "print(\"Tests passés avec succès pour la partie 2 !\")"
   ]
  }
 ],
 "metadata": {
  "kernelspec": {
   "display_name": "Python 3",
   "language": "python",
   "name": "python3"
  },
  "language_info": {
   "codemirror_mode": {
    "name": "ipython",
    "version": 3
   },
   "file_extension": ".py",
   "mimetype": "text/x-python",
   "name": "python",
   "nbconvert_exporter": "python",
   "pygments_lexer": "ipython3",
   "version": "3.8.5"
  }
 },
 "nbformat": 4,
 "nbformat_minor": 4
}
