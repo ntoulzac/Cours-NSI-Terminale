{
 "cells": [
  {
   "cell_type": "markdown",
   "id": "36924714",
   "metadata": {},
   "source": [
    "<div style='background-color: #ffc154;\n",
    "    border: 0.5em solid black;\n",
    "    border-radius: 0.5em;\n",
    "    padding: 1em;'>\n",
    "    <h2>Devoir maison</h2>\n",
    "    <h1>Générateur de labyrinthes parfaits</h1>\n",
    "</div>"
   ]
  },
  {
   "cell_type": "markdown",
   "id": "8d30f087",
   "metadata": {},
   "source": [
    "Un labyrinthe parfait est un labyrinthe construit de sorte que toutes les cases soient reliées à toutes les cases par un chemin unique.\n",
    "\n",
    "<img src=\"https://ntoulzac.github.io/Cours-NSI-Terminale/devoirs/images/labyrinthe_parfait.svg\" width=\"60%\">\n",
    "\n",
    "L'objectif de ce devoir est de générer des labyrinthes parfaits en s'appuyant sur la méthode _diviser pour régner_.\n",
    "\n",
    "Le module `drawSvg`, qui peut être installé en exécutant la cellule suivante, sera utilisé pour obtenir une représentation des labyrinthes au format SVG (_Scalable Vector Graphics_, format d'images vectorielles)."
   ]
  },
  {
   "cell_type": "code",
   "execution_count": null,
   "id": "0b5d007c",
   "metadata": {},
   "outputs": [],
   "source": [
    "import sys\n",
    "!{sys.executable} -m pip install drawSvg"
   ]
  },
  {
   "cell_type": "code",
   "execution_count": null,
   "id": "bbf2d018",
   "metadata": {},
   "outputs": [],
   "source": [
    "import drawSvg as draw"
   ]
  },
  {
   "cell_type": "markdown",
   "id": "9b9eb5ec",
   "metadata": {},
   "source": [
    "<div style='background-color: #ffc154;\n",
    "    border-radius: 0.5em;\n",
    "    padding: 1em;'>\n",
    "    <h2>Création de deux classes</h2>\n",
    "</div>"
   ]
  },
  {
   "cell_type": "markdown",
   "id": "f7df9202",
   "metadata": {},
   "source": [
    "**(1)** Définir une classe `Case` dont les instances possèdent quatre attributs booléens `N`, `S`, `O` et `E` qui représentent la présence ou l'absence de mur au dessus, en dessous, à gauche et à droite de la case.\n",
    "\n",
    "`True` signifie la présence d'un mur et `False` l'absence de mur.\n",
    "\n",
    "Par défaut, lors de la création d'une instance de la classe `Case`, les quatre murs sont présents."
   ]
  },
  {
   "cell_type": "code",
   "execution_count": null,
   "id": "ddabe16d",
   "metadata": {},
   "outputs": [],
   "source": []
  },
  {
   "cell_type": "markdown",
   "id": "d98a26d3",
   "metadata": {},
   "source": [
    "**(2)** Définir l'ébauche d'une classe `Labyrinthe` dont les instances possèdent trois attributs :\n",
    "- `hauteur` (entier passé en paramètre du constructeur, nombre de lignes du labyrinthe),\n",
    "- `largeur` (entier passé en paramètre du constructeur, nombre de colonnes du labyrinthe),\n",
    "- `cases` (tableau à deux dimensions, de taille `nb_l` par `nb_c`, dont les éléments sont par défaut des instances de la classe `Case` pour lesquelles les quatre murs sont présents)."
   ]
  },
  {
   "cell_type": "code",
   "execution_count": null,
   "id": "49e32ab3",
   "metadata": {},
   "outputs": [],
   "source": []
  },
  {
   "cell_type": "markdown",
   "id": "c177a077",
   "metadata": {},
   "source": [
    "**(3)** Recopier et compléter la définition de la méthode `ouvrir_passage` dans la classe `Labyrinthe`.\n",
    "\n",
    "```python\n",
    "    def ouvrir_passage(......):\n",
    "        \"\"\"\n",
    "        Ouvre le passage entre deux cases voisines.\n",
    "        - Entrées : ......\n",
    "        \"\"\"\n",
    "        l1, c1 = couple1  # Coordonnées de la première case\n",
    "        l2, c2 = couple2  # Coordonnées de la seconde case, voisine de la première\n",
    "        if ...... and c1 == c2:  # Ouverture entre deux cases situées l'une au dessus de l'autre\n",
    "            self.cases[min(l1, l2)][c1]...... = ......\n",
    "            self.cases[max(l1, l2)][c1]...... = ......\n",
    "        elif ...... and l1 == l2:  # Ouverture entre deux cases situées l'une à gauche de l'autre\n",
    "            ......\n",
    "            ......\n",
    "```"
   ]
  },
  {
   "cell_type": "code",
   "execution_count": null,
   "id": "2ef7ff8d",
   "metadata": {},
   "outputs": [],
   "source": []
  },
  {
   "cell_type": "markdown",
   "id": "21aa9b3b",
   "metadata": {},
   "source": [
    "On donne la définition d'une méthode `afficher`, à insérer dans la classe `Labyrinthe`.\n",
    "\n",
    "```python\n",
    "    def afficher(self):\n",
    "        \"\"\"\n",
    "        Crée une représentation du labyrinthe au format SVG.\n",
    "        - Sortie : d (instance de la classe Drawing du module drawSvg)\n",
    "        Remarque : l'appel (sans affecation) à cette méthode sur la dernière ligne\n",
    "        d'une cellule du notebook provoque l'affichage du labyrinthe sous la cellule.\n",
    "        \"\"\"\n",
    "        def trait(l1, c1, l2, c2):\n",
    "            return draw.Line((c1+0.5)*taille_case, (l1+0.5)*taille_case,\n",
    "                             (c2+0.5)*taille_case, (l2+0.5)*taille_case,\n",
    "                             stroke=\"black\", stroke_width=1)\n",
    "        taille_case = 20\n",
    "        d = draw.Drawing((self.largeur + 1)*taille_case, (self.hauteur + 1)*taille_case)\n",
    "        for i in range(self.hauteur):\n",
    "            for j in range(self.largeur):\n",
    "                if self.cases[i][j].S:\n",
    "                    d.append(trait(i, j, i, j+1))\n",
    "                if self.cases[i][j].O:\n",
    "                    d.append(trait(i, j, i+1, j))\n",
    "            if self.cases[i][self.largeur-1].E:\n",
    "                d.append(trait(i, self.largeur, i+1, self.largeur))\n",
    "        for j in range(self.largeur):\n",
    "            if self.cases[self.hauteur-1][j].N:\n",
    "                d.append(trait(self.hauteur, j, self.hauteur, j+1))\n",
    "        return d\n",
    "```"
   ]
  },
  {
   "cell_type": "code",
   "execution_count": null,
   "id": "0223f4a0",
   "metadata": {},
   "outputs": [],
   "source": []
  },
  {
   "cell_type": "markdown",
   "id": "041ecda0",
   "metadata": {},
   "source": [
    "**(4)** Écrire des lignes de code permettant de :\n",
    "- créer un labyrinthe de taille 10 (lignes) par 15 (colonnes) dont toutes les cases possèdent quatre murs,\n",
    "- ouvrir un chemin entre les cases de coordonnées `(3, 5)` et `(3, 6)`,\n",
    "- ouvrir un chemin entre les cases de coordonnées `(8, 8)` et `(9, 8)`,\n",
    "- afficher le labyrinthe."
   ]
  },
  {
   "cell_type": "code",
   "execution_count": null,
   "id": "97740923",
   "metadata": {},
   "outputs": [],
   "source": []
  },
  {
   "cell_type": "markdown",
   "id": "b301a6b1",
   "metadata": {},
   "source": [
    "<div style='background-color: #ffc154;\n",
    "    border-radius: 0.5em;\n",
    "    padding: 1em;'>\n",
    "    <h2>Génération d'un labyrinthe parfait avec la méthode <i>diviser pour régner</i></h2>\n",
    "</div>"
   ]
  },
  {
   "cell_type": "markdown",
   "id": "fb9ae0bc",
   "metadata": {},
   "source": [
    "Pour générer un labyrinthe parfait, on utilise la méthode _diviser pour régner_ en appelant récursivement une méthode `_generer_rec` sur des sous-grilles obtenues en coupant la grille en deux, puis en ouvrant un passage entre les deux sous-labyrinthes ainsi construits.\n",
    "\n",
    "<table>\n",
    "    <tr>\n",
    "        <td width=\"30%\">\n",
    "            <center>\n",
    "            <img src=\"https://ntoulzac.github.io/Cours-NSI-Terminale/devoirs/images/laby1.svg\"><br>\n",
    "            Coupe en deux zones rectangulaires\n",
    "            </center>\n",
    "        </td>\n",
    "        <td width=\"30%\">\n",
    "            <center>\n",
    "            <img src=\"https://ntoulzac.github.io/Cours-NSI-Terminale/devoirs/images/laby2.svg\"><br>\n",
    "            Appels récursifs de <code>_generer_rec</code>\n",
    "            </center>\n",
    "        </td>\n",
    "        <td width=\"30%\">\n",
    "            <center>\n",
    "            <img src=\"https://ntoulzac.github.io/Cours-NSI-Terminale/devoirs/images/laby3.svg\"><br>\n",
    "            Ouverture d'un passage entre les deux zones\n",
    "            </center>\n",
    "        </td>\n",
    "    </tr>\n",
    "</table>\n",
    "\n",
    "Le cas de base correspond à la situation où la grille est composée d'une seule ligne ou d'une seule colonne. Il suffit alors de supprimer tous les murs intérieurs de la grille.\n",
    "\n",
    "<table>\n",
    "    <tr>\n",
    "        <td width=\"45%\">\n",
    "            <center>\n",
    "                <table>\n",
    "                    <tr>\n",
    "                        <td>\n",
    "                            <center>\n",
    "                            <img src=\"https://ntoulzac.github.io/Cours-NSI-Terminale/devoirs/images/laby4.svg\">\n",
    "                            Avant\n",
    "                            </center>\n",
    "                        </td>\n",
    "                        <td>\n",
    "                            <center>\n",
    "                            <img src=\"https://ntoulzac.github.io/Cours-NSI-Terminale/devoirs/images/laby5.svg\">\n",
    "                            Après\n",
    "                            </center>\n",
    "                        </td>\n",
    "                    </tr>\n",
    "                </table>\n",
    "            <br>\n",
    "            Exemple dans le cas d'une seule ligne\n",
    "            </center>\n",
    "        </td>\n",
    "        <td width=\"45%\">\n",
    "            <center>\n",
    "            <table>\n",
    "                <tr>\n",
    "                    <td>\n",
    "                            <center>\n",
    "                            <img src=\"https://ntoulzac.github.io/Cours-NSI-Terminale/devoirs/images/laby6.svg\">\n",
    "                            Avant\n",
    "                            </center>\n",
    "                        </td>\n",
    "                        <td>\n",
    "                            <center>\n",
    "                            <img src=\"https://ntoulzac.github.io/Cours-NSI-Terminale/devoirs/images/laby7.svg\">\n",
    "                            Après\n",
    "                            </center>\n",
    "                        </td>\n",
    "                </tr>\n",
    "            </table>\n",
    "            <br>\n",
    "            Exemple dans le cas d'une seule colonne\n",
    "            </center>\n",
    "        </td>\n",
    "    </tr>\n",
    "</table>\n",
    "\n",
    "**(5)** Recopier et compléter la définition des méthodes `_generer_rec` et `generer` dans la classe `Labyrinthe`.\n",
    "\n",
    "```python\n",
    "    def _generer_rec(self, l1, c1, l2, c2):\n",
    "        \"\"\"\n",
    "        Génère récursivement un labyrinthe parfait dans la zone rectangulaire\n",
    "        dont un coin est la case de coordonnées (l1, c1) et dont le coin opposé\n",
    "        est la case de coordonnées (l2, c2).\n",
    "        - Entrées : l1, c1, l2, c2 (entiers avec l1 <= l2 et c1 <= c2)\n",
    "        \"\"\"\n",
    "        if l1 == l2:  # Si la zone est une seule ligne, on ouvre tous les murs intérieurs à cette zone...\n",
    "            for c in range(......, ......):\n",
    "                self.ouvrir_passage((l1, c), (l1, c+1))\n",
    "        elif c1 == c2:  # Si la zone est une seule colonne, on ouvre tous les murs intérieurs à cette zone...\n",
    "            for ......:\n",
    "                self.ouvrir_passage(......)\n",
    "        else:  # Sinon, la zone est composée d'au moins deux lignes et d'au moins deux colonnes...\n",
    "            delta_l, delta_c = abs(l1 - l2), abs(c1 - c2)\n",
    "            if randint(0, delta_l + delta_c - 1) < delta_l:  # Coupe horizontale\n",
    "                l = alea(l1, l2-1)\n",
    "                c = randint(c1, c2)\n",
    "                self.ouvrir_passage((l, c), (l+1, c))\n",
    "                self._generer_rec(l1, c1, l, c2)\n",
    "                self._generer_rec(l+1, c1, l2, c2)\n",
    "            else:  # Coupe verticale\n",
    "                l = randint(......)\n",
    "                c = alea(......)\n",
    "                self.ouvrir_passage(......)\n",
    "                self._generer_rec(......)\n",
    "                self._generer_rec(......)\n",
    "            \n",
    "    def generer(self):\n",
    "        \"\"\"\n",
    "        Génère un labyrinthe parfait.\n",
    "        \"\"\"\n",
    "        self._generer_rec(0, 0, ......, ......)\n",
    "```\n",
    "\n",
    "_Remarque :_ Dans un premier temps, la fonction `alea` sera la fonction `randint` du module `random`."
   ]
  },
  {
   "cell_type": "code",
   "execution_count": null,
   "id": "ef2a01da",
   "metadata": {},
   "outputs": [],
   "source": [
    "from random import randint\n",
    "alea = randint"
   ]
  },
  {
   "cell_type": "code",
   "execution_count": null,
   "id": "c54bb01b",
   "metadata": {},
   "outputs": [],
   "source": []
  },
  {
   "cell_type": "markdown",
   "id": "40a450eb",
   "metadata": {},
   "source": [
    "**(6)** Afficher un labyrinthe parfait composé de 10 lignes et de 15 colonnes."
   ]
  },
  {
   "cell_type": "code",
   "execution_count": null,
   "id": "428584d7",
   "metadata": {
    "scrolled": false
   },
   "outputs": [],
   "source": []
  },
  {
   "cell_type": "markdown",
   "id": "04f4ec36",
   "metadata": {},
   "source": [
    "<div style='background-color: #ffc154;\n",
    "    border-radius: 0.5em;\n",
    "    padding: 1em;'>\n",
    "    <h2>Amélioration</h2>\n",
    "</div>"
   ]
  },
  {
   "cell_type": "markdown",
   "id": "51c1f54b",
   "metadata": {},
   "source": [
    "**(7)** Afficher la spécification de la fonction `gauss` du module `random`, puis expliquer ce que renvoie l'appel `gauss(0, 1)`."
   ]
  },
  {
   "cell_type": "code",
   "execution_count": null,
   "id": "c00a31fd",
   "metadata": {},
   "outputs": [],
   "source": []
  },
  {
   "cell_type": "code",
   "execution_count": null,
   "id": "03d13f33",
   "metadata": {},
   "outputs": [],
   "source": []
  },
  {
   "cell_type": "markdown",
   "id": "4a51aeaf",
   "metadata": {},
   "source": [
    "**(8)** Redéfinir la fonction `alea` pour qu'elle prenne deux paramètres d'entrée `val_min` et `val_max` et qu'elle choisisse une valeur aléatoire `val`.\n",
    "\n",
    "La loi de probabilité de `val` sera la loi normale de moyenne `(val_min + val_max) / 2` et d'écart-type `(val_max - val_min) / 6`.\n",
    "\n",
    "La fonction renverra un entier compris entre `val_min` et `val_max` :\n",
    "- l'arrondi de `val` si cet arrondi est compris entre `val_min` et `val_max`,\n",
    "- `val_min` si l'arrondi de `val` est inférieur à `val_min`,\n",
    "- `val_max` si l'arrondi de `val` est supérieur à `val_max`.\n",
    "\n",
    "Par exemple, 100000 appels `alea(0, 20)` devraient aboutir à une répartition de ce type :\n",
    "\n",
    "<img src=\"https://ntoulzac.github.io/Cours-NSI-Terminale/devoirs/images/gauss.svg\" width=\"60%\">"
   ]
  },
  {
   "cell_type": "code",
   "execution_count": null,
   "id": "8f5f957a",
   "metadata": {},
   "outputs": [],
   "source": []
  },
  {
   "cell_type": "code",
   "execution_count": null,
   "id": "6515e13f",
   "metadata": {},
   "outputs": [],
   "source": [
    "import matplotlib.pyplot as plt\n",
    "\n",
    "liste = []\n",
    "for _ in range(100000):\n",
    "    liste.append(alea(0, 20))\n",
    "        \n",
    "plt.hist(liste, bins=41)\n",
    "plt.show()"
   ]
  },
  {
   "cell_type": "markdown",
   "id": "290da7eb",
   "metadata": {},
   "source": [
    "**(9)** Afficher un labyrinthe parfait composé de 20 lignes et de 30 colonnes."
   ]
  },
  {
   "cell_type": "code",
   "execution_count": null,
   "id": "de941871",
   "metadata": {},
   "outputs": [],
   "source": []
  }
 ],
 "metadata": {
  "kernelspec": {
   "display_name": "Python 3 (ipykernel)",
   "language": "python",
   "name": "python3"
  },
  "language_info": {
   "codemirror_mode": {
    "name": "ipython",
    "version": 3
   },
   "file_extension": ".py",
   "mimetype": "text/x-python",
   "name": "python",
   "nbconvert_exporter": "python",
   "pygments_lexer": "ipython3",
   "version": "3.9.12"
  }
 },
 "nbformat": 4,
 "nbformat_minor": 5
}
