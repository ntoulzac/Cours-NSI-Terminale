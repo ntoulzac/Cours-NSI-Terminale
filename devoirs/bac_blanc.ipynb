{
 "cells": [
  {
   "cell_type": "markdown",
   "id": "130634fe",
   "metadata": {},
   "source": [
    "<div style='background-color: #c1ff54;\n",
    "    border: 0.5em solid black;\n",
    "    border-radius: 0.5em;\n",
    "    padding: 1em;'>\n",
    "    <h2>Baccalauréat blanc - Épreuve écrite</h2>\n",
    "    <h1>Métropole Juin 2021 (jour 2) - Sujet de remplacement</h1>\n",
    "</div>"
   ]
  },
  {
   "cell_type": "markdown",
   "id": "14c9cf75",
   "metadata": {},
   "source": [
    "<div style='background-color: #c1ff54;\n",
    "    border-radius: 0.5em;\n",
    "    padding: 1em;'>\n",
    "    <h2>Exercice 2</h2>\n",
    "</div>"
   ]
  },
  {
   "cell_type": "markdown",
   "id": "524d4bfb",
   "metadata": {},
   "source": [
    "_Principaux thèmes abordés : structure de données (tableaux, dictionnaires) et langages et programmation (spécification)._\n",
    "\n",
    "### Objectif de l’exercice\n",
    "\n",
    "Les Aventuriers du Rail© est un jeu de société dans lequel les joueurs doivent construire des lignes de chemin de fer entre différentes villes d'un pays.\n",
    "\n",
    "La carte des liaisons possibles dans la région Occitanie est donnée en **annexe 1 de l’exercice 2**. Dans l’**annexe 2 de l’exercice 2**, les liaisons possédées par le joueur 1 sont en noir, et celles du joueur 2 en blanc. Les liaisons en gris sont encore en jeu.\n",
    "\n",
    "<img src='https://ntoulzac.github.io/Cours-NSI-Terminale/devoirs/images/bac_blanc_ex2_im1.png'>\n",
    "<img src='https://ntoulzac.github.io/Cours-NSI-Terminale/devoirs/images/bac_blanc_ex2_im2.png'>\n",
    "\n",
    "### Codages des structures de données utilisées\n",
    "\n",
    "#### Liste des liaisons d'un joueur\n",
    "\n",
    "Toutes les liaisons directes (sans ville intermédiaire) construites par un joueur seront enregistrées dans une variable de type \"**tableau de tableaux**\".\n",
    "\n",
    "Le joueur 1 possède les lignes directes \"Toulouse-Muret\", \"Toulouse-Montauban\", \"Gaillac-St Sulpice\" et \"Muret-Pamiers\" (liaisons indiquées en noir dans l’**annexe 2 de l’exercice 2**). Ces liaisons sont mémorisées dans la variable ci-dessous."
   ]
  },
  {
   "cell_type": "code",
   "execution_count": null,
   "id": "8b117a44",
   "metadata": {},
   "outputs": [],
   "source": [
    "liaisons_joueur1 = [[\"Toulouse\", \"Muret\"],\n",
    "                    [\"Toulouse\", \"Montauban\"],\n",
    "                    [\"Gaillac\", \"St Sulpice\"],\n",
    "                    [\"Muret\", \"Pamiers\"]]"
   ]
  },
  {
   "cell_type": "markdown",
   "id": "99db2f7f",
   "metadata": {},
   "source": [
    "***Remarque :*** Seules les liaisons directes existent, par exemple `[\"Toulouse\", \"Muret\"]` ou `[\"Muret\", \"Toulouse\"]`. Par contre, le tableau `[\"Toulouse\", \"Mazamet\"]` n'existe pas, puisque la ligne Toulouse-Mazamet passe par Castres.\n",
    "\n",
    "#### Dictionnaire associé à un joueur\n",
    "\n",
    "On code la liste des villes et des trajets possédée par un joueur en utilisant un **dictionnaire de tableaux**. Chaque clef de ce dictionnaire est une ville de départ, et chaque valeur est un tableau contenant les villes d'arrivée possibles en fonction des liaisons possédées par le joueur.\n",
    "\n",
    "Le **dictionnaire de tableaux** du joueur 1 est donné ci-dessous :"
   ]
  },
  {
   "cell_type": "code",
   "execution_count": null,
   "id": "64d2c23c",
   "metadata": {},
   "outputs": [],
   "source": [
    "dict_joueur1 = {\"Toulouse\": [\"Muret\", \"Montauban\"],\n",
    "                \"Montauban\": [\"Toulouse\"],\n",
    "                \"Gaillac\": [\"St Sulpice\"],\n",
    "                \"St Sulpice\": [\"Gaillac\"],\n",
    "                \"Muret\": [\"Toulouse\", \"Pamiers\"],\n",
    "                \"Pamiers\": [\"Muret\"]}"
   ]
  },
  {
   "cell_type": "markdown",
   "id": "35562301",
   "metadata": {},
   "source": [
    "**1.** Expliquer pourquoi la liste des liaisons suivante n'est pas valide :\n",
    "\n",
    "```python\n",
    "tableau_liaisons = [[\"Toulouse\", \"Auch\"], [\"Luchon\", \"Muret\"], [\"Quillan\", \"Limoux\"]]\n",
    "```\n",
    "\n",
    "**2.** Cette question concerne le joueur n°2 _(Rappel : les liaisons possédées par le joueur n°2 sont représentées par un rectangle blanc dans l’**annexe 2 de l’exercice 2**)_.\n",
    "\n",
    "**a)** Donner le tableau `liaisons_joueur2` des liaisons possédées par le joueur n°2.\n",
    "\n",
    "**b)** Recopier et compléter le dictionnaire suivant associé au joueur n°2."
   ]
  },
  {
   "cell_type": "code",
   "execution_count": null,
   "id": "06a2baf0",
   "metadata": {},
   "outputs": [],
   "source": [
    "dict_joueur2 = {\"Toulouse\": [\"Castres\", \"Castelnaudary\"],\n",
    "                ...}"
   ]
  },
  {
   "cell_type": "markdown",
   "id": "f5ed198b",
   "metadata": {},
   "source": [
    "**3.** À partir du tableau de tableaux contenant les liaisons d'un joueur, on souhaite construire le dictionnaire correspondant au joueur. Une première proposition a abouti à la fonction `construire_dico` ci-dessous."
   ]
  },
  {
   "cell_type": "code",
   "execution_count": null,
   "id": "4a3d974e",
   "metadata": {},
   "outputs": [],
   "source": [
    "def construire_dico(liste_liaisons):\n",
    "    \"\"\"\n",
    "    liste_liaisons est un tableau de tableaux représentant la liste des liaisons d'un joueur.\n",
    "    \"\"\"\n",
    "    dico = {}\n",
    "    for liaison in liste_liaisons:\n",
    "        villeA = liaison[0]\n",
    "        villeB = liaison[1]\n",
    "        if not villeA in dico.keys():\n",
    "            dico[villeA] = [villeB]\n",
    "        else:\n",
    "            destinationsA = dico[villeA]\n",
    "            if not villeB in destinationsA:\n",
    "                destinationsA.append(villeB)\n",
    "    return dico"
   ]
  },
  {
   "cell_type": "markdown",
   "id": "d3c0a83e",
   "metadata": {},
   "source": [
    "**a)** Écrire sur votre copie un `assert` dans la fonction `construire_dico` qui permet de vérifier que `liste_liaisons` n’est pas vide.\n",
    "\n",
    "**b)** Sur votre copie, donner le résultat de cette fonction ayant comme argument la variable `liaisons_joueur1` donnée dans l’énoncé et expliquer en quoi cette fonction ne répond que partiellement à la demande.\n",
    "\n",
    "**c)** La fonction `construire_dico`, définie ci-dessus, est donc partiellement inexacte. Compléter la fonction `construire_dico` pour qu’elle génère bien l’ensemble du dictionnaire de tableaux correspondant à la liste de liaisons données en argument. À l’aide des numéros de lignes, on précisera où est inséré ce code."
   ]
  },
  {
   "cell_type": "markdown",
   "id": "dfa0b25b",
   "metadata": {},
   "source": [
    "<div style='background-color: #c1ff54;\n",
    "    border-radius: 0.5em;\n",
    "    padding: 1em;'>\n",
    "    <h2>Exercice 4</h2>\n",
    "</div>"
   ]
  },
  {
   "cell_type": "markdown",
   "id": "5c805040",
   "metadata": {},
   "source": [
    "_Principaux thèmes abordés : structure de données (programmation objet) et langages et programmation (spécification)._\n",
    "\n",
    "Une entreprise fabrique des yaourts qui peuvent être soit nature (sans arôme), soit aromatisés (fraise, abricot ou vanille).\n",
    "\n",
    "Pour pouvoir traiter informatiquement les spécificités de ce produit, on va donc créer une classe `Yaourt` qui possèdera un certain nombre d’attributs :\n",
    "- son genre : nature ou aromatisé,\n",
    "- son arôme : fraise, abricot, vanille ou aucun,\n",
    "- sa date de durabilité minimale (DDM) exprimée par un entier compris entre 1 et 365 (on ne gère pas les années bissextiles). Par exemple, si la DDM est égale à 15, la date de durabilité minimale est le 15 janvier.\n",
    "\n",
    "On va créer également des méthodes permettant d’interagir avec l’objet `Yaourt` pour attribuer un arôme ou récupérer un genre par exemple. On peut représenter cette classe par le tableau de spécifications ci-dessous :\n",
    "\n",
    "<img src='https://ntoulzac.github.io/Cours-NSI-Terminale/devoirs/images/bac_blanc_ex3.png'>\n",
    "\n",
    "**1.** La classe `Yaourt` est déclarée en Python à l’aide du mot-clé `class`. En voici le code existant et l’endroit des codes à produire dans les questions suivantes."
   ]
  },
  {
   "cell_type": "code",
   "execution_count": null,
   "id": "f978bef0",
   "metadata": {},
   "outputs": [],
   "source": [
    "class Yaourt:\n",
    "    def __init__(self, arome, duree):\n",
    "        # **** Assertions - question 1.a. à compléter sur votre copie\n",
    "        self.__arome = arome\n",
    "        self.__duree = duree\n",
    "        self.__set_genre(arome)\n",
    "    \n",
    "    # **** Méthode get_arome(self) - question 1.c. à compléter sur votre copie\n",
    "    \n",
    "    def get_duree(self):\n",
    "        return self.__duree\n",
    "    \n",
    "    def get_genre(self):\n",
    "        return self.__genre\n",
    "    \n",
    "    def set_duree(self, duree):\n",
    "        # **** Mutateur de durée\n",
    "        if duree > 0 :\n",
    "            self.__duree = duree\n",
    "    \n",
    "    # **** Mutateur d’arôme set_arome(self,arome) - question 2. à compléter sur votre copie\n",
    "    \n",
    "    def __set_genre(self, arome):\n",
    "        if arome == 'aucun':\n",
    "            self.__genre = 'nature'\n",
    "        else:\n",
    "            self.__genre = 'aromatise'"
   ]
  },
  {
   "cell_type": "markdown",
   "id": "e69b378b",
   "metadata": {},
   "source": [
    "**a)** Quelles sont les assertions à prévoir pour vérifier que l’arôme et la durée correspondent bien à des valeurs acceptables. Il faudra aussi expliciter les commentaires qui seront renvoyés.\n",
    "\n",
    "Pour rappel :\n",
    "- L’arôme doit prendre comme valeur `\"fraise\"`, `\"abricot\"`, `\"vanille\"` ou `\"aucun\"`.\n",
    "- Sa date de durabilité minimale (DDM) est une valeur positive.\n",
    "\n",
    "**b)** Pour créer un yaourt, on exécutera la commande suivante :\n",
    "\n",
    "```python\n",
    "mon_yaourt = Yaourt(\"fraise\", 24)\n",
    "```\n",
    "\n",
    "**c)** Écrire en Python une fonction `get_arome(self)`, renvoyant l’arôme du yaourt créé.\n",
    "\n",
    "**2.** On appelle mutateur une méthode permettant de modifier un ou plusieurs attributs d’un objet.\n",
    "\n",
    "Sur votre copie, écrire en Python le mutateur `set_arome(self, arome)` permettant de modifier l’arôme du yaourt.\n",
    "\n",
    "_On veillera à garder une cohérence entre l’arôme et le genre._\n",
    "\n",
    "**3.** On veut créer une pile contenant le stock de yaourts. Pour cela il faut tout d’abord créer une pile vide :"
   ]
  },
  {
   "cell_type": "code",
   "execution_count": null,
   "id": "87dd90d3",
   "metadata": {},
   "outputs": [],
   "source": [
    "def creer_pile():\n",
    "    pile = []\n",
    "    return pile"
   ]
  },
  {
   "cell_type": "markdown",
   "id": "0bb572d2",
   "metadata": {},
   "source": [
    "**a)** Créer une fonction `empiler(p, yaourt)` qui renvoie la pile `p` après avoir ajouté un objet de type `Yaourt` à la fin.\n",
    "\n",
    "**b)** Créer une fonction `depiler(p)` qui renvoie l’objet à dépiler.\n",
    "\n",
    "**c)** Créer une fonction `est_vide(p)` qui renvoie `True` si la pile est vide et `False` sinon.\n",
    "\n",
    "**d)** Qu’affiche le bloc de commandes ci-dessous ?"
   ]
  },
  {
   "cell_type": "code",
   "execution_count": null,
   "id": "4289a710",
   "metadata": {},
   "outputs": [],
   "source": [
    "mon_yaourt1 = Yaourt(\"aucun\", 18)\n",
    "mon_yaourt2 = Yaourt(\"fraise\", 24)\n",
    "ma_pile = creer_pile()\n",
    "empiler(ma_pile, mon_yaourt1)\n",
    "empiler(ma_pile, mon_yaourt2)\n",
    "print(depiler(ma_pile).get_duree())\n",
    "print(est_vide(ma_pile))"
   ]
  },
  {
   "cell_type": "markdown",
   "id": "70f646a6",
   "metadata": {},
   "source": [
    "<div style='background-color: #c1ff54;\n",
    "    border-radius: 0.5em;\n",
    "    padding: 1em;'>\n",
    "    <h2>Exercice 5</h2>\n",
    "</div>"
   ]
  },
  {
   "cell_type": "markdown",
   "id": "876c094b",
   "metadata": {},
   "source": [
    "_Principaux thèmes abordés : Traitement de données en tables (CSV) et langages et programmation (spécification)._\n",
    "\n",
    "Afin d’améliorer l’ergonomie d’un logiciel de traitement des inscriptions dans une université, un programmeur souhaite exploiter l’intelligence artificielle pour renseigner certains champs par auto-complétion. Il s’intéresse au descripteur « genre » (masculin, féminin ou indéterminé). Pour cela il propose d’exploiter les dernières lettres du prénom\n",
    "pour proposer automatiquement le genre.\n",
    "\n",
    "Pour vérifier son hypothèse, il récupère un fichier CSV associant plus de 60 000 prénoms du monde entier au genre de la personne portant ce prénom. En utilisant seulement la dernière lettre, le taux de réussite de sa démarche est de 72,9% avec la fonction définie ci-dessous :"
   ]
  },
  {
   "cell_type": "code",
   "execution_count": null,
   "id": "e1bf2f5a",
   "metadata": {},
   "outputs": [],
   "source": [
    "def genre(prenom):\n",
    "    liste_M = [\"f\", \"d\", \"c\", \"b\", \"o\", \"n\", \"m\", \"l\", \"k\",\n",
    "               \"j\", \"é\", \"h\", \"w\", \"v\", \"u\", \"t\", \"s\", \"r\",\n",
    "               \"q\", \"p\", \"i\", \"þ\", \"z\", \"x\", \"ç\", \"ö\", \"ã\",\n",
    "               \"â\", \"ï\", \"g\"]\n",
    "    liste_F = [\"e\", \"a\", \"ä\", \"ü\", \"y\", \"ë\"]\n",
    "\n",
    "    if prenom[len(prenom)-1].lower() in liste_M:\n",
    "        return \"M\"\n",
    "    elif prenom[len(prenom)-1].lower() in liste_F:\n",
    "        return \"F\"\n",
    "    else:\n",
    "        return \"I\""
   ]
  },
  {
   "cell_type": "markdown",
   "id": "de529c9b",
   "metadata": {},
   "source": [
    " Pour rappel, `C.lower()` convertit le caractère `C` en minuscule.\n",
    " \n",
    "**1. Appropriation**\n",
    "\n",
    "**a)** Expliquer ce qu’est un fichier CSV.\n",
    "\n",
    "**b)** Donner le type du paramètre `prenom` de la fonction `genre`, et le type de la réponse renvoyée.\n",
    "\n",
    "**2. Développement**\n",
    "\n",
    "Pour effectuer son étude sur les prénoms à partir du fichier CSV, le programmeur souhaite utiliser la bibliothèque `csv`.\n",
    "\n",
    "**a)** La bibliothèque `csv` est un module natif du moteur Python. Donner, dans ce cas, l’instruction d’importation.\n",
    "\n",
    "**b)** Au cours du développement de son projet, le programmeur souhaite insérer une assertion sur l’argument donné à la fonction.\n",
    "\n",
    "Proposer une assertion sur le type de l’argument qui provoque une erreur lorsque le type ne correspond pas à celui attendu.\n",
    "\n",
    "**c)** Avant le déploiement de sa solution, le programmeur décide de rendre sa fonction plus robuste.\n",
    "\n",
    "Pour cela il veut remplacer l’assertion proposée dans la question **2.b)** par une gestion de l’argument pour éviter toutes erreurs empêchant la poursuite du programme.\n",
    "\n",
    "Proposer alors une ou plusieurs instructions en Python utilisant l’argument afin de s’assurer que la fonction se termine quel que soit le type de l’argument.\n",
    "\n",
    "**3. Améliorations**\n",
    "\n",
    "En prenant en compte les deux dernières lettres du prénom, il parvient à augmenter son taux de réussite à 74,4%. Pour cela, son étude du fichier CSV lui permet de créer deux listes : `liste_M2` pour les terminaisons de deux lettres associées aux\n",
    "prénoms masculins et `liste_F2` pour les prénoms féminins.\n",
    "\n",
    "Sur votre copie, recopier et modifier la structure conditionnelle (lignes 8 à 13) de la fonction `genre` afin de prendre en compte les terminaisons de deux lettres des listes `liste_M2` et `liste_F2`."
   ]
  }
 ],
 "metadata": {
  "kernelspec": {
   "display_name": "Python 3",
   "language": "python",
   "name": "python3"
  },
  "language_info": {
   "codemirror_mode": {
    "name": "ipython",
    "version": 3
   },
   "file_extension": ".py",
   "mimetype": "text/x-python",
   "name": "python",
   "nbconvert_exporter": "python",
   "pygments_lexer": "ipython3",
   "version": "3.8.8"
  }
 },
 "nbformat": 4,
 "nbformat_minor": 5
}
