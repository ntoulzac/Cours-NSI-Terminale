{
 "cells": [
  {
   "cell_type": "markdown",
   "metadata": {},
   "source": [
    "# Devoir 1 - Seconde partie (8 points)\n",
    "\n",
    "**Les documents et la recherche d'informations sur internet sont strictement interdits.**"
   ]
  },
  {
   "cell_type": "markdown",
   "metadata": {},
   "source": [
    "## Exercice 1 - Championnat de France de rugby (4 points)"
   ]
  },
  {
   "cell_type": "markdown",
   "metadata": {},
   "source": [
    "L'API _SportRadar_ permet de récupérer des données sur les compétitions sportives, par exemple le championnat de France de rugby (Top 14).\n",
    "\n",
    "On donne la fonction `resultats_top14` :"
   ]
  },
  {
   "cell_type": "code",
   "execution_count": 1,
   "metadata": {},
   "outputs": [],
   "source": [
    "import requests\n",
    "\n",
    "def resultats_top14(jour, mois, annee):\n",
    "    \"\"\"\n",
    "    Interroge l'API SportRadar et récupère les résultats des matchs de Top 14 pour une date donnée.\n",
    "    - Entrées : jour, mois, annee (chaînes de caractères aux formats \"JJ\", \"MM\" et \"AAAA\")\n",
    "    - Sortie : donnees (tableau dont les élément sont des dictionnaires)\n",
    "    \"\"\"\n",
    "    url = f\"https://api.sportradar.us/rugby/trial/v2/union/en/schedules/{annee}-{mois}-{jour}/results.json?api_key=dmqxasfmemkeeeqwxewjf7zr\"\n",
    "    reponse = requests.get(url)\n",
    "    reponse = reponse.json()\n",
    "    assert \"message\" not in reponse, \"Problème d'interrogation de l'API : URL incorrecte !\"\n",
    "    donnees = []\n",
    "    for match in reponse['results']:\n",
    "        if match['sport_event']['sport_event_context']['competition']['name'] == 'Top 14':\n",
    "            if not match['sport_event_status']['status'] == 'postponed':\n",
    "                dom = match['sport_event']['competitors'][0]['name']\n",
    "                ext = match['sport_event']['competitors'][1]['name']\n",
    "                score_dom = match['sport_event_status']['home_score']\n",
    "                score_ext = match['sport_event_status']['away_score']\n",
    "                donnees.append({'dom' : dom,\n",
    "                                'ext' : ext,\n",
    "                                'score_dom' : score_dom,\n",
    "                                'score_ext' : score_ext})\n",
    "    return donnees"
   ]
  },
  {
   "cell_type": "markdown",
   "metadata": {},
   "source": [
    "**(1)** Après avoir lu attentivement la spécification de la fonction, expliquer pourquoi l'exécution de la cellule suivante provoque une erreur, et proposer une correction. **Attention ! Le code de la fonction `resultats_top14` ne contient pas d'erreur et ne doit pas être modifié !**"
   ]
  },
  {
   "cell_type": "code",
   "execution_count": null,
   "metadata": {},
   "outputs": [],
   "source": [
    "tab_matchs = resultats_top14(2, 9, 2023)"
   ]
  },
  {
   "cell_type": "markdown",
   "metadata": {},
   "source": [
    "_Réponse à écrire ici..._"
   ]
  },
  {
   "cell_type": "markdown",
   "metadata": {},
   "source": [
    "**(2)** Quelles sont les clés du dictionnaire `tab_matchs[0]` ? Préciser quel est le type des valeurs associées à chaque clé."
   ]
  },
  {
   "cell_type": "markdown",
   "metadata": {},
   "source": [
    "_Réponse à écrire ici..._"
   ]
  },
  {
   "cell_type": "markdown",
   "metadata": {},
   "source": [
    "**(3)** Ecrire des lignes de code permettant d'afficher les scores des matchs de Top 14 joués le 2 septembre 2023 au format :\n",
    "\n",
    "`Asm Clermont Auvergne 11 - 10 Stade Rochelais`."
   ]
  },
  {
   "cell_type": "code",
   "execution_count": null,
   "metadata": {},
   "outputs": [],
   "source": []
  },
  {
   "cell_type": "markdown",
   "metadata": {},
   "source": [
    "**(4)** Sachant que le seul match de Top 14 joué le 17 juin 2023 était la finale de la compétition, écrire des lignes de code permettant d'afficher le nom du champion de France en titre."
   ]
  },
  {
   "cell_type": "code",
   "execution_count": null,
   "metadata": {},
   "outputs": [],
   "source": []
  },
  {
   "cell_type": "markdown",
   "metadata": {},
   "source": [
    "## Exercice 2 - Planètes du système solaire (4 points)"
   ]
  },
  {
   "cell_type": "markdown",
   "metadata": {},
   "source": [
    "L'API _Système solaire_ permet de récupérer des données sur les planètes du système solaire et sur leurs satellites naturels. On interroge l'API de la façon suivante :"
   ]
  },
  {
   "cell_type": "code",
   "execution_count": null,
   "metadata": {},
   "outputs": [],
   "source": [
    "import requests"
   ]
  },
  {
   "cell_type": "code",
   "execution_count": null,
   "metadata": {},
   "outputs": [],
   "source": [
    "url = f\"https://api.le-systeme-solaire.net/rest/bodies\"\n",
    "reponse = requests.get(url)\n",
    "reponse = reponse.json()"
   ]
  },
  {
   "cell_type": "markdown",
   "metadata": {},
   "source": [
    "Voici une partie de la réponse reçue :"
   ]
  },
  {
   "cell_type": "code",
   "execution_count": null,
   "metadata": {},
   "outputs": [],
   "source": [
    "reponse[\"bodies\"][0]"
   ]
  },
  {
   "cell_type": "markdown",
   "metadata": {},
   "source": [
    "**(1)** Quel est le type de `reponse[\"bodies\"]` ? de `reponse[\"bodies\"][0]` ? de `reponse[\"bodies\"][0][\"isPlanet\"]` ?"
   ]
  },
  {
   "cell_type": "markdown",
   "metadata": {},
   "source": [
    "_Réponses à écrire ici..._"
   ]
  },
  {
   "cell_type": "markdown",
   "metadata": {},
   "source": [
    "**(2)** Ecrire des lignes de code permettant d'afficher uniquement le nom en anglais des huit planètes du système solaire."
   ]
  },
  {
   "cell_type": "code",
   "execution_count": null,
   "metadata": {},
   "outputs": [],
   "source": []
  },
  {
   "cell_type": "markdown",
   "metadata": {},
   "source": [
    "**(3)** Sachant que la masse de la Lune est d'environ $7,3 \\times 10^{22}$ kilogrammes et que son volume est d'environ $2,2 \\times 10^{10}$ kilomètres cubes, écrire des lignes de code permettant d'afficher, pour chacune des huit planètes du système solaire, sa masse en tonnes et son volume en kilomètres cubes."
   ]
  },
  {
   "cell_type": "code",
   "execution_count": null,
   "metadata": {},
   "outputs": [],
   "source": []
  }
 ],
 "metadata": {
  "kernelspec": {
   "display_name": "Python 3 (ipykernel)",
   "language": "python",
   "name": "python3"
  },
  "language_info": {
   "codemirror_mode": {
    "name": "ipython",
    "version": 3
   },
   "file_extension": ".py",
   "mimetype": "text/x-python",
   "name": "python",
   "nbconvert_exporter": "python",
   "pygments_lexer": "ipython3",
   "version": "3.9.12"
  }
 },
 "nbformat": 4,
 "nbformat_minor": 4
}
