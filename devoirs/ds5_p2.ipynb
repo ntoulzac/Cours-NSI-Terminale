{
 "cells": [
  {
   "cell_type": "markdown",
   "metadata": {},
   "source": [
    "# Devoir 5 - Seconde partie (10 points)\n",
    "\n",
    "**Les documents et la recherche d'informations sur internet sont strictement interdits.**"
   ]
  },
  {
   "cell_type": "markdown",
   "metadata": {},
   "source": [
    "## Exercice A - Hauteur d'un arbre binaire (4 points)\n",
    "\n",
    "On donne la définition de deux classes `Noeud` et `ArbreBinaire` :"
   ]
  },
  {
   "cell_type": "code",
   "execution_count": null,
   "metadata": {},
   "outputs": [],
   "source": [
    "class Noeud:\n",
    "    def __init__(self, etiquette, gauche=None, droit=None):\n",
    "        \"\"\"\n",
    "        Crée une instance de la classe Noeud.\n",
    "        - Entrées : etiquette (type quelconque)\n",
    "                    gauche, droit (instances de la classe Noeud, ou None en l'absence d'enfant)\n",
    "        \"\"\"\n",
    "        self.etiquette = etiquette\n",
    "        self.gauche = gauche\n",
    "        self.droit = droit\n",
    "        \n",
    "    def est_feuille(self):\n",
    "        \"\"\"\n",
    "        Détermine si le noeud est une feuille.\n",
    "        - Sortie : (booléen, True si le noeud est une feuille, False sinon)\n",
    "        \"\"\"\n",
    "        return self.gauche is None and self.droit is None"
   ]
  },
  {
   "cell_type": "code",
   "execution_count": null,
   "metadata": {},
   "outputs": [],
   "source": [
    "class ArbreBinaire:\n",
    "    def __init__(self, racine):\n",
    "        \"\"\"\n",
    "        Crée une instance de la classe ArbreBinaire.\n",
    "        - Entrée : racine (instance de la classe Noeud, ou None pour un arbre vide)\n",
    "        \"\"\"\n",
    "        self.racine = racine\n",
    "    \n",
    "    def est_vide(self):\n",
    "        \"\"\"\n",
    "        Détermine si l'arbre est vide.\n",
    "        - Sortie : (booléen, True si l'arbre est vide, False sinon)\n",
    "        \"\"\"\n",
    "        return self.racine is None\n",
    "    \n",
    "    def sa_gauche(self):\n",
    "        \"\"\"\n",
    "        Renvoie le sous-arbre gauche.\n",
    "        - Sortie : instance de la classe ArbreBinaire\n",
    "        \"\"\"\n",
    "        if self.est_vide():\n",
    "            raise IndexError(\"l'arbre est vide\")\n",
    "        return ArbreBinaire(self.racine.gauche)\n",
    "    \n",
    "    def sa_droit(self):\n",
    "        \"\"\"\n",
    "        Renvoie le sous-arbre gauche.\n",
    "        - Sortie : instance de la classe ArbreBinaire\n",
    "        \"\"\"\n",
    "        if self.est_vide():\n",
    "            raise IndexError(\"l'arbre est vide\")\n",
    "        return ArbreBinaire(self.racine.droit)\n",
    "    \n",
    "    def est_feuille(self):\n",
    "        \"\"\"\n",
    "        Détermine si l'arbre est réduit à sa racine.\n",
    "        - Sortie : (booléen, True si l'arbre est une feuille, False sinon)\n",
    "        \"\"\"\n",
    "        return self.sa_gauche().est_vide() and self.sa_droit().est_vide()"
   ]
  },
  {
   "cell_type": "markdown",
   "metadata": {},
   "source": [
    "**(1)** Créer une instance `mon_arbre` de la classe `ArbreBinaire` correspondant à l'arbre dessiné ci-dessous :\n",
    "\n",
    "<img src=\"https://ntoulzac.github.io/Cours-NSI-Terminale/arbres/images/arbre8.png\">"
   ]
  },
  {
   "cell_type": "code",
   "execution_count": null,
   "metadata": {},
   "outputs": [],
   "source": []
  },
  {
   "cell_type": "markdown",
   "metadata": {},
   "source": [
    "**(2)** Définir une fonction `taille_arbre` qui prend en paramètre d'entrée une instance de la classe `ArbreBinaire` et qui renvoie la taille de l'arbre, c'est-à-dire son nombre de noeuds."
   ]
  },
  {
   "cell_type": "code",
   "execution_count": null,
   "metadata": {},
   "outputs": [],
   "source": []
  },
  {
   "cell_type": "markdown",
   "metadata": {},
   "source": [
    "**(3)** Définir une fonction `somme_arbre` qui prend en paramètre d'entrée une instance de la classe `ArbreBinaire` (dont les étiquettes des noeuds sont des nombres) et qui renvoie la somme des étiquettes présentes dans l'arbre."
   ]
  },
  {
   "cell_type": "code",
   "execution_count": null,
   "metadata": {},
   "outputs": [],
   "source": []
  },
  {
   "cell_type": "markdown",
   "metadata": {},
   "source": [
    "## Exercice B - Parcours en profondeur (4 points)\n",
    "\n",
    "On donne une procédure `afficher_noeuds_prefixe` et sa spécification :"
   ]
  },
  {
   "cell_type": "code",
   "execution_count": null,
   "metadata": {},
   "outputs": [],
   "source": [
    "def afficher_noeuds_prefixe(arbre):\n",
    "    \"\"\"\n",
    "    Affiche à l'écran les étiquettes des noeuds d'un arbre binaire dans\n",
    "    l'ordre où ils sont traités lors d'un parcours en profondeur préfixe.\n",
    "    - Entrée : arbre (instance de la classe ArbreBinaire)\n",
    "    - Effet de bord : affichage à l'écran\n",
    "    \"\"\"\n",
    "    if not arbre.est_vide():\n",
    "        print(arbre.racine.etiquette)\n",
    "        afficher_noeuds_prefixe(arbre.sa_gauche())\n",
    "        afficher_noeuds_prefixe(arbre.sa_droit())"
   ]
  },
  {
   "cell_type": "markdown",
   "metadata": {},
   "source": [
    "**(1)** Définir une procédure `afficher_noeuds_suffixe` qui prend en paramètre d'entrée un arbre binaire et qui affiche à l'écran les étiquettes des noeuds d'un arbre binaire dans l'ordre où ils sont traités lors d'un parcours en profondeur suffixe."
   ]
  },
  {
   "cell_type": "code",
   "execution_count": null,
   "metadata": {},
   "outputs": [],
   "source": []
  },
  {
   "cell_type": "markdown",
   "metadata": {},
   "source": [
    "**(2)** Définir une fonction `liste_parcours_infixe` qui prend en paramètre d'entrée un arbre binaire et qui renvoie la liste des étiquettes présentes dans l'arbre, dans l'ordre où les noeuds sont traités lors d'un parcours en profondeur infixe."
   ]
  },
  {
   "cell_type": "code",
   "execution_count": null,
   "metadata": {},
   "outputs": [],
   "source": []
  },
  {
   "cell_type": "markdown",
   "metadata": {},
   "source": [
    "## Exercice C - Arbre binaire de recherche (2 points)\n",
    "\n",
    "**(1)** Définir une fonction `valeur_maximale` conformément à la spécification ci-dessous."
   ]
  },
  {
   "cell_type": "code",
   "execution_count": null,
   "metadata": {},
   "outputs": [],
   "source": [
    "def valeur_maximale(arbre):\n",
    "    \"\"\"\n",
    "    Renvoie la plus grande étiquette présente dans un arbre binaire de recherche.\n",
    "    - Entrée : arbre (instance de la classe ArbreBinaire qui est un arbre binaire de recherche non vide)\n",
    "    - Sortie : (étiquette)\n",
    "    \"\"\"\n",
    "    ??????"
   ]
  },
  {
   "cell_type": "markdown",
   "metadata": {},
   "source": [
    "**(2)** Ecrire la spécification de la fonction `mystere`."
   ]
  },
  {
   "cell_type": "code",
   "execution_count": null,
   "metadata": {},
   "outputs": [],
   "source": [
    "def mystere(arbre):\n",
    "    L = liste_parcours_infixe(arbre)\n",
    "    for k in range(len(L)-1):\n",
    "        if L[k] > L[k+1]:\n",
    "            return False\n",
    "    return True"
   ]
  }
 ],
 "metadata": {
  "kernelspec": {
   "display_name": "Python 3",
   "language": "python",
   "name": "python3"
  },
  "language_info": {
   "codemirror_mode": {
    "name": "ipython",
    "version": 3
   },
   "file_extension": ".py",
   "mimetype": "text/x-python",
   "name": "python",
   "nbconvert_exporter": "python",
   "pygments_lexer": "ipython3",
   "version": "3.8.8"
  }
 },
 "nbformat": 4,
 "nbformat_minor": 4
}
