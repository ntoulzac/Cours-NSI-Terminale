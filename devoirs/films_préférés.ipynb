{
 "cells": [
  {
   "cell_type": "markdown",
   "metadata": {},
   "source": [
    "<div style='background-color: #ffc154;\n",
    "    border: 0.5em solid black;\n",
    "    border-radius: 0.5em;\n",
    "    padding: 1em;'>\n",
    "    <h2>Devoir maison</h2>\n",
    "    <h1>Films préférés</h1>\n",
    "</div>"
   ]
  },
  {
   "cell_type": "markdown",
   "metadata": {},
   "source": [
    "L'objectif de ce devoir est d'obtenir, à partir d'une liste de titres de films, un fichier HTML présentant l'affiche, le titre, le réalisateur et la date de sortie de ces films. Voici un exemple de rendu possible :"
   ]
  },
  {
   "cell_type": "markdown",
   "metadata": {},
   "source": [
    "<img src=\"http://ntoulzac.github.io/Cours-NSI-Terminale/devoirs/images/films_préférés.png\" style=\"border: 10px solid;\">"
   ]
  },
  {
   "cell_type": "markdown",
   "metadata": {},
   "source": [
    "<div style='background-color: #ffc154;\n",
    "    border-radius: 0.5em;\n",
    "    padding: 1em;'>\n",
    "    <h2>Interrogation d'une API</h2>\n",
    "</div>"
   ]
  },
  {
   "cell_type": "markdown",
   "metadata": {},
   "source": [
    "L'API de l'<a href=\"http://www.omdbapi.com/\"><i>Open Movie DataBase</i></a> peut être interrogée via un lien au format : <a href=\"http://www.omdbapi.com/?t=Joker&apikey=1120e23b\">http://www.omdbapi.com/?t=Joker&apikey=1120e23b</a>.\n",
    "\n",
    "**(1)** À quel film la requête ci-dessus fait-elle référence ?"
   ]
  },
  {
   "cell_type": "markdown",
   "metadata": {},
   "source": [
    "_Réponse à écrire ici..._"
   ]
  },
  {
   "cell_type": "markdown",
   "metadata": {},
   "source": [
    "**(2)** Écrire une fonction `interroger_omdb` prenant en paramètre d'entrée une chaîne de caractères correspondant à un titre de film et renvoyant un dictionnaire dont les clés sont :\n",
    "- `'titre'` : le titre du film,\n",
    "- `'année'` : l'année de production du film,\n",
    "- `'sortie'` : la date de sortie du film,\n",
    "- `'durée'` : la durée du film en minutes,\n",
    "- `'réalisateur'` : le nom du réalisateur du film,\n",
    "- `'affiche'` : un lien vers l'affiche du film."
   ]
  },
  {
   "cell_type": "code",
   "execution_count": null,
   "metadata": {},
   "outputs": [],
   "source": []
  },
  {
   "cell_type": "markdown",
   "metadata": {},
   "source": [
    "**(3)** Tester la fonction avec le titre votre film préféré."
   ]
  },
  {
   "cell_type": "code",
   "execution_count": null,
   "metadata": {},
   "outputs": [],
   "source": [
    "mon_film = interroger_omdb(???????)"
   ]
  },
  {
   "cell_type": "code",
   "execution_count": null,
   "metadata": {},
   "outputs": [],
   "source": [
    "mon_film"
   ]
  },
  {
   "cell_type": "markdown",
   "metadata": {},
   "source": [
    "<div style='background-color: #ffc154;\n",
    "    border-radius: 0.5em;\n",
    "    padding: 1em;'>\n",
    "    <h2>Création d'une page HTML</h2>\n",
    "</div>"
   ]
  },
  {
   "cell_type": "markdown",
   "metadata": {},
   "source": [
    "**(4)** Ecrire la spécification de la fonction `div_film` définie ci-dessous."
   ]
  },
  {
   "cell_type": "code",
   "execution_count": 1,
   "metadata": {},
   "outputs": [],
   "source": [
    "def div_film(film):\n",
    "    return f\"\"\"<div>\n",
    "                <img src='{film['affiche']}'><br>\n",
    "                <center><b>{film['titre']} ({film['année']})</b><br>\n",
    "                <i>de {film['réalisateur']}</i><br>\n",
    "                Film sorti le {film['sortie']}</center>\n",
    "            </div>\n",
    "            \"\"\""
   ]
  },
  {
   "cell_type": "markdown",
   "metadata": {},
   "source": [
    "**(5)** Écrire la liste de vos dix films préférés dans le tableau `mes_films`."
   ]
  },
  {
   "cell_type": "code",
   "execution_count": null,
   "metadata": {},
   "outputs": [],
   "source": []
  },
  {
   "cell_type": "markdown",
   "metadata": {},
   "source": [
    "**(6)** Écrire un programme permettant d'obtenir dans une variable `mon_code_html` le code HTML d'une page ressemblant à la capture d'écran en haut du sujet."
   ]
  },
  {
   "cell_type": "code",
   "execution_count": null,
   "metadata": {},
   "outputs": [],
   "source": []
  },
  {
   "cell_type": "markdown",
   "metadata": {},
   "source": [
    "**(7)** En exécutant la cellule suivante, enregistrer le code HTML dans le fichier `mes_films_préférés.html`."
   ]
  },
  {
   "cell_type": "code",
   "execution_count": null,
   "metadata": {},
   "outputs": [],
   "source": [
    "with open('mes_films_préférés.html', 'w') as fichier:\n",
    "    fichier.write(mon_code_html)"
   ]
  },
  {
   "cell_type": "markdown",
   "metadata": {},
   "source": [
    "<div style='background-color: #ffc154;\n",
    "    border-radius: 0.5em;\n",
    "    padding: 1em;'>\n",
    "    <h2>Améliorations</h2>\n",
    "</div>"
   ]
  },
  {
   "cell_type": "markdown",
   "metadata": {},
   "source": [
    "**(8)** Recopier ci-dessous et compléter les codes précédents dans le but d'obtenir les améliorations suivantes :\n",
    "- Les titres des films sont lus dans un fichier texte, à raison d'un titre par ligne dans le fichier.\n",
    "- Les titres non reconnus pas l'API sont ignorés.\n",
    "- Les affiches apparaissent dans l'ordre chronologique de sortie des films."
   ]
  },
  {
   "cell_type": "code",
   "execution_count": null,
   "metadata": {},
   "outputs": [],
   "source": []
  }
 ],
 "metadata": {
  "kernelspec": {
   "display_name": "Python 3 (ipykernel)",
   "language": "python",
   "name": "python3"
  },
  "language_info": {
   "codemirror_mode": {
    "name": "ipython",
    "version": 3
   },
   "file_extension": ".py",
   "mimetype": "text/x-python",
   "name": "python",
   "nbconvert_exporter": "python",
   "pygments_lexer": "ipython3",
   "version": "3.9.7"
  }
 },
 "nbformat": 4,
 "nbformat_minor": 4
}
