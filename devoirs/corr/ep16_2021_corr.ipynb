{
 "cells": [
  {
   "cell_type": "markdown",
   "metadata": {},
   "source": [
    "<div style='background-color: #34c924;\n",
    "    border: 0.5em solid black;\n",
    "    border-radius: 0.5em;\n",
    "    padding: 1em;'>\n",
    "    <h2>Épreuve pratique</h2>\n",
    "    <h1>Sujet 2021_16</h1>\n",
    "</div>"
   ]
  },
  {
   "cell_type": "markdown",
   "metadata": {},
   "source": [
    "<div style='background-color: #34c924;\n",
    "    border-radius: 0.5em;\n",
    "    padding: 1em;'>\n",
    "    <h2>Exercice 1</h2>\n",
    "</div>"
   ]
  },
  {
   "cell_type": "markdown",
   "metadata": {},
   "source": [
    "Écrire une fonction `moyenne` qui prend en paramètre un tableau non vide de nombres flottants et qui renvoie la moyenne des valeurs du tableau. Les tableaux seront représentés sous forme de liste Python.\n",
    "\n",
    "Exemples :\n",
    "```python\n",
    ">>> moyenne([1.0])\n",
    "1.0\n",
    ">>> moyenne([1.0, 2.0, 4.0])\n",
    "2.3333333333333335\n",
    "```"
   ]
  },
  {
   "cell_type": "code",
   "execution_count": 1,
   "metadata": {},
   "outputs": [],
   "source": [
    "def moyenne(tab):\n",
    "    \"\"\"\n",
    "    Calcule la moyenne des valeurs contenues dans un tableau de nombres.\n",
    "    - Entrée : tab (tableau de nombres)\n",
    "    - Sortie : moy (flottant)\n",
    "    \"\"\"\n",
    "    somme = 0\n",
    "    for valeur in tab:\n",
    "        somme += valeur\n",
    "    moy = somme / len(tab)\n",
    "    return moy"
   ]
  },
  {
   "cell_type": "markdown",
   "metadata": {},
   "source": [
    "<div style='background-color: #34c924;\n",
    "    border-radius: 0.5em;\n",
    "    padding: 1em;'>\n",
    "    <h2>Exercice 2</h2>\n",
    "</div>"
   ]
  },
  {
   "cell_type": "markdown",
   "metadata": {},
   "source": [
    "On considère la fonction `dec_to_bin` ci-dessous qui prend en paramètre un entier positif `a` en écriture décimale et qui renvoie son écriture binaire sous la forme d'une chaine de caractères.\n",
    "\n",
    "Compléter la fonction `dec_to_bin`.\n",
    "\n",
    "Exemples :\n",
    "```python\n",
    ">>> dec_to_bin(83)\n",
    "'1010011'\n",
    ">>> dec_to_bin(127)\n",
    "'1111111'\n",
    "```"
   ]
  },
  {
   "cell_type": "code",
   "execution_count": 2,
   "metadata": {},
   "outputs": [],
   "source": [
    "def dec_to_bin(a):\n",
    "    \"\"\"\n",
    "    Donne l'écriture binaire d'un entier positif sous forme de chaîne de caractères.\n",
    "    - Entrée : a (entier positif)\n",
    "    - Sortie : bin_a (chaîne)\n",
    "    \"\"\"\n",
    "    bin_a = str(a % 2)\n",
    "    a = a // 2\n",
    "    while a > 0 :\n",
    "        bin_a = str(a % 2) + bin_a\n",
    "        a = a // 2\n",
    "    return bin_a"
   ]
  },
  {
   "cell_type": "markdown",
   "metadata": {},
   "source": [
    "<div style='background-color: #34c924;\n",
    "    border-radius: 0.5em;\n",
    "    padding: 1em;'>\n",
    "    <h2>Tests</h2>\n",
    "</div>"
   ]
  },
  {
   "cell_type": "code",
   "execution_count": 3,
   "metadata": {},
   "outputs": [
    {
     "name": "stdout",
     "output_type": "stream",
     "text": [
      "Tests passés avec succès pour l'exercice 1 !\n"
     ]
    }
   ],
   "source": [
    "assert moyenne([1.0]) == 1.0\n",
    "assert moyenne([1.0, 2.0, 4.0]) == 2.3333333333333335\n",
    "assert moyenne(list(range(1001))) == 500.0\n",
    "print(\"Tests passés avec succès pour l'exercice 1 !\")"
   ]
  },
  {
   "cell_type": "code",
   "execution_count": 4,
   "metadata": {},
   "outputs": [
    {
     "name": "stdout",
     "output_type": "stream",
     "text": [
      "Tests passés avec succès pour l'exercice 2 !\n"
     ]
    }
   ],
   "source": [
    "assert dec_to_bin(83) == '1010011'\n",
    "assert dec_to_bin(127) == '1111111'\n",
    "assert dec_to_bin(0) == '0'\n",
    "print(\"Tests passés avec succès pour l'exercice 2 !\")"
   ]
  }
 ],
 "metadata": {
  "kernelspec": {
   "display_name": "Python 3",
   "language": "python",
   "name": "python3"
  },
  "language_info": {
   "codemirror_mode": {
    "name": "ipython",
    "version": 3
   },
   "file_extension": ".py",
   "mimetype": "text/x-python",
   "name": "python",
   "nbconvert_exporter": "python",
   "pygments_lexer": "ipython3",
   "version": "3.8.5"
  }
 },
 "nbformat": 4,
 "nbformat_minor": 2
}
