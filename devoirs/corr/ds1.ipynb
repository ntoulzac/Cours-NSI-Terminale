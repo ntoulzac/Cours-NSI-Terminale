{
 "cells": [
  {
   "cell_type": "markdown",
   "metadata": {},
   "source": [
    "# Corrigé du devoir 1"
   ]
  },
  {
   "cell_type": "markdown",
   "metadata": {},
   "source": [
    "# Première partie"
   ]
  },
  {
   "cell_type": "markdown",
   "metadata": {},
   "source": [
    "On interroge l’API _Découpage administratif communes_ du gouvernement français en envoyant une requête à l’adresse :\n",
    "[https://geo.api.gouv.fr/communes?nom=Lille&boost=population&fields=population,surface](https://geo.api.gouv.fr/communes?nom=Lille&boost=population&fields=population,surface) pour récupérer les données géographiques (population et superficie) de la ville de Lille. La réponse de l’API est :\n",
    "\n",
    "```python\n",
    "[{\"population\": 234475, \"surface\": 3474.9, \"nom\": \"Lille\"},\n",
    " {\"population\": 9810, \"surface\": 2658.93, \"nom\": \"Lillers\"},\n",
    " {\"population\": 367, \"surface\": 379.17, \"nom\": \"Lillemer\"},\n",
    " {\"population\": 13151, \"surface\": 315.78, \"nom\": \"Saint-André-lez-Lille\"},\n",
    " {\"population\": 8797, \"surface\": 1464.34, \"nom\": \"Lillebonne\"},\n",
    " {\"population\": 10798, \"surface\": 484.71, \"nom\": \"Marquette-lez-Lille\"}]\n",
    "```\n",
    "\n",
    "**(1)** Comment s’appelle le format dans lequel les données sont reçues ?\n",
    "\n",
    "Les données sont reçues au format JSON.\n",
    "\n",
    "On suppose que la réponse de l’API est stockée dans une variable `reponse`.\n",
    "\n",
    "**(2)** Quel est le type de la variable `reponse` ? de `reponse[0]` ? de `reponse[0][\"surface\"]` ?\n",
    "\n",
    "`reponse` est un tableau de dictionnaires.\n",
    "\n",
    "`reponse[0]` est un dictionnaire dont les clés sont `'population'`, `'surface'` et `'nom'`.\n",
    "\n",
    "`reponse[0][\"surface\"]` est un flottant.\n",
    "\n",
    "**(3)** Dans le contexte de l’API, à quoi correspond `len(reponse)` ?\n",
    "\n",
    "`len(reponse)` correspond au nombre de villes dont le nom contient la chaîne `'Lille'`.\n",
    "\n",
    "**(4)** Quelles expressions permettent :\n",
    "-\td’accéder à la population de la ville de Lille ? `reponse[0]['population']`\n",
    "-\td’accéder à la superficie de la ville de Lille ? `reponse[0]['surface']`\n",
    "-\tde calculer la densité de la ville de Lille ? `reponse[0]['population'] / reponse[0]['surface']`\n",
    "\n",
    "**(5)**\tÀ quelle adresse faut-il interroger l’API pour récupérer les données géographiques de la ville de Paris ?\n",
    "\n",
    "À l'adresse [https://geo.api.gouv.fr/communes?nom=Paris&boost=population&fields=population,surface](https://geo.api.gouv.fr/communes?nom=Paris&boost=population&fields=population,surface).\n",
    "\n",
    "## Exercice 2\n",
    "\n",
    "On donne la définition d’une fonction `api_openfoodfacts` :\n",
    "\n",
    "```python\n",
    "def api_openfoodfacts(code_barres):\n",
    "    url = f\"https://world.openfoodfacts.org/api/v0/product/{code_barres}.json\"\n",
    "    reponse = requests.get(url)\n",
    "    reponse = reponse.json()\n",
    "    if reponse[\"status\"] == 1:\n",
    "        return {\"nom\": reponse[\"product\"][\"product_name\"],\n",
    "                \"nutri_score\": reponse[\"product\"][\"nutrition_grade_fr\"]}\n",
    "    else:\n",
    "        return {\"nom\": \"Produit inconnu\",\n",
    "                \"nutri_score\": None}\n",
    "```\n",
    "\n",
    "Si on interroge l’API Open Food Facts à partir d’un code-barres erroné, on obtient une réponse du type :\n",
    "\n",
    "```python\n",
    "{\"code\": \"8076800376998\", \"status\": 0, \"status_verbose\": \"product not found\"}\n",
    "```\n",
    "\n",
    "**(1)** Dire, en justifiant, ce que renvoie la fonction `api_openfoodfacts` dans le cas où on l’appelle avec un code-barres erroné en argument.\n",
    "\n",
    "Dans le cas où l'API est interrogée avec un code-barres erroné, elle renvoie des données JSON avec un `'status'` égal à `0`. Dans ce cas, l'instruction conditionnelle présente dans la définition de la fonction `api_openfoodfacts` fait que cette fonction renvoie le dictionnaire :\n",
    "```python\n",
    "{\"nom\": \"Produit inconnu\", \"nutri_score\": None}\n",
    "```\n",
    "\n",
    "L’appel `api_openfoodfacts(3166352967037)` renvoie ceci :\n",
    "\n",
    "```python\n",
    "{\"nom\": \"Poisson à l'andalouse riz safrané et courgettes grillées\",\n",
    " \"nutri_score\": \"a\"}\n",
    "```\n",
    "\n",
    "**(2)**\tÉcrire la spécification de la fonction `api_openfoodfacts`.\n",
    "\n",
    "```python\n",
    "\"\"\"\n",
    "Interroge l'API Open Food Facts et renvoie le nom et le nutriscore d'un produit alimentaire à partir de son code-barres.\n",
    "- Entrée : code_barres (chaîne de caractères ou entier)\n",
    "- Sortie : (dictionnaire dont les clés sont \"nom\" et \"nutri_score\")\n",
    "\"\"\"\n",
    "```\n",
    "\n",
    "**(3)**\tDéfinir une fonction `nutriscore` qui :\n",
    "-\tprend en paramètre d'entrée un tableau `tab_codes` contenant des numéros de code-barres, et qui\n",
    "-\trenvoie le dictionnaire qui associe à chacune des chaînes `\"a\"`, `\"b\"`, `\"c\"`, `\"d\"` et `\"e\"` la liste des noms des produits au nutriscore correspondant.\n",
    "\n",
    "`nutriscore([3166352967037, 3497917000495, 3560070682683, 3245412511561, 3046920022651])` doit par exemple renvoyer :\n",
    "\n",
    "```python\n",
    "{\"a\": [\"Poisson à l'andalouse riz safrané et courgettes grillées\"],\n",
    " \"b\": [],\n",
    " \"c\": [\"Chips saveur Indian curry\", \"Yaourt à la GRECQUE NATURE\"],\n",
    " \"d\": [],\n",
    " \"e\": [\"Biscuits chocolat au lait\", \"Lindt Chocolate Excellence\"]}\n",
    "```\n",
    "\n",
    "```python\n",
    "def nutriscore(tab):\n",
    "    dico_noms = {cle: [] for cle in \"abcde\"}\n",
    "    for code_barres in tab:\n",
    "        dico = api_openfoodfacts(code_barres)\n",
    "        dico_noms[dico[\"nutri_score\"]]. append(dico[\"nom\"])\n",
    "    return dico_noms\n",
    "```"
   ]
  },
  {
   "cell_type": "markdown",
   "metadata": {},
   "source": [
    "# Seconde partie\n",
    "\n",
    "**Les documents et la recherche d'informations sur internet sont strictement interdits.**"
   ]
  },
  {
   "cell_type": "markdown",
   "metadata": {},
   "source": [
    "## Exercice 1 - Championnat de France de rugby"
   ]
  },
  {
   "cell_type": "markdown",
   "metadata": {},
   "source": [
    "L'API _SportRadar_ permet de récupérer des données sur les compétitions sportives, par exemple le championnat de France de rugby (Top 14).\n",
    "\n",
    "On donne la fonction `resultats_top14` :"
   ]
  },
  {
   "cell_type": "code",
   "execution_count": 1,
   "metadata": {},
   "outputs": [],
   "source": [
    "import requests\n",
    "\n",
    "def resultats_top14(jour, mois, annee):\n",
    "    \"\"\"\n",
    "    Interroge l'API SportRadar et récupère les résultats des matchs de Top 14 pour une date donnée.\n",
    "    - Entrées : jour, mois, annee (chaînes de caractères aux formats JJ, MM et AAAA)\n",
    "    - Sortie : donnees (tableau dont les élément sont des dictionnaires)\n",
    "    \"\"\"\n",
    "    url = f\"https://api.sportradar.us/rugby/trial/v2/union/en/schedules/{annee}-{mois}-{jour}/results.json?api_key=kcfszdfgk23h6cfxhjght7su\"\n",
    "    reponse = requests.get(url)\n",
    "    reponse = reponse.json()\n",
    "    donnees = []\n",
    "    for match in reponse['results']:\n",
    "        if match['sport_event']['sport_event_context']['competition']['name'] == 'Top 14':\n",
    "            if not match['sport_event_status']['status'] == 'postponed':\n",
    "                dom = match['sport_event']['competitors'][0]['name']\n",
    "                ext = match['sport_event']['competitors'][1]['name']\n",
    "                score_dom = match['sport_event_status']['home_score']\n",
    "                score_ext = match['sport_event_status']['away_score']\n",
    "                donnees.append({'dom' : dom,\n",
    "                                'ext' : ext,\n",
    "                                'score_dom' : score_dom,\n",
    "                                'score_ext' : score_ext})\n",
    "    return donnees"
   ]
  },
  {
   "cell_type": "markdown",
   "metadata": {},
   "source": [
    "**(1)** Après avoir lu attentivement la spécification de la fonction, expliquer pourquoi l'exécution de la cellule suivante provoque une erreur."
   ]
  },
  {
   "cell_type": "code",
   "execution_count": 2,
   "metadata": {},
   "outputs": [
    {
     "ename": "KeyError",
     "evalue": "'results'",
     "output_type": "error",
     "traceback": [
      "\u001b[1;31m---------------------------------------------------------------------------\u001b[0m",
      "\u001b[1;31mKeyError\u001b[0m                                  Traceback (most recent call last)",
      "\u001b[1;32m<ipython-input-2-0cd99870e736>\u001b[0m in \u001b[0;36m<module>\u001b[1;34m\u001b[0m\n\u001b[1;32m----> 1\u001b[1;33m \u001b[0mtab_matchs\u001b[0m \u001b[1;33m=\u001b[0m \u001b[0mresultats_top14\u001b[0m\u001b[1;33m(\u001b[0m\u001b[1;36m17\u001b[0m\u001b[1;33m,\u001b[0m \u001b[1;36m9\u001b[0m\u001b[1;33m,\u001b[0m \u001b[1;36m2022\u001b[0m\u001b[1;33m)\u001b[0m\u001b[1;33m\u001b[0m\u001b[1;33m\u001b[0m\u001b[0m\n\u001b[0m",
      "\u001b[1;32m<ipython-input-1-90b341eabd00>\u001b[0m in \u001b[0;36mresultats_top14\u001b[1;34m(jour, mois, annee)\u001b[0m\n\u001b[0;32m     11\u001b[0m     \u001b[0mreponse\u001b[0m \u001b[1;33m=\u001b[0m \u001b[0mreponse\u001b[0m\u001b[1;33m.\u001b[0m\u001b[0mjson\u001b[0m\u001b[1;33m(\u001b[0m\u001b[1;33m)\u001b[0m\u001b[1;33m\u001b[0m\u001b[1;33m\u001b[0m\u001b[0m\n\u001b[0;32m     12\u001b[0m     \u001b[0mdonnees\u001b[0m \u001b[1;33m=\u001b[0m \u001b[1;33m[\u001b[0m\u001b[1;33m]\u001b[0m\u001b[1;33m\u001b[0m\u001b[1;33m\u001b[0m\u001b[0m\n\u001b[1;32m---> 13\u001b[1;33m     \u001b[1;32mfor\u001b[0m \u001b[0mmatch\u001b[0m \u001b[1;32min\u001b[0m \u001b[0mreponse\u001b[0m\u001b[1;33m[\u001b[0m\u001b[1;34m'results'\u001b[0m\u001b[1;33m]\u001b[0m\u001b[1;33m:\u001b[0m\u001b[1;33m\u001b[0m\u001b[1;33m\u001b[0m\u001b[0m\n\u001b[0m\u001b[0;32m     14\u001b[0m         \u001b[1;32mif\u001b[0m \u001b[0mmatch\u001b[0m\u001b[1;33m[\u001b[0m\u001b[1;34m'sport_event'\u001b[0m\u001b[1;33m]\u001b[0m\u001b[1;33m[\u001b[0m\u001b[1;34m'sport_event_context'\u001b[0m\u001b[1;33m]\u001b[0m\u001b[1;33m[\u001b[0m\u001b[1;34m'competition'\u001b[0m\u001b[1;33m]\u001b[0m\u001b[1;33m[\u001b[0m\u001b[1;34m'name'\u001b[0m\u001b[1;33m]\u001b[0m \u001b[1;33m==\u001b[0m \u001b[1;34m'Top 14'\u001b[0m\u001b[1;33m:\u001b[0m\u001b[1;33m\u001b[0m\u001b[1;33m\u001b[0m\u001b[0m\n\u001b[0;32m     15\u001b[0m             \u001b[1;32mif\u001b[0m \u001b[1;32mnot\u001b[0m \u001b[0mmatch\u001b[0m\u001b[1;33m[\u001b[0m\u001b[1;34m'sport_event_status'\u001b[0m\u001b[1;33m]\u001b[0m\u001b[1;33m[\u001b[0m\u001b[1;34m'status'\u001b[0m\u001b[1;33m]\u001b[0m \u001b[1;33m==\u001b[0m \u001b[1;34m'postponed'\u001b[0m\u001b[1;33m:\u001b[0m\u001b[1;33m\u001b[0m\u001b[1;33m\u001b[0m\u001b[0m\n",
      "\u001b[1;31mKeyError\u001b[0m: 'results'"
     ]
    }
   ],
   "source": [
    "tab_matchs = resultats_top14(17, 9, 2022)"
   ]
  },
  {
   "cell_type": "markdown",
   "metadata": {},
   "source": [
    "Les arguments passés en paramètre de la fonction doivent être trois chaînes de caractères au format `'JJ'`, `'MM'` et `AAAA`. Il faut donc écrire :"
   ]
  },
  {
   "cell_type": "code",
   "execution_count": 3,
   "metadata": {},
   "outputs": [],
   "source": [
    "tab_matchs = resultats_top14(\"17\", \"09\", \"2022\")"
   ]
  },
  {
   "cell_type": "markdown",
   "metadata": {},
   "source": [
    "**(2)** Ecrire des lignes de code permettant d'afficher le nombre de matchs de Top 14 qui ont été joués le samedi 17 septembre 2022."
   ]
  },
  {
   "cell_type": "code",
   "execution_count": 4,
   "metadata": {},
   "outputs": [
    {
     "name": "stdout",
     "output_type": "stream",
     "text": [
      "6\n"
     ]
    }
   ],
   "source": [
    "print(len(tab_matchs))"
   ]
  },
  {
   "cell_type": "markdown",
   "metadata": {},
   "source": [
    "**(3)** Quelles sont les clés du dictionnaire `tab_matchs[0]` ? Préciser quel est le type des valeurs associées à chaque clé."
   ]
  },
  {
   "cell_type": "code",
   "execution_count": 5,
   "metadata": {},
   "outputs": [
    {
     "name": "stdout",
     "output_type": "stream",
     "text": [
      "{'dom': 'Union Bordeaux Begles', 'ext': 'Castres Olympique', 'score_dom': 33, 'score_ext': 12}\n"
     ]
    }
   ],
   "source": [
    "print(tab_matchs[0])"
   ]
  },
  {
   "cell_type": "markdown",
   "metadata": {},
   "source": [
    "Les clés sont `'dom'` (équipe jouant à domicile), `'ext'` (équipe jouant à l'extérieur), `'score_dom'` (score de l'équipe à domicile) et `'score_ext'` (score de l'équipe à l'extérieur)."
   ]
  },
  {
   "cell_type": "markdown",
   "metadata": {},
   "source": [
    "**(4)** Ecrire des lignes de code permettant d'afficher les scores des matchs de Top 14 joués le 17 septembre 2022 au format :\n",
    "\n",
    "`Union Bordeaux Begles 33 - 12 Castres Olympique`."
   ]
  },
  {
   "cell_type": "code",
   "execution_count": 6,
   "metadata": {},
   "outputs": [
    {
     "name": "stdout",
     "output_type": "stream",
     "text": [
      "Union Bordeaux Begles 33 - 12 Castres Olympique\n",
      "Racing 92 32 - 19 Lyon Ou\n",
      "Stade Rochelais 43 - 8 USA Perpignan\n",
      "Stade Francais Paris 26 - 16 Aviron Bayonne\n",
      "AC Brive 26 - 31 Montpellier Herault Rugby\n",
      "Section Paloise 26 - 16 Stade Toulousain\n"
     ]
    }
   ],
   "source": [
    "for match in tab_matchs:\n",
    "    print(f\"{match['dom']} {match['score_dom']} - {match['score_ext']} {match['ext']}\")"
   ]
  },
  {
   "cell_type": "markdown",
   "metadata": {},
   "source": [
    "**(5)** Sachant que le seul match de Top 14 joué le 24 juin 2022 était la finale de la compétition, écrire des lignes de code permettant d'afficher le nom du champion de France en titre."
   ]
  },
  {
   "cell_type": "code",
   "execution_count": 7,
   "metadata": {},
   "outputs": [
    {
     "name": "stdout",
     "output_type": "stream",
     "text": [
      "Le champion est Montpellier Herault Rugby.\n"
     ]
    }
   ],
   "source": [
    "finale = resultats_top14(\"24\", \"06\", \"2022\")[0]\n",
    "if finale['score_dom'] > finale['score_ext']:\n",
    "    print(f\"Le champion est {finale['dom']}.\")\n",
    "elif finale['score_ext'] > finale['score_dom']:\n",
    "    print(f\"Le champion est {finale['ext']}.\")\n",
    "else:\n",
    "    print(\"Match nul\")"
   ]
  },
  {
   "cell_type": "markdown",
   "metadata": {},
   "source": [
    "## Exercice 2 - Planètes du système solaire"
   ]
  },
  {
   "cell_type": "markdown",
   "metadata": {},
   "source": [
    "L'API _Système solaire_ permet de récupérer des données sur les planètes du système solaire et sur leurs satellites naturels. On interroge l'API de la façon suivante :"
   ]
  },
  {
   "cell_type": "code",
   "execution_count": 8,
   "metadata": {},
   "outputs": [],
   "source": [
    "import requests"
   ]
  },
  {
   "cell_type": "code",
   "execution_count": 9,
   "metadata": {},
   "outputs": [],
   "source": [
    "url = f\"https://api.le-systeme-solaire.net/rest/bodies\"\n",
    "reponse = requests.get(url)\n",
    "reponse = reponse.json()"
   ]
  },
  {
   "cell_type": "markdown",
   "metadata": {},
   "source": [
    "Voici une partie de la réponse reçue :"
   ]
  },
  {
   "cell_type": "code",
   "execution_count": 10,
   "metadata": {},
   "outputs": [
    {
     "data": {
      "text/plain": [
       "{'id': 'lune',\n",
       " 'name': 'La Lune',\n",
       " 'englishName': 'Moon',\n",
       " 'isPlanet': False,\n",
       " 'moons': None,\n",
       " 'semimajorAxis': 384400,\n",
       " 'perihelion': 363300,\n",
       " 'aphelion': 405500,\n",
       " 'eccentricity': 0.0549,\n",
       " 'inclination': 5.145,\n",
       " 'mass': {'massValue': 7.346, 'massExponent': 22},\n",
       " 'vol': {'volValue': 2.1968, 'volExponent': 10},\n",
       " 'density': 3.344,\n",
       " 'gravity': 1.62,\n",
       " 'escape': 2380.0,\n",
       " 'meanRadius': 1737.0,\n",
       " 'equaRadius': 1738.1,\n",
       " 'polarRadius': 1736.0,\n",
       " 'flattening': 0.0012,\n",
       " 'dimension': '',\n",
       " 'sideralOrbit': 27.3217,\n",
       " 'sideralRotation': 655.728,\n",
       " 'aroundPlanet': {'planet': 'terre',\n",
       "  'rel': 'https://api.le-systeme-solaire.net/rest/bodies/terre'},\n",
       " 'discoveredBy': '',\n",
       " 'discoveryDate': '',\n",
       " 'alternativeName': '',\n",
       " 'axialTilt': 6.68,\n",
       " 'avgTemp': 0,\n",
       " 'mainAnomaly': 0.0,\n",
       " 'argPeriapsis': 0.0,\n",
       " 'longAscNode': 0.0,\n",
       " 'bodyType': 'Moon',\n",
       " 'rel': 'https://api.le-systeme-solaire.net/rest/bodies/lune'}"
      ]
     },
     "execution_count": 10,
     "metadata": {},
     "output_type": "execute_result"
    }
   ],
   "source": [
    "reponse[\"bodies\"][0]"
   ]
  },
  {
   "cell_type": "markdown",
   "metadata": {},
   "source": [
    "**(1)** Quel est le type de `reponse[\"bodies\"][0][\"isPlanet\"]` ?"
   ]
  },
  {
   "cell_type": "markdown",
   "metadata": {},
   "source": [
    "Il s'agit d'un booléen."
   ]
  },
  {
   "cell_type": "markdown",
   "metadata": {},
   "source": [
    "**(2)** Ecrire des lignes de code permettant d'afficher uniquement le nom des huit planètes du système solaire."
   ]
  },
  {
   "cell_type": "code",
   "execution_count": 11,
   "metadata": {},
   "outputs": [
    {
     "name": "stdout",
     "output_type": "stream",
     "text": [
      "Uranus\n",
      "Neptune\n",
      "Jupiter\n",
      "Mars\n",
      "Mercure\n",
      "Saturne\n",
      "La Terre\n",
      "Vénus\n"
     ]
    }
   ],
   "source": [
    "for astre in reponse[\"bodies\"]:\n",
    "    if astre[\"isPlanet\"]:\n",
    "        print(astre[\"name\"])"
   ]
  },
  {
   "cell_type": "markdown",
   "metadata": {},
   "source": [
    "**(3)** Sachant que la masse de la Lune est d'environ $7,3 \\times 10^{22}$ kilogrammes et que son volume est d'environ $2,2 \\times 10^{10}$ kilomètres cubes, écrire des lignes de code permettant d'afficher, pour chacune des huit planètes du système solaire, sa masse en milliards de tonnes et son volume en kilomètres cubes."
   ]
  },
  {
   "cell_type": "code",
   "execution_count": 12,
   "metadata": {},
   "outputs": [
    {
     "name": "stdout",
     "output_type": "stream",
     "text": [
      "Uranus : 86812700000000 milliards de tonnes, 68330000000000 kilomètres cubes\n",
      "Neptune : 102413000000000 milliards de tonnes, 62539999999999 kilomètres cubes\n",
      "Jupiter : 1898190000000000 milliards de tonnes, 1431280000000000 kilomètres cubes\n",
      "Mars : 641712000000 milliards de tonnes, 163180000000 kilomètres cubes\n",
      "Mercure : 330114000000 milliards de tonnes, 60830000000 kilomètres cubes\n",
      "Saturne : 568336000000000 milliards de tonnes, 827130000000000 kilomètres cubes\n",
      "La Terre : 5972370000000 milliards de tonnes, 1083210000000 kilomètres cubes\n",
      "Vénus : 4867470000000 milliards de tonnes, 928430000000 kilomètres cubes\n"
     ]
    }
   ],
   "source": [
    "for astre in reponse[\"bodies\"]:\n",
    "    if astre[\"isPlanet\"]:\n",
    "        nom = astre[\"name\"]\n",
    "        masse = int(astre[\"mass\"][\"massValue\"] * 10**(astre[\"mass\"][\"massExponent\"]-12))\n",
    "        volume = int(astre[\"vol\"][\"volValue\"] * 10**astre[\"vol\"][\"volExponent\"])\n",
    "        print(f\"{nom} : {masse} milliards de tonnes, {volume} kilomètres cubes\")"
   ]
  },
  {
   "cell_type": "markdown",
   "metadata": {},
   "source": [
    "**(4)** La densité d'une planète peut se calculer en divisant sa masse (en milliards de tonnes) par son volume (en kilomètres cubes). Ecrire des lignes de code permettant d'afficher le nom de la planète du système solaire dont la densité est la plus élevée."
   ]
  },
  {
   "cell_type": "code",
   "execution_count": 13,
   "metadata": {},
   "outputs": [
    {
     "name": "stdout",
     "output_type": "stream",
     "text": [
      "La Terre\n"
     ]
    }
   ],
   "source": [
    "densite_max = 0\n",
    "nom_densite_max = \"\"\n",
    "for astre in reponse[\"bodies\"]:\n",
    "    if astre[\"isPlanet\"]:\n",
    "        nom = astre[\"name\"]\n",
    "        masse = int(astre[\"mass\"][\"massValue\"] * 10**(astre[\"mass\"][\"massExponent\"]-12))\n",
    "        volume = int(astre[\"vol\"][\"volValue\"] * 10**astre[\"vol\"][\"volExponent\"])\n",
    "        densite = masse / volume\n",
    "        if densite > densite_max:\n",
    "            densite_max = densite\n",
    "            nom_densite_max = astre[\"name\"]\n",
    "print(nom_densite_max)"
   ]
  },
  {
   "cell_type": "markdown",
   "metadata": {},
   "source": [
    "## Exercice 3 - Election présidentielle française de 2012"
   ]
  },
  {
   "cell_type": "markdown",
   "metadata": {},
   "source": [
    " L'envoi d'une requête GET à l'adresse [https://ntoulzac.github.io/Cours-NSI-Terminale/api/donnees/presidentielle_2012_tour2.json](https://ntoulzac.github.io/Cours-NSI-Terminale/api/donnees/presidentielle_2012_tour2.json) permet de récupérer, département par département, les résultats du second tour de l'élection présidentielle de 2012.\n",
    "\n",
    "**(1)** Ecrire des lignes de code permettant de récupérer dans une variable `reponse` la réponse renvoyée par l'API sous la forme d'un dictionnaire."
   ]
  },
  {
   "cell_type": "code",
   "execution_count": 14,
   "metadata": {},
   "outputs": [],
   "source": [
    "import requests\n",
    "reponse = requests.get(\"https://ntoulzac.github.io/Cours-NSI-Terminale/api/donnees/presidentielle_2012_tour2.json\")\n",
    "reponse = reponse.json()"
   ]
  },
  {
   "cell_type": "markdown",
   "metadata": {},
   "source": [
    "**(2)** Quel est le type de `reponse['couleurs']` ? de `reponse['tour2']` ? de `reponse['tour2'][0]` ?"
   ]
  },
  {
   "cell_type": "markdown",
   "metadata": {},
   "source": [
    "`reponse['couleurs']` est un dictionnaire dont les clés sont les noms des deux candidats au second tour de la présidentielle 2012. Les valeurs associées sont des chaînes de caractères correspondant à des couleurs au format RVB.\n",
    "\n",
    "`reponse['tour2']` est un tableau de dictionnaires.\n",
    "\n",
    "`reponse['couleurs'][0]` est un dictionnaire correspondant aux résultats du second tour de la présidentielle pour un département."
   ]
  },
  {
   "cell_type": "markdown",
   "metadata": {},
   "source": [
    "**(3)** Compléter la définition de la fonction `carte_resultats_2012` conformément à sa spécification."
   ]
  },
  {
   "cell_type": "code",
   "execution_count": 15,
   "metadata": {},
   "outputs": [],
   "source": [
    "from carte_france import creer_svg_departements\n",
    "\n",
    "def couleurs_departements():\n",
    "    \"\"\"\n",
    "    Détermine pour chaque département la couleur du candidat arrivé en tête au second tour en 2012.\n",
    "    - Sortie : resultats (dictionnaire dont les clés sont des numéros de département et les valeurs\n",
    "               associées sont le code couleur du candidat arrivé en tête au second tour en 2022)\n",
    "    \"\"\"\n",
    "    url = \"https://ntoulzac.github.io/Cours-NSI-Terminale/api/donnees/presidentielle_2012_tour2.json\"\n",
    "    reponse = requests.get(url)\n",
    "    reponse = reponse.json()\n",
    "    COULEURS = reponse[\"couleurs\"]\n",
    "    resultats = {dep[\"dep\"]: COULEURS[dep[\"candidats\"][0][\"nom\"]] for dep in reponse[\"tour2\"]}\n",
    "    return resultats"
   ]
  },
  {
   "cell_type": "markdown",
   "metadata": {},
   "source": [
    "La cellule suivante permet d'afficher quel candidat est arrivé en tête dans chaque département."
   ]
  },
  {
   "cell_type": "code",
   "execution_count": 16,
   "metadata": {},
   "outputs": [
    {
     "data": {
      "text/html": [
       "<div><div style='float: left; width: 50%'><img src='candidat_en_tete_2012.svg'></div></div>"
      ],
      "text/plain": [
       "<IPython.core.display.HTML object>"
      ]
     },
     "execution_count": 16,
     "metadata": {},
     "output_type": "execute_result"
    }
   ],
   "source": [
    "creer_svg_departements(couleurs_departements(), f\"candidat_en_tete_2012.svg\", True)"
   ]
  },
  {
   "cell_type": "markdown",
   "metadata": {},
   "source": [
    "_En rose, François Hollande. En bleu, Nicolas Sarkozy._"
   ]
  }
 ],
 "metadata": {
  "kernelspec": {
   "display_name": "Python 3",
   "language": "python",
   "name": "python3"
  },
  "language_info": {
   "codemirror_mode": {
    "name": "ipython",
    "version": 3
   },
   "file_extension": ".py",
   "mimetype": "text/x-python",
   "name": "python",
   "nbconvert_exporter": "python",
   "pygments_lexer": "ipython3",
   "version": "3.8.8"
  }
 },
 "nbformat": 4,
 "nbformat_minor": 4
}
