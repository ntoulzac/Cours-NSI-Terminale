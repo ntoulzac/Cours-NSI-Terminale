{
 "cells": [
  {
   "cell_type": "markdown",
   "metadata": {},
   "source": [
    "<div style='background-color: #ffc154;\n",
    "    border: 0.5em solid black;\n",
    "    border-radius: 0.5em;\n",
    "    padding: 1em;'>\n",
    "    <h2>Devoir maison</h2>\n",
    "    <h1>Films préférés</h1>\n",
    "</div>"
   ]
  },
  {
   "cell_type": "markdown",
   "metadata": {},
   "source": [
    "L'objectif de ce devoir est d'obtenir, à partir d'une liste de titres de films, un fichier HTML présentant l'affiche, le titre, le réalisateur et la date de sortie de ces films. Voici un exemple de rendu possible :"
   ]
  },
  {
   "cell_type": "markdown",
   "metadata": {},
   "source": [
    "<img src=\"http://ntoulzac.github.io/Cours-NSI-Terminale/devoirs/images/films_préférés.png\" style=\"border: 10px solid;\">"
   ]
  },
  {
   "cell_type": "markdown",
   "metadata": {},
   "source": [
    "<div style='background-color: #ffc154;\n",
    "    border-radius: 0.5em;\n",
    "    padding: 1em;'>\n",
    "    <h2>Interrogation d'une API</h2>\n",
    "</div>"
   ]
  },
  {
   "cell_type": "markdown",
   "metadata": {},
   "source": [
    "L'API de l'<a href=\"http://www.omdbapi.com/\"><i>Open Movie DataBase</i></a> peut être interrogée via un lien au format : <a href=\"http://www.omdbapi.com/?t=Joker&apikey=1120e23b\">http://www.omdbapi.com/?t=Joker&apikey=1120e23b</a>.\n",
    "\n",
    "**(1)** À quel film la requête ci-dessus fait-elle référence ?"
   ]
  },
  {
   "cell_type": "markdown",
   "metadata": {},
   "source": [
    "La requette fait référence au film _Joker_ sorti en 2019."
   ]
  },
  {
   "cell_type": "markdown",
   "metadata": {},
   "source": [
    "**(2)** Écrire une fonction `interroger_omdb` prenant en paramètre d'entrée une chaîne de caractères correspondant à un titre de film et renvoyant un dictionnaire dont les clés sont :\n",
    "- `'titre'` : le titre du film,\n",
    "- `'année'` : l'année de production du film,\n",
    "- `'sortie'` : la date de sortie du film,\n",
    "- `'durée'` : la durée du film en minutes,\n",
    "- `'réalisateur'` : le nom du réalisateur du film,\n",
    "- `'affiche'` : un lien vers l'affiche du film."
   ]
  },
  {
   "cell_type": "code",
   "execution_count": null,
   "metadata": {},
   "outputs": [],
   "source": [
    "import requests\n",
    "\n",
    "def interroger_omdb(titre):\n",
    "    reponse = requests.get(f\"http://www.omdbapi.com/?t={titre}&apikey=1120e23b\")\n",
    "    reponse = reponse.json()\n",
    "    titre = reponse['Title']\n",
    "    annee = reponse['Year']\n",
    "    sortie = reponse['Released']\n",
    "    duree = reponse['Runtime']\n",
    "    realisateur = reponse['Director']\n",
    "    affiche = reponse['Poster']\n",
    "    return {'titre' : titre, 'année' : annee, 'sortie' : sortie, 'durée' : duree,\n",
    "           'réalisateur' : realisateur, 'affiche' : affiche}"
   ]
  },
  {
   "cell_type": "markdown",
   "metadata": {},
   "source": [
    "**(3)** Tester la fonction avec le titre votre film préféré."
   ]
  },
  {
   "cell_type": "code",
   "execution_count": null,
   "metadata": {},
   "outputs": [],
   "source": [
    "mon_film = interroger_omdb('Joker')"
   ]
  },
  {
   "cell_type": "code",
   "execution_count": null,
   "metadata": {},
   "outputs": [],
   "source": [
    "mon_film"
   ]
  },
  {
   "cell_type": "markdown",
   "metadata": {},
   "source": [
    "<div style='background-color: #ffc154;\n",
    "    border-radius: 0.5em;\n",
    "    padding: 1em;'>\n",
    "    <h2>Création d'une page HTML</h2>\n",
    "</div>"
   ]
  },
  {
   "cell_type": "markdown",
   "metadata": {},
   "source": [
    "**(4)** Ecrire la spécification de la fonction `div_film` définie ci-dessous."
   ]
  },
  {
   "cell_type": "code",
   "execution_count": null,
   "metadata": {},
   "outputs": [],
   "source": [
    "def div_film(film):\n",
    "    return f\"\"\"<div>\n",
    "                <img src='{film['affiche']}'><br>\n",
    "                <center><b>{film['titre']} ({film['année']})</b><br>\n",
    "                <i>de {film['réalisateur']}</i><br>\n",
    "                Film sorti le {film['sortie']}</center>\n",
    "            </div>\n",
    "            \"\"\""
   ]
  },
  {
   "cell_type": "markdown",
   "metadata": {},
   "source": [
    "**(5)** Écrire la liste de vos dix films préférés dans le tableau `mes_films`."
   ]
  },
  {
   "cell_type": "code",
   "execution_count": null,
   "metadata": {},
   "outputs": [],
   "source": [
    "mes_films = [\"Inception\", \"The Artist\", \"Argo\", \"12 Years a Slave\", \"Imitation Game\",\n",
    "             \"Bridge of Spies\", \"Moonlight\", \"Get Out\", \"Vice\", \"Parasite\"]"
   ]
  },
  {
   "cell_type": "markdown",
   "metadata": {},
   "source": [
    "**(6)** Écrire un programme permettant d'obtenir dans une variable `mon_code_html` le code HTML d'une page ressemblant à la capture d'écran en haut du sujet."
   ]
  },
  {
   "cell_type": "code",
   "execution_count": null,
   "metadata": {},
   "outputs": [],
   "source": [
    "mon_code_html = \"\"\"\n",
    "            <head>\n",
    "                <style type='text/css'>\n",
    "                    div {float: left; margin: 10px; padding: 10px; border: 2px solid;}\n",
    "                    img {margin: 10px; width: 300px; height: 450px}\n",
    "                </style>\n",
    "            </head>\n",
    "            <body>\"\"\"\n",
    "\n",
    "for film in mes_films:\n",
    "    mon_code_html += div_film(interroger_omdb(film))\n",
    "\n",
    "mon_code_html += \"</body>\""
   ]
  },
  {
   "cell_type": "markdown",
   "metadata": {},
   "source": [
    "**(7)** En exécutant la cellule suivante, enregistrer le code HTML dans le fichier `mes_films_préférés.html`."
   ]
  },
  {
   "cell_type": "code",
   "execution_count": null,
   "metadata": {},
   "outputs": [],
   "source": [
    "with open('mes_films_préférés.html', 'w') as fichier:\n",
    "    fichier.write(mon_code_html)"
   ]
  },
  {
   "cell_type": "markdown",
   "metadata": {},
   "source": [
    "<div style='background-color: #ffc154;\n",
    "    border-radius: 0.5em;\n",
    "    padding: 1em;'>\n",
    "    <h2>Améliorations</h2>\n",
    "</div>"
   ]
  },
  {
   "cell_type": "markdown",
   "metadata": {},
   "source": [
    "**(8)** Recopier ci-dessous et compléter les codes précédents dans le but d'obtenir les améliorations suivantes :\n",
    "- Les titres des films sont lus dans un fichier texte, à raison d'un titre par ligne dans le fichier.\n",
    "- Les titres non reconnus pas l'API sont ignorés.\n",
    "- Les affiches apparaissent dans l'ordre chronologique de sortie des films."
   ]
  },
  {
   "cell_type": "code",
   "execution_count": null,
   "metadata": {},
   "outputs": [],
   "source": [
    "import requests\n",
    "\n",
    "def interroger_omdb(titre):\n",
    "    reponse = requests.get(f\"http://www.omdbapi.com/?t={titre}&apikey=1120e23b\")\n",
    "    reponse = reponse.json()\n",
    "    if \"Error\" in reponse:\n",
    "        return None\n",
    "    titre = reponse['Title']\n",
    "    annee = reponse['Year']\n",
    "    sortie = reponse['Released']\n",
    "    duree = reponse['Runtime']\n",
    "    realisateur = reponse['Director']\n",
    "    affiche = reponse['Poster']\n",
    "    return {'titre' : titre, 'année' : annee, 'sortie' : sortie, 'durée' : duree,\n",
    "           'réalisateur' : realisateur, 'affiche' : affiche}\n",
    "\n",
    "def div_film(film):\n",
    "    return f\"\"\"<div>\n",
    "                <img src='{film['affiche']}'><br>\n",
    "                <center><b>{film['titre']} ({film['année']})</b><br>\n",
    "                <i>de {film['réalisateur']}</i><br>\n",
    "                Film sorti le {film['sortie']}</center>\n",
    "            </div>\n",
    "            \"\"\"\n",
    "\n",
    "def recuperer_donnees(nom_fichier):\n",
    "    mes_films_donnees = []\n",
    "    with open(nom_fichier, \"r\", encoding=\"utf-8\") as fichier:\n",
    "        for titre in fichier:\n",
    "            donnees_api = interroger_omdb(titre)\n",
    "            if donnees_api is not None:\n",
    "                mes_films_donnees.append(donnees_api)\n",
    "    return mes_films_donnees\n",
    "\n",
    "def trier_donnees(tab):\n",
    "    def cle_annee(dico):\n",
    "        return dico['année']\n",
    "    tab.sort(key=cle_annee)\n",
    "    \n",
    "def creer_page_html(nom_fichier_txt, nom_fichier_html):\n",
    "    tab_films = recuperer_donnees(nom_fichier_txt)\n",
    "    trier_donnees(tab_films)\n",
    "    mon_code_html = \"\"\"\n",
    "                <head>\n",
    "                    <style type='text/css'>\n",
    "                        div {float: left; margin: 10px; padding: 10px; border: 2px solid;}\n",
    "                        img {margin: 10px; width: 300px; height: 450px}\n",
    "                    </style>\n",
    "                </head>\n",
    "                <body>\"\"\"\n",
    "    for film in tab_films:\n",
    "        mon_code_html += div_film(film)\n",
    "    mon_code_html += \"</body>\"\n",
    "    with open(nom_fichier_html, 'w') as fichier:\n",
    "        fichier.write(mon_code_html)"
   ]
  },
  {
   "cell_type": "markdown",
   "metadata": {},
   "source": [
    "Pour tester vos fonctions, vous pouvez créer votre propre fichier `'mes_films_préférés.txt'`.\n",
    "\n",
    "En téléchargeant l'exemple [ici](https://ntoulzac.github.io/Cours-NSI-Terminale/devoirs/mes_films_préférés.txt), vous devriez obtenir ce [fichier html](https://ntoulzac.github.io/Cours-NSI-Terminale/devoirs/corr/mes_films_préférés.html)."
   ]
  },
  {
   "cell_type": "code",
   "execution_count": null,
   "metadata": {},
   "outputs": [],
   "source": [
    "creer_page_html(\"mes_films_préférés.txt\", \"mes_films_préférés.html\")"
   ]
  }
 ],
 "metadata": {
  "kernelspec": {
   "display_name": "Python 3",
   "language": "python",
   "name": "python3"
  },
  "language_info": {
   "codemirror_mode": {
    "name": "ipython",
    "version": 3
   },
   "file_extension": ".py",
   "mimetype": "text/x-python",
   "name": "python",
   "nbconvert_exporter": "python",
   "pygments_lexer": "ipython3",
   "version": "3.8.5"
  }
 },
 "nbformat": 4,
 "nbformat_minor": 4
}
