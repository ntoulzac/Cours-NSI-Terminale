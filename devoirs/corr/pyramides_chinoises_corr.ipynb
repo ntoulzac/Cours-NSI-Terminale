{
 "cells": [
  {
   "cell_type": "markdown",
   "id": "7ae1961d",
   "metadata": {},
   "source": [
    "<div style='background-color: #ffc154;\n",
    "    border: 0.5em solid black;\n",
    "    border-radius: 0.5em;\n",
    "    padding: 1em;'>\n",
    "    <h2>Devoir maison</h2>\n",
    "    <h1>Pyramides chinoises</h1>\n",
    "</div>"
   ]
  },
  {
   "cell_type": "markdown",
   "id": "4cdf38b0",
   "metadata": {},
   "source": [
    "En utilisant la récursivité, écrire un programme permettant d'obtenir le dessin ci-dessous.\n",
    "\n",
    "Vous devez :\n",
    "\n",
    "- soit utiliser le module `turtle`,\n",
    "- soit, et c'est mieux, créer le dessin sous forme de fichier SVG.\n",
    "\n",
    "![Pyramides chinoises](https://ntoulzac.github.io/Cours-NSI-Terminale/devoirs/images/pyramides_chinoises.svg)"
   ]
  },
  {
   "cell_type": "markdown",
   "id": "5201efb8",
   "metadata": {},
   "source": [
    "## Création d'un fichier SVG"
   ]
  },
  {
   "cell_type": "code",
   "execution_count": null,
   "id": "ba7a089d",
   "metadata": {},
   "outputs": [],
   "source": [
    "def couleur(degre, degre_max):\n",
    "    return \"#ff\" + hex(16 + (degre_max-degre)*224//(degre_max+1))[2:] + hex(16 + (degre_max-degre)*224//(degre_max+1))[2:] \n",
    "\n",
    "def milieu(p1, p2):\n",
    "    x1, y1 = p1\n",
    "    x2, y2 = p2\n",
    "    xm = (x1 + x2)/2\n",
    "    ym = (y1 + y2)/2\n",
    "    return xm, ym\n",
    "\n",
    "def code_svg_polygone(coin, taille, couleur):\n",
    "    \"\"\"\n",
    "    Renvoie le code SVG correspondant à un polygone.\n",
    "    - Entrées : coin (couples de coordonnées), taille (nombre), couleur (chaîne au format \"#rrvvbb\")\n",
    "    - Sortie : (chaine)\n",
    "    \"\"\"\n",
    "    c1 = coin\n",
    "    c2 = coin[0] + taille, coin[1]\n",
    "    c3 = coin[0] + taille, coin[1] + taille\n",
    "    c4 = coin[0], coin[1] + taille\n",
    "    centre = milieu(c1, c3)\n",
    "    p1 = milieu(c1, centre)\n",
    "    p2 = milieu(c2, centre)\n",
    "    p3 = milieu(c3, centre)\n",
    "    p4 = milieu(c4, centre)\n",
    "    return f\"\"\"<polygon points=\"{p1[0]} {p1[1]} {p2[0]} {p2[1]} {p3[0]} {p3[1]} {p4[0]} {p4[1]}\" fill=\"{couleur}\"/>\\n\"\"\"\n",
    "\n",
    "def pyramide_svg(degre, coin, taille):\n",
    "    \"\"\"\n",
    "    Renvoie le code SVG correspondant à plusieurs étages de pyramides chinoises.\n",
    "    - Entrées : degre (entier positif, nombre de étages souhaités),\n",
    "                coin (couple de coordonnées du coin supérieur gauche),\n",
    "                taille (entier, côté du carré de plus grande taille)\n",
    "    - Sortie : (chaine)\n",
    "    \"\"\"\n",
    "    code_svg = \"\"\n",
    "    x, y = coin\n",
    "    if degre > 0:\n",
    "        code_svg += pyramide_svg(degre-1, (x, y), taille/2)\n",
    "        code_svg += pyramide_svg(degre-1, (x + taille/2, y), taille/2)\n",
    "        code_svg += pyramide_svg(degre-1, (x + taille/2, y + taille/2), taille/2)\n",
    "        code_svg += pyramide_svg(degre-1, (x, y + taille/2), taille/2)\n",
    "    code_svg += code_svg_polygone(coin, taille, couleur(degre, NB_ETAGES))\n",
    "    return code_svg\n",
    "    \n",
    "NB_ETAGES = 6\n",
    "LARGEUR = 512\n",
    "HAUTEUR = LARGEUR\n",
    "\n",
    "code_svg = f\"\"\"<svg xmlns=\"http://www.w3.org/2000/svg\" width=\"{LARGEUR}\" height=\"{HAUTEUR}\">\\n\"\"\"\n",
    "code_svg += pyramide_svg(NB_ETAGES, (0, 0), LARGEUR)\n",
    "code_svg += \"</svg>\"\n",
    "\n",
    "with open(\"pyramides_chinoises.svg\", 'w') as fichier:\n",
    "    fichier.write(code_svg)"
   ]
  },
  {
   "cell_type": "code",
   "execution_count": null,
   "id": "fac0cc7e",
   "metadata": {},
   "outputs": [],
   "source": [
    "from IPython.display import HTML\n",
    "HTML(code_svg)"
   ]
  }
 ],
 "metadata": {
  "kernelspec": {
   "display_name": "Python 3 (ipykernel)",
   "language": "python",
   "name": "python3"
  },
  "language_info": {
   "codemirror_mode": {
    "name": "ipython",
    "version": 3
   },
   "file_extension": ".py",
   "mimetype": "text/x-python",
   "name": "python",
   "nbconvert_exporter": "python",
   "pygments_lexer": "ipython3",
   "version": "3.9.12"
  }
 },
 "nbformat": 4,
 "nbformat_minor": 5
}
