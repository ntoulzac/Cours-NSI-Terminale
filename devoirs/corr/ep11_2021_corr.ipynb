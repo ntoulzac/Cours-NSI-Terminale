{
 "cells": [
  {
   "cell_type": "markdown",
   "metadata": {},
   "source": [
    "<div style='background-color: #34c924;\n",
    "    border: 0.5em solid black;\n",
    "    border-radius: 0.5em;\n",
    "    padding: 1em;'>\n",
    "    <h2>Épreuve pratique</h2>\n",
    "    <h1>Sujet 2021_11</h1>\n",
    "</div>"
   ]
  },
  {
   "cell_type": "markdown",
   "metadata": {},
   "source": [
    "<div style='background-color: #34c924;\n",
    "    border-radius: 0.5em;\n",
    "    padding: 1em;'>\n",
    "    <h2>Exercice 1</h2>\n",
    "</div>"
   ]
  },
  {
   "cell_type": "markdown",
   "metadata": {},
   "source": [
    "Écrire une fonction `conv_bin` qui prend en paramètre un entier positif `n` et renvoie un couple `(b, bit)` où :\n",
    "\n",
    "- `b` est une liste d'entiers correspondant à la représentation binaire de `n`,\n",
    "- `bit` correspond aux nombre de bits qui constituent `b`.\n",
    "\n",
    "Exemple :\n",
    "\n",
    "```python\n",
    ">>> conv_bin(11)\n",
    "([1, 0, 1, 1], 4)\n",
    "```\n",
    "\n",
    "***Erreur dans l'énoncé : `conv_bin(9)` doit renvoyer `([1, 0, 0, 1], 4)` !***\n",
    "\n",
    "Aide :\n",
    "\n",
    "- L'opérateur `//` donne le quotient de la division euclidienne : `5//2` donne `2`.\n",
    "- L'opérateur `%` donne le reste de la division euclidienne : `5%2` donne `1`.\n",
    "- `append` est une méthode qui ajoute un élément à une liste existante : Soit `T = [5, 2, 4]`, alors `T.append(10)` ajoute `10` à la liste `T`. Ainsi, `T` devient `[5, 2, 4, 10]`.\n",
    "- `reverse` est une méthode qui renverse les éléments d'une liste. Soit `T = [5, 2, 4, 10]`. Après `T.reverse()`, la liste devient `[10, 4, 2, 5]`.\n",
    "\n",
    "On remarquera qu’on récupère la représentation binaire d’un entier `n` en partant de la gauche en appliquant successivement les instructions :\n",
    "\n",
    "```python\n",
    "b = n%2\n",
    "n = n//2\n",
    "```\n",
    "\n",
    "répétées autant que nécessaire."
   ]
  },
  {
   "cell_type": "code",
   "execution_count": 1,
   "metadata": {},
   "outputs": [],
   "source": [
    "def conv_bin(n):\n",
    "    \"\"\"\n",
    "    Convertit un entier positif n en écriture binaire.\n",
    "    - Entrée : n (entier positif)\n",
    "    - Sortie : (b, bit) couple tel que b soit un tableau de bits et bit la taille du tableau\n",
    "    \"\"\"\n",
    "    if n == 0:\n",
    "        return [0], 1\n",
    "    b = []\n",
    "    while n > 0:\n",
    "        b.append(n%2)\n",
    "        n = n//2\n",
    "    b.reverse()\n",
    "    return b, len(b)"
   ]
  },
  {
   "cell_type": "markdown",
   "metadata": {},
   "source": [
    "<div style='background-color: #34c924;\n",
    "    border-radius: 0.5em;\n",
    "    padding: 1em;'>\n",
    "    <h2>Exercice 2</h2>\n",
    "</div>"
   ]
  },
  {
   "cell_type": "markdown",
   "metadata": {},
   "source": [
    "La fonction `tri_bulles` prend en paramètre une liste `T` d’entiers non triés et renvoie la liste triée par ordre croissant.\n",
    "\n",
    "Compléter le code Python ci-dessous qui implémente la fonction `tri_bulles`."
   ]
  },
  {
   "cell_type": "code",
   "execution_count": 2,
   "metadata": {},
   "outputs": [],
   "source": [
    "def tri_bulles(T):\n",
    "    n = len(T)\n",
    "    for i in range(n-1, 0, -1):\n",
    "        for j in range(i):\n",
    "            if T[j] > T[j+1]:\n",
    "                temp = T[j]\n",
    "                T[j] = T[j+1]\n",
    "                T[j+1] = temp\n",
    "    return T"
   ]
  },
  {
   "cell_type": "markdown",
   "metadata": {},
   "source": [
    "Écrire une autre version de l’algorithme avec `for i in range(n-1):` en lieu et place de la troisième ligne du code précédent."
   ]
  },
  {
   "cell_type": "code",
   "execution_count": 3,
   "metadata": {},
   "outputs": [],
   "source": [
    "def tri_bulles(T):\n",
    "    n = len(T)\n",
    "    for i in range(n-1):\n",
    "        for j in range(n-2, i-1, -1):\n",
    "            if T[j] > T[j+1]:\n",
    "                temp = T[j]\n",
    "                T[j] = T[j+1]\n",
    "                T[j+1] = temp\n",
    "    return T"
   ]
  },
  {
   "cell_type": "markdown",
   "metadata": {},
   "source": [
    "<div style='background-color: #34c924;\n",
    "    border-radius: 0.5em;\n",
    "    padding: 1em;'>\n",
    "    <h2>Tests</h2>\n",
    "</div>"
   ]
  },
  {
   "cell_type": "code",
   "execution_count": 4,
   "metadata": {},
   "outputs": [
    {
     "name": "stdout",
     "output_type": "stream",
     "text": [
      "Tests passés avec succès pour l'exercice 1 !\n"
     ]
    }
   ],
   "source": [
    "assert conv_bin(9) == ([1, 0, 0, 1], 4)\n",
    "assert conv_bin(19) == ([1, 0, 0, 1, 1], 5)\n",
    "assert conv_bin(127) == ([1, 1, 1, 1, 1, 1, 1], 7)\n",
    "print(\"Tests passés avec succès pour l'exercice 1 !\")"
   ]
  },
  {
   "cell_type": "code",
   "execution_count": 5,
   "metadata": {},
   "outputs": [
    {
     "name": "stdout",
     "output_type": "stream",
     "text": [
      "Tests passés avec succès pour l'exercice 2 !\n"
     ]
    }
   ],
   "source": [
    "assert tri_bulles([5, -2, 0, 9, 0, 4]) == [-2, 0, 0, 4, 5, 9]\n",
    "assert tri_bulles([1, 2, 3, 4]) == [1, 2, 3, 4]\n",
    "assert tri_bulles([10, 9, 5, 4, 3, 1, 0]) == [0, 1, 3, 4, 5, 9, 10]\n",
    "print(\"Tests passés avec succès pour l'exercice 2 !\")"
   ]
  }
 ],
 "metadata": {
  "kernelspec": {
   "display_name": "Python 3",
   "language": "python",
   "name": "python3"
  },
  "language_info": {
   "codemirror_mode": {
    "name": "ipython",
    "version": 3
   },
   "file_extension": ".py",
   "mimetype": "text/x-python",
   "name": "python",
   "nbconvert_exporter": "python",
   "pygments_lexer": "ipython3",
   "version": "3.8.8"
  }
 },
 "nbformat": 4,
 "nbformat_minor": 2
}
