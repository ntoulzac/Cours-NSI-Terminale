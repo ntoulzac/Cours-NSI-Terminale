{
 "cells": [
  {
   "cell_type": "markdown",
   "metadata": {},
   "source": [
    "<div style='background-color: #34c924;\n",
    "    border: 0.5em solid black;\n",
    "    border-radius: 0.5em;\n",
    "    padding: 1em;'>\n",
    "    <h2>Épreuve pratique</h2>\n",
    "    <h1>Sujet 2021_01</h1>\n",
    "</div>"
   ]
  },
  {
   "cell_type": "markdown",
   "metadata": {},
   "source": [
    "<div style='background-color: #34c924;\n",
    "    border-radius: 0.5em;\n",
    "    padding: 1em;'>\n",
    "    <h2>Exercice 1</h2>\n",
    "</div>"
   ]
  },
  {
   "cell_type": "markdown",
   "metadata": {},
   "source": [
    "Programmer la fonction `recherche`, prenant en paramètre un tableau non vide `tab` (type `list`) d'entiers et un entier `n`, et qui renvoie l'indice de la dernière occurrence de l'élément cherché. Si l'élément n'est pas présent, la fonction renvoie la longueur du tableau.\n",
    "\n",
    "Exemples :\n",
    "```python\n",
    ">>> recherche([5, 3], 1)\n",
    "2\n",
    ">>> recherche([2,4], 2)\n",
    "0\n",
    ">>> recherche([2, 3, 5, 2, 4], 2)\n",
    "3\n",
    "```"
   ]
  },
  {
   "cell_type": "code",
   "execution_count": 1,
   "metadata": {},
   "outputs": [],
   "source": [
    "def recherche(tab, n):\n",
    "    \"\"\"\n",
    "    Détermine l'indice de la dernière occurrence d'un élémént dans un tableau.\n",
    "    - Entrées : tab (tableau d'entiers), n (entier)\n",
    "    - Sortie : pos (entier, si l'élément cherché n'est pas dans le tableau, sa longueur est renvoyée)\n",
    "    \"\"\"\n",
    "    pos = len(tab)\n",
    "    for k in range(len(tab)):\n",
    "        if tab[k] == n:\n",
    "            pos = k\n",
    "    return pos"
   ]
  },
  {
   "cell_type": "markdown",
   "metadata": {},
   "source": [
    "<div style='background-color: #34c924;\n",
    "    border-radius: 0.5em;\n",
    "    padding: 1em;'>\n",
    "    <h2>Exercice 2</h2>\n",
    "</div>"
   ]
  },
  {
   "cell_type": "markdown",
   "metadata": {},
   "source": [
    "On souhaite programmer une fonction donnant la distance la plus courte entre un point de départ et une liste de points. Les points sont tous à coordonnées entières.\n",
    "\n",
    "Les points sont donnés sous la forme d'un tuple de deux entiers.\n",
    "\n",
    "La liste des points à traiter est donc un tableau de tuples.\n",
    "\n",
    "On rappelle que la distance entre deux points du plan de coordonnées $(x;y)$ et $(x';y')$ est donnée par la formule :\n",
    "\n",
    "$$d = \\sqrt{(x-x')^2 + (y-y')^2}$$\n",
    "\n",
    "On importe pour cela la fonction racine carrée (`sqrt`) du module `math` de Python.\n",
    "\n",
    "On dispose d'une fonction `distance` et d'une fonction `plus_courte_distance` dont on vous demande de compléter le code."
   ]
  },
  {
   "cell_type": "code",
   "execution_count": 2,
   "metadata": {},
   "outputs": [],
   "source": [
    "from math import sqrt # importation de la fonction racine carrée\n",
    "\n",
    "def distance(point1, point2):\n",
    "    \"\"\"Calcule et renvoie la distance entre deux points.\"\"\"\n",
    "    return sqrt((point1[0] - point2[0])**2 + (point1[1] - point2[1])**2)\n",
    "\n",
    "def plus_courte_distance(tab, depart):\n",
    "    \"\"\"Renvoie le point du tableau tab se trouvant à la plus courte distance du point depart.\"\"\"\n",
    "    point = tab[0]\n",
    "    min_dist = distance(depart, point)\n",
    "    for i in range (1, len(tab)):\n",
    "        if distance(tab[i], depart) < min_dist:\n",
    "            point = tab[i]\n",
    "            min_dist = distance(tab[i], depart)\n",
    "    return point"
   ]
  },
  {
   "cell_type": "markdown",
   "metadata": {},
   "source": [
    "<div style='background-color: #34c924;\n",
    "    border-radius: 0.5em;\n",
    "    padding: 1em;'>\n",
    "    <h2>Tests</h2>\n",
    "</div>"
   ]
  },
  {
   "cell_type": "code",
   "execution_count": 3,
   "metadata": {},
   "outputs": [
    {
     "name": "stdout",
     "output_type": "stream",
     "text": [
      "Tests passés avec succès pour l'exercice 1 !\n"
     ]
    }
   ],
   "source": [
    "assert recherche([5, 3], 1) == 2\n",
    "assert recherche([2, 4], 2) == 0\n",
    "assert recherche([2, 3, 5, 2, 4], 2) == 3\n",
    "print(\"Tests passés avec succès pour l'exercice 1 !\")"
   ]
  },
  {
   "cell_type": "code",
   "execution_count": 4,
   "metadata": {},
   "outputs": [
    {
     "name": "stdout",
     "output_type": "stream",
     "text": [
      "Tests passés avec succès pour l'exercice 2 !\n"
     ]
    }
   ],
   "source": [
    "assert distance((1, 0), (5, 3)) == 5.0\n",
    "assert distance((-2, 5), (4, -3)) == 10.0\n",
    "assert plus_courte_distance([(7, 9), (2, 5), (5, 2)], (0, 0)) == (2, 5)\n",
    "print(\"Tests passés avec succès pour l'exercice 2 !\")"
   ]
  }
 ],
 "metadata": {
  "kernelspec": {
   "display_name": "Python 3",
   "language": "python",
   "name": "python3"
  },
  "language_info": {
   "codemirror_mode": {
    "name": "ipython",
    "version": 3
   },
   "file_extension": ".py",
   "mimetype": "text/x-python",
   "name": "python",
   "nbconvert_exporter": "python",
   "pygments_lexer": "ipython3",
   "version": "3.8.5"
  }
 },
 "nbformat": 4,
 "nbformat_minor": 2
}
