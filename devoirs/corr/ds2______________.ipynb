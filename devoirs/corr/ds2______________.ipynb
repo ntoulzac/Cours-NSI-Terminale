{
 "cells": [
  {
   "cell_type": "markdown",
   "metadata": {},
   "source": [
    "<div style='background-color: #dda0dd;\n",
    "    border: 0.5em solid black;\n",
    "    border-radius: 0.5em;\n",
    "    padding: 1em;'>\n",
    "    <h2>Devoir surveillé</h2>\n",
    "    <h1>Corrigé du devoir n°2</h1>\n",
    "</div>"
   ]
  },
  {
   "cell_type": "markdown",
   "metadata": {},
   "source": [
    "<div style='background-color: #dda0dd;\n",
    "    border-radius: 0.5em;\n",
    "    padding: 1em;'>\n",
    "    <h2>Première partie</h2>\n",
    "</div>"
   ]
  },
  {
   "cell_type": "markdown",
   "metadata": {},
   "source": [
    "## Exercice 1\n",
    "\n",
    "La suite de Syracuse est définie, à partir d’une valeur initiale entière strictement positive, de la façon suivante :\n",
    "- Si un terme est pair, on le divise par deux pour obtenir le terme suivant,\n",
    "- Si un terme est impair, on le multiplie par trois et on ajoute un pour obtenir le terme suivant.\n",
    "\n",
    "Par exemple, à partir de la valeur initiale $13$, on obtient successivement les valeurs $40$, $20$, $10$, $5$, $16$, $8$, $4$, $2$, $1$, $4$, etc.\n",
    "\n",
    "On donne la définition d’une fonction `duree_de_vol` :\n",
    "\n",
    "```python\n",
    "def duree_de_vol(n):\n",
    "    \"\"\"\n",
    "    Rôle ?\n",
    "    - Entrée : n (entier strictement positif)\n",
    "    - Sortie : (entier)\n",
    "    \"\"\"\n",
    "    if n == 1:\n",
    "        return 0\n",
    "    elif n % 2 == 0:\n",
    "        return 1 + duree_de_vol(n // 2)\n",
    "    else:\n",
    "        return 1 + duree_de_vol(3*n + 1)\n",
    "```\n",
    "\n",
    "**(1)** Justifier que `duree_de_vol` est une fonction récursive. Identifier le ou les cas récursifs et le ou les cas de base.\n",
    "\n",
    "La fonction `duree_de_vol` est une fonction récursive car elle s'appelle elle-même (lignes 10 et 12). Le cas de base correspond au cas où $n = 1$ (lignes 7 et 8). Les cas récursifs correspondent au cas où $n$ est pair (lignes 9 et 10) et au cas où $n$ est impair et supérieur à $3$ (lignes 11 et 12).\n",
    "\n",
    "**(2)** L’appel `duree_de_vol(10)` renvoie la valeur `6`. Dessiner l’arbre des appels récursifs provoqués par l’appel `duree_de_vol(10)`.\n",
    "\n",
    "```\n",
    "duree_de_vol(10)\n",
    "  |\n",
    "  1 + duree_de_vol(5)\n",
    "        |\n",
    "        1 + duree_de_vol(16)\n",
    "              |\n",
    "              1 + duree_de_vol(8)\n",
    "                    |\n",
    "                    1 + duree_de_vol(4)\n",
    "                          |\n",
    "                          1 + duree_de_vol(2)\n",
    "                                |\n",
    "                                1 + duree_de_vol(1)\n",
    "                                      |\n",
    "                                      0\n",
    "```\n",
    "\n",
    "**(3)** Donner le rôle de la fonction `duree_de_vol`.\n",
    "\n",
    "La conjecture de Syracuse affirme que, quelle que soit la valeur $n > 0$ donnée au premier terme de la suite de Syracuse, cette suite finit par atteindre la valeur $1$. Le rôle de la fonction `duree_de_vol` est de déterminer le nombre de termes de la suite qu'il faut calculer pour atteindre la valeur $1$, pour un terme initial $n$ passé en argument de la fonction.\n",
    "\n",
    "## Exercice 2\n",
    "\n",
    "On donne la définition d’une procédure `dessin` et le dessin obtenu suite à l’appel `dessin(200, 4)`. Les procédures `forward`, `left` et `right` ont été importées du module `turtle`.\n",
    "\n",
    "<img src=\"https://ntoulzac.github.io/Cours-NSI-Terminale/devoirs/images/carrés_imbriqués.png\">\n",
    "\n",
    "```python\n",
    "def dessin(longueur, n):\n",
    "    forward(longueur/3)\n",
    "    right(26.57)\n",
    "    if n > 0:\n",
    "        dessin(longueur*5**0.5/3, n-1)\n",
    "    left(26.57)\n",
    "    forward(2*longueur/3)\n",
    "    for k in range(3):\n",
    "        right(90)\n",
    "        forward(longueur)\n",
    "    right(90)\n",
    "```\n",
    "\n",
    "**(1)** Déterminer combien de fois a été appelée la procédure `dessin` pour obtenir le tracé ci-dessus.\n",
    "\n",
    "L'appel `dessin(200, 4)` provoque quatre appels récursifs supplémentaires, pour toutes les valeurs entières de `n = 3`, `n = 2`, `n = 1` et enfin `n = 0`. La procédure `dessin` a donc été appelée cinq fois au total, d'où le fait que le dessin représente cinq carrés imbriqués.\n",
    "\n",
    "**(2)** Sur le dessin, numéroter les 10 premiers segments tracés, sachant que le début du dessin est indiqué par la flèche.\n",
    "\n",
    "<img src=\"https://ntoulzac.github.io/Cours-NSI-Terminale/devoirs/images/carrés_imbriqués_corr.png\">\n",
    "\n",
    "**(3)** Dessiner quelle figure est obtenue suite à l’appel `dessin(200, 1)`.\n",
    "\n",
    "<img src=\"https://ntoulzac.github.io/Cours-NSI-Terminale/devoirs/images/carrés_imbriqués_corr2.png\">\n",
    "\n",
    "## Exercice 3\n",
    "\n",
    "On donne la définition d’une classe `Pokemon`, puis la création d’une instance `mon_pokemon` de la classe `Pokemon`.\n",
    "\n",
    "```python\n",
    "class Pokemon:\n",
    "    def __init__(self, identifiant):\n",
    "        self.id = identifiant\n",
    "        reponse = requests.get(f\"https://pokeapi.co/api/v2/pokemon/{self.id}\").json()\n",
    "        self.nom = reponse[\"name\"].capitalize()\n",
    "        self.taille = round(reponse[\"height\"] * 10)\n",
    "        self.poids = round(reponse[\"weight\"] / 10)\n",
    "        self.xp = reponse[\"base_experience\"]\n",
    "    \n",
    "    def modifier_xp(self, n):\n",
    "        self.xp = self.xp + n\n",
    "\n",
    "    def affronter(self, other):\n",
    "        \"\"\"\n",
    "        Permet l’affrontement de deux Pokemon : le Pokemon qui a la plus faible expérience\n",
    "        perd 10 points d’expérience, l’autre Pokemon gagne 10 points d’expérience.\n",
    "        - Entrée : other (instance de la classe Pokemon)\n",
    "        \"\"\"\n",
    "\n",
    "mon_pokemon = Pokemon(25)\n",
    "```\n",
    "\n",
    "**(1)**\tÀ quoi sert la ligne 4 ?\n",
    "\n",
    "Cette ligne permet d'interroger l'API _PokeAPI_ via une requête HTTP. La réponse renvoyée par l'API, au format JSON, est affectée à une variable `reponse`.\n",
    "\n",
    "**(2)** Lister les attributs de l’instance `mon_pokemon`.\n",
    "\n",
    "L'instance `mon_pokemon` possède les cinq attributs suivants :\n",
    "- `id` : un entier, l'identifiant du Pokemon,\n",
    "- `nom` : une chaîne de caractères, le nom du Pokemon,\n",
    "- `taille` : un entier, la taille du Pokemon en cm,\n",
    "- `poids` : un flottant, la masse du Pokemon en kg, \n",
    "- `xp` : un entier, le nombre de points d'expérience du Pokemon.\n",
    "\n",
    "**(3)** Écrire la spécification de la méthode `modifier_xp`.\n",
    "\n",
    "```python\n",
    "        \"\"\"\n",
    "        Ajoute n points d'expérience au Pokemon.\n",
    "        - Entrée : n (entier, positif pour un gain d'expérience, négatif pour une perte)\n",
    "        \"\"\"\n",
    "```\n",
    "\n",
    "**(4)** Écrire la définition de la méthode `affronter` conformément à sa spécification.\n",
    "\n",
    "```python\n",
    "    def affronter(self, other):\n",
    "        \"\"\"\n",
    "        Permet l’affrontement de deux Pokemon : le Pokemon qui a la plus faible expérience\n",
    "        perd 10 points d’expérience, l’autre Pokemon gagne 10 points d’expérience.\n",
    "        - Entrée : other (instance de la classe Pokemon)\n",
    "        \"\"\"\n",
    "        if self.xp < other.xp:\n",
    "            self.modifier_xp(-10)\n",
    "            other.modifier_xp(10)\n",
    "        elif self.xp > other.xp:\n",
    "            self.modifier_xp(10)\n",
    "            other.modifier_xp(-10)\n",
    "```"
   ]
  },
  {
   "cell_type": "markdown",
   "metadata": {},
   "source": [
    "<div style='background-color: #dda0dd;\n",
    "    border-radius: 0.5em;\n",
    "    padding: 1em;'>\n",
    "    <h2>Seconde partie</h2>\n",
    "</div>"
   ]
  },
  {
   "cell_type": "markdown",
   "metadata": {},
   "source": [
    "## Exercice 1 - Fonction d'Ackermann"
   ]
  },
  {
   "cell_type": "markdown",
   "metadata": {},
   "source": [
    "On appelle fonction d'Ackermann la fonction $A$ définie récursivement de la façon suivante, pour tous entiers positifs $m$ et $n$ :\n",
    "\n",
    "- si $m = 0$, alors $A(m, n) = n+1$,\n",
    "- si $m > 0$ et $n = 0$, alors $A(m, n) = A(m-1, 1)$,\n",
    "- si $m > 0$ et $n > 0$, alors $A(m, n) = A(m-1, A(m, n-1))$.\n",
    "\n",
    "**(1)** Définir une fonction récursive `ack` qui prend en paramètres d'entrée deux entiers positifs `m` et `n` et qui renvoie la valeur de $A(m, n)$."
   ]
  },
  {
   "cell_type": "code",
   "execution_count": 1,
   "metadata": {},
   "outputs": [],
   "source": [
    "def ack(m, n):\n",
    "    \"\"\"\n",
    "    Calcule la valeur de la fonction d'Ackermann pour deux entiers m et n donnés.\n",
    "    - Entrées : m, n (entiers positifs)\n",
    "    \"\"\"\n",
    "    assert m >= 0 and n >= 0, \"Les arguments doivent être des entiers positifs.\"\n",
    "    if m == 0:\n",
    "        return n + 1\n",
    "    elif n == 0:\n",
    "        return ack(m-1, 1)\n",
    "    else:\n",
    "        return ack(m-1, ack(m, n-1))"
   ]
  },
  {
   "cell_type": "markdown",
   "metadata": {},
   "source": [
    "**(2)** Faire afficher la valeur de $A(m, n)$ pour toutes les valeurs $0 \\leq m \\leq 3$ et toutes les valeurs $0 \\leq n \\leq 4$."
   ]
  },
  {
   "cell_type": "code",
   "execution_count": 2,
   "metadata": {},
   "outputs": [
    {
     "name": "stdout",
     "output_type": "stream",
     "text": [
      "ack(0, 0) = 1\n",
      "ack(0, 1) = 2\n",
      "ack(0, 2) = 3\n",
      "ack(0, 3) = 4\n",
      "ack(0, 4) = 5\n",
      "ack(1, 0) = 2\n",
      "ack(1, 1) = 3\n",
      "ack(1, 2) = 4\n",
      "ack(1, 3) = 5\n",
      "ack(1, 4) = 6\n",
      "ack(2, 0) = 3\n",
      "ack(2, 1) = 5\n",
      "ack(2, 2) = 7\n",
      "ack(2, 3) = 9\n",
      "ack(2, 4) = 11\n",
      "ack(3, 0) = 5\n",
      "ack(3, 1) = 13\n",
      "ack(3, 2) = 29\n",
      "ack(3, 3) = 61\n",
      "ack(3, 4) = 125\n"
     ]
    }
   ],
   "source": [
    "for m in range(4):\n",
    "    for n in range(5):\n",
    "        print(f\"ack({m}, {n}) = {ack(m, n)}\")"
   ]
  },
  {
   "cell_type": "markdown",
   "metadata": {},
   "source": [
    "## Exercice 2 - Pokemon\n",
    "\n",
    "On donne l'ébauche de la définition d'une classe `Pokemon` :"
   ]
  },
  {
   "cell_type": "code",
   "execution_count": 3,
   "metadata": {},
   "outputs": [],
   "source": [
    "import requests\n",
    "from IPython.display import display, HTML"
   ]
  },
  {
   "cell_type": "code",
   "execution_count": 4,
   "metadata": {},
   "outputs": [],
   "source": [
    "class Pokemon:\n",
    "    def __init__(self, identifiant):\n",
    "        self.id = identifiant\n",
    "        reponse = requests.get(f\"https://pokeapi.co/api/v2/pokemon/{self.id}\").json()\n",
    "        self.nom = reponse[\"name\"].capitalize()\n",
    "        self.taille = round(reponse[\"height\"] * 10)\n",
    "        self.poids = round(reponse[\"weight\"] / 10)\n",
    "        self.xp = reponse[\"base_experience\"]\n",
    "        self.sprite = reponse[\"sprites\"][\"front_default\"]\n",
    "    \n",
    "    def modifier_xp(self, n):\n",
    "        self.xp = self.xp + n\n",
    "    \n",
    "    def afficher(self):\n",
    "        \"\"\"Affiche dans le carnet Jupyter l'image, le nom et l'XP du Pokemon.\"\"\"\n",
    "        code_html = f\"\"\"\n",
    "                    <table>\n",
    "                        <tr>\n",
    "                            <td><img src=\"{self.sprite}\"></td>\n",
    "                            <td><b>{self.nom}</b></td>\n",
    "                            <td><i>{self.xp} XP</i></td>\n",
    "                        </tr>\n",
    "                    </table>\n",
    "                    \"\"\"\n",
    "        display(HTML(code_html))"
   ]
  },
  {
   "cell_type": "markdown",
   "metadata": {},
   "source": [
    "**(1)** Sachant que l'identifiant de Pikachu est 25 et que celui de Mewtwo est 150, écrire des lignes de code permettant d'obtenir l'affichage suivant :\n",
    "\n",
    "<table><tr><td><img src=\"https://raw.githubusercontent.com/PokeAPI/sprites/master/sprites/pokemon/25.png\"></td><td><b>Pikachu</b></td><td><i>112 XP</i></td></tr></table>\n",
    "<table><tr><td><img src=\"https://raw.githubusercontent.com/PokeAPI/sprites/master/sprites/pokemon/150.png\"></td><td><b>Mewtwo</b></td><td><i>240 XP</i></td></tr></table>"
   ]
  },
  {
   "cell_type": "code",
   "execution_count": 5,
   "metadata": {},
   "outputs": [
    {
     "data": {
      "text/html": [
       "\n",
       "                    <table>\n",
       "                        <tr>\n",
       "                            <td><img src=\"https://raw.githubusercontent.com/PokeAPI/sprites/master/sprites/pokemon/25.png\"></td>\n",
       "                            <td><b>Pikachu</b></td>\n",
       "                            <td><i>112 XP</i></td>\n",
       "                        </tr>\n",
       "                    </table>\n",
       "                    "
      ],
      "text/plain": [
       "<IPython.core.display.HTML object>"
      ]
     },
     "metadata": {},
     "output_type": "display_data"
    },
    {
     "data": {
      "text/html": [
       "\n",
       "                    <table>\n",
       "                        <tr>\n",
       "                            <td><img src=\"https://raw.githubusercontent.com/PokeAPI/sprites/master/sprites/pokemon/150.png\"></td>\n",
       "                            <td><b>Mewtwo</b></td>\n",
       "                            <td><i>240 XP</i></td>\n",
       "                        </tr>\n",
       "                    </table>\n",
       "                    "
      ],
      "text/plain": [
       "<IPython.core.display.HTML object>"
      ]
     },
     "metadata": {},
     "output_type": "display_data"
    }
   ],
   "source": [
    "pikachu = Pokemon(25)\n",
    "pikachu.afficher()\n",
    "mewtwo = Pokemon(150)\n",
    "mewtwo.modifier_xp(-100)\n",
    "mewtwo.afficher()"
   ]
  },
  {
   "cell_type": "markdown",
   "metadata": {},
   "source": [
    "**(2)** Ajouter à la classe `Pokemon` la définition d'une méthode permettant d'obtenir l'affichage `Pikachu [25] xp=112` via la fonction `print`.\n",
    "\n",
    "**(3)** Ajouter à la classe `Pokemon` la définition d'une méthode `affronter` qui\n",
    "- prend en paramètres d'entrée deux instances `self` et `other` de la classe `Pokemon`,\n",
    "- tire au hasard un nombre entier `n` compris entre 1 et 10,\n",
    "- ajoute `n` XP au Pokemon ayant le plus d'XP,\n",
    "- retranche `n` XP au Pokemon ayant le moins d'XP, sans que l'XP ne puisse être négative.\n",
    "\n",
    "En cas d'XP identique pour les deux Pokemon, l'XP n'est modifiée pour aucun des deux."
   ]
  },
  {
   "cell_type": "code",
   "execution_count": 6,
   "metadata": {},
   "outputs": [],
   "source": [
    "class Pokemon:\n",
    "    def __init__(self, identifiant):\n",
    "        \"\"\"\n",
    "        Crée une instance de la classe Pokemon.\n",
    "        - Entrée : identifiant (entier positif correspondant à l'identifiant du Pokemon)\n",
    "        \"\"\"\n",
    "        self.id = identifiant\n",
    "        reponse = requests.get(f\"https://pokeapi.co/api/v2/pokemon/{self.id}\").json()\n",
    "        self.nom = reponse[\"name\"].capitalize()\n",
    "        self.taille = round(reponse[\"height\"] * 10)\n",
    "        self.poids = round(reponse[\"weight\"] / 10)\n",
    "        self.xp = reponse[\"base_experience\"]\n",
    "        self.sprite = reponse[\"sprites\"][\"front_default\"]\n",
    "    \n",
    "    def modifier_xp(self, n):\n",
    "        \"\"\"\n",
    "        Ajoute n points d'xp au Pokemon.\n",
    "        Entrée : n (entier)\n",
    "        \"\"\"\n",
    "        self.xp = self.xp + n\n",
    "    \n",
    "    def afficher(self):\n",
    "        \"\"\"Affiche dans le carnet Jupyter l'image, le nom et l'XP du Pokemon.\"\"\"\n",
    "        code_html = f\"\"\"\n",
    "                    <table>\n",
    "                        <tr>\n",
    "                            <td><img src=\"{self.sprite}\"></td>\n",
    "                            <td><b>{self.nom}</b></td>\n",
    "                            <td><i>{self.xp} XP</i></td>\n",
    "                        </tr>\n",
    "                    </table>\n",
    "                    \"\"\"\n",
    "        display(HTML(code_html))\n",
    "        \n",
    "    def __str__(self):\n",
    "        \"\"\"Permet l'affichage du nom, de l'identifiant et de l'xp du Pokemon via la fonction print.\"\"\"\n",
    "        return f\"{self.nom} [{self.id}] xp={self.xp}\"\n",
    "    \n",
    "    def affronter(self, other):\n",
    "        \"\"\"\n",
    "        Fait s'affronter le Pokemon avec un autre Pokemon.\n",
    "        - Entrée : other (instance de la classe Pokemon)\n",
    "        \"\"\"\n",
    "        n = randint(1, 10)\n",
    "        if self.xp > other.xp:\n",
    "            self.modifier_xp(n)\n",
    "            if other.xp > n:\n",
    "                other.modifier_xp(-n)\n",
    "        elif self.xp < other.xp:\n",
    "            other.modifier_xp(n)\n",
    "            if self.xp > n:\n",
    "                self.modifier_xp(-n)"
   ]
  },
  {
   "cell_type": "code",
   "execution_count": 7,
   "metadata": {},
   "outputs": [
    {
     "name": "stdout",
     "output_type": "stream",
     "text": [
      "Pikachu [25] xp=112\n"
     ]
    }
   ],
   "source": [
    "pikachu = Pokemon(25)\n",
    "print(pikachu)"
   ]
  },
  {
   "cell_type": "code",
   "execution_count": 8,
   "metadata": {},
   "outputs": [
    {
     "name": "stdout",
     "output_type": "stream",
     "text": [
      "Pikachu [25] xp=112\n",
      "Mewtwo [150] xp=340\n",
      "Pikachu [25] xp=109\n",
      "Mewtwo [150] xp=343\n"
     ]
    }
   ],
   "source": [
    "from random import randint\n",
    "pikachu = Pokemon(25)\n",
    "mewtwo = Pokemon(150)\n",
    "print(pikachu)\n",
    "print(mewtwo)\n",
    "pikachu.affronter(mewtwo)\n",
    "print(pikachu)\n",
    "print(mewtwo)"
   ]
  },
  {
   "cell_type": "markdown",
   "metadata": {},
   "source": [
    "## Exercice 3 - Points et vecteurs\n",
    "\n",
    "**(1)** Définir une classe `Point` dont les instances possèdent deux attributs `x` (abscisse) et `y` (ordonnée). Les valeurs des deux attributs seront passées en argument du constructeur."
   ]
  },
  {
   "cell_type": "code",
   "execution_count": 9,
   "metadata": {},
   "outputs": [],
   "source": [
    "class Point:\n",
    "    def __init__(self, x, y):\n",
    "        \"\"\"\n",
    "        Crée une instance de la classe Point.\n",
    "        - Entrées : x, y (flottants, coordonnées du point)\n",
    "        \"\"\"\n",
    "        self.x = x\n",
    "        self.y = y\n",
    "    \n",
    "    def __repr__(self):\n",
    "        return f\"Point({self.x}, {self.y})\""
   ]
  },
  {
   "cell_type": "code",
   "execution_count": 10,
   "metadata": {},
   "outputs": [],
   "source": [
    "# Création de deux instances de la classe Point\n",
    "A = Point(1, 5)\n",
    "B = Point(-2, 1)"
   ]
  },
  {
   "cell_type": "markdown",
   "metadata": {},
   "source": [
    "**(2)** Définir une fonction `milieu` qui prend en paramètres d'entrée deux instances de la classe `Point` et qui renvoie le milieu du segment délimité par ces deux points.\n",
    "\n",
    "On rappelle que, si les points $A$ et $B$ ont pour coordonnées $A(x_A;y_A)$ et $B(x_B;y_B)$, alors le milieu $I$ du segment $[AB]$ a pour coordonnées $I\\left(\\dfrac{x_A + x_B}{2}; \\dfrac{y_A + y_B}{2}\\right)$."
   ]
  },
  {
   "cell_type": "code",
   "execution_count": 11,
   "metadata": {},
   "outputs": [],
   "source": [
    "def milieu(A, B):\n",
    "    \"\"\"\n",
    "    Détermine quel point est au milieu du segment [AB].\n",
    "    - Entrées : A, B (instances de la classe Point)\n",
    "    - Sortie : I (instance de la classe Point)\n",
    "    \"\"\"\n",
    "    return Point((A.x + B.x)/2, (A.y + B.y)/2)"
   ]
  },
  {
   "cell_type": "code",
   "execution_count": 12,
   "metadata": {},
   "outputs": [
    {
     "data": {
      "text/plain": [
       "Point(-0.5, 3.0)"
      ]
     },
     "execution_count": 12,
     "metadata": {},
     "output_type": "execute_result"
    }
   ],
   "source": [
    "milieu(A, B)"
   ]
  },
  {
   "cell_type": "markdown",
   "metadata": {},
   "source": [
    "**(3)** Définir une classe `Vecteur` dont les instances possèdent deux attributs `x` (abscisse) et `y` (ordonnée). Le constructeur prend en argument deux instances de la classe `Point`.\n",
    "\n",
    "On rappelle que, si les points $A$ et $B$ ont pour coordonnées $A(x_A;y_A)$ et $B(x_B;y_B)$, alors le vecteur $\\vec{AB}$ a pour coordonnées $\\vec{AB}(x_B - x_A; y_B - y_A)$."
   ]
  },
  {
   "cell_type": "code",
   "execution_count": 13,
   "metadata": {},
   "outputs": [],
   "source": [
    "class Vecteur:\n",
    "    def __init__(self, A, B):\n",
    "        \"\"\"\n",
    "        Crée une instance de la classe Vecteur.\n",
    "        - Entrées : A, B (instances de la classe Point)\n",
    "        \"\"\"\n",
    "        self.x = B.x - A.x\n",
    "        self.y = B.y - A.y\n",
    "    \n",
    "    def __repr__(self):\n",
    "        return f\"Vecteur(Point(0, 0), Point({self.x}, {self.y}))\""
   ]
  },
  {
   "cell_type": "code",
   "execution_count": 14,
   "metadata": {},
   "outputs": [],
   "source": [
    "# Création d'une instance de la classe Vecteur\n",
    "u = Vecteur(A, B)"
   ]
  },
  {
   "cell_type": "markdown",
   "metadata": {},
   "source": [
    "**(4) BONUS** Ajouter dans la classe `Vecteur` la définition d'une méthode `norme` qui renvoie la norme du vecteur.\n",
    "\n",
    "On rappelle que, si le vecteur $\\vec{u}$ pour coordonnées $\\vec{u}(x;y)$, alors la norme du vecteur $\\vec{u}$ est $\\sqrt{x^2 + y^2}$."
   ]
  },
  {
   "cell_type": "code",
   "execution_count": 15,
   "metadata": {},
   "outputs": [],
   "source": [
    "class Vecteur:\n",
    "    def __init__(self, A, B):\n",
    "        \"\"\"\n",
    "        Crée une instance de la classe Vecteur.\n",
    "        - Entrées : A, B (instances de la classe Point)\n",
    "        \"\"\"\n",
    "        self.x = B.x - A.x\n",
    "        self.y = B.y - A.y\n",
    "    \n",
    "    def __repr__(self):\n",
    "        return f\"Vecteur(Point(0, 0), Point({self.x}, {self.y}))\"\n",
    "    \n",
    "    def norme(self):\n",
    "        return (self.x**2 + self.y**2)**0.5"
   ]
  },
  {
   "cell_type": "code",
   "execution_count": 16,
   "metadata": {},
   "outputs": [
    {
     "name": "stdout",
     "output_type": "stream",
     "text": [
      "5.0\n"
     ]
    }
   ],
   "source": [
    "u = Vecteur(A, B)\n",
    "print(u.norme())"
   ]
  },
  {
   "cell_type": "markdown",
   "metadata": {},
   "source": [
    "## Exercice bonus - Fractale\n",
    "\n",
    "Définir une procédure récursive `fractale` permettant d'obtenir le dessin ci-dessous, en utilisant uniquement les procédures `forward`, `backward`, `left` et `right` du module `turtle`.\n",
    "\n",
    "<img src=\"https://ntoulzac.github.io/Cours-NSI-Terminale/devoirs/images/fractale_en_L.png\" width=\"60%\">"
   ]
  },
  {
   "cell_type": "code",
   "execution_count": 17,
   "metadata": {},
   "outputs": [],
   "source": [
    "def fractale(longueur, degre):\n",
    "    forward(longueur)\n",
    "    if degre > 0:\n",
    "        fractale(longueur/2, degre-1)\n",
    "    backward(longueur)\n",
    "    left(90)\n",
    "    forward(longueur)\n",
    "    right(90)\n",
    "    if degre > 0:\n",
    "        fractale(longueur/2, degre-1)\n",
    "    right(90)\n",
    "    forward(longueur)\n",
    "    left(90)"
   ]
  },
  {
   "cell_type": "markdown",
   "metadata": {},
   "source": [
    "Pour tester votre procédure, exécuter la cellule suivante :"
   ]
  },
  {
   "cell_type": "code",
   "execution_count": 18,
   "metadata": {},
   "outputs": [],
   "source": [
    "from turtle import forward, backward, left, right, speed\n",
    "\n",
    "speed(50)\n",
    "fractale(150, 5)"
   ]
  }
 ],
 "metadata": {
  "kernelspec": {
   "display_name": "Python 3 (ipykernel)",
   "language": "python",
   "name": "python3"
  },
  "language_info": {
   "codemirror_mode": {
    "name": "ipython",
    "version": 3
   },
   "file_extension": ".py",
   "mimetype": "text/x-python",
   "name": "python",
   "nbconvert_exporter": "python",
   "pygments_lexer": "ipython3",
   "version": "3.9.12"
  }
 },
 "nbformat": 4,
 "nbformat_minor": 4
}
