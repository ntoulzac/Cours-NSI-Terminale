{
 "cells": [
  {
   "cell_type": "markdown",
   "metadata": {},
   "source": [
    "<div style='background-color: #dda0dd;\n",
    "    border: 0.5em solid black;\n",
    "    border-radius: 0.5em;\n",
    "    padding: 1em;'>\n",
    "    <h2>Devoir surveillé</h2>\n",
    "    <h1>Corrigé du devoir n°1</h1>\n",
    "</div>"
   ]
  },
  {
   "cell_type": "markdown",
   "metadata": {},
   "source": [
    "<div style='background-color: #dda0dd;\n",
    "    border-radius: 0.5em;\n",
    "    padding: 1em;'>\n",
    "    <h2>Première partie</h2>\n",
    "</div>"
   ]
  },
  {
   "cell_type": "markdown",
   "metadata": {},
   "source": [
    "## Exercice 1\n",
    "\n",
    "On interroge l’API _Découpage administratif communes_ du gouvernement français en envoyant une requête à l’adresse :\n",
    "[https://geo.api.gouv.fr/communes?nom=Lille&boost=population&fields=population,surface](https://geo.api.gouv.fr/communes?nom=Lille&boost=population&fields=population,surface) pour récupérer les données géographiques (population et superficie) de la ville de Lille. La réponse de l’API est :\n",
    "\n",
    "```python\n",
    "[{\"population\": 234475, \"surface\": 3474.9, \"nom\": \"Lille\"},\n",
    " {\"population\": 9810, \"surface\": 2658.93, \"nom\": \"Lillers\"},\n",
    " {\"population\": 367, \"surface\": 379.17, \"nom\": \"Lillemer\"},\n",
    " {\"population\": 13151, \"surface\": 315.78, \"nom\": \"Saint-André-lez-Lille\"},\n",
    " {\"population\": 8797, \"surface\": 1464.34, \"nom\": \"Lillebonne\"},\n",
    " {\"population\": 10798, \"surface\": 484.71, \"nom\": \"Marquette-lez-Lille\"}]\n",
    "```\n",
    "\n",
    "**(1)** Comment s’appelle le format dans lequel les données sont reçues ?\n",
    "\n",
    "Les données sont reçues au format JSON.\n",
    "\n",
    "On suppose que la réponse de l’API est stockée dans une variable `reponse`.\n",
    "\n",
    "**(2)** Quel est le type de la variable `reponse` ? de `reponse[0]` ? de `reponse[0][\"surface\"]` ?\n",
    "\n",
    "`reponse` est un tableau de dictionnaires.\n",
    "\n",
    "`reponse[0]` est un dictionnaire dont les clés sont `'population'`, `'surface'` et `'nom'`.\n",
    "\n",
    "`reponse[0][\"surface\"]` est un flottant.\n",
    "\n",
    "**(3)** Dans le contexte de l’API, à quoi correspond `len(reponse)` ?\n",
    "\n",
    "`len(reponse)` correspond au nombre de villes dont le nom contient la chaîne `'Lille'`.\n",
    "\n",
    "**(4)** Quelles expressions permettent :\n",
    "-\td’accéder à la population de la ville de Lille ? `reponse[0]['population']`\n",
    "-\td’accéder à la superficie de la ville de Lille ? `reponse[0]['surface']`\n",
    "-\tde calculer la densité de la ville de Lille ? `reponse[0]['population'] / reponse[0]['surface']`\n",
    "\n",
    "**(5)**\tÀ quelle adresse faut-il interroger l’API pour récupérer les données géographiques de la ville de Paris ?\n",
    "\n",
    "À l'adresse [https://geo.api.gouv.fr/communes?nom=Paris&boost=population&fields=population,surface](https://geo.api.gouv.fr/communes?nom=Paris&boost=population&fields=population,surface).\n",
    "\n",
    "## Exercice 2\n",
    "\n",
    "On donne la définition d’une fonction `api_openfoodfacts` :\n",
    "\n",
    "```python\n",
    "def api_openfoodfacts(code_barres):\n",
    "    url = f\"https://world.openfoodfacts.org/api/v0/product/{code_barres}.json\"\n",
    "    reponse = requests.get(url)\n",
    "    reponse = reponse.json()\n",
    "    if reponse[\"status\"] == 1:\n",
    "        return {\"nom\": reponse[\"product\"][\"product_name\"],\n",
    "                \"nutri_score\": reponse[\"product\"][\"nutrition_grade_fr\"]}\n",
    "    else:\n",
    "        return {\"nom\": \"Produit inconnu\",\n",
    "                \"nutri_score\": None}\n",
    "```\n",
    "\n",
    "Si on interroge l’API Open Food Facts à partir d’un code-barres erroné, on obtient une réponse du type :\n",
    "\n",
    "```python\n",
    "{\"code\": \"8076800376998\", \"status\": 0, \"status_verbose\": \"product not found\"}\n",
    "```\n",
    "\n",
    "**(1)** Dire, en justifiant, ce que renvoie la fonction `api_openfoodfacts` dans le cas où on l’appelle avec un code-barres erroné en argument.\n",
    "\n",
    "Dans le cas où l'API est interrogée avec un code-barres erroné, elle renvoie des données JSON avec un `'status'` égal à `0`. Dans ce cas, l'instruction conditionnelle présente dans la définition de la fonction `api_openfoodfacts` fait que cette fonction renvoie le dictionnaire :\n",
    "```python\n",
    "{\"nom\": \"Produit inconnu\", \"nutri_score\": None}\n",
    "```\n",
    "\n",
    "L’appel `api_openfoodfacts(3166352967037)` renvoie ceci :\n",
    "\n",
    "```python\n",
    "{\"nom\": \"Poisson à l'andalouse riz safrané et courgettes grillées\",\n",
    " \"nutri_score\": \"a\"}\n",
    "```\n",
    "\n",
    "**(2)**\tÉcrire la spécification de la fonction `api_openfoodfacts`.\n",
    "\n",
    "```python\n",
    "\"\"\"\n",
    "Interroge l'API Open Food Facts et renvoie le nom et le nutriscore d'un produit alimentaire à partir de son code-barres.\n",
    "- Entrée : code_barres (chaîne de caractères ou entier)\n",
    "- Sortie : (dictionnaire dont les clés sont \"nom\" et \"nutri_score\")\n",
    "\"\"\"\n",
    "```\n",
    "\n",
    "**(3)**\tDéfinir une fonction `nutriscore` qui :\n",
    "-\tprend en paramètre d'entrée un tableau `tab_codes` contenant des numéros de code-barres, et qui\n",
    "-\trenvoie le dictionnaire qui associe à chacune des chaînes `\"a\"`, `\"b\"`, `\"c\"`, `\"d\"` et `\"e\"` la liste des noms des produits au nutriscore correspondant.\n",
    "\n",
    "`nutriscore([3497917000495, 3560070682683, 3245412511561, 3046920022651])` doit par exemple renvoyer :\n",
    "\n",
    "```python\n",
    "{\"a\": [],\n",
    " \"b\": [],\n",
    " \"c\": [\"Chips saveur Indian curry\", \"Yaourt à la GRECQUE NATURE\"],\n",
    " \"d\": [],\n",
    " \"e\": [\"Biscuits chocolat au lait\", \"Lindt Chocolate Excellence\"]}\n",
    "```\n",
    "\n",
    "```python\n",
    "def nutriscore(tab):\n",
    "    dico_noms = {cle: [] for cle in \"abcde\"}\n",
    "    for code_barres in tab:\n",
    "        dico = api_openfoodfacts(code_barres)\n",
    "        dico_noms[dico[\"nutri_score\"]].append(dico[\"nom\"])\n",
    "    return dico_noms\n",
    "```\n",
    "\n",
    "## Exercice 3\n",
    "\n",
    "On donne la définition d’une fonction `mystere` :\n",
    "\n",
    "```python\n",
    "def mystere(n):\n",
    "    \"\"\"\n",
    "    Calcule XXXXXXXXXXXXXXXXXXXXXXXXXXXXXXXXXXXXXXXXXXXXXXXXXXXXX\n",
    "    - Entrée : XXXXXXXXXXXXXXXXXX\n",
    "    - Sortie : XXXXXXXXXXXXXXXX\n",
    "    \"\"\"\n",
    "    if n <= 0:\n",
    "        return 0\n",
    "    else:\n",
    "        return n**2 + mystere(n-1)\n",
    "```\n",
    "\n",
    "**(1)** Justifier que `mystere` est une fonction récursive, et identifier quel est le cas de base et quel est le cas récursif.\n",
    "\n",
    "La fonction `mystere` s'appelle elle-même à la ligne 10, elle est donc récursive. Le cas de base correspond à `n <= 0` et le cas récursif à `n > 0`.\n",
    "\n",
    "**(2)** Déterminer quelle valeur est renvoyée par l’appel `mystere(4)`, en dessinant l’arbre des appels récursifs provoqués par cet appel.\n",
    "\n",
    "```\n",
    "mystere(4)\n",
    "   |\n",
    "   return 4**2 + mystere(3)\n",
    "                    |\n",
    "                    return 3**2 + mystere(2)\n",
    "                                     |\n",
    "                                     return 2**2 + mystere(1)\n",
    "                                                      |\n",
    "                                                      return 1**2 + mystere(0)\n",
    "                                                                       |\n",
    "                                                                       return 0\n",
    "```\n",
    "\n",
    "L'appel `mystere(4)` renvoie la valeur `30` car $0 + 1^2 + 2^2 + 3^2 + 4^2 = 30$.\n",
    "\n",
    "**(3)** Compléter la spécification de la fonction `mystere`.\n",
    "\n",
    "```python\n",
    "\"\"\"\n",
    "Calcule la somme des carrés des entiers compris entre 1 et n.\n",
    "- Entrée : n (entier positif)\n",
    "- Sortie : (entier positif)\n",
    "\"\"\"\n",
    "```\n",
    "\n",
    "**(4)** Expliquer pour quelle raison l’appel `mystere(5000)` provoque une erreur.\n",
    "\n",
    "La taille de la pile d'appels récursifs étant limitée à strictement moins de 5000 appels (1000 ou 3000 appels _a priori_), l'appel `mystere` provoque une `RecursionError`."
   ]
  },
  {
   "cell_type": "markdown",
   "metadata": {},
   "source": [
    "<div style='background-color: #dda0dd;\n",
    "    border-radius: 0.5em;\n",
    "    padding: 1em;'>\n",
    "    <h2>Seconde partie</h2>\n",
    "</div>"
   ]
  },
  {
   "cell_type": "markdown",
   "metadata": {},
   "source": [
    "## Exercice 1 - Championnat de France de rugby"
   ]
  },
  {
   "cell_type": "markdown",
   "metadata": {},
   "source": [
    "L'API _SportRadar_ permet de récupérer des données sur les compétitions sportives, par exemple le championnat de France de rugby (Top 14).\n",
    "\n",
    "On donne la fonction `resultats_top14` :"
   ]
  },
  {
   "cell_type": "code",
   "execution_count": null,
   "metadata": {},
   "outputs": [],
   "source": [
    "import requests\n",
    "\n",
    "def resultats_top14(jour, mois, annee):\n",
    "    \"\"\"\n",
    "    Interroge l'API SportRadar et récupère les résultats des matchs de Top 14 pour une date donnée.\n",
    "    - Entrées : jour, mois, annee (chaînes de caractères aux formats \"JJ\", \"MM\" et \"AAAA\")\n",
    "    - Sortie : donnees (tableau dont les élément sont des dictionnaires)\n",
    "    \"\"\"\n",
    "    url = f\"https://api.sportradar.us/rugby/trial/v2/union/en/schedules/{annee}-{mois}-{jour}/results.json?api_key=dmqxasfmemkeeeqwxewjf7zr\"\n",
    "    reponse = requests.get(url)\n",
    "    reponse = reponse.json()\n",
    "    assert \"message\" not in reponse, \"Problème d'interrogation de l'API : URL incorrecte !\"\n",
    "    donnees = []\n",
    "    for match in reponse['results']:\n",
    "        if match['sport_event']['sport_event_context']['competition']['name'] == 'Top 14':\n",
    "            if not match['sport_event_status']['status'] == 'postponed':\n",
    "                dom = match['sport_event']['competitors'][0]['name']\n",
    "                ext = match['sport_event']['competitors'][1]['name']\n",
    "                score_dom = match['sport_event_status']['home_score']\n",
    "                score_ext = match['sport_event_status']['away_score']\n",
    "                donnees.append({'dom' : dom,\n",
    "                                'ext' : ext,\n",
    "                                'score_dom' : score_dom,\n",
    "                                'score_ext' : score_ext})\n",
    "    return donnees"
   ]
  },
  {
   "cell_type": "markdown",
   "metadata": {},
   "source": [
    "**(1)** Après avoir lu attentivement la spécification de la fonction, expliquer pourquoi l'exécution de la cellule suivante provoque une erreur, et proposer une correction. **Attention ! Le code de la fonction `resultats_top14` ne contient pas d'erreur et ne doit pas être modifié !**"
   ]
  },
  {
   "cell_type": "code",
   "execution_count": null,
   "metadata": {},
   "outputs": [],
   "source": [
    "tab_matchs = resultats_top14(2, 9, 2023)"
   ]
  },
  {
   "cell_type": "markdown",
   "metadata": {},
   "source": [
    "Les arguments passés en paramètre de la fonction doivent être trois chaînes de caractères au format `\"JJ\"`, `\"MM\"` et `\"AAAA\"`. Il faut donc écrire :"
   ]
  },
  {
   "cell_type": "code",
   "execution_count": null,
   "metadata": {},
   "outputs": [],
   "source": [
    "tab_matchs = resultats_top14(\"02\", \"09\", \"2023\")"
   ]
  },
  {
   "cell_type": "markdown",
   "metadata": {},
   "source": [
    "**(2)** Quelles sont les clés du dictionnaire `tab_matchs[0]` ? Préciser quel est le type des valeurs associées à chaque clé."
   ]
  },
  {
   "cell_type": "code",
   "execution_count": null,
   "metadata": {},
   "outputs": [],
   "source": [
    "tab_matchs[0]"
   ]
  },
  {
   "cell_type": "markdown",
   "metadata": {},
   "source": [
    "Les clés du dictionnaire `tab_matchs[0]` sont :\n",
    "- `\"dom\"` (associée à une chaîne de caractères),\n",
    "- `\"ext\"` (associée à une chaîne de caractères),\n",
    "- `\"score_dom\"` (associée à un entier),\n",
    "- `\"score_ext\"` (associée à un entier)."
   ]
  },
  {
   "cell_type": "markdown",
   "metadata": {},
   "source": [
    "**(2)** Ecrire des lignes de code permettant d'afficher le nombre de matchs de Top 14 qui ont été joués le samedi 17 septembre 2022."
   ]
  },
  {
   "cell_type": "code",
   "execution_count": null,
   "metadata": {},
   "outputs": [],
   "source": [
    "print(len(tab_matchs))"
   ]
  },
  {
   "cell_type": "markdown",
   "metadata": {},
   "source": [
    "**(3)** Ecrire des lignes de code permettant d'afficher les scores des matchs de Top 14 joués le 2 septembre 2023 au format :\n",
    "\n",
    "`Asm Clermont Auvergne 11 - 10 Stade Rochelais`."
   ]
  },
  {
   "cell_type": "code",
   "execution_count": null,
   "metadata": {},
   "outputs": [],
   "source": [
    "for match in tab_matchs:\n",
    "    print(f\"{match['dom']} {match['score_dom']} - {match['score_ext']} {match['ext']}\")"
   ]
  },
  {
   "cell_type": "markdown",
   "metadata": {},
   "source": [
    "**(4)** Sachant que le seul match de Top 14 joué le 17 juin 2023 était la finale de la compétition, écrire des lignes de code permettant d'afficher le nom du champion de France en titre."
   ]
  },
  {
   "cell_type": "code",
   "execution_count": null,
   "metadata": {},
   "outputs": [],
   "source": [
    "finale = resultats_top14(\"17\", \"06\", \"2023\")[0]\n",
    "if finale['score_dom'] > finale['score_ext']:\n",
    "    print(f\"Le champion est {finale['dom']}.\")\n",
    "elif finale['score_ext'] > finale['score_dom']:\n",
    "    print(f\"Le champion est {finale['ext']}.\")\n",
    "else:\n",
    "    print(\"Match nul\")"
   ]
  },
  {
   "cell_type": "markdown",
   "metadata": {},
   "source": [
    "## Exercice 2 - Planètes du système solaire"
   ]
  },
  {
   "cell_type": "markdown",
   "metadata": {},
   "source": [
    "L'API _Système solaire_ permet de récupérer des données sur les planètes du système solaire et sur leurs satellites naturels. On interroge l'API de la façon suivante :"
   ]
  },
  {
   "cell_type": "code",
   "execution_count": null,
   "metadata": {},
   "outputs": [],
   "source": [
    "import requests"
   ]
  },
  {
   "cell_type": "code",
   "execution_count": null,
   "metadata": {},
   "outputs": [],
   "source": [
    "url = f\"https://api.le-systeme-solaire.net/rest/bodies\"\n",
    "reponse = requests.get(url)\n",
    "reponse = reponse.json()"
   ]
  },
  {
   "cell_type": "markdown",
   "metadata": {},
   "source": [
    "Voici une partie de la réponse reçue :"
   ]
  },
  {
   "cell_type": "code",
   "execution_count": null,
   "metadata": {},
   "outputs": [],
   "source": [
    "reponse[\"bodies\"][0]"
   ]
  },
  {
   "cell_type": "markdown",
   "metadata": {},
   "source": [
    "**(1)** Quel est le type de `reponse[\"bodies\"]` ? de `reponse[\"bodies\"][0]` ? de `reponse[\"bodies\"][0][\"isPlanet\"]` ?"
   ]
  },
  {
   "cell_type": "markdown",
   "metadata": {},
   "source": [
    "`reponse[\"bodies\"]` est un tableau (ou une liste) contenant des dictionnaires.\n",
    "\n",
    "`reponse[\"bodies\"][0]` est un dictionnaire.\n",
    "\n",
    "`reponse[\"bodies\"][0][\"isPlanet\"]` est un booléen."
   ]
  },
  {
   "cell_type": "markdown",
   "metadata": {},
   "source": [
    "**(2)** Ecrire des lignes de code permettant d'afficher uniquement le nom en anglais des huit planètes du système solaire."
   ]
  },
  {
   "cell_type": "code",
   "execution_count": null,
   "metadata": {},
   "outputs": [],
   "source": [
    "for astre in reponse[\"bodies\"]:\n",
    "    if astre[\"isPlanet\"]:\n",
    "        print(astre[\"name\"])"
   ]
  },
  {
   "cell_type": "markdown",
   "metadata": {},
   "source": [
    "**(3)** Sachant que la masse de la Lune est d'environ $7,3 \\times 10^{22}$ kilogrammes et que son volume est d'environ $2,2 \\times 10^{10}$ kilomètres cubes, écrire des lignes de code permettant d'afficher, pour chacune des huit planètes du système solaire, sa masse en tonnes et son volume en kilomètres cubes."
   ]
  },
  {
   "cell_type": "code",
   "execution_count": null,
   "metadata": {},
   "outputs": [],
   "source": [
    "for astre in reponse[\"bodies\"]:\n",
    "    if astre[\"isPlanet\"]:\n",
    "        nom = astre[\"name\"]\n",
    "        masse = int(astre[\"mass\"][\"massValue\"] * 10**(astre[\"mass\"][\"massExponent\"]-12))\n",
    "        volume = int(astre[\"vol\"][\"volValue\"] * 10**astre[\"vol\"][\"volExponent\"])\n",
    "        print(f\"{nom} : {masse} milliards de tonnes, {volume} kilomètres cubes\")"
   ]
  }
 ],
 "metadata": {
  "kernelspec": {
   "display_name": "Python 3 (ipykernel)",
   "language": "python",
   "name": "python3"
  },
  "language_info": {
   "codemirror_mode": {
    "name": "ipython",
    "version": 3
   },
   "file_extension": ".py",
   "mimetype": "text/x-python",
   "name": "python",
   "nbconvert_exporter": "python",
   "pygments_lexer": "ipython3",
   "version": "3.9.12"
  }
 },
 "nbformat": 4,
 "nbformat_minor": 4
}
