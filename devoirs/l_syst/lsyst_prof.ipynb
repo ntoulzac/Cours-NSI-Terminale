{
 "cells": [
  {
   "cell_type": "markdown",
   "metadata": {},
   "source": [
    "<div style='background-color: #ffc154;\n",
    "    border: 0.5em solid black;\n",
    "    border-radius: 0.5em;\n",
    "    padding: 1em;'>\n",
    "    <h2>Devoir maison</h2>\n",
    "    <h1>L-systèmes</h1>\n",
    "</div>"
   ]
  },
  {
   "cell_type": "markdown",
   "metadata": {},
   "source": [
    "<table>\n",
    "    <tr>\n",
    "        <td><img src=\"https://ntoulzac.github.io/Cours-NSI-Terminale/devoirs/images/l_syst_0_1.png\"></td>\n",
    "        <td><img src=\"https://ntoulzac.github.io/Cours-NSI-Terminale/devoirs/images/l_syst_0_4.png\"></td>\n",
    "    </tr>\n",
    "</table>\n",
    "\n",
    "Un **L-système** (système de Lindenmayer, biologiste hongrois) permet de représenter des figures fractales ou de modéliser le développement d'arbres et de plantes."
   ]
  },
  {
   "cell_type": "markdown",
   "metadata": {},
   "source": [
    "<div style='background-color: #ffc154;\n",
    "    border-radius: 0.5em;\n",
    "    padding: 1em;'>\n",
    "    <h2>Règles de réécriture</h2>\n",
    "</div>"
   ]
  },
  {
   "cell_type": "markdown",
   "metadata": {},
   "source": [
    "L'idée est de faire évoluer une chaîne de caractères en respectant des règles d'évolution.\n",
    "\n",
    "Par exemple, considérons la chaîne initiale `'F'`. A chaque génération, on remplace la lettre `'F'` par les caractères `'F+F-F-F+F'`.\n",
    "\n",
    "**(1)** Ecrire ce que devient la chaîne initiale `'F'` après une puis deux générations."
   ]
  },
  {
   "cell_type": "markdown",
   "metadata": {},
   "source": [
    "<div class='rq'>\n",
    "    Après une première génération, la chaîne <code>'F'</code> devient la chaîne <code>'F+F-F-F+F'</code>.<br>\n",
    "    Après une deuxième génération, elle devient la chaîne <code>'F+F-F-F+F+F+F-F-F+F-F+F-F-F+F-F+F-F-F+F+F+F-F-F+F'</code>.\n",
    "</div>"
   ]
  },
  {
   "cell_type": "markdown",
   "metadata": {},
   "source": [
    "Autre exemple, considérons la chaîne initiale `'G'`. A chaque génération, on remplace la lettre `'G'` par les caractères `'+G--D+'` et la lettre `D` par les caractères `-G++D-`.\n",
    "\n",
    "**(2)** Ecrire ce que devient la chaîne initiale `'G'` après une puis deux puis trois générations."
   ]
  },
  {
   "cell_type": "markdown",
   "metadata": {},
   "source": [
    "<div class='rq'>\n",
    "    Après une première génération, la chaîne <code>'G'</code> devient la chaîne <code>'+G--D+'</code>.<br>\n",
    "    Après une deuxième génération, elle devient la chaîne <code>'++G--D+---G++D-+'</code>.<br>\n",
    "    Après une troisième génération, elle devient la chaîne <code>'+++G--D+---G++D-+---+G--D+++-G++D--+'</code>.\n",
    "</div>"
   ]
  },
  {
   "cell_type": "markdown",
   "metadata": {},
   "source": [
    "**(3)** Définir une fonction `generer` permettant le calcul automatique de la chaîne après `n` générations.\n",
    "\n",
    "La fonction prendra en paramètres d'entrée :\n",
    "- une chaîne `mot` (la chaîne initiale, par exemple `'F'` ou `'G'` dans les deux exemples précédents),\n",
    "- un dictionnaire `regles` (par exemple `{'F' : 'F+F-F-F+F'}` ou `{'G' : '+G--D+', 'D' : '-G++D-'}` dans les deux exemples précédents),\n",
    "- un entier `n` (le nombre de générations souhaitées).\n",
    "\n",
    "On pourra donner une version récursive et une version itérative de `generer`."
   ]
  },
  {
   "cell_type": "code",
   "execution_count": 1,
   "metadata": {},
   "outputs": [],
   "source": [
    "# Version récursive\n",
    "def generer(mot, regles, n):\n",
    "    \"\"\"\n",
    "    Détermine la n-ème génération d'un mot, en remplaçant ses lettres suivant des règles données.\n",
    "    - Entrées : mot (chaîne de caractères initiale),\n",
    "                regles (dictionnaire sont les clés sont des caractères et les valeurs associées des chaînes),\n",
    "                n (entier, nombre de générations)\n",
    "    - Sortie : (chaîne de caractères modifiée)\n",
    "    \"\"\"\n",
    "    if n == 0:\n",
    "        return mot\n",
    "    else:\n",
    "        nouveau_mot = ''\n",
    "        for lettre in mot:\n",
    "            if lettre in regles:\n",
    "                nouveau_mot += regles[lettre]\n",
    "            else:\n",
    "                nouveau_mot += lettre\n",
    "        return generer(nouveau_mot, regles, n-1)"
   ]
  },
  {
   "cell_type": "code",
   "execution_count": 2,
   "metadata": {},
   "outputs": [],
   "source": [
    "# Version itérative\n",
    "def generer(mot, regles, n):\n",
    "    \"\"\"\n",
    "    Détermine la n-ème génération d'un mot, en remplaçant ses lettres suivant des règles données.\n",
    "    - Entrées : mot (chaîne de caractères initiale),\n",
    "                regles (dictionnaire sont les clés sont des caractères et les valeurs associées des chaînes),\n",
    "                n (entier, nombre de générations)\n",
    "    - Sortie : (chaîne de caractères modifiée)\n",
    "    \"\"\"\n",
    "    for _ in range(n):\n",
    "        nouveau_mot = ''\n",
    "        for lettre in mot:\n",
    "            if lettre in regles:\n",
    "                nouveau_mot += regles[lettre]\n",
    "            else:\n",
    "                nouveau_mot += lettre\n",
    "        mot = nouveau_mot\n",
    "    return mot"
   ]
  },
  {
   "cell_type": "code",
   "execution_count": 3,
   "metadata": {},
   "outputs": [
    {
     "data": {
      "text/plain": [
       "'F+F-F-F+F+F+F-F-F+F-F+F-F-F+F-F+F-F-F+F+F+F-F-F+F'"
      ]
     },
     "execution_count": 3,
     "metadata": {},
     "output_type": "execute_result"
    }
   ],
   "source": [
    "generer('F', {'F' : 'F+F-F-F+F'}, 2)"
   ]
  },
  {
   "cell_type": "code",
   "execution_count": 4,
   "metadata": {},
   "outputs": [
    {
     "data": {
      "text/plain": [
       "'+++G--D+---G++D-+---+G--D+++-G++D--+'"
      ]
     },
     "execution_count": 4,
     "metadata": {},
     "output_type": "execute_result"
    }
   ],
   "source": [
    "generer('G', {'G' : '+G--D+', 'D' : '-G++D-'}, 3)"
   ]
  },
  {
   "cell_type": "markdown",
   "metadata": {},
   "source": [
    "<div style='background-color: #ffc154;\n",
    "    border-radius: 0.5em;\n",
    "    padding: 1em;'>\n",
    "    <h2>Représentation graphique</h2>\n",
    "</div>"
   ]
  },
  {
   "cell_type": "markdown",
   "metadata": {},
   "source": [
    "On suppose désormais que :\n",
    "- les caractères `'F'`, `'G'` et `'D'` signifient *dessiner un segment de longueur 1 carreau*,\n",
    "- le caractère `+` signifie *changer l'orientation du tracé de 90 degrés vers la gauche*,\n",
    "- le caractère `-` signifie *changer l'orientation du tracé de 90 degrés vers la droite*.\n",
    "\n",
    "**(3)** Dessiner sur un quadrillage la figure correspondant à la deuxième génération du premier exemple précédent."
   ]
  },
  {
   "cell_type": "markdown",
   "metadata": {},
   "source": [
    "<img src='Images/l_syst_main.png' width='50%'>"
   ]
  },
  {
   "cell_type": "markdown",
   "metadata": {},
   "source": [
    "**(4)** Compléter la définition de la fonction `dessiner` permettant de dessiner la figure avec le module `turtle`.\n",
    "\n",
    "*On supposera pour le moment que \"1 carreau\" correspond à 20 pixels à l'écran*."
   ]
  },
  {
   "cell_type": "code",
   "execution_count": 5,
   "metadata": {},
   "outputs": [],
   "source": [
    "import turtle as t"
   ]
  },
  {
   "cell_type": "code",
   "execution_count": 6,
   "metadata": {},
   "outputs": [],
   "source": [
    "def dessiner(mot, regles, n):\n",
    "    \"\"\"\n",
    "    Dessine dans une fenêtre la figure correspondant à un mot modifié sur n générations par un certain nombre de règles.\n",
    "    - Entrées : mot (chaîne de caractères initiale),\n",
    "                regles (dictionnaire sont les clés sont des caractères et les valeurs associées des chaînes),\n",
    "                n (entier, nombre de générations)\n",
    "    - Effet de bord : affichage dans une fenêtre Turtle\n",
    "    \"\"\"\n",
    "    fenetre = t.Screen()\n",
    "    fenetre.tracer(0)\n",
    "    t.TurtleScreen._RUNNING = True\n",
    "    t.hideturtle()\n",
    "    mot = generer(mot, regles, n)\n",
    "    for lettre in mot:\n",
    "        if lettre == '+':\n",
    "            t.left(90)\n",
    "        elif lettre == '-':\n",
    "            t.right(90)\n",
    "        elif lettre in 'DFG':\n",
    "            t.forward(20)\n",
    "    fenetre.update()\n",
    "    fenetre.exitonclick()"
   ]
  },
  {
   "cell_type": "code",
   "execution_count": 7,
   "metadata": {
    "scrolled": true
   },
   "outputs": [],
   "source": [
    "dessiner('F', {'F' : 'F+F-F-F+F'}, 2)"
   ]
  },
  {
   "cell_type": "markdown",
   "metadata": {},
   "source": [
    "**(5)** Dessiner la deuxième génération obtenue à partir de `'F+F+F+F+'` en remplaçant à chaque génération `'F'` par `'F+FF-FF-F-F+F+FF-F-F+F+FF+FF-F'`."
   ]
  },
  {
   "cell_type": "code",
   "execution_count": 8,
   "metadata": {
    "scrolled": true
   },
   "outputs": [],
   "source": [
    "dessiner('F+F+F+F+', {'F' : 'F+FF-FF-F-F+F+FF-F-F+F+FF+FF-F'}, 2)"
   ]
  },
  {
   "cell_type": "markdown",
   "metadata": {},
   "source": [
    "<div class='rq'>Le dessin étant trop grand pour apparaître entièrement dans la fenêtre, il convient de modifier la taille des segments tracés.</div>"
   ]
  },
  {
   "cell_type": "markdown",
   "metadata": {},
   "source": [
    "**(6)** Pour obtenir un dessin complet à l'écran, ajouter un paramètre d'entrée supplémentaire `longueur` pour la fonction `dessiner`, pour pouvoir choisir la taille des segments à tracer."
   ]
  },
  {
   "cell_type": "code",
   "execution_count": 9,
   "metadata": {},
   "outputs": [],
   "source": [
    "def dessiner(mot, regles, n, longueur):\n",
    "    \"\"\"\n",
    "    Dessine dans une fenêtre la figure correspondant à un mot modifié sur n générations par un certain nombre de règles.\n",
    "    - Entrées : mot (chaîne de caractères initiale),\n",
    "                regles (dictionnaire sont les clés sont des caractères et les valeurs associées des chaînes),\n",
    "                n (entier, nombre de générations),\n",
    "                longueur (entier, taille en pixels des segments à tracer)\n",
    "    - Effet de bord : affichage dans une fenêtre Turtle\n",
    "    \"\"\"\n",
    "    fenetre = t.Screen()\n",
    "    fenetre.tracer(0)\n",
    "    t.TurtleScreen._RUNNING = True\n",
    "    t.hideturtle()\n",
    "    mot = generer(mot, regles, n)\n",
    "    for lettre in mot:\n",
    "        if lettre == '+':\n",
    "            t.left(90)\n",
    "        elif lettre == '-':\n",
    "            t.right(90)\n",
    "        elif lettre in 'DFG':\n",
    "            t.forward(longueur)\n",
    "    fenetre.update()\n",
    "    fenetre.exitonclick()"
   ]
  },
  {
   "cell_type": "code",
   "execution_count": 10,
   "metadata": {},
   "outputs": [],
   "source": [
    "dessiner('F+F+F+F+', {'F' : 'F+FF-FF-F-F+F+FF-F-F+F+FF+FF-F'}, 2, 5)"
   ]
  },
  {
   "cell_type": "markdown",
   "metadata": {},
   "source": [
    "<img src='Images/l_syst_0_1.png' width='40%'>"
   ]
  },
  {
   "cell_type": "markdown",
   "metadata": {},
   "source": [
    "**(7)** Ajouter un paramètre d'entrée supplémentaire `angle` pour la fonction `dessiner`, pour pouvoir choisir l'angle de la rotation du tracé vers la gauche ou la droite."
   ]
  },
  {
   "cell_type": "code",
   "execution_count": 11,
   "metadata": {},
   "outputs": [],
   "source": [
    "def dessiner(mot, regles, n, longueur, angle):\n",
    "    \"\"\"\n",
    "    Dessine dans une fenêtre la figure correspondant à un mot modifié sur n générations par un certain nombre de règles.\n",
    "    - Entrées : mot (chaîne de caractères initiale),\n",
    "                regles (dictionnaire sont les clés sont des caractères et les valeurs associées des chaînes),\n",
    "                n (entier, nombre de générations),\n",
    "                longueur (entier, taille en pixels des segments à tracer),\n",
    "                angle (entier, angle en degrés pour les rotations à gauche ou à droite)\n",
    "    - Effet de bord : affichage dans une fenêtre Turtle\n",
    "    \"\"\"\n",
    "    fenetre = t.Screen()\n",
    "    fenetre.tracer(0)\n",
    "    t.TurtleScreen._RUNNING = True\n",
    "    t.hideturtle()\n",
    "    mot = generer(mot, regles, n)\n",
    "    for lettre in mot:\n",
    "        if lettre == '+':\n",
    "            t.left(angle)\n",
    "        elif lettre == '-':\n",
    "            t.right(angle)\n",
    "        elif lettre in 'DFG':\n",
    "            t.forward(longueur)\n",
    "    fenetre.update()\n",
    "    fenetre.exitonclick()"
   ]
  },
  {
   "cell_type": "markdown",
   "metadata": {},
   "source": [
    "**(8)** Dessiner la troisième génération obtenue à partir de `'+F--F--F'` en remplaçant à chaque génération `'F'` par `'F+F--F+F'`. Les segments affichés seront de longueur 10 pixels et l'angle de rotation de 60°."
   ]
  },
  {
   "cell_type": "code",
   "execution_count": 12,
   "metadata": {},
   "outputs": [],
   "source": [
    "dessiner('+F--F--F', {'F' : 'F+F--F+F'}, 3, 10, 60)"
   ]
  },
  {
   "cell_type": "markdown",
   "metadata": {},
   "source": [
    "<img src='Images/l_syst_0_2.png' width='40%'>"
   ]
  },
  {
   "cell_type": "markdown",
   "metadata": {},
   "source": [
    "<div style='background-color: #ffc154;\n",
    "    border-radius: 0.5em;\n",
    "    padding: 1em;'>\n",
    "    <h2>Améliorations</h2>\n",
    "</div>"
   ]
  },
  {
   "cell_type": "markdown",
   "metadata": {},
   "source": [
    "En plus des symboles `'F'`, `'G'`, `'D'`, `'+'` et `'-'`, on souhaite pouvoir utiliser le symbole `'f'` qui fait avancer le stylo (d'une certaine `longueur`) sans dessiner de segment.\n",
    "\n",
    "**(9)** Modifier en conséquence la définition de la fonction `dessiner`."
   ]
  },
  {
   "cell_type": "code",
   "execution_count": 13,
   "metadata": {},
   "outputs": [],
   "source": [
    "def dessiner(mot, regles, n, longueur, angle):\n",
    "    \"\"\"\n",
    "    Dessine dans une fenêtre la figure correspondant à un mot modifié sur n générations par un certain nombre de règles.\n",
    "    - Entrées : mot (chaîne de caractères initiale),\n",
    "                regles (dictionnaire sont les clés sont des caractères et les valeurs associées des chaînes),\n",
    "                n (entier, nombre de générations),\n",
    "                longueur (entier, taille en pixels des segments à tracer),\n",
    "                angle (entier, angle en degrés pour les rotations à gauche ou à droite)\n",
    "    - Effet de bord : affichage dans une fenêtre Turtle\n",
    "    \"\"\"\n",
    "    fenetre = t.Screen()\n",
    "    fenetre.tracer(0)\n",
    "    t.TurtleScreen._RUNNING = True\n",
    "    t.hideturtle()\n",
    "    mot = generer(mot, regles, n)\n",
    "    for lettre in mot:\n",
    "        if lettre == '+':\n",
    "            t.left(angle)\n",
    "        elif lettre == '-':\n",
    "            t.right(angle)\n",
    "        elif lettre in 'DFG':\n",
    "            t.forward(longueur)\n",
    "        elif lettre == 'f':\n",
    "            t.up()\n",
    "            t.forward(longueur)\n",
    "            t.down()\n",
    "    fenetre.update()\n",
    "    fenetre.exitonclick()"
   ]
  },
  {
   "cell_type": "markdown",
   "metadata": {},
   "source": [
    "**(10)** Dessiner la deuxième génération obtenue à partir de `'F+F+F+F+'` en remplaçant à chaque génération `'F'` par `'F+f-FF+F+FF+Ff+FF-f+FF-F-FF-Ff-FFF'` et `'f'` par `'ffffff'`. Les segments affichés seront de longueur 6 pixels et l'angle de rotation de 90°."
   ]
  },
  {
   "cell_type": "code",
   "execution_count": 14,
   "metadata": {},
   "outputs": [],
   "source": [
    "dessiner('F+F+F+F+', {'f' : 'ffffff', 'F' : 'F+f-FF+F+FF+Ff+FF-f+FF-F-FF-Ff-FFF'}, 2, 6, 90)"
   ]
  },
  {
   "cell_type": "markdown",
   "metadata": {},
   "source": [
    "<img src='Images/l_syst_0_3.png' width='40%'>"
   ]
  },
  {
   "cell_type": "markdown",
   "metadata": {},
   "source": [
    "On souhaite désormais pouvoir utiliser les symboles `'['` et `']'` qui permettent :\n",
    "- pour `'['`, d'ajouter dans une pile l'état courant du stylo (sa position et son orientation),\n",
    "- pour `']'`, de placer le stylo (position et orientation) dans l'état récupéré dans la pile.\n",
    "\n",
    "On donne les deux fonctions `recuperer_position_stylo` et `attribuer_position_stylo`."
   ]
  },
  {
   "cell_type": "code",
   "execution_count": 15,
   "metadata": {},
   "outputs": [],
   "source": [
    "def recuperer_position_stylo():\n",
    "    \"\"\"\n",
    "    Détermine l'état courant du stylo (position et orientation).\n",
    "    - Sortie : (dictionnaire dont les clés sont 'pos' (position du stylo) et 'orient' (orientation du stylo))\n",
    "    \"\"\"\n",
    "    return {'pos' : t.position(), 'orient' : t.heading()}\n",
    "\n",
    "def attribuer_position_stylo(dico):\n",
    "    \"\"\"\n",
    "    Place le stylo à une position donnée avec une orientation donnée.\n",
    "    - Entrée : dico (dictionnaire dont les clés sont 'pos' (position du stylo) et 'orient' (orientation du stylo))\n",
    "    - Effet de bord : modification de la position et de l'orientation du stylo\n",
    "    \"\"\"\n",
    "    t.up()\n",
    "    t.setposition(dico['pos'])\n",
    "    t.setheading(dico['orient'])\n",
    "    t.down()"
   ]
  },
  {
   "cell_type": "markdown",
   "metadata": {},
   "source": [
    "**(11)** Modifier la définition de la fonction `dessiner` pour permettre de gérer les caractères `'['` et `']'`."
   ]
  },
  {
   "cell_type": "code",
   "execution_count": 17,
   "metadata": {},
   "outputs": [],
   "source": [
    "from structures_lineaires import Pile"
   ]
  },
  {
   "cell_type": "code",
   "execution_count": 18,
   "metadata": {},
   "outputs": [],
   "source": [
    "def dessiner(mot, regles, n, longueur, angle):\n",
    "    \"\"\"\n",
    "    Dessine dans une fenêtre la figure correspondant à un mot modifié sur n générations par un certain nombre de règles.\n",
    "    - Entrées : mot (chaîne de caractères initiale),\n",
    "                regles (dictionnaire sont les clés sont des caractères et les valeurs associées des chaînes),\n",
    "                n (entier, nombre de générations),\n",
    "                longueur (entier, taille en pixels des segments à tracer),\n",
    "                angle (entier, angle en degrés pour les rotations à gauche ou à droite)\n",
    "    - Effet de bord : affichage dans une fenêtre Turtle\n",
    "    \"\"\"\n",
    "    fenetre = t.Screen()\n",
    "    fenetre.tracer(0)\n",
    "    t.TurtleScreen._RUNNING = True\n",
    "    t.hideturtle()\n",
    "    mot = generer(mot, regles, n)\n",
    "    p = Pile()\n",
    "    for lettre in mot:\n",
    "        if lettre == '+':\n",
    "            t.left(angle)\n",
    "        elif lettre == '-':\n",
    "            t.right(angle)\n",
    "        elif lettre in 'DFG':\n",
    "            t.forward(longueur)\n",
    "        elif lettre == 'f':\n",
    "            t.up()\n",
    "            t.forward(longueur)\n",
    "            t.down()\n",
    "        elif lettre == '[':\n",
    "            p.empiler(recuperer_position_stylo())\n",
    "        elif lettre == ']':\n",
    "            attribuer_position_stylo(p.depiler())\n",
    "    fenetre.update()\n",
    "    fenetre.exitonclick()"
   ]
  },
  {
   "cell_type": "markdown",
   "metadata": {},
   "source": [
    "**(12)** Dessiner la quatrième génération obtenue à partir de `'F'` en remplaçant à chaque génération `'F'` par `'FF-[-F+F+F]+[+F-F-F]'`. Les segments affichés seront de longueur 6 pixels et l'angle de rotation de 22,5°."
   ]
  },
  {
   "cell_type": "code",
   "execution_count": 19,
   "metadata": {},
   "outputs": [],
   "source": [
    "dessiner('F', {'F' : 'FF-[-F+F+F]+[+F-F-F]'}, 4, 6, 22.5)"
   ]
  },
  {
   "cell_type": "markdown",
   "metadata": {},
   "source": [
    "**(13)** Modifier la définition de la fonction `dessiner` pour permettre de passer en paramètres une position initiale et une orientation initale pour le stylo."
   ]
  },
  {
   "cell_type": "code",
   "execution_count": 20,
   "metadata": {},
   "outputs": [],
   "source": [
    "def dessiner(mot, regles, n, longueur, angle, init):\n",
    "    \"\"\"\n",
    "    Dessine dans une fenêtre la figure correspondant à un mot modifié sur n générations par un certain nombre de règles.\n",
    "    - Entrées : mot (chaîne de caractères initiale),\n",
    "                regles (dictionnaire sont les clés sont des caractères et les valeurs associées des chaînes),\n",
    "                n (entier, nombre de générations),\n",
    "                longueur (entier, taille en pixels des segments à tracer),\n",
    "                angle (entier, angle en degrés pour les rotations à gauche ou à droite),\n",
    "                init (dictionnaire dont les clés sont 'pos' (position du stylo) et 'orient' (orientation du stylo))\n",
    "    - Effet de bord : affichage dans une fenêtre Turtle\n",
    "    \"\"\"\n",
    "    fenetre = t.Screen()\n",
    "    fenetre.tracer(0)\n",
    "    t.TurtleScreen._RUNNING = True\n",
    "    t.hideturtle()\n",
    "    attribuer_position_stylo(init)\n",
    "    mot = generer(mot, regles, n)\n",
    "    p = Pile()\n",
    "    for lettre in mot:\n",
    "        if lettre == '+':\n",
    "            t.left(angle)\n",
    "        elif lettre == '-':\n",
    "            t.right(angle)\n",
    "        elif lettre in 'DFG':\n",
    "            t.forward(longueur)\n",
    "        elif lettre == 'f':\n",
    "            t.up()\n",
    "            t.forward(longueur)\n",
    "            t.down()\n",
    "        elif lettre == '[':\n",
    "            p.empiler(recuperer_position_stylo())\n",
    "        elif lettre == ']':\n",
    "            attribuer_position_stylo(p.depiler())\n",
    "    fenetre.update()\n",
    "    fenetre.exitonclick()"
   ]
  },
  {
   "cell_type": "code",
   "execution_count": 21,
   "metadata": {},
   "outputs": [],
   "source": [
    "dessiner('F', {'F' : 'FF-[-F+F+F]+[+F-F-F]'}, 4, 6, 22.5, {'pos' : (0, -150), 'orient' : 90})"
   ]
  },
  {
   "cell_type": "markdown",
   "metadata": {},
   "source": [
    "<img src='Images/l_syst_0_4.png' width='30%'>"
   ]
  },
  {
   "cell_type": "markdown",
   "metadata": {},
   "source": [
    "<div style='background-color: #ffc154;\n",
    "    border-radius: 0.5em;\n",
    "    padding: 1em;'>\n",
    "    <h2>Définition d'une classe</h2>\n",
    "</div>"
   ]
  },
  {
   "cell_type": "markdown",
   "metadata": {},
   "source": [
    "**(14)** Définir une classe `LSyst` dont les instances possèdent les attributs :\n",
    "- `axiome` (chaîne de caractères initiale),\n",
    "- `regles` (dictionnaire permettant de définir les règles d'évolution au cours des générations),\n",
    "- `longueur` (nombre, longueur des segments pour la génération 0),\n",
    "- `coeff` (flottant, coefficient multiplicateur des longueurs de segment lors du passage d'une génération à la suivante),\n",
    "- `angle` (nombre, angle des rotations),\n",
    "- `etapes` (entier, nombre de générations à effectuer),\n",
    "- `init` (dictionnaire possédant une clé `'pos'` associée à une valeur `(x, y)` pour la position initiale du stylo, et une clé `orient` associée à une valeur numérique pour l'angle initial du stylo par rapport à l'horizontale).\n",
    "\n",
    "Tous ces attributs seront passés en paramètre du constructeur, sous forme d'un dictionnaire tel que :"
   ]
  },
  {
   "cell_type": "code",
   "execution_count": 22,
   "metadata": {},
   "outputs": [],
   "source": [
    "mon_dico = {'axiome' : 'D', 'règles' : {'G' : 'D+G+D', 'D' : 'G-D-G'}, 'longueur' : 512, 'coeff' : 1/2,\n",
    "        'angle' : 60, 'étapes' : 6,  'init' : {'pos' : (-256, -210), 'orient' : 0}}"
   ]
  },
  {
   "cell_type": "code",
   "execution_count": 43,
   "metadata": {},
   "outputs": [],
   "source": [
    "class LSyst():\n",
    "    def __init__(self, dico):\n",
    "        self.axiome = dico['axiome']\n",
    "        self.regles = dico['règles']\n",
    "        self.longueur = dico['longueur']\n",
    "        self.coeff = dico['coeff']\n",
    "        self.angle = dico['angle']\n",
    "        self.etapes = dico['étapes']\n",
    "        self.init = dico['init']\n",
    "    \n",
    "    def generer(self):\n",
    "        \"\"\"\n",
    "        Détermine la n-ème génération de l'axiome.\n",
    "        - Sortie : (chaîne de caractères modifiée)\n",
    "        \"\"\"\n",
    "        mot = self.axiome\n",
    "        for _ in range(self.etapes):\n",
    "            nouveau_mot = ''\n",
    "            for lettre in mot:\n",
    "                if lettre in self.regles:\n",
    "                    nouveau_mot += self.regles[lettre]\n",
    "                else:\n",
    "                    nouveau_mot += lettre\n",
    "            mot = nouveau_mot\n",
    "        return mot\n",
    "\n",
    "    def _recuperer_position_stylo(self):\n",
    "        \"\"\"\n",
    "        Détermine l'état courant du stylo (position et orientation).\n",
    "        \"\"\"\n",
    "        return {'pos' : t.position(), 'orient' : t.heading()}\n",
    "    \n",
    "    def _attribuer_position_stylo(self, dico):\n",
    "        \"\"\"\n",
    "        Place le stylo à une position donnée avec une orientation donnée.\n",
    "        \"\"\"\n",
    "        t.up()\n",
    "        t.setposition(dico['pos'])\n",
    "        t.setheading(dico['orient'])\n",
    "        t.down()\n",
    "    \n",
    "    def dessiner(self):\n",
    "        \"\"\"\n",
    "        Dessine dans une fenêtre la figure correspondant à la n-ème génération de l'axiome.\n",
    "        - Effet de bord : affichage dans une fenêtre Turtle\n",
    "        \"\"\"\n",
    "        fenetre = t.Screen()\n",
    "        fenetre.tracer(2)\n",
    "        t.TurtleScreen._RUNNING = True\n",
    "        t.hideturtle()\n",
    "        self._attribuer_position_stylo(self.init)\n",
    "        mot = self.generer()\n",
    "        longueur = self.longueur * self.coeff**self.etapes\n",
    "        p = Pile()\n",
    "        for lettre in mot:\n",
    "            if lettre == '+':\n",
    "                t.left(self.angle)\n",
    "            elif lettre == '-':\n",
    "                t.right(self.angle)\n",
    "            elif lettre in 'DFG':\n",
    "                t.forward(longueur)\n",
    "            elif lettre == 'f':\n",
    "                t.up()\n",
    "                t.forward(longueur)\n",
    "                t.down()\n",
    "            elif lettre == '[':\n",
    "                p.empiler(self._recuperer_position_stylo())\n",
    "            elif lettre == ']':\n",
    "                self._attribuer_position_stylo(p.depiler())\n",
    "        fenetre.update()\n",
    "        fenetre.exitonclick()"
   ]
  },
  {
   "cell_type": "code",
   "execution_count": 51,
   "metadata": {},
   "outputs": [],
   "source": [
    "l_syst = LSyst(dico9)\n",
    "l_syst.dessiner()"
   ]
  },
  {
   "cell_type": "markdown",
   "metadata": {},
   "source": [
    "<div style='background-color: #ffc154;\n",
    "    border-radius: 0.5em;\n",
    "    padding: 1em;'>\n",
    "    <h2>Exemples</h2>\n",
    "</div>"
   ]
  },
  {
   "cell_type": "markdown",
   "metadata": {},
   "source": [
    "**(15)** Voici quelques dictionnaires permettant d'obtenir des dessins sympathiques. Faites preuve d'imagination pour créer les vôtres !"
   ]
  },
  {
   "cell_type": "code",
   "execution_count": 24,
   "metadata": {},
   "outputs": [],
   "source": [
    "dico1 = {'axiome' : 'F+F+F+F+', 'règles' : {'F' : 'F+F-F-F+F'}, 'coeff' : 1/3, 'angle' : 90, 'étapes' : 4,\n",
    "         'longueur' : 486, 'init' : {'pos' : (-243, -243), 'orient' : 0}}"
   ]
  },
  {
   "cell_type": "code",
   "execution_count": 25,
   "metadata": {},
   "outputs": [],
   "source": [
    "dico2 = {'axiome' : 'F+F+F+F+', 'règles' : {'f' : 'ffffff', 'F' : 'F+f-FF+F+FF+Ff+FF-f+FF-F-FF-Ff-FFF'},\n",
    "         'coeff' : 1/6, 'angle' : 90, 'étapes' : 2, 'longueur' : 216,\n",
    "         'init' : {'pos' : (-108, -108), 'orient' : 0}}"
   ]
  },
  {
   "cell_type": "markdown",
   "metadata": {},
   "source": [
    "<table class='sobre'>\n",
    "<tr>\n",
    "    <td><img src='Images/l_syst_1.png'></td>\n",
    "    <td><img src='Images/l_syst_2.png'></td>\n",
    "</tr>\n",
    "</table>"
   ]
  },
  {
   "cell_type": "code",
   "execution_count": 26,
   "metadata": {},
   "outputs": [],
   "source": [
    "dico3 = {'axiome' : 'G', 'règles' : {'G' : '+G--D+', 'D' : '-G++D-'}, 'coeff' : 2**0.5 / 2, 'angle' : 45,\n",
    "          'étapes' : 12, 'longueur' : 300, 'init' : {'pos' : (-120, -50), 'orient' : 0}}"
   ]
  },
  {
   "cell_type": "code",
   "execution_count": 42,
   "metadata": {},
   "outputs": [],
   "source": [
    "dico4 = {'axiome' : 'D', 'règles' : {'G' : 'D+G+D', 'D' : 'G-D-G'}, 'coeff' : 1/2, 'angle' : 60, 'étapes' : 6,\n",
    "          'longueur' : 512, 'init' : {'pos' : (-256, -210), 'orient' : 0}}"
   ]
  },
  {
   "cell_type": "markdown",
   "metadata": {},
   "source": [
    "<table class='sobre'>\n",
    "<tr>\n",
    "    <td><img src='Images/l_syst_3.png'></td>\n",
    "    <td><img src='Images/l_syst_4.png'></td>\n",
    "</tr>\n",
    "</table>"
   ]
  },
  {
   "cell_type": "code",
   "execution_count": 28,
   "metadata": {},
   "outputs": [],
   "source": [
    "dico5 = {'axiome' : 'G', 'règles' : {'G' : 'G+D++D-G--GG-D+', 'D' : '-G+DD++D+G--G-D'}, 'coeff' : 1/3,\n",
    "          'angle' : 60, 'étapes' : 4, 'longueur' : 486, 'init' : {'pos' : (40, -160), 'orient' : 0}}"
   ]
  },
  {
   "cell_type": "code",
   "execution_count": 29,
   "metadata": {},
   "outputs": [],
   "source": [
    "dico6 = {'axiome' : 'D', 'règles' : {'G' : 'GG-D-D+G+G-D-DG+D+GGD-G+D+GG+D-GD-D-G+G+DD-',\n",
    "                                      'D' : '+GG-D-D+G+GD+G-DD-G-D+GDD-G-DG+G+D-D-G+G+DD'},\n",
    "          'coeff' : 1/5, 'angle' : 90, 'étapes' : 2, 'longueur' : 375,\n",
    "          'init' : {'pos' : (-187, -187), 'orient' : 0}}"
   ]
  },
  {
   "cell_type": "markdown",
   "metadata": {},
   "source": [
    "<table class='sobre'>\n",
    "<tr>\n",
    "    <td><img src='Images/l_syst_5.png'></td>\n",
    "    <td><img src='Images/l_syst_6.png'></td>\n",
    "</tr>\n",
    "</table>"
   ]
  },
  {
   "cell_type": "code",
   "execution_count": 30,
   "metadata": {},
   "outputs": [],
   "source": [
    "dico7 = {'axiome' : 'F', 'règles' : {'F' : 'F[+F]F[-F]F'}, 'coeff' : 1/3, 'angle' : 25.7, 'étapes' : 5,\n",
    "          'longueur' : 500, 'init' : {'pos' : (0, -250), 'orient' : 90}}"
   ]
  },
  {
   "cell_type": "code",
   "execution_count": 31,
   "metadata": {},
   "outputs": [],
   "source": [
    "dico8 = {'axiome' : 'X', 'règles' : {'X' : 'F-[[X]+X]+F[+FX]-X', 'F' : 'FF'}, 'coeff' : 1/2, 'angle' : 22.5,\n",
    "          'étapes' : 5, 'longueur' : 200, 'init' : {'pos' : (0, -250), 'orient' : 90}}"
   ]
  },
  {
   "cell_type": "markdown",
   "metadata": {},
   "source": [
    "<table class='sobre'>\n",
    "<tr>\n",
    "    <td><img src='Images/l_syst_7.png'></td>\n",
    "    <td><img src='Images/l_syst_8.png'></td>\n",
    "</tr>\n",
    "</table>"
   ]
  }
 ],
 "metadata": {
  "kernelspec": {
   "display_name": "Python 3",
   "language": "python",
   "name": "python3"
  },
  "language_info": {
   "codemirror_mode": {
    "name": "ipython",
    "version": 3
   },
   "file_extension": ".py",
   "mimetype": "text/x-python",
   "name": "python",
   "nbconvert_exporter": "python",
   "pygments_lexer": "ipython3",
   "version": "3.8.8"
  }
 },
 "nbformat": 4,
 "nbformat_minor": 4
}
