{
 "cells": [
  {
   "cell_type": "markdown",
   "metadata": {},
   "source": [
    "# Activité : Les immeubles aléatoires"
   ]
  },
  {
   "cell_type": "markdown",
   "metadata": {},
   "source": [
    "L'objectif est de dessiner des immeubles dont la couleur, le nombre d'étages, la position et la couleur de la porte, le type de fenêtre et le type de toit sont aléatoires. Voici des exemples de dessins attendus :"
   ]
  },
  {
   "cell_type": "markdown",
   "metadata": {},
   "source": [
    "<img src='https://ntoulzac.github.io/Cours-NSI-Terminale/devoirs/images/immeubles_alea.gif'>"
   ]
  },
  {
   "cell_type": "markdown",
   "metadata": {},
   "source": [
    "## Contraintes sur le dessin"
   ]
  },
  {
   "cell_type": "markdown",
   "metadata": {},
   "source": [
    "Les contraintes à respecter **obligatoirement** sont les suivantes :\n",
    "- Le dessin est composé de 4 immeubles côte à côte.\n",
    "- Chaque immeuble est composé d'un rez-de-chaussée et d'un nombre d'étages compris entre 0 et 4.\n",
    "- Chaque immeuble dispose d'une porte et deux fenêtres au rez-de-chaussée et de trois fenêtres à chaque étage.\n",
    "- Chaque étage mesure 140 pixels de large et 60 pixels de haut.\n",
    "- Chaque porte et chaque fenêtre mesurent 30 pixels de large.\n",
    "- La couleur de l'immeuble est choisie aléatoirement.\n",
    "- Deux types de fenêtres sont possibles, sauf pour le rez-de-chaussée : fenêtre simple ou porte-fenêtre avec balcon.\n",
    "\n",
    "Les contraintes à respecter **facultativement** sont les suivantes :\n",
    "- Deux types de portes sont possibles : porte carrée ou porte arrondie. Leur couleur est aléatoire.\n",
    "- Trois types de toits sont possibles : toit pentu, toit plat ou toit plat avec balustrade."
   ]
  },
  {
   "cell_type": "markdown",
   "metadata": {},
   "source": [
    "## Contraintes sur le code"
   ]
  },
  {
   "cell_type": "markdown",
   "metadata": {},
   "source": [
    "Les contraintes à respecter **obligatoirement** sont les suivantes :\n",
    "- Le dessin est réalisé uniquement à l'aide de concepts étudiés en classe de Première.\n",
    "- Le dessin est réalisé grâce aux procédures du module ``turtle``.\n",
    "- Le code est découpé en fonctions et procédures, et leur spécification apparaît clairement.\n",
    "- Le code est commenté lorsque c'est nécessaire.\n",
    "- Le code se limite à 120 lignes maximum (sans tricher !)."
   ]
  },
  {
   "cell_type": "markdown",
   "metadata": {},
   "source": [
    "## Code produit"
   ]
  },
  {
   "cell_type": "code",
   "execution_count": 1,
   "metadata": {},
   "outputs": [],
   "source": [
    "import turtle"
   ]
  }
 ],
 "metadata": {
  "kernelspec": {
   "display_name": "Python 3",
   "language": "python",
   "name": "python3"
  },
  "language_info": {
   "codemirror_mode": {
    "name": "ipython",
    "version": 3
   },
   "file_extension": ".py",
   "mimetype": "text/x-python",
   "name": "python",
   "nbconvert_exporter": "python",
   "pygments_lexer": "ipython3",
   "version": "3.8.5"
  }
 },
 "nbformat": 4,
 "nbformat_minor": 4
}
