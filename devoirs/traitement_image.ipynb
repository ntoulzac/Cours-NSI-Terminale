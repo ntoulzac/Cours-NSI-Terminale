{
 "cells": [
  {
   "cell_type": "markdown",
   "metadata": {},
   "source": [
    "<div style='background-color: #ffc154;\n",
    "    border: 0.5em solid black;\n",
    "    border-radius: 0.5em;\n",
    "    padding: 1em;'>\n",
    "    <h2>Devoir maison</h2>\n",
    "    <h1>Traitement d'une image</h1>\n",
    "</div>"
   ]
  },
  {
   "cell_type": "markdown",
   "metadata": {},
   "source": [
    "L'objectif de ce devoir est de travailler sur une image grâce au module `PIL`, qui peut être installé en exécutant la cellule suivante."
   ]
  },
  {
   "cell_type": "code",
   "execution_count": null,
   "metadata": {},
   "outputs": [],
   "source": [
    "import sys\n",
    "!{sys.executable} -m pip install Pillow"
   ]
  },
  {
   "cell_type": "markdown",
   "metadata": {},
   "source": [
    "On peut importer la classe `Image` du module `PIL` en exécutant la cellule suivante."
   ]
  },
  {
   "cell_type": "code",
   "execution_count": null,
   "metadata": {},
   "outputs": [],
   "source": [
    "from PIL import Image"
   ]
  },
  {
   "cell_type": "markdown",
   "metadata": {},
   "source": [
    "### Chargement et enregistrement d'une image\n",
    "\n",
    "**(1)** Après avoir testé la fonction `charger_image` et la procédure `enregistrer_image`, écrire leur spécification."
   ]
  },
  {
   "cell_type": "code",
   "execution_count": null,
   "metadata": {},
   "outputs": [],
   "source": [
    "import requests\n",
    "\n",
    "def charger_image(url):\n",
    "    \"\"\"\n",
    "    Spécification à écrire...\n",
    "    \"\"\"\n",
    "    image = Image.open(requests.get(url, stream=True).raw)\n",
    "    image = image.convert(mode='RGB')\n",
    "    return image\n",
    "\n",
    "def enregistrer_image(image, nom_fichier):\n",
    "    \"\"\"\n",
    "    Spécification à écrire...\n",
    "    \"\"\"\n",
    "    image.save(nom_fichier)"
   ]
  },
  {
   "cell_type": "code",
   "execution_count": null,
   "metadata": {},
   "outputs": [],
   "source": [
    "homer = charger_image('https://ntoulzac.github.io/Cours-NSI-Terminale/devoirs/images/homer.png')"
   ]
  },
  {
   "cell_type": "code",
   "execution_count": null,
   "metadata": {},
   "outputs": [],
   "source": [
    "homer # Affichage de l'image"
   ]
  },
  {
   "cell_type": "code",
   "execution_count": null,
   "metadata": {},
   "outputs": [],
   "source": [
    "enregistrer_image(homer, 'homer.png')"
   ]
  },
  {
   "cell_type": "markdown",
   "metadata": {},
   "source": [
    "### Détermination et modification de la couleur d'un pixel\n",
    "\n",
    "On donne la fonction `couleur_est_exactement` définie dans la cellule suivante."
   ]
  },
  {
   "cell_type": "code",
   "execution_count": null,
   "metadata": {},
   "outputs": [],
   "source": [
    "def couleur_est_exactement(image, x, y, coul):\n",
    "    \"\"\"\n",
    "    Détermine si un pixel d'une image est d'une couleur donnée.\n",
    "    - Entrées : image (instance de la classe Image),\n",
    "                x, y (entiers),\n",
    "                coul (p-uplet d'entiers au format (R, V, B))\n",
    "    - Sortie : (booléen)\n",
    "    \"\"\"\n",
    "    return image.getpixel((x, y)) == coul"
   ]
  },
  {
   "cell_type": "markdown",
   "metadata": {},
   "source": [
    "**(2)** Déterminer à quel p-uplet d'entiers est associée chacune des couleurs ci-dessous."
   ]
  },
  {
   "cell_type": "code",
   "execution_count": null,
   "metadata": {},
   "outputs": [],
   "source": [
    "BLANC = ......\n",
    "NOIR = ......\n",
    "ROUGE = ......\n",
    "JAUNE = ...... # couleur des personnages de la série Les Simpsons"
   ]
  },
  {
   "cell_type": "markdown",
   "metadata": {},
   "source": [
    "**(3)** Écrire des lignes de code qui permettent de compter le nombre de pixels blancs contenus dans l'image `homer`.\n",
    "\n",
    "_Remarque :_ Les dimensions d'une image sont accessibles via `image.width` pour sa largeur et `image.height` pour sa hauteur."
   ]
  },
  {
   "cell_type": "code",
   "execution_count": null,
   "metadata": {},
   "outputs": [],
   "source": []
  },
  {
   "cell_type": "markdown",
   "metadata": {},
   "source": [
    "**(4)** Après avoir testé la fonction `colorer_pixel`, écrire sa spécification."
   ]
  },
  {
   "cell_type": "code",
   "execution_count": null,
   "metadata": {},
   "outputs": [],
   "source": [
    "def colorer_pixel(image, x, y, coul):\n",
    "    \"\"\"\n",
    "    Spécification à écrire...\n",
    "    \"\"\"\n",
    "    image.putpixel((x, y), coul)\n",
    "    return image"
   ]
  },
  {
   "cell_type": "code",
   "execution_count": null,
   "metadata": {},
   "outputs": [],
   "source": [
    "ROUGE = (255, 0, 0)\n",
    "for x in range(30):\n",
    "    for y in range(20):\n",
    "        homer = colorer_pixel(homer, x, y, ROUGE)"
   ]
  },
  {
   "cell_type": "code",
   "execution_count": null,
   "metadata": {},
   "outputs": [],
   "source": [
    "homer # Affichage de l'image"
   ]
  },
  {
   "cell_type": "markdown",
   "metadata": {},
   "source": [
    "### Coloriage récursif d'une zone\n",
    "\n",
    "On souhaite maintenant pouvoir colorer une zone de l'image délimitée par des pixels noirs, par exemple le bout du doigt d'Homer.\n",
    "\n",
    "**(5)** Quel est le rôle des deux lignes de code ci-dessous ?"
   ]
  },
  {
   "cell_type": "code",
   "execution_count": null,
   "metadata": {},
   "outputs": [],
   "source": [
    "from sys import setrecursionlimit\n",
    "setrecursionlimit(20000)"
   ]
  },
  {
   "cell_type": "markdown",
   "metadata": {},
   "source": [
    "**(6)** Compléter la définition de la fonction récursive `remplir`."
   ]
  },
  {
   "cell_type": "code",
   "execution_count": null,
   "metadata": {},
   "outputs": [],
   "source": [
    "def remplir(......):\n",
    "    \"\"\"\n",
    "    Colore la zone de l'image composée de pixels blancs et contenant le pixel de coordonnées (x, y).\n",
    "    - Entrées : image (instance de la classe Image),\n",
    "                x, y (entiers),\n",
    "                coul (p-uplet d'entiers au format (R, V, B))\n",
    "    - Sortie : image (instance de la classe Image)\n",
    "    \"\"\"\n",
    "    if couleur_est_exactement(......, BLANC):\n",
    "        image = colorer_pixel(......)\n",
    "        if x > 0:\n",
    "            image = remplir(image, x-1, y, coul)\n",
    "        if x < image.width - 1:\n",
    "            image = ......\n",
    "        if ......:\n",
    "            image = ......\n",
    "        if ......:\n",
    "            image = ......\n",
    "    return ......"
   ]
  },
  {
   "cell_type": "markdown",
   "metadata": {},
   "source": [
    "Les deux cellules suivantes permet de tester la fonction `remplir`."
   ]
  },
  {
   "cell_type": "code",
   "execution_count": null,
   "metadata": {},
   "outputs": [],
   "source": [
    "homer = charger_image('https://ntoulzac.github.io/Cours-NSI-Terminale/devoirs/images/homer.png')\n",
    "homer = remplir(homer, 50, 100, JAUNE)"
   ]
  },
  {
   "cell_type": "code",
   "execution_count": null,
   "metadata": {},
   "outputs": [],
   "source": [
    "homer # Affichage de l'image"
   ]
  },
  {
   "cell_type": "markdown",
   "metadata": {},
   "source": [
    "<div style='background-color: #ffc154;\n",
    "    border-radius: 0.5em;\n",
    "    padding: 1em;'>\n",
    "    <h2>Pour aller plus loin...</h2>\n",
    "</div>"
   ]
  },
  {
   "cell_type": "markdown",
   "metadata": {},
   "source": [
    "On souhaite désormais pouvoir redimensionner une image prise sur internet ainsi que pouvoir la transformer en image noir et blanc.\n",
    "\n",
    "### Redimensionnement\n",
    "\n",
    "**(7)** Après avoir consulté la [documentation](https://pillow.readthedocs.io/en/stable/reference/Image.html) du module `PIL.Image`, définir une fonction `redimensionner` qui prend en paramètres d'entrée une `image` et un flottant strictement positif `coeff` et qui renvoie la `nouvelle_image` obtenue en multipliant par `coeff` la largeur et la hauteur de l'`image` initiale.\n",
    "\n",
    "Par exemple, `redimensionner(image, 0.5)` doit renvoyer l'image obtenue en divisant par 2 les dimensions de `image`."
   ]
  },
  {
   "cell_type": "code",
   "execution_count": null,
   "metadata": {},
   "outputs": [],
   "source": [
    "def redimensionner(image, coeff):\n",
    "    \"\"\"\n",
    "    Applique à une image un coefficient de redimensionnement.\n",
    "    - Entrées : image (instance de la classe Image),\n",
    "                coefficient (flottant strictement positif)\n",
    "    - Sortie : nouvelle_image (instance de la classe Image)\n",
    "    \"\"\"\n",
    "    ......"
   ]
  },
  {
   "cell_type": "code",
   "execution_count": null,
   "metadata": {},
   "outputs": [],
   "source": [
    "lisa = charger_image('https://ntoulzac.github.io/Cours-NSI-Terminale/devoirs/images/lisa.png')"
   ]
  },
  {
   "cell_type": "code",
   "execution_count": null,
   "metadata": {},
   "outputs": [],
   "source": [
    "lisa # Affichage de l'image"
   ]
  },
  {
   "cell_type": "code",
   "execution_count": null,
   "metadata": {},
   "outputs": [],
   "source": [
    "lisa = redimensionner(lisa, 0.5)"
   ]
  },
  {
   "cell_type": "code",
   "execution_count": null,
   "metadata": {},
   "outputs": [],
   "source": [
    "lisa # Affichage de l'image"
   ]
  },
  {
   "cell_type": "markdown",
   "metadata": {},
   "source": [
    "### Passage d'une image en noir et blanc\n",
    "\n",
    "**(8)** Écrire la spécification de la fonction `couleur_est_presque`."
   ]
  },
  {
   "cell_type": "code",
   "execution_count": null,
   "metadata": {},
   "outputs": [],
   "source": [
    "def distance(coul1, coul2):\n",
    "    \"\"\"\n",
    "    Détermine la \"distance\" entre deux couleurs.\n",
    "    - Entrées : coul1, coul2 (p-uplets d'entiers au format (R, V, B))\n",
    "    - Sortie : dist (flottant)\n",
    "    \"\"\"\n",
    "    r = (coul1[0] + coul2[0]) / 2\n",
    "    delta_R = coul1[0] - coul2[0]\n",
    "    delta_G = coul1[1] - coul2[1]\n",
    "    delta_B = coul1[2] - coul2[2]\n",
    "    dist = ((2 + r/256)*(delta_R)**2 + 4*(delta_G)**2 + (2 + (255 - r)/256)*(delta_B)**2)**0.5\n",
    "    return dist\n",
    "\n",
    "def couleur_est_presque(image, x, y, coul):\n",
    "    \"\"\"\n",
    "    Spécification à écrire...\n",
    "    \"\"\"\n",
    "    return distance(image.getpixel((x, y)), coul) < 300"
   ]
  },
  {
   "cell_type": "markdown",
   "metadata": {},
   "source": [
    "**(9)** Définir la fonction `noir_et_blanc` conformément à sa spécification."
   ]
  },
  {
   "cell_type": "code",
   "execution_count": null,
   "metadata": {
    "code_folding": []
   },
   "outputs": [],
   "source": [
    "def noir_et_blanc(image):\n",
    "    \"\"\"\n",
    "    Transforme une image en image en noir et blanc : les pixels \"presque\" noirs sont transformés\n",
    "    en pixels noirs, les autres sont transformés en pixels blancs.\n",
    "    - Entrées : nouvelle_image (instance de la classe Image)\n",
    "    - Sortie : nouvelle_image (instance de la classe Image)\n",
    "    \"\"\"\n",
    "    ......"
   ]
  },
  {
   "cell_type": "code",
   "execution_count": null,
   "metadata": {},
   "outputs": [],
   "source": [
    "lisa = charger_image('https://ntoulzac.github.io/Cours-NSI-Terminale/devoirs/images/lisa.png')\n",
    "lisa = noir_et_blanc(lisa)"
   ]
  },
  {
   "cell_type": "code",
   "execution_count": null,
   "metadata": {},
   "outputs": [],
   "source": [
    "lisa # Affichage de l'image"
   ]
  },
  {
   "cell_type": "markdown",
   "metadata": {},
   "source": [
    "### Définition d'une classe\n",
    "\n",
    "**(10)** Définir une classe `MonImage` dont les instances possèdent :\n",
    "- les attributs :\n",
    "    - `im` (instance de la classe Image importée du module PIL),\n",
    "    - `larg`, `haut` (entiers, largeur et hauteur de l'image en pixels),\n",
    "- les méthodes :\n",
    "    - `__init__` (ouvre une image depuis une url et initialise les attributs `larg` et `haut`),\n",
    "    - `enregistrer` (enregistre l'image dans un fichier dont le nom est passé en argument),\n",
    "    - `remplir` (colore la zone de l'image composée de pixels blancs et contenant le pixel de coordonnées (x, y)),\n",
    "    - `redimensionner` (modifie les dimensions de l'image en leur appliquant un coefficient passé en argument),\n",
    "    - `noir et blanc` (transforme l'image en une image en noir et blanc)."
   ]
  },
  {
   "cell_type": "code",
   "execution_count": null,
   "metadata": {},
   "outputs": [],
   "source": []
  },
  {
   "cell_type": "markdown",
   "metadata": {},
   "source": [
    "**(11)** Écrire des lignes de code permettant de :\n",
    "- charger l'image à l'adresse `https://ntoulzac.github.io/Cours-NSI-Terminale/devoirs/images/lisa.png`,\n",
    "- réduire de 20% les dimensions de l'image,\n",
    "- transformer l'image ainsi réduite en image en noir et blanc,\n",
    "- colorer en rouge la zone de pixels blancs autour du pixel de coordonnées `(150, 40)`,\n",
    "- enregistrer enfin l'image obtenue dans un fichier `lisapple.png`."
   ]
  },
  {
   "cell_type": "code",
   "execution_count": null,
   "metadata": {},
   "outputs": [],
   "source": []
  }
 ],
 "metadata": {
  "kernelspec": {
   "display_name": "Python 3",
   "language": "python",
   "name": "python3"
  },
  "language_info": {
   "codemirror_mode": {
    "name": "ipython",
    "version": 3
   },
   "file_extension": ".py",
   "mimetype": "text/x-python",
   "name": "python",
   "nbconvert_exporter": "python",
   "pygments_lexer": "ipython3",
   "version": "3.8.5"
  }
 },
 "nbformat": 4,
 "nbformat_minor": 5
}
