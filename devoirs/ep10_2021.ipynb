{
 "cells": [
  {
   "cell_type": "markdown",
   "metadata": {},
   "source": [
    "<div style='background-color: #34c924;\n",
    "    border: 0.5em solid black;\n",
    "    border-radius: 0.5em;\n",
    "    padding: 1em;'>\n",
    "    <h2>Épreuve pratique</h2>\n",
    "    <h1>Sujet 2021_10</h1>\n",
    "</div>"
   ]
  },
  {
   "cell_type": "markdown",
   "metadata": {},
   "source": [
    "<div style='background-color: #34c924;\n",
    "    border-radius: 0.5em;\n",
    "    padding: 1em;'>\n",
    "    <h2>Exercice 1</h2>\n",
    "</div>"
   ]
  },
  {
   "cell_type": "markdown",
   "metadata": {},
   "source": [
    "Écrire une fonction `maxi` qui prend en paramètre une liste `tab` de nombres entiers et renvoie un couple donnant le plus grand élément de cette liste, ainsi que l’indice de la première apparition de ce maximum dans la liste.\n",
    "\n",
    "Exemple :\n",
    "\n",
    "```python\n",
    ">>> maxi([1, 5, 6, 9, 1, 2, 3, 7, 9, 8])\n",
    "(9, 3)\n",
    "```"
   ]
  },
  {
   "cell_type": "code",
   "execution_count": null,
   "metadata": {},
   "outputs": [],
   "source": [
    "# code de l'exercice 1 ici ..."
   ]
  },
  {
   "cell_type": "markdown",
   "metadata": {},
   "source": [
    "<div style='background-color: #34c924;\n",
    "    border-radius: 0.5em;\n",
    "    padding: 1em;'>\n",
    "    <h2>Exercice 2</h2>\n",
    "</div>"
   ]
  },
  {
   "cell_type": "markdown",
   "metadata": {},
   "source": [
    "Cet exercice utilise des piles qui seront représentées en Python par des listes (type `list`).\n",
    "\n",
    "On rappelle que l’expression `T1 = list(T)` fait une copie de `T` indépendante de `T`, que l’expression `x = T.pop()` enlève le sommet de la pile `T` et le place dans la variable `x` et, enfin, que l’expression `T.append(v)` place la valeur `v` au sommet de la pile `T`.\n",
    "\n",
    "Compléter le code Python de la fonction `positif` ci-dessous qui prend une pile `T` de nombres entiers en paramètre et qui renvoie la pile des entiers positifs dans le même ordre, sans modifier la variable `T`."
   ]
  },
  {
   "cell_type": "code",
   "execution_count": null,
   "metadata": {},
   "outputs": [],
   "source": [
    "def positif(T):\n",
    "    T2 = ...(T)\n",
    "    T3 = ...\n",
    "    while T2 != []:\n",
    "        x = ...\n",
    "        if ... >= 0:\n",
    "            T3.append(...)\n",
    "    T2 = []\n",
    "    while T3 != ...:\n",
    "        x = T3.pop()\n",
    "        ...\n",
    "    print('T = ',T)\n",
    "    return T2"
   ]
  },
  {
   "cell_type": "markdown",
   "metadata": {},
   "source": [
    "Exemple :\n",
    "\n",
    "```python\n",
    ">>> positif([-1, 0, 5, -3, 4, -6, 10, 9, -8])\n",
    "T = [-1, 0, 5, -3, 4, -6, 10, 9, -8]\n",
    "[0, 5, 4, 10, 9]\n",
    "```"
   ]
  },
  {
   "cell_type": "markdown",
   "metadata": {},
   "source": [
    "<div style='background-color: #34c924;\n",
    "    border-radius: 0.5em;\n",
    "    padding: 1em;'>\n",
    "    <h2>Tests</h2>\n",
    "</div>"
   ]
  },
  {
   "cell_type": "code",
   "execution_count": null,
   "metadata": {},
   "outputs": [],
   "source": [
    "assert maxi([1, 5, 6, 9, 1, 2, 3, 7, 9, 8]) == (9, 3)\n",
    "assert maxi([1, 5, 10, 8]) == (10, 2)\n",
    "assert maxi([1, 1, 1, 1, 1, 1]) == (1, 0)\n",
    "print(\"Tests passés avec succès pour l'exercice 1 !\")"
   ]
  },
  {
   "cell_type": "code",
   "execution_count": null,
   "metadata": {},
   "outputs": [],
   "source": [
    "assert positif([-1, 0, 5, -3, 4, -6, 10, 9, -8]) == [0, 5, 4, 10, 9]\n",
    "assert positif([4, -1, -4, 0, -5, -3]) == [4, 0]\n",
    "assert positif([-1, -4, -5, -3]) == []\n",
    "print(\"Tests passés avec succès pour l'exercice 2 !\")"
   ]
  }
 ],
 "metadata": {
  "kernelspec": {
   "display_name": "Python 3",
   "language": "python",
   "name": "python3"
  },
  "language_info": {
   "codemirror_mode": {
    "name": "ipython",
    "version": 3
   },
   "file_extension": ".py",
   "mimetype": "text/x-python",
   "name": "python",
   "nbconvert_exporter": "python",
   "pygments_lexer": "ipython3",
   "version": "3.8.8"
  }
 },
 "nbformat": 4,
 "nbformat_minor": 2
}
