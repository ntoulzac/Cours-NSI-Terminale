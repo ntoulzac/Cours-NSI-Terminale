{
 "cells": [
  {
   "cell_type": "markdown",
   "metadata": {},
   "source": [
    "<div style='background-color: #34c924;\n",
    "    border: 0.5em solid black;\n",
    "    border-radius: 0.5em;\n",
    "    padding: 1em;'>\n",
    "    <h2>Épreuve pratique</h2>\n",
    "    <h1>Sujet 2021_02</h1>\n",
    "</div>"
   ]
  },
  {
   "cell_type": "markdown",
   "metadata": {},
   "source": [
    "<div style='background-color: #34c924;\n",
    "    border-radius: 0.5em;\n",
    "    padding: 1em;'>\n",
    "    <h2>Exercice 1</h2>\n",
    "</div>"
   ]
  },
  {
   "cell_type": "markdown",
   "metadata": {},
   "source": [
    "Programmer la fonction `moyenne` prenant en paramètre un tableau d'entiers `tab` (type `list`) qui renvoie la moyenne de ses éléments si le tableau est non vide et qui renvoie `None` si le tableau est vide.\n",
    "\n",
    "Exemples :\n",
    "```python\n",
    ">>> moyenne([5, 3, 8])\n",
    "5.333333333333333\n",
    ">>> moyenne([1, 2, 3, 4, 5, 6, 7, 8, 9, 10])\n",
    "5.5\n",
    ">>> moyenne([])\n",
    "None\n",
    "```"
   ]
  },
  {
   "cell_type": "code",
   "execution_count": null,
   "metadata": {},
   "outputs": [],
   "source": [
    "# code de l'exercice 1 ici ..."
   ]
  },
  {
   "cell_type": "markdown",
   "metadata": {},
   "source": [
    "<div style='background-color: #34c924;\n",
    "    border-radius: 0.5em;\n",
    "    padding: 1em;'>\n",
    "    <h2>Exercice 2</h2>\n",
    "</div>"
   ]
  },
  {
   "cell_type": "markdown",
   "metadata": {},
   "source": [
    "On considère un tableau d'entiers `tab` (type `list` dont les éléments sont des `0` ou des `1`). On se propose de trier ce tableau selon l'algorithme suivant : à chaque étape du tri, le tableau est constitué de trois zones consécutives, la première ne contenant que des `0`, la seconde n'étant pas triée et la dernière ne contenant que des `1`.\n",
    "\n",
    "<table>\n",
    "    <tr>\n",
    "        <td style=\"padding:1em 2em 1em 2em; border: 1px solid;\">Zone de 0</td>\n",
    "        <td style=\"padding:1em 2em 1em 2em; border: 1px solid;\">Zone non triée</td>\n",
    "        <td style=\"padding:1em 2em 1em 2em; border: 1px solid;\">Zone de 1</td>\n",
    "    </tr>\n",
    "</table>\n",
    "\n",
    "Tant que la zone non triée n'est pas réduite à un seul élément, on regarde son premier élément :\n",
    "- si cet élément vaut `0`, on considère qu'il appartient désormais à la zone ne contenant que des `0` ;\n",
    "- si cet élément vaut `1`, il est échangé avec le dernier élément de la zone non triée et on considère alors qu’il appartient à la zone ne contenant que des `1`.\n",
    "\n",
    "Dans tous les cas, la longueur de la zone non triée diminue de 1.\n",
    "\n",
    "Exemple :\n",
    "```python\n",
    ">>> tri([0, 1, 0, 1, 0, 1, 0, 1, 0])\n",
    "[0, 0, 0, 0, 0, 1, 1, 1, 1]\n",
    "```\n",
    "\n",
    "Compléter la fonction `tri` suivante :"
   ]
  },
  {
   "cell_type": "code",
   "execution_count": null,
   "metadata": {},
   "outputs": [],
   "source": [
    "def tri(tab):\n",
    "    # i est le premier indice de la zone non triee, j le dernier indice.\n",
    "    # Au debut, la zone non triee est le tableau entier.\n",
    "    i = ...\n",
    "    j = ...\n",
    "    while i != j:\n",
    "        if tab[i] == 0:\n",
    "            i = ...\n",
    "        else:\n",
    "            valeur = tab[j]\n",
    "            tab[j] = ...\n",
    "            ...\n",
    "            j = ...\n",
    "    ..."
   ]
  },
  {
   "cell_type": "markdown",
   "metadata": {},
   "source": [
    "<div style='background-color: #34c924;\n",
    "    border-radius: 0.5em;\n",
    "    padding: 1em;'>\n",
    "    <h2>Tests</h2>\n",
    "</div>"
   ]
  },
  {
   "cell_type": "code",
   "execution_count": null,
   "metadata": {},
   "outputs": [],
   "source": [
    "assert moyenne([5, 3, 8]) == 5.333333333333333\n",
    "assert moyenne([1, 2, 3, 4, 5, 6, 7, 8, 9, 10]) == 5.5\n",
    "assert moyenne([]) == None\n",
    "print(\"Tests passés avec succès pour l'exercice 1 !\")"
   ]
  },
  {
   "cell_type": "code",
   "execution_count": null,
   "metadata": {},
   "outputs": [],
   "source": [
    "assert tri([0, 0, 1, 1, 1, 1, 1]) == [0, 0, 1, 1, 1, 1, 1]\n",
    "assert tri([0, 1, 1, 0, 1]) == [0, 0, 1, 1, 1]\n",
    "assert tri([0, 1, 0, 1, 0, 1, 0, 1, 0]) == [0, 0, 0, 0, 0, 1, 1, 1, 1]\n",
    "print(\"Tests passés avec succès pour l'exercice 2 !\")"
   ]
  }
 ],
 "metadata": {
  "kernelspec": {
   "display_name": "Python 3",
   "language": "python",
   "name": "python3"
  },
  "language_info": {
   "codemirror_mode": {
    "name": "ipython",
    "version": 3
   },
   "file_extension": ".py",
   "mimetype": "text/x-python",
   "name": "python",
   "nbconvert_exporter": "python",
   "pygments_lexer": "ipython3",
   "version": "3.8.5"
  }
 },
 "nbformat": 4,
 "nbformat_minor": 2
}
