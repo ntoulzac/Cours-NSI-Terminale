{
 "cells": [
  {
   "cell_type": "markdown",
   "metadata": {},
   "source": [
    "<div style='background-color: #34c924;\n",
    "    border: 0.5em solid black;\n",
    "    border-radius: 0.5em;\n",
    "    padding: 1em;'>\n",
    "    <h2>Épreuve pratique</h2>\n",
    "    <h1>Sujet 2021_29</h1>\n",
    "</div>"
   ]
  },
  {
   "cell_type": "markdown",
   "metadata": {},
   "source": [
    "<div style='background-color: #34c924;\n",
    "    border-radius: 0.5em;\n",
    "    padding: 1em;'>\n",
    "    <h2>Exercice 1</h2>\n",
    "</div>"
   ]
  },
  {
   "cell_type": "markdown",
   "metadata": {},
   "source": [
    "Soit un nombre entier supérieur ou égal à 1 :\n",
    "\n",
    "- s'il est pair, on le divise par 2 ;\n",
    "- s’il est impair, on le multiplie par 3 et on ajoute 1.\n",
    "    \n",
    "Puis on recommence ces étapes avec le nombre entier obtenu, jusqu’à ce que l’on obtienne la valeur 1.\n",
    "\n",
    "On définit ainsi la suite $(u_n)$ par\n",
    "\n",
    "- $u_0 = k$ , où $k$ est un entier choisi initialement ;\n",
    "- $u_{n+1} = u_n / 2$ si un est pair ;\n",
    "- $u_{n+1} = 3 \\times u_n + 1$ si un est impair.\n",
    "\n",
    "_On admet que, quel que soit l’entier $k$ choisi au départ, la suite finit toujours sur la valeur 1._\n",
    "\n",
    "Écrire une fonction `calcul` prenant en paramètre un entier `k` strictement positif et qui renvoie la liste des valeurs $u_n$ , en partant de $k$ jusqu’à atteindre 1.\n",
    "\n",
    "Exemple :\n",
    "\n",
    "```python\n",
    ">>> calcul(7)\n",
    "[7, 22, 11, 34, 17, 52, 26, 13, 40, 20, 10, 5, 16, 8, 4, 2, 1]\n",
    "```"
   ]
  },
  {
   "cell_type": "code",
   "execution_count": null,
   "metadata": {},
   "outputs": [],
   "source": [
    "# code de l'exercice 1 ici ..."
   ]
  },
  {
   "cell_type": "markdown",
   "metadata": {},
   "source": [
    "<div style='background-color: #34c924;\n",
    "    border-radius: 0.5em;\n",
    "    padding: 1em;'>\n",
    "    <h2>Exercice 2</h2>\n",
    "</div>"
   ]
  },
  {
   "cell_type": "markdown",
   "metadata": {},
   "source": [
    "On affecte à chaque lettre de l’alphabet un code selon le tableau ci-dessous :\n",
    "\n",
    "| A | B | C | D | E | F | G | H | I | J | K | L | M | N | O | P | Q | R | S | T | U | V | W | X | Y | Z |\n",
    "| :-: | :-: | :-: | :-: | :-: | :-: | :-: | :-: | :-: | :-: | :-: | :-: | :-: | :-: | :-: | :-: | :-: | :-: | :-: | :-: | :-: | :-: | :-: | :-: | :-: | :-: |\n",
    "| 1 | 2 | 3 | 4 | 5 | 6 | 7 | 8 | 9 | 10 | 11 | 12 | 13 | 14 | 15 | 16 | 17 | 18 | 19 | 20 | 21 | 22 | 23 | 24 | 25 | 26 |\n",
    "\n",
    "Pour un mot donné, on détermine d’une part son code alphabétique concaténé, obtenu par la juxtaposition des codes de chacun de ses caractères, et d’autre part, son code additionné, qui est la somme des codes de chacun de ses caractères.\n",
    "\n",
    "Par ailleurs, on dit que ce mot est « parfait » si le code additionné divise le code concaténé.\n",
    "\n",
    "Exemples :\n",
    "\n",
    "- Pour le mot `'PAUL'`, le code concaténé est la chaîne `1612112`, soit l’entier $1 612 112$.\n",
    "    \n",
    "    Son code additionné est l’entier $50$ car $16 + 1 + 21 + 12 = 50$.\n",
    "    \n",
    "    $50$ ne divise pas l’entier $1 612 112$ ; par conséquent, le mot `'PAUL'` n’est pas parfait.\n",
    "\n",
    "\n",
    "- Pour le mot `'ALAIN'`, le code concaténé est la chaîne `1121914`, soit l’entier $1 121 914$.\n",
    "\n",
    "    Le code additionné est l’entier $37$ car $1 + 12 + 1 + 9 + 14 = 37$.\n",
    "    \n",
    "    $37$ divise l’entier $1 121 914$ ; par conséquent, le mot `'ALAIN'` est parfait.\n",
    "    \n",
    "Compléter la fonction `est_parfait` ci-dessous qui prend comme argument une chaîne de caractères `mot` (en lettres majuscules) et qui renvoie le code alphabétique concaténé, le code additionné de `mot`, ainsi qu’un booléen qui indique si `mot` est parfait ou pas."
   ]
  },
  {
   "cell_type": "code",
   "execution_count": null,
   "metadata": {},
   "outputs": [],
   "source": [
    "dico = {\"A\":1, \"B\":2, \"C\":3, \"D\":4, \"E\":5, \"F\":6, \"G\":7,\n",
    "        \"H\":8, \"I\":9, \"J\":10, \"K\":11, \"L\":12, \"M\":13,\n",
    "        \"N\":14, \"O\":15, \"P\":16, \"Q\":17, \"R\":18, \"S\":19,\n",
    "        \"T\":20, \"U\":21,\"V\":22, \"W\":23, \"X\":24, \"Y\":25, \"Z\":26}"
   ]
  },
  {
   "cell_type": "code",
   "execution_count": null,
   "metadata": {},
   "outputs": [],
   "source": [
    "def est_parfait(mot) :\n",
    "    # mot est une chaîne de caractères (en lettres majuscules)\n",
    "    code_c = \"\"\n",
    "    code_a = ...\n",
    "    for c in mot :\n",
    "        code_c = code_c + ...\n",
    "        code_a = ...\n",
    "    code_c = int(code_c)\n",
    "    if ... :\n",
    "        mot_est_parfait = True\n",
    "    else :\n",
    "        mot_est_parfait = False\n",
    "    return [code_a, code_c, mot_est_parfait]"
   ]
  },
  {
   "cell_type": "markdown",
   "metadata": {},
   "source": [
    "<div style='background-color: #34c924;\n",
    "    border-radius: 0.5em;\n",
    "    padding: 1em;'>\n",
    "    <h2>Tests</h2>\n",
    "</div>"
   ]
  },
  {
   "cell_type": "code",
   "execution_count": null,
   "metadata": {},
   "outputs": [],
   "source": [
    "assert calcul(7) == [7, 22, 11, 34, 17, 52, 26, 13, 40, 20, 10, 5, 16, 8, 4, 2, 1]\n",
    "assert calcul(10) == [10, 5, 16, 8, 4, 2, 1]\n",
    "assert calcul(19) == [19, 58, 29, 88, 44, 22, 11, 34, 17, 52, 26, 13, 40, 20, 10, 5, 16, 8, 4, 2, 1]\n",
    "print(\"Tests passés avec succès pour l'exercice 1 !\")"
   ]
  },
  {
   "cell_type": "code",
   "execution_count": null,
   "metadata": {},
   "outputs": [],
   "source": [
    "assert est_parfait(\"PAUL\") == [50, 1612112, False]\n",
    "assert est_parfait(\"ALAIN\") == [37, 1121914, True]\n",
    "assert est_parfait(\"TOULZAC\") == [98, 201521122613, False]\n",
    "print(\"Tests passés avec succès pour l'exercice 2 !\")"
   ]
  }
 ],
 "metadata": {
  "kernelspec": {
   "display_name": "Python 3",
   "language": "python",
   "name": "python3"
  },
  "language_info": {
   "codemirror_mode": {
    "name": "ipython",
    "version": 3
   },
   "file_extension": ".py",
   "mimetype": "text/x-python",
   "name": "python",
   "nbconvert_exporter": "python",
   "pygments_lexer": "ipython3",
   "version": "3.8.8"
  }
 },
 "nbformat": 4,
 "nbformat_minor": 2
}
