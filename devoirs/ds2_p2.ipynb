{
 "cells": [
  {
   "cell_type": "markdown",
   "metadata": {},
   "source": [
    "# Devoir 2 - Seconde partie (10 points)\n",
    "\n",
    "**Les documents et la recherche d'informations sur internet sont strictement interdits.**"
   ]
  },
  {
   "cell_type": "markdown",
   "metadata": {},
   "source": [
    "## Exercice A - Fonction d'Ackermann (3 points)"
   ]
  },
  {
   "cell_type": "markdown",
   "metadata": {},
   "source": [
    "On appelle fonction d'Ackermann la fonction $A$ définie récursivement de la façon suivante, pour tous entiers positifs $m$ et $n$ :\n",
    "\n",
    "- si $m = 0$, alors $A(m, n) = n+1$,\n",
    "- si $m > 0$ et $n = 0$, alors $A(m, n) = A(m-1, 1)$,\n",
    "- si $m > 0$ et $n > 0$, alors $A(m, n) = A(m-1, A(m, n-1))$.\n",
    "\n",
    "**(1)** Définir une fonction récursive `ack` qui prend en paramètres d'entrée deux entiers positifs `m` et `n` et qui renvoie la valeur de $A(m, n)$."
   ]
  },
  {
   "cell_type": "code",
   "execution_count": null,
   "metadata": {},
   "outputs": [],
   "source": []
  },
  {
   "cell_type": "markdown",
   "metadata": {},
   "source": [
    "**(2)** Faire afficher la valeur de $A(m, n)$ pour toutes les valeurs $0 \\leq m \\leq 3$ et toutes les valeurs $0 \\leq n \\leq 4$."
   ]
  },
  {
   "cell_type": "code",
   "execution_count": null,
   "metadata": {},
   "outputs": [],
   "source": []
  },
  {
   "cell_type": "markdown",
   "metadata": {},
   "source": [
    "## Exercice B - Pokemon (4 points)\n",
    "\n",
    "On donne l'ébauche de la définition d'une classe `Pokemon` :"
   ]
  },
  {
   "cell_type": "code",
   "execution_count": null,
   "metadata": {},
   "outputs": [],
   "source": [
    "import requests\n",
    "from IPython.display import display, HTML"
   ]
  },
  {
   "cell_type": "code",
   "execution_count": null,
   "metadata": {},
   "outputs": [],
   "source": [
    "class Pokemon:\n",
    "    def __init__(self, identifiant):\n",
    "        self.id = identifiant\n",
    "        reponse = requests.get(f\"https://pokeapi.co/api/v2/pokemon/{self.id}\").json()\n",
    "        self.nom = reponse[\"name\"].capitalize()\n",
    "        self.taille = round(reponse[\"height\"] * 10)\n",
    "        self.poids = round(reponse[\"weight\"] / 10)\n",
    "        self.xp = reponse[\"base_experience\"]\n",
    "        self.sprite = reponse[\"sprites\"][\"front_default\"]\n",
    "    \n",
    "    def modifier_xp(self, n):\n",
    "        self.xp = self.xp + n\n",
    "    \n",
    "    def afficher(self):\n",
    "        \"\"\"Affiche dans le carnet Jupyter l'image, le nom et l'XP du Pokemon.\"\"\"\n",
    "        code_html = f\"\"\"\n",
    "                    <table>\n",
    "                        <tr>\n",
    "                            <td><img src=\"{self.sprite}\"></td>\n",
    "                            <td><b>{self.nom}</b></td>\n",
    "                            <td><i>{self.xp} XP</i></td>\n",
    "                        </tr>\n",
    "                    </table>\n",
    "                    \"\"\"\n",
    "        display(HTML(code_html))"
   ]
  },
  {
   "cell_type": "markdown",
   "metadata": {},
   "source": [
    "**(1)** Sachant que l'identifiant de Pikachu est 25 et que celui de Mewtwo est 150, écrire des lignes de code permettant d'obtenir l'affichage suivant :\n",
    "\n",
    "<table><tr><td><img src=\"https://raw.githubusercontent.com/PokeAPI/sprites/master/sprites/pokemon/25.png\"></td><td><b>Pikachu</b></td><td><i>112 XP</i></td></tr></table>\n",
    "<table><tr><td><img src=\"https://raw.githubusercontent.com/PokeAPI/sprites/master/sprites/pokemon/150.png\"></td><td><b>Mewtwo</b></td><td><i>240 XP</i></td></tr></table>"
   ]
  },
  {
   "cell_type": "code",
   "execution_count": null,
   "metadata": {},
   "outputs": [],
   "source": []
  },
  {
   "cell_type": "markdown",
   "metadata": {},
   "source": [
    "**(2)** Ajouter à la classe `Pokemon` la définition d'une méthode permettant d'obtenir l'affichage `Pikachu [25] xp=112` via la fonction `print`.\n",
    "\n",
    "**(3)** Ajouter à la classe `Pokemon` la définition d'une méthode `affronter` qui\n",
    "- prend en paramètres d'entrée deux instances `self` et `other` de la classe `Pokemon`,\n",
    "- tire au hasard un nombre entier `n` compris entre 1 et 10,\n",
    "- ajoute `n` XP au Pokemon ayant le plus d'XP,\n",
    "- retranche `n` XP au Pokemon ayant le moins d'XP, sans que l'XP ne puisse être négative.\n",
    "\n",
    "En cas d'XP identique pour les deux Pokemon, l'XP n'est modifiée pour aucun des deux."
   ]
  },
  {
   "cell_type": "code",
   "execution_count": null,
   "metadata": {},
   "outputs": [],
   "source": []
  },
  {
   "cell_type": "markdown",
   "metadata": {},
   "source": [
    "## Exercice C - Points et vecteurs (3 points)\n",
    "\n",
    "**(1)** Définir une classe `Point` dont les instances possèdent deux attributs `x` (abscisse) et `y` (ordonnée). Les valeurs des deux attributs seront passées en argument du constructeur."
   ]
  },
  {
   "cell_type": "code",
   "execution_count": null,
   "metadata": {},
   "outputs": [],
   "source": []
  },
  {
   "cell_type": "code",
   "execution_count": null,
   "metadata": {},
   "outputs": [],
   "source": [
    "# Création de deux instances de la classe Point\n",
    "A = Point(1, 5)\n",
    "B = Point(-2, 1)"
   ]
  },
  {
   "cell_type": "markdown",
   "metadata": {},
   "source": [
    "**(2)** Définir une fonction `milieu` qui prend en paramètres d'entrée deux instances de la classe `Point` et qui renvoie le milieu du segment délimité par ces deux points.\n",
    "\n",
    "On rappelle que, si les points $A$ et $B$ ont pour coordonnées $A(x_A;y_A)$ et $B(x_B;y_B)$, alors le milieu $I$ du segment $[AB]$ a pour coordonnées $I\\left(\\dfrac{x_A + x_B}{2}; \\dfrac{y_A + y_B}{2}\\right)$."
   ]
  },
  {
   "cell_type": "code",
   "execution_count": null,
   "metadata": {},
   "outputs": [],
   "source": []
  },
  {
   "cell_type": "markdown",
   "metadata": {},
   "source": [
    "**(3)** Définir une classe `Vecteur` dont les instances possèdent deux attributs `x` (abscisse) et `y` (ordonnée). Le constructeur prend en argument deux instances de la classe `Point`.\n",
    "\n",
    "On rappelle que, si les points $A$ et $B$ ont pour coordonnées $A(x_A;y_A)$ et $B(x_B;y_B)$, alors le vecteur $\\vec{AB}$ a pour coordonnées $\\vec{AB}(x_B - x_A; y_B - y_A)$."
   ]
  },
  {
   "cell_type": "code",
   "execution_count": null,
   "metadata": {},
   "outputs": [],
   "source": []
  },
  {
   "cell_type": "code",
   "execution_count": null,
   "metadata": {},
   "outputs": [],
   "source": [
    "# Création d'une instance de la classe Vecteur\n",
    "u = Vecteur(A, B)"
   ]
  },
  {
   "cell_type": "markdown",
   "metadata": {},
   "source": [
    "**(4) BONUS** Ajouter dans la classe `Vecteur` la définition d'une méthode `norme` qui renvoie la norme du vecteur.\n",
    "\n",
    "On rappelle que, si le vecteur $\\vec{u}$ pour coordonnées $\\vec{u}(x;y)$, alors la norme du vecteur $\\vec{u}$ est $\\sqrt{x^2 + y^2}$."
   ]
  },
  {
   "cell_type": "code",
   "execution_count": null,
   "metadata": {},
   "outputs": [],
   "source": []
  },
  {
   "cell_type": "markdown",
   "metadata": {},
   "source": [
    "## Exercice bonus\n",
    "\n",
    "Définir une procédure récursive `fractale` permettant d'obtenir le dessin ci-dessous, en utilisant uniquement les procédures `forward`, `backward`, `left` et `right` du module `turtle`.\n",
    "\n",
    "<img src=\"https://ntoulzac.github.io/Cours-NSI-Terminale/devoirs/images/fractale_en_L.png\" width=\"60%\">"
   ]
  },
  {
   "cell_type": "code",
   "execution_count": null,
   "metadata": {},
   "outputs": [],
   "source": []
  },
  {
   "cell_type": "markdown",
   "metadata": {},
   "source": [
    "Pour tester votre procédure, exécuter la cellule suivante :"
   ]
  },
  {
   "cell_type": "code",
   "execution_count": null,
   "metadata": {},
   "outputs": [],
   "source": [
    "from turtle import forward, backward, left, right, speed\n",
    "\n",
    "speed(50)\n",
    "fractale(150, 5)"
   ]
  }
 ],
 "metadata": {
  "kernelspec": {
   "display_name": "Python 3",
   "language": "python",
   "name": "python3"
  },
  "language_info": {
   "codemirror_mode": {
    "name": "ipython",
    "version": 3
   },
   "file_extension": ".py",
   "mimetype": "text/x-python",
   "name": "python",
   "nbconvert_exporter": "python",
   "pygments_lexer": "ipython3",
   "version": "3.8.8"
  }
 },
 "nbformat": 4,
 "nbformat_minor": 4
}
