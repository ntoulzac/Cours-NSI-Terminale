{
 "cells": [
  {
   "cell_type": "markdown",
   "metadata": {},
   "source": [
    "<div style='background-color: #ffc154;\n",
    "    border: 0.5em solid black;\n",
    "    border-radius: 0.5em;\n",
    "    padding: 1em;'>\n",
    "    <h2>Devoir maison</h2>\n",
    "    <h1>Séismes</h1>\n",
    "</div>"
   ]
  },
  {
   "cell_type": "markdown",
   "metadata": {},
   "source": [
    "L'Institut d'études géologiques des États-Unis (_United States Geological Survey_) met à disposition une API permettant de récupérer des données sur les séismes. En envoyant une requête à l'URL [https://earthquake.usgs.gov/fdsnws/event/1/query?format=geojson&minmagnitude=4](https://earthquake.usgs.gov/fdsnws/event/1/query?format=geojson&minmagnitude=4), l'API renvoie les données correspondant aux séismes survenus pendant les 30 derniers jours et dont la magnitude est supérieure à 4 sur l'échelle de Richter.\n",
    "\n",
    "**(1)** Écrire des lignes de code permettant d'interroger l'API et d'afficher à l'écran le nombre de séismes, survenus pendant les 30 derniers jours, dont la magnitude est supérieure à 6."
   ]
  },
  {
   "cell_type": "code",
   "execution_count": null,
   "metadata": {},
   "outputs": [],
   "source": []
  },
  {
   "cell_type": "code",
   "execution_count": null,
   "metadata": {},
   "outputs": [],
   "source": []
  },
  {
   "cell_type": "markdown",
   "metadata": {},
   "source": [
    "La documentation de l'API est consultable à l'adresse [https://earthquake.usgs.gov/fdsnws/event/1/](https://earthquake.usgs.gov/fdsnws/event/1/).\n",
    "\n",
    "**(2)** Après avoir consulté la documentation de l'API, recopier et modifier les lignes de code précédentes dans le but d'interroger l'API et d'afficher à l'écran le nombre de séismes :\n",
    "- survenus entre le 1er janvier 2021 et le 30 juin 2021, et\n",
    "- survenus entre les latitudes 34°N et 72°N et les longitudes 25°O et 55°E, ce qui correspond à peu près à l'Europe, et\n",
    "- dont la magnitude est supérieure à 4."
   ]
  },
  {
   "cell_type": "code",
   "execution_count": null,
   "metadata": {},
   "outputs": [],
   "source": []
  },
  {
   "cell_type": "markdown",
   "metadata": {},
   "source": [
    "**(3)** Définir une fonction `interroger_API_seismes` qui prend en entrée deux chaînes de caractères `debut` et `fin` au format `'AAAA-MM-JJ'` et un nombre `mag_min` et interroge l'API à propos des séismes survenus entre la date `debut` et la date `fin` et dont la magnitude est supérieure à `mag_min`."
   ]
  },
  {
   "cell_type": "code",
   "execution_count": null,
   "metadata": {},
   "outputs": [],
   "source": []
  },
  {
   "cell_type": "markdown",
   "metadata": {},
   "source": [
    "**(4)** Compléter la définition de la fonction `carte_seismes`."
   ]
  },
  {
   "cell_type": "code",
   "execution_count": null,
   "metadata": {},
   "outputs": [],
   "source": [
    "import folium"
   ]
  },
  {
   "cell_type": "code",
   "execution_count": null,
   "metadata": {},
   "outputs": [],
   "source": [
    "def carte_seismes(debut, fin, mag_min):\n",
    "    \"\"\"\n",
    "    Place sur une carte la localisation des séismes survenus sur une période de temps\n",
    "    et dont la magnitude est supérieure à une valeur donnée.\n",
    "    - Entrées : debut, fin (chaînes de caractères au format 'AAAA-MM-JJ', début et fin de la période de temps),\n",
    "                mag_min (nombre, magnitude minimale)\n",
    "    - Sortie : carte (instance de la classe Map du module folium)    \n",
    "    \"\"\"\n",
    "    carte = folium.Map(location=(0, 0), tiles='OpenStreetMap', zoom_start=2)\n",
    "    donnees = ...... # interrogation de l'API\n",
    "    for elem in ......:\n",
    "        mag = ...... # magnitude\n",
    "        lat = ...... # latitude de l'épicentre\n",
    "        long = ...... # longitude de l'épicentre\n",
    "        folium.CircleMarker(location=(lat, long), radius=3, color='black').add_to(carte)\n",
    "    return carte"
   ]
  },
  {
   "cell_type": "markdown",
   "metadata": {},
   "source": [
    "**(5)** Tester la fonction en affichant la carte des séismes de magnitude au moins 4 survenus au cours des mois de juillet et août 2021."
   ]
  },
  {
   "cell_type": "code",
   "execution_count": null,
   "metadata": {},
   "outputs": [],
   "source": []
  },
  {
   "cell_type": "markdown",
   "metadata": {},
   "source": [
    "**(6)** Recopier et modifier la définition de la fonction `carte_seismes` dans le but de représenter chaque séisme par un cercle dont la couleur dépend de la magnitude :\n",
    "\n",
    "| Magnitude       | Couleur      |\n",
    "| :-------------: |:------------:|\n",
    "| Supérieure à 8  | _rouge_      |\n",
    "| Entre 7 et 8    | _orange_     |\n",
    "| Entre 6 et 7    | _jaune_      |\n",
    "| Entre 5 et 6    | _vert_       |\n",
    "| Entre 4 et 5    | _vert clair_ |\n",
    "\n",
    "_Remarque :_ Représenter les séismes par ordre croissant de magnitude permet de mettre en évidence ceux dont la magnitude est la plus grande."
   ]
  },
  {
   "cell_type": "code",
   "execution_count": null,
   "metadata": {},
   "outputs": [],
   "source": []
  },
  {
   "cell_type": "markdown",
   "metadata": {},
   "source": [
    "**(7)** Tester la fonction en affichant (en couleurs) :\n",
    "- la carte des séismes de magnitude au moins 4 survenus au cours des mois de juillet et août 2021."
   ]
  },
  {
   "cell_type": "code",
   "execution_count": null,
   "metadata": {},
   "outputs": [],
   "source": []
  },
  {
   "cell_type": "markdown",
   "metadata": {},
   "source": [
    "- la carte des séismes de magnitude au moins 6 survenus au cours des cinquante dernières années."
   ]
  },
  {
   "cell_type": "code",
   "execution_count": null,
   "metadata": {
    "scrolled": false
   },
   "outputs": [],
   "source": []
  }
 ],
 "metadata": {
  "kernelspec": {
   "display_name": "Python 3",
   "language": "python",
   "name": "python3"
  },
  "language_info": {
   "codemirror_mode": {
    "name": "ipython",
    "version": 3
   },
   "file_extension": ".py",
   "mimetype": "text/x-python",
   "name": "python",
   "nbconvert_exporter": "python",
   "pygments_lexer": "ipython3",
   "version": "3.8.5"
  }
 },
 "nbformat": 4,
 "nbformat_minor": 4
}
