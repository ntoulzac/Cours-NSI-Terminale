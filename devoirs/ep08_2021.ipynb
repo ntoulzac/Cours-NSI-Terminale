{
 "cells": [
  {
   "cell_type": "markdown",
   "metadata": {},
   "source": [
    "<div style='background-color: #34c924;\n",
    "    border: 0.5em solid black;\n",
    "    border-radius: 0.5em;\n",
    "    padding: 1em;'>\n",
    "    <h2>Épreuve pratique</h2>\n",
    "    <h1>Sujet 2021_08</h1>\n",
    "</div>"
   ]
  },
  {
   "cell_type": "markdown",
   "metadata": {},
   "source": [
    "<div style='background-color: #34c924;\n",
    "    border-radius: 0.5em;\n",
    "    padding: 1em;'>\n",
    "    <h2>Exercice 1</h2>\n",
    "</div>"
   ]
  },
  {
   "cell_type": "markdown",
   "metadata": {},
   "source": [
    "Écrire une fonction `recherche` qui prend en paramètres `caractere`, un caractère, et `mot`, une chaîne de caractères, et qui renvoie le nombre d’occurrences de `caractere` dans `mot`, c’est-à-dire le nombre de fois où `caractere` apparaît dans `mot`.\n",
    "\n",
    "Exemples :\n",
    "\n",
    "```python\n",
    ">>> recherche('e', \"sciences\")\n",
    "2\n",
    ">>> recherche('i', \"mississippi\")\n",
    "4\n",
    ">>> recherche('a', \"mississippi\")\n",
    "0\n",
    "```"
   ]
  },
  {
   "cell_type": "code",
   "execution_count": null,
   "metadata": {},
   "outputs": [],
   "source": [
    "# code de l'exercice 1 ici ..."
   ]
  },
  {
   "cell_type": "markdown",
   "metadata": {},
   "source": [
    "<div style='background-color: #34c924;\n",
    "    border-radius: 0.5em;\n",
    "    padding: 1em;'>\n",
    "    <h2>Exercice 2</h2>\n",
    "</div>"
   ]
  },
  {
   "cell_type": "markdown",
   "metadata": {},
   "source": [
    "On s’intéresse à un algorithme récursif qui permet de rendre la monnaie à partir d’une liste donnée de valeurs de pièces et de billets - le système monétaire est donné sous forme d’une liste `pieces = [100, 50, 20, 10, 5, 2, 1]` - (on supposera qu’il n’y a pas de limitation quant à leur nombre), on cherche à donner la liste de pièces à rendre pour une somme donnée en argument.\n",
    "\n",
    "Compléter le code Python ci-dessous de la fonction `rendu_glouton` qui implémente cet algorithme et renvoie la liste des pièces à rendre.\n",
    "\n",
    "***Remarque : les lignes 6 et 9 ont été modifiées car le sujet original comportait une erreur !***"
   ]
  },
  {
   "cell_type": "code",
   "execution_count": null,
   "metadata": {},
   "outputs": [],
   "source": [
    "pieces = [100, 50, 20, 10, 5, 2, 1]\n",
    "\n",
    "def rendu_glouton(arendre, solution, i=0):\n",
    "    if arendre == 0:\n",
    "        return ...\n",
    "    p = pieces[i]\n",
    "    if p <= ...:\n",
    "        solution.append(...)\n",
    "        return rendu_glouton(arendre - p, solution, i)\n",
    "    else:\n",
    "        return rendu_glouton(arendre, solution, ...)"
   ]
  },
  {
   "cell_type": "markdown",
   "metadata": {},
   "source": [
    "On devra obtenir :\n",
    "\n",
    "```python\n",
    ">>> rendu_glouton(68, [], 0)\n",
    "[50, 10, 5, 2, 1]\n",
    ">>> rendu_glouton(291, [], 0)\n",
    "[100, 100, 50, 20, 20, 1]\n",
    "```"
   ]
  },
  {
   "cell_type": "markdown",
   "metadata": {},
   "source": [
    "<div style='background-color: #34c924;\n",
    "    border-radius: 0.5em;\n",
    "    padding: 1em;'>\n",
    "    <h2>Tests</h2>\n",
    "</div>"
   ]
  },
  {
   "cell_type": "code",
   "execution_count": null,
   "metadata": {},
   "outputs": [],
   "source": [
    "assert recherche('e', \"sciences\") == 2\n",
    "assert recherche('i', \"mississippi\") == 4\n",
    "assert recherche('a', \"mississippi\") == 0\n",
    "print(\"Tests passés avec succès pour l'exercice 1 !\")"
   ]
  },
  {
   "cell_type": "code",
   "execution_count": null,
   "metadata": {},
   "outputs": [],
   "source": [
    "assert rendu_glouton(68, [], 0) == [50, 10, 5, 2, 1]\n",
    "assert rendu_glouton(291, [], 0) == [100, 100, 50, 20, 20, 1]\n",
    "assert rendu_glouton(36, [], 0) == [20, 10, 5, 1]\n",
    "print(\"Tests passés avec succès pour l'exercice 2 !\")"
   ]
  },
  {
   "cell_type": "code",
   "execution_count": null,
   "metadata": {},
   "outputs": [],
   "source": []
  }
 ],
 "metadata": {
  "kernelspec": {
   "display_name": "Python 3",
   "language": "python",
   "name": "python3"
  },
  "language_info": {
   "codemirror_mode": {
    "name": "ipython",
    "version": 3
   },
   "file_extension": ".py",
   "mimetype": "text/x-python",
   "name": "python",
   "nbconvert_exporter": "python",
   "pygments_lexer": "ipython3",
   "version": "3.8.8"
  }
 },
 "nbformat": 4,
 "nbformat_minor": 2
}
