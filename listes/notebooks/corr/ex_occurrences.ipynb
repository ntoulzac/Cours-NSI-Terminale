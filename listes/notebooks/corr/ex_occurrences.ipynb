{
 "cells": [
  {
   "cell_type": "markdown",
   "metadata": {},
   "source": [
    "<div style='background-color: #e3a8b6;\n",
    "    border: 0.5em solid black;\n",
    "    border-radius: 0.5em;\n",
    "    padding: 1em;'>\n",
    "    <h2>Exercice</h2>\n",
    "    <h1>Occurrences</h1>\n",
    "</div>"
   ]
  },
  {
   "cell_type": "markdown",
   "metadata": {},
   "source": [
    "On donne la définition de deux classes `Maillon` et `Liste`."
   ]
  },
  {
   "cell_type": "code",
   "execution_count": 1,
   "metadata": {},
   "outputs": [],
   "source": [
    "class Maillon:\n",
    "    def __init__(self, tete, queue):\n",
    "        \"\"\"\n",
    "        Crée une instance de la classe Maillon.\n",
    "        - Entrées : tete (type quelconque), queue (instance de la classe Liste)\n",
    "        \"\"\"\n",
    "        self.tete = tete\n",
    "        self.queue = queue"
   ]
  },
  {
   "cell_type": "code",
   "execution_count": 2,
   "metadata": {},
   "outputs": [],
   "source": [
    "class Liste:\n",
    "    def __init__(self, maillon):\n",
    "        \"\"\"\n",
    "        Crée une instance de la classe Liste.\n",
    "        - Entrée : maillon (instance de la classe Maillon, ou None pour créer une liste vide)\n",
    "        \"\"\"\n",
    "        self.maillon = maillon\n",
    "\n",
    "    def est_vide(self):\n",
    "        \"\"\"\n",
    "        Détermine si la liste est vide.\n",
    "        - Sortie : (booléen, True si la liste est vide, False sinon)\n",
    "        \"\"\"\n",
    "        return self.maillon is None\n",
    "\n",
    "    def tete(self):\n",
    "        \"\"\"\n",
    "        Renvoie la première valeur de la liste.\n",
    "        - Sortie : None si la liste est vide, sinon la valeur située à l'indice 0 dans la liste\n",
    "        \"\"\"\n",
    "        if self.est_vide():\n",
    "            return None\n",
    "        else:\n",
    "            return self.maillon.tete\n",
    "\n",
    "    def queue(self):\n",
    "        \"\"\"\n",
    "        Renvoie la queue de la liste, c'est-à-dire la liste privée de son premier maillon.\n",
    "        - Sortie : (instance de la classe Liste)\n",
    "        \"\"\"\n",
    "        if self.est_vide():\n",
    "            raise ValueError(\"la liste est vide\")\n",
    "        else:\n",
    "            return self.maillon.queue\n",
    "\n",
    "    def nb_elements(self):\n",
    "        \"\"\"\n",
    "        Compte le nombre d'éléments de la liste.\n",
    "        - Sortie : (entier, nombre de valeurs présentes dans la liste)\n",
    "        \"\"\"\n",
    "        if self.est_vide():\n",
    "            return 0\n",
    "        else:\n",
    "            liste = self.queue()\n",
    "            return 1 + liste.nb_elements()\n",
    "\n",
    "    def inserer_en_tete(self, elem):\n",
    "        \"\"\"\n",
    "        Insère un maillon en début de liste.\n",
    "        - Entrée : elem (type quelconque)\n",
    "        \"\"\"\n",
    "        self.maillon = Maillon(elem, Liste(self.maillon))\n",
    "\n",
    "    def supprimer_en_tete(self):\n",
    "        \"\"\"\n",
    "        Supprime un maillon en début de liste.\n",
    "        \"\"\"\n",
    "        if self.est_vide():\n",
    "            raise ValueError(\"la liste est vide\")\n",
    "        else:\n",
    "            self.maillon = self.queue().maillon\n",
    "\n",
    "    def __str__(self):\n",
    "        \"\"\"\n",
    "        Permet l'affichage des éléments de la liste via un appel à la fonction print.\n",
    "        \"\"\"\n",
    "        chaine = \"\"\n",
    "        liste = self\n",
    "        for k in range(self.nb_elements()):\n",
    "            chaine = chaine + f\"{liste.tete()}  \"\n",
    "            liste = liste.queue()\n",
    "        return chaine"
   ]
  },
  {
   "cell_type": "markdown",
   "metadata": {},
   "source": [
    "**(1)** Définir une fonction `occurrences` qui prend en paramètres d'entrée une valeur `val` et une instance `L` de la classe `Liste` et qui renvoie le nombre d'occurrences de la valeur `val` dans `L`."
   ]
  },
  {
   "cell_type": "code",
   "execution_count": 3,
   "metadata": {},
   "outputs": [],
   "source": [
    "def occurrences(val, L):\n",
    "    \"\"\"\n",
    "    Compte le nombre d'occurrences d'une valeur dans une liste.\n",
    "    - Entrées : val (type quelconque), L (instance de la classe Liste)\n",
    "    - Sortie : cpt (entier)\n",
    "    \"\"\"\n",
    "    # Implémentation itérative\n",
    "    cpt = 0\n",
    "    liste = L\n",
    "    while not liste.est_vide():\n",
    "        if liste.tete() == val:\n",
    "            cpt = cpt + 1\n",
    "        liste = liste.queue()\n",
    "    return cpt"
   ]
  },
  {
   "cell_type": "code",
   "execution_count": 5,
   "metadata": {},
   "outputs": [],
   "source": [
    "def occurrences(val, L):\n",
    "    \"\"\"\n",
    "    Compte le nombre d'occurrences d'une valeur dans une liste.\n",
    "    - Entrées : val (type quelconque), L (instance de la classe Liste)\n",
    "    - Sortie : cpt (entier)\n",
    "    \"\"\"\n",
    "    # Implémentation récursive\n",
    "    if L.est_vide():\n",
    "        return 0\n",
    "    elif L.tete() == val:\n",
    "        return 1 + occurrences(val, L.queue())\n",
    "    else:\n",
    "        return occurrences(val, L.queue())"
   ]
  },
  {
   "cell_type": "code",
   "execution_count": 6,
   "metadata": {},
   "outputs": [
    {
     "name": "stdout",
     "output_type": "stream",
     "text": [
      "Liste ...................... 4  4  4  3  3  3  2  2  2  1  1  1  0  0  0  \n",
      "Nombre d'occurrences de 2 .. 3\n",
      "Nombre d'occurrences de 5 .. 0\n"
     ]
    }
   ],
   "source": [
    "L = Liste(None)\n",
    "for k in range(15):\n",
    "    L.inserer_en_tete(k//3)\n",
    "print(\"Liste ......................\", L)\n",
    "print(\"Nombre d'occurrences de 2 ..\", occurrences(2, L))\n",
    "print(\"Nombre d'occurrences de 5 ..\", occurrences(5, L))"
   ]
  },
  {
   "cell_type": "markdown",
   "metadata": {},
   "source": [
    "**(2)** Définir une fonction `indice` qui prend en paramètres d'entrée une valeur `val` et une instance `L` de la classe `Liste` et qui renvoie l'indice de la première occurrence de la valeur `val` dans `L`, ou `None` si `L` ne contient pas `val`."
   ]
  },
  {
   "cell_type": "code",
   "execution_count": 7,
   "metadata": {},
   "outputs": [],
   "source": [
    "def indice(val, L):\n",
    "    \"\"\"\n",
    "    Renvoie l'indice de la première occurrence d'une valeur dans une liste.\n",
    "    - Entrées : val (type quelconque), L (instance de la classe Liste)\n",
    "    - Sortie : (entier positif si la valeur est présente, None sinon)\n",
    "    \"\"\"\n",
    "    # Implémentation itérative\n",
    "    i = 0\n",
    "    liste = L\n",
    "    while not liste.est_vide():\n",
    "        if liste.tete() == val:\n",
    "            return i\n",
    "        liste = liste.queue()\n",
    "        i = i + 1\n",
    "    return None"
   ]
  },
  {
   "cell_type": "code",
   "execution_count": 9,
   "metadata": {},
   "outputs": [],
   "source": [
    "def indice(val, L):\n",
    "    \"\"\"\n",
    "    Renvoie l'indice de la première occurrence d'une valeur dans une liste.\n",
    "    - Entrées : val (type quelconque), L (instance de la classe Liste)\n",
    "    - Sortie : (entier positif si la valeur est présente, None sinon)\n",
    "    \"\"\"\n",
    "    # Implémentation récursive\n",
    "    if L.est_vide():\n",
    "        return None\n",
    "    elif L.tete() == val:\n",
    "        return 0\n",
    "    else:\n",
    "        indice_dans_la_queue_de_L = indice(val, L.queue())\n",
    "        if indice_dans_la_queue_de_L is None:\n",
    "            return None\n",
    "        else:\n",
    "            return 1 + indice_dans_la_queue_de_L"
   ]
  },
  {
   "cell_type": "code",
   "execution_count": 10,
   "metadata": {},
   "outputs": [
    {
     "name": "stdout",
     "output_type": "stream",
     "text": [
      "Liste .............................. 4  4  4  3  3  3  2  2  2  1  1  1  0  0  0  \n",
      "Position première occurrence de 2 .. 6\n",
      "Position première occurrence de 5 .. None\n"
     ]
    }
   ],
   "source": [
    "L = Liste(None)\n",
    "for k in range(15):\n",
    "    L.inserer_en_tete(k//3)\n",
    "print(\"Liste ..............................\", L)\n",
    "print(\"Position première occurrence de 2 ..\", indice(2, L))\n",
    "print(\"Position première occurrence de 5 ..\", indice(5, L))"
   ]
  }
 ],
 "metadata": {
  "kernelspec": {
   "display_name": "Python 3 (ipykernel)",
   "language": "python",
   "name": "python3"
  },
  "language_info": {
   "codemirror_mode": {
    "name": "ipython",
    "version": 3
   },
   "file_extension": ".py",
   "mimetype": "text/x-python",
   "name": "python",
   "nbconvert_exporter": "python",
   "pygments_lexer": "ipython3",
   "version": "3.9.12"
  }
 },
 "nbformat": 4,
 "nbformat_minor": 4
}
