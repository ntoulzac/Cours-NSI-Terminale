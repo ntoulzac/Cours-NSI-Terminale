{
 "cells": [
  {
   "cell_type": "markdown",
   "metadata": {},
   "source": [
    "<div style='background-color: #e3a8b6;\n",
    "    border: 0.5em solid black;\n",
    "    border-radius: 0.5em;\n",
    "    padding: 1em;'>\n",
    "    <h2>Exercice</h2>\n",
    "    <h1>Listes identiques</h1>\n",
    "</div>"
   ]
  },
  {
   "cell_type": "markdown",
   "metadata": {},
   "source": [
    "On donne la définition de deux classes `Maillon` et `Liste`."
   ]
  },
  {
   "cell_type": "code",
   "execution_count": null,
   "metadata": {},
   "outputs": [],
   "source": [
    "class Maillon:\n",
    "    def __init__(self, tete, queue):\n",
    "        \"\"\"\n",
    "        Crée une instance de la classe Maillon.\n",
    "        - Entrées : tete (type quelconque), queue (instance de la classe Liste)\n",
    "        \"\"\"\n",
    "        self.tete = tete\n",
    "        self.queue = queue"
   ]
  },
  {
   "cell_type": "code",
   "execution_count": null,
   "metadata": {},
   "outputs": [],
   "source": [
    "class Liste:\n",
    "    def __init__(self, maillon):\n",
    "        \"\"\"\n",
    "        Crée une instance de la classe Liste.\n",
    "        - Entrée : maillon (instance de la classe Maillon, ou None pour créer une liste vide)\n",
    "        \"\"\"\n",
    "        self.maillon = maillon\n",
    "\n",
    "    def est_vide(self):\n",
    "        \"\"\"\n",
    "        Détermine si la liste est vide.\n",
    "        - Sortie : (booléen, True si la liste est vide, False sinon)\n",
    "        \"\"\"\n",
    "        return self.maillon is None\n",
    "\n",
    "    def tete(self):\n",
    "        \"\"\"\n",
    "        Renvoie la première valeur de la liste.\n",
    "        - Sortie : None si la liste est vide, sinon la valeur située à l'indice 0 dans la liste\n",
    "        \"\"\"\n",
    "        if self.est_vide():\n",
    "            return None\n",
    "        else:\n",
    "            return self.maillon.tete\n",
    "\n",
    "    def queue(self):\n",
    "        \"\"\"\n",
    "        Renvoie la queue de la liste, c'est-à-dire la liste privée de son premier maillon.\n",
    "        - Sortie : (instance de la classe Liste)\n",
    "        \"\"\"\n",
    "        if self.est_vide():\n",
    "            raise ValueError(\"la liste est vide\")\n",
    "        else:\n",
    "            return self.maillon.queue\n",
    "\n",
    "    def nb_elements(self):\n",
    "        \"\"\"\n",
    "        Compte le nombre d'éléments de la liste.\n",
    "        - Sortie : (entier, nombre de valeurs présentes dans la liste)\n",
    "        \"\"\"\n",
    "        if self.est_vide():\n",
    "            return 0\n",
    "        else:\n",
    "            liste = self.queue()\n",
    "            return 1 + liste.nb_elements()\n",
    "\n",
    "    def inserer_en_tete(self, elem):\n",
    "        \"\"\"\n",
    "        Insère un maillon en début de liste.\n",
    "        - Entrée : elem (type quelconque)\n",
    "        \"\"\"\n",
    "        self.maillon = Maillon(elem, Liste(self.maillon))\n",
    "\n",
    "    def supprimer_en_tete(self):\n",
    "        \"\"\"\n",
    "        Supprime un maillon en début de liste.\n",
    "        \"\"\"\n",
    "        if self.est_vide():\n",
    "            raise ValueError(\"la liste est vide\")\n",
    "        else:\n",
    "            self.maillon = self.queue().maillon\n",
    "\n",
    "    def __str__(self):\n",
    "        \"\"\"\n",
    "        Permet l'affichage des éléments de la liste via un appel à la fonction print.\n",
    "        \"\"\"\n",
    "        chaine = \"\"\n",
    "        liste = self\n",
    "        for k in range(self.nb_elements()):\n",
    "            chaine = chaine + f\"{liste.tete()}  \"\n",
    "            liste = liste.queue()\n",
    "        return chaine"
   ]
  },
  {
   "cell_type": "markdown",
   "metadata": {},
   "source": [
    "Définir une fonction `sont_indentiques` qui prend en paramètres d'entrée deux instances `L1` et `L2` de la classe `Liste` et qui renvoie `True` si les deux listes contiennent exactement les mêmes éléments dans le même ordre, et `False` sinon."
   ]
  },
  {
   "cell_type": "code",
   "execution_count": null,
   "metadata": {},
   "outputs": [],
   "source": [
    "def sont_identiques(L1, L2):\n",
    "    \"\"\"\n",
    "    Détermine si deux listes sont identiques.\n",
    "    - Entrées : L1, L2 (instances de la classe Liste)\n",
    "    - Sortie : (booléen, True si les deux listes sont identiques, False sinon)\n",
    "    \"\"\"\n",
    "    # Implémentation itérative\n",
    "    liste1 = L1\n",
    "    liste2 = L2\n",
    "    while not liste1.est_vide() and not liste2.est_vide():\n",
    "        if liste1.tete() != liste2.tete():\n",
    "            return False\n",
    "        liste1 = liste1.queue()\n",
    "        liste2 = liste2.queue()\n",
    "    return liste1.est_vide() and liste2.est_vide()"
   ]
  },
  {
   "cell_type": "code",
   "execution_count": null,
   "metadata": {},
   "outputs": [],
   "source": [
    "def sont_identiques(L1, L2):\n",
    "    \"\"\"\n",
    "    Détermine si deux listes sont identiques.\n",
    "    - Entrées : L1, L2 (instances de la classe Liste)\n",
    "    - Sortie : (booléen, True si les deux listes sont identiques, False sinon)\n",
    "    \"\"\"\n",
    "    # Implémentation récursive\n",
    "    if L1.est_vide():\n",
    "        return L2.est_vide()\n",
    "    elif L2.est_vide():\n",
    "        return L1.est_vide()\n",
    "    elif L1.tete() != L2.tete():\n",
    "        return False\n",
    "    else:\n",
    "        return sont_identiques(L1.queue(), L2.queue())"
   ]
  },
  {
   "cell_type": "code",
   "execution_count": null,
   "metadata": {},
   "outputs": [],
   "source": [
    "L1 = Liste(None)\n",
    "for k in range(1, 4):\n",
    "    L1.inserer_en_tete(k)\n",
    "print(\"Liste 1 ....\", L1)\n",
    "L2 = Liste(None)    \n",
    "for k in range(4):\n",
    "    L2.inserer_en_tete(k)\n",
    "print(\"Liste 2 ....\", L2)\n",
    "print(\"Identiques ?\", sont_identiques(L1, L2))"
   ]
  },
  {
   "cell_type": "code",
   "execution_count": null,
   "metadata": {},
   "outputs": [],
   "source": [
    "from random import randint\n",
    "L1 = Liste(None)\n",
    "for _ in range(3):\n",
    "    L1.inserer_en_tete(randint(0, 1))\n",
    "print(\"Liste 1 ....\", L1)\n",
    "L2 = Liste(None)    \n",
    "for _ in range(3):\n",
    "    L2.inserer_en_tete(randint(0, 1))\n",
    "print(\"Liste 2 ....\", L2)\n",
    "print(\"Identiques ?\", sont_identiques(L1, L2))"
   ]
  }
 ],
 "metadata": {
  "kernelspec": {
   "display_name": "Python 3 (ipykernel)",
   "language": "python",
   "name": "python3"
  },
  "language_info": {
   "codemirror_mode": {
    "name": "ipython",
    "version": 3
   },
   "file_extension": ".py",
   "mimetype": "text/x-python",
   "name": "python",
   "nbconvert_exporter": "python",
   "pygments_lexer": "ipython3",
   "version": "3.9.12"
  }
 },
 "nbformat": 4,
 "nbformat_minor": 4
}
