{
 "cells": [
  {
   "cell_type": "markdown",
   "metadata": {},
   "source": [
    "<div style='background-color: #87ceeb;\n",
    "    border: 0.5em solid black;\n",
    "    border-radius: 0.5em;\n",
    "    padding: 1em;'>\n",
    "    <h2>Activité</h2>\n",
    "    <h1>Méthode <code>__getitem__</code></h1>\n",
    "</div>"
   ]
  },
  {
   "cell_type": "markdown",
   "metadata": {},
   "source": [
    "Compléter la définition de la classe `Liste` en y ajoutant la méthode `__getitem__` qui prend en paramètre d'entrée un entier `pos` et qui renvoie la valeur située à la position `pos`."
   ]
  },
  {
   "cell_type": "code",
   "execution_count": null,
   "metadata": {},
   "outputs": [],
   "source": [
    "class Maillon:\n",
    "    def __init__(self, tete, queue):\n",
    "        \"\"\"\n",
    "        Crée une instance de la classe Maillon.\n",
    "        - Entrées : tete (type quelconque), queue (instance de la classe Liste)\n",
    "        \"\"\"\n",
    "        self.tete = tete\n",
    "        self.queue = queue"
   ]
  },
  {
   "cell_type": "code",
   "execution_count": null,
   "metadata": {},
   "outputs": [],
   "source": [
    "class Liste:\n",
    "    def __init__(self, maillon):\n",
    "        \"\"\"\n",
    "        Crée une instance de la classe Liste.\n",
    "        - Entrée : maillon (instance de la classe Maillon, ou None pour créer une liste vide)\n",
    "        \"\"\"\n",
    "        self.maillon = maillon\n",
    "\n",
    "    def est_vide(self):\n",
    "        \"\"\"\n",
    "        Détermine si la liste est vide.\n",
    "        - Sortie : (booléen, True si la liste est vide, False sinon)\n",
    "        \"\"\"\n",
    "        return self.maillon is None\n",
    "\n",
    "    def tete(self):\n",
    "        \"\"\"\n",
    "        Renvoie la première valeur de la liste.\n",
    "        - Sortie : None si la liste est vide, sinon la valeur située à l'indice 0 dans la liste\n",
    "        \"\"\"\n",
    "        if self.est_vide():\n",
    "            return None\n",
    "        else:\n",
    "            return self.maillon.tete\n",
    "\n",
    "    def queue(self):\n",
    "        \"\"\"\n",
    "        Renvoie la queue de la liste, c'est-à-dire la liste privée de son premier maillon.\n",
    "        - Sortie : (instance de la classe Liste)\n",
    "        \"\"\"\n",
    "        if self.est_vide():\n",
    "            raise ValueError(\"la liste est vide\")\n",
    "        else:\n",
    "            return self.maillon.queue\n",
    "\n",
    "    def nb_elements(self):\n",
    "        \"\"\"\n",
    "        Compte le nombre d'éléments de la liste.\n",
    "        - Sortie : (entier, nombre de valeurs présentes dans la liste)\n",
    "        \"\"\"\n",
    "        if self.est_vide():\n",
    "            return 0\n",
    "        else:\n",
    "            liste = self.queue()\n",
    "            return 1 + liste.nb_elements()\n",
    "\n",
    "    def inserer_en_tete(self, elem):\n",
    "        \"\"\"\n",
    "        Insère un maillon en début de liste.\n",
    "        - Entrée : elem (type quelconque)\n",
    "        \"\"\"\n",
    "        self.maillon = Maillon(elem, Liste(self.maillon))\n",
    "\n",
    "    def supprimer_en_tete(self):\n",
    "        \"\"\"\n",
    "        Supprime un maillon en début de liste.\n",
    "        \"\"\"\n",
    "        if self.est_vide():\n",
    "            raise ValueError(\"la liste est vide\")\n",
    "        else:\n",
    "            self.maillon = self.queue().maillon\n",
    "\n",
    "    def __str__(self):\n",
    "        \"\"\"\n",
    "        Permet l'affichage des éléments de la liste via un appel à la fonction print.\n",
    "        \"\"\"\n",
    "        chaine = \"\"\n",
    "        liste = self\n",
    "        for k in range(self.nb_elements()):\n",
    "            chaine = chaine + f\"{liste.tete()}  \"\n",
    "            liste = liste.queue()\n",
    "        return chaine\n",
    "\n",
    "    def __getitem__(self, pos):\n",
    "        \"\"\"\n",
    "        Renvoie la valeur du maillon en position pos.\n",
    "        - Entrée : pos (entier)\n",
    "        \"\"\"\n",
    "        if pos >= self.nb_elements():\n",
    "            raise IndexError(\"la liste ne contient pas assez d'éléments\")\n",
    "        liste = self\n",
    "        for _ in range(pos):\n",
    "            liste = liste.queue()\n",
    "        return liste.tete()"
   ]
  },
  {
   "cell_type": "markdown",
   "metadata": {},
   "source": [
    "La cellule suivante permet de tester la méthode `__getitem__`. La notation `L[pos]` est un raccourci pour `L.__getitem__(pos)`."
   ]
  },
  {
   "cell_type": "code",
   "execution_count": null,
   "metadata": {},
   "outputs": [],
   "source": [
    "from random import randint\n",
    "L = Liste(None)\n",
    "for _ in range(11):\n",
    "    L.inserer_en_tete(randint(0, 100))\n",
    "print(\"Liste ..................\", L)\n",
    "print(\"Valeur en position 0 ...\", L[0])  # la notation L[0] est un raccourci pour L.__getitem__(0)\n",
    "print(\"Valeur en position 5 ...\", L[5])\n",
    "print(\"Valeur en position 10 ..\", L[10])"
   ]
  }
 ],
 "metadata": {
  "kernelspec": {
   "display_name": "Python 3 (ipykernel)",
   "language": "python",
   "name": "python3"
  },
  "language_info": {
   "codemirror_mode": {
    "name": "ipython",
    "version": 3
   },
   "file_extension": ".py",
   "mimetype": "text/x-python",
   "name": "python",
   "nbconvert_exporter": "python",
   "pygments_lexer": "ipython3",
   "version": "3.9.12"
  }
 },
 "nbformat": 4,
 "nbformat_minor": 4
}
