{
 "cells": [
  {
   "cell_type": "markdown",
   "metadata": {},
   "source": [
    "<div style='background-color: #87ceeb;\n",
    "    border: 0.5em solid black;\n",
    "    border-radius: 0.5em;\n",
    "    padding: 1em;'>\n",
    "    <h2>Activité</h2>\n",
    "    <h1>Rotation d'une image de 90 degrés</h1>\n",
    "</div>"
   ]
  },
  {
   "cell_type": "markdown",
   "metadata": {},
   "source": [
    "L'objectif de cette activité est d'écrire une procédure récursive permettant de faire tourner une image carrée de 90 degrés, en utilisant le principe diviser pour régner."
   ]
  },
  {
   "cell_type": "markdown",
   "metadata": {},
   "source": [
    "<table>\n",
    "    <tr>\n",
    "        <td><img src='https://ntoulzac.github.io/Cours-NSI-Terminale/diviser/images/homer.png' width='60%'><center><br><i>Image initiale</i></center></td>\n",
    "        <td><img src='https://ntoulzac.github.io/Cours-NSI-Terminale/diviser/images/homer_tourne.png' width='60%'><center><br><i>Image tournée de 90 degrés</i></center></td>\n",
    "    </tr>\n",
    "</table>"
   ]
  },
  {
   "cell_type": "markdown",
   "metadata": {},
   "source": [
    "On utilisera le module `PIL`, qui peut être installé en exécutant la cellule suivante."
   ]
  },
  {
   "cell_type": "code",
   "execution_count": null,
   "metadata": {},
   "outputs": [],
   "source": [
    "import sys\n",
    "!{sys.executable} -m pip install Pillow"
   ]
  },
  {
   "cell_type": "markdown",
   "metadata": {},
   "source": [
    "On importe d'abord la classe `Image` depuis le module `PIL` :"
   ]
  },
  {
   "cell_type": "code",
   "execution_count": null,
   "metadata": {},
   "outputs": [],
   "source": [
    "from PIL import Image"
   ]
  },
  {
   "cell_type": "markdown",
   "metadata": {},
   "source": [
    "On ouvre un fichier image et on affiche les dimensions de l'image :"
   ]
  },
  {
   "cell_type": "code",
   "execution_count": null,
   "metadata": {},
   "outputs": [],
   "source": [
    "import requests\n",
    "url = \"https://ntoulzac.github.io/Cours-NSI-Terminale/diviser/images/homer.png\"\n",
    "img = Image.open(requests.get(url, stream=True).raw)\n",
    "img = img.convert(mode=\"RGB\")\n",
    "largeur, hauteur = img.size\n",
    "print(largeur, hauteur)"
   ]
  },
  {
   "cell_type": "markdown",
   "metadata": {},
   "source": [
    "On charge les couleurs des pixels de l'image dans une variable `pixels` :"
   ]
  },
  {
   "cell_type": "code",
   "execution_count": null,
   "metadata": {},
   "outputs": [],
   "source": [
    "pixels = img.load()"
   ]
  },
  {
   "cell_type": "markdown",
   "metadata": {},
   "source": [
    "La couleur du pixel situé sur la `x`e ligne et la `y`e colonne est accessible via la syntaxe `pixels[x, y]` :"
   ]
  },
  {
   "cell_type": "code",
   "execution_count": null,
   "metadata": {},
   "outputs": [],
   "source": [
    "print(pixels[largeur//2, hauteur//2])  # Pixel situé au centre de l'image"
   ]
  },
  {
   "cell_type": "markdown",
   "metadata": {},
   "source": [
    "<div class = 'rq'>\n",
    "La couleur de chaque pixel est ici décrite suivant quatre composantes comprises entre 0 et 255 : les trois premières pour le rouge, le vert et le bleu, et la quatrième pour l'opacité. On parle de format de couleur <b>RGBA</b> (red, green, bleu, alpha).\n",
    "</div>"
   ]
  },
  {
   "cell_type": "markdown",
   "metadata": {},
   "source": [
    "**(1)** Écrire une procédure récursive `rotation` faisant tourner l'image de 90 degrés vers la gauche. Ses paramètres d'entrée seront :\n",
    "- `pixels`, une variable contenant les couleurs de pixels de l'image,\n",
    "- `coin_x` et `coin_y`, deux entiers correspondant aux coordonnées du coin inférieur gauche de la partie d'image à tourner,\n",
    "- `taille`, un entier correspondant à la taille de l'image à tourner."
   ]
  },
  {
   "cell_type": "markdown",
   "metadata": {},
   "source": [
    "<div class = 'rq'>\n",
    "    <table><tr>\n",
    "        <td><img src='https://ntoulzac.github.io/Cours-NSI-Terminale/diviser/images/homer.png' width='80%'></td>\n",
    "                <td><img src='https://ntoulzac.github.io/Cours-NSI-Terminale/diviser/images/homer_intermediaire.png' width='80%'></td>\n",
    "                <td><img src='https://ntoulzac.github.io/Cours-NSI-Terminale/diviser/images/homer_tourne.png' width='80%'></td>\n",
    "        </tr></table>\n",
    "    <ul>\n",
    "        <li>Dans un premier temps, on découpe l'image carrée en quatre morceaux carrés et on effectue récursivement la rotation de chaque morceau.</li>\n",
    "        <li>Dans un second temps, on déplace chaque morceau (pixel par pixel, itérativement) pour reconstituer l'image complète.</li>\n",
    "    </ul>\n",
    "</div>"
   ]
  },
  {
   "cell_type": "code",
   "execution_count": null,
   "metadata": {},
   "outputs": [],
   "source": [
    "def rotation(pix, coin_x, coin_y, t):\n",
    "    if t >= 2:\n",
    "        n_t = t // 2\n",
    "        rotation(pix, coin_x, coin_y, n_t)\n",
    "        rotation(pix, coin_x + n_t, coin_y, n_t)\n",
    "        rotation(pix, coin_x, coin_y + n_t, n_t)\n",
    "        rotation(pix, coin_x + n_t, coin_y + n_t, n_t)\n",
    "        for x in range(coin_x, coin_x + n_t):\n",
    "            for y in range(coin_y, coin_y + n_t):\n",
    "                pix[x, y], pix[x+n_t, y], pix[x+n_t, y+n_t], pix[x, y+n_t] = pix[x+n_t, y], pix[x+n_t, y+n_t], pix[x, y+n_t], pix[x, y]"
   ]
  },
  {
   "cell_type": "markdown",
   "metadata": {},
   "source": [
    "**(2)** Tester la procédure `rotation` en exécutant la cellule suivante. La seconde ligne permet d'enregistrer l'image tournée dans un nouveau fichier."
   ]
  },
  {
   "cell_type": "code",
   "execution_count": null,
   "metadata": {},
   "outputs": [],
   "source": [
    "rotation(pixels, 0, 0, 512)\n",
    "img.save('homer_tourne.png')"
   ]
  }
 ],
 "metadata": {
  "celltoolbar": "Format de la Cellule Texte Brut",
  "kernelspec": {
   "display_name": "Python 3 (ipykernel)",
   "language": "python",
   "name": "python3"
  },
  "language_info": {
   "codemirror_mode": {
    "name": "ipython",
    "version": 3
   },
   "file_extension": ".py",
   "mimetype": "text/x-python",
   "name": "python",
   "nbconvert_exporter": "python",
   "pygments_lexer": "ipython3",
   "version": "3.9.12"
  }
 },
 "nbformat": 4,
 "nbformat_minor": 2
}
