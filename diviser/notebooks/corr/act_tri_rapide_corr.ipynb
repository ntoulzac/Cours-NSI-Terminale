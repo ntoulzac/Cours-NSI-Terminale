{
 "cells": [
  {
   "cell_type": "markdown",
   "metadata": {},
   "source": [
    "<div style='background-color: #87ceeb;\n",
    "    border: 0.5em solid black;\n",
    "    border-radius: 0.5em;\n",
    "    padding: 1em;'>\n",
    "    <h2>Activité</h2>\n",
    "    <h1>Tri rapide</h1>\n",
    "</div>"
   ]
  },
  {
   "cell_type": "markdown",
   "metadata": {},
   "source": [
    "L'objectif de cette activité est de découvrir et d'implémenter l'algorithme de tri rapide, ou *quick sort*, qui est basé sur le principe diviser pour régner.\n",
    "\n",
    "<img src=\"https://idea-instructions.com/quick-sort.png\">\n",
    "\n",
    "## Partitionnement d'un tableau par rapport à un pivot"
   ]
  },
  {
   "cell_type": "markdown",
   "metadata": {},
   "source": [
    "**(1)** Après avoir testé la fonction `partitionner` définie ci-dessous, écrire sa spécification."
   ]
  },
  {
   "cell_type": "code",
   "execution_count": null,
   "metadata": {},
   "outputs": [],
   "source": [
    "def partitionner(T, debut, fin, pivot):\n",
    "    \"\"\"\n",
    "    Effectue le partitionnement du tableau entre les indices debut et fin et par rapport à pivot\n",
    "    Concrètement, les éléments de T d'indice compris entre debut et fin sont déplacés de sorte que\n",
    "    ceux qui sont plus petits que pivot se retrouvent à sa gauche, et ce qui sont plus grands à sa droite\n",
    "    - Entrées : T (tableau), debut, fin, pivot (entiers compris entre 0 et len(T))\n",
    "    - Sortie : j (entier, indice du pivot après le partitionnement)\n",
    "    \"\"\"\n",
    "    T[pivot], T[fin] = T[fin], T[pivot]\n",
    "    j = debut\n",
    "    for i in range(debut, fin):  # la boucle se termine au rang fin-1\n",
    "        if T[i] < T[fin]:\n",
    "            T[i], T[j] = T[j], T[i]\n",
    "            j = j + 1\n",
    "    T[fin], T[j] = T[j], T[fin]\n",
    "    return j"
   ]
  },
  {
   "cell_type": "code",
   "execution_count": null,
   "metadata": {},
   "outputs": [],
   "source": [
    "from random import shuffle"
   ]
  },
  {
   "cell_type": "code",
   "execution_count": null,
   "metadata": {},
   "outputs": [],
   "source": [
    "tableau = [k**2 + 3 for k in range(20)]\n",
    "shuffle(tableau)\n",
    "print(tableau)\n",
    "print(partitionner(tableau, 0, 19, 10))\n",
    "print(tableau)"
   ]
  },
  {
   "cell_type": "code",
   "execution_count": null,
   "metadata": {},
   "outputs": [],
   "source": [
    "tableau = [k**2 + 3 for k in range(20)]\n",
    "shuffle(tableau)\n",
    "print(tableau)\n",
    "print(partitionner(tableau, 5, 15, 10))\n",
    "print(tableau)"
   ]
  },
  {
   "cell_type": "markdown",
   "metadata": {},
   "source": [
    "## Algorithme de tri rapide"
   ]
  },
  {
   "cell_type": "markdown",
   "metadata": {},
   "source": [
    "Le **tri rapide** est un algorithme de tri récursif dont le principe est de placer un des éléments (appelé **pivot**) à sa place finale en déplaçant avant lui tous les éléments qui lui sont inférieurs et après lui tous les éléments qui lui sont supérieurs. Cette étape, appelée le **partitionnement** du tableau, est répétée récursivement sur les deux parties de tableau situées à gauche et à droite du pivot, et ce jusqu'à ce que le tableau soit entièrement trié."
   ]
  },
  {
   "cell_type": "markdown",
   "metadata": {},
   "source": [
    "<div class = 'rq3'>\n",
    "    <p><b>Algorithme de tri rapide pour les éléments d'un tableau <code>T</code> ayant un indice compris entre <code>debut</code> et <code>fin</code></b></p>\n",
    "<p><b>Début</b></p>\n",
    "<p STYLE=\"padding:0 0 0 40px;\">Si <code>debut</code> $<$ <code>fin</code> alors</p>\n",
    "<p STYLE=\"padding:0 0 0 80px;\"><code>pivot</code> ← entier aléatoire compris entre <code>debut</code> et <code>fin</code></p>\n",
    "<p STYLE=\"padding:0 0 0 80px;\"><code>pivot</code> ← <code>partitionner</code>(<code>T</code>, <code>debut</code>, <code>fin</code>, <code>pivot</code>)</p>\n",
    "<p STYLE=\"padding:0 0 0 80px;\">tri rapide des éléments de <code>T</code> ayant un indice compris entre <code>debut</code> et <code>pivot</code>-1</p>\n",
    "<p STYLE=\"padding:0 0 0 80px;\">tri rapide des éléments de <code>T</code> ayant un indice compris entre <code>pivot</code>+1 et <code>fin</code></p>\n",
    "<p><b>Fin</b></p>\n",
    "</div>"
   ]
  },
  {
   "cell_type": "markdown",
   "metadata": {},
   "source": [
    "**(2)** Implémenter l'algorithme de tri rapide dans une procédure `tri_rapide`, puis écrire sa spécification."
   ]
  },
  {
   "cell_type": "code",
   "execution_count": null,
   "metadata": {},
   "outputs": [],
   "source": [
    "from random import randint"
   ]
  },
  {
   "cell_type": "code",
   "execution_count": null,
   "metadata": {},
   "outputs": [],
   "source": [
    "def tri_rapide(T, debut, fin):\n",
    "    \"\"\"\n",
    "    Trie le tableau T grâce à l'algorithme de tri rapide\n",
    "    - Entrées : T (tableau), debut, fin (entiers égaux à 0 et len(T)-1 respectivement pour trier T entièrement)\n",
    "    - Effet de bord : modification de T\n",
    "    \"\"\"\n",
    "    if debut < fin:\n",
    "        pivot = randint(debut, fin)\n",
    "        pivot = partitionner(T, debut, fin, pivot)\n",
    "        tri_rapide(T, debut, pivot - 1)\n",
    "        tri_rapide(T, pivot + 1, fin)"
   ]
  },
  {
   "cell_type": "markdown",
   "metadata": {},
   "source": [
    "**(3)** Tester la procédure `tri_rapide` en exécutant la cellule suivante."
   ]
  },
  {
   "cell_type": "code",
   "execution_count": null,
   "metadata": {},
   "outputs": [],
   "source": [
    "T = list(range(25))\n",
    "shuffle(T)\n",
    "print(\"Liste non triée :\", T)\n",
    "tri_rapide(T, 0, len(T)-1)\n",
    "print(\"Liste triée :\", T)"
   ]
  }
 ],
 "metadata": {
  "celltoolbar": "Format de la Cellule Texte Brut",
  "kernelspec": {
   "display_name": "Python 3 (ipykernel)",
   "language": "python",
   "name": "python3"
  },
  "language_info": {
   "codemirror_mode": {
    "name": "ipython",
    "version": 3
   },
   "file_extension": ".py",
   "mimetype": "text/x-python",
   "name": "python",
   "nbconvert_exporter": "python",
   "pygments_lexer": "ipython3",
   "version": "3.9.12"
  }
 },
 "nbformat": 4,
 "nbformat_minor": 2
}
