{
 "cells": [
  {
   "cell_type": "markdown",
   "id": "be664351",
   "metadata": {},
   "source": [
    "<div style='background-color: #87ceeb;\n",
    "    border: 0.5em solid black;\n",
    "    border-radius: 0.5em;\n",
    "    padding: 1em;'>\n",
    "    <h2>Activité</h2>\n",
    "    <h1>Simplification d'une ligne brisée</h1>\n",
    "</div>\n",
    "\n",
    "[Wikipedia](https://fr.wikipedia.org/wiki/Algorithme_de_Douglas-Peucker)\n",
    "\n",
    "<img src=\"https://upload.wikimedia.org/wikipedia/commons/9/91/Douglas_Peucker.png\" width=30%>\n",
    "\n",
    "## Distance entre deux points et distance d'un point à une droite\n",
    "\n",
    "**(1)** Écrire une instruction qui permet d'importer la fonction `sqrt` du module `math`."
   ]
  },
  {
   "cell_type": "code",
   "execution_count": null,
   "id": "96db78f4",
   "metadata": {},
   "outputs": [],
   "source": []
  },
  {
   "cell_type": "markdown",
   "id": "4736e0fb",
   "metadata": {},
   "source": [
    "**(2)** Supposant l'import réalisé, écrire une fonction `distance_points(a, b)` qui prend en argument deux tuples `a` et `b` représentant les coordonnées de deux points et renvoie la distance qui les sépare."
   ]
  },
  {
   "cell_type": "code",
   "execution_count": null,
   "id": "c16f4bb5",
   "metadata": {},
   "outputs": [],
   "source": []
  },
  {
   "cell_type": "markdown",
   "id": "5804ca61",
   "metadata": {},
   "source": [
    "On dispose d’une fonction `distance_point_droite(p, a, b)` qui prend en argument les tuples représentant les coordonnées respectives des points `p`, `a` et `b` et qui renvoie la distance du point $P$ à la droite $(AB)$. L'exécution de cette fonction\n",
    "produit une erreur dans le cas où les points $A$ et $B$ sont égaux."
   ]
  },
  {
   "cell_type": "code",
   "execution_count": null,
   "id": "06b25b03",
   "metadata": {},
   "outputs": [],
   "source": [
    "def distance_point_droite(p, a, b):\n",
    "    \"\"\"\n",
    "    Calcule la distance entre un point P et une droite (AB), A et B étant distincts.\n",
    "    - Entrées : p, a, b (points représentés par un couple de coordonnées)\n",
    "    - Sortie : (flottant)\n",
    "    \"\"\"\n",
    "    if a == b:\n",
    "        raise ValueError(\"a et b doivent être deux points distincts\")\n",
    "    u = (b[0] - a[0], b[1] - a[1])\n",
    "    n = (-u[1], u[0])\n",
    "    alpha, beta = n\n",
    "    gamma = -alpha*a[0] -beta*a[1]\n",
    "    return abs(alpha*p[0] + beta*p[1] + gamma) / sqrt(alpha**2 + beta**2)"
   ]
  },
  {
   "cell_type": "markdown",
   "id": "6a835158",
   "metadata": {},
   "source": [
    "**(3)** À l'aide des fonctions `distance_points` et `distance_point_droite`, écrire une fonction `distance(p, a, b)` qui renvoie la distance entre le point $P$ et la droite $(AB)$ si les points $A$ et $B$ sont distincts et la distance ܲ$AP$ sinon."
   ]
  },
  {
   "cell_type": "code",
   "execution_count": null,
   "id": "782a7ef0",
   "metadata": {},
   "outputs": [],
   "source": []
  },
  {
   "cell_type": "markdown",
   "id": "d71b8cb0",
   "metadata": {},
   "source": [
    "Dans la suite, on dira que la fonction `distance` calcule la distance entre le point $P$ et les points $A$ et $B$, éventuellement confondus.\n",
    "\n",
    "## Recherche du point \"le moins aligné\"\n",
    "\n",
    "On a besoin d’une fonction `le_plus_loin(ligne)` qui prend en argument une liste de tuples représentant les coordonnées des points d’une ligne polygonale.\n",
    "\n",
    "Cette fonction doit renvoyer un tuple composé de :\n",
    "- l’indice du point de coordonnées `p` de la ligne polygonale d’extrémités `deb` et `fin` pour lequel la distance `distance(p, deb, fin)` est la plus grande ;\n",
    "- la valeur correspondante de cette distance.\n",
    "\n",
    "**(4)** Compléter le code suivant :"
   ]
  },
  {
   "cell_type": "code",
   "execution_count": null,
   "id": "abf240b0",
   "metadata": {},
   "outputs": [],
   "source": [
    "def le_plus_loin(ligne):\n",
    "    \"\"\"\n",
    "    Recherche, par les points d'une ligne brisée, lequel est le plus éloigné du segment\n",
    "    défini par les deux extrémités de la ligne.\n",
    "    - Entrée : ligne (liste de points, représentés par un couple de coordonées)\n",
    "    - Sortie : indice_max, dmax (couple composé de l'indice du point recherché dans la liste,\n",
    "                                 et de la distance correspondante)\n",
    "    \"\"\"\n",
    "    n = len(ligne)\n",
    "    deb = ligne[0]\n",
    "    fin = ligne[n-1]\n",
    "    dmax = 0\n",
    "    indice_max = 0\n",
    "    for idx in range(1, n-1):\n",
    "        p = ......\n",
    "        d = distance(p, deb, fin)\n",
    "        if ......:\n",
    "            ......\n",
    "            ......\n",
    "    return ......"
   ]
  },
  {
   "cell_type": "markdown",
   "id": "dcd92790",
   "metadata": {},
   "source": [
    "## Algorithme de Douglas-Peucker\n",
    "\n",
    "**(5)** Écrire une fonction `extrait(tab, i, j)` qui renvoie la copie du tableau `tab` des cases d'indice `i` inclus à `j` inclus pour 0 ≤ `i` ≤ `j` < `len(tab)`.\n",
    "\n",
    "L'appel `extrait([7, 4, 9, 12], 2, 3)` renverra ainsi `[9, 12]`."
   ]
  },
  {
   "cell_type": "code",
   "execution_count": null,
   "id": "7e238b97",
   "metadata": {},
   "outputs": [],
   "source": []
  },
  {
   "cell_type": "markdown",
   "id": "00366bf8",
   "metadata": {},
   "source": [
    "L’algorithme de Douglas-Peuker est implémenté par la fonction `simplification` ci-dessous, qui prend en argument la ligne polygonale et le seuil choisi.\n",
    "\n",
    "**(6)** Compléter la définition de la fonction `simplification` conformément à sa spécification."
   ]
  },
  {
   "cell_type": "code",
   "execution_count": null,
   "id": "e70e8e24",
   "metadata": {},
   "outputs": [],
   "source": [
    "def simplification(ligne, seuil):\n",
    "    \"\"\"\n",
    "    Simplifie une ligne brisée grâce à l'algorithme de Douglas-Peucker.\n",
    "    - Entrées : ligne (liste de points représentés par un couple de coordonnées), seuil (flottant positif)\n",
    "    - Sortie : (liste de points représentés par un couple de coordonnées)\n",
    "    \"\"\"\n",
    "    n = len(ligne)\n",
    "    if n <= 2:\n",
    "        return ......\n",
    "    else:\n",
    "        indice_max, dmax = le_plus_loin(ligne)\n",
    "        if dmax <= seuil:\n",
    "            return ......\n",
    "        else:\n",
    "            ......"
   ]
  },
  {
   "cell_type": "markdown",
   "id": "012d4054",
   "metadata": {},
   "source": [
    "## Exemple avec le contour de la France\n",
    "\n",
    "Le fichier `annexe_douglas_peucker.py` est à télécharger [ici](https://ntoulzac.github.io/Cours-NSI-Terminale/diviser/notebooks/annexe_doublas_peucker.py) et à placer dans le même répertoire que ce carnet _Jupyter_.\n",
    "\n",
    "**(7)** En exécutant les deux cellules suivantes, comparer le contour de la France avant et après simplification."
   ]
  },
  {
   "cell_type": "code",
   "execution_count": null,
   "id": "40b73359",
   "metadata": {},
   "outputs": [],
   "source": [
    "from annexe_douglas_peucker import comparer_avant_apres, FRANCE"
   ]
  },
  {
   "cell_type": "code",
   "execution_count": null,
   "id": "2c347a12",
   "metadata": {},
   "outputs": [],
   "source": [
    "comparer_avant_apres(FRANCE, simplification, 1)"
   ]
  }
 ],
 "metadata": {
  "kernelspec": {
   "display_name": "Python 3 (ipykernel)",
   "language": "python",
   "name": "python3"
  },
  "language_info": {
   "codemirror_mode": {
    "name": "ipython",
    "version": 3
   },
   "file_extension": ".py",
   "mimetype": "text/x-python",
   "name": "python",
   "nbconvert_exporter": "python",
   "pygments_lexer": "ipython3",
   "version": "3.9.12"
  }
 },
 "nbformat": 4,
 "nbformat_minor": 5
}
