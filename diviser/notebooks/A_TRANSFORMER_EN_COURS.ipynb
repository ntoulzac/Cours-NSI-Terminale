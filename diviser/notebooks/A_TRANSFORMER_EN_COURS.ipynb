{
 "cells": [
  {
   "cell_type": "markdown",
   "metadata": {},
   "source": [
    "# Chapitre 6 : Méthode diviser pour régner"
   ]
  },
  {
   "cell_type": "markdown",
   "metadata": {},
   "source": [
    "## Algorithme de tri fusion"
   ]
  },
  {
   "cell_type": "markdown",
   "metadata": {},
   "source": [
    "De même que l'algorithme de recherche dichotomique d'une valeur dans un tableau trié (vu en classe de Première), les deux algorithmes de tri étudiés dans cette partie s'appuient sur le principe **diviser pour régner**.\n",
    "\n",
    "Il s'agit de **décomposer** le problème initial en plusieurs sous-problèmes plus petits, à **résoudre** ces sous-problèmes (par exemple récursivement) puis à **combiner** les solutions des sous-problèmes pour obtenir une solution au problème initial."
   ]
  },
  {
   "cell_type": "markdown",
   "metadata": {},
   "source": [
    "#### Fusion de deux tableaux triés"
   ]
  },
  {
   "cell_type": "markdown",
   "metadata": {},
   "source": [
    "**(1)** Après avoir exécuté la cellule suivante, dire à quoi correspondent, en Python, les syntaxes `tableau[a:b]`, `tableau[a:]` et `tableau[:b]`."
   ]
  },
  {
   "cell_type": "code",
   "execution_count": null,
   "metadata": {},
   "outputs": [],
   "source": [
    "from random import randint\n",
    "tableau = [randint(0, 10) for _ in range(20)]\n",
    "print('Tableau complet : ', tableau)\n",
    "print('Extrait 1 : ', tableau[5:15])\n",
    "print('Extrait 2 : ', tableau[5:])\n",
    "print('Extrait 3 : ', tableau[:15])"
   ]
  },
  {
   "cell_type": "markdown",
   "metadata": {},
   "source": [
    "On considère deux tableaux `T1` et `T2` et on suppose que ces deux tableaux sont triés. On souhaite fusionner de façon récursive ces deux tableaux en un seul tableau `T` trié lui aussi.\n",
    "\n",
    "**(2)** Compléter le code de la fonction `fusion` définie ci-dessous :"
   ]
  },
  {
   "cell_type": "code",
   "execution_count": null,
   "metadata": {},
   "outputs": [],
   "source": [
    "def fusion(T1, T2):\n",
    "    \"\"\"\n",
    "    Fusionne les tableaux triés T1 et T2 en un seul tableau T trié.\n",
    "    - Entrées : T1, T2 (tableaux triés)\n",
    "    - Sortie : T (tableau trié)\n",
    "    \"\"\"\n",
    "    if ??????:\n",
    "        return T2\n",
    "    if ??????:\n",
    "        return T1\n",
    "    if T1[0] <= T2[0]:\n",
    "        return [T1[0]] + fusion(??????, ??????)\n",
    "    else:\n",
    "        return ??????"
   ]
  },
  {
   "cell_type": "code",
   "execution_count": null,
   "metadata": {},
   "outputs": [],
   "source": [
    "tableau1 = [0, 2, 4, 6, 8, 10]\n",
    "tableau2 = [1, 3, 5, 7, 9]\n",
    "fusion(tableau1, tableau2)"
   ]
  },
  {
   "cell_type": "markdown",
   "metadata": {},
   "source": [
    "#### Algorithme de tri fusion"
   ]
  },
  {
   "cell_type": "markdown",
   "metadata": {},
   "source": [
    "Le **tri fusion** est un algorithme de tri fusionnant récursivement deux tableaux triés."
   ]
  },
  {
   "cell_type": "markdown",
   "metadata": {},
   "source": [
    "<div class = 'rq3'>\n",
    "    <p><b>Algorithme de tri fusion pour un tableau <code>T</code></b></p>\n",
    "<p><b>Début</b></p>\n",
    "<p STYLE=\"padding:0 0 0 40px;\">Si longueur(<code>T</code>) $\\leq$ 1 alors</p>\n",
    "    <p STYLE=\"padding:0 0 0 80px;\">Retourner <code>T</code></p>\n",
    "<p STYLE=\"padding:0 0 0 40px;\">Sinon</p>\n",
    "<p STYLE=\"padding:0 0 0 80px;\">T1 ← tri fusion de la première moitié de <code>T</code></p>\n",
    "<p STYLE=\"padding:0 0 0 80px;\">T2 ← tri fusion de la seconde moitié de <code>T</code></p>\n",
    "<p STYLE=\"padding:0 0 0 80px;\">T ← fusion de <code>T1</code> et de <code>T2</code></p>\n",
    "<p STYLE=\"padding:0 0 0 80px;\">Retourner <code>T</code></p>    \n",
    "<p><b>Fin</b></p>\n",
    "</div>"
   ]
  },
  {
   "cell_type": "markdown",
   "metadata": {},
   "source": [
    "**(3)** Implémenter l'algorithme de tri fusion dans une fonction `tri_fusion`, puis écrire sa spécification."
   ]
  },
  {
   "cell_type": "code",
   "execution_count": null,
   "metadata": {},
   "outputs": [],
   "source": []
  },
  {
   "cell_type": "markdown",
   "metadata": {},
   "source": [
    "**(4)** Tester la fonction `tri_fusion` en exécutant la cellule suivante, et expliquer le rôle de la procédure `shuffle` importée depuis le module `random`."
   ]
  },
  {
   "cell_type": "code",
   "execution_count": null,
   "metadata": {},
   "outputs": [],
   "source": [
    "from random import shuffle\n",
    "T = list(range(25))\n",
    "shuffle(T)\n",
    "print('Tableau non trié : ', T)\n",
    "T = tri_fusion(T)\n",
    "print('Tableau trié : ', T)"
   ]
  },
  {
   "cell_type": "markdown",
   "metadata": {},
   "source": [
    "<img src=\"https://idea-instructions.com/merge-sort.png\">"
   ]
  },
  {
   "cell_type": "markdown",
   "metadata": {},
   "source": [
    "## Activité : génération de labyrinthes ?"
   ]
  },
  {
   "cell_type": "code",
   "execution_count": null,
   "metadata": {},
   "outputs": [],
   "source": []
  }
 ],
 "metadata": {
  "celltoolbar": "Format de la Cellule Texte Brut",
  "kernelspec": {
   "display_name": "Python 3",
   "language": "python",
   "name": "python3"
  },
  "language_info": {
   "codemirror_mode": {
    "name": "ipython",
    "version": 3
   },
   "file_extension": ".py",
   "mimetype": "text/x-python",
   "name": "python",
   "nbconvert_exporter": "python",
   "pygments_lexer": "ipython3",
   "version": "3.8.5"
  }
 },
 "nbformat": 4,
 "nbformat_minor": 2
}
