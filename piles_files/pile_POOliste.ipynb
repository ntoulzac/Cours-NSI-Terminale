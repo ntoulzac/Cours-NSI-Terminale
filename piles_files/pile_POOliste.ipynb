{
 "cells": [
  {
   "cell_type": "code",
   "execution_count": 1,
   "metadata": {},
   "outputs": [],
   "source": [
    "class Cellule:\n",
    "    def __init__(self, valeur, suivant=None):\n",
    "        self.valeur = valeur\n",
    "        self.suivant = suivant"
   ]
  },
  {
   "cell_type": "code",
   "execution_count": 2,
   "metadata": {},
   "outputs": [],
   "source": [
    "class Pile:\n",
    "    def __init__(self):\n",
    "        self.sommet = None\n",
    "\n",
    "    def est_vide(self):\n",
    "        return self.sommet is None\n",
    "\n",
    "    def empiler(self, valeur):\n",
    "        nouveau_sommet = Cellule(valeur, self.sommet)\n",
    "        self.sommet = nouveau_sommet\n",
    "\n",
    "    def depiler(self):\n",
    "        if self.est_vide():\n",
    "            raise ValueError('la pile est vide')\n",
    "        else:\n",
    "            sommet = self.sommet\n",
    "            self.sommet = self.sommet.suivant\n",
    "            return sommet\n",
    "    \n",
    "    def __str__(self):\n",
    "        chaine = 'sommet > '\n",
    "        cellule = self.sommet\n",
    "        while cellule is not None:\n",
    "            chaine += str(cellule.valeur) + ' '\n",
    "            cellule = cellule.suivant\n",
    "        return chaine"
   ]
  },
  {
   "cell_type": "code",
   "execution_count": 3,
   "metadata": {},
   "outputs": [
    {
     "name": "stdout",
     "output_type": "stream",
     "text": [
      "sommet > \n",
      "sommet > 9 8 7 6 5 4 3 2 1 0 \n",
      "sommet > 6 5 4 3 2 1 0 \n"
     ]
    }
   ],
   "source": [
    "ma_pile = Pile()\n",
    "print(ma_pile)\n",
    "for k in range(10):\n",
    "    ma_pile.empiler(k)\n",
    "print(ma_pile)\n",
    "for k in range(3):\n",
    "    ma_pile.depiler()\n",
    "print(ma_pile)"
   ]
  }
 ],
 "metadata": {
  "kernelspec": {
   "display_name": "Python 3",
   "language": "python",
   "name": "python3"
  },
  "language_info": {
   "codemirror_mode": {
    "name": "ipython",
    "version": 3
   },
   "file_extension": ".py",
   "mimetype": "text/x-python",
   "name": "python",
   "nbconvert_exporter": "python",
   "pygments_lexer": "ipython3",
   "version": "3.8.5"
  }
 },
 "nbformat": 4,
 "nbformat_minor": 5
}
