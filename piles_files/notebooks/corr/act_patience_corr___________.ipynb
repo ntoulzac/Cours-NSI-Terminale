{
 "cells": [
  {
   "cell_type": "markdown",
   "metadata": {},
   "source": [
    "<div style='background-color: #87ceeb;\n",
    "    border: 0.5em solid black;\n",
    "    border-radius: 0.5em;\n",
    "    padding: 1em;'>\n",
    "    <h2>Activité</h2>\n",
    "    <h1>Patience des usagers au guichet</h1>\n",
    "</div>"
   ]
  },
  {
   "cell_type": "markdown",
   "metadata": {},
   "source": [
    "On donne la définition d'une classe `File`."
   ]
  },
  {
   "cell_type": "code",
   "execution_count": null,
   "metadata": {},
   "outputs": [],
   "source": [
    "class File:\n",
    "    def __init__(self):\n",
    "        self.liste = []\n",
    "    \n",
    "    def est_vide(self):\n",
    "        return self.liste == []\n",
    "\n",
    "    def enfiler(self, elem):\n",
    "        self.liste.insert(0, elem)\n",
    "    \n",
    "    def defiler(self):\n",
    "        if self.est_vide():\n",
    "            raise ValueError(\"la file est vide\")\n",
    "        return self.liste.pop()\n",
    "    \n",
    "    def __str__(self):\n",
    "        chaine = '|'\n",
    "        for k in range(len(self.liste)):\n",
    "            chaine += f\" {self.liste[k]} |\"\n",
    "        return chaine"
   ]
  },
  {
   "cell_type": "markdown",
   "metadata": {},
   "source": [
    "On considère un guichet unique ouvert pendant huit heures consécutives sur une journée, soit 28800 secondes.\n",
    "\n",
    "Les usagers qui arrivent prennent un ticket numéroté et commencent à faire la queue. On note `p` la probabilité qu'un nouvel usager arrive pendant un intervalle de temps d'une seconde.\n",
    "\n",
    "Lorsque c'est son tour d'avoir accès au guichet, le temps que l'usager y passe est un nombre de secondes aléatoire compris entre 30 et 300. On considère que tous les nombres compris entre 30 et 300 ont la même probabilité d'apparaître.\n",
    "\n",
    "Si le temps d'attente est trop long, un usager peut partir avant d'avoir eu accès au guichet. La patience de l'usager est un nombre de secondes aléatoire compris etre 120 et 1800. On considère que tous les nombres compris entre 120 et 1800 ont la même probabilité d'apparaître.\n",
    "\n",
    "Le but de cette activité est de simuler une journée d'activité de ce guichet et de calculer, en fonction de `p`, quelle est la proportion des usagers qui sont repartis sans avoir été servis.\n",
    "\n",
    "**(1)** Définir une classe `Usager` dont les instances possèdent trois attributs et une méthode :\n",
    "- l'attribut `num` : le numéro du ticket attribué à l'usager à son arrivée dans la file d'attente, passé en argument de la méthode constructeur,\n",
    "- l'attribut `tps_arr` : l'instant où l'usager arrive dans la file d'attente, exprimé en nombre de secondes écoulées depuis l'ouverture du guichet, passé en argument de la méthode constructeur,\n",
    "- l'attribut `patience` : le nombre de secondes que l'usager accepte de passer dans la file d'attente, tiré au hasard entre 120 et 1800),\n",
    "- la méthode `est_parti` : elle prend en entrée un instant `tps` (exprimé en nombre de secondes écoulées depuis l'ouverture du guichet) et elle retourne `True` si l'usager n'a pas eu la patience d'attendre jusque là, et `False` sinon."
   ]
  },
  {
   "cell_type": "code",
   "execution_count": null,
   "metadata": {},
   "outputs": [],
   "source": [
    "from random import random, randint"
   ]
  },
  {
   "cell_type": "code",
   "execution_count": null,
   "metadata": {},
   "outputs": [],
   "source": [
    "class Usager:\n",
    "    def __init__(self, num_ticket, tps_arrivee):\n",
    "        self.num = num_ticket\n",
    "        self.tps_arr = tps_arrivee\n",
    "        self.patience = randint(120, 1800)\n",
    "    \n",
    "    def est_parti(self, tps):\n",
    "        return tps > self.tps_arr + self.patience"
   ]
  },
  {
   "cell_type": "markdown",
   "metadata": {},
   "source": [
    "**(2)** Définir une classe `Guichet` dont les instances possèdent trois attributs et trois méthodes :\n",
    "- l'attribut `nb_tickets` : le nombre de tickets distribués depuis l'ouverture du guichet,\n",
    "- l'attribut `nb_non_servis` : le nombre d'usagers partis sans avoir été servis,\n",
    "- l'attribut `tps_libre` : le prochain instant où le guichet sera libre, exprimé en nombre de secondes écoulées depuis l'ouverture du guichet,\n",
    "- la méthode `est_libre` : elle prend en entrée un instant `tps`, et elle permet de savoir si le guichet est libre ou non,\n",
    "- la méthode `nouveau_dans_file` : elle prend en entrée une file `f` et un instant `tps`, et elle permet d'accueillir un nouvel usager dans la file d'attente,\n",
    "- la méthode `servir` : elle prend en entrée un instant `tps`, et elle permet d'actualiser le prochain instant où le guichet sera libre."
   ]
  },
  {
   "cell_type": "code",
   "execution_count": null,
   "metadata": {},
   "outputs": [],
   "source": [
    "class Guichet:\n",
    "    def __init__(self):\n",
    "        self.nb_tickets = 0\n",
    "        self.nb_non_servis = 0\n",
    "        self.tps_libre = 0\n",
    "    \n",
    "    def est_libre(self, tps):\n",
    "        return tps >= self.tps_libre\n",
    "    \n",
    "    def nouveau_dans_file(self, f, tps):\n",
    "        f.enfiler(Usager(self.nb_tickets, tps))\n",
    "        self.nb_tickets = self.nb_tickets + 1\n",
    "    \n",
    "    def servir(self, tps):\n",
    "        self.tps_libre = tps + randint(30, 300)"
   ]
  },
  {
   "cell_type": "markdown",
   "metadata": {},
   "source": [
    "**(3)** Compléter la définition de la fonction `proportion_non_servis` :"
   ]
  },
  {
   "cell_type": "code",
   "execution_count": null,
   "metadata": {},
   "outputs": [],
   "source": [
    "def proportion_non_servis(p):\n",
    "    \"\"\"\n",
    "    Simule une file d'attente au guichet sur une journée et calcule le taux d'usagers repartis sans avoir été servis.\n",
    "    - Entrée : p (flottant compris entre 0 et 1, probabilité qu'un usager arrive dans la file pendant une seconde donnée)\n",
    "    - Sortie : (flottant, proportion d'usagers repartis sans avoir été servis)\n",
    "    \"\"\"\n",
    "    if not 0 < p <= 1:  # assertion : p doit être dans l'intervalle ]0;1]\n",
    "        raise ValueError(\"l'argument doit être une probabilité non nulle\")\n",
    "    f = File()  # création d'une file vide\n",
    "    guichet = Guichet()  # création d'une instance de la classe Guichet\n",
    "    for tps in range(28800):  # on parcourt les 28800 secondes où le guichet est ouvert\n",
    "        if random() < p:  # condition vraie avec une probabilité égale à p\n",
    "            guichet.nouveau_dans_file(f, tps)  # un nouvel usager se présente dans la file\n",
    "        if guichet.est_libre(tps) and not f.est_vide():  # si le guichet est libre et la file n'est pas vide alors...\n",
    "            usager = f.defiler()  # ... un numéro de ticket est appelé au guichet...\n",
    "            if usager.est_parti(tps):\n",
    "                guichet.nb_non_servis = guichet.nb_non_servis + 1\n",
    "            else:\n",
    "                guichet.servir(tps)\n",
    "    while not f.est_vide():  # les usagers qui sont toujours dans la file à la fermeture...\n",
    "        f.defiler()  # ... repartent sans avoir été servis\n",
    "        guichet.nb_non_servis = guichet.nb_non_servis + 1\n",
    "    return guichet.nb_non_servis / guichet.nb_tickets"
   ]
  },
  {
   "cell_type": "markdown",
   "metadata": {},
   "source": [
    "**(4)** Effectuer une simulation dans laquelle il y a 1% de chance qu'un usager se présente pendant chaque seconde et afficher la proportion d'usagers repartis sans avoir été servis."
   ]
  },
  {
   "cell_type": "code",
   "execution_count": null,
   "metadata": {},
   "outputs": [],
   "source": [
    "proportion_non_servis(0.01)"
   ]
  },
  {
   "cell_type": "markdown",
   "metadata": {},
   "source": [
    "**(5)** Effectuer une simulation dans laquelle un nouvel usager se présente en moyenne toutes les deux minutes et afficher la proportion d'usagers repartis sans avoir été servis."
   ]
  },
  {
   "cell_type": "code",
   "execution_count": null,
   "metadata": {},
   "outputs": [],
   "source": [
    "proportion_non_servis(1/120)"
   ]
  },
  {
   "cell_type": "markdown",
   "metadata": {},
   "source": [
    "**(6)** En exécutant les trois cellules suivantes, représenter graphiquement 1000 simulations : sur l'axe des abscisses `p`, sur l'axe des ordonnées la proportion d'usagers repartis sans avoir été servis."
   ]
  },
  {
   "cell_type": "code",
   "execution_count": null,
   "metadata": {},
   "outputs": [],
   "source": [
    "import matplotlib.pyplot as plt"
   ]
  },
  {
   "cell_type": "code",
   "execution_count": null,
   "metadata": {},
   "outputs": [],
   "source": [
    "X = []\n",
    "Y = []\n",
    "for val in range(1, 201):\n",
    "    p = val/4000\n",
    "    for _ in range(5):\n",
    "        X.append(p)\n",
    "        Y.append(proportion_non_servis(p))"
   ]
  },
  {
   "cell_type": "code",
   "execution_count": null,
   "metadata": {},
   "outputs": [],
   "source": [
    "plt.figure(figsize = (12, 8))\n",
    "plt.ylim(0, 1)\n",
    "plt.plot(X, Y, 'k.')\n",
    "plt.show()"
   ]
  }
 ],
 "metadata": {
  "kernelspec": {
   "display_name": "Python 3 (ipykernel)",
   "language": "python",
   "name": "python3"
  },
  "language_info": {
   "codemirror_mode": {
    "name": "ipython",
    "version": 3
   },
   "file_extension": ".py",
   "mimetype": "text/x-python",
   "name": "python",
   "nbconvert_exporter": "python",
   "pygments_lexer": "ipython3",
   "version": "3.9.12"
  }
 },
 "nbformat": 4,
 "nbformat_minor": 4
}
