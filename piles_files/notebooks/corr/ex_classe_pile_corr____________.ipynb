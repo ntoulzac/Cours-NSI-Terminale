{
 "cells": [
  {
   "cell_type": "markdown",
   "metadata": {},
   "source": [
    "<div style='background-color: #e3a8b6;\n",
    "    border: 0.5em solid black;\n",
    "    border-radius: 0.5em;\n",
    "    padding: 1em;'>\n",
    "    <h2>Exercice</h2>\n",
    "    <h1>Classe <code>Pile</code></h1>\n",
    "</div>"
   ]
  },
  {
   "cell_type": "markdown",
   "metadata": {},
   "source": [
    "Voici une implémentation possible de la classe `Pile`, qui utilise une liste Python (`list`) :"
   ]
  },
  {
   "cell_type": "code",
   "execution_count": null,
   "metadata": {},
   "outputs": [],
   "source": [
    "class Pile:\n",
    "    def __init__(self):\n",
    "        self.liste = []\n",
    "    \n",
    "    def est_vide(self):\n",
    "        return self.liste == []\n",
    "\n",
    "    def empiler(self, elem):\n",
    "        self.liste.append(elem)\n",
    "    \n",
    "    def depiler(self):\n",
    "        if self.est_vide():\n",
    "            raise ValueError(\"la pile est vide\")\n",
    "        return self.liste.pop()\n",
    "    \n",
    "    def __str__(self):\n",
    "        chaine = '|'\n",
    "        for k in range(len(self.liste)):\n",
    "            chaine += f\" {self.liste[k]} |\"\n",
    "        return chaine"
   ]
  },
  {
   "cell_type": "markdown",
   "metadata": {},
   "source": [
    "**(1)** Ecrire la spécification des méthodes définies ci-dessus.\n",
    "\n",
    "**(2)** Ecrire une suite d'instructions permettant d'obtenir les affichages successifs suivants :\n",
    "\n",
    "`|`\n",
    "\n",
    "`True`\n",
    "\n",
    "`| 4 | 0 | -1 |`\n",
    "\n",
    "`-1`\n",
    "\n",
    "`| 4 | 0 |`\n",
    "\n",
    "`False`"
   ]
  },
  {
   "cell_type": "code",
   "execution_count": null,
   "metadata": {},
   "outputs": [],
   "source": [
    "ma_pile = Pile()\n",
    "print(ma_pile)\n",
    "print(ma_pile.est_vide())\n",
    "ma_pile.empiler(4)\n",
    "ma_pile.empiler(0)\n",
    "ma_pile.empiler(-1)\n",
    "print(ma_pile)\n",
    "elem = ma_pile.depiler()\n",
    "print(elem)\n",
    "print(ma_pile)\n",
    "print(ma_pile.est_vide())"
   ]
  },
  {
   "cell_type": "markdown",
   "metadata": {},
   "source": [
    "**(3)** Ecrire une suite d'instructions permettant d'obtenir les affichages successifs suivants :\n",
    "\n",
    "`| 1 | 2 | 3 |`\n",
    "\n",
    "`| 1 | 2 | 4 | 5 |`\n",
    "\n",
    "`| 1 | 6 |`"
   ]
  },
  {
   "cell_type": "code",
   "execution_count": null,
   "metadata": {},
   "outputs": [],
   "source": [
    "ma_pile = Pile()\n",
    "for k in range(1, 4):\n",
    "    ma_pile.empiler(k)\n",
    "print(ma_pile)\n",
    "ma_pile.depiler()\n",
    "for k in range(4, 6):\n",
    "    ma_pile.empiler(k)\n",
    "print(ma_pile)\n",
    "for k in range(3):\n",
    "    elem = ma_pile.depiler()\n",
    "ma_pile.empiler(6)\n",
    "print(ma_pile)"
   ]
  }
 ],
 "metadata": {
  "kernelspec": {
   "display_name": "Python 3 (ipykernel)",
   "language": "python",
   "name": "python3"
  },
  "language_info": {
   "codemirror_mode": {
    "name": "ipython",
    "version": 3
   },
   "file_extension": ".py",
   "mimetype": "text/x-python",
   "name": "python",
   "nbconvert_exporter": "python",
   "pygments_lexer": "ipython3",
   "version": "3.9.12"
  }
 },
 "nbformat": 4,
 "nbformat_minor": 4
}
