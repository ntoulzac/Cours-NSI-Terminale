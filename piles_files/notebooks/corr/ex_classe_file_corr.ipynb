{
 "cells": [
  {
   "cell_type": "markdown",
   "metadata": {},
   "source": [
    "<div style='background-color: #e3a8b6;\n",
    "    border: 0.5em solid black;\n",
    "    border-radius: 0.5em;\n",
    "    padding: 1em;'>\n",
    "    <h2>Exercice</h2>\n",
    "    <h1>Classe <code>File</code></h1>\n",
    "</div>"
   ]
  },
  {
   "cell_type": "markdown",
   "metadata": {},
   "source": [
    "Voici une implémentation possible de la classe `File`, qui utilise une liste Python (`list`) :"
   ]
  },
  {
   "cell_type": "code",
   "execution_count": 2,
   "metadata": {},
   "outputs": [],
   "source": [
    "class File:\n",
    "    def __init__(self):\n",
    "        \"\"\"\n",
    "        Crée une file vide.\n",
    "        \"\"\"\n",
    "        self.liste = []\n",
    "    \n",
    "    def est_vide(self):\n",
    "        \"\"\"\n",
    "        Détermine si la file est vide ou non.\n",
    "        - Sortie : (booléen, True si la pile est vide, False sinon)\n",
    "        \"\"\"\n",
    "        return self.liste == []\n",
    "\n",
    "    def enfiler(self, elem):\n",
    "        \"\"\"\n",
    "        Ajoute un élément en queue de file.\n",
    "        - Entrée : elem (élément à ajouter)\n",
    "        \"\"\"\n",
    "        self.liste.insert(0, elem)\n",
    "    \n",
    "    def defiler(self):\n",
    "        \"\"\"\n",
    "        Retire un élément de la tête de la file et le renvoie.\n",
    "        - Sortie : (élément retiré)\n",
    "        \"\"\"\n",
    "        if self.est_vide():\n",
    "            raise ValueError(\"la file est vide\")\n",
    "        return self.liste.pop()\n",
    "    \n",
    "    def __str__(self):\n",
    "        \"\"\"\n",
    "        Permet un affichage de la file via la fonction print.\n",
    "        \"\"\"\n",
    "        chaine = '|'\n",
    "        for k in range(len(self.liste)):\n",
    "            chaine += f\" {self.liste[k]} |\"\n",
    "        return chaine"
   ]
  },
  {
   "cell_type": "markdown",
   "metadata": {},
   "source": [
    "**(1)** Ecrire la spécification des méthodes définies ci-dessus.\n",
    "\n",
    "**(2)** Ecrire une suite d'instructions permettant d'obtenir les affichages successifs suivants :\n",
    "\n",
    "`|`\n",
    "\n",
    "`True`\n",
    "\n",
    "`| 4 | 0 | -1 |`\n",
    "\n",
    "`-1`\n",
    "\n",
    "`| 4 | 0 |`\n",
    "\n",
    "`False`"
   ]
  },
  {
   "cell_type": "code",
   "execution_count": 3,
   "metadata": {},
   "outputs": [
    {
     "name": "stdout",
     "output_type": "stream",
     "text": [
      "|\n",
      "True\n",
      "| 4 | 0 | -1 |\n",
      "-1\n",
      "| 4 | 0 |\n",
      "False\n"
     ]
    }
   ],
   "source": [
    "ma_file = File()\n",
    "print(ma_file)\n",
    "print(ma_file.est_vide())\n",
    "ma_file.enfiler(-1)\n",
    "ma_file.enfiler(0)\n",
    "ma_file.enfiler(4)\n",
    "print(ma_file)\n",
    "elem = ma_file.defiler()\n",
    "print(elem)\n",
    "print(ma_file)\n",
    "print(ma_file.est_vide())"
   ]
  },
  {
   "cell_type": "markdown",
   "metadata": {},
   "source": [
    "**(3)** Ecrire une suite d'instructions permettant d'obtenir les affichages successifs suivants :\n",
    "\n",
    "`| 3 | 2 | 1 |`\n",
    "\n",
    "`| 5 | 4 | 3 | 2 |`\n",
    "\n",
    "`| 6 | 5 |`"
   ]
  },
  {
   "cell_type": "code",
   "execution_count": 4,
   "metadata": {},
   "outputs": [
    {
     "name": "stdout",
     "output_type": "stream",
     "text": [
      "| 3 | 2 | 1 |\n",
      "| 5 | 4 | 3 | 2 |\n",
      "| 6 | 5 |\n"
     ]
    }
   ],
   "source": [
    "ma_file = File()\n",
    "for k in range(1, 4):\n",
    "    ma_file.enfiler(k)\n",
    "print(ma_file)\n",
    "ma_file.defiler()\n",
    "for k in range(4, 6):\n",
    "    ma_file.enfiler(k)\n",
    "print(ma_file)\n",
    "ma_file.defiler()\n",
    "ma_file.enfiler(6)\n",
    "for k in range(2):\n",
    "    elem = ma_file.defiler()\n",
    "print(ma_file)"
   ]
  }
 ],
 "metadata": {
  "kernelspec": {
   "display_name": "Python 3 (ipykernel)",
   "language": "python",
   "name": "python3"
  },
  "language_info": {
   "codemirror_mode": {
    "name": "ipython",
    "version": 3
   },
   "file_extension": ".py",
   "mimetype": "text/x-python",
   "name": "python",
   "nbconvert_exporter": "python",
   "pygments_lexer": "ipython3",
   "version": "3.9.12"
  }
 },
 "nbformat": 4,
 "nbformat_minor": 4
}
