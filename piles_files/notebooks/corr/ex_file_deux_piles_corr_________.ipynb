{
 "cells": [
  {
   "cell_type": "markdown",
   "metadata": {},
   "source": [
    "<div style='background-color: #e3a8b6;\n",
    "    border: 0.5em solid black;\n",
    "    border-radius: 0.5em;\n",
    "    padding: 1em;'>\n",
    "    <h2>Exercice</h2>\n",
    "    <h1>File définie avec deux piles</h1>\n",
    "</div>"
   ]
  },
  {
   "cell_type": "markdown",
   "metadata": {},
   "source": [
    "On donne la définition d'une classe `Pile`."
   ]
  },
  {
   "cell_type": "code",
   "execution_count": 1,
   "metadata": {},
   "outputs": [],
   "source": [
    "class Pile:\n",
    "    def __init__(self):\n",
    "        self.liste = []\n",
    "    \n",
    "    def est_vide(self):\n",
    "        return self.liste == []\n",
    "\n",
    "    def empiler(self, elem):\n",
    "        self.liste.append(elem)\n",
    "    \n",
    "    def depiler(self):\n",
    "        if self.est_vide():\n",
    "            raise ValueError(\"la pile est vide\")\n",
    "        return self.liste.pop()\n",
    "    \n",
    "    def __str__(self):\n",
    "        chaine = '|'\n",
    "        for k in range(len(self.liste)):\n",
    "            chaine += f\" {self.liste[k]} |\"\n",
    "        return chaine"
   ]
  },
  {
   "cell_type": "markdown",
   "metadata": {},
   "source": [
    "Il est possible d'implémenter une classe `File` en utilisant deux piles :\n",
    "- La première pile est appelée la pile d'entrée.\n",
    "- La seconde pile est appelée la pile de sortie.\n",
    "- Une file vide est représentée par deux piles vides.\n",
    "- Pour faire entrer un élément dans la file, on l'empile au sommet de la pile d'entrée.\n",
    "- Pour faire sortir un élément de la file, on dépile le sommet de la pile de sortie. Si cette dernière est vide, on y transfère tous les éléments présents dans la pile d'entrée en les dépilant de la pile d'entrée et en les empilant dans la pile de sortie.\n",
    "\n",
    "Donner une implémentation de la classe `File` utilisant deux piles."
   ]
  },
  {
   "cell_type": "code",
   "execution_count": null,
   "metadata": {},
   "outputs": [],
   "source": [
    "class File:\n",
    "    def __init__(self):\n",
    "        \"\"\"\n",
    "        Crée une file vide.\n",
    "        \"\"\"\n",
    "        self.entree = Pile()  # Création d'une pile vide pour gérer les entrées dans la file\n",
    "        self.sortie = Pile()  # Création d'une pile vide pour gérer les sorties de la file\n",
    "    \n",
    "    def est_vide(self):\n",
    "        \"\"\"\n",
    "        Détermine si la file est vide ou non.\n",
    "        - Sortie : (booléen, True si la file est vide, False sinon)\n",
    "        \"\"\"\n",
    "        return self.entree.est_vide() and self.sortie.est_vide()\n",
    "\n",
    "    def enfiler(self, elem):\n",
    "        \"\"\"\n",
    "        Ajoute un élément à la fin de la file.\n",
    "        - Entrée : elem (élément à ajouter)\n",
    "        \"\"\"\n",
    "        self.entree.empiler(elem)  # Ajout d'un élément au sommet de la pile d'entrée\n",
    "\n",
    "    def defiler(self):\n",
    "        \"\"\"\n",
    "        Retire un élément au début de la file et le renvoie.\n",
    "        - Sortie : (élément retiré)\n",
    "        \"\"\"\n",
    "        if self.est_vide():\n",
    "            raise ValueError('la file est vide')\n",
    "        elif self.sortie.est_vide():\n",
    "            while not self.entree.est_vide():  # Transfert des éléments de la pile d'entrée...\n",
    "                self.sortie.empiler(self.entree.depiler())  # ... vers la pile de sortie\n",
    "        return self.sortie.depiler()  # Retrait d'un élément au sommet de la pile de sortie"
   ]
  }
 ],
 "metadata": {
  "kernelspec": {
   "display_name": "Python 3 (ipykernel)",
   "language": "python",
   "name": "python3"
  },
  "language_info": {
   "codemirror_mode": {
    "name": "ipython",
    "version": 3
   },
   "file_extension": ".py",
   "mimetype": "text/x-python",
   "name": "python",
   "nbconvert_exporter": "python",
   "pygments_lexer": "ipython3",
   "version": "3.9.12"
  }
 },
 "nbformat": 4,
 "nbformat_minor": 4
}
