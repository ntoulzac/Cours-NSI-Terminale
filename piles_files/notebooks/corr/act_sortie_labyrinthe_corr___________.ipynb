{
 "cells": [
  {
   "cell_type": "markdown",
   "metadata": {},
   "source": [
    "<div style='background-color: #87ceeb;\n",
    "    border: 0.5em solid black;\n",
    "    border-radius: 0.5em;\n",
    "    padding: 1em;'>\n",
    "    <h2>Activité</h2>\n",
    "    <h1>Sortie du labyrinthe</h1>\n",
    "</div>"
   ]
  },
  {
   "cell_type": "markdown",
   "metadata": {},
   "source": [
    "On donne la définition d'une classe `Pile`."
   ]
  },
  {
   "cell_type": "code",
   "execution_count": null,
   "metadata": {},
   "outputs": [],
   "source": [
    "class Pile:\n",
    "    def __init__(self):\n",
    "        self.liste = []\n",
    "    \n",
    "    def est_vide(self):\n",
    "        return self.liste == []\n",
    "\n",
    "    def empiler(self, elem):\n",
    "        self.liste.append(elem)\n",
    "    \n",
    "    def depiler(self):\n",
    "        if self.est_vide():\n",
    "            raise ValueError(\"la pile est vide\")\n",
    "        return self.liste.pop()\n",
    "    \n",
    "    def __str__(self):\n",
    "        chaine = '|'\n",
    "        for k in range(len(self.liste)):\n",
    "            chaine += f\" {self.liste[k]} |\"\n",
    "        return chaine"
   ]
  },
  {
   "cell_type": "markdown",
   "metadata": {},
   "source": [
    "### Représentation d'un labyrinthe en mémoire et à l'écran"
   ]
  },
  {
   "cell_type": "markdown",
   "metadata": {},
   "source": [
    "On représente un labyrinthe par une grille rectangulaire dans laquelle les murs sont des cases noires et les passages des cases blanches. La grille est représentée en mémoire par un tableau `grille` à deux dimensions dont les éléments sont `O` pour un passage et `1` pour un mur."
   ]
  },
  {
   "cell_type": "markdown",
   "metadata": {},
   "source": [
    "<img src='https://ntoulzac.github.io/Cours-NSI-Terminale/piles_files/images/laby1.png' width='450px'>"
   ]
  },
  {
   "cell_type": "markdown",
   "metadata": {},
   "source": [
    "**(1)** Définir `grille` pour le labyrinthe dessiné ci-dessus."
   ]
  },
  {
   "cell_type": "code",
   "execution_count": null,
   "metadata": {},
   "outputs": [],
   "source": [
    "grille = [[1, 1, 1, 1, 1, 0, 1, 1, 1],\n",
    "          [0, 0, 0, 0, 1, 0, 1, 0, 1],\n",
    "          [1, 0, 1, 0, 1, 0, 1, 0, 1],\n",
    "          [1, 0, 1, 0, 1, 0, 0, 0, 1],\n",
    "          [1, 0, 1, 1, 1, 1, 1, 0, 1],\n",
    "          [1, 0, 0, 0, 0, 0, 0, 0, 1],\n",
    "          [1, 1, 1, 1, 1, 1, 1, 1, 1]]"
   ]
  },
  {
   "cell_type": "markdown",
   "metadata": {},
   "source": [
    "On repère la position de chaque case par un p-uplet de la forme `(L, C)`, où `L` et `C` sont respectivement un numéro de ligne et de colonne.\n",
    "\n",
    "**(2)** Définir deux p-uplets `entree` et `sortie` correspondant aux positions de l'entrée et de la sortie du labyrinthe dessiné ci-dessus."
   ]
  },
  {
   "cell_type": "code",
   "execution_count": null,
   "metadata": {},
   "outputs": [],
   "source": [
    "entree = (1, 0)\n",
    "sortie = (0, 5)"
   ]
  },
  {
   "cell_type": "markdown",
   "metadata": {},
   "source": [
    "**(3)** Définir l'ébauche d'une classe `Labyrinthe` dont la méthode constructeur prend trois paramètres d'entrée : un tableau à deux dimensions (contenant le plan des passages et des murs) et deux p-uplets (position de l'entrée et de la sortie). Les attributs des instances de la classe `Labyrinthe` sont :\n",
    "- `grille` : un tableau à deux dimensions contenant le plan des passages et des murs,\n",
    "- `nb_l` : un entier correspondant au nombre de lignes de la grille,\n",
    "- `nb_c` : un entier correspondant au nombre de colonnes de la grille,\n",
    "- `entree` : un p-uplet correspondant à la position de l'entrée du labyrinthe,\n",
    "- `sortie` : un p-uplet correspondant à la position de la sortie du labyrinthe."
   ]
  },
  {
   "cell_type": "code",
   "execution_count": null,
   "metadata": {},
   "outputs": [],
   "source": [
    "class Labyrinthe:\n",
    "    def __init__(self, tab, posE, posS):\n",
    "        self.grille = tab\n",
    "        self.nb_l = len(self.grille)\n",
    "        self.nb_c = len(self.grille[0])\n",
    "        self.entree = posE\n",
    "        self.sortie = posS"
   ]
  },
  {
   "cell_type": "markdown",
   "metadata": {},
   "source": [
    "**(4)** Après l'avoir téléchargé [ici](https://ntoulzac.github.io/Cours-NSI-Terminale/piles_files/fichiers/fenetre_laby.py) et placé dans le même répertoire que ce carnet _Jupyter_, importer le module `fenetre_laby` sous le nom `fl`."
   ]
  },
  {
   "cell_type": "code",
   "execution_count": null,
   "metadata": {},
   "outputs": [],
   "source": [
    "import fenetre_laby as fl"
   ]
  },
  {
   "cell_type": "markdown",
   "metadata": {},
   "source": [
    "**(5)** Afficher l'aide de la classe `FenetreLaby` définie dans ce même module."
   ]
  },
  {
   "cell_type": "code",
   "execution_count": null,
   "metadata": {},
   "outputs": [],
   "source": [
    "help(fl.FenetreLaby)"
   ]
  },
  {
   "cell_type": "markdown",
   "metadata": {},
   "source": [
    "**(6)** Créer une instance de la classe `Labyrinthe` correspondant au labyrinthe dessiné plus haut, puis faire afficher ce labyrinthe dans une fenêtre `pygame`."
   ]
  },
  {
   "cell_type": "code",
   "execution_count": null,
   "metadata": {},
   "outputs": [],
   "source": [
    "nouvelle_grille = grille[:][:]\n",
    "mon_laby = Labyrinthe(nouvelle_grille, entree, sortie)\n",
    "ma_fenetre = fl.FenetreLaby(mon_laby)\n",
    "ma_fenetre.actualiser(mon_laby)"
   ]
  },
  {
   "cell_type": "markdown",
   "metadata": {},
   "source": [
    "**(7)** Fermer la fenêtre `pygame`."
   ]
  },
  {
   "cell_type": "code",
   "execution_count": null,
   "metadata": {},
   "outputs": [],
   "source": [
    "ma_fenetre.fermer()"
   ]
  },
  {
   "cell_type": "markdown",
   "metadata": {},
   "source": [
    "### Utilisation d'une pile pour rechercher la sortie du labyrinthe"
   ]
  },
  {
   "cell_type": "markdown",
   "metadata": {},
   "source": [
    "On souhaite maintenant pouvoir trouver comment atteindre la sortie du labyrinthe à partir de l'entrée."
   ]
  },
  {
   "cell_type": "markdown",
   "metadata": {},
   "source": [
    "**(8)** Recopier ci-dessous la définition de la classe `Labyrinthe` en y ajoutant :\n",
    "- une méthode `visiter_case`. Cette méthode prend en paramètre d'entrée un p-uplet `pos` de la forme `(L, C)` et une instance de la classe `FenetreLaby`. Elle remplace sur la ligne `L` et dans la colonne `C` de la `grille` le nombre `0` (case non encore visitée) par le nombre `2` (case déjà visitée). De plus, elle colorie en rouge la case en question, attend un quart de seconde puis la colorie en bleu.\n",
    "- une méthode `voisines_non_visitees`. Cette méthode prend en paramètre d'entrée un p-uplet `pos` de la forme `(L, C)` et elle revoie le tableau composé des positions des cases qui sont voisines de `pos` (à droite, au dessus, au dessous, à gauche) et qui n'ont pas encore été visitées.\n",
    "\n",
    "**(9)** Compléter le code de la méthode `parcourir`."
   ]
  },
  {
   "cell_type": "code",
   "execution_count": null,
   "metadata": {},
   "outputs": [],
   "source": [
    "from time import sleep\n",
    "\n",
    "class Labyrinthe:\n",
    "    def __init__(self, tab, posE, posS):\n",
    "        self.grille = tab\n",
    "        self.nb_l = len(self.grille)\n",
    "        self.nb_c = len(self.grille[0])\n",
    "        self.entree = posE\n",
    "        self.sortie = posS\n",
    "        \n",
    "    def visiter_case(self, pos, fen):\n",
    "        (L, C) = pos\n",
    "        self.grille[L][C] = 2\n",
    "        fen.afficher_case(pos, fl.ROUGE)\n",
    "        sleep(0.25)\n",
    "        fen.afficher_case(pos, fl.BLEU)\n",
    "    \n",
    "    def voisines_non_visitees(self, pos):\n",
    "        (L, C) = pos\n",
    "        voisines = []\n",
    "        for (a, b) in [(0, 1), (-1, 0), (1, 0), (0, -1)]:\n",
    "            if 0 <= L+a < self.nb_l and 0 <= C+b < self.nb_c:\n",
    "                if self.grille[L+a][C+b] == 0:\n",
    "                    voisines.append((L+a, C+b))\n",
    "        return voisines\n",
    "    \n",
    "    def parcourir(self, fenetre):\n",
    "        (L, C) = self.entree  # On se place à l'entrée du labyrinthe.\n",
    "        pile = Pile()  # On crée une pile vide.\n",
    "        continuer_parcours = True\n",
    "        while continuer_parcours:\n",
    "            self.visiter_case((L, C), fenetre)  # On visite la case (L, C).\n",
    "            if (L, C) == self.sortie:  # Si c'est la sortie alors...\n",
    "                pile.empiler((L, C))  # ... on empile la position (L, C)...\n",
    "                continuer_parcours = False  # ... et le parcours se termine sur un succès.\n",
    "            else:  # Sinon...\n",
    "                voisines = self.voisines_non_visitees((L, C))  # ... on liste les voisines de (L, C) non visitées.\n",
    "                if voisines == []:  # S'il n'y en a aucune...\n",
    "                    if pile.est_vide():  # ... et que la pile est vide alors...\n",
    "                        continuer_parcours = False  # ... le parcours se termine sur un échec...\n",
    "                    else:\n",
    "                        (L, C) = pile.depiler()  # ... sinon on dépile un élément pour revenir en arrière.\n",
    "                else:  # Si, par contre, il y a des voisines non visitées alors...\n",
    "                    pile.empiler((L, C))  # on empile la position (L, C)...\n",
    "                    (L, C) = voisines[0]  # et on remplace (L, C) par une de ses voisines non visitées.\n",
    "        return pile"
   ]
  },
  {
   "cell_type": "code",
   "execution_count": null,
   "metadata": {},
   "outputs": [],
   "source": [
    "from copy import deepcopy\n",
    "nouvelle_grille = deepcopy(grille)\n",
    "\n",
    "mon_laby = Labyrinthe(nouvelle_grille, entree, sortie)\n",
    "ma_fenetre = fl.FenetreLaby(mon_laby)\n",
    "ma_fenetre.actualiser(mon_laby)\n",
    "mon_laby.parcourir(ma_fenetre)\n",
    "ma_fenetre.fermer()"
   ]
  },
  {
   "cell_type": "markdown",
   "metadata": {},
   "source": [
    "<div class='rq'>La fonction <code>deepcopy</code> du module <code>copy</code> permet de créer une copie du tableau à deux dimensions <code>grille</code>, et donc de ne pas modifier <code>grille</code> au cours du parcours du labyrinthe.</div>"
   ]
  },
  {
   "cell_type": "markdown",
   "metadata": {},
   "source": [
    "### Approfondissement"
   ]
  },
  {
   "cell_type": "markdown",
   "metadata": {},
   "source": [
    "On suppose maintenant que le plan du labyrinthe est stocké dans un fichier texte, comme dans les fichiers du répertoire `Grilles`. L'entrée du labyrinthe y est représentée par un caractère `E` et la sortie par un `S`.\n",
    "\n",
    "**(10)** Définir une méthode `lire_fichier` prenant en paramètre d'entrée un `nom_de_fichier` sous forme de chaine de caractères et initialisant la `grille` et les p-uplets `entree` et `sortie` à partir du fichier."
   ]
  },
  {
   "cell_type": "code",
   "execution_count": null,
   "metadata": {},
   "outputs": [],
   "source": [
    "class Labyrinthe:\n",
    "    def __init__(self, nom_de_fichier):\n",
    "        self.lire_fichier(nom_de_fichier)\n",
    "        self.nb_l = len(self.grille)\n",
    "        self.nb_c = len(self.grille[0])\n",
    "\n",
    "    def lire_fichier(self, nom_de_fichier):\n",
    "        with open(nom_de_fichier, 'r') as fichier:\n",
    "            self.grille = []\n",
    "            L = 0\n",
    "            for chaine in fichier:\n",
    "                ligne = []\n",
    "                C = 0\n",
    "                for car in chaine:\n",
    "                    if car == 'E':\n",
    "                        ligne.append(0)\n",
    "                        self.entree = (L, C)\n",
    "                    elif car == 'S':\n",
    "                        ligne.append(0)\n",
    "                        self.sortie = (L, C)\n",
    "                    elif car == '0' or car == '1':\n",
    "                        ligne.append(int(car))\n",
    "                    C += 1\n",
    "                self.grille.append(ligne)\n",
    "                L += 1\n",
    "    \n",
    "    def visiter_case(self, pos, fen):\n",
    "        (L, C) = pos\n",
    "        self.grille[L][C] = 2\n",
    "        fen.afficher_case(pos, fl.ROUGE)\n",
    "        fen.afficher_case(pos, fl.BLEU)\n",
    "    \n",
    "    def voisines_non_visitees(self, pos):\n",
    "        (L, C) = pos\n",
    "        voisines = []\n",
    "        for (a, b) in [(0, 1), (-1, 0), (1, 0), (0, -1)]:\n",
    "            if 0 <= L+a < self.nb_l and 0 <= C+b < self.nb_c:\n",
    "                if self.grille[L+a][C+b] == 0:\n",
    "                    voisines.append((L+a, C+b))\n",
    "        return voisines\n",
    "    \n",
    "    def parcourir(self, fenetre):\n",
    "        (L, C) = self.entree  # On se place à l'entrée du labyrinthe.\n",
    "        pile = Pile()  # On crée une pile vide.\n",
    "        continuer_parcours = True\n",
    "        while continuer_parcours:\n",
    "            self.visiter_case((L, C), fenetre)  # On visite la case (L, C).\n",
    "            if (L, C) == self.sortie:  # Si c'est la sortie alors...\n",
    "                pile.empiler((L, C))  # ... on empile la position (L, C)...\n",
    "                continuer_parcours = False  # ... et le parcours se termine sur un succès.\n",
    "            else:  # Sinon...\n",
    "                voisines = self.voisines_non_visitees((L, C))  # ... on liste les voisines de (L, C) non visitées.\n",
    "                if voisines == []:  # S'il n'y en a aucune...\n",
    "                    if pile.est_vide():  # ... et que la pile est vide alors...\n",
    "                        continuer_parcours = False  # ... le parcours se termine sur un échec...\n",
    "                    else:\n",
    "                        (L, C) = pile.depiler()  # ... sinon on dépile un élément pour revenir en arrière.\n",
    "                else:  # Si, par contre, il y a des voisines non visitées alors...\n",
    "                    pile.empiler((L, C))  # on empile la position (L, C)...\n",
    "                    (L, C) = voisines[0]  # et on remplace (L, C) par une de ses voisines non visitées.\n",
    "        return pile                "
   ]
  },
  {
   "cell_type": "code",
   "execution_count": null,
   "metadata": {},
   "outputs": [],
   "source": [
    "import fenetre_laby as fl"
   ]
  },
  {
   "cell_type": "code",
   "execution_count": null,
   "metadata": {},
   "outputs": [],
   "source": [
    "def resoudre_laby(nom_de_fichier):\n",
    "    laby = Labyrinthe(nom_de_fichier)\n",
    "    fenetre = fl.FenetreLaby(laby)\n",
    "    fenetre.actualiser(laby)\n",
    "    pile = laby.parcourir(fenetre)\n",
    "    while not pile.est_vide():\n",
    "        pos = pile.depiler()\n",
    "        fenetre.afficher_case(pos, fl.ROUGE)\n",
    "    fenetre.fermer()"
   ]
  },
  {
   "cell_type": "markdown",
   "metadata": {},
   "source": [
    "Lorsque le parcours du labyrinthe est terminé, on dépile toutes les positions stockées dans la `pile` et on affiche en rouge les cases correspondantes, faisant ainsi apparaître à l'écran le chemin qui mène de l'entrée à la sortie.\n",
    "\n",
    "Vous pouvez tester votre code avec les grilles téléchargeables [ici](https://ntoulzac.github.io/Cours-NSI-Terminale/piles_files/fichiers/grilles.zip)."
   ]
  }
 ],
 "metadata": {
  "kernelspec": {
   "display_name": "Python 3 (ipykernel)",
   "language": "python",
   "name": "python3"
  },
  "language_info": {
   "codemirror_mode": {
    "name": "ipython",
    "version": 3
   },
   "file_extension": ".py",
   "mimetype": "text/x-python",
   "name": "python",
   "nbconvert_exporter": "python",
   "pygments_lexer": "ipython3",
   "version": "3.9.12"
  }
 },
 "nbformat": 4,
 "nbformat_minor": 4
}
