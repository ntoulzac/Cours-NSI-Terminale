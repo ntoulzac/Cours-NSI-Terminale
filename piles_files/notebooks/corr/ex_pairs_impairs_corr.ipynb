{
 "cells": [
  {
   "cell_type": "markdown",
   "metadata": {},
   "source": [
    "<div style='background-color: #e3a8b6;\n",
    "    border: 0.5em solid black;\n",
    "    border-radius: 0.5em;\n",
    "    padding: 1em;'>\n",
    "    <h2>Exercice</h2>\n",
    "    <h1>Éléments pairs et impairs</h1>\n",
    "</div>"
   ]
  },
  {
   "cell_type": "markdown",
   "metadata": {},
   "source": [
    "On donne la définition d'une classe `File`."
   ]
  },
  {
   "cell_type": "code",
   "execution_count": null,
   "metadata": {},
   "outputs": [],
   "source": [
    "class File:\n",
    "    def __init__(self):\n",
    "        self.liste = []\n",
    "    \n",
    "    def est_vide(self):\n",
    "        return self.liste == []\n",
    "\n",
    "    def enfiler(self, elem):\n",
    "        self.liste.insert(0, elem)\n",
    "    \n",
    "    def defiler(self):\n",
    "        if self.est_vide():\n",
    "            raise ValueError(\"la file est vide\")\n",
    "        return self.liste.pop()\n",
    "    \n",
    "    def __str__(self):\n",
    "        chaine = '|'\n",
    "        for k in range(len(self.liste)):\n",
    "            chaine += f\" {self.liste[k]} |\"\n",
    "        return chaine"
   ]
  },
  {
   "cell_type": "markdown",
   "metadata": {},
   "source": [
    "Écrire une fonction `separer_pairs` qui prend en paramètre d'entrée une file contenant des entiers et qui renvoie une nouvelle file dans laquelle les éléments pairs sont placés en tête de file et les éléments impairs en queue de file."
   ]
  },
  {
   "cell_type": "code",
   "execution_count": null,
   "metadata": {},
   "outputs": [],
   "source": [
    "def separer_pairs(f):\n",
    "    \"\"\"\n",
    "    Sépare les éléments pairs des éléments impairs dans une file. Les pairs sont mis en tête et les impairs en queue.\n",
    "    - Entrée : f (instance de la classe File)\n",
    "    - Sortie : f (instance de la classe File)\n",
    "    - Effet de bord : Modifie la file f\n",
    "    \"\"\"\n",
    "    f_pairs = File()\n",
    "    f_impairs = File()\n",
    "    while not f.est_vide():\n",
    "        elem = f.defiler()\n",
    "        if elem % 2 == 0:\n",
    "            f_pairs.enfiler(elem)\n",
    "        else:\n",
    "            f_impairs.enfiler(elem)\n",
    "    while not f_pairs.est_vide():\n",
    "        f.enfiler(f_pairs.defiler())\n",
    "    while not f_impairs.est_vide():\n",
    "        f.enfiler(f_impairs.defiler())\n",
    "    return f"
   ]
  },
  {
   "cell_type": "code",
   "execution_count": null,
   "metadata": {},
   "outputs": [],
   "source": [
    "ma_file = File()\n",
    "for k in range(10):\n",
    "    ma_file.enfiler(k)\n",
    "print(ma_file)"
   ]
  },
  {
   "cell_type": "code",
   "execution_count": null,
   "metadata": {},
   "outputs": [],
   "source": [
    "mon_autre_file = separer_pairs(ma_file)\n",
    "print(mon_autre_file)"
   ]
  }
 ],
 "metadata": {
  "kernelspec": {
   "display_name": "Python 3 (ipykernel)",
   "language": "python",
   "name": "python3"
  },
  "language_info": {
   "codemirror_mode": {
    "name": "ipython",
    "version": 3
   },
   "file_extension": ".py",
   "mimetype": "text/x-python",
   "name": "python",
   "nbconvert_exporter": "python",
   "pygments_lexer": "ipython3",
   "version": "3.9.12"
  }
 },
 "nbformat": 4,
 "nbformat_minor": 4
}
