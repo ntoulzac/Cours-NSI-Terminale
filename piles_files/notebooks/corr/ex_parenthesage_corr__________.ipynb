{
 "cells": [
  {
   "cell_type": "markdown",
   "metadata": {},
   "source": [
    "<div style='background-color: #e3a8b6;\n",
    "    border: 0.5em solid black;\n",
    "    border-radius: 0.5em;\n",
    "    padding: 1em;'>\n",
    "    <h2>Exercice</h2>\n",
    "    <h1>Parenthésage</h1>\n",
    "</div>"
   ]
  },
  {
   "cell_type": "markdown",
   "metadata": {},
   "source": [
    "On donne la définition d'une classe `Pile` et d'une classe `File`."
   ]
  },
  {
   "cell_type": "code",
   "execution_count": null,
   "metadata": {},
   "outputs": [],
   "source": [
    "class Pile:\n",
    "    def __init__(self):\n",
    "        self.liste = []\n",
    "    \n",
    "    def est_vide(self):\n",
    "        return self.liste == []\n",
    "\n",
    "    def empiler(self, elem):\n",
    "        self.liste.append(elem)\n",
    "    \n",
    "    def depiler(self):\n",
    "        if self.est_vide():\n",
    "            raise ValueError(\"la pile est vide\")\n",
    "        return self.liste.pop()\n",
    "    \n",
    "    def __str__(self):\n",
    "        chaine = '|'\n",
    "        for k in range(len(self.liste)):\n",
    "            chaine += f\" {self.liste[k]} |\"\n",
    "        return chaine"
   ]
  },
  {
   "cell_type": "code",
   "execution_count": null,
   "metadata": {},
   "outputs": [],
   "source": [
    "class File:\n",
    "    def __init__(self):\n",
    "        self.liste = []\n",
    "    \n",
    "    def est_vide(self):\n",
    "        return self.liste == []\n",
    "\n",
    "    def enfiler(self, elem):\n",
    "        self.liste.insert(0, elem)\n",
    "    \n",
    "    def defiler(self):\n",
    "        if self.est_vide():\n",
    "            raise ValueError(\"la file est vide\")\n",
    "        return self.liste.pop()\n",
    "    \n",
    "    def __str__(self):\n",
    "        chaine = '|'\n",
    "        for k in range(len(self.liste)):\n",
    "            chaine += f\" {self.liste[k]} |\"\n",
    "        return chaine"
   ]
  },
  {
   "cell_type": "markdown",
   "metadata": {},
   "source": [
    "**(1)** Définir une fonction `parentheses_ok` qui prend en paramètre d'entrée une chaîne de caractères et qui renvoie `True` si la chaîne de caractères est correctement parenthésée et `False` sinon. Écrire la spécification de la fonction ainsi qu'un jeu de tests."
   ]
  },
  {
   "cell_type": "code",
   "execution_count": null,
   "metadata": {},
   "outputs": [],
   "source": [
    "def parentheses_ok(chaine):\n",
    "    \"\"\"\n",
    "    Vérifie le parenthésage d'une chaîne de caractères.\n",
    "    - Entrée : chaine (chaine de caractères à vérifier)\n",
    "    - Sortie : (booléen, True si la chaîne est correctement parenthésée, False sinon)\n",
    "    \n",
    "    >>> parentheses_ok(\"()\")\n",
    "    True\n",
    "    \n",
    "    >>> parentheses_ok(\"())\")\n",
    "    False\n",
    "    \n",
    "    >>> parentheses_ok(\"(()()\")\n",
    "    False\n",
    "\n",
    "    >>> parentheses_ok(\"Chaine sans parenthèse\")\n",
    "    True\n",
    "    \"\"\"\n",
    "    pile = Pile()\n",
    "    for car in chaine:\n",
    "        if car == '(':\n",
    "            pile.empiler(car)\n",
    "        elif car == ')':\n",
    "            if pile.est_vide():\n",
    "                return False\n",
    "            else:\n",
    "                par = pile.depiler()\n",
    "                if par != '(':\n",
    "                    return False\n",
    "    return pile.est_vide()"
   ]
  },
  {
   "cell_type": "code",
   "execution_count": null,
   "metadata": {},
   "outputs": [],
   "source": [
    "import doctest as dt\n",
    "dt.run_docstring_examples(parentheses_ok, globals())"
   ]
  },
  {
   "cell_type": "markdown",
   "metadata": {},
   "source": [
    "**(2)** Modifier la définition de la fonction `parentheses_ok` pour la généraliser aux crochets et aux accolades."
   ]
  },
  {
   "cell_type": "code",
   "execution_count": null,
   "metadata": {},
   "outputs": [],
   "source": [
    "def parentheses_ok(chaine):\n",
    "    \"\"\"\n",
    "    Vérifie le parenthésage d'une chaîne de caractères.\n",
    "    - Entrée : chaine (chaine de caractères à vérifier)\n",
    "    - Sortie : (booléen, True si la chaîne est correctement parenthésée, False sinon)\n",
    "    \n",
    "    >>> parentheses_ok(\"()[]{}\")\n",
    "    True\n",
    "    \n",
    "    >>> parentheses_ok(\"([)]\")\n",
    "    False\n",
    "    \n",
    "    >>> parentheses_ok(\"[mot, (phrase)]\")\n",
    "    True\n",
    "\n",
    "    >>> parentheses_ok(\"Chaine }sans{ [parenthèse]\")\n",
    "    False\n",
    "    \"\"\"\n",
    "    associations = {')' : '(', ']' : '[', '}' : '{'}\n",
    "    pile = Pile()\n",
    "    for car in chaine:\n",
    "        if car in \"([{\":\n",
    "            pile.empiler(car)\n",
    "        elif car in \")]}\":\n",
    "            if pile.est_vide():\n",
    "                return False\n",
    "            else:\n",
    "                par = pile.depiler()\n",
    "                if par != associations[car]:\n",
    "                    return False\n",
    "    return pile.est_vide()"
   ]
  },
  {
   "cell_type": "code",
   "execution_count": null,
   "metadata": {},
   "outputs": [],
   "source": [
    "dt.run_docstring_examples(parentheses_ok, globals())"
   ]
  }
 ],
 "metadata": {
  "kernelspec": {
   "display_name": "Python 3 (ipykernel)",
   "language": "python",
   "name": "python3"
  },
  "language_info": {
   "codemirror_mode": {
    "name": "ipython",
    "version": 3
   },
   "file_extension": ".py",
   "mimetype": "text/x-python",
   "name": "python",
   "nbconvert_exporter": "python",
   "pygments_lexer": "ipython3",
   "version": "3.9.12"
  }
 },
 "nbformat": 4,
 "nbformat_minor": 4
}
