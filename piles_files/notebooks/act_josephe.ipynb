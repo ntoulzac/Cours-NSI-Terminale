{
 "cells": [
  {
   "cell_type": "markdown",
   "metadata": {},
   "source": [
    "<div style='background-color: #87ceeb;\n",
    "    border: 0.5em solid black;\n",
    "    border-radius: 0.5em;\n",
    "    padding: 1em;'>\n",
    "    <h2>Activité</h2>\n",
    "    <h1>Problème de Josèphe</h1>\n",
    "</div>"
   ]
  },
  {
   "cell_type": "markdown",
   "metadata": {},
   "source": [
    "On donne la définition d'une classe `File`."
   ]
  },
  {
   "cell_type": "code",
   "execution_count": null,
   "metadata": {},
   "outputs": [],
   "source": [
    "class File:\n",
    "    def __init__(self):\n",
    "        self.liste = []\n",
    "    \n",
    "    def est_vide(self):\n",
    "        return self.liste == []\n",
    "\n",
    "    def enfiler(self, elem):\n",
    "        self.liste.insert(0, elem)\n",
    "    \n",
    "    def defiler(self):\n",
    "        if self.est_vide():\n",
    "            raise ValueError(\"la file est vide\")\n",
    "        return self.liste.pop()\n",
    "    \n",
    "    def __str__(self):\n",
    "        chaine = '|'\n",
    "        for k in range(len(self.liste)):\n",
    "            chaine += f\" {self.liste[k]} |\"\n",
    "        return chaine"
   ]
  },
  {
   "cell_type": "markdown",
   "metadata": {},
   "source": [
    "Voici un extrait du livre *Problèmes plaisants & délectables qui se font par les nombres* publié en 1624 par Claude-Gaspard Bachet. L'auteur fait référence à un épisode de la vie de Flavius Josèphe lors de la guerre judéo-romaine en l'an 67, au cours duquel Josèphe et quarante soldats juifs se trouvent piégés dans une grotte par l'armée romaine. Ils décident alors de s'entretuer plutôt que de se rendre aux romains."
   ]
  },
  {
   "cell_type": "markdown",
   "metadata": {},
   "source": [
    "<img src='https://ntoulzac.github.io/Cours-NSI-Terminale/piles_files/images/josephe_bachet_1624.jpg' width='500px'>"
   ]
  },
  {
   "cell_type": "markdown",
   "metadata": {},
   "source": [
    "De façon moins sanglante, on dispose `n` nombres en cercle, et on décide d'éliminer un nombre sur `p` jusqu'à ce qu'il ne reste qu'un seul nombre. Le **problème de Josèphe** consiste à trouver, en fonction de la valeur de `n` et de `p`, quel nombre est éliminé en dernier."
   ]
  },
  {
   "cell_type": "markdown",
   "metadata": {},
   "source": [
    "<img style=\"border: 0.2em solid black\" src='https://ntoulzac.github.io/Cours-NSI-Terminale/piles_files/images/josephe_41_3.gif'><center><br><i>Illustration dans le cas où <code>n</code> vaut 41 et <code>p</code> vaut 3.</i></center>"
   ]
  },
  {
   "cell_type": "markdown",
   "metadata": {},
   "source": [
    "La fonction `visualiser` du module `josephe` permet d'illustrer dans une fenêtre pygame la solution du problème de Josèphe pour deux valeurs `n` et `p` passées en argument."
   ]
  },
  {
   "cell_type": "code",
   "execution_count": null,
   "metadata": {},
   "outputs": [],
   "source": [
    "from josephe import visualiser\n",
    "help(visualiser)"
   ]
  },
  {
   "cell_type": "markdown",
   "metadata": {},
   "source": [
    "**(1)** Ecrire la ligne de code permettant de visualiser la solution du problème de Josephe pour `n` valant 41 et `p` valant 3. Visualiser ensuite la solution du problème pour d'autres valeurs de `n` et `p`."
   ]
  },
  {
   "cell_type": "code",
   "execution_count": null,
   "metadata": {},
   "outputs": [],
   "source": []
  },
  {
   "cell_type": "markdown",
   "metadata": {},
   "source": [
    "<table class=\"sobre\">\n",
    "    <tr>\n",
    "        <td><img style=\"border: 0.2em solid black\" src='https://ntoulzac.github.io/Cours-NSI-Terminale/piles_files/images/josephe_16_2.gif'><center><br><i>Illustration dans le cas où <code>n</code> vaut 16 et <code>p</code> vaut 2.</i></center></td>\n",
    "        <td><img style=\"border: 0.2em solid black\" src='https://ntoulzac.github.io/Cours-NSI-Terminale/piles_files/images/josephe_24_2.gif'><center><br><i>Illustration dans le cas où <code>n</code> vaut 24 et <code>p</code> vaut 2.</i></center></td>\n",
    "            <td><img style=\"border: 0.2em solid black\" src='https://ntoulzac.github.io/Cours-NSI-Terminale/piles_files/images/josephe_13_3.gif'><center><br><i>Illustration dans le cas où <code>n</code> vaut 13 et <code>p</code> vaut 3.</i></center></td>\n",
    "    </tr>\n",
    "</table>"
   ]
  },
  {
   "cell_type": "markdown",
   "metadata": {},
   "source": [
    "**(2)** En utilisant une file, définir une fonction `josephe` renvoyant la solution du problème de Josèphe correspondant aux nombres `n` et `p` passés en argument. Ecrire la spécification de la fonction ainsi qu'un jeu de tests."
   ]
  },
  {
   "cell_type": "code",
   "execution_count": null,
   "metadata": {},
   "outputs": [],
   "source": []
  },
  {
   "cell_type": "code",
   "execution_count": null,
   "metadata": {},
   "outputs": [],
   "source": [
    "import doctest as dt\n",
    "dt.run_docstring_examples(josephe, globals())"
   ]
  },
  {
   "cell_type": "markdown",
   "metadata": {},
   "source": [
    "**(3)** Pour tout entier `n` compris entre 1 et 64, afficher `josephe(n, 2)`."
   ]
  },
  {
   "cell_type": "code",
   "execution_count": null,
   "metadata": {},
   "outputs": [],
   "source": []
  },
  {
   "cell_type": "markdown",
   "metadata": {},
   "source": [
    "**(4)** Conjecturer, en fonction de `n`, quelle est la solution du problème de Josèphe dans le cas où `p` vaut 2."
   ]
  },
  {
   "cell_type": "markdown",
   "metadata": {},
   "source": [
    "_Réponse :_ ..."
   ]
  }
 ],
 "metadata": {
  "kernelspec": {
   "display_name": "Python 3 (ipykernel)",
   "language": "python",
   "name": "python3"
  },
  "language_info": {
   "codemirror_mode": {
    "name": "ipython",
    "version": 3
   },
   "file_extension": ".py",
   "mimetype": "text/x-python",
   "name": "python",
   "nbconvert_exporter": "python",
   "pygments_lexer": "ipython3",
   "version": "3.9.12"
  }
 },
 "nbformat": 4,
 "nbformat_minor": 4
}
