{
 "cells": [
  {
   "cell_type": "markdown",
   "metadata": {},
   "source": [
    "<div style='background-color: #e3a8b6;\n",
    "    border: 0.5em solid black;\n",
    "    border-radius: 0.5em;\n",
    "    padding: 1em;'>\n",
    "    <h2>Exercice</h2>\n",
    "    <h1>Classe <code>File</code></h1>\n",
    "</div>"
   ]
  },
  {
   "cell_type": "markdown",
   "metadata": {},
   "source": [
    "Voici une implémentation possible de la classe `File`, qui utilise une liste Python (`list`) :"
   ]
  },
  {
   "cell_type": "code",
   "execution_count": 1,
   "metadata": {},
   "outputs": [],
   "source": [
    "class File:\n",
    "    def __init__(self):\n",
    "        self.liste = []\n",
    "    \n",
    "    def est_vide(self):\n",
    "        return self.liste == []\n",
    "\n",
    "    def enfiler(self, elem):\n",
    "        self.liste.insert(0, elem)\n",
    "    \n",
    "    def defiler(self):\n",
    "        if self.est_vide():\n",
    "            raise ValueError(\"la file est vide\")\n",
    "        return self.liste.pop()\n",
    "    \n",
    "    def __str__(self):\n",
    "        chaine = \"|\"\n",
    "        for k in range(len(self.liste)):\n",
    "            chaine += f\" {self.liste[k]} |\"\n",
    "        return chaine"
   ]
  },
  {
   "cell_type": "markdown",
   "metadata": {},
   "source": [
    "**(1)** Ecrire la spécification des méthodes définies ci-dessus.\n",
    "\n",
    "**(2)** Ecrire une suite d'instructions permettant d'obtenir les affichages successifs suivants :\n",
    "\n",
    "`|`\n",
    "\n",
    "`True`\n",
    "\n",
    "`| 4 | 0 | -1 |`\n",
    "\n",
    "`-1`\n",
    "\n",
    "`| 4 | 0 |`\n",
    "\n",
    "`False`"
   ]
  },
  {
   "cell_type": "code",
   "execution_count": null,
   "metadata": {},
   "outputs": [],
   "source": []
  },
  {
   "cell_type": "markdown",
   "metadata": {},
   "source": [
    "**(3)** Ecrire une suite d'instructions permettant d'obtenir les affichages successifs suivants :\n",
    "\n",
    "`| 3 | 2 | 1 |`\n",
    "\n",
    "`| 5 | 4 | 3 | 2 |`\n",
    "\n",
    "`| 6 | 5 |`"
   ]
  },
  {
   "cell_type": "code",
   "execution_count": null,
   "metadata": {},
   "outputs": [],
   "source": []
  }
 ],
 "metadata": {
  "kernelspec": {
   "display_name": "Python 3 (ipykernel)",
   "language": "python",
   "name": "python3"
  },
  "language_info": {
   "codemirror_mode": {
    "name": "ipython",
    "version": 3
   },
   "file_extension": ".py",
   "mimetype": "text/x-python",
   "name": "python",
   "nbconvert_exporter": "python",
   "pygments_lexer": "ipython3",
   "version": "3.9.12"
  }
 },
 "nbformat": 4,
 "nbformat_minor": 4
}
