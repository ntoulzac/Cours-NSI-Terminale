{
 "cells": [
  {
   "cell_type": "markdown",
   "metadata": {},
   "source": [
    "<div style='background-color: #87ceeb;\n",
    "    border: 0.5em solid black;\n",
    "    border-radius: 0.5em;\n",
    "    padding: 1em;'>\n",
    "    <h2>Activité</h2>\n",
    "    <h1>Calculs en notation polonaise inverse</h1>\n",
    "</div>"
   ]
  },
  {
   "cell_type": "markdown",
   "metadata": {},
   "source": [
    "On donne la définition d'une classe `Pile`."
   ]
  },
  {
   "cell_type": "code",
   "execution_count": null,
   "metadata": {},
   "outputs": [],
   "source": [
    "class Pile:\n",
    "    def __init__(self):\n",
    "        self.liste = []\n",
    "    \n",
    "    def est_vide(self):\n",
    "        return self.liste == []\n",
    "\n",
    "    def empiler(self, elem):\n",
    "        self.liste.append(elem)\n",
    "    \n",
    "    def depiler(self):\n",
    "        if self.est_vide():\n",
    "            raise ValueError(\"la pile est vide\")\n",
    "        return self.liste.pop()\n",
    "    \n",
    "    def __str__(self):\n",
    "        chaine = '|'\n",
    "        for k in range(len(self.liste)):\n",
    "            chaine += f\" {self.liste[k]} |\"\n",
    "        return chaine"
   ]
  },
  {
   "cell_type": "markdown",
   "metadata": {},
   "source": [
    "La notation polonaise inverse (ou **notation postfixée**) permet d'écrire des calculs arithmétiques de façon non ambigüe et sans utiliser de parenthèses. Elle est une variante de la notation polonaise (**notation préfixée**) qui doit non nom au mathématicien polonais Jan Łukasiewicz qui l'a imaginée.\n",
    "\n",
    "Le principe de la notation polonaise inverse est d'écrire l'opérateur à droite des deux opérandes.\n",
    "\n",
    "Par exemple, on écrit `1 1 +` au lieu de `1 + 1` en notation traditionnelle (**notation infixée**).\n",
    "\n",
    "De la même façon, on écrit `3 2 + 5 *` au lieu de `(3 + 2) * 5`.\n",
    "\n",
    "L'écriture des calculs en notation polonaise inverse ne nécessite ni parenthèse, ni priorité opératoire.\n",
    "\n",
    "**(1)** Réécrire les calculs suivants en utilisant la notation polonaise inverse :\n",
    "- `4 - 2`"
   ]
  },
  {
   "cell_type": "markdown",
   "metadata": {},
   "source": [
    "- `(6 / 3) * (5 - 2)`"
   ]
  },
  {
   "cell_type": "markdown",
   "metadata": {},
   "source": [
    "- `1 + 2 * 3`"
   ]
  },
  {
   "cell_type": "markdown",
   "metadata": {},
   "source": [
    "- `(4 - (5 + 3)) * (2 + 2)`"
   ]
  },
  {
   "cell_type": "markdown",
   "metadata": {},
   "source": [
    "On suppose maintenant que les opérandes (sous forme d'entiers ou de flottants) et les opérateurs (sous forme de chaînes) sont stockés dans un tableau :"
   ]
  },
  {
   "cell_type": "code",
   "execution_count": null,
   "metadata": {},
   "outputs": [],
   "source": [
    "tab = [3, 2,'+', 5, '*']"
   ]
  },
  {
   "cell_type": "markdown",
   "metadata": {},
   "source": [
    "L'algorithme suivant permet d'effectuer le calcul représenté en notation polonaise inverse dans un tableau `tab`."
   ]
  },
  {
   "cell_type": "markdown",
   "metadata": {},
   "source": [
    "<div class='rq3'>\n",
    "<p><b>Algorithme pour effectuer un calcul représenté en notation polonaise inverse dans un tableau <code>tab</code></b></p>\n",
    "<p><b>Début</b></p>\n",
    "<p STYLE=\"padding:0 0 0 40px;\"><code>p</code> ← pile vide</p>\n",
    "<p STYLE=\"padding:0 0 0 40px;\">Pour <code>k</code> allant de 0 à longueur(<code>tab</code>)-1</p>\n",
    "<p STYLE=\"padding:0 0 0 80px;\">Si <code>tab[k]</code> est un nombre alors</p>\n",
    "    <p STYLE=\"padding:0 0 0 120px;\">Empiler dans <code>p</code> le nombre <code>tab[k]</code></p>\n",
    "<p STYLE=\"padding:0 0 0 80px;\">Sinon</p>\n",
    "<p STYLE=\"padding:0 0 0 120px;\"><code>operateur</code> ← <code>tab[k]</code></p>\n",
    "<p STYLE=\"padding:0 0 0 120px;\"><code>b</code> ← Dépiler un élément de <code>p</code></p>\n",
    "    <p STYLE=\"padding:0 0 0 120px;\"><code>a</code> ← Dépiler un élément de <code>p</code></p>\n",
    "<p STYLE=\"padding:0 0 0 120px;\">Empiler dans <code>p</code> le résultat de l'opération <code>a operateur b</code></p>\n",
    "<p STYLE=\"padding:0 0 0 80px;\">Fin Si</p>\n",
    "<p STYLE=\"padding:0 0 0 40px;\">Fin Pour</p>\n",
    "<p STYLE=\"padding:0 0 0 40px;\"><code>resultat</code> ← Dépiler un élément de <code>p</code></p>\n",
    "<p STYLE=\"padding:0 0 0 40px;\">Vérifier que la pile <code>p</code> est vide, faute de quoi le <code>resultat</code> n'est pas correct</p>\n",
    "<p><b>Fin</b></p>\n",
    "</div>"
   ]
  },
  {
   "cell_type": "markdown",
   "metadata": {},
   "source": [
    "**(2)** Définir une fonction `calcul_NPI` qui prend en paramètre d'entrée un tableau `tab` contenant un calcul représenté en notation polonaise inverse et qui retourne le résultat du calcul. Ecrire la spécification de la fonction ainsi qu'un jeu de tests."
   ]
  },
  {
   "cell_type": "code",
   "execution_count": null,
   "metadata": {},
   "outputs": [],
   "source": []
  },
  {
   "cell_type": "code",
   "execution_count": null,
   "metadata": {},
   "outputs": [],
   "source": [
    "import doctest as dt\n",
    "dt.run_docstring_examples(calcul_NPI, globals())"
   ]
  }
 ],
 "metadata": {
  "kernelspec": {
   "display_name": "Python 3 (ipykernel)",
   "language": "python",
   "name": "python3"
  },
  "language_info": {
   "codemirror_mode": {
    "name": "ipython",
    "version": 3
   },
   "file_extension": ".py",
   "mimetype": "text/x-python",
   "name": "python",
   "nbconvert_exporter": "python",
   "pygments_lexer": "ipython3",
   "version": "3.9.12"
  }
 },
 "nbformat": 4,
 "nbformat_minor": 4
}
