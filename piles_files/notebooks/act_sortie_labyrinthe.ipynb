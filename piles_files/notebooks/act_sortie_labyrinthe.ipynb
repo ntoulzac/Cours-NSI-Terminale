{
 "cells": [
  {
   "cell_type": "markdown",
   "metadata": {},
   "source": [
    "<div style='background-color: #87ceeb;\n",
    "    border: 0.5em solid black;\n",
    "    border-radius: 0.5em;\n",
    "    padding: 1em;'>\n",
    "    <h2>Activité</h2>\n",
    "    <h1>Sortie du labyrinthe</h1>\n",
    "</div>"
   ]
  },
  {
   "cell_type": "markdown",
   "metadata": {},
   "source": [
    "### Représentation d'un labyrinthe en mémoire et à l'écran"
   ]
  },
  {
   "cell_type": "markdown",
   "metadata": {},
   "source": [
    "On représente un labyrinthe par une grille rectangulaire dans laquelle les murs sont des cases noires et les passages des cases blanches. La grille est représentée en mémoire par un tableau `grille` à deux dimensions dont les éléments sont `O` pour un passage et `1` pour un mur."
   ]
  },
  {
   "cell_type": "markdown",
   "metadata": {},
   "source": [
    "<img src='https://ntoulzac.github.io/Cours-NSI-Terminale/piles_files/images/laby1.png' width='450px'>"
   ]
  },
  {
   "cell_type": "markdown",
   "metadata": {},
   "source": [
    "**(1)** Définir `grille` pour le labyrinthe dessiné ci-dessus."
   ]
  },
  {
   "cell_type": "code",
   "execution_count": null,
   "metadata": {},
   "outputs": [],
   "source": []
  },
  {
   "cell_type": "markdown",
   "metadata": {},
   "source": [
    "On repère la position de chaque case par un p-uplet de la forme `(L, C)`, où `L` et `C` sont respectivement un numéro de ligne et de colonne.\n",
    "\n",
    "**(2)** Définir deux p-uplets `entree` et `sortie` correspondant aux positions de l'entrée et de la sortie du labyrinthe dessiné ci-dessus."
   ]
  },
  {
   "cell_type": "code",
   "execution_count": null,
   "metadata": {},
   "outputs": [],
   "source": []
  },
  {
   "cell_type": "markdown",
   "metadata": {},
   "source": [
    "**(3)** Définir l'ébauche d'une classe `Labyrinthe` dont la méthode constructeur prend trois paramètres d'entrée : un tableau à deux dimensions (contenant le plan des passages et des murs) et deux p-uplets (position de l'entrée et de la sortie). Les attributs des instances de la classe `Labyrinthe` sont :\n",
    "- `grille` : un tableau à deux dimensions contenant le plan des passages et des murs,\n",
    "- `nb_l` : un entier correspondant au nombre de lignes de la grille,\n",
    "- `nb_c` : un entier correspondant au nombre de colonnes de la grille,\n",
    "- `entree` : un p-uplet correspondant à la position de l'entrée du labyrinthe,\n",
    "- `sortie` : un p-uplet correspondant à la position de la sortie du labyrinthe."
   ]
  },
  {
   "cell_type": "code",
   "execution_count": null,
   "metadata": {},
   "outputs": [],
   "source": []
  },
  {
   "cell_type": "markdown",
   "metadata": {},
   "source": [
    "**(4)** Télécharger [ici](https://ntoulzac.github.io/Cours-NSI-Terminale/piles_files/fichiers/fenetre_laby.py) puis importer le module `fenetre_laby` sous le nom `fl`."
   ]
  },
  {
   "cell_type": "code",
   "execution_count": null,
   "metadata": {},
   "outputs": [],
   "source": []
  },
  {
   "cell_type": "markdown",
   "metadata": {},
   "source": [
    "**(5)** Afficher l'aide de la classe `FenetreLaby` définie dans ce même module."
   ]
  },
  {
   "cell_type": "code",
   "execution_count": null,
   "metadata": {},
   "outputs": [],
   "source": []
  },
  {
   "cell_type": "markdown",
   "metadata": {},
   "source": [
    "**(6)** Créer une instance de la classe `Labyrinthe` correspondant au labyrinthe dessiné plus haut, puis faire afficher ce labyrinthe dans une fenêtre `pygame`."
   ]
  },
  {
   "cell_type": "code",
   "execution_count": null,
   "metadata": {},
   "outputs": [],
   "source": []
  },
  {
   "cell_type": "markdown",
   "metadata": {},
   "source": [
    "**(7)** Fermer la fenêtre `pygame`."
   ]
  },
  {
   "cell_type": "code",
   "execution_count": null,
   "metadata": {},
   "outputs": [],
   "source": []
  },
  {
   "cell_type": "markdown",
   "metadata": {},
   "source": [
    "### Utilisation d'une pile pour rechercher la sortie du labyrinthe"
   ]
  },
  {
   "cell_type": "markdown",
   "metadata": {},
   "source": [
    "On souhaite maintenant pouvoir trouver comment atteindre la sortie du labyrinthe à partir de l'entrée."
   ]
  },
  {
   "cell_type": "markdown",
   "metadata": {},
   "source": [
    "**(8)** Recopier ci-dessous la définition de la classe `Labyrinthe` en y ajoutant :\n",
    "- une méthode `visiter_case`. Cette méthode prend en paramètre d'entrée un p-uplet `pos` de la forme `(L, C)` et une instance de la classe `FenetreLaby`. Elle remplace sur la ligne `L` et dans la colonne `C` de la `grille` le nombre `0` (case non encore visitée) par le nombre `2` (case déjà visitée). De plus, elle colorie en rouge la case en question, attend un quart de seconde puis la colorie en bleu.\n",
    "- une méthode `voisines_non_visitees`. Cette méthode prend en paramètre d'entrée un p-uplet `pos` de la forme `(L, C)` et elle revoie le tableau composé des positions des cases qui sont voisines de `pos` (à droite, au dessus, au dessous, à gauche) et qui n'ont pas encore été visitées.\n",
    "\n",
    "**(9)** Compléter le code de la méthode `parcourir`."
   ]
  },
  {
   "cell_type": "code",
   "execution_count": null,
   "metadata": {},
   "outputs": [],
   "source": [
    "from time import sleep\n",
    "\n",
    "class Labyrinthe:\n",
    "    \n",
    "    ### Code à recopier ici...\n",
    "    \n",
    "    def parcourir(self, fenetre):\n",
    "        (L, C) = ?????? # On se place à l'entrée du labyrinthe.\n",
    "        pile = ?????? # On crée une pile vide.\n",
    "        continuer_parcours = True\n",
    "        while continuer_parcours:\n",
    "            ?????? # On visite la case (L, C).\n",
    "            if ??????: # Si c'est la sortie alors...\n",
    "                ?????? # ... on empile la position (L, C)...\n",
    "                ?????? # ... et le parcours se termine sur un succès.\n",
    "            else: # Sinon...\n",
    "                voisines = ?????? # ... on liste les voisines de (L, C) non visitées.\n",
    "                if ??????: # S'il n'y en a aucune...\n",
    "                    if ??????: # ... et que la pile est vide alors...\n",
    "                        ?????? # ... le parcours se termine sur un échec...\n",
    "                    else:\n",
    "                        (L, C) = ?????? # ... sinon on dépile un élément pour revenir en arrière.\n",
    "                else: # Si, par contre, il y a des voisines non visitées alors...\n",
    "                    ?????? # on empile la position (L, C)...\n",
    "                    (L, C) = ?????? # et on remplace (L, C) par une de ses voisines non visitées.\n",
    "        return pile"
   ]
  },
  {
   "cell_type": "code",
   "execution_count": null,
   "metadata": {},
   "outputs": [],
   "source": [
    "from copy import deepcopy\n",
    "nouvelle_grille = deepcopy(grille)\n",
    "\n",
    "mon_laby = Labyrinthe(nouvelle_grille, entree, sortie)\n",
    "ma_fenetre = fl.FenetreLaby(mon_laby)\n",
    "ma_fenetre.actualiser(mon_laby)\n",
    "mon_laby.parcourir(ma_fenetre)\n",
    "ma_fenetre.fermer()"
   ]
  },
  {
   "cell_type": "markdown",
   "metadata": {},
   "source": [
    "<div class='rq'>La fonction <code>deepcopy</code> du module <code>copy</code> permet de créer une copie du tableau à deux dimensions <code>grille</code>, et donc de ne pas modifier <code>grille</code> au cours du parcours du labyrinthe.</div>"
   ]
  },
  {
   "cell_type": "markdown",
   "metadata": {},
   "source": [
    "### Approfondissement"
   ]
  },
  {
   "cell_type": "markdown",
   "metadata": {},
   "source": [
    "On suppose maintenant que le plan du labyrinthe est stocké dans un fichier texte, comme dans les fichiers du répertoire `Grilles`. L'entrée du labyrinthe y est représentée par un caractère `E` et la sortie par un `S`.\n",
    "\n",
    "**(10)** Définir une méthode `lire_fichier` prenant en paramètre d'entrée un `nom_de_fichier` sous forme de chaine de caractères et initialisant la `grille` et les p-uplets `entree` et `sortie` à partir du fichier."
   ]
  },
  {
   "cell_type": "code",
   "execution_count": null,
   "metadata": {},
   "outputs": [],
   "source": [
    "import fenetre_laby as fl\n",
    "from time import sleep"
   ]
  },
  {
   "cell_type": "code",
   "execution_count": null,
   "metadata": {},
   "outputs": [],
   "source": [
    "def resoudre_laby(nom_de_fichier):\n",
    "    laby = Labyrinthe(nom_de_fichier)\n",
    "    fenetre = fl.FenetreLaby(laby)\n",
    "    fenetre.actualiser(laby)\n",
    "    pile = laby.parcourir(fenetre)\n",
    "    while not pile.est_vide():\n",
    "        pos = pile.depiler()\n",
    "        fenetre.afficher_case(pos, fl.ROUGE)\n",
    "    sleep(2)\n",
    "    fenetre.fermer()"
   ]
  },
  {
   "cell_type": "markdown",
   "metadata": {},
   "source": [
    "<div class='rq'>Lorsque le parcours du labyrinthe est terminé, on dépile toutes les positions stockées dans la <code>pile</code> et on affiche en rouge les cases correspondantes, faisant ainsi apparaître à l'écran le chemin qui mène de l'entrée à la sortie.</div>"
   ]
  },
  {
   "cell_type": "code",
   "execution_count": null,
   "metadata": {},
   "outputs": [],
   "source": [
    "resoudre_laby('Grilles/laby.txt')"
   ]
  },
  {
   "cell_type": "code",
   "execution_count": null,
   "metadata": {
    "code_folding": []
   },
   "outputs": [],
   "source": [
    "for a in range(2):\n",
    "    for b in range(1, 8):\n",
    "        resoudre_laby(f\"Grilles/laby{a}{b}.txt\")"
   ]
  },
  {
   "cell_type": "markdown",
   "metadata": {},
   "source": [
    "<img src='https://ntoulzac.github.io/Cours-NSI-Terminale/piles_files/images/laby11.png'><br>\n",
    "<center><i>En rouge, le chemin menant de l'entrée à la sortie. En bleu, les impasses explorées lors du parcours.</i></center>"
   ]
  }
 ],
 "metadata": {
  "kernelspec": {
   "display_name": "Python 3",
   "language": "python",
   "name": "python3"
  },
  "language_info": {
   "codemirror_mode": {
    "name": "ipython",
    "version": 3
   },
   "file_extension": ".py",
   "mimetype": "text/x-python",
   "name": "python",
   "nbconvert_exporter": "python",
   "pygments_lexer": "ipython3",
   "version": "3.8.5"
  }
 },
 "nbformat": 4,
 "nbformat_minor": 4
}
