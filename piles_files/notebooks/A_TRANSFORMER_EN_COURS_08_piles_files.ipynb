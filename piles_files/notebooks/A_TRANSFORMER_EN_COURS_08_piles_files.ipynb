{
 "cells": [
  {
   "cell_type": "markdown",
   "metadata": {},
   "source": [
    "# Chapitre 8 : Piles et files"
   ]
  },
  {
   "cell_type": "markdown",
   "metadata": {},
   "source": [
    "***Structure, implémentation et utilisation de piles et de files***"
   ]
  },
  {
   "cell_type": "markdown",
   "metadata": {},
   "source": [
    "## Partie A - Piles"
   ]
  },
  {
   "cell_type": "markdown",
   "metadata": {},
   "source": [
    "### Définition d'une classe `Pile`"
   ]
  },
  {
   "cell_type": "markdown",
   "metadata": {},
   "source": [
    "On définit une classe `Pile` dont les instances possèdent :\n",
    "- une méthode constructeur qui permet de **créer une pile vide**,\n",
    "- une méthode `est_vide` qui **renvoit** `True` **si la pile est vide** et `False` sinon,\n",
    "- une méthode `empiler` qui **ajoute au sommet de la pile** la valeur passée en argument,\n",
    "- une méthode `depiler` qui **retire du sommet de la pile** une valeur et qui la renvoie,\n",
    "- une méthode `__str__` qui permet l'affichage de la pile à l'écran."
   ]
  },
  {
   "cell_type": "markdown",
   "metadata": {},
   "source": [
    "<div class='rq'>Dans une pile (<i>stack</i> en anglais), les éléments sont retirés dans l'ordre inverse où ils sont ajoutés. On dit que le dernier entré est le premier sorti : <i>last in, first out</i> ou <b>LIFO</b>.</div>"
   ]
  },
  {
   "cell_type": "markdown",
   "metadata": {},
   "source": [
    "Voici une implémentation possible de la classe `Pile`, qui utilise une liste Python (`list`) :"
   ]
  },
  {
   "cell_type": "code",
   "execution_count": null,
   "metadata": {},
   "outputs": [],
   "source": [
    "class Pile:\n",
    "    def __init__(self):\n",
    "        self.liste = [] # Création d'une liste vide\n",
    "    \n",
    "    def est_vide(self):\n",
    "        return self.liste == []\n",
    "\n",
    "    def empiler(self, elem):\n",
    "        self.liste.append(elem) # Ajout d'un élément à la fin de la liste\n",
    "    \n",
    "    def depiler(self):\n",
    "        if self.est_vide():\n",
    "            raise ValueError('la pile est vide')\n",
    "        return self.liste.pop() # Retrait d'un élément à la fin de la liste\n",
    "    \n",
    "    def __str__(self):\n",
    "        chaine = '|'\n",
    "        for k in range(len(self.liste)):\n",
    "            chaine += f\" {self.liste[k]} |\"\n",
    "        return chaine"
   ]
  },
  {
   "cell_type": "markdown",
   "metadata": {},
   "source": [
    "**(1)** Ecrire la spécification des méthodes définies ci-dessus.\n",
    "\n",
    "**(2)** Ecrire une suite d'instructions permettant d'obtenir les affichages successifs suivants :\n",
    "\n",
    "`|`\n",
    "\n",
    "`True`\n",
    "\n",
    "`| 4 | 0 | -1 |`\n",
    "\n",
    "`-1`\n",
    "\n",
    "`| 4 | 0 |`\n",
    "\n",
    "`False`"
   ]
  },
  {
   "cell_type": "code",
   "execution_count": null,
   "metadata": {},
   "outputs": [],
   "source": []
  },
  {
   "cell_type": "markdown",
   "metadata": {},
   "source": [
    "## Partie B - Files"
   ]
  },
  {
   "cell_type": "markdown",
   "metadata": {},
   "source": [
    "### Définition d'une classe `File`"
   ]
  },
  {
   "cell_type": "markdown",
   "metadata": {},
   "source": [
    "On définit une classe `File` dont les instances possèdent :\n",
    "- une méthode constructeur qui permet de **créer une file vide**,\n",
    "- une méthode `est_vide` qui **renvoit** `True` **si la file est vide** et `False` sinon,\n",
    "- une méthode `enfiler` qui **ajoute à la fin de la file** (en queue de file) la valeur passée en argument,\n",
    "- une méthode `defiler` qui **retire du début de la file** (en tête de file) une valeur et qui la renvoie,\n",
    "- une méthode `__str__` qui permet l'affichage de la file à l'écran."
   ]
  },
  {
   "cell_type": "markdown",
   "metadata": {},
   "source": [
    "<div class='rq'>Dans une file (<i>queue</i> en anglais), les éléments sont retirés dans l'ordre où ils sont ajoutés. On dit que le premier entré est le premier sorti : <i>first in, first out</i> ou <b>FIFO</b>.</div>"
   ]
  },
  {
   "cell_type": "markdown",
   "metadata": {},
   "source": [
    "Voici une implémentation possible de la classe `File`, qui utilise une liste Python (`list`) :"
   ]
  },
  {
   "cell_type": "code",
   "execution_count": null,
   "metadata": {},
   "outputs": [],
   "source": [
    "class File:\n",
    "    def __init__(self):\n",
    "        self.liste = [] # Création d'une liste vide\n",
    "    \n",
    "    def est_vide(self):\n",
    "        return self.liste == []\n",
    "\n",
    "    def enfiler(self, elem):\n",
    "        self.liste.insert(0, elem) # Ajout d'un élément au début de la liste\n",
    "    \n",
    "    def defiler(self):\n",
    "        if self.est_vide():\n",
    "            raise ValueError('la file est vide')\n",
    "        return self.liste.pop() # Retrait d'un élément à la fin de la liste\n",
    "    \n",
    "    def __str__(self):\n",
    "        chaine = '|'\n",
    "        for k in range(len(self.liste)):\n",
    "            chaine += f\" {self.liste[k]} |\"\n",
    "        return chaine"
   ]
  },
  {
   "cell_type": "markdown",
   "metadata": {},
   "source": [
    "**(1)** Ecrire la spécification des méthodes définies ci-dessus.\n",
    "\n",
    "**(2)** Ecrire une suite d'instructions permettant d'obtenir les affichages successifs suivants :\n",
    "\n",
    "`|`\n",
    "\n",
    "`True`\n",
    "\n",
    "`| 4 | 0 | -1 |`\n",
    "\n",
    "`-1`\n",
    "\n",
    "`| 4 | 0 |`\n",
    "\n",
    "`False`"
   ]
  },
  {
   "cell_type": "code",
   "execution_count": null,
   "metadata": {},
   "outputs": [],
   "source": []
  },
  {
   "cell_type": "markdown",
   "metadata": {},
   "source": [
    "**(3)** Ecrire une suite d'instructions permettant d'obtenir les affichages successifs suivants :\n",
    "\n",
    "`| 3 | 2 | 1 |`\n",
    "\n",
    "`| 5 | 4 | 3 | 2 |`\n",
    "\n",
    "`| 6 | 5 |`"
   ]
  },
  {
   "cell_type": "code",
   "execution_count": null,
   "metadata": {},
   "outputs": [],
   "source": []
  },
  {
   "cell_type": "markdown",
   "metadata": {},
   "source": [
    "### Autre définition de la classe `File` à partir de deux piles"
   ]
  },
  {
   "cell_type": "markdown",
   "metadata": {},
   "source": [
    "Il est possible d'implémenter différemment la classe `File` en utilisant deux piles :\n",
    "- La première pile est appelée la pile d'entrée.\n",
    "- La seconde pile est appelée la pile de sortie.\n",
    "- Une file vide est représentée par deux piles vides.\n",
    "- Pour faire entrer un élément dans la file, on l'empile au sommet de la pile d'entrée.\n",
    "- Pour faire sortir un élément de la file, on dépile le sommet de la pile de sortie. Si cette dernière est vide, on y transfère tous les éléments présents dans la pile d'entrée en les dépilant de la pile d'entrée et en les empilant dans la pile de sortie.\n",
    "\n",
    "**(4)** Donner une implémentation de la classe `File` utilisant deux piles."
   ]
  },
  {
   "cell_type": "code",
   "execution_count": null,
   "metadata": {},
   "outputs": [],
   "source": []
  },
  {
   "cell_type": "markdown",
   "metadata": {},
   "source": [
    "## Activité : Une implémentation des piles et des files avec une liste chaînée"
   ]
  },
  {
   "cell_type": "markdown",
   "metadata": {},
   "source": [
    "**(8)** Proposer une implémentation d'une classe `Pile` utilisant une liste chaînée."
   ]
  },
  {
   "cell_type": "code",
   "execution_count": null,
   "metadata": {},
   "outputs": [],
   "source": [
    "from structures_lineaires import Liste"
   ]
  },
  {
   "cell_type": "code",
   "execution_count": null,
   "metadata": {},
   "outputs": [],
   "source": []
  },
  {
   "cell_type": "markdown",
   "metadata": {},
   "source": [
    "**(9)** Proposer une implémentation d'une classe `File` utilisant une liste chaînée."
   ]
  },
  {
   "cell_type": "code",
   "execution_count": null,
   "metadata": {},
   "outputs": [],
   "source": []
  },
  {
   "cell_type": "markdown",
   "metadata": {},
   "source": [
    "## Exercices"
   ]
  },
  {
   "cell_type": "markdown",
   "metadata": {},
   "source": [
    "### Exercice 1"
   ]
  },
  {
   "cell_type": "markdown",
   "metadata": {},
   "source": [
    "**(1)** Définir une fonction `parentheses_ok` prenant en paramètre d'entrée une chaîne de caractères et retournant `True` si la chaîne de caractères est correctement parenthésée et `False` sinon. Ecrire la spécification de la fonction ainsi qu'un jeu de tests."
   ]
  },
  {
   "cell_type": "code",
   "execution_count": null,
   "metadata": {},
   "outputs": [],
   "source": []
  },
  {
   "cell_type": "code",
   "execution_count": null,
   "metadata": {},
   "outputs": [],
   "source": [
    "dt.run_docstring_examples(parentheses_ok, globals())"
   ]
  },
  {
   "cell_type": "markdown",
   "metadata": {},
   "source": [
    "**(2)** Modifier la définition de la fonction `parentheses_ok` pour la généraliser aux crochets et aux accolades."
   ]
  },
  {
   "cell_type": "code",
   "execution_count": null,
   "metadata": {},
   "outputs": [],
   "source": []
  },
  {
   "cell_type": "code",
   "execution_count": null,
   "metadata": {},
   "outputs": [],
   "source": [
    "dt.run_docstring_examples(parentheses_ok, globals())"
   ]
  },
  {
   "cell_type": "markdown",
   "metadata": {},
   "source": [
    "### Exercice 2"
   ]
  },
  {
   "cell_type": "markdown",
   "metadata": {},
   "source": [
    "Ecrire une fonction `inverser_file` prenant en entrée une file et retournant une nouvelle file dans laquelle les éléments sont dans l'ordre inverse de la première file. On n'utilisera que des piles ou des files et leurs méthodes associées."
   ]
  },
  {
   "cell_type": "code",
   "execution_count": null,
   "metadata": {},
   "outputs": [],
   "source": []
  },
  {
   "cell_type": "code",
   "execution_count": null,
   "metadata": {},
   "outputs": [],
   "source": [
    "ma_file = File()\n",
    "for k in range(10):\n",
    "    ma_file.enfiler(k)\n",
    "print(ma_file)"
   ]
  },
  {
   "cell_type": "code",
   "execution_count": null,
   "metadata": {},
   "outputs": [],
   "source": [
    "mon_autre_file = inverser_file(ma_file)\n",
    "print(mon_autre_file)"
   ]
  },
  {
   "cell_type": "markdown",
   "metadata": {},
   "source": [
    "### Exercice 3"
   ]
  },
  {
   "cell_type": "markdown",
   "metadata": {},
   "source": [
    "Ecrire une fonction `separer_pairs` prenant en entrée une file contenant des entiers et retournant une nouvelle file dans laquelle les éléments pairs sont placés en tête de file et les éléments impairs en queue de file."
   ]
  },
  {
   "cell_type": "code",
   "execution_count": null,
   "metadata": {},
   "outputs": [],
   "source": []
  },
  {
   "cell_type": "code",
   "execution_count": null,
   "metadata": {},
   "outputs": [],
   "source": [
    "ma_file = File()\n",
    "for k in range(10):\n",
    "    ma_file.enfiler(k)\n",
    "print(ma_file)"
   ]
  },
  {
   "cell_type": "code",
   "execution_count": null,
   "metadata": {},
   "outputs": [],
   "source": [
    "mon_autre_file = separer_pairs(ma_file)\n",
    "print(mon_autre_file)"
   ]
  }
 ],
 "metadata": {
  "kernelspec": {
   "display_name": "Python 3",
   "language": "python",
   "name": "python3"
  },
  "language_info": {
   "codemirror_mode": {
    "name": "ipython",
    "version": 3
   },
   "file_extension": ".py",
   "mimetype": "text/x-python",
   "name": "python",
   "nbconvert_exporter": "python",
   "pygments_lexer": "ipython3",
   "version": "3.8.5"
  }
 },
 "nbformat": 4,
 "nbformat_minor": 4
}
