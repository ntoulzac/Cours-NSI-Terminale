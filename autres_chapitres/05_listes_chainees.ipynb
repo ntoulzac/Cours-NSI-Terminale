{
 "cells": [
  {
   "cell_type": "markdown",
   "metadata": {},
   "source": [
    "# Chapitre 5 : Listes, piles et files"
   ]
  },
  {
   "cell_type": "markdown",
   "metadata": {},
   "source": [
    "***Structure, implémentation et utilisation de listes chaînées, de piles et de files***"
   ]
  },
  {
   "cell_type": "markdown",
   "metadata": {},
   "source": [
    "## Partie A - Listes chaînées"
   ]
  },
  {
   "cell_type": "markdown",
   "metadata": {},
   "source": [
    "### Notion de liste chaînée"
   ]
  },
  {
   "cell_type": "markdown",
   "metadata": {},
   "source": [
    "Une **liste (simplement) chaînée** est une structure de données représentant un ensemble ordonné d'éléments qui sont stockés en mémoire sous la forme de maillons (ou de cellules).\n",
    "\n",
    "Si une liste chaînée est vide, elle est représentée par un maillon `None`. Sinon chacun de ses maillons contient :\n",
    "- une **valeur**, appelée la **tête** de la liste,\n",
    "- un **pointeur** vers une liste chaînée (éventuellement vide), appelée la **queue** de la liste.\n",
    "\n",
    "On donne ci-dessous une représentation schématique d'une liste chaînée `L` :"
   ]
  },
  {
   "cell_type": "markdown",
   "metadata": {},
   "source": [
    "<img src='Images/liste1.png' width='90%'>"
   ]
  },
  {
   "cell_type": "markdown",
   "metadata": {},
   "source": [
    "### Implémentation avec deux classes `Maillon` et `Liste`"
   ]
  },
  {
   "cell_type": "markdown",
   "metadata": {},
   "source": [
    "On donne une implémentation des listes chaînées à partir de deux classes `Maillon` et `Liste` :"
   ]
  },
  {
   "cell_type": "code",
   "execution_count": null,
   "metadata": {},
   "outputs": [],
   "source": [
    "class Maillon:\n",
    "    def __init__(self, tete, queue):\n",
    "        self.tete = tete\n",
    "        self.queue = queue"
   ]
  },
  {
   "cell_type": "code",
   "execution_count": null,
   "metadata": {},
   "outputs": [],
   "source": [
    "class Liste:\n",
    "    def __init__(self, maillon):\n",
    "        self.maillon = maillon\n",
    "\n",
    "    def est_vide(self):\n",
    "        return self.maillon is None\n",
    "\n",
    "    def tete(self):\n",
    "        if self.est_vide():\n",
    "            return None\n",
    "        else:\n",
    "            return self.maillon.tete\n",
    "\n",
    "    def queue(self):\n",
    "        if self.est_vide():\n",
    "            raise ValueError('la liste est vide')\n",
    "        else:\n",
    "            return self.maillon.queue\n",
    "\n",
    "    def nb_elements(self):\n",
    "        if self.est_vide():\n",
    "            return 0\n",
    "        else:\n",
    "            liste = self.queue()\n",
    "            return 1 + liste.nb_elements()\n",
    "\n",
    "    def inserer_en_tete(self, elem):\n",
    "        self.maillon = Maillon(elem, Liste(self.maillon))\n",
    "\n",
    "    def supprimer_en_tete(self):\n",
    "        if self.est_vide():\n",
    "            raise ValueError('la liste est vide')\n",
    "        else:\n",
    "            self.maillon = self.queue().maillon\n",
    "\n",
    "    def __str__(self):\n",
    "        chaine = \"\"\n",
    "        liste = self\n",
    "        for k in range(self.nb_elements()):\n",
    "            chaine = chaine + f\"{liste.tete()}  \"\n",
    "            liste = liste.queue()\n",
    "        return chaine"
   ]
  },
  {
   "cell_type": "markdown",
   "metadata": {},
   "source": [
    "**(1)** Ecrire la spécification de chacune des méthodes définies ci-dessus."
   ]
  },
  {
   "cell_type": "markdown",
   "metadata": {},
   "source": [
    "**(2)** Définir une variable `nil` contenant une liste vide."
   ]
  },
  {
   "cell_type": "code",
   "execution_count": null,
   "metadata": {},
   "outputs": [],
   "source": []
  },
  {
   "cell_type": "code",
   "execution_count": null,
   "metadata": {},
   "outputs": [],
   "source": []
  },
  {
   "cell_type": "markdown",
   "metadata": {},
   "source": [
    "**(3)** Représenter schématiquement la liste `L1` définie dans la cellule suivante."
   ]
  },
  {
   "cell_type": "code",
   "execution_count": null,
   "metadata": {},
   "outputs": [],
   "source": [
    "L1 = Liste(Maillon(3, Liste(Maillon(5, Liste(Maillon(6, Liste(None)))))))"
   ]
  },
  {
   "cell_type": "markdown",
   "metadata": {},
   "source": [
    "**(4)** Représenter schématiquement la liste `L2` définie dans la cellule suivante."
   ]
  },
  {
   "cell_type": "code",
   "execution_count": null,
   "metadata": {},
   "outputs": [],
   "source": [
    "L2 = Liste(None)\n",
    "L2.inserer_en_tete(1)\n",
    "L2.inserer_en_tete(2)\n",
    "L2.inserer_en_tete(3)"
   ]
  },
  {
   "cell_type": "markdown",
   "metadata": {},
   "source": [
    "**(5)** Compléter la définition de la classe `Liste` en y ajoutant les méthodes :\n",
    "- `inserer` qui prend en paramètres d'entrée une valeur `elem` et un entier `pos` et qui insère dans la liste la valeur `elem` à la position `pos`. On rappelle que la position du premier élément de la liste est 0.\n",
    "- `supprimer` qui prend en paramètres d'entrée un entier `pos` et qui supprime de la liste la valeur située à la position `pos`."
   ]
  },
  {
   "cell_type": "markdown",
   "metadata": {},
   "source": [
    "<div class='rq'>La cellule suivante permet de tester les méthodes <code>inserer</code> et <code>supprimer</code>.</div>"
   ]
  },
  {
   "cell_type": "code",
   "execution_count": null,
   "metadata": {},
   "outputs": [],
   "source": [
    "L = Liste(None)\n",
    "for k in range(5, 0, -1):\n",
    "    L.inserer_en_tete(k)\n",
    "print('Liste initiale ........................', L)\n",
    "L.inserer(0, 0)\n",
    "print('Après insertion de 0 en position 0 ....', L)\n",
    "L.inserer(6, 3)\n",
    "print('Après insertion de 6 en position 3 ....', L)\n",
    "L.inserer(6, 7)\n",
    "print('Après insertion de 6 en position 7 ....', L)\n",
    "L.supprimer(3)\n",
    "print('Après suppression de 6 en position 3 ..', L)\n",
    "L.supprimer(6)\n",
    "print('Après suppression de 6 en position 6 ..', L)"
   ]
  },
  {
   "cell_type": "markdown",
   "metadata": {},
   "source": [
    "**(6)** Recopier et compléter la définition de la classe `Liste` en y ajoutant la méthode `__getitem__` qui prend en paramètre d'entrée un entier `pos` et qui retourne la valeur située à la position `pos`."
   ]
  },
  {
   "cell_type": "markdown",
   "metadata": {},
   "source": [
    "<div class='rq'>La cellule suivante permet de tester la méthode <code>__getitem__</code>. La notation <code>L[pos]</code> est un raccourci pour <code>L.__getitem__(pos)</code>.</div>"
   ]
  },
  {
   "cell_type": "code",
   "execution_count": null,
   "metadata": {},
   "outputs": [],
   "source": [
    "from random import randint\n",
    "L = Liste(None)\n",
    "for _ in range(11):\n",
    "    L.inserer_en_tete(randint(0, 100))\n",
    "print('Liste ..................', L)\n",
    "print('Valeur en position 0 ...', L[0]) # la notation L[0] est un raccourci pour L.__getitem__(0)\n",
    "print('Valeur en position 5 ...', L[5])\n",
    "print('Valeur en position 10 ..', L[10])"
   ]
  },
  {
   "cell_type": "markdown",
   "metadata": {},
   "source": [
    "**(7)** Définir une fonction récursive `concatener` prenant en paramètres d'entrée deux instances `liste1` et `liste2` de la classe `Liste` et retournant la liste obtenue en concaténant `liste2` à la fin de `liste1`. Les deux listes passées en argument ne doivent pas être modifiées lors de l'exécution de la fonction."
   ]
  },
  {
   "cell_type": "code",
   "execution_count": null,
   "metadata": {},
   "outputs": [],
   "source": []
  },
  {
   "cell_type": "code",
   "execution_count": null,
   "metadata": {},
   "outputs": [],
   "source": [
    "L1 = Liste(None)\n",
    "for _ in range(randint(1, 10)):\n",
    "    L1.inserer_en_tete(randint(0, 100))\n",
    "L2 = Liste(None)    \n",
    "for _ in range(randint(1, 10)):\n",
    "    L2.inserer_en_tete(randint(0, 100))\n",
    "print('Liste 1 ........', L1)\n",
    "print('Liste 2 ........', L2)\n",
    "print('Concaténation ..', concatener(L1, L2))\n",
    "print('Liste 1 ........', L1)\n",
    "print('Liste 2 ........', L2)"
   ]
  },
  {
   "cell_type": "markdown",
   "metadata": {},
   "source": [
    "## Exercices"
   ]
  },
  {
   "cell_type": "markdown",
   "metadata": {},
   "source": [
    "### Exercice 1"
   ]
  },
  {
   "cell_type": "markdown",
   "metadata": {},
   "source": [
    "Définir une fonction `listeN` qui prend en paramètre d'entrée un entier `n` positif et qui retourne une instance de la classe `Liste` contenant les entiers compris de 1 à `n` rangés dans l'ordre croissant. Si `n` est nul, la liste retournée est vide."
   ]
  },
  {
   "cell_type": "code",
   "execution_count": null,
   "metadata": {},
   "outputs": [],
   "source": []
  },
  {
   "cell_type": "code",
   "execution_count": null,
   "metadata": {},
   "outputs": [],
   "source": [
    "print('Pour n = 0  :', listeN(0))\n",
    "print('Pour n = 5  :', listeN(5))\n",
    "print('Pour n = 20 :', listeN(20))"
   ]
  },
  {
   "cell_type": "markdown",
   "metadata": {},
   "source": [
    "### Exercice 2"
   ]
  },
  {
   "cell_type": "markdown",
   "metadata": {},
   "source": [
    "**(1)** Définir une fonction `occurrences` qui prend en paramètres d'entrée une valeur `val` et une instance `L` de la classe `Liste` et qui retourne le nombre d'occurrences de la valeur `val` dans `L`."
   ]
  },
  {
   "cell_type": "code",
   "execution_count": null,
   "metadata": {},
   "outputs": [],
   "source": []
  },
  {
   "cell_type": "code",
   "execution_count": null,
   "metadata": {},
   "outputs": [],
   "source": []
  },
  {
   "cell_type": "markdown",
   "metadata": {},
   "source": [
    "**(2)** Définir une fonction `indice` qui prend en paramètres d'entrée une valeur `val` et une instance `L` de la classe `Liste` et qui retourne l'indice de la première occurrence de la valeur `val` dans `L`, ou `None` si `L` ne contient pas `val`."
   ]
  },
  {
   "cell_type": "code",
   "execution_count": null,
   "metadata": {},
   "outputs": [],
   "source": []
  },
  {
   "cell_type": "code",
   "execution_count": null,
   "metadata": {},
   "outputs": [],
   "source": []
  },
  {
   "cell_type": "markdown",
   "metadata": {},
   "source": [
    "### Exercice 3"
   ]
  },
  {
   "cell_type": "markdown",
   "metadata": {},
   "source": [
    "Définir une fonction `sont_indentiques` qui prend en paramètres d'entrée deux instances `L1` et `L2` de la classe `Liste` et qui retourne `True` si les deux listes contiennent exactement les mêmes éléments dans le même ordre, et `False` sinon."
   ]
  },
  {
   "cell_type": "code",
   "execution_count": null,
   "metadata": {},
   "outputs": [],
   "source": []
  },
  {
   "cell_type": "code",
   "execution_count": null,
   "metadata": {},
   "outputs": [],
   "source": [
    "L1 = Liste(None)\n",
    "for k in range(1, 4):\n",
    "    L1.inserer_en_tete(k)\n",
    "print('Liste 1 ....', L1)\n",
    "L2 = Liste(None)    \n",
    "for k in range(4):\n",
    "    L2.inserer_en_tete(k)\n",
    "print('Liste 2 ....', L2)\n",
    "print('Identiques ?', sont_identiques(L1, L2))"
   ]
  },
  {
   "cell_type": "code",
   "execution_count": null,
   "metadata": {},
   "outputs": [],
   "source": [
    "L1 = Liste(None)\n",
    "for _ in range(3):\n",
    "    L1.inserer_en_tete(randint(0, 1))\n",
    "print('Liste 1 ....', L1)\n",
    "L2 = Liste(None)    \n",
    "for _ in range(3):\n",
    "    L2.inserer_en_tete(randint(0, 1))\n",
    "print('Liste 2 ....', L2)\n",
    "print('Identiques ?', sont_identiques(L1, L2))"
   ]
  },
  {
   "cell_type": "markdown",
   "metadata": {},
   "source": [
    "### Exercice 4"
   ]
  },
  {
   "cell_type": "markdown",
   "metadata": {},
   "source": [
    "Définir une fonction `tableau_vers_liste` qui prend en paramètre d'entrée un tableau `Tab` et qui retourne une instance de la classe `Liste` contenant les mêmes éléments que `Tab` et dans le même ordre."
   ]
  },
  {
   "cell_type": "code",
   "execution_count": null,
   "metadata": {},
   "outputs": [],
   "source": []
  },
  {
   "cell_type": "code",
   "execution_count": null,
   "metadata": {},
   "outputs": [],
   "source": []
  },
  {
   "cell_type": "markdown",
   "metadata": {},
   "source": [
    "### Exercice 5"
   ]
  },
  {
   "cell_type": "markdown",
   "metadata": {},
   "source": [
    "**(1)** Définir une fonction `inserer_a_sa_place` qui prend en paramètres d'entrée un nombre `x` et une instance `L` de la classe `Liste` (dont les éléments sont supposés rangés dans l'ordre croissant) et qui retourne une nouvelle instance de la classe `Liste` dans laquelle `x` a été inseré de sorte que la nouvelle liste soit triée."
   ]
  },
  {
   "cell_type": "code",
   "execution_count": null,
   "metadata": {},
   "outputs": [],
   "source": []
  },
  {
   "cell_type": "code",
   "execution_count": null,
   "metadata": {},
   "outputs": [],
   "source": []
  },
  {
   "cell_type": "markdown",
   "metadata": {},
   "source": [
    "**(2)** Définir une fonction `tri_par_insertion` qui prend en paramètre d'entrée une instance `L` de la classe `Liste` et qui retourne une nouvelle instance de la classe `Liste` triée via l'algorithme du tri par insertion."
   ]
  },
  {
   "cell_type": "code",
   "execution_count": null,
   "metadata": {},
   "outputs": [],
   "source": []
  },
  {
   "cell_type": "code",
   "execution_count": null,
   "metadata": {},
   "outputs": [],
   "source": []
  }
 ],
 "metadata": {
  "kernelspec": {
   "display_name": "Python 3",
   "language": "python",
   "name": "python3"
  },
  "language_info": {
   "codemirror_mode": {
    "name": "ipython",
    "version": 3
   },
   "file_extension": ".py",
   "mimetype": "text/x-python",
   "name": "python",
   "nbconvert_exporter": "python",
   "pygments_lexer": "ipython3",
   "version": "3.8.8"
  }
 },
 "nbformat": 4,
 "nbformat_minor": 4
}
