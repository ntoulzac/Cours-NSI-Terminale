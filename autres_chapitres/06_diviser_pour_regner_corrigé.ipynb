{
 "cells": [
  {
   "cell_type": "markdown",
   "metadata": {},
   "source": [
    "# Chapitre 6 : Méthode diviser pour régner"
   ]
  },
  {
   "cell_type": "markdown",
   "metadata": {},
   "source": [
    "## Partie A - Algorithmes de tri récursifs"
   ]
  },
  {
   "cell_type": "markdown",
   "metadata": {},
   "source": [
    "De même que l'algorithme de recherche dichotomique d'une valeur dans un tableau trié (vu en classe de Première), les deux algorithmes de tri étudiés dans cette partie s'appuient sur le principe **diviser pour régner**.\n",
    "\n",
    "Il s'agit de **décomposer** le problème initial en plusieurs sous-problèmes plus petits, à **résoudre** ces sous-problèmes (par exemple récursivement) puis à **combiner** les solutions des sous-problèmes pour obtenir une solution au problème initial."
   ]
  },
  {
   "cell_type": "markdown",
   "metadata": {},
   "source": [
    "### Premier algorithme : le tri fusion (ou *merge sort*)"
   ]
  },
  {
   "cell_type": "markdown",
   "metadata": {},
   "source": [
    "#### Fusion de deux tableaux triés"
   ]
  },
  {
   "cell_type": "markdown",
   "metadata": {},
   "source": [
    "**(1)** Après avoir exécuté la cellule suivante, dire à quoi correspondent, en Python, les syntaxes `tableau[a:b]`, `tableau[a:]` et `tableau[:b]`."
   ]
  },
  {
   "cell_type": "code",
   "execution_count": 1,
   "metadata": {},
   "outputs": [
    {
     "name": "stdout",
     "output_type": "stream",
     "text": [
      "Tableau complet :  [10, 7, 8, 3, 4, 4, 5, 1, 1, 9, 5, 2, 9, 9, 5, 7, 9, 8, 2, 1]\n",
      "Extrait 1 :  [4, 5, 1, 1, 9, 5, 2, 9, 9, 5]\n",
      "Extrait 2 :  [4, 5, 1, 1, 9, 5, 2, 9, 9, 5, 7, 9, 8, 2, 1]\n",
      "Extrait 3 :  [10, 7, 8, 3, 4, 4, 5, 1, 1, 9, 5, 2, 9, 9, 5]\n"
     ]
    }
   ],
   "source": [
    "from random import randint\n",
    "tableau = [randint(0, 10) for _ in range(20)]\n",
    "print('Tableau complet : ', tableau)\n",
    "print('Extrait 1 : ', tableau[5:15])\n",
    "print('Extrait 2 : ', tableau[5:])\n",
    "print('Extrait 3 : ', tableau[:15])"
   ]
  },
  {
   "cell_type": "markdown",
   "metadata": {},
   "source": [
    "<div class = 'rq'>\n",
    "<code>tableau[a:b]</code> représente le tableau composé des éléments de <code>tableau</code> ayant un indice compris entre <code>a</code> et <code>b-1</code>.<br>\n",
    "    <code>tableau[a:]</code> représente le tableau composé des éléments de <code>tableau</code> ayant un indice supérieur ou égal à <code>a</code>.<br>\n",
    "    <code>tableau[:b]</code> représente le tableau composé des éléments de <code>tableau</code> ayant un indice strictement inférieur à <code>b</code>.\n",
    "</div>"
   ]
  },
  {
   "cell_type": "markdown",
   "metadata": {},
   "source": [
    "On considère deux tableaux `T1` et `T2` et on suppose que ces deux tableaux sont triés. On souhaite fusionner de façon récursive ces deux tableaux en un seul tableau `T` trié lui aussi.\n",
    "\n",
    "**(2)** Compléter le code de la fonction `fusion` définie ci-dessous :"
   ]
  },
  {
   "cell_type": "code",
   "execution_count": 2,
   "metadata": {},
   "outputs": [],
   "source": [
    "def fusion(T1, T2):\n",
    "    \"\"\"\n",
    "    Fusionne les tableaux triés T1 et T2 en un seul tableau T trié.\n",
    "    - Entrées : T1, T2 (tableaux triés)\n",
    "    - Sortie : T (tableau trié)\n",
    "    \"\"\"\n",
    "    if len(T1) == 0:\n",
    "        return T2\n",
    "    if len(T2) == 0:\n",
    "        return T1\n",
    "    if T1[0] <= T2[0]:\n",
    "        return [T1[0]] + fusion(T1[1:], T2)\n",
    "    else:\n",
    "        return [T2[0]] + fusion(T1, T2[1:])"
   ]
  },
  {
   "cell_type": "code",
   "execution_count": 3,
   "metadata": {},
   "outputs": [
    {
     "data": {
      "text/plain": [
       "[0, 1, 2, 3, 4, 5, 6, 7, 8, 9, 10]"
      ]
     },
     "execution_count": 3,
     "metadata": {},
     "output_type": "execute_result"
    }
   ],
   "source": [
    "tableau1 = [0, 2, 4, 6, 8, 10]\n",
    "tableau2 = [1, 3, 5, 7, 9]\n",
    "fusion(tableau1, tableau2)"
   ]
  },
  {
   "cell_type": "markdown",
   "metadata": {},
   "source": [
    "#### Algorithme de tri fusion"
   ]
  },
  {
   "cell_type": "markdown",
   "metadata": {},
   "source": [
    "Le **tri fusion** est un algorithme de tri fusionnant récursivement deux tableaux triés."
   ]
  },
  {
   "cell_type": "markdown",
   "metadata": {},
   "source": [
    "<div class = 'rq3'>\n",
    "    <p><b>Algorithme de tri fusion pour un tableau <code>T</code></b></p>\n",
    "<p><b>Début</b></p>\n",
    "<p STYLE=\"padding:0 0 0 40px;\">Si longueur(<code>T</code>) $\\leq$ 1 alors</p>\n",
    "    <p STYLE=\"padding:0 0 0 80px;\">Retourner <code>T</code></p>\n",
    "<p STYLE=\"padding:0 0 0 40px;\">Sinon</p>\n",
    "<p STYLE=\"padding:0 0 0 80px;\">T1 ← tri fusion de la première moitié de <code>T</code></p>\n",
    "<p STYLE=\"padding:0 0 0 80px;\">T2 ← tri fusion de la seconde moitié de <code>T</code></p>\n",
    "<p STYLE=\"padding:0 0 0 80px;\">T ← fusion de <code>T1</code> et de <code>T2</code></p>\n",
    "<p STYLE=\"padding:0 0 0 80px;\">Retourner <code>T</code></p>    \n",
    "<p><b>Fin</b></p>\n",
    "</div>"
   ]
  },
  {
   "cell_type": "markdown",
   "metadata": {},
   "source": [
    "**(3)** Implémenter l'algorithme de tri fusion dans une fonction `tri_fusion`, puis écrire sa spécification."
   ]
  },
  {
   "cell_type": "code",
   "execution_count": 4,
   "metadata": {},
   "outputs": [],
   "source": [
    "def tri_fusion(T):\n",
    "    \"\"\"\n",
    "    Trie le tableau T grâce à l'algorithme de tri fusion\n",
    "    - Entrée : T (tableau)\n",
    "    - Sortie : (tableau trié)\n",
    "    \"\"\"\n",
    "    if len(T) <= 1:\n",
    "        return T\n",
    "    else:\n",
    "        m = len(T)//2\n",
    "        return fusion(tri_fusion(T[:m]), tri_fusion(T[m:]))"
   ]
  },
  {
   "cell_type": "markdown",
   "metadata": {},
   "source": [
    "**(4)** Tester la fonction `tri_fusion` en exécutant la cellule suivante, et expliquer le rôle de la procédure `shuffle` importée depuis le module `random`."
   ]
  },
  {
   "cell_type": "code",
   "execution_count": 5,
   "metadata": {},
   "outputs": [
    {
     "name": "stdout",
     "output_type": "stream",
     "text": [
      "Tableau non trié :  [20, 2, 7, 1, 24, 14, 9, 13, 21, 8, 12, 17, 0, 16, 6, 18, 23, 15, 3, 22, 5, 11, 10, 19, 4]\n",
      "Tableau trié :  [0, 1, 2, 3, 4, 5, 6, 7, 8, 9, 10, 11, 12, 13, 14, 15, 16, 17, 18, 19, 20, 21, 22, 23, 24]\n"
     ]
    }
   ],
   "source": [
    "from random import shuffle\n",
    "T = list(range(25))\n",
    "shuffle(T)\n",
    "print('Tableau non trié : ', T)\n",
    "T = tri_fusion(T)\n",
    "print('Tableau trié : ', T)"
   ]
  },
  {
   "cell_type": "markdown",
   "metadata": {},
   "source": [
    "<div class = 'rq'>\n",
    "    La procédure <code>shuffle</code> permet de mélanger les éléments d'un tableau.\n",
    "</div>"
   ]
  },
  {
   "cell_type": "markdown",
   "metadata": {},
   "source": [
    "<img src=\"https://idea-instructions.com/merge-sort.png\">"
   ]
  },
  {
   "cell_type": "markdown",
   "metadata": {},
   "source": [
    "### Second algorithme : le tri rapide (ou *quick sort*)"
   ]
  },
  {
   "cell_type": "markdown",
   "metadata": {},
   "source": [
    "#### Partitionnement d'un tableau par rapport à un pivot"
   ]
  },
  {
   "cell_type": "markdown",
   "metadata": {},
   "source": [
    "**(5)** Après avoir testé la fonction `partitionner` définie ci-dessous, écrire sa spécification."
   ]
  },
  {
   "cell_type": "code",
   "execution_count": 6,
   "metadata": {},
   "outputs": [],
   "source": [
    "def partitionner(T, debut, fin, pivot):\n",
    "    \"\"\"\n",
    "    Effectue le partitionnement du tableau entre les indices debut et fin et par rapport à pivot\n",
    "    Concrètement, les éléments de T d'indice compris entre debut et fin sont déplacés de sorte que\n",
    "    ceux qui sont plus petits que pivot se retrouvent à sa gauche, et ce qui sont plus grands à sa droite\n",
    "    - Entrées : T (tableau), debut, fin, pivot (entiers compris entre 0 et len(T))\n",
    "    - Sortie : j (entier, indice du pivot après le partitionnement)\n",
    "    \"\"\"\n",
    "    T[pivot], T[fin] = T[fin], T[pivot]\n",
    "    j = debut\n",
    "    for i in range(debut, fin): # la boucle se termine au rang fin-1\n",
    "        if T[i] < T[fin]:\n",
    "            T[i], T[j] = T[j], T[i]\n",
    "            j = j + 1\n",
    "    T[fin], T[j] = T[j], T[fin]\n",
    "    return j"
   ]
  },
  {
   "cell_type": "code",
   "execution_count": 7,
   "metadata": {},
   "outputs": [
    {
     "name": "stdout",
     "output_type": "stream",
     "text": [
      "[199, 39, 103, 19, 12, 259, 292, 7, 3, 327, 364, 147, 52, 228, 84, 124, 4, 28, 67, 172]\n",
      "19\n",
      "[199, 39, 103, 19, 12, 259, 292, 7, 3, 327, 172, 147, 52, 228, 84, 124, 4, 28, 67, 364]\n"
     ]
    }
   ],
   "source": [
    "tableau = [k**2 + 3 for k in range(20)]\n",
    "shuffle(tableau)\n",
    "print(tableau)\n",
    "print(partitionner(tableau, 0, 19, 10))\n",
    "print(tableau)"
   ]
  },
  {
   "cell_type": "code",
   "execution_count": 8,
   "metadata": {},
   "outputs": [
    {
     "name": "stdout",
     "output_type": "stream",
     "text": [
      "[292, 19, 67, 28, 84, 7, 3, 124, 4, 228, 172, 147, 103, 259, 12, 52, 199, 364, 327, 39]\n",
      "13\n",
      "[292, 19, 67, 28, 84, 7, 3, 124, 4, 52, 147, 103, 12, 172, 228, 259, 199, 364, 327, 39]\n"
     ]
    }
   ],
   "source": [
    "tableau = [k**2 + 3 for k in range(20)]\n",
    "shuffle(tableau)\n",
    "print(tableau)\n",
    "print(partitionner(tableau, 5, 15, 10))\n",
    "print(tableau)"
   ]
  },
  {
   "cell_type": "markdown",
   "metadata": {},
   "source": [
    "#### Algorithme de tri rapide"
   ]
  },
  {
   "cell_type": "markdown",
   "metadata": {},
   "source": [
    "Le **tri rapide** est un algorithme de tri récursif dont le principe est de placer un des éléments (appelé **pivot**) à sa place finale en déplaçant avant lui tous les éléments qui lui sont inférieurs et après lui tous les éléments qui lui sont supérieurs. Cette étape, appelée le **partitionnement** du tableau, est répétée récursivement sur les deux parties de tableau situées à gauche et à droite du pivot, et ce jusqu'à ce que le tableau soit entièrement trié."
   ]
  },
  {
   "cell_type": "markdown",
   "metadata": {},
   "source": [
    "<div class = 'rq3'>\n",
    "    <p><b>Algorithme de tri rapide pour les éléments d'un tableau <code>T</code> ayant un indice compris entre <code>debut</code> et <code>fin</code></b></p>\n",
    "<p><b>Début</b></p>\n",
    "<p STYLE=\"padding:0 0 0 40px;\">Si <code>debut</code> $<$ <code>fin</code> alors</p>\n",
    "<p STYLE=\"padding:0 0 0 80px;\"><code>pivot</code> ← entier aléatoire compris entre <code>debut</code> et <code>fin</code></p>\n",
    "<p STYLE=\"padding:0 0 0 80px;\"><code>pivot</code> ← <code>partitionner</code>(<code>T</code>, <code>debut</code>, <code>fin</code>, <code>pivot</code>)</p>\n",
    "<p STYLE=\"padding:0 0 0 80px;\">tri rapide des éléments de <code>T</code> ayant un indice compris entre <code>debut</code> et <code>pivot</code>-1</p>\n",
    "<p STYLE=\"padding:0 0 0 80px;\">tri rapide des éléments de <code>T</code> ayant un indice compris entre <code>pivot</code>+1 et <code>fin</code></p>\n",
    "<p><b>Fin</b></p>\n",
    "</div>"
   ]
  },
  {
   "cell_type": "markdown",
   "metadata": {},
   "source": [
    "**(6)** Implémenter l'algorithme de tri rapide dans une procédure `tri_rapide`, puis écrire sa spécification."
   ]
  },
  {
   "cell_type": "code",
   "execution_count": 9,
   "metadata": {},
   "outputs": [],
   "source": [
    "def tri_rapide(T, debut, fin):\n",
    "    \"\"\"\n",
    "    Trie le tableau T grâce à l'algorithme de tri rapide\n",
    "    - Entrées : T (tableau), debut, fin (entiers égaux à 0 et len(T)-1 respectivement pour trier T entièrement)\n",
    "    - Effet de bord : modification de T\n",
    "    \"\"\"\n",
    "    if debut < fin:\n",
    "        pivot = randint(debut, fin)\n",
    "        pivot = partitionner(T, debut, fin, pivot)\n",
    "        tri_rapide(T, debut, pivot - 1)\n",
    "        tri_rapide(T, pivot + 1, fin)"
   ]
  },
  {
   "cell_type": "markdown",
   "metadata": {},
   "source": [
    "**(7)** Tester la procédure `tri_rapide` en exécutant la cellule suivante."
   ]
  },
  {
   "cell_type": "code",
   "execution_count": 10,
   "metadata": {},
   "outputs": [
    {
     "name": "stdout",
     "output_type": "stream",
     "text": [
      "Tableau non trié :  [5, 11, 4, 2, 24, 14, 7, 18, 17, 13, 0, 1, 20, 15, 3, 9, 8, 10, 22, 23, 12, 21, 6, 19, 16]\n",
      "Tableau trié :  [0, 1, 2, 3, 4, 5, 6, 7, 8, 9, 10, 11, 12, 13, 14, 15, 16, 17, 18, 19, 20, 21, 22, 23, 24]\n"
     ]
    }
   ],
   "source": [
    "from random import shuffle\n",
    "T = list(range(25))\n",
    "shuffle(T)\n",
    "print('Tableau non trié : ', T)\n",
    "tri_rapide(T, 0, len(T)-1)\n",
    "print('Tableau trié : ', T)"
   ]
  },
  {
   "cell_type": "markdown",
   "metadata": {},
   "source": [
    "<img src=\"https://idea-instructions.com/quick-sort.png\">"
   ]
  },
  {
   "cell_type": "markdown",
   "metadata": {},
   "source": [
    "## Partie B - Rotation d'une image de 90 degrés"
   ]
  },
  {
   "cell_type": "markdown",
   "metadata": {},
   "source": [
    "L'objectif de cette partie est d'écrire une procédure récursive permettant de faire tourner une image carrée de 90 degrés, en utilisant le principe diviser pour régner."
   ]
  },
  {
   "cell_type": "markdown",
   "metadata": {},
   "source": [
    "<table>\n",
    "    <tr>\n",
    "        <td><img src='https://ntoulzac.github.io/Cours-NSI-Terminale/diviser/images/homer.png' width='60%'><center><br><i>Image initiale</i></center></td>\n",
    "        <td><img src='https://ntoulzac.github.io/Cours-NSI-Terminale/diviser/images/homer_tourne.png' width='60%'><center><br><i>Image tournée de 90 degrés</i></center></td>\n",
    "    </tr>\n",
    "</table>\n",
    "\n",
    "On téléchargera l'image `homer.png` [ici](https://ntoulzac.github.io/Cours-NSI-Terminale/diviser/images/homer.png) et on la placera dans le même répertoire que ce carnet Jupyter."
   ]
  },
  {
   "cell_type": "markdown",
   "metadata": {},
   "source": [
    "On utilisera le module `PIL`, qui peut être installé en exécutant la cellule suivante."
   ]
  },
  {
   "cell_type": "code",
   "execution_count": null,
   "metadata": {},
   "outputs": [],
   "source": [
    "import sys\n",
    "!{sys.executable} -m pip install Pillow"
   ]
  },
  {
   "cell_type": "markdown",
   "metadata": {},
   "source": [
    "On importe d'abord la classe `Image` depuis le module `PIL` :"
   ]
  },
  {
   "cell_type": "code",
   "execution_count": 11,
   "metadata": {},
   "outputs": [],
   "source": [
    "from PIL import Image"
   ]
  },
  {
   "cell_type": "markdown",
   "metadata": {},
   "source": [
    "On ouvre un fichier image et on affiche les dimensions de l'image :"
   ]
  },
  {
   "cell_type": "code",
   "execution_count": 12,
   "metadata": {},
   "outputs": [
    {
     "name": "stdout",
     "output_type": "stream",
     "text": [
      "512 512\n"
     ]
    }
   ],
   "source": [
    "img = Image.open('homer.png')\n",
    "largeur, hauteur = img.size\n",
    "print(largeur, hauteur)"
   ]
  },
  {
   "cell_type": "markdown",
   "metadata": {},
   "source": [
    "On charge les couleurs des pixels de l'image dans une variable `pix` :"
   ]
  },
  {
   "cell_type": "code",
   "execution_count": 13,
   "metadata": {},
   "outputs": [],
   "source": [
    "pix = img.load()"
   ]
  },
  {
   "cell_type": "markdown",
   "metadata": {},
   "source": [
    "La couleur du pixel situé sur la `x`e ligne et la `y`e colonne est accessible via la syntaxe `pix[x, y]` :"
   ]
  },
  {
   "cell_type": "code",
   "execution_count": 14,
   "metadata": {},
   "outputs": [
    {
     "name": "stdout",
     "output_type": "stream",
     "text": [
      "(248, 209, 50, 255)\n"
     ]
    }
   ],
   "source": [
    "print(pix[largeur//2, hauteur//2]) # Pixel situé au centre de l'image"
   ]
  },
  {
   "cell_type": "markdown",
   "metadata": {},
   "source": [
    "<div class = 'rq'>\n",
    "La couleur de chaque pixel est ici décrite suivant quatre composantes comprises entre 0 et 255 : les trois premières pour le rouge, le vert et le bleu, et la quatrième pour l'opacité. On parle de format de couleur <b>RGBA</b> (red, green, bleu, alpha).\n",
    "</div>"
   ]
  },
  {
   "cell_type": "markdown",
   "metadata": {},
   "source": [
    "**(8)** Écrire une procédure récursive `rotation` faisant tourner l'image de 90 degrés vers la gauche. Ses paramètres d'entrée seront :\n",
    "- `pix`, une variable contenant les couleurs de pixels de l'image,\n",
    "- `coin_x` et `coin_y`, deux entiers correspondant aux coordonnées du coin inférieur gauche de la partie d'image à tourner,\n",
    "- `taille`, un entier correspondant à la taille de l'image à tourner."
   ]
  },
  {
   "cell_type": "markdown",
   "metadata": {},
   "source": [
    "<div class = 'rq'>\n",
    "    <table><tr>\n",
    "        <td><img src='https://ntoulzac.github.io/Cours-NSI-Terminale/diviser/images/homer.png' width='80%'></td>\n",
    "                <td><img src='https://ntoulzac.github.io/Cours-NSI-Terminale/diviser/images/homer_intermediaire.png' width='80%'></td>\n",
    "                <td><img src='https://ntoulzac.github.io/Cours-NSI-Terminale/diviser/images/homer_tourne.png' width='80%'></td>\n",
    "        </tr></table>\n",
    "    <ul>\n",
    "        <li>Dans un premier temps, on découpe l'image carrée en quatre morceaux carrés et on effectue récursivement la rotation de chaque morceau.</li>\n",
    "        <li>Dans un second temps, on déplace chaque morceau (pixel par pixel, itérativement) pour reconstituer l'image complète.</li>\n",
    "    </ul>\n",
    "</div>"
   ]
  },
  {
   "cell_type": "code",
   "execution_count": 15,
   "metadata": {},
   "outputs": [],
   "source": [
    "def rotation(pix, coin_x, coin_y, t):\n",
    "    if t >= 2:\n",
    "        n_t = t // 2\n",
    "        rotation(pix, coin_x, coin_y, n_t)\n",
    "        rotation(pix, coin_x + n_t, coin_y, n_t)\n",
    "        rotation(pix, coin_x, coin_y + n_t, n_t)\n",
    "        rotation(pix, coin_x + n_t, coin_y + n_t, n_t)\n",
    "        for x in range(coin_x, coin_x + n_t):\n",
    "            for y in range(coin_y, coin_y + n_t):\n",
    "                pix[x, y], pix[x+n_t, y], pix[x+n_t, y+n_t], pix[x, y+n_t] = pix[x+n_t, y], pix[x+n_t, y+n_t], pix[x, y+n_t], pix[x, y]"
   ]
  },
  {
   "cell_type": "markdown",
   "metadata": {},
   "source": [
    "**(9)** Tester la procédure `rotation` en exécutant la cellule suivante. La seconde ligne permet d'enregistrer l'image tournée dans un nouveau fichier."
   ]
  },
  {
   "cell_type": "code",
   "execution_count": 16,
   "metadata": {},
   "outputs": [],
   "source": [
    "rotation(pix, 0, 0, 512)\n",
    "img.save('homer2.png')"
   ]
  }
 ],
 "metadata": {
  "celltoolbar": "Format de la Cellule Texte Brut",
  "kernelspec": {
   "display_name": "Python 3",
   "language": "python",
   "name": "python3"
  },
  "language_info": {
   "codemirror_mode": {
    "name": "ipython",
    "version": 3
   },
   "file_extension": ".py",
   "mimetype": "text/x-python",
   "name": "python",
   "nbconvert_exporter": "python",
   "pygments_lexer": "ipython3",
   "version": "3.8.8"
  }
 },
 "nbformat": 4,
 "nbformat_minor": 2
}
