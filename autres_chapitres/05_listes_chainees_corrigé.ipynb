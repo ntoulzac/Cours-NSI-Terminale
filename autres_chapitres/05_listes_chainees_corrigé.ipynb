{
 "cells": [
  {
   "cell_type": "markdown",
   "metadata": {},
   "source": [
    "# Chapitre 5 : Listes chaînées"
   ]
  },
  {
   "cell_type": "markdown",
   "metadata": {},
   "source": [
    "***Structure, implémentation et utilisation de listes chaînées***"
   ]
  },
  {
   "cell_type": "markdown",
   "metadata": {},
   "source": [
    "### Notion de liste chaînée"
   ]
  },
  {
   "cell_type": "markdown",
   "metadata": {},
   "source": [
    "Une **liste (simplement) chaînée** est une structure de données représentant un ensemble ordonné d'éléments qui sont stockés en mémoire sous la forme de maillons (ou de cellules).\n",
    "\n",
    "Si une liste chaînée est vide, son unique maillon est remplacé par `None`. Sinon son maillon contient :\n",
    "- une **valeur** appelée la **tête** de la liste,\n",
    "- un **pointeur** vers une **liste chaînée** (éventuellement vide) appelée la **queue** de la liste.\n",
    "\n",
    "On donne ci-dessous une représentation schématique d'une liste chaînée `L` :"
   ]
  },
  {
   "cell_type": "markdown",
   "metadata": {},
   "source": [
    "<img src='https://ntoulzac.github.io/Cours-NSI-Terminale/listes/images/liste1.png' width='90%'>"
   ]
  },
  {
   "cell_type": "markdown",
   "metadata": {},
   "source": [
    "### Implémentation avec deux classes `Maillon` et `Liste`"
   ]
  },
  {
   "cell_type": "markdown",
   "metadata": {},
   "source": [
    "On donne une implémentation des listes chaînées à partir de deux classes `Maillon` et `Liste` :"
   ]
  },
  {
   "cell_type": "code",
   "execution_count": null,
   "metadata": {},
   "outputs": [],
   "source": [
    "class Maillon:\n",
    "    def __init__(self, tete, queue):\n",
    "        \"\"\"\n",
    "        Crée une instance de la classe Maillon.\n",
    "        - Entrées : tete (type quelconque), queue (instance de la classe Liste)\n",
    "        \"\"\"\n",
    "        self.tete = tete\n",
    "        self.queue = queue"
   ]
  },
  {
   "cell_type": "code",
   "execution_count": null,
   "metadata": {},
   "outputs": [],
   "source": [
    "class Liste:\n",
    "    def __init__(self, maillon):\n",
    "        \"\"\"\n",
    "        Crée une instance de la classe Liste.\n",
    "        - Entrée : maillon (instance de la classe Maillon, ou None pour créer une liste vide)\n",
    "        \"\"\"\n",
    "        self.maillon = maillon\n",
    "\n",
    "    def est_vide(self):\n",
    "        \"\"\"\n",
    "        Détermine si la liste est vide.\n",
    "        - Sortie : (booléen, True si la liste est vide, False sinon)\n",
    "        \"\"\"\n",
    "        return self.maillon is None\n",
    "\n",
    "    def tete(self):\n",
    "        \"\"\"\n",
    "        Renvoie la première valeur de la liste.\n",
    "        - Sortie : None si la liste est vide, sinon la valeur située à l'indice 0 dans la liste\n",
    "        \"\"\"\n",
    "        if self.est_vide():\n",
    "            return None\n",
    "        else:\n",
    "            return self.maillon.tete\n",
    "\n",
    "    def queue(self):\n",
    "        \"\"\"\n",
    "        Renvoie la queue de la liste, c'est-à-dire la liste privée de son premier maillon.\n",
    "        - Sortie : (instance de la classe Liste)\n",
    "        \"\"\"\n",
    "        if self.est_vide():\n",
    "            raise ValueError(\"la liste est vide\")\n",
    "        else:\n",
    "            return self.maillon.queue\n",
    "\n",
    "    def nb_elements(self):\n",
    "        \"\"\"\n",
    "        Compte le nombre d'éléments de la liste.\n",
    "        - Sortie : (entier, nombre de valeurs présentes dans la liste)\n",
    "        \"\"\"\n",
    "        if self.est_vide():\n",
    "            return 0\n",
    "        else:\n",
    "            liste = self.queue()\n",
    "            return 1 + liste.nb_elements()\n",
    "\n",
    "    def inserer_en_tete(self, elem):\n",
    "        \"\"\"\n",
    "        Insère un maillon en début de liste.\n",
    "        - Entrée : elem (type quelconque)\n",
    "        \"\"\"\n",
    "        self.maillon = Maillon(elem, Liste(self.maillon))\n",
    "\n",
    "    def supprimer_en_tete(self):\n",
    "        \"\"\"\n",
    "        Supprime un maillon en début de liste.\n",
    "        \"\"\"\n",
    "        if self.est_vide():\n",
    "            raise ValueError(\"la liste est vide\")\n",
    "        else:\n",
    "            self.maillon = self.queue().maillon\n",
    "\n",
    "    def __str__(self):\n",
    "        \"\"\"\n",
    "        Permet l'affichage des éléments de la liste via un appel à la fonction print.\n",
    "        \"\"\"\n",
    "        chaine = \"\"\n",
    "        liste = self\n",
    "        for k in range(self.nb_elements()):\n",
    "            chaine = chaine + f\"{liste.tete()}  \"\n",
    "            liste = liste.queue()\n",
    "        return chaine\n",
    "\n",
    "    def inserer(self, elem, pos):\n",
    "        \"\"\"\n",
    "        Insère un maillon dans la liste en position pos.\n",
    "        - Entrée : elem (type quelconque), pos (entier)\n",
    "        \"\"\"\n",
    "        if pos > self.nb_elements():\n",
    "            raise IndexError(\"la liste ne contient pas assez d'éléments\")\n",
    "        liste = self\n",
    "        for _ in range(pos):\n",
    "             liste = liste.queue()\n",
    "        liste.inserer_en_tete(elem)\n",
    "\n",
    "    def supprimer(self, pos):\n",
    "        \"\"\"\n",
    "        Supprime un maillon dans la liste en position pos.\n",
    "        - Entrée : pos (entier)\n",
    "        \"\"\"\n",
    "        if pos >= self.nb_elements():\n",
    "            raise IndexError(\"la liste ne contient pas assez d'éléments\")\n",
    "        liste = self\n",
    "        for _ in range(pos):\n",
    "            liste = liste.queue()\n",
    "        liste.supprimer_en_tete()\n",
    "\n",
    "    def __getitem__(self, pos):\n",
    "        \"\"\"\n",
    "        Renvoie la valeur du maillon en position pos.\n",
    "        - Entrée : pos (entier)\n",
    "        \"\"\"\n",
    "        if pos >= self.nb_elements():\n",
    "            raise IndexError(\"la liste ne contient pas assez d'éléments\")\n",
    "        liste = self\n",
    "        for _ in range(pos):\n",
    "            liste = liste.queue()\n",
    "        return liste.tete()"
   ]
  },
  {
   "cell_type": "markdown",
   "metadata": {},
   "source": [
    "**(1)** Ecrire la spécification de chacune des méthodes définies ci-dessus."
   ]
  },
  {
   "cell_type": "markdown",
   "metadata": {},
   "source": [
    "**(2)** Définir une variable `nil` contenant une liste vide."
   ]
  },
  {
   "cell_type": "code",
   "execution_count": null,
   "metadata": {},
   "outputs": [],
   "source": [
    "nil = Liste(None)"
   ]
  },
  {
   "cell_type": "code",
   "execution_count": null,
   "metadata": {},
   "outputs": [],
   "source": [
    "nil.est_vide()"
   ]
  },
  {
   "cell_type": "markdown",
   "metadata": {},
   "source": [
    "**(3)** Représenter schématiquement la liste `L1` définie dans la cellule suivante."
   ]
  },
  {
   "cell_type": "code",
   "execution_count": null,
   "metadata": {},
   "outputs": [],
   "source": [
    "L1 = Liste(Maillon(3, Liste(Maillon(5, Liste(Maillon(6, Liste(None)))))))"
   ]
  },
  {
   "cell_type": "markdown",
   "metadata": {},
   "source": [
    "<div class='rq'><img src='https://ntoulzac.github.io/Cours-NSI-Terminale/listes/images/liste2.png' width='60%'></div>"
   ]
  },
  {
   "cell_type": "markdown",
   "metadata": {},
   "source": [
    "**(4)** Représenter schématiquement la liste `L2` définie dans la cellule suivante."
   ]
  },
  {
   "cell_type": "code",
   "execution_count": null,
   "metadata": {},
   "outputs": [],
   "source": [
    "L2 = Liste(None)\n",
    "L2.inserer_en_tete(1)\n",
    "L2.inserer_en_tete(2)\n",
    "L2.inserer_en_tete(3)"
   ]
  },
  {
   "cell_type": "markdown",
   "metadata": {},
   "source": [
    "<div class='rq'><img src='https://ntoulzac.github.io/Cours-NSI-Terminale/listes/images/liste3.png' width='60%'></div>"
   ]
  },
  {
   "cell_type": "markdown",
   "metadata": {},
   "source": [
    "### Insertion et suppression d'un élément\n",
    "\n",
    "**(5)** Compléter la définition de la classe `Liste` en y ajoutant les méthodes :\n",
    "- `inserer` qui prend en paramètres d'entrée une valeur `elem` et un entier `pos` et qui insère dans la liste la valeur `elem` à la position `pos`. On rappelle que la position du premier élément de la liste est 0.\n",
    "- `supprimer` qui prend en paramètres d'entrée un entier `pos` et qui supprime de la liste la valeur située à la position `pos`."
   ]
  },
  {
   "cell_type": "markdown",
   "metadata": {},
   "source": [
    "<div class='rq'>La cellule suivante permet de tester les méthodes <code>inserer</code> et <code>supprimer</code>.</div>"
   ]
  },
  {
   "cell_type": "code",
   "execution_count": null,
   "metadata": {},
   "outputs": [],
   "source": [
    "L = Liste(None)\n",
    "for k in range(5, 0, -1):\n",
    "    L.inserer_en_tete(k)\n",
    "print(\"Liste initiale ........................\", L)\n",
    "L.inserer(0, 0)\n",
    "print(\"Après insertion de 0 en position 0 ....\", L)\n",
    "L.inserer(6, 3)\n",
    "print(\"Après insertion de 6 en position 3 ....\", L)\n",
    "L.inserer(6, 7)\n",
    "print(\"Après insertion de 6 en position 7 ....\", L)\n",
    "L.supprimer(3)\n",
    "print(\"Après suppression de 6 en position 3 ..\", L)\n",
    "L.supprimer(6)\n",
    "print(\"Après suppression de 6 en position 6 ..\", L)"
   ]
  },
  {
   "cell_type": "markdown",
   "metadata": {},
   "source": [
    "**(6)** Recopier et compléter la définition de la classe `Liste` en y ajoutant la méthode `__getitem__` qui prend en paramètre d'entrée un entier `pos` et qui renvoie la valeur située à la position `pos`."
   ]
  },
  {
   "cell_type": "markdown",
   "metadata": {},
   "source": [
    "<div class='rq'>La cellule suivante permet de tester la méthode <code>__getitem__</code>. La notation <code>L[pos]</code> est un raccourci pour <code>L.__getitem__(pos)</code>.</div>"
   ]
  },
  {
   "cell_type": "code",
   "execution_count": null,
   "metadata": {},
   "outputs": [],
   "source": [
    "from random import randint\n",
    "L = Liste(None)\n",
    "for _ in range(11):\n",
    "    L.inserer_en_tete(randint(0, 100))\n",
    "print(\"Liste ..................\", L)\n",
    "print(\"Valeur en position 0 ...\", L[0])  # la notation L[0] est un raccourci pour L.__getitem__(0)\n",
    "print(\"Valeur en position 5 ...\", L[5])\n",
    "print(\"Valeur en position 10 ..\", L[10])"
   ]
  },
  {
   "cell_type": "markdown",
   "metadata": {},
   "source": [
    "### Concaténation\n",
    "\n",
    "**(7)** Définir une fonction récursive `concatener` qui prend en paramètres d'entrée deux instances `liste1` et `liste2` de la classe `Liste` et qui renvoie la liste obtenue en concaténant `liste2` à la fin de `liste1`. Les deux listes passées en argument ne doivent pas être modifiées lors de l'exécution de la fonction."
   ]
  },
  {
   "cell_type": "code",
   "execution_count": null,
   "metadata": {},
   "outputs": [],
   "source": [
    "def concatener(liste1, liste2):\n",
    "    \"\"\"\n",
    "    Concatène deux listes, sans les modifier.\n",
    "    - Entrées : liste1, liste2 (instances de la classe Liste)\n",
    "    - Sortie : (instance de la classe Liste)\n",
    "    \"\"\"\n",
    "    if liste1.est_vide():\n",
    "        return liste2\n",
    "    else:\n",
    "        return Liste(Maillon(liste1.tete(), concatener(liste1.queue(), liste2)))"
   ]
  },
  {
   "cell_type": "code",
   "execution_count": null,
   "metadata": {},
   "outputs": [],
   "source": [
    "L1 = Liste(None)\n",
    "for _ in range(randint(1, 10)):\n",
    "    L1.inserer_en_tete(randint(0, 100))\n",
    "L2 = Liste(None)    \n",
    "for _ in range(randint(1, 10)):\n",
    "    L2.inserer_en_tete(randint(0, 100))\n",
    "print(\"Liste 1 ........\", L1)\n",
    "print(\"Liste 2 ........\", L2)\n",
    "print(\"Concaténation ..\", concatener(L1, L2))\n",
    "print(\"Liste 1 ........\", L1)\n",
    "print(\"Liste 2 ........\", L2)"
   ]
  },
  {
   "cell_type": "markdown",
   "metadata": {},
   "source": [
    "## Exercices"
   ]
  },
  {
   "cell_type": "markdown",
   "metadata": {},
   "source": [
    "### Exercice 1"
   ]
  },
  {
   "cell_type": "markdown",
   "metadata": {},
   "source": [
    "Définir une fonction `listeN` qui prend en paramètre d'entrée un entier `n` positif et qui renvoie une instance de la classe `Liste` contenant les entiers compris de 1 à `n` rangés dans l'ordre croissant. Si `n` est nul, la liste renvoyée est vide."
   ]
  },
  {
   "cell_type": "code",
   "execution_count": null,
   "metadata": {},
   "outputs": [],
   "source": [
    "def listeN(n):\n",
    "    \"\"\"\n",
    "    Crée une liste contenant les entiers compris entre 1 et n.\n",
    "    - Entrée : n (entier)\n",
    "    - Sortie : L (instance de la classe Liste)\n",
    "    \"\"\"\n",
    "    L = Liste(None)\n",
    "    for k in range(n, 0, -1):\n",
    "        L.inserer_en_tete(k)\n",
    "    return L"
   ]
  },
  {
   "cell_type": "code",
   "execution_count": null,
   "metadata": {},
   "outputs": [],
   "source": [
    "print(\"Pour n = 0  :\", listeN(0))\n",
    "print(\"Pour n = 5  :\", listeN(5))\n",
    "print(\"Pour n = 20 :\", listeN(20))"
   ]
  },
  {
   "cell_type": "markdown",
   "metadata": {},
   "source": [
    "### Exercice 2"
   ]
  },
  {
   "cell_type": "markdown",
   "metadata": {},
   "source": [
    "**(1)** Définir une fonction `occurrences` qui prend en paramètres d'entrée une valeur `val` et une instance `L` de la classe `Liste` et qui renvoie le nombre d'occurrences de la valeur `val` dans `L`."
   ]
  },
  {
   "cell_type": "code",
   "execution_count": null,
   "metadata": {},
   "outputs": [],
   "source": [
    "def occurrences(val, L):\n",
    "    \"\"\"\n",
    "    Compte le nombre d'occurrences d'une valeur dans une liste.\n",
    "    - Entrées : val (type quelconque), L (instance de la classe Liste)\n",
    "    - Sortie : cpt (entier)\n",
    "    \"\"\"\n",
    "    # Implémentation itérative\n",
    "    cpt = 0\n",
    "    liste = L\n",
    "    while not liste.est_vide():\n",
    "        if liste.tete() == val:\n",
    "            cpt = cpt + 1\n",
    "        liste = liste.queue()\n",
    "    return cpt"
   ]
  },
  {
   "cell_type": "code",
   "execution_count": null,
   "metadata": {},
   "outputs": [],
   "source": [
    "def occurrences(val, L):\n",
    "    \"\"\"\n",
    "    Compte le nombre d'occurrences d'une valeur dans une liste.\n",
    "    - Entrées : val (type quelconque), L (instance de la classe Liste)\n",
    "    - Sortie : cpt (entier)\n",
    "    \"\"\"\n",
    "    # Implémentation récursive\n",
    "    if L.est_vide():\n",
    "        return 0\n",
    "    elif L.tete() == val:\n",
    "        return 1 + occurrences(val, L.queue())\n",
    "    else:\n",
    "        return occurrences(val, L.queue())"
   ]
  },
  {
   "cell_type": "code",
   "execution_count": null,
   "metadata": {},
   "outputs": [],
   "source": [
    "L = Liste(None)\n",
    "for k in range(15):\n",
    "    L.inserer_en_tete(k//3)\n",
    "print(\"Liste ......................\", L)\n",
    "print(\"Nombre d'occurrences de 2 ..\", occurrences(2, L))\n",
    "print(\"Nombre d'occurrences de 5 ..\", occurrences(5, L))"
   ]
  },
  {
   "cell_type": "markdown",
   "metadata": {},
   "source": [
    "**(2)** Définir une fonction `indice` qui prend en paramètres d'entrée une valeur `val` et une instance `L` de la classe `Liste` et qui renvoie l'indice de la première occurrence de la valeur `val` dans `L`, ou `None` si `L` ne contient pas `val`."
   ]
  },
  {
   "cell_type": "code",
   "execution_count": null,
   "metadata": {},
   "outputs": [],
   "source": [
    "def indice(val, L):\n",
    "    \"\"\"\n",
    "    Renvoie l'indice de la première occurrence d'une valeur dans une liste.\n",
    "    - Entrées : val (type quelconque), L (instance de la classe Liste)\n",
    "    - Sortie : (entier positif si la valeur est présente, None sinon)\n",
    "    \"\"\"\n",
    "    # Implémentation itérative\n",
    "    i = 0\n",
    "    liste = L\n",
    "    while not liste.est_vide():\n",
    "        if liste.tete() == val:\n",
    "            return i\n",
    "        liste = liste.queue()\n",
    "        i = i + 1\n",
    "    return None"
   ]
  },
  {
   "cell_type": "code",
   "execution_count": null,
   "metadata": {},
   "outputs": [],
   "source": [
    "def indice(val, L):\n",
    "    \"\"\"\n",
    "    Renvoie l'indice de la première occurrence d'une valeur dans une liste.\n",
    "    - Entrées : val (type quelconque), L (instance de la classe Liste)\n",
    "    - Sortie : (entier positif si la valeur est présente, None sinon)\n",
    "    \"\"\"\n",
    "    # Implémentation récursive\n",
    "    if L.est_vide():\n",
    "        return None\n",
    "    elif L.tete() == val:\n",
    "        return 0\n",
    "    else:\n",
    "        indice_dans_la_queue_de_L = indice(val, L.queue())\n",
    "        if indice_dans_la_queue_de_L is None:\n",
    "            return None\n",
    "        else:\n",
    "            return 1 + indice_dans_la_queue_de_L"
   ]
  },
  {
   "cell_type": "code",
   "execution_count": null,
   "metadata": {},
   "outputs": [],
   "source": [
    "L = Liste(None)\n",
    "for k in range(15):\n",
    "    L.inserer_en_tete(k//3)\n",
    "print(\"Liste ..............................\", L)\n",
    "print(\"Position première occurrence de 2 ..\", indice(2, L))\n",
    "print(\"Position première occurrence de 5 ..\", indice(5, L))"
   ]
  },
  {
   "cell_type": "markdown",
   "metadata": {},
   "source": [
    "### Exercice 3"
   ]
  },
  {
   "cell_type": "markdown",
   "metadata": {},
   "source": [
    "Définir une fonction `sont_indentiques` qui prend en paramètres d'entrée deux instances `L1` et `L2` de la classe `Liste` et qui renvoie `True` si les deux listes contiennent exactement les mêmes éléments dans le même ordre, et `False` sinon."
   ]
  },
  {
   "cell_type": "code",
   "execution_count": null,
   "metadata": {},
   "outputs": [],
   "source": [
    "def sont_identiques(L1, L2):\n",
    "    \"\"\"\n",
    "    Détermine si deux listes sont identiques.\n",
    "    - Entrées : L1, L2 (instances de la classe Liste)\n",
    "    - Sortie : (booléen, True si les deux listes sont identiques, False sinon)\n",
    "    \"\"\"\n",
    "    # Implémentation itérative\n",
    "    liste1 = L1\n",
    "    liste2 = L2\n",
    "    while not liste1.est_vide() and not liste2.est_vide():\n",
    "        if liste1.tete() != liste2.tete():\n",
    "            return False\n",
    "        liste1 = liste1.queue()\n",
    "        liste2 = liste2.queue()\n",
    "    return liste1.est_vide() and liste2.est_vide()"
   ]
  },
  {
   "cell_type": "code",
   "execution_count": null,
   "metadata": {},
   "outputs": [],
   "source": [
    "def sont_identiques(L1, L2):\n",
    "    \"\"\"\n",
    "    Détermine si deux listes sont identiques.\n",
    "    - Entrées : L1, L2 (instances de la classe Liste)\n",
    "    - Sortie : (booléen, True si les deux listes sont identiques, False sinon)\n",
    "    \"\"\"\n",
    "    # Implémentation récursive\n",
    "    if L1.est_vide():\n",
    "        return L2.est_vide()\n",
    "    elif L2.est_vide():\n",
    "        return L1.est_vide()\n",
    "    elif L1.tete() != L2.tete():\n",
    "        return False\n",
    "    else:\n",
    "        return sont_identiques(L1.queue(), L2.queue())"
   ]
  },
  {
   "cell_type": "code",
   "execution_count": null,
   "metadata": {},
   "outputs": [],
   "source": [
    "L1 = Liste(None)\n",
    "for k in range(1, 4):\n",
    "    L1.inserer_en_tete(k)\n",
    "print(\"Liste 1 ....\", L1)\n",
    "L2 = Liste(None)    \n",
    "for k in range(4):\n",
    "    L2.inserer_en_tete(k)\n",
    "print(\"Liste 2 ....\", L2)\n",
    "print(\"Identiques ?\", sont_identiques(L1, L2))"
   ]
  },
  {
   "cell_type": "code",
   "execution_count": null,
   "metadata": {},
   "outputs": [],
   "source": [
    "L1 = Liste(None)\n",
    "for _ in range(3):\n",
    "    L1.inserer_en_tete(randint(0, 1))\n",
    "print(\"Liste 1 ....\", L1)\n",
    "L2 = Liste(None)    \n",
    "for _ in range(3):\n",
    "    L2.inserer_en_tete(randint(0, 1))\n",
    "print(\"Liste 2 ....\", L2)\n",
    "print(\"Identiques ?\", sont_identiques(L1, L2))"
   ]
  },
  {
   "cell_type": "markdown",
   "metadata": {},
   "source": [
    "### Exercice 4"
   ]
  },
  {
   "cell_type": "markdown",
   "metadata": {},
   "source": [
    "Définir une fonction `tableau_vers_liste` qui prend en paramètre d'entrée un tableau `Tab` et qui renvoie une instance de la classe `Liste` contenant les mêmes éléments que `Tab` et dans le même ordre."
   ]
  },
  {
   "cell_type": "code",
   "execution_count": null,
   "metadata": {},
   "outputs": [],
   "source": [
    "def tableau_vers_liste(Tab):\n",
    "    \"\"\"\n",
    "    Crée une liste contenant les mêmes éléments qu'un tableau donné.\n",
    "    - Entrée : Tab (tableau)\n",
    "    - Sortie : L (instance de la classe Liste)\n",
    "    \"\"\"\n",
    "    L = Liste(None)\n",
    "    for k in range(len(Tab)-1, -1, -1):\n",
    "        L.inserer_en_tete(Tab[k])\n",
    "    return L"
   ]
  },
  {
   "cell_type": "code",
   "execution_count": null,
   "metadata": {},
   "outputs": [],
   "source": [
    "T = [randint(0, 100) for _ in range(20)]\n",
    "print(T)\n",
    "L = tableau_vers_liste(T)\n",
    "print(L)"
   ]
  },
  {
   "cell_type": "markdown",
   "metadata": {},
   "source": [
    "### Exercice 5"
   ]
  },
  {
   "cell_type": "markdown",
   "metadata": {},
   "source": [
    "**(1)** Définir une fonction `inserer_a_sa_place` qui prend en paramètres d'entrée un nombre `x` et une instance `L` de la classe `Liste` (dont les éléments sont supposés rangés dans l'ordre croissant) et qui renvoie une nouvelle instance de la classe `Liste` dans laquelle `x` a été inseré de sorte que la nouvelle liste soit triée."
   ]
  },
  {
   "cell_type": "code",
   "execution_count": null,
   "metadata": {},
   "outputs": [],
   "source": [
    "def inserer_a_sa_place(x, L):\n",
    "    \"\"\"\n",
    "    Insère un élément dans une liste de nombres triée de sorte que la liste reste triée.\n",
    "    - Entrées : x (nombre), L (instance de la classe Liste dont les éléments sont dans l'ordre croissant)\n",
    "    - Sortie : (instance de la classe Liste dont les éléménts sont dans l'ordre croissant)\n",
    "    \"\"\"\n",
    "    if L.est_vide() or x < L.tete():\n",
    "        return Liste(Maillon(x, L))\n",
    "    else:\n",
    "        return Liste(Maillon(L.tete(), inserer_a_sa_place(x, L.queue())))"
   ]
  },
  {
   "cell_type": "code",
   "execution_count": null,
   "metadata": {},
   "outputs": [],
   "source": [
    "L1 = tableau_vers_liste([2, 5, 9, 10])\n",
    "L2 = inserer_a_sa_place(6, L1)\n",
    "print(L1)\n",
    "print(L2)\n",
    "L3 = inserer_a_sa_place(12, L2)\n",
    "print(L2)\n",
    "print(L3)"
   ]
  },
  {
   "cell_type": "markdown",
   "metadata": {},
   "source": [
    "**(2)** Définir une fonction `tri_par_insertion` qui prend en paramètre d'entrée une instance `L` de la classe `Liste` et qui renvoie une nouvelle instance de la classe `Liste` triée via l'algorithme du tri par insertion."
   ]
  },
  {
   "cell_type": "code",
   "execution_count": null,
   "metadata": {},
   "outputs": [],
   "source": [
    "def tri_par_insertion(L):\n",
    "    \"\"\"\n",
    "    Trie une liste via l'algorithme du tri par insertion.\n",
    "    - Entrée : L (instance de la classe Liste)\n",
    "    - Sortie : (instance de la classe Liste)\n",
    "    \"\"\"\n",
    "    if L.nb_elements() <= 1:\n",
    "        return L\n",
    "    else:\n",
    "        return inserer_a_sa_place(L.tete(), tri_par_insertion(L.queue()))"
   ]
  },
  {
   "cell_type": "code",
   "execution_count": null,
   "metadata": {},
   "outputs": [],
   "source": [
    "from random import randint\n",
    "L1 = Liste(None)\n",
    "for _ in range(randint(1, 50)):\n",
    "    L1.inserer_en_tete(randint(0, 100))\n",
    "print(L1)\n",
    "L2 = tri_par_insertion(L1)\n",
    "print(L1)\n",
    "print(L2)"
   ]
  }
 ],
 "metadata": {
  "kernelspec": {
   "display_name": "Python 3 (ipykernel)",
   "language": "python",
   "name": "python3"
  },
  "language_info": {
   "codemirror_mode": {
    "name": "ipython",
    "version": 3
   },
   "file_extension": ".py",
   "mimetype": "text/x-python",
   "name": "python",
   "nbconvert_exporter": "python",
   "pygments_lexer": "ipython3",
   "version": "3.9.12"
  }
 },
 "nbformat": 4,
 "nbformat_minor": 4
}
