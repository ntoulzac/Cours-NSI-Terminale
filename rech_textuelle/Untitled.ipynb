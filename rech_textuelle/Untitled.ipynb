{
 "cells": [
  {
   "cell_type": "markdown",
   "id": "2038ba95",
   "metadata": {},
   "source": [
    "## Recherche d'un motif"
   ]
  },
  {
   "cell_type": "code",
   "execution_count": 91,
   "id": "2a2dc925",
   "metadata": {},
   "outputs": [],
   "source": [
    "## Recherche naïve\n",
    "\n",
    "def correspond(texte, k, motif):\n",
    "    n = len(motif)\n",
    "    for i in range(n):\n",
    "        if texte[k+i] != motif[i]:\n",
    "            return False\n",
    "    return True\n",
    "\n",
    "def recherche_algo_naif(texte, motif):\n",
    "    n = len(motif)\n",
    "    for k in range(len(texte)-n+1):\n",
    "        if correspond(texte, k, motif):\n",
    "            return k\n",
    "    return -1"
   ]
  },
  {
   "cell_type": "code",
   "execution_count": 92,
   "id": "aad6066f",
   "metadata": {},
   "outputs": [
    {
     "data": {
      "text/plain": [
       "24"
      ]
     },
     "execution_count": 92,
     "metadata": {},
     "output_type": "execute_result"
    }
   ],
   "source": [
    "recherche_algo_naif(\"ABCDABCDEABCDEABCDEACDEFABCDEFABCDE\", \"ABCDEF\")"
   ]
  },
  {
   "cell_type": "code",
   "execution_count": 112,
   "id": "905433ab",
   "metadata": {},
   "outputs": [],
   "source": [
    "## Algo de Boyer-Moore\n",
    "\n",
    "def pretraitement(motif):\n",
    "    dico = {}\n",
    "    for k in range(len(motif)-1):\n",
    "        dico[motif[k]] = len(motif) - 1 - k\n",
    "    return dico\n",
    "\n",
    "def correspond_renv(texte, k, motif):\n",
    "    n = len(motif)\n",
    "    for i in range(n-1, -1, -1):\n",
    "        if texte[k-n+1+i] != motif[i]:\n",
    "            return False\n",
    "    return True\n",
    "\n",
    "def boyer_moore_horspool(texte, motif):\n",
    "    dico = pretraitement(motif)\n",
    "    i = len(motif) - 1\n",
    "    while i < len(texte):\n",
    "        if correspond_renv(texte, i, motif):\n",
    "            return i - len(motif) + 1\n",
    "        if texte[i] in dico:\n",
    "            i = i + dico[texte[i]]\n",
    "        else:\n",
    "            i = i + len(motif)\n",
    "    return -1"
   ]
  },
  {
   "cell_type": "code",
   "execution_count": 113,
   "id": "6a1e6f4b",
   "metadata": {},
   "outputs": [
    {
     "data": {
      "text/plain": [
       "24"
      ]
     },
     "execution_count": 113,
     "metadata": {},
     "output_type": "execute_result"
    }
   ],
   "source": [
    "boyer_moore_horspool(\"ABCDABCDEABCDEABCDEACDEFABCDEFABCDE\", \"ABCDEF\")"
   ]
  },
  {
   "cell_type": "code",
   "execution_count": 114,
   "id": "9e3db0c5",
   "metadata": {},
   "outputs": [
    {
     "name": "stdout",
     "output_type": "stream",
     "text": [
      "6000000\n",
      "4.990467548370361\n",
      "6000000\n",
      "5.555917263031006\n"
     ]
    }
   ],
   "source": [
    "from time import time\n",
    "\n",
    "tps_debut = time()\n",
    "print(recherche_algo_naif(\"ABCDEF\"*1000000 + \".ABCDEFABCDEF\", \".ABCDEFABCDEF\"))\n",
    "tps_fin = time()\n",
    "print(tps_fin - tps_debut)\n",
    "\n",
    "tps_debut = time()\n",
    "print(boyer_moore_horspool(\"ABCDEF\"*1000000 + \".ABCDEFABCDEF\", \".ABCDEFABCDEF\"))\n",
    "tps_fin = time()\n",
    "print(tps_fin - tps_debut)"
   ]
  },
  {
   "cell_type": "code",
   "execution_count": 119,
   "id": "69f77aa0",
   "metadata": {},
   "outputs": [
    {
     "name": "stdout",
     "output_type": "stream",
     "text": [
      "2802443\n",
      "2.3848018646240234\n"
     ]
    }
   ],
   "source": [
    "motif = \"Au poste de la place du Châtelet.\"\n",
    "with open(\"les_miserables.txt\", \"r\", encoding=\"utf-8\") as fichier:\n",
    "    texte = fichier.read()\n",
    "\n",
    "tps_debut = time()\n",
    "print(recherche_algo_naif(texte, motif))\n",
    "tps_fin = time()\n",
    "print(tps_fin - tps_debut)"
   ]
  },
  {
   "cell_type": "code",
   "execution_count": 120,
   "id": "409cf18f",
   "metadata": {},
   "outputs": [
    {
     "name": "stdout",
     "output_type": "stream",
     "text": [
      "2802443\n",
      "0.22008538246154785\n"
     ]
    }
   ],
   "source": [
    "motif = \"Au poste de la place du Châtelet.\"\n",
    "with open(\"les_miserables.txt\", \"r\", encoding=\"utf-8\") as fichier:\n",
    "    texte = fichier.read()\n",
    "\n",
    "tps_debut = time()\n",
    "print(boyer_moore_horspool(texte, motif))\n",
    "tps_fin = time()\n",
    "print(tps_fin - tps_debut)"
   ]
  },
  {
   "cell_type": "markdown",
   "id": "0c86fa61",
   "metadata": {},
   "source": [
    "## Comptage des occurrences d'un motif"
   ]
  },
  {
   "cell_type": "code",
   "execution_count": 123,
   "id": "f5d6a6d6",
   "metadata": {},
   "outputs": [],
   "source": [
    "## Algo de Boyer-Moore\n",
    "\n",
    "def pretraitement(motif):\n",
    "    dico = {}\n",
    "    for k in range(len(motif)-1):\n",
    "        dico[motif[k]] = len(motif) - 1 - k\n",
    "    return dico\n",
    "\n",
    "def correspond_renv(texte, k, motif):\n",
    "    n = len(motif)\n",
    "    for i in range(n-1, -1, -1):\n",
    "        if texte[k-n+1+i] != motif[i]:\n",
    "            return False\n",
    "    return True\n",
    "\n",
    "def compte_boyer_moore_horspool(texte, motif):\n",
    "    cpt = 0\n",
    "    dico = pretraitement(motif)\n",
    "    i = len(motif) - 1\n",
    "    while i < len(texte):\n",
    "        if correspond_renv(texte, i, motif):\n",
    "            cpt = cpt + 1\n",
    "        if texte[i] in dico:\n",
    "            i = i + dico[texte[i]]\n",
    "        else:\n",
    "            i = i + len(motif)\n",
    "    return cpt"
   ]
  },
  {
   "cell_type": "code",
   "execution_count": 132,
   "id": "989c2bc7",
   "metadata": {},
   "outputs": [
    {
     "name": "stdout",
     "output_type": "stream",
     "text": [
      "593\n"
     ]
    }
   ],
   "source": [
    "motif = \"Thénardier\"\n",
    "with open(\"les_miserables.txt\", \"r\", encoding=\"utf-8\") as fichier:\n",
    "    texte = fichier.read()\n",
    "print(compte_boyer_moore_horspool(texte, motif))"
   ]
  },
  {
   "cell_type": "markdown",
   "id": "805edf39",
   "metadata": {},
   "source": [
    "## Liste des indices des occurrences"
   ]
  },
  {
   "cell_type": "code",
   "execution_count": 137,
   "id": "9b57024c",
   "metadata": {},
   "outputs": [],
   "source": [
    "## Algo de Boyer-Moore\n",
    "\n",
    "def pretraitement(motif):\n",
    "    dico = {}\n",
    "    for k in range(len(motif)-1):\n",
    "        dico[motif[k]] = len(motif) - 1 - k\n",
    "    return dico\n",
    "\n",
    "def correspond_renv(texte, k, motif):\n",
    "    n = len(motif)\n",
    "    for i in range(n-1, -1, -1):\n",
    "        if texte[k-n+1+i] != motif[i]:\n",
    "            return False\n",
    "    return True\n",
    "\n",
    "def liste_boyer_moore_horspool(texte, motif):\n",
    "    L = []\n",
    "    dico = pretraitement(motif)\n",
    "    i = len(motif) - 1\n",
    "    while i < len(texte):\n",
    "        if correspond_renv(texte, i, motif):\n",
    "            L.append(i - len(motif) + 1)\n",
    "        if texte[i] in dico:\n",
    "            i = i + dico[texte[i]]\n",
    "        else:\n",
    "            i = i + len(motif)\n",
    "    return L"
   ]
  },
  {
   "cell_type": "code",
   "execution_count": 156,
   "id": "bef220dd",
   "metadata": {},
   "outputs": [],
   "source": [
    "with open(\"les_miserables.txt\", \"r\", encoding=\"utf-8\") as fichier:\n",
    "    texte = fichier.read()\n",
    "listeV = liste_boyer_moore_horspool(texte, \"Valjean\")\n",
    "listeC = liste_boyer_moore_horspool(texte, \"Cosette\")\n",
    "listeM = liste_boyer_moore_horspool(texte, \"Marius\")"
   ]
  },
  {
   "cell_type": "code",
   "execution_count": 166,
   "id": "20885ce5",
   "metadata": {},
   "outputs": [
    {
     "data": {
      "text/plain": [
       "[]"
      ]
     },
     "execution_count": 166,
     "metadata": {},
     "output_type": "execute_result"
    },
    {
     "data": {
      "image/png": "[encoded data removed]",
      "text/plain": [
       "<Figure size 640x480 with 1 Axes>"
      ]
     },
     "metadata": {},
     "output_type": "display_data"
    }
   ],
   "source": [
    "import matplotlib.pyplot as plt\n",
    "plt.hist(listeV, histtype=\"step\", bins=100, range=(0, len(texte)-1), color=\"k\")\n",
    "plt.hist(listeC, histtype=\"step\", bins=100, range=(0, len(texte)-1), color=\"b\")\n",
    "plt.hist(listeM, histtype=\"step\", bins=100, range=(0, len(texte)-1), color=\"r\")\n",
    "plt.plot()"
   ]
  },
  {
   "cell_type": "code",
   "execution_count": null,
   "id": "ad59da2a",
   "metadata": {},
   "outputs": [],
   "source": []
  }
 ],
 "metadata": {
  "kernelspec": {
   "display_name": "Python 3 (ipykernel)",
   "language": "python",
   "name": "python3"
  },
  "language_info": {
   "codemirror_mode": {
    "name": "ipython",
    "version": 3
   },
   "file_extension": ".py",
   "mimetype": "text/x-python",
   "name": "python",
   "nbconvert_exporter": "python",
   "pygments_lexer": "ipython3",
   "version": "3.9.12"
  }
 },
 "nbformat": 4,
 "nbformat_minor": 5
}
