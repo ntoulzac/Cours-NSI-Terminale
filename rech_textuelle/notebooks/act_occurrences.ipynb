{
 "cells": [
  {
   "cell_type": "markdown",
   "id": "0c86fa61",
   "metadata": {},
   "source": [
    "<div style='background-color: #87ceeb;\n",
    "    border: 0.5em solid black;\n",
    "    border-radius: 0.5em;\n",
    "    padding: 1em;'>\n",
    "    <h2>Activité</h2>\n",
    "    <h1>Occurrences d'un motif</h1>\n",
    "</div>"
   ]
  },
  {
   "cell_type": "markdown",
   "id": "51d5fa77",
   "metadata": {},
   "source": [
    "**(1)** En s'inspirant de l'algorithme de Boyer-Moore-Horspool, définir une fonction `compte_bmh` qui prend en paramètres d'entrée deux chaînes de caractères `motif` et `chaine` et qui renvoie le nombre de fois où le `motif` apparaît dans la `chaine`."
   ]
  },
  {
   "cell_type": "code",
   "execution_count": null,
   "id": "f5d6a6d6",
   "metadata": {},
   "outputs": [],
   "source": []
  },
  {
   "cell_type": "markdown",
   "id": "4dbcdc7b",
   "metadata": {},
   "source": [
    "**(2)** Écrire des lignes de code permettant de compter le nombre de fois qu'apparaît le nom Thénardier dans le roman de Victor Hugo _Les Misérables_. Le roman est téléchargeable [ici](https://ntoulzac.github.io/Cours-NSI-Terminale/rech_textuelle/donnees/les_miserables.txt) sous forme de fichier texte."
   ]
  },
  {
   "cell_type": "code",
   "execution_count": null,
   "id": "989c2bc7",
   "metadata": {},
   "outputs": [],
   "source": []
  },
  {
   "cell_type": "markdown",
   "id": "805edf39",
   "metadata": {},
   "source": [
    "**(3)** Définir une fonction `liste_bmh` qui prend en paramètres d'entrée deux chaînes de caractères `motif` et `chaine` et qui renvoie la liste des indices de la `chaine` où se trouve le `motif`."
   ]
  },
  {
   "cell_type": "code",
   "execution_count": null,
   "id": "9b57024c",
   "metadata": {},
   "outputs": [],
   "source": []
  },
  {
   "cell_type": "markdown",
   "id": "05724427",
   "metadata": {},
   "source": [
    "Les deux cellules ci-dessous permettent de représenter graphiquement les occurrences des noms de trois protagonistes du roman : Jean Valjean, Cosette et Marius."
   ]
  },
  {
   "cell_type": "code",
   "execution_count": null,
   "id": "bef220dd",
   "metadata": {},
   "outputs": [],
   "source": [
    "listeV = liste_bmh(\"Valjean\", texte)\n",
    "listeC = liste_bmh(\"Cosette\", texte)\n",
    "listeM = liste_bmh(\"Marius\", texte)"
   ]
  },
  {
   "cell_type": "code",
   "execution_count": null,
   "id": "20885ce5",
   "metadata": {},
   "outputs": [],
   "source": [
    "import matplotlib.pyplot as plt\n",
    "plt.hist([listeV, listeC, listeM], histtype=\"stepfilled\", stacked=True, bins=50, range=(0, len(texte)-1),\n",
    "         color=[\"k\", \"b\", \"r\"], label=[\"Valjean\", \"Cosette\", \"Marius\"])\n",
    "plt.legend(loc=\"upper left\")\n",
    "plt.show()"
   ]
  }
 ],
 "metadata": {
  "kernelspec": {
   "display_name": "Python 3 (ipykernel)",
   "language": "python",
   "name": "python3"
  },
  "language_info": {
   "codemirror_mode": {
    "name": "ipython",
    "version": 3
   },
   "file_extension": ".py",
   "mimetype": "text/x-python",
   "name": "python",
   "nbconvert_exporter": "python",
   "pygments_lexer": "ipython3",
   "version": "3.9.12"
  }
 },
 "nbformat": 4,
 "nbformat_minor": 5
}
