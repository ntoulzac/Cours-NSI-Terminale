{
 "cells": [
  {
   "cell_type": "markdown",
   "id": "0133b6bd",
   "metadata": {},
   "source": [
    "<div style='background-color: #e3a8b6;\n",
    "    border: 0.5em solid black;\n",
    "    border-radius: 0.5em;\n",
    "    padding: 1em;'>\n",
    "    <h2>Exercice</h2>\n",
    "    <h1>Correspondance entre motif et chaîne</h1>\n",
    "</div>"
   ]
  },
  {
   "cell_type": "markdown",
   "id": "2038ba95",
   "metadata": {},
   "source": [
    "On souhaite déterminer si un certain `motif` est présent dans une `chaine` à partir de l'indice `k` de la `chaine`.\n",
    "\n",
    "Si on considère, par exemple, la `chaine` et le `motif` suivants :"
   ]
  },
  {
   "cell_type": "code",
   "execution_count": null,
   "id": "341af421",
   "metadata": {},
   "outputs": [],
   "source": [
    "chaine = \"Ceci est un exemple de texte. On souhaite rechercher un motif dans ce texte...\"\n",
    "motif = \"ext\""
   ]
  },
  {
   "cell_type": "markdown",
   "id": "74057380",
   "metadata": {},
   "source": [
    "alors on peut dire que le `motif` :\n",
    "\n",
    "- n'est pas présent dans la `chaine` à l'indice `0` : les caractères de la `chaine` d'indices `0`, `1` et `2` sont `\"Cec\"` et ne correspondent pas au `motif`,\n",
    "- n'est pas présent dans la `chaine` à l'indice `12` : les caractères de la `chaine` d'indices `12`, `13` et `14` sont `\"exe\"` et ne correspondent pas au `motif`,\n",
    "- est présent dans la `chaine` à l'indice `24` : les caractères de la `chaine` d'indices `24`, `25` et `26` sont bien `\"ext\"`,\n",
    "- est présent dans la `chaine` à l'indice `71` : les caractères de la `chaine` d'indices `71`, `72` et `73` sont bien `\"ext\"`.\n",
    "\n",
    "**(1)** Définir une fonction `correspond_v1` qui prend en paramètres d'entrée deux chaînes de caractères `motif` et `chaine` et un entier `k` et qui renvoie `True` si le `motif` est présent dans la `chaine` à partir de l'indice `k`, et `False` sinon. La vérification de la correspondance devra se faire de gauche à droite."
   ]
  },
  {
   "cell_type": "code",
   "execution_count": null,
   "id": "e914fbfe",
   "metadata": {},
   "outputs": [],
   "source": [
    "def correspond_v1(motif, chaine, k):\n",
    "    n = len(motif)\n",
    "    for i in range(n):\n",
    "        if chaine[k+i] != motif[i]:\n",
    "            return False\n",
    "    return True"
   ]
  },
  {
   "cell_type": "code",
   "execution_count": null,
   "id": "bd4e9a6d",
   "metadata": {},
   "outputs": [],
   "source": [
    "print(correspond_v1(motif, chaine, 0))\n",
    "print(correspond_v1(motif, chaine, 12))\n",
    "print(correspond_v1(motif, chaine, 24))\n",
    "print(correspond_v1(motif, chaine, 71))"
   ]
  },
  {
   "cell_type": "markdown",
   "id": "4f242ff2",
   "metadata": {},
   "source": [
    "**(2)** Recopier et modifier la définition de la fonction `correspond_v1` pour que la vérification se fasse de la droite vers la gauche. La nouvelle fonction s'appellera `correspond_v2`."
   ]
  },
  {
   "cell_type": "code",
   "execution_count": null,
   "id": "0c7cb66c",
   "metadata": {},
   "outputs": [],
   "source": [
    "def correspond_v2(motif, chaine, k):\n",
    "    n = len(motif)\n",
    "    for i in range(n-1, -1, -1):\n",
    "        if chaine[k+i] != motif[i]:\n",
    "            return False\n",
    "    return True"
   ]
  },
  {
   "cell_type": "code",
   "execution_count": null,
   "id": "b2223048",
   "metadata": {},
   "outputs": [],
   "source": [
    "print(correspond_v2(motif, chaine, 0))\n",
    "print(correspond_v2(motif, chaine, 12))\n",
    "print(correspond_v2(motif, chaine, 24))\n",
    "print(correspond_v2(motif, chaine, 71))"
   ]
  }
 ],
 "metadata": {
  "kernelspec": {
   "display_name": "Python 3 (ipykernel)",
   "language": "python",
   "name": "python3"
  },
  "language_info": {
   "codemirror_mode": {
    "name": "ipython",
    "version": 3
   },
   "file_extension": ".py",
   "mimetype": "text/x-python",
   "name": "python",
   "nbconvert_exporter": "python",
   "pygments_lexer": "ipython3",
   "version": "3.9.12"
  }
 },
 "nbformat": 4,
 "nbformat_minor": 5
}
