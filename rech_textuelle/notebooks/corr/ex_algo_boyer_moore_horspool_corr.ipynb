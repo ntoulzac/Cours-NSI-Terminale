{
 "cells": [
  {
   "cell_type": "markdown",
   "id": "f722b735",
   "metadata": {},
   "source": [
    "<div style='background-color: #e3a8b6;\n",
    "    border: 0.5em solid black;\n",
    "    border-radius: 0.5em;\n",
    "    padding: 1em;'>\n",
    "    <h2>Exercice</h2>\n",
    "    <h1>Algorithme de Boyer-Moore-Horspool</h1>\n",
    "</div>"
   ]
  },
  {
   "cell_type": "markdown",
   "id": "5837a43f",
   "metadata": {},
   "source": [
    "L'algorithme de Boyer-Moore-Horspool nécessite un **prétraitement** du `motif` recherché. Il s'agit de déterminer de combien de caractères le `motif` pourra se décaler vers la droite lorsqu'il n'est pas en correspondance avec la `chaine`.\n",
    "\n",
    "Le prétraitement consiste, en pratique, en la définition d'un dictionnaire dont les clés sont les caractères présents dans le `motif` (sauf le dernier caractère) et la valeur associée est la plus petite distance entre le caractère et la fin du `motif`.\n",
    "\n",
    "Par exemple, si `motif = \"greece\"`, alors le prétraitement renvoie le dictionnaire `{'g': 5, 'r': 4, 'e': 2, 'c': 1}`.\n",
    "\n",
    "**(1)** Définir une fonction `pretraitement` qui prend en paramètre d'entrée une chaîne de caractères `motif` et qui renvoie un dictionnaire comme expliqué ci-dessus."
   ]
  },
  {
   "cell_type": "code",
   "execution_count": null,
   "id": "06c6a484",
   "metadata": {},
   "outputs": [],
   "source": [
    "def pretraitement(motif):\n",
    "    dico = {}\n",
    "    for k in range(len(motif)-1):\n",
    "        dico[motif[k]] = len(motif) - 1 - k\n",
    "    return dico"
   ]
  },
  {
   "cell_type": "code",
   "execution_count": null,
   "id": "9711238c",
   "metadata": {},
   "outputs": [],
   "source": [
    "pretraitement(\"greece\")"
   ]
  },
  {
   "cell_type": "markdown",
   "id": "2d76ab2a",
   "metadata": {},
   "source": [
    "**(2)** Écrire la spécification de la fonction `correspond_renv` définie ci-dessous."
   ]
  },
  {
   "cell_type": "code",
   "execution_count": null,
   "id": "905433ab",
   "metadata": {},
   "outputs": [],
   "source": [
    "def correspond_renv(motif, chaine, k):\n",
    "    n = len(motif)\n",
    "    for i in range(n-1, -1, -1):\n",
    "        if chaine[k+i] != motif[i]:\n",
    "            return False\n",
    "    return True"
   ]
  },
  {
   "cell_type": "markdown",
   "id": "0f6d941a",
   "metadata": {},
   "source": [
    "**(3)** Définir une fonction `recherche_bmh` qui prend en entrée deux chaînes de caractères `motif` et `chaine` et qui renvoie `True` si le `motif` est présent dans la `chaine` et `False` sinon."
   ]
  },
  {
   "cell_type": "code",
   "execution_count": null,
   "id": "41699d18",
   "metadata": {},
   "outputs": [],
   "source": [
    "def recherche_bmh(motif, chaine):\n",
    "    c = len(chaine)\n",
    "    m = len(motif)\n",
    "    dico = pretraitement(motif)\n",
    "    k = 0\n",
    "    while k <= c - m:\n",
    "        if correspond_renv(motif, chaine, k):\n",
    "            return True\n",
    "        if chaine[k+m-1] in dico:\n",
    "            k = k + dico[chaine[k+m-1]]\n",
    "        else:\n",
    "            k = k + m\n",
    "    return False"
   ]
  },
  {
   "cell_type": "code",
   "execution_count": null,
   "id": "6a1e6f4b",
   "metadata": {},
   "outputs": [],
   "source": [
    "recherche_bmh(\"test\", \"Ceci est un texte dans lequel on fait des tests !\")"
   ]
  },
  {
   "cell_type": "markdown",
   "id": "9c4d3eab",
   "metadata": {},
   "source": [
    "**(4)** Modifier la définition de la fonction `recherche_bmh` pour que :\n",
    "- dans le cas où le `motif` est présent dans la `chaine`, la fonction renvoie l'indice du début du `motif` dans la `chaine`,\n",
    "- dans le cas où le `motif` n'est pas présent dans la `chaine`, la fonction renvoie `None`."
   ]
  },
  {
   "cell_type": "code",
   "execution_count": null,
   "id": "1a2d4ffa",
   "metadata": {},
   "outputs": [],
   "source": [
    "def recherche_bmh(motif, chaine):\n",
    "    c = len(chaine)\n",
    "    m = len(motif)\n",
    "    dico = pretraitement(motif)\n",
    "    k = 0\n",
    "    while k <= c - m:\n",
    "        if correspond_renv(motif, chaine, k):\n",
    "            return k\n",
    "        if chaine[k+m-1] in dico:\n",
    "            k = k + dico[chaine[k+m-1]]\n",
    "        else:\n",
    "            k = k + m\n",
    "    return None"
   ]
  },
  {
   "cell_type": "code",
   "execution_count": null,
   "id": "9f86104c",
   "metadata": {},
   "outputs": [],
   "source": [
    "recherche_bmh(\"test\", \"Ceci est un texte dans lequel on fait des tests !\")"
   ]
  }
 ],
 "metadata": {
  "kernelspec": {
   "display_name": "Python 3 (ipykernel)",
   "language": "python",
   "name": "python3"
  },
  "language_info": {
   "codemirror_mode": {
    "name": "ipython",
    "version": 3
   },
   "file_extension": ".py",
   "mimetype": "text/x-python",
   "name": "python",
   "nbconvert_exporter": "python",
   "pygments_lexer": "ipython3",
   "version": "3.9.12"
  }
 },
 "nbformat": 4,
 "nbformat_minor": 5
}
