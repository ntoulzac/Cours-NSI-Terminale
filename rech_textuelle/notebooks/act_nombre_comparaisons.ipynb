{
 "cells": [
  {
   "cell_type": "markdown",
   "id": "5011d958",
   "metadata": {},
   "source": [
    "<div style='background-color: #87ceeb;\n",
    "    border: 0.5em solid black;\n",
    "    border-radius: 0.5em;\n",
    "    padding: 1em;'>\n",
    "    <h2>Activité</h2>\n",
    "    <h1>Nombre de comparaisons nécessaires</h1>\n",
    "</div>"
   ]
  },
  {
   "cell_type": "markdown",
   "id": "4b9e4ba9",
   "metadata": {},
   "source": [
    "L'objectif de cette activité est de comparer l'algorithme naïf de recherche d'un motif dans une chaîne et l'algorithme de Boyer-Moore-Horspool en ce qui concerne le nombre d'opérations effectuées par chacun des deux algorithmes.\n",
    "\n",
    "Après avoir téléchargé [ici](https://ntoulzac.github.io/Cours-NSI-Terminale/rech_textuelle/donnees/animations.py) le fichier `animations.py` et l'avoir placé dans le même répertoire que ce carnet Jupyter, exécuter la cellule suivante :"
   ]
  },
  {
   "cell_type": "code",
   "execution_count": null,
   "id": "971c34d4",
   "metadata": {},
   "outputs": [],
   "source": [
    "from animations import animation_algo_naif, animation_boyer_moore_horspool"
   ]
  },
  {
   "cell_type": "markdown",
   "id": "dff077e1",
   "metadata": {},
   "source": [
    "Les deux procédures importées permettent de visualiser le déroulement des deux algorithmes.\n",
    "\n",
    "**(1)** Dans cette question, on recherche le motif `\"test\"` dans la chaîne `\"Dans ce texte on fait des tests !\"`. Combien de comparaisons entre caractères sont nécessaires lorsqu'on utilise l'algorithme naïf ? et lorsqu'on utilise l'algorithme de Boyer-Moore-Horspool ?"
   ]
  },
  {
   "cell_type": "code",
   "execution_count": null,
   "id": "5db3a237",
   "metadata": {},
   "outputs": [],
   "source": [
    "animation_algo_naif(\"test\", \"Dans ce texte on fait des tests !\")"
   ]
  },
  {
   "cell_type": "code",
   "execution_count": null,
   "id": "1fbd4f53",
   "metadata": {},
   "outputs": [],
   "source": [
    "animation_boyer_moore_horspool(\"test\", \"Dans ce texte on fait des tests !\")"
   ]
  },
  {
   "cell_type": "markdown",
   "id": "4f612c4c",
   "metadata": {},
   "source": [
    "**(2)** Donner un exemple de motif et de chaîne pour lesquels l'algorithme naïf est plus efficace que l'algorithme de Boyer-Moore-Horspool."
   ]
  },
  {
   "cell_type": "code",
   "execution_count": null,
   "id": "2b418053",
   "metadata": {},
   "outputs": [],
   "source": []
  },
  {
   "cell_type": "code",
   "execution_count": null,
   "id": "fba13b2b",
   "metadata": {},
   "outputs": [],
   "source": []
  },
  {
   "cell_type": "markdown",
   "id": "832d9048",
   "metadata": {},
   "source": [
    "**(3)** Donner un exemple de motif et de chaîne pour lesquels l'algorithme de Boyer-Moore-Horspool nécessite moins de 12 comparaisons alors que l'algorithme naïf en nécessite plus de 60. "
   ]
  },
  {
   "cell_type": "code",
   "execution_count": null,
   "id": "fb36f612",
   "metadata": {},
   "outputs": [],
   "source": []
  },
  {
   "cell_type": "code",
   "execution_count": null,
   "id": "b7b696d8",
   "metadata": {},
   "outputs": [],
   "source": []
  }
 ],
 "metadata": {
  "kernelspec": {
   "display_name": "Python 3 (ipykernel)",
   "language": "python",
   "name": "python3"
  },
  "language_info": {
   "codemirror_mode": {
    "name": "ipython",
    "version": 3
   },
   "file_extension": ".py",
   "mimetype": "text/x-python",
   "name": "python",
   "nbconvert_exporter": "python",
   "pygments_lexer": "ipython3",
   "version": "3.9.12"
  }
 },
 "nbformat": 4,
 "nbformat_minor": 5
}
