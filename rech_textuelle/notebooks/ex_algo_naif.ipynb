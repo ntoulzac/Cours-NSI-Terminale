{
 "cells": [
  {
   "cell_type": "markdown",
   "id": "2038ba95",
   "metadata": {},
   "source": [
    "<div style='background-color: #e3a8b6;\n",
    "    border: 0.5em solid black;\n",
    "    border-radius: 0.5em;\n",
    "    padding: 1em;'>\n",
    "    <h2>Exercice</h2>\n",
    "    <h1>Algorithme naïf</h1>\n",
    "</div>"
   ]
  },
  {
   "cell_type": "markdown",
   "id": "306d3bfa",
   "metadata": {},
   "source": [
    "**(1)** Écrire la spécification de la fonction `correspond` définie ci-dessous."
   ]
  },
  {
   "cell_type": "code",
   "execution_count": null,
   "id": "2a2dc925",
   "metadata": {},
   "outputs": [],
   "source": [
    "def correspond(motif, chaine, k):\n",
    "    n = len(motif)\n",
    "    for i in range(n):\n",
    "        if chaine[k+i] != motif[i]:\n",
    "            return False\n",
    "    return True"
   ]
  },
  {
   "cell_type": "markdown",
   "id": "98466b68",
   "metadata": {},
   "source": [
    "**(2)** Définir une fonction `recherche_algo_naif` qui prend en entrée deux chaînes de caractères `motif` et `chaine` et qui renvoie `True` si le `motif` est présent dans la `chaine` et `False` sinon."
   ]
  },
  {
   "cell_type": "code",
   "execution_count": null,
   "id": "84e6d027",
   "metadata": {},
   "outputs": [],
   "source": []
  },
  {
   "cell_type": "code",
   "execution_count": null,
   "id": "4a83c61e",
   "metadata": {},
   "outputs": [],
   "source": []
  },
  {
   "cell_type": "markdown",
   "id": "ef75589b",
   "metadata": {},
   "source": [
    "**(3)** Modifier la définition de la fonction `recherche_algo_naif` pour que :\n",
    "- dans le cas où le `motif` est présent dans la `chaine`, la fonction renvoie l'indice du début du `motif` dans la `chaine`,\n",
    "- dans le cas où le `motif` n'est pas présent dans la `chaine`, la fonction renvoie `None`."
   ]
  },
  {
   "cell_type": "code",
   "execution_count": null,
   "id": "682092c0",
   "metadata": {},
   "outputs": [],
   "source": []
  },
  {
   "cell_type": "code",
   "execution_count": null,
   "id": "bb27cc33",
   "metadata": {},
   "outputs": [],
   "source": []
  }
 ],
 "metadata": {
  "kernelspec": {
   "display_name": "Python 3 (ipykernel)",
   "language": "python",
   "name": "python3"
  },
  "language_info": {
   "codemirror_mode": {
    "name": "ipython",
    "version": 3
   },
   "file_extension": ".py",
   "mimetype": "text/x-python",
   "name": "python",
   "nbconvert_exporter": "python",
   "pygments_lexer": "ipython3",
   "version": "3.9.12"
  }
 },
 "nbformat": 4,
 "nbformat_minor": 5
}
