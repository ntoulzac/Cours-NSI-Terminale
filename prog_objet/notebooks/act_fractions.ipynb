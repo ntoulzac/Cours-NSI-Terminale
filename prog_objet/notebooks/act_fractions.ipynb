{
 "cells": [
  {
   "cell_type": "markdown",
   "metadata": {},
   "source": [
    "<div style='background-color: #87ceeb;\n",
    "    border: 0.5em solid black;\n",
    "    border-radius: 0.5em;\n",
    "    padding: 1em;'>\n",
    "    <h2>Activité</h2>\n",
    "    <h1>Fractions</h1>\n",
    "</div>"
   ]
  },
  {
   "cell_type": "markdown",
   "metadata": {},
   "source": [
    "L'objectif de cette activité est de définir et d'utiliser une classe `Fraction` puis de travailler sur les [fractions égyptiennes](https://fr.wikipedia.org/wiki/Fraction_%C3%A9gyptienne).\n",
    "\n",
    "<img src='https://ntoulzac.github.io/Cours-NSI-Terminale/prog_objet/images/fractions_egyptiennes.jpg' width=\"50%\">"
   ]
  },
  {
   "cell_type": "markdown",
   "metadata": {},
   "source": [
    "### Définition d'une classe `Fraction`\n",
    "\n",
    "On donne dans la cellule suivante l'ébauche de la définition d'une classe `Fraction`."
   ]
  },
  {
   "cell_type": "code",
   "execution_count": null,
   "metadata": {},
   "outputs": [],
   "source": [
    "def pgcd(a, b):\n",
    "    \"\"\"Calcule le plus grand diviseur commun de deux entiers a et b.\"\"\"\n",
    "    a, b = abs(a), abs(b) # a et b sont désormais positifs\n",
    "    while b != 0:\n",
    "        a, b = b, a % b\n",
    "    return a\n",
    "\n",
    "class Fraction:\n",
    "    def __init__(self, num, den):\n",
    "        if den > 0:\n",
    "            self.num = num\n",
    "            self.den = den\n",
    "        elif den < 0:\n",
    "            self.num = -num\n",
    "            self.den = -den\n",
    "        else:\n",
    "            raise ZeroDivisionError('le dénominateur ne doit pas être égal à 0')\n",
    "        self._simplifier()\n",
    "\n",
    "    def _simplifier(self):\n",
    "        \"\"\"Ecrit la fraction sous forme irréductible.\"\"\"\n",
    "        p = pgcd(self.num, self.den)\n",
    "        if p > 1:\n",
    "            self.num = self.num // p\n",
    "            self.den = self.den // p\n",
    "\n",
    "    def __str__(self):\n",
    "        if self.den > 1:\n",
    "            return f\"{self.num}/{self.den}\"\n",
    "        else:\n",
    "            return str(self.num)"
   ]
  },
  {
   "cell_type": "markdown",
   "metadata": {},
   "source": [
    "**(1)** ✏️ Lister les attributs et les méthodes des instances de la classe `Fraction`. Pour les attributs, préciser leur type et, le cas échéant, les conditions qu'ils doivent remplir. Pour les méthodes, indiquer leur rôle ainsi que leurs paramètres d'entrée et de sortie éventuels.\n",
    "\n",
    "**(2)** ✏️ 💻 Après avoir exécuté les deux cellules suivantes, expliquer l'erreur obtenue et donner la valeur de `b.num` et celle de `c.den`."
   ]
  },
  {
   "cell_type": "code",
   "execution_count": null,
   "metadata": {},
   "outputs": [],
   "source": [
    "a = Fraction(1, 4)\n",
    "b = Fraction(2, -5)\n",
    "c = Fraction(-6, -12)\n",
    "d = Fraction(1, 0)"
   ]
  },
  {
   "cell_type": "code",
   "execution_count": null,
   "metadata": {},
   "outputs": [],
   "source": [
    "print(a, b, c, sep = '  ')"
   ]
  },
  {
   "cell_type": "markdown",
   "metadata": {},
   "source": [
    "### Méthodes de comparaison `__lt__`, `__le__`, `__eq__`, `__ne__`, `__ge__` et `__gt__`\n",
    "\n",
    "On souhaite maintenant pouvoir comparer deux instances de la classe `Fraction`, autrement dit savoir si une fraction est plus petite qu'une autre, plus grande, égale, etc."
   ]
  },
  {
   "cell_type": "code",
   "execution_count": null,
   "metadata": {},
   "outputs": [],
   "source": [
    "a = Fraction(1, 4)\n",
    "b = Fraction(2, -5)\n",
    "print(a < b, a <= b, a == b, a != b, a >= b, a > b)"
   ]
  },
  {
   "cell_type": "markdown",
   "metadata": {},
   "source": [
    "Pour que ces comparaisons deviennent possibles, il faut définir six méthodes spéciales qui s'appellent respectivement `__lt__` (*lower than*, strictement plus petit), `__le__` (*lower or equal*, plus petit),  `__eq__` (*equal*, égal),  `__ne__` (*not equal*, différent),  `__ge__` (*greater or equal*, plus grand) et  `__gt__` (*greater than*, strictement plus grand).\n",
    "\n",
    "Par exemple, pour savoir si une fraction est strictement plus petite qu'une autre, on compare le produit du numérateur de la première par le dénominateur de la seconde avec le produit du dénominateur de la première par le numérateur de la seconde. Concrètement, la méthode `__lt__` prend deux paramètres d'entrée `self` et `other` et elle retourne le booléen `self.num * other.den < other.num * self.den`.\n",
    "\n",
    "**(3)** 💻 Recopier et compléter la définition de la classe `Fraction` en implémentant les six méthodes de comparaison."
   ]
  },
  {
   "cell_type": "code",
   "execution_count": null,
   "metadata": {},
   "outputs": [],
   "source": []
  },
  {
   "cell_type": "code",
   "execution_count": null,
   "metadata": {},
   "outputs": [],
   "source": [
    "a = Fraction(1, 4)\n",
    "b = Fraction(2, -5)\n",
    "print(a < b, a <= b, a == b, a != b, a >= b, a > b)"
   ]
  },
  {
   "cell_type": "markdown",
   "metadata": {},
   "source": [
    "### Méthodes de calcul `__add__`, `__neg__`, `__sub__`, `__mul__`, `__truediv__` et `__pow__`\n",
    "\n",
    "On souhaite maintenant pouvoir calculer à partir de deux instances de la classe `Fraction`, autrement dit les additionner, les soustraire, les multiplier, etc."
   ]
  },
  {
   "cell_type": "code",
   "execution_count": null,
   "metadata": {},
   "outputs": [],
   "source": [
    "a = Fraction(1, 4)\n",
    "b = Fraction(2, -5)\n",
    "print(a + b, -a, a - b, a * b, a / b, a ** 2, sep = '  ')"
   ]
  },
  {
   "cell_type": "markdown",
   "metadata": {},
   "source": [
    "Pour que ces calculs deviennent possibles, il faut définir des méthodes spéciales qui s'appellent  `__add__` (addition), `__neg__` (opposé),  `__sub__` (soustraction),  `__mul__` (multiplication),  `__truediv__` (division) et  `__pow__` (puissance).\n",
    "\n",
    "Par exemple, pour savoir additionner deux fractions, il faut d'abord les mettre au même dénominateur avant d'additionner les nouveaux numérateurs. Concrètement, la méthode `__add__` prend deux paramètres d'entrée `self` et `other` et elle retourne l'instance de la classe `Fraction` dont le dénominateur est `self.den * other.den` et dont le numérateur est `self.num * other.den + other.num * self.den`.\n",
    "\n",
    "**(4)** 💻 Recopier et compléter la définition de la classe `Fraction` en implémentant les six méthodes d'opérations."
   ]
  },
  {
   "cell_type": "code",
   "execution_count": null,
   "metadata": {},
   "outputs": [],
   "source": []
  },
  {
   "cell_type": "code",
   "execution_count": null,
   "metadata": {},
   "outputs": [],
   "source": [
    "a = Fraction(1, 4)\n",
    "b = Fraction(2, -5)\n",
    "print(a + b, -a, a - b, a * b, a / b, a ** 2, sep = '  ')"
   ]
  },
  {
   "cell_type": "markdown",
   "metadata": {},
   "source": [
    "<div style='background-color: #87ceeb;\n",
    "    border-radius: 0.5em;\n",
    "    padding: 1em;'>\n",
    "    <h2>Pour aller plus loin...</h2>\n",
    "</div>"
   ]
  },
  {
   "cell_type": "markdown",
   "metadata": {},
   "source": [
    "### Décomposition d'une fraction en somme de fractions égyptiennes\n",
    "\n",
    "Une fraction est appelée _fraction égyptienne_ si son numérateur est égal à 1 et son dénominateur est un entier strictement positif.\n",
    "\n",
    "**(5)** 💻 Recopier et compléter la définition de la classe `Fraction` en implémentant les méthodes :\n",
    "- `est_egyptienne` qui renvoie `True` lorsque la fraction est égyptienne, et `False` sinon,\n",
    "- `est_entiere` qui renvoie `True` lorsque la fraction est égale à un nombre entier, et `False` sinon,\n",
    "- `est_inferieure_a_unite` qui renvoie `True` lorsque la fraction est strictement comprise entre 0 et 1, et `False` sinon,\n",
    "- `inverse` qui renvoie l'inverse de la fraction sous la forme d'une instance de la classe `Fraction`,\n",
    "- `partie_entiere` qui renvoie l'entier égal au quotient du numérateur et du dénominateur."
   ]
  },
  {
   "cell_type": "code",
   "execution_count": null,
   "metadata": {},
   "outputs": [],
   "source": []
  },
  {
   "cell_type": "markdown",
   "metadata": {},
   "source": [
    "Tous les nombres rationnels positifs, c'est-à-dire toutes les fractions de deux entiers positifs, peuvent se décomposer comme une somme de fractions égyptiennes.\n",
    "\n",
    "Par exemple, $\\dfrac{6}{7} = \\dfrac{1}{2} + \\dfrac{1}{3} + \\dfrac{1}{42}$ ou encore $\\dfrac{10}{21} = \\dfrac{1}{3} + \\dfrac{1}{7}$ ou encore $\\dfrac{3}{7} = \\dfrac{1}{3} + \\dfrac{1}{11} + \\dfrac{1}{231}$.\n",
    "\n",
    "Nous nous intéressons spécifiquement à une telle décomposition pour les fractions strictement comprises entre 0 et 1.\n",
    "\n",
    "**(6)** 💻 Définir une version récursive et une version itérative de la fonction `decomposer_frac_egyp` qui :\n",
    "- prend en paramètre d'entrée une fraction strictement comprise entre 0 et 1, et qui\n",
    "- renvoie la décomposition (sous forme de tableau de fractions) de cette fraction en somme de fractions égyptiennes.\n",
    "\n",
    "Par exemple, l'appel `decomposer_frac_egyp(Fraction(6, 7))` doit renvoyer `[Fraction(1, 2), Fraction(1, 3), Fraction(1, 42)]`."
   ]
  },
  {
   "cell_type": "code",
   "execution_count": null,
   "metadata": {},
   "outputs": [],
   "source": []
  },
  {
   "cell_type": "code",
   "execution_count": null,
   "metadata": {},
   "outputs": [],
   "source": [
    "decomposer_frac_egyp(Fraction(6, 7))"
   ]
  },
  {
   "cell_type": "code",
   "execution_count": null,
   "metadata": {},
   "outputs": [],
   "source": [
    "decomposer_frac_egyp(Fraction(10, 21))"
   ]
  },
  {
   "cell_type": "code",
   "execution_count": null,
   "metadata": {},
   "outputs": [],
   "source": [
    "decomposer_frac_egyp(Fraction(3, 7))"
   ]
  },
  {
   "cell_type": "code",
   "execution_count": null,
   "metadata": {},
   "outputs": [],
   "source": [
    "decomposer_frac_egyp(Fraction(99999, 100000))"
   ]
  },
  {
   "cell_type": "code",
   "execution_count": null,
   "metadata": {},
   "outputs": [],
   "source": []
  },
  {
   "cell_type": "code",
   "execution_count": null,
   "metadata": {},
   "outputs": [],
   "source": [
    "decomposer_frac_egyp(Fraction(6, 7))"
   ]
  },
  {
   "cell_type": "code",
   "execution_count": null,
   "metadata": {},
   "outputs": [],
   "source": [
    "decomposer_frac_egyp(Fraction(10, 21))"
   ]
  },
  {
   "cell_type": "code",
   "execution_count": null,
   "metadata": {},
   "outputs": [],
   "source": [
    "decomposer_frac_egyp(Fraction(3, 7))"
   ]
  },
  {
   "cell_type": "code",
   "execution_count": null,
   "metadata": {},
   "outputs": [],
   "source": [
    "decomposer_frac_egyp(Fraction(99999, 100000))"
   ]
  }
 ],
 "metadata": {
  "kernelspec": {
   "display_name": "Python 3",
   "language": "python",
   "name": "python3"
  },
  "language_info": {
   "codemirror_mode": {
    "name": "ipython",
    "version": 3
   },
   "file_extension": ".py",
   "mimetype": "text/x-python",
   "name": "python",
   "nbconvert_exporter": "python",
   "pygments_lexer": "ipython3",
   "version": "3.8.8"
  }
 },
 "nbformat": 4,
 "nbformat_minor": 4
}
