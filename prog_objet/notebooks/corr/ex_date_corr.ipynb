{
 "cells": [
  {
   "cell_type": "markdown",
   "metadata": {},
   "source": [
    "<div style='background-color: #e3a8b6;\n",
    "    border: 0.5em solid black;\n",
    "    border-radius: 0.5em;\n",
    "    padding: 1em;'>\n",
    "    <h2>Exercice</h2>\n",
    "    <h1>Date</h1>\n",
    "</div>"
   ]
  },
  {
   "cell_type": "markdown",
   "metadata": {},
   "source": [
    "**(1)** 💻 Définir une classe `Date` dont les instances possèdent :\n",
    "\n",
    "- les attributs :\n",
    "    - `jour` (entier compris entre 1 et 31),\n",
    "    - `mois` (entier compris entre 1 et 12),\n",
    "    - `annee` (entier non nul),\n",
    "    - `evenement` (chaîne de caractères, `\"\"` par défaut),\n",
    "- les méthodes :\n",
    "    - `definir_evenement` (prend en entrée une chaîne de caractères et affecte cette chaîne à l'attribut `evenement`),\n",
    "    - `__str__` (affiche la date au format `13 octobre 2021 (nom de l'événement éventuel)`),\n",
    "    - `__lt__` et `__gt__` (compare deux dates et retourne un booléen)."
   ]
  },
  {
   "cell_type": "code",
   "execution_count": 1,
   "metadata": {},
   "outputs": [],
   "source": [
    "class Date:\n",
    "    def __init__(self, j, m, a):\n",
    "        if j not in range(1, 32):\n",
    "            raise ValueError('jour incorrect')\n",
    "        if m not in range(1, 13):\n",
    "            raise ValueError('mois incorrect')\n",
    "        if a == 0:\n",
    "            raise ValueError('année incorrecte')\n",
    "        self.jour = j\n",
    "        self.mois = m\n",
    "        self.annee = a\n",
    "        self.evenement = \"\"\n",
    "    \n",
    "    def definir_evenement(self, evenement):\n",
    "        self.evenement = evenement\n",
    "    \n",
    "    def __str__(self):\n",
    "        noms_mois = ['', 'janvier', 'février', 'mars', 'avril', 'mai', 'juin',\n",
    "                     'juillet', 'août', 'septembre', 'octobre', 'novembre', 'décembre']\n",
    "        chaine = f\"{self.jour} {noms_mois[self.mois]} {self.annee}\"\n",
    "        if self.evenement != '':\n",
    "            chaine += f\" ({self.evenement})\"\n",
    "        return chaine\n",
    "    \n",
    "    def __lt__(self, other):\n",
    "        if self.annee != other.annee:\n",
    "            return self.annee < other.annee\n",
    "        elif self.mois != other.mois:\n",
    "            return self.mois < other.mois\n",
    "        else:\n",
    "            return self.jour < other.jour\n",
    "    \n",
    "    def __gt__(self, other):\n",
    "        if self.annee != other.annee:\n",
    "            return self.annee > other.annee\n",
    "        elif self.mois != other.mois:\n",
    "            return self.mois > other.mois\n",
    "        else:\n",
    "            return self.jour > other.jour "
   ]
  },
  {
   "cell_type": "markdown",
   "metadata": {},
   "source": [
    "**(2)** 💻 Créer deux instances `bastille` et `republique` de la classe `Date`. La première correspond au 14 juillet 1789 (Prise de la Bastille) et la seconde au 21 septembre 1792 (Proclamation de la République)."
   ]
  },
  {
   "cell_type": "code",
   "execution_count": 2,
   "metadata": {},
   "outputs": [
    {
     "name": "stdout",
     "output_type": "stream",
     "text": [
      "14 juillet 1789\n",
      "21 septembre 1792\n"
     ]
    }
   ],
   "source": [
    "bastille = Date(14, 7, 1789)\n",
    "print(bastille)\n",
    "republique = Date(21, 9, 1792)\n",
    "print(republique)"
   ]
  },
  {
   "cell_type": "code",
   "execution_count": 3,
   "metadata": {},
   "outputs": [
    {
     "name": "stdout",
     "output_type": "stream",
     "text": [
      "14 juillet 1789 (Prise de la Bastille)\n",
      "21 septembre 1792 (Proclamation de la République)\n"
     ]
    }
   ],
   "source": [
    "bastille.definir_evenement('Prise de la Bastille')\n",
    "print(bastille)\n",
    "republique.definir_evenement('Proclamation de la République')\n",
    "print(republique)"
   ]
  },
  {
   "cell_type": "code",
   "execution_count": 4,
   "metadata": {},
   "outputs": [
    {
     "name": "stdout",
     "output_type": "stream",
     "text": [
      "True\n",
      "False\n"
     ]
    }
   ],
   "source": [
    "print(bastille < republique)\n",
    "print(bastille > republique)"
   ]
  },
  {
   "cell_type": "markdown",
   "metadata": {},
   "source": [
    "**(3)** 💻 Définir une fonction `trier_dates` qui prend en paramètre d'entrée un tableau dont les éléments sont des instances de la classe `Date` et qui renvoie le tableau trié par ordre chronologique."
   ]
  },
  {
   "cell_type": "code",
   "execution_count": 5,
   "metadata": {},
   "outputs": [],
   "source": [
    "date1 = Date(9, 11, 1914)\n",
    "date1.definir_evenement(\"Naissance de Hedy Lamarr\")\n",
    "date2 = Date(9, 12, 1906)\n",
    "date2.definir_evenement(\"Naissance de Grace Hopper\")\n",
    "date3 = Date(17, 8, 1936)\n",
    "date3.definir_evenement(\"Naissance de Margaret Hamilton\")\n",
    "date4 = Date(10, 12, 1815)\n",
    "date4.definir_evenement(\"Naissance d'Ada Lovelace\")\n",
    "date5 = Date(26, 8, 1918)\n",
    "date5.definir_evenement(\"Naissance de Katherine Johnson\")\n",
    "date6 = Date(15, 9, 1857)\n",
    "date6.definir_evenement(\"Naissance d'Anna Winlock\")"
   ]
  },
  {
   "cell_type": "markdown",
   "metadata": {},
   "source": [
    "***Tri par sélection***"
   ]
  },
  {
   "cell_type": "code",
   "execution_count": 6,
   "metadata": {},
   "outputs": [],
   "source": [
    "def indice_min(tab, debut):\n",
    "    \"\"\"\n",
    "    Recherche dans le tableau tab l'indice du plus petit élément à partir de l'indice debut.\n",
    "    - Entrées : tab (tableau), debut (entier)\n",
    "    - Sortie : pos_min (entier)\n",
    "    \"\"\"\n",
    "    pos_min = debut\n",
    "    for k in range(debut + 1, len(tab)):\n",
    "        if tab[k] < tab[pos_min]:\n",
    "            pos_min = k\n",
    "    return pos_min\n",
    "\n",
    "def trier_dates(tab_dates): # tri par sélection\n",
    "    \"\"\"\n",
    "    Trie un tableau par ordre croissant.\n",
    "    - Entrée : tab_dates (tableau)\n",
    "    - Sortie : tab_dates (tableau)\n",
    "    \"\"\"\n",
    "    for k in range(len(tab_dates) - 1):\n",
    "        pos_min = indice_min(tab_dates, k)\n",
    "        tab[k], tab[pos_min] = tab[pos_min], tab[k]\n",
    "    return tab_dates"
   ]
  },
  {
   "cell_type": "code",
   "execution_count": 7,
   "metadata": {},
   "outputs": [
    {
     "name": "stdout",
     "output_type": "stream",
     "text": [
      "10 décembre 1815 (Naissance d'Ada Lovelace)\n",
      "15 septembre 1857 (Naissance d'Anna Winlock)\n",
      "9 décembre 1906 (Naissance de Grace Hopper)\n",
      "9 novembre 1914 (Naissance de Hedy Lamarr)\n",
      "26 août 1918 (Naissance de Katherine Johnson)\n",
      "17 août 1936 (Naissance de Margaret Hamilton)\n"
     ]
    }
   ],
   "source": [
    "tab = [date1, date2, date3, date4, date5, date6]\n",
    "for date in trier_dates(tab):\n",
    "    print(date)"
   ]
  },
  {
   "cell_type": "markdown",
   "metadata": {},
   "source": [
    "***Tri par insertion***"
   ]
  },
  {
   "cell_type": "code",
   "execution_count": 8,
   "metadata": {},
   "outputs": [],
   "source": [
    "def decaler_a_gauche(tab, pos):\n",
    "    \"\"\"\n",
    "    Décale vers la gauche l'élément d'un tableau initialement à l'indice pos tant que cet élément\n",
    "    est inférieur à son voisin de gauche.\n",
    "    - Entrées : tab (tableau), pos (entier)\n",
    "    - Sortie : tab (tableau)\n",
    "    \"\"\"\n",
    "    while pos > 0 and tab[pos] < tab[pos - 1]:\n",
    "        tab[pos], tab[pos - 1] = tab[pos - 1], tab[pos]\n",
    "        pos = pos - 1\n",
    "    return tab\n",
    "\n",
    "def trier_dates(tab_dates): # tri par insertion\n",
    "    \"\"\"\n",
    "    Trie un tableau par ordre croissant.\n",
    "    - Entrée : tab_dates (tableau)\n",
    "    - Sortie : tab_dates (tableau)\n",
    "    \"\"\"\n",
    "    for k in range(1, len(tab_dates)):\n",
    "        tab_dates = decaler_a_gauche(tab_dates, k)\n",
    "    return tab_dates"
   ]
  },
  {
   "cell_type": "code",
   "execution_count": 9,
   "metadata": {},
   "outputs": [
    {
     "name": "stdout",
     "output_type": "stream",
     "text": [
      "10 décembre 1815 (Naissance d'Ada Lovelace)\n",
      "15 septembre 1857 (Naissance d'Anna Winlock)\n",
      "9 décembre 1906 (Naissance de Grace Hopper)\n",
      "9 novembre 1914 (Naissance de Hedy Lamarr)\n",
      "26 août 1918 (Naissance de Katherine Johnson)\n",
      "17 août 1936 (Naissance de Margaret Hamilton)\n"
     ]
    }
   ],
   "source": [
    "tab = [date1, date2, date3, date4, date5, date6]\n",
    "for date in trier_dates(tab):\n",
    "    print(date)"
   ]
  }
 ],
 "metadata": {
  "kernelspec": {
   "display_name": "Python 3",
   "language": "python",
   "name": "python3"
  },
  "language_info": {
   "codemirror_mode": {
    "name": "ipython",
    "version": 3
   },
   "file_extension": ".py",
   "mimetype": "text/x-python",
   "name": "python",
   "nbconvert_exporter": "python",
   "pygments_lexer": "ipython3",
   "version": "3.8.5"
  }
 },
 "nbformat": 4,
 "nbformat_minor": 2
}
