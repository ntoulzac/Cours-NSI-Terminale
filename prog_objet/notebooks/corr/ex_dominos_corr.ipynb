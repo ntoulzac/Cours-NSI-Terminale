{
 "cells": [
  {
   "cell_type": "markdown",
   "metadata": {},
   "source": [
    "<div style='background-color: #e3a8b6;\n",
    "    border: 0.5em solid black;\n",
    "    border-radius: 0.5em;\n",
    "    padding: 1em;'>\n",
    "    <h2>Exercice</h2>\n",
    "    <h1>Dominos</h1>\n",
    "</div>"
   ]
  },
  {
   "cell_type": "markdown",
   "metadata": {},
   "source": [
    "**(1)** 💻 Définir une classe `Domino` dont les instances possèdent :\n",
    "- les attributs `val1` et `val2` qui sont des entiers compris entre 0 et 6,\n",
    "- la méthode `retourner` qui permute les valeurs des deux attributs `val1` et `val2`."
   ]
  },
  {
   "cell_type": "code",
   "execution_count": 2,
   "metadata": {},
   "outputs": [],
   "source": [
    "class Domino:\n",
    "    def __init__(self, val1, val2):\n",
    "        self.val1 = val1\n",
    "        self.val2 = val2\n",
    "\n",
    "    def retourner(self):\n",
    "        \"\"\"Retourne le domino (la valeur de gauche passe à droite et réciproquement).\"\"\"\n",
    "        self.val1, self.val2 = self.val2, self.val1"
   ]
  },
  {
   "cell_type": "markdown",
   "metadata": {},
   "source": [
    "Le code Unicode du caractère \"domino avec `v1` à gauche et `v2` à droite\" est `127025 + 7*v1 + v2`.\n",
    "\n",
    "Par exemple, le code Unicode du caractère 🁕 (5 à gauche et 1 à droite) est $127025 + 7 \\times 5 + 1 = 127061$.\n",
    "\n",
    "**(2)** 💻 Recopier la définition de la classe `Domino` en y ajoutant une méthode permettant d'afficher le domino sous la forme du caractère Unicode approprié. "
   ]
  },
  {
   "cell_type": "code",
   "execution_count": 3,
   "metadata": {},
   "outputs": [],
   "source": [
    "class Domino:\n",
    "    def __init__(self, val1, val2):\n",
    "        self.val1 = val1\n",
    "        self.val2 = val2\n",
    "\n",
    "    def retourner(self):\n",
    "        \"\"\"Retourne le domino.\"\"\"\n",
    "        self.val1, self.val2 = self.val2, self.val1\n",
    "\n",
    "    def __str__(self):\n",
    "        \"\"\"Affiche le caractère Unicode correspondant au domino.\"\"\"\n",
    "        return chr(127025 + 7*self.val1 + self.val2)"
   ]
  },
  {
   "cell_type": "markdown",
   "metadata": {},
   "source": [
    "**(3)** 💻 Faire afficher les 28 dominos dans l'ordre 🀱 🀲 🀳 🀴 🀵 🀶 🀷 🀹 🀺 🀻 🀼 🀽 🀾 🁁 🁂 🁃 🁄 🁅 🁉 🁊 🁋 🁌 🁑 🁒 🁓 🁙 🁚 🁡."
   ]
  },
  {
   "cell_type": "code",
   "execution_count": 4,
   "metadata": {},
   "outputs": [
    {
     "name": "stdout",
     "output_type": "stream",
     "text": [
      "🀱 🀲 🀳 🀴 🀵 🀶 🀷 🀹 🀺 🀻 🀼 🀽 🀾 🁁 🁂 🁃 🁄 🁅 🁉 🁊 🁋 🁌 🁑 🁒 🁓 🁙 🁚 🁡 "
     ]
    }
   ],
   "source": [
    "for v1 in range(7):\n",
    "    for v2 in range(v1, 7):\n",
    "        print(Domino(v1, v2), end = ' ')"
   ]
  }
 ],
 "metadata": {
  "kernelspec": {
   "display_name": "Python 3",
   "language": "python",
   "name": "python3"
  },
  "language_info": {
   "codemirror_mode": {
    "name": "ipython",
    "version": 3
   },
   "file_extension": ".py",
   "mimetype": "text/x-python",
   "name": "python",
   "nbconvert_exporter": "python",
   "pygments_lexer": "ipython3",
   "version": "3.8.8"
  }
 },
 "nbformat": 4,
 "nbformat_minor": 2
}
