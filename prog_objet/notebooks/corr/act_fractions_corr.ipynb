{
 "cells": [
  {
   "cell_type": "markdown",
   "metadata": {},
   "source": [
    "<div style='background-color: #87ceeb;\n",
    "    border: 0.5em solid black;\n",
    "    border-radius: 0.5em;\n",
    "    padding: 1em;'>\n",
    "    <h2>Activité</h2>\n",
    "    <h1>Fractions</h1>\n",
    "</div>"
   ]
  },
  {
   "cell_type": "markdown",
   "metadata": {},
   "source": [
    "L'objectif de cette activité est de définir et d'utiliser une classe `Fraction` puis de travailler sur les [fractions égyptiennes](https://fr.wikipedia.org/wiki/Fraction_%C3%A9gyptienne).\n",
    "\n",
    "<img src='https://ntoulzac.github.io/Cours-NSI-Terminale/prog_objet/images/fractions_egyptiennes.jpg' width=\"50%\">"
   ]
  },
  {
   "cell_type": "markdown",
   "metadata": {},
   "source": [
    "### Définition d'une classe `Fraction`\n",
    "\n",
    "On donne dans la cellule suivante l'ébauche de la définition d'une classe `Fraction`."
   ]
  },
  {
   "cell_type": "code",
   "execution_count": 1,
   "metadata": {},
   "outputs": [],
   "source": [
    "def pgcd(a, b):\n",
    "    \"\"\"Calcule le plus grand diviseur commun de deux entiers a et b.\"\"\"\n",
    "    a, b = abs(a), abs(b) # a et b sont désormais positifs\n",
    "    while b != 0:\n",
    "        a, b = b, a % b\n",
    "    return a\n",
    "\n",
    "class Fraction:\n",
    "    def __init__(self, num, den):\n",
    "        if den > 0:\n",
    "            self.num = num\n",
    "            self.den = den\n",
    "        elif den < 0:\n",
    "            self.num = -num\n",
    "            self.den = -den\n",
    "        else:\n",
    "            raise ZeroDivisionError('le dénominateur ne doit pas être égal à 0')\n",
    "        self._simplifier()\n",
    "\n",
    "    def _simplifier(self):\n",
    "        \"\"\"Ecrit la fraction sous forme irréductible.\"\"\"\n",
    "        p = pgcd(self.num, self.den)\n",
    "        if p > 1:\n",
    "            self.num = self.num // p\n",
    "            self.den = self.den // p\n",
    "\n",
    "    def __str__(self):\n",
    "        if self.den > 1:\n",
    "            return f\"{self.num}/{self.den}\"\n",
    "        else:\n",
    "            return str(self.num)"
   ]
  },
  {
   "cell_type": "markdown",
   "metadata": {},
   "source": [
    "**(1)** ✏️ Lister les attributs et les méthodes des instances de la classe `Fraction`. Pour les attributs, préciser leur type et, le cas échéant, les conditions qu'ils doivent remplir. Pour les méthodes, indiquer leur rôle ainsi que leurs paramètres d'entrée et de sortie éventuels.\n",
    "\n",
    "**(2)** ✏️ 💻 Après avoir exécuté les deux cellules suivantes, expliquer l'erreur obtenue et donner la valeur de `b.num` et celle de `c.den`."
   ]
  },
  {
   "cell_type": "code",
   "execution_count": 2,
   "metadata": {},
   "outputs": [
    {
     "ename": "ZeroDivisionError",
     "evalue": "le dénominateur ne doit pas être égal à 0",
     "output_type": "error",
     "traceback": [
      "\u001b[1;31m---------------------------------------------------------------------------\u001b[0m",
      "\u001b[1;31mZeroDivisionError\u001b[0m                         Traceback (most recent call last)",
      "\u001b[1;32m<ipython-input-2-e157d8ca6441>\u001b[0m in \u001b[0;36m<module>\u001b[1;34m\u001b[0m\n\u001b[0;32m      2\u001b[0m \u001b[0mb\u001b[0m \u001b[1;33m=\u001b[0m \u001b[0mFraction\u001b[0m\u001b[1;33m(\u001b[0m\u001b[1;36m2\u001b[0m\u001b[1;33m,\u001b[0m \u001b[1;33m-\u001b[0m\u001b[1;36m5\u001b[0m\u001b[1;33m)\u001b[0m\u001b[1;33m\u001b[0m\u001b[1;33m\u001b[0m\u001b[0m\n\u001b[0;32m      3\u001b[0m \u001b[0mc\u001b[0m \u001b[1;33m=\u001b[0m \u001b[0mFraction\u001b[0m\u001b[1;33m(\u001b[0m\u001b[1;33m-\u001b[0m\u001b[1;36m6\u001b[0m\u001b[1;33m,\u001b[0m \u001b[1;33m-\u001b[0m\u001b[1;36m12\u001b[0m\u001b[1;33m)\u001b[0m\u001b[1;33m\u001b[0m\u001b[1;33m\u001b[0m\u001b[0m\n\u001b[1;32m----> 4\u001b[1;33m \u001b[0md\u001b[0m \u001b[1;33m=\u001b[0m \u001b[0mFraction\u001b[0m\u001b[1;33m(\u001b[0m\u001b[1;36m1\u001b[0m\u001b[1;33m,\u001b[0m \u001b[1;36m0\u001b[0m\u001b[1;33m)\u001b[0m\u001b[1;33m\u001b[0m\u001b[1;33m\u001b[0m\u001b[0m\n\u001b[0m",
      "\u001b[1;32m<ipython-input-1-aed0e74a61d2>\u001b[0m in \u001b[0;36m__init__\u001b[1;34m(self, num, den)\u001b[0m\n\u001b[0;32m     15\u001b[0m             \u001b[0mself\u001b[0m\u001b[1;33m.\u001b[0m\u001b[0mden\u001b[0m \u001b[1;33m=\u001b[0m \u001b[1;33m-\u001b[0m\u001b[0mden\u001b[0m\u001b[1;33m\u001b[0m\u001b[1;33m\u001b[0m\u001b[0m\n\u001b[0;32m     16\u001b[0m         \u001b[1;32melse\u001b[0m\u001b[1;33m:\u001b[0m\u001b[1;33m\u001b[0m\u001b[1;33m\u001b[0m\u001b[0m\n\u001b[1;32m---> 17\u001b[1;33m             \u001b[1;32mraise\u001b[0m \u001b[0mZeroDivisionError\u001b[0m\u001b[1;33m(\u001b[0m\u001b[1;34m'le dénominateur ne doit pas être égal à 0'\u001b[0m\u001b[1;33m)\u001b[0m\u001b[1;33m\u001b[0m\u001b[1;33m\u001b[0m\u001b[0m\n\u001b[0m\u001b[0;32m     18\u001b[0m         \u001b[0mself\u001b[0m\u001b[1;33m.\u001b[0m\u001b[0m_simplifier\u001b[0m\u001b[1;33m(\u001b[0m\u001b[1;33m)\u001b[0m\u001b[1;33m\u001b[0m\u001b[1;33m\u001b[0m\u001b[0m\n\u001b[0;32m     19\u001b[0m \u001b[1;33m\u001b[0m\u001b[0m\n",
      "\u001b[1;31mZeroDivisionError\u001b[0m: le dénominateur ne doit pas être égal à 0"
     ]
    }
   ],
   "source": [
    "a = Fraction(1, 4)\n",
    "b = Fraction(2, -5)\n",
    "c = Fraction(-6, -12)\n",
    "d = Fraction(1, 0)"
   ]
  },
  {
   "cell_type": "code",
   "execution_count": 3,
   "metadata": {},
   "outputs": [
    {
     "name": "stdout",
     "output_type": "stream",
     "text": [
      "1/4  -2/5  1/2\n"
     ]
    }
   ],
   "source": [
    "print(a, b, c, sep = '  ')"
   ]
  },
  {
   "cell_type": "markdown",
   "metadata": {},
   "source": [
    "### Méthodes de comparaison `__lt__`, `__le__`, `__eq__`, `__ne__`, `__ge__` et `__gt__`\n",
    "\n",
    "On souhaite maintenant pouvoir comparer deux instances de la classe `Fraction`, autrement dit savoir si une fraction est plus petite qu'une autre, plus grande, égale, etc."
   ]
  },
  {
   "cell_type": "code",
   "execution_count": 4,
   "metadata": {},
   "outputs": [
    {
     "ename": "TypeError",
     "evalue": "'<' not supported between instances of 'Fraction' and 'Fraction'",
     "output_type": "error",
     "traceback": [
      "\u001b[1;31m---------------------------------------------------------------------------\u001b[0m",
      "\u001b[1;31mTypeError\u001b[0m                                 Traceback (most recent call last)",
      "\u001b[1;32m<ipython-input-4-1f16e57df154>\u001b[0m in \u001b[0;36m<module>\u001b[1;34m\u001b[0m\n\u001b[0;32m      1\u001b[0m \u001b[0ma\u001b[0m \u001b[1;33m=\u001b[0m \u001b[0mFraction\u001b[0m\u001b[1;33m(\u001b[0m\u001b[1;36m1\u001b[0m\u001b[1;33m,\u001b[0m \u001b[1;36m4\u001b[0m\u001b[1;33m)\u001b[0m\u001b[1;33m\u001b[0m\u001b[1;33m\u001b[0m\u001b[0m\n\u001b[0;32m      2\u001b[0m \u001b[0mb\u001b[0m \u001b[1;33m=\u001b[0m \u001b[0mFraction\u001b[0m\u001b[1;33m(\u001b[0m\u001b[1;36m2\u001b[0m\u001b[1;33m,\u001b[0m \u001b[1;33m-\u001b[0m\u001b[1;36m5\u001b[0m\u001b[1;33m)\u001b[0m\u001b[1;33m\u001b[0m\u001b[1;33m\u001b[0m\u001b[0m\n\u001b[1;32m----> 3\u001b[1;33m \u001b[0mprint\u001b[0m\u001b[1;33m(\u001b[0m\u001b[0ma\u001b[0m \u001b[1;33m<\u001b[0m \u001b[0mb\u001b[0m\u001b[1;33m,\u001b[0m \u001b[0ma\u001b[0m \u001b[1;33m<=\u001b[0m \u001b[0mb\u001b[0m\u001b[1;33m,\u001b[0m \u001b[0ma\u001b[0m \u001b[1;33m==\u001b[0m \u001b[0mb\u001b[0m\u001b[1;33m,\u001b[0m \u001b[0ma\u001b[0m \u001b[1;33m!=\u001b[0m \u001b[0mb\u001b[0m\u001b[1;33m,\u001b[0m \u001b[0ma\u001b[0m \u001b[1;33m>=\u001b[0m \u001b[0mb\u001b[0m\u001b[1;33m,\u001b[0m \u001b[0ma\u001b[0m \u001b[1;33m>\u001b[0m \u001b[0mb\u001b[0m\u001b[1;33m)\u001b[0m\u001b[1;33m\u001b[0m\u001b[1;33m\u001b[0m\u001b[0m\n\u001b[0m",
      "\u001b[1;31mTypeError\u001b[0m: '<' not supported between instances of 'Fraction' and 'Fraction'"
     ]
    }
   ],
   "source": [
    "a = Fraction(1, 4)\n",
    "b = Fraction(2, -5)\n",
    "print(a < b, a <= b, a == b, a != b, a >= b, a > b)"
   ]
  },
  {
   "cell_type": "markdown",
   "metadata": {},
   "source": [
    "Pour que ces comparaisons deviennent possibles, il faut définir six méthodes spéciales qui s'appellent respectivement `__lt__` (*lower than*, strictement plus petit), `__le__` (*lower or equal*, plus petit),  `__eq__` (*equal*, égal),  `__ne__` (*not equal*, différent),  `__ge__` (*greater or equal*, plus grand) et  `__gt__` (*greater than*, strictement plus grand).\n",
    "\n",
    "Par exemple, pour savoir si une fraction est strictement plus petite qu'une autre, on compare le produit du numérateur de la première par le dénominateur de la seconde avec le produit du dénominateur de la première par le numérateur de la seconde. Concrètement, la méthode `__lt__` prend deux paramètres d'entrée `self` et `other` et elle retourne le booléen `self.num * other.den < other.num * self.den`.\n",
    "\n",
    "**(3)** 💻 Recopier et compléter la définition de la classe `Fraction` en implémentant les six méthodes de comparaison."
   ]
  },
  {
   "cell_type": "code",
   "execution_count": 5,
   "metadata": {},
   "outputs": [],
   "source": [
    "def pgcd(a, b):\n",
    "    \"\"\"Calcule le plus grand diviseur commun de deux entiers a et b.\"\"\"\n",
    "    a, b = abs(a), abs(b) # a et b sont désormais positifs\n",
    "    while b != 0:\n",
    "        a, b = b, a % b\n",
    "    return a\n",
    "\n",
    "class Fraction:\n",
    "    def __init__(self, num, den):\n",
    "        if den > 0:\n",
    "            self.num = num\n",
    "            self.den = den\n",
    "        elif den < 0:\n",
    "            self.num = -num\n",
    "            self.den = -den\n",
    "        else:\n",
    "            raise ZeroDivisionError('le dénominateur ne doit pas être égal à 0')\n",
    "        self._simplifier()\n",
    "\n",
    "    def _simplifier(self):\n",
    "        \"\"\"Ecrit la fraction sous forme irréductible.\"\"\"\n",
    "        p = pgcd(self.num, self.den)\n",
    "        if p > 1:\n",
    "            self.num = self.num // p\n",
    "            self.den = self.den // p\n",
    "\n",
    "    def __str__(self):\n",
    "        if self.den > 1:\n",
    "            return f\"{self.num}/{self.den}\"\n",
    "        else:\n",
    "            return str(self.num)\n",
    "            \n",
    "    def __lt__(self, other):\n",
    "        return self.num * other.den < other.num * self.den\n",
    "\n",
    "    def __le__(self, other):\n",
    "        return self.num * other.den <= other.num * self.den\n",
    "    \n",
    "    def __eq__(self, other):\n",
    "        return self.num * other.den == other.num * self.den\n",
    "    \n",
    "    def __ne__(self, other):\n",
    "        return self.num * other.den != other.num * self.den\n",
    "    \n",
    "    def __ge__(self, other):\n",
    "        return self.num * other.den >= other.num * self.den\n",
    "    \n",
    "    def __gt__(self, other):\n",
    "        return self.num * other.den > other.num * self.den"
   ]
  },
  {
   "cell_type": "code",
   "execution_count": 6,
   "metadata": {},
   "outputs": [
    {
     "name": "stdout",
     "output_type": "stream",
     "text": [
      "False False False True True True\n"
     ]
    }
   ],
   "source": [
    "a = Fraction(1, 4)\n",
    "b = Fraction(2, -5)\n",
    "print(a < b, a <= b, a == b, a != b, a >= b, a > b)"
   ]
  },
  {
   "cell_type": "markdown",
   "metadata": {},
   "source": [
    "### Méthodes de calcul `__add__`, `__neg__`, `__sub__`, `__mul__`, `__truediv__` et `__pow__`\n",
    "\n",
    "On souhaite maintenant pouvoir calculer à partir de deux instances de la classe `Fraction`, autrement dit les additionner, les soustraire, les multiplier, etc."
   ]
  },
  {
   "cell_type": "code",
   "execution_count": 7,
   "metadata": {},
   "outputs": [
    {
     "ename": "TypeError",
     "evalue": "unsupported operand type(s) for +: 'Fraction' and 'Fraction'",
     "output_type": "error",
     "traceback": [
      "\u001b[1;31m---------------------------------------------------------------------------\u001b[0m",
      "\u001b[1;31mTypeError\u001b[0m                                 Traceback (most recent call last)",
      "\u001b[1;32m<ipython-input-7-ebfd69594209>\u001b[0m in \u001b[0;36m<module>\u001b[1;34m\u001b[0m\n\u001b[0;32m      1\u001b[0m \u001b[0ma\u001b[0m \u001b[1;33m=\u001b[0m \u001b[0mFraction\u001b[0m\u001b[1;33m(\u001b[0m\u001b[1;36m1\u001b[0m\u001b[1;33m,\u001b[0m \u001b[1;36m4\u001b[0m\u001b[1;33m)\u001b[0m\u001b[1;33m\u001b[0m\u001b[1;33m\u001b[0m\u001b[0m\n\u001b[0;32m      2\u001b[0m \u001b[0mb\u001b[0m \u001b[1;33m=\u001b[0m \u001b[0mFraction\u001b[0m\u001b[1;33m(\u001b[0m\u001b[1;36m2\u001b[0m\u001b[1;33m,\u001b[0m \u001b[1;33m-\u001b[0m\u001b[1;36m5\u001b[0m\u001b[1;33m)\u001b[0m\u001b[1;33m\u001b[0m\u001b[1;33m\u001b[0m\u001b[0m\n\u001b[1;32m----> 3\u001b[1;33m \u001b[0mprint\u001b[0m\u001b[1;33m(\u001b[0m\u001b[0ma\u001b[0m \u001b[1;33m+\u001b[0m \u001b[0mb\u001b[0m\u001b[1;33m,\u001b[0m \u001b[1;33m-\u001b[0m\u001b[0ma\u001b[0m\u001b[1;33m,\u001b[0m \u001b[0ma\u001b[0m \u001b[1;33m-\u001b[0m \u001b[0mb\u001b[0m\u001b[1;33m,\u001b[0m \u001b[0ma\u001b[0m \u001b[1;33m*\u001b[0m \u001b[0mb\u001b[0m\u001b[1;33m,\u001b[0m \u001b[0ma\u001b[0m \u001b[1;33m/\u001b[0m \u001b[0mb\u001b[0m\u001b[1;33m,\u001b[0m \u001b[0ma\u001b[0m \u001b[1;33m**\u001b[0m \u001b[1;36m2\u001b[0m\u001b[1;33m,\u001b[0m \u001b[0msep\u001b[0m \u001b[1;33m=\u001b[0m \u001b[1;34m'  '\u001b[0m\u001b[1;33m)\u001b[0m\u001b[1;33m\u001b[0m\u001b[1;33m\u001b[0m\u001b[0m\n\u001b[0m",
      "\u001b[1;31mTypeError\u001b[0m: unsupported operand type(s) for +: 'Fraction' and 'Fraction'"
     ]
    }
   ],
   "source": [
    "a = Fraction(1, 4)\n",
    "b = Fraction(2, -5)\n",
    "print(a + b, -a, a - b, a * b, a / b, a ** 2, sep = '  ')"
   ]
  },
  {
   "cell_type": "markdown",
   "metadata": {},
   "source": [
    "Pour que ces calculs deviennent possibles, il faut définir des méthodes spéciales qui s'appellent  `__add__` (addition), `__neg__` (opposé),  `__sub__` (soustraction),  `__mul__` (multiplication),  `__truediv__` (division) et  `__pow__` (puissance).\n",
    "\n",
    "Par exemple, pour savoir additionner deux fractions, il faut d'abord les mettre au même dénominateur avant d'additionner les nouveaux numérateurs. Concrètement, la méthode `__add__` prend deux paramètres d'entrée `self` et `other` et elle retourne l'instance de la classe `Fraction` dont le dénominateur est `self.den * other.den` et dont le numérateur est `self.num * other.den + other.num * self.den`.\n",
    "\n",
    "**(4)** 💻 Recopier et compléter la définition de la classe `Fraction` en implémentant les six méthodes d'opérations."
   ]
  },
  {
   "cell_type": "code",
   "execution_count": 8,
   "metadata": {},
   "outputs": [],
   "source": [
    "class Fraction:\n",
    "    def __init__(self, num, den):\n",
    "        if den > 0:\n",
    "            self.num = num\n",
    "            self.den = den\n",
    "            self._simplifier()\n",
    "        elif den < 0:\n",
    "            self.num = - num\n",
    "            self.den = - den\n",
    "            self._simplifier()\n",
    "        else:\n",
    "            raise ZeroDivisionError('le dénominateur ne peut pas être égal à 0')\n",
    "            \n",
    "    def _pgcd(self, a, b):\n",
    "        a, b = abs(a), b\n",
    "        r = a % b\n",
    "        if r == 0:\n",
    "            return b\n",
    "        else:\n",
    "            return self._pgcd(b, r)\n",
    "            \n",
    "    def _simplifier(self):\n",
    "        pgcd = self._pgcd(self.num, self.den)\n",
    "        if pgcd > 1:\n",
    "            self.num = self.num // pgcd\n",
    "            self.den = self.den // pgcd\n",
    "\n",
    "    def __str__(self):\n",
    "        if self.den > 1:\n",
    "            return f\"{self.num}/{self.den}\"\n",
    "        else:\n",
    "            return str(self.num)\n",
    "            \n",
    "    def __lt__(self, other):\n",
    "        return self.num * other.den < other.num * self.den\n",
    "\n",
    "    def __le__(self, other):\n",
    "        return self.num * other.den <= other.num * self.den\n",
    "    \n",
    "    def __eq__(self, other):\n",
    "        return self.num * other.den == other.num * self.den\n",
    "    \n",
    "    def __ne__(self, other):\n",
    "        return self.num * other.den != other.num * self.den\n",
    "    \n",
    "    def __ge__(self, other):\n",
    "        return self.num * other.den >= other.num * self.den\n",
    "    \n",
    "    def __gt__(self, other):\n",
    "        return self.num * other.den > other.num * self.den\n",
    "        \n",
    "    def __add__(self, other):\n",
    "        return Fraction(self.num * other.den + other.num * self.den, self.den * other.den)\n",
    "\n",
    "    def __neg__(self):\n",
    "        return Fraction(-self.num, self.den)\n",
    "\n",
    "    def __sub__(self, other):\n",
    "        return self + (-other)\n",
    "\n",
    "    def __mul__(self, other):\n",
    "        return Fraction(self.num * other.num, self.den * other.den)\n",
    "    \n",
    "    def __truediv__(self, other):\n",
    "        if other.num != 0:\n",
    "            return self * Fraction(other.den, other.num)\n",
    "        else:\n",
    "            raise ZeroDivisionError('on ne peut pas diviser par 0')\n",
    "\n",
    "    def __pow__(self, n):\n",
    "        return Fraction(self.num ** n, self.den ** n)"
   ]
  },
  {
   "cell_type": "code",
   "execution_count": 9,
   "metadata": {},
   "outputs": [
    {
     "name": "stdout",
     "output_type": "stream",
     "text": [
      "-3/20  -1/4  13/20  -1/10  -5/8  1/16\n"
     ]
    }
   ],
   "source": [
    "a = Fraction(1, 4)\n",
    "b = Fraction(2, -5)\n",
    "print(a + b, -a, a - b, a * b, a / b, a ** 2, sep = '  ')"
   ]
  },
  {
   "cell_type": "markdown",
   "metadata": {},
   "source": [
    "<div style='background-color: #87ceeb;\n",
    "    border-radius: 0.5em;\n",
    "    padding: 1em;'>\n",
    "    <h2>Pour aller plus loin...</h2>\n",
    "</div>"
   ]
  },
  {
   "cell_type": "markdown",
   "metadata": {},
   "source": [
    "### Décomposition d'une fraction en somme de fractions égyptiennes\n",
    "\n",
    "Une fraction est appelée _fraction égyptienne_ si son numérateur est égal à 1 et son dénominateur est un entier strictement positif.\n",
    "\n",
    "**(5)** 💻 Recopier et compléter la définition de la classe `Fraction` en implémentant les méthodes :\n",
    "- `est_egyptienne` qui renvoie `True` lorsque la fraction est égyptienne, et `False` sinon,\n",
    "- `est_entiere` qui renvoie `True` lorsque la fraction est égale à un nombre entier, et `False` sinon,\n",
    "- `est_inferieure_a_unite` qui renvoie `True` lorsque la fraction est strictement comprise entre 0 et 1, et `False` sinon,\n",
    "- `inverse` qui renvoie l'inverse de la fraction sous la forme d'une instance de la classe `Fraction`,\n",
    "- `partie_entiere` qui renvoie l'entier égal au quotient du numérateur et du dénominateur."
   ]
  },
  {
   "cell_type": "code",
   "execution_count": 31,
   "metadata": {},
   "outputs": [],
   "source": [
    "class Fraction:\n",
    "    def __init__(self, num, den):\n",
    "        if den > 0:\n",
    "            self.num = num\n",
    "            self.den = den\n",
    "            self._simplifier()\n",
    "        elif den < 0:\n",
    "            self.num = -num\n",
    "            self.den = -den\n",
    "            self._simplifier()\n",
    "        else:\n",
    "            raise ZeroDivisionError('le dénominateur ne peut pas être égal à 0')\n",
    "\n",
    "    def _pgcd(self, a, b):\n",
    "        a, b = abs(a), b\n",
    "        while b != 0:\n",
    "            a, b = b, a % b\n",
    "        return a\n",
    "    \n",
    "    def _simplifier(self):\n",
    "        pgcd = self._pgcd(self.num, self.den)\n",
    "        if pgcd > 1:\n",
    "            self.num = self.num // pgcd\n",
    "            self.den = self.den // pgcd\n",
    "\n",
    "    def __str__(self):\n",
    "        if self.est_entiere():\n",
    "            return str(self.num)\n",
    "        else:\n",
    "            return f\"{self.num}/{self.den}\"\n",
    "        \n",
    "    def __repr__(self):\n",
    "        return f\"Fraction({self.num}, {self.den})\"\n",
    "            \n",
    "    def __lt__(self, other):\n",
    "        return self.num * other.den < other.num * self.den\n",
    "\n",
    "    def __le__(self, other):\n",
    "        return self.num * other.den <= other.num * self.den\n",
    "    \n",
    "    def __eq__(self, other):\n",
    "        return self.num * other.den == other.num * self.den\n",
    "    \n",
    "    def __ne__(self, other):\n",
    "        return self.num * other.den != other.num * self.den\n",
    "    \n",
    "    def __ge__(self, other):\n",
    "        return self.num * other.den >= other.num * self.den\n",
    "    \n",
    "    def __gt__(self, other):\n",
    "        return self.num * other.den > other.num * self.den\n",
    "        \n",
    "    def __add__(self, other):\n",
    "        return Fraction(self.num * other.den + other.num * self.den, self.den * other.den)\n",
    "\n",
    "    def __neg__(self):\n",
    "        return Fraction(-self.num, self.den)\n",
    "\n",
    "    def __sub__(self, other):\n",
    "        return self.__add__(other.__neg__())\n",
    "\n",
    "    def __mul__(self, other):\n",
    "        return Fraction(self.num * other.num, self.den * other.den)\n",
    "    \n",
    "    def __truediv__(self, other):\n",
    "        return self.__mul__(Fraction(other.den, other.num))\n",
    "\n",
    "    def __pow__(self, n):\n",
    "        return Fraction(self.num ** n, self.den ** n)\n",
    "    \n",
    "    def est_egyptienne(self):\n",
    "        return self.num == 1\n",
    "    \n",
    "    def est_entiere(self):\n",
    "        return self.den == 1\n",
    "    \n",
    "    def est_inferieure_a_unite(self):\n",
    "        return 0 < self.num < self.den\n",
    "\n",
    "    def inverse(self):\n",
    "        return Fraction(self.den, self.num)\n",
    "    \n",
    "    def partie_entiere(self):\n",
    "        return self.num // self.den"
   ]
  },
  {
   "cell_type": "markdown",
   "metadata": {},
   "source": [
    "Tous les nombres rationnels positifs, c'est-à-dire toutes les fractions de deux entiers positifs, peuvent se décomposer comme une somme de fractions égyptiennes.\n",
    "\n",
    "Par exemple, $\\dfrac{6}{7} = \\dfrac{1}{2} + \\dfrac{1}{3} + \\dfrac{1}{42}$ ou encore $\\dfrac{10}{21} = \\dfrac{1}{3} + \\dfrac{1}{7}$ ou encore $\\dfrac{3}{7} = \\dfrac{1}{3} + \\dfrac{1}{11} + \\dfrac{1}{231}$.\n",
    "\n",
    "Nous nous intéressons spécifiquement à une telle décomposition pour les fractions strictement comprises entre 0 et 1.\n",
    "\n",
    "**(6)** 💻 Définir une version récursive et une version itérative de la fonction `decomposer_frac_egyp` qui :\n",
    "- prend en paramètre d'entrée une fraction strictement comprise entre 0 et 1, et qui\n",
    "- renvoie la décomposition (sous forme de tableau de fractions) de cette fraction en somme de fractions égyptiennes.\n",
    "\n",
    "Par exemple, l'appel `decomposer_frac_egyp(Fraction(6, 7))` doit renvoyer `[Fraction(1, 2), Fraction(1, 3), Fraction(1, 42)]`."
   ]
  },
  {
   "cell_type": "code",
   "execution_count": 21,
   "metadata": {},
   "outputs": [],
   "source": [
    "def decomposer_frac_egyp(frac): # version récursive\n",
    "    \"\"\"\n",
    "    Décompose une fraction inférieure à l'unité en une somme de fractions de l'unité.\n",
    "    - Entrée : frac (instance de la classe Fraction, fraction comprise entre 0 et 1)\n",
    "    - Sortie : tab (tableau d'instances de la classe Fraction)\n",
    "    \"\"\"\n",
    "    if not frac.est_inferieure_a_unite():\n",
    "        raise ValueError(\"la fraction doit être inférieure à l'unité\")\n",
    "    inv = frac.inverse()\n",
    "    if inv.est_entiere():\n",
    "        return [frac]\n",
    "    else:\n",
    "        n = inv.partie_entiere() + 1\n",
    "        return [Fraction(1, n)] + decomposer_frac_egyp(frac - Fraction(1, n))"
   ]
  },
  {
   "cell_type": "code",
   "execution_count": 22,
   "metadata": {},
   "outputs": [
    {
     "data": {
      "text/plain": [
       "[Fraction(1, 2), Fraction(1, 3), Fraction(1, 42)]"
      ]
     },
     "execution_count": 22,
     "metadata": {},
     "output_type": "execute_result"
    }
   ],
   "source": [
    "decomposer_frac_egyp(Fraction(6, 7))"
   ]
  },
  {
   "cell_type": "code",
   "execution_count": 23,
   "metadata": {},
   "outputs": [
    {
     "data": {
      "text/plain": [
       "[Fraction(1, 3), Fraction(1, 7)]"
      ]
     },
     "execution_count": 23,
     "metadata": {},
     "output_type": "execute_result"
    }
   ],
   "source": [
    "decomposer_frac_egyp(Fraction(10, 21))"
   ]
  },
  {
   "cell_type": "code",
   "execution_count": 24,
   "metadata": {},
   "outputs": [
    {
     "data": {
      "text/plain": [
       "[Fraction(1, 3), Fraction(1, 11), Fraction(1, 231)]"
      ]
     },
     "execution_count": 24,
     "metadata": {},
     "output_type": "execute_result"
    }
   ],
   "source": [
    "decomposer_frac_egyp(Fraction(3, 7))"
   ]
  },
  {
   "cell_type": "code",
   "execution_count": 25,
   "metadata": {},
   "outputs": [
    {
     "data": {
      "text/plain": [
       "[Fraction(1, 2),\n",
       " Fraction(1, 3),\n",
       " Fraction(1, 7),\n",
       " Fraction(1, 43),\n",
       " Fraction(1, 1840),\n",
       " Fraction(1, 4317880),\n",
       " Fraction(1, 32027874900000)]"
      ]
     },
     "execution_count": 25,
     "metadata": {},
     "output_type": "execute_result"
    }
   ],
   "source": [
    "decomposer_frac_egyp(Fraction(99999, 100000))"
   ]
  },
  {
   "cell_type": "code",
   "execution_count": 26,
   "metadata": {},
   "outputs": [],
   "source": [
    "def decomposer_frac_egyp(frac): # version itérative\n",
    "    \"\"\"\n",
    "    Décompose une fraction inférieure à l'unité en une somme de fractions de l'unité.\n",
    "    - Entrée : frac (instance de la classe Fraction, fraction comprise entre 0 et 1)\n",
    "    - Sortie : tab (tableau d'instances de la classe Fraction)\n",
    "    \"\"\"\n",
    "    if not frac.est_inferieure_a_unite():\n",
    "        raise ValueError(\"la fraction doit être inférieure à l'unité\")\n",
    "    tab = []\n",
    "    while not frac.est_egyptienne():\n",
    "        n = frac.inverse().partie_entiere() + 1\n",
    "        tab.append(Fraction(1, n))\n",
    "        frac = frac - Fraction(1, n)\n",
    "    tab.append(frac)\n",
    "    return tab"
   ]
  },
  {
   "cell_type": "code",
   "execution_count": 27,
   "metadata": {},
   "outputs": [
    {
     "data": {
      "text/plain": [
       "[Fraction(1, 2), Fraction(1, 3), Fraction(1, 42)]"
      ]
     },
     "execution_count": 27,
     "metadata": {},
     "output_type": "execute_result"
    }
   ],
   "source": [
    "decomposer_frac_egyp(Fraction(6, 7))"
   ]
  },
  {
   "cell_type": "code",
   "execution_count": 28,
   "metadata": {},
   "outputs": [
    {
     "data": {
      "text/plain": [
       "[Fraction(1, 3), Fraction(1, 7)]"
      ]
     },
     "execution_count": 28,
     "metadata": {},
     "output_type": "execute_result"
    }
   ],
   "source": [
    "decomposer_frac_egyp(Fraction(10, 21))"
   ]
  },
  {
   "cell_type": "code",
   "execution_count": 29,
   "metadata": {},
   "outputs": [
    {
     "data": {
      "text/plain": [
       "[Fraction(1, 3), Fraction(1, 11), Fraction(1, 231)]"
      ]
     },
     "execution_count": 29,
     "metadata": {},
     "output_type": "execute_result"
    }
   ],
   "source": [
    "decomposer_frac_egyp(Fraction(3, 7))"
   ]
  },
  {
   "cell_type": "code",
   "execution_count": 30,
   "metadata": {},
   "outputs": [
    {
     "data": {
      "text/plain": [
       "[Fraction(1, 2),\n",
       " Fraction(1, 3),\n",
       " Fraction(1, 7),\n",
       " Fraction(1, 43),\n",
       " Fraction(1, 1840),\n",
       " Fraction(1, 4317880),\n",
       " Fraction(1, 32027874900000)]"
      ]
     },
     "execution_count": 30,
     "metadata": {},
     "output_type": "execute_result"
    }
   ],
   "source": [
    "decomposer_frac_egyp(Fraction(99999, 100000))"
   ]
  }
 ],
 "metadata": {
  "kernelspec": {
   "display_name": "Python 3",
   "language": "python",
   "name": "python3"
  },
  "language_info": {
   "codemirror_mode": {
    "name": "ipython",
    "version": 3
   },
   "file_extension": ".py",
   "mimetype": "text/x-python",
   "name": "python",
   "nbconvert_exporter": "python",
   "pygments_lexer": "ipython3",
   "version": "3.8.8"
  }
 },
 "nbformat": 4,
 "nbformat_minor": 4
}
