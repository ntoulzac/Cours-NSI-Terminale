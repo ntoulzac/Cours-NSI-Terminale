{
 "cells": [
  {
   "cell_type": "markdown",
   "metadata": {},
   "source": [
    "<div style='background-color: #e3a8b6;\n",
    "    border: 0.5em solid black;\n",
    "    border-radius: 0.5em;\n",
    "    padding: 1em;'>\n",
    "    <h2>Exercice</h2>\n",
    "    <h1>Compte bancaire</h1>\n",
    "</div>"
   ]
  },
  {
   "cell_type": "markdown",
   "metadata": {},
   "source": [
    "**(1)** 💻 Définir une classe `CompteBancaire` dont les instances possèdent :\n",
    "\n",
    "- les attributs : \n",
    "    - `id` (entier : numéro du compte passé en argument de la méthode constructeur),\n",
    "    - `titulaire` (chaîne de caractères : nom du titulaire du compte passé en argument de la méthode constructeur),\n",
    "    - `solde` (flottant : solde du compte, égal à 0 par défaut),\n",
    "    - `decouvert_autorise` (flottant : découvert maximal autorisé, égal à -1000 par défaut),\n",
    "    \n",
    "- les méthodes :\n",
    "    - `crediter` (augmente le solde d'un montant passé en argument),\n",
    "    - `debiter` (diminue le solde d'un montant passé en argument, sauf si le débit provoque un dépassement du découvert autorisé),\n",
    "    - `virement` (transfère, si cela est possible, une somme d'argent vers un autre compte), \n",
    "    - `modifier_decouvert_autorise` (fixe le découvert autorisé au montant négatif passé en argument)\n",
    "    - `__str__` (affiche les éléments du compte sous la forme `Compte #0 === Solde : 0€ === Titulaire : Corinne Berthier`)."
   ]
  },
  {
   "cell_type": "code",
   "execution_count": 1,
   "metadata": {},
   "outputs": [],
   "source": [
    "class CompteBancaire:\n",
    "    def __init__(self, id, nom):\n",
    "        self.id = id\n",
    "        self.titulaire = nom\n",
    "        self.solde = 0\n",
    "        self.decouvert_autorise = -1000\n",
    "    \n",
    "    def crediter(self, montant):\n",
    "        \"\"\"Augmente le solde du montant passé en argument.\"\"\"\n",
    "        self.solde += montant\n",
    "    \n",
    "    def debiter(self, montant):\n",
    "        \"\"\"Diminue, lorsque c'est possible, le solde du montant passé en argument.\"\"\"\n",
    "        if self.solde - montant >= self.decouvert_autorise:\n",
    "            self.solde -= montant\n",
    "        else:\n",
    "            print('Opération impossible. Le solde est insuffisant.')\n",
    "    \n",
    "    def virement(self, other, montant):\n",
    "        \"\"\"Effectue, lorsque c'est possible le transfert d'un montant vers un autre compte.\n",
    "        - Entrées : other (instance de la classe CompteBancaire), montant (nombre)\"\"\"\n",
    "        if self.solde - montant >= self.decouvert_autorise:\n",
    "            self.debiter(montant)\n",
    "            other.crediter(montant)\n",
    "        else:\n",
    "            print('Virement impossible. Le solde est insuffisant.')\n",
    "    \n",
    "    def modifier_decouvert_autorise(self, montant):\n",
    "        \"\"\"Affecte le montant passé en argument comme valeur du découvert autorisé.\"\"\"\n",
    "        if montant <= 0:\n",
    "            self.decouvert_autorise = montant\n",
    "        else:\n",
    "            print('Modification impossible. Le découvert autorisé doit être un nombre négatif.')\n",
    "    \n",
    "    def __str__(self):\n",
    "        \"\"\"Affiche de façon lisible certains attributs de l'instance.\"\"\"\n",
    "        return f\"Compte #{self.id} === Solde : {self.solde}€ === Titulaire : {self.titulaire}\""
   ]
  },
  {
   "cell_type": "markdown",
   "metadata": {},
   "source": [
    "**(2)** 💻 Tester les méthodes de la classe et écrire leur spécification."
   ]
  },
  {
   "cell_type": "code",
   "execution_count": 2,
   "metadata": {},
   "outputs": [
    {
     "name": "stdout",
     "output_type": "stream",
     "text": [
      "Compte #0 === Solde : 0€ === Titulaire : Corinne Berthier\n",
      "Compte #1 === Solde : 0€ === Titulaire : Jean Dupont\n"
     ]
    }
   ],
   "source": [
    "# Création de deux instances de la classe CompteBancaire\n",
    "mon_compte = CompteBancaire(0, 'Corinne Berthier')\n",
    "autre_compte = CompteBancaire(1, 'Jean Dupont')\n",
    "print(mon_compte)\n",
    "print(autre_compte)"
   ]
  },
  {
   "cell_type": "code",
   "execution_count": 3,
   "metadata": {},
   "outputs": [
    {
     "name": "stdout",
     "output_type": "stream",
     "text": [
      "Compte #0 === Solde : 2000€ === Titulaire : Corinne Berthier\n",
      "Compte #1 === Solde : -500€ === Titulaire : Jean Dupont\n"
     ]
    }
   ],
   "source": [
    "# Test d'une opération de crédit et d'une opération de débit\n",
    "mon_compte.crediter(2000)\n",
    "autre_compte.debiter(500)\n",
    "print(mon_compte)\n",
    "print(autre_compte)"
   ]
  },
  {
   "cell_type": "code",
   "execution_count": 4,
   "metadata": {},
   "outputs": [
    {
     "name": "stdout",
     "output_type": "stream",
     "text": [
      "Compte #0 === Solde : -500€ === Titulaire : Corinne Berthier\n",
      "Compte #1 === Solde : 2000€ === Titulaire : Jean Dupont\n"
     ]
    }
   ],
   "source": [
    "# Test d'un virement entre deux comptes\n",
    "mon_compte.virement(autre_compte, 2500)\n",
    "print(mon_compte)\n",
    "print(autre_compte)"
   ]
  },
  {
   "cell_type": "code",
   "execution_count": 5,
   "metadata": {},
   "outputs": [
    {
     "name": "stdout",
     "output_type": "stream",
     "text": [
      "Virement impossible. Le solde est insuffisant.\n",
      "Compte #0 === Solde : -500€ === Titulaire : Corinne Berthier\n",
      "Compte #1 === Solde : 2000€ === Titulaire : Jean Dupont\n"
     ]
    }
   ],
   "source": [
    "# Vérification que le virement échoue lorsque le compte n'est pas assez approvisionné\n",
    "mon_compte.virement(autre_compte, 2500)\n",
    "print(mon_compte)\n",
    "print(autre_compte)"
   ]
  },
  {
   "cell_type": "code",
   "execution_count": 6,
   "metadata": {},
   "outputs": [
    {
     "name": "stdout",
     "output_type": "stream",
     "text": [
      "Compte #0 === Solde : -3000€ === Titulaire : Corinne Berthier\n",
      "Compte #1 === Solde : 4500€ === Titulaire : Jean Dupont\n"
     ]
    }
   ],
   "source": [
    "# Modification du découvert autorisé\n",
    "mon_compte.modifier_decouvert_autorise(-5000)\n",
    "mon_compte.virement(autre_compte, 2500)\n",
    "print(mon_compte)\n",
    "print(autre_compte)"
   ]
  }
 ],
 "metadata": {
  "kernelspec": {
   "display_name": "Python 3",
   "language": "python",
   "name": "python3"
  },
  "language_info": {
   "codemirror_mode": {
    "name": "ipython",
    "version": 3
   },
   "file_extension": ".py",
   "mimetype": "text/x-python",
   "name": "python",
   "nbconvert_exporter": "python",
   "pygments_lexer": "ipython3",
   "version": "3.8.5"
  }
 },
 "nbformat": 4,
 "nbformat_minor": 2
}
