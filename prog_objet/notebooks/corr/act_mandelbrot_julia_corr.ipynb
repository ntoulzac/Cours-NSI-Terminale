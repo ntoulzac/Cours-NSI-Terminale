{
 "cells": [
  {
   "cell_type": "markdown",
   "metadata": {},
   "source": [
    "<div style='background-color: #87ceeb;\n",
    "    border: 0.5em solid black;\n",
    "    border-radius: 0.5em;\n",
    "    padding: 1em;'>\n",
    "    <h2>Activité</h2>\n",
    "    <h1>Ensembles de Mandelbrot et de Julia</h1>\n",
    "</div>"
   ]
  },
  {
   "cell_type": "markdown",
   "metadata": {},
   "source": [
    "Cette activité s'adresse aux élèves suivant l'option mathématiques expertes. Son objectif est de définir et d'utiliser une classe `Complexe` pour dessiner l'[ensemble de Mandelbrot](https://fr.wikipedia.org/wiki/Ensemble_de_Mandelbrot) et les [ensembles de Julia](https://fr.wikipedia.org/wiki/Ensemble_de_Julia).\n",
    "\n",
    "<img src='https://ntoulzac.github.io/Cours-NSI-Terminale/prog_objet/images/mandelbrot.png' width=\"50%\">"
   ]
  },
  {
   "cell_type": "markdown",
   "metadata": {},
   "source": [
    "**(1)** 💻 Définir une classe `Complexe` dont les instances possèdent :\n",
    "- les attributs :\n",
    "    - `re` (flottant : partie réelle du nombre complexe),\n",
    "    - `im` (flottant : partie imaginaire du nombre complexe),\n",
    "- les méthodes :\n",
    "    - `module` (renvoie un flottant, le module du nombre complexe),\n",
    "    - `__add__` (renvoie une instance de la classe Complexe, la somme de deux nombres complexes), et\n",
    "    - `__mul__` (renvoie une instance de la classe Complexe, le produit de deux nombres complexes).\n",
    "\n",
    "On rappelle que, si un complexe $z$ a pour partie réelle $x$ et pour partie imaginaire $y$, alors le module de $z$ est :\n",
    "\n",
    "$$|z| = \\sqrt{x^2 + y^2}$$\n",
    "\n",
    "D'autre part, la somme et le produit de deux complexes $z_1 = x_1 + i y_1$ et $z_2 = x_2 + i y_2$ se calculent de la façon suivante :\n",
    "\n",
    "$$z_1 + z_2 = (x_1 + x_2) + i(y_1 + y_2)$$\n",
    "\n",
    "$$z_1 z_2 = (x_1 x_2 - y_1 y_2) + i(x_1 y_2 + x_2 y_1)$$"
   ]
  },
  {
   "cell_type": "code",
   "execution_count": 1,
   "metadata": {},
   "outputs": [],
   "source": [
    "class Complexe:\n",
    "    def __init__(self, x, y):\n",
    "        self.re = x\n",
    "        self.im = y\n",
    "    \n",
    "    def module(self):\n",
    "        return (self.re**2 + self.im**2)**0.5\n",
    "\n",
    "    def __add__(self, other):\n",
    "        return Complexe(self.re + other.re, self.im + other.im)\n",
    "    \n",
    "    def __mul__(self, other):\n",
    "        return Complexe(self.re*other.re - self.im*other.im, self.re*other.im + self.im*other.re)"
   ]
  },
  {
   "cell_type": "markdown",
   "metadata": {},
   "source": [
    "$c$ étant un nombre complexe, on considère la suite complexe telle que $z_0 = 0$ et, pour tout $n \\geq 0$, $z_{n+1} = z_n^2 + c$.\n",
    "\n",
    "Le point d'affixe $c$ appartient à l'ensemble de Mandelbrot si et seulement si cette suite est bornée.\n",
    "\n",
    "Pour dessiner une approximation de l'ensemble de Mandelbrot, on retient le critère suivant : le point d'affixe `c` appartient à l'ensemble si aucun des 100 premiers termes de la suite n'a un module strictement supérieur à 2.\n",
    "\n",
    "**(2)** 💻 Compléter la définition de la fonction `dans_mandelbrot` définie ci-dessous. "
   ]
  },
  {
   "cell_type": "code",
   "execution_count": 2,
   "metadata": {},
   "outputs": [],
   "source": [
    "def dans_mandelbrot(c):\n",
    "    \"\"\"\n",
    "    Détermine si le point d'affixe c appartient à une approximation de l'ensemble de Mandelbrot.\n",
    "    - Entrée : c (instance de la classe Complexe)\n",
    "    - Sortie : (booléen, True si le point d'affixe c est dans l'ensemble, False sinon)\n",
    "    \"\"\"\n",
    "    n = 0\n",
    "    z = Complexe(0, 0)\n",
    "    for n in range(99):\n",
    "        z = z*z + c\n",
    "        if z.module() > 2:\n",
    "            return False\n",
    "    return True"
   ]
  },
  {
   "cell_type": "markdown",
   "metadata": {},
   "source": [
    "Les deux cellules ci-dessous permettent :\n",
    "- de définir deux tableaux `abscisses` et `ordonnees` contenant les coordonnées de points appartenant à (une approximation de) l'ensemble de Mandelbrot,\n",
    "- d'afficher cet ensemble de points grâce au module `matplotlib`."
   ]
  },
  {
   "cell_type": "code",
   "execution_count": 3,
   "metadata": {},
   "outputs": [],
   "source": [
    "abscisses = []\n",
    "ordonnees = []\n",
    "\n",
    "nb_col = 500\n",
    "nb_lig = 400\n",
    "\n",
    "for col in range(nb_col):\n",
    "    for lig in range(nb_lig):\n",
    "        x = -2 + 2.5*col/nb_col\n",
    "        y = -1 + 2*lig/nb_lig\n",
    "        c = Complexe(x, y)\n",
    "        if dans_mandelbrot(c):\n",
    "            abscisses.append(x)\n",
    "            ordonnees.append(y)"
   ]
  },
  {
   "cell_type": "code",
   "execution_count": 4,
   "metadata": {},
   "outputs": [
    {
     "data": {
      "image/png": "[encoded data removed]",
      "text/plain": [
       "<Figure size 604.8x504 with 1 Axes>"
      ]
     },
     "metadata": {
      "needs_background": "light"
     },
     "output_type": "display_data"
    }
   ],
   "source": [
    "import matplotlib.pyplot as plt\n",
    "\n",
    "plt.figure(figsize = (8.4, 7))\n",
    "plt.xlim(-2, 0.5)\n",
    "plt.ylim(-1, 1)\n",
    "plt.plot(abscisses, ordonnees, 'k,')\n",
    "\n",
    "plt.show()"
   ]
  },
  {
   "cell_type": "markdown",
   "metadata": {},
   "source": [
    "<div style='background-color: #87ceeb;\n",
    "    border-radius: 0.5em;\n",
    "    padding: 1em;'>\n",
    "    <h2>Pour aller plus loin...</h2>\n",
    "</div>"
   ]
  },
  {
   "cell_type": "markdown",
   "metadata": {},
   "source": [
    "$c$ étant un nombre complexe donné, on considère les suites complexes telles que, pour tout $n \\geq 0$, $z_{n+1} = z_n^2 + c$.\n",
    "\n",
    "Le point d'affixe $z_0$ appartient à l'ensemble de Julia de paramètre $c$ si et seulement la suite de premier terme $z_0$ est bornée.\n",
    "\n",
    "<table>\n",
    "    <tr>\n",
    "        <td><img src='https://ntoulzac.github.io/Cours-NSI-Terminale/prog_objet/images/julia0.png'>\n",
    "            <center><br><i>Ensemble de Julia<br>de paramètre </i><code>Complexe(-1, 0)</code></center></td>\n",
    "        <td><img src='https://ntoulzac.github.io/Cours-NSI-Terminale/prog_objet/images/julia1.png'>\n",
    "            <center><br><i>Ensemble de Julia<br>de paramètre </i><code>Complexe(0.3, 0.5)</code></center></td>\n",
    "        <td><img src='https://ntoulzac.github.io/Cours-NSI-Terminale/prog_objet/images/julia2.png'>\n",
    "            <center><br><i>Ensemble de Julia<br>de paramètre </i><code>Complexe(0.285, 0.013)</code></center></td>\n",
    "    </tr>\n",
    "</table>\n",
    "\n",
    "Pour dessiner une approximation de l'ensemble de Julia de paramètre $c$, on retient le critère suivant : le point d'affixe `z_0` appartient à l'ensemble si aucun des 100 premiers termes de la suite n'a un module strictement supérieur à 2.\n",
    "\n",
    "**(3)** 💻 Définir une fonction `dans_julia` permettant de savoir si le point d'affixe `z0` appartient ou non à (une approximation de) l'ensemble de Julia de paramètre `c`."
   ]
  },
  {
   "cell_type": "code",
   "execution_count": 5,
   "metadata": {},
   "outputs": [],
   "source": [
    "def dans_julia(c, z0):\n",
    "    \"\"\"\n",
    "    Détermine si le point d'affixe z0 appartient à une approximation de l'ensemble de Julia\n",
    "    de paramètre c.\n",
    "    - Entrée : c, z0 (instances de la classe Complexe)\n",
    "    - Sortie : (booléen, True si le point d'affixe z0 est dans l'ensemble de Julia, False sinon)\n",
    "    \"\"\"\n",
    "    n = 0\n",
    "    z = z0\n",
    "    for n in range(99):\n",
    "        z = z*z + c\n",
    "        if z.module() > 2:\n",
    "            return False\n",
    "    return True"
   ]
  },
  {
   "cell_type": "markdown",
   "metadata": {},
   "source": [
    "**(4)** 💻 Afficher l'ensemble de Julia de paramètre `c` grâce au module `matplotlib`."
   ]
  },
  {
   "cell_type": "code",
   "execution_count": 6,
   "metadata": {},
   "outputs": [],
   "source": [
    "c = Complexe(-0.8, 0.165)\n",
    "# c = Complexe(-0.123, 0.745)"
   ]
  },
  {
   "cell_type": "code",
   "execution_count": 7,
   "metadata": {},
   "outputs": [],
   "source": [
    "abscisses = []\n",
    "ordonnees = []\n",
    "nb_col = 400\n",
    "nb_lig = 400\n",
    "for col in range(nb_col):\n",
    "    for lig in range(nb_lig):\n",
    "        x = -1.5 + 3*col/nb_col\n",
    "        y = -1.5 + 3*lig/nb_lig\n",
    "        z0 = Complexe(x, y)\n",
    "        if dans_julia(c, z0):\n",
    "            abscisses.append(x)\n",
    "            ordonnees.append(y)"
   ]
  },
  {
   "cell_type": "code",
   "execution_count": null,
   "metadata": {},
   "outputs": [],
   "source": [
    "import matplotlib.pyplot as plt\n",
    "\n",
    "plt.figure(figsize = (7, 7))\n",
    "plt.xlim(-1.5, 1.5)\n",
    "plt.ylim(-1.5, 1.5)\n",
    "plt.plot(abscisses, ordonnees, 'k,')\n",
    "\n",
    "plt.show()"
   ]
  },
  {
   "cell_type": "markdown",
   "metadata": {},
   "source": [
    "<table>\n",
    "    <tr>\n",
    "        <td><img src='https://ntoulzac.github.io/Cours-NSI-Terminale/prog_objet/images/julia3.png'>\n",
    "            <center><br><i>Ensemble de Julia<br>de paramètre </i><code>Complexe(-0.8, 0.165)</code></center></td>\n",
    "        <td><img src='https://ntoulzac.github.io/Cours-NSI-Terminale/prog_objet/images/julia4.png'>\n",
    "            <center><br><i>Ensemble de Julia<br>de paramètre </i><code>Complexe(-0.123, 0.745)</code></center></td>\n",
    "    </tr>\n",
    "</table>"
   ]
  }
 ],
 "metadata": {
  "kernelspec": {
   "display_name": "Python 3",
   "language": "python",
   "name": "python3"
  },
  "language_info": {
   "codemirror_mode": {
    "name": "ipython",
    "version": 3
   },
   "file_extension": ".py",
   "mimetype": "text/x-python",
   "name": "python",
   "nbconvert_exporter": "python",
   "pygments_lexer": "ipython3",
   "version": "3.8.8"
  }
 },
 "nbformat": 4,
 "nbformat_minor": 4
}
