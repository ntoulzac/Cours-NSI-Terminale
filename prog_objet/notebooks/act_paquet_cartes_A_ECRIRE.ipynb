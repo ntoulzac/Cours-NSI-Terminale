{
 "cells": [
  {
   "cell_type": "markdown",
   "metadata": {},
   "source": [
    "<div style='background-color: #87ceeb;\n",
    "    border: 0.5em solid black;\n",
    "    border-radius: 0.5em;\n",
    "    padding: 1em;'>\n",
    "    <h2>Activité</h2>\n",
    "    <h1>Paquet de cartes</h1>\n",
    "</div>"
   ]
  },
  {
   "cell_type": "markdown",
   "metadata": {},
   "source": [
    "<img src='https://ntoulzac.github.io/Cours-NSI-Terminale/prog_objet/images/paquet_cartes.png' width=\"50%\">"
   ]
  },
  {
   "cell_type": "markdown",
   "metadata": {},
   "source": [
    "XXXXXXXXXXXXXX\n",
    "\n",
    "**(1)** 💻 Définir une classe `Carte` dont les instances possèdent :\n",
    "- les attributs `couleur` (une chaîne parmi `'PI'`, `'CO'`, `'CA'` et `'TR'`), `valeur` (un entier compris entre 1 et 14) et `visible` (un booléen égal à `False` par défaut),\n",
    "- la méthode `retourner` qui change l'attribut `visible` en son contraire."
   ]
  },
  {
   "cell_type": "code",
   "execution_count": 1,
   "metadata": {},
   "outputs": [],
   "source": [
    "class Carte:\n",
    "    def __init__(self, couleur, valeur):\n",
    "        self.couleur = couleur\n",
    "        self.valeur = valeur\n",
    "        self.visible = False\n",
    "    \n",
    "    def retourner(self):\n",
    "        \"\"\"Retourne la carte (la face cachée devient visible et réciproquement).\"\"\"\n",
    "        self.visible = not self.visible"
   ]
  },
  {
   "cell_type": "markdown",
   "metadata": {},
   "source": [
    "Si on numérote les couleurs de 0 (pique) à 3 (trèfle), alors le code Unicode d'un caractère \"carte face visible\" est `127136 + 16*coul + val`, où `coul` est compris entre 0 et 3 et `val` est compris entre 1 et 14. Le code Unicode du caractère \"carte face cachée\" est `127136`.\n",
    "\n",
    "**(2)** 💻 Recopier puis ajouter dans la définition de la classe `Carte` une méthode permettant d'afficher la carte sous la forme du caractère Unicode approprié. "
   ]
  },
  {
   "cell_type": "code",
   "execution_count": 2,
   "metadata": {},
   "outputs": [],
   "source": [
    "class Carte:\n",
    "    def __init__(self, couleur, valeur):\n",
    "        self.couleur = couleur\n",
    "        self.valeur = valeur\n",
    "        self.visible = False\n",
    "\n",
    "    def retourner(self):\n",
    "        \"\"\"Retourne la carte (la face cachée devient visible et réciproquement).\"\"\"\n",
    "        self.visible = not self.visible\n",
    "        \n",
    "    def __str__(self):\n",
    "        \"\"\"Affiche le caractère Unicode correspondant à la carte.\"\"\"\n",
    "        if not self.visible:\n",
    "            return chr(0x1f0a0)\n",
    "        else:\n",
    "            num_coul = ['PI', 'CO', 'CA', 'TR'].index(self.couleur)\n",
    "            return chr(0x1f0a0 + 16*num_coul + self.valeur)"
   ]
  },
  {
   "cell_type": "markdown",
   "metadata": {},
   "source": [
    "**(3)** 💻 Faire afficher dans l'ordre un paquet de 32 cartes : 🂡 🂧 🂨 🂩 🂪 🂫 🂭 🂮 🂱 🂷 🂸 🂹 🂺 🂻 🂽 🂾 🃁 🃇 🃈 🃉 🃊 🃋 🃍 🃎 🃑 🃗 🃘 🃙 🃚 🃛 🃝 🃞."
   ]
  },
  {
   "cell_type": "code",
   "execution_count": 3,
   "metadata": {},
   "outputs": [
    {
     "name": "stdout",
     "output_type": "stream",
     "text": [
      "🂡 🂧 🂨 🂩 🂪 🂫 🂭 🂮 🂱 🂷 🂸 🂹 🂺 🂻 🂽 🂾 🃁 🃇 🃈 🃉 🃊 🃋 🃍 🃎 🃑 🃗 🃘 🃙 🃚 🃛 🃝 🃞 "
     ]
    }
   ],
   "source": [
    "for couleur in ['PI', 'CO', 'CA', 'TR']:\n",
    "    for valeur in [1, 7, 8, 9, 10, 11, 13, 14]:\n",
    "        une_carte = Carte(couleur, valeur)\n",
    "        une_carte.retourner()\n",
    "        print(une_carte, end = ' ')"
   ]
  },
  {
   "cell_type": "markdown",
   "metadata": {},
   "source": [
    "**(4)** 💻 Recopier puis compléter la classe `Carte` en y ajoutant une méthode `__eq__` qui renvoie `True` lorsque deux cartes sont identiques et `False` sinon."
   ]
  },
  {
   "cell_type": "code",
   "execution_count": 4,
   "metadata": {},
   "outputs": [],
   "source": [
    "class Carte:\n",
    "    def __init__(self, couleur, valeur):\n",
    "        self.couleur = couleur\n",
    "        self.valeur = valeur\n",
    "        self.visible = False\n",
    "\n",
    "    def retourner(self):\n",
    "        \"\"\"Retourne la carte (la face cachée devient visible et réciproquement).\"\"\"\n",
    "        self.visible = not self.visible\n",
    "        \n",
    "    def __str__(self):\n",
    "        \"\"\"Affiche le caractère Unicode correspondant à la carte.\"\"\"\n",
    "        if not self.visible:\n",
    "            return chr(0x1f0a0)\n",
    "        else:\n",
    "            num_coul = ['PI', 'CO', 'CA', 'TR'].index(self.couleur)\n",
    "            return chr(0x1f0a0 + 16*num_coul + self.valeur)\n",
    "        \n",
    "    def __eq__(self, other):\n",
    "        \"\"\"Vérifie si deux cartes ont à la fois la même valeur et la même couleur.\"\"\"\n",
    "        return self.couleur == other.couleur and self.valeur == other.valeur"
   ]
  },
  {
   "cell_type": "markdown",
   "metadata": {},
   "source": [
    "On donne ci-dessous la définition d'une classe `PaquetDeCartes`."
   ]
  },
  {
   "cell_type": "code",
   "execution_count": 5,
   "metadata": {},
   "outputs": [],
   "source": [
    "from random import shuffle\n",
    "\n",
    "class PaquetDeCartes:\n",
    "    def __init__(self, nb):\n",
    "        self.cartes = [Carte(coul, val) for coul in ['PI', 'CO', 'CA', 'TR'] for val in [1, 7, 8, 9, 10, 11, 13, 14]]\n",
    "        self.melanger()\n",
    "        self.extraire(nb)\n",
    "        self.doubler()\n",
    "        self.melanger()\n",
    "        self.paires_decouvertes = 0\n",
    "        self.coups_joues = 0\n",
    "\n",
    "    def __len__(self):\n",
    "        return len(self.cartes)\n",
    "    \n",
    "    def __getitem__(self, k):\n",
    "        return self.cartes[k]\n",
    "        \n",
    "    def melanger(self):\n",
    "        shuffle(self.cartes)    \n",
    "    \n",
    "    def extraire(self, nb):\n",
    "        if nb > len(self.cartes):\n",
    "            return ValueError('l\\'argument ne soit pas être supérieur au nombre de cartes')\n",
    "        else:\n",
    "            self.cartes = self.cartes[:nb]\n",
    "    \n",
    "    def doubler(self):\n",
    "        nb_cartes = len(self.cartes)\n",
    "        for k in range(nb_cartes):\n",
    "            carte = self.cartes[k]\n",
    "            self.cartes.append(Carte(carte.couleur, carte.valeur))\n",
    "            \n",
    "    def __str__(self):\n",
    "        texte = ''\n",
    "        for k in range(len(self.cartes)):\n",
    "            texte += f\"{str(self[k])}({k}) \"\n",
    "        return texte"
   ]
  },
  {
   "cell_type": "markdown",
   "metadata": {},
   "source": [
    "**(5)** ✏️ Lister les attributs et les méthodes des instances de la classe `PaquetDeCartes`. Vous préciserez le type de chaque attribut. Vous indiquerez les paramètres d'entrée et de sortie éventuels ainsi que le rôle de chaque méthode.\n",
    "\n",
    "On code dans la cellule suivante un petit jeu de mémoire dont voici les règles :\n",
    "- Un paquet de cartes est constitué d'un certain nombre de paires de cartes identiques. Le paquet est mélangé.\n",
    "- A chaque coup, le joueur retourne deux cartes. Si elles sont identiques, elles restent visibles et une paire a été trouvée. Si elles sont différentes, elles sont retournées à nouveau pour être cachées.\n",
    "- Le jeu se termine lorsque toutes les paires ont été reconstituées. Le nombre de coups réalisés par le joueur s'affiche alors à l'écran.\n",
    "\n",
    "**(6)** 💻 Compléter les douze parties manquantes du code."
   ]
  },
  {
   "cell_type": "code",
   "execution_count": 6,
   "metadata": {},
   "outputs": [
    {
     "name": "stdout",
     "output_type": "stream",
     "text": [
      "🂠(0) 🂠(1) 🂠(2) 🂠(3) 🂠(4) 🂠(5) 🂠(6) 🂠(7) 🂠(8) 🂠(9) 🂠(10) 🂠(11) \n",
      "Choisissez une première carte : \n"
     ]
    },
    {
     "ename": "ValueError",
     "evalue": "invalid literal for int() with base 10: ''",
     "output_type": "error",
     "traceback": [
      "\u001b[1;31m---------------------------------------------------------------------------\u001b[0m",
      "\u001b[1;31mValueError\u001b[0m                                Traceback (most recent call last)",
      "\u001b[1;32m<ipython-input-6-d8fbc096f439>\u001b[0m in \u001b[0;36m<module>\u001b[1;34m\u001b[0m\n\u001b[0;32m     31\u001b[0m     \u001b[0mpaquet\u001b[0m\u001b[1;33m.\u001b[0m\u001b[0mcoups_joues\u001b[0m \u001b[1;33m+=\u001b[0m \u001b[1;36m1\u001b[0m\u001b[1;33m\u001b[0m\u001b[1;33m\u001b[0m\u001b[0m\n\u001b[0;32m     32\u001b[0m \u001b[1;33m\u001b[0m\u001b[0m\n\u001b[1;32m---> 33\u001b[1;33m     \u001b[0mchoix_carte_1\u001b[0m \u001b[1;33m=\u001b[0m \u001b[0msaisie_numero\u001b[0m\u001b[1;33m(\u001b[0m\u001b[0mpaquet\u001b[0m\u001b[1;33m,\u001b[0m \u001b[1;34m'première'\u001b[0m\u001b[1;33m)\u001b[0m\u001b[1;33m\u001b[0m\u001b[1;33m\u001b[0m\u001b[0m\n\u001b[0m\u001b[0;32m     34\u001b[0m     \u001b[0mpaquet\u001b[0m\u001b[1;33m[\u001b[0m\u001b[0mchoix_carte_1\u001b[0m\u001b[1;33m]\u001b[0m\u001b[1;33m.\u001b[0m\u001b[0mretourner\u001b[0m\u001b[1;33m(\u001b[0m\u001b[1;33m)\u001b[0m\u001b[1;33m\u001b[0m\u001b[1;33m\u001b[0m\u001b[0m\n\u001b[0;32m     35\u001b[0m     \u001b[0mchoix_carte_2\u001b[0m \u001b[1;33m=\u001b[0m \u001b[0msaisie_numero\u001b[0m\u001b[1;33m(\u001b[0m\u001b[0mpaquet\u001b[0m\u001b[1;33m,\u001b[0m \u001b[1;34m'deuxième'\u001b[0m\u001b[1;33m)\u001b[0m\u001b[1;33m\u001b[0m\u001b[1;33m\u001b[0m\u001b[0m\n",
      "\u001b[1;32m<ipython-input-6-d8fbc096f439>\u001b[0m in \u001b[0;36msaisie_numero\u001b[1;34m(paquet, mot)\u001b[0m\n\u001b[0;32m     20\u001b[0m         \u001b[0mclear_output\u001b[0m\u001b[1;33m(\u001b[0m\u001b[1;33m)\u001b[0m\u001b[1;33m\u001b[0m\u001b[1;33m\u001b[0m\u001b[0m\n\u001b[0;32m     21\u001b[0m         \u001b[0mafficher\u001b[0m\u001b[1;33m(\u001b[0m\u001b[0mpaquet\u001b[0m\u001b[1;33m)\u001b[0m\u001b[1;33m\u001b[0m\u001b[1;33m\u001b[0m\u001b[0m\n\u001b[1;32m---> 22\u001b[1;33m         \u001b[0mk\u001b[0m \u001b[1;33m=\u001b[0m \u001b[0mint\u001b[0m\u001b[1;33m(\u001b[0m\u001b[0minput\u001b[0m\u001b[1;33m(\u001b[0m\u001b[1;34mf\"Choisissez une {mot} carte : \"\u001b[0m\u001b[1;33m)\u001b[0m\u001b[1;33m)\u001b[0m\u001b[1;33m\u001b[0m\u001b[1;33m\u001b[0m\u001b[0m\n\u001b[0m\u001b[0;32m     23\u001b[0m         \u001b[0mmot\u001b[0m \u001b[1;33m=\u001b[0m \u001b[1;34m'autre'\u001b[0m\u001b[1;33m\u001b[0m\u001b[1;33m\u001b[0m\u001b[0m\n\u001b[0;32m     24\u001b[0m     \u001b[1;32mreturn\u001b[0m \u001b[0mk\u001b[0m\u001b[1;33m\u001b[0m\u001b[1;33m\u001b[0m\u001b[0m\n",
      "\u001b[1;31mValueError\u001b[0m: invalid literal for int() with base 10: ''"
     ]
    }
   ],
   "source": [
    "from IPython.display import ??????\n",
    "from time import sleep\n",
    "\n",
    "def afficher(paquet):\n",
    "    \"\"\"\n",
    "    Affiche le paquet de cartes après avoir effacé les affichages prédédents.\n",
    "    - Entrée : paquet (instance de la classe PaquetDeCartes)\n",
    "    \"\"\"\n",
    "    clear_output()\n",
    "    print(paquet)\n",
    "    \n",
    "def saisie_numero(paquet, mot):\n",
    "    \"\"\"\n",
    "    Permet la saisie par le joueur du numéro d'une carte ayant sa face cachée.\n",
    "    - Entrées : paquet (instance de la classe PaquetDeCartes), mot (chaîne de caractères)\n",
    "    - Sortie : k (entier, numéro d'une carte)\n",
    "    \"\"\"\n",
    "    k = ??????\n",
    "    while k not in range(len(paquet)) or paquet[k].visible:\n",
    "        clear_output()\n",
    "        afficher(paquet)\n",
    "        k = int(input(f\"Choisissez une {mot} carte : \"))\n",
    "        mot = 'autre'\n",
    "    return ??????\n",
    "\n",
    "DIFF = 6 # Nombre de paires de cartes à reconstituer. Plus le nombre est grand, plus le jeu est difficile.\n",
    "paquet = PaquetDeCartes(DIFF)\n",
    "\n",
    "while ??????:\n",
    "\n",
    "    paquet.?????? += 1\n",
    "    \n",
    "    choix_carte_1 = saisie_numero(paquet, 'première')\n",
    "    paquet[choix_carte_1].??????\n",
    "    choix_carte_2 = saisie_numero(paquet, 'deuxième')\n",
    "    paquet[choix_carte_2].??????\n",
    "    \n",
    "    afficher(paquet)\n",
    "    \n",
    "    if ??????\n",
    "        paquet.?????? += 1\n",
    "        print('\\nVous avez trouvé une paire !')\n",
    "    else:\n",
    "        paquet[choix_carte_1].??????\n",
    "        paquet[choix_carte_2].??????\n",
    "        print('\\nEssayez encore...')\n",
    "    \n",
    "    sleep(2)\n",
    "\n",
    "afficher(paquet)\n",
    "print(f\"\\nBravo ! Vous avez gagné en {??????} coups.\")"
   ]
  },
  {
   "cell_type": "code",
   "execution_count": 6,
   "metadata": {},
   "outputs": [
    {
     "name": "stdout",
     "output_type": "stream",
     "text": [
      "🂠(0) 🂠(1) 🂠(2) 🂠(3) 🂠(4) 🂠(5) 🂠(6) 🂠(7) 🂠(8) 🂠(9) 🂠(10) 🂠(11) \n",
      "Choisissez une première carte : \n"
     ]
    },
    {
     "ename": "ValueError",
     "evalue": "invalid literal for int() with base 10: ''",
     "output_type": "error",
     "traceback": [
      "\u001b[1;31m---------------------------------------------------------------------------\u001b[0m",
      "\u001b[1;31mValueError\u001b[0m                                Traceback (most recent call last)",
      "\u001b[1;32m<ipython-input-6-d8fbc096f439>\u001b[0m in \u001b[0;36m<module>\u001b[1;34m\u001b[0m\n\u001b[0;32m     31\u001b[0m     \u001b[0mpaquet\u001b[0m\u001b[1;33m.\u001b[0m\u001b[0mcoups_joues\u001b[0m \u001b[1;33m+=\u001b[0m \u001b[1;36m1\u001b[0m\u001b[1;33m\u001b[0m\u001b[1;33m\u001b[0m\u001b[0m\n\u001b[0;32m     32\u001b[0m \u001b[1;33m\u001b[0m\u001b[0m\n\u001b[1;32m---> 33\u001b[1;33m     \u001b[0mchoix_carte_1\u001b[0m \u001b[1;33m=\u001b[0m \u001b[0msaisie_numero\u001b[0m\u001b[1;33m(\u001b[0m\u001b[0mpaquet\u001b[0m\u001b[1;33m,\u001b[0m \u001b[1;34m'première'\u001b[0m\u001b[1;33m)\u001b[0m\u001b[1;33m\u001b[0m\u001b[1;33m\u001b[0m\u001b[0m\n\u001b[0m\u001b[0;32m     34\u001b[0m     \u001b[0mpaquet\u001b[0m\u001b[1;33m[\u001b[0m\u001b[0mchoix_carte_1\u001b[0m\u001b[1;33m]\u001b[0m\u001b[1;33m.\u001b[0m\u001b[0mretourner\u001b[0m\u001b[1;33m(\u001b[0m\u001b[1;33m)\u001b[0m\u001b[1;33m\u001b[0m\u001b[1;33m\u001b[0m\u001b[0m\n\u001b[0;32m     35\u001b[0m     \u001b[0mchoix_carte_2\u001b[0m \u001b[1;33m=\u001b[0m \u001b[0msaisie_numero\u001b[0m\u001b[1;33m(\u001b[0m\u001b[0mpaquet\u001b[0m\u001b[1;33m,\u001b[0m \u001b[1;34m'deuxième'\u001b[0m\u001b[1;33m)\u001b[0m\u001b[1;33m\u001b[0m\u001b[1;33m\u001b[0m\u001b[0m\n",
      "\u001b[1;32m<ipython-input-6-d8fbc096f439>\u001b[0m in \u001b[0;36msaisie_numero\u001b[1;34m(paquet, mot)\u001b[0m\n\u001b[0;32m     20\u001b[0m         \u001b[0mclear_output\u001b[0m\u001b[1;33m(\u001b[0m\u001b[1;33m)\u001b[0m\u001b[1;33m\u001b[0m\u001b[1;33m\u001b[0m\u001b[0m\n\u001b[0;32m     21\u001b[0m         \u001b[0mafficher\u001b[0m\u001b[1;33m(\u001b[0m\u001b[0mpaquet\u001b[0m\u001b[1;33m)\u001b[0m\u001b[1;33m\u001b[0m\u001b[1;33m\u001b[0m\u001b[0m\n\u001b[1;32m---> 22\u001b[1;33m         \u001b[0mk\u001b[0m \u001b[1;33m=\u001b[0m \u001b[0mint\u001b[0m\u001b[1;33m(\u001b[0m\u001b[0minput\u001b[0m\u001b[1;33m(\u001b[0m\u001b[1;34mf\"Choisissez une {mot} carte : \"\u001b[0m\u001b[1;33m)\u001b[0m\u001b[1;33m)\u001b[0m\u001b[1;33m\u001b[0m\u001b[1;33m\u001b[0m\u001b[0m\n\u001b[0m\u001b[0;32m     23\u001b[0m         \u001b[0mmot\u001b[0m \u001b[1;33m=\u001b[0m \u001b[1;34m'autre'\u001b[0m\u001b[1;33m\u001b[0m\u001b[1;33m\u001b[0m\u001b[0m\n\u001b[0;32m     24\u001b[0m     \u001b[1;32mreturn\u001b[0m \u001b[0mk\u001b[0m\u001b[1;33m\u001b[0m\u001b[1;33m\u001b[0m\u001b[0m\n",
      "\u001b[1;31mValueError\u001b[0m: invalid literal for int() with base 10: ''"
     ]
    }
   ],
   "source": [
    "from IPython.display import clear_output\n",
    "from time import sleep\n",
    "\n",
    "def afficher(paquet):\n",
    "    \"\"\"\n",
    "    Affiche le paquet de cartes après avoir effacé les affichages prédédents.\n",
    "    - Entrée : paquet (instance de la classe PaquetDeCartes)\n",
    "    \"\"\"\n",
    "    clear_output()\n",
    "    print(paquet)\n",
    "    \n",
    "def saisie_numero(paquet, mot):\n",
    "    \"\"\"\n",
    "    Permet la saisie par le joueur du numéro d'une carte ayant sa face cachée.\n",
    "    - Entrées : paquet (instance de la classe PaquetDeCartes), mot (chaîne de caractères)\n",
    "    - Sortie : k (entier, numéro d'une carte)\n",
    "    \"\"\"\n",
    "    k = -1\n",
    "    while k not in range(len(paquet)) or paquet[k].visible:\n",
    "        clear_output()\n",
    "        afficher(paquet)\n",
    "        k = int(input(f\"Choisissez une {mot} carte : \"))\n",
    "        mot = 'autre'\n",
    "    return k\n",
    "\n",
    "DIFF = 6 # Nombre de paires de cartes à reconstituer. Plus le nombre est grand, plus le jeu est difficile.\n",
    "paquet = PaquetDeCartes(DIFF)\n",
    "\n",
    "while paquet.paires_decouvertes < DIFF:\n",
    "\n",
    "    paquet.coups_joues += 1\n",
    "    \n",
    "    choix_carte_1 = saisie_numero(paquet, 'première')\n",
    "    paquet[choix_carte_1].retourner()\n",
    "    choix_carte_2 = saisie_numero(paquet, 'deuxième')\n",
    "    paquet[choix_carte_2].retourner()\n",
    "    \n",
    "    afficher(paquet)\n",
    "    \n",
    "    if paquet[choix_carte_1] == paquet[choix_carte_2]:\n",
    "        paquet.paires_decouvertes += 1\n",
    "        print('\\nVous avez trouvé une paire !')\n",
    "    else:\n",
    "        paquet[choix_carte_1].retourner()\n",
    "        paquet[choix_carte_2].retourner()\n",
    "        print('\\nEssayez encore...')\n",
    "    \n",
    "    sleep(2)\n",
    "\n",
    "afficher(paquet)\n",
    "print(f\"\\nBravo ! Vous avez gagné en {paquet.coups_joues} coups.\")"
   ]
  }
 ],
 "metadata": {
  "kernelspec": {
   "display_name": "Python 3",
   "language": "python",
   "name": "python3"
  },
  "language_info": {
   "codemirror_mode": {
    "name": "ipython",
    "version": 3
   },
   "file_extension": ".py",
   "mimetype": "text/x-python",
   "name": "python",
   "nbconvert_exporter": "python",
   "pygments_lexer": "ipython3",
   "version": "3.8.5"
  }
 },
 "nbformat": 4,
 "nbformat_minor": 4
}
