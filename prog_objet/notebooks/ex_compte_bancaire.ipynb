{
 "cells": [
  {
   "cell_type": "markdown",
   "metadata": {},
   "source": [
    "<div style='background-color: #e3a8b6;\n",
    "    border: 0.5em solid black;\n",
    "    border-radius: 0.5em;\n",
    "    padding: 1em;'>\n",
    "    <h2>Exercice</h2>\n",
    "    <h1>Compte bancaire</h1>\n",
    "</div>"
   ]
  },
  {
   "cell_type": "markdown",
   "metadata": {},
   "source": [
    "**(1)** 💻 Définir une classe `CompteBancaire` dont les instances possèdent :\n",
    "\n",
    "- les attributs : \n",
    "    - `id` (entier : numéro du compte passé en argument de la méthode constructeur),\n",
    "    - `titulaire` (chaîne de caractères : nom du titulaire du compte passé en argument de la méthode constructeur),\n",
    "    - `solde` (flottant : solde du compte, égal à 0 par défaut),\n",
    "    - `decouvert_autorise` (flottant : découvert maximal autorisé, égal à -1000 par défaut),\n",
    "    \n",
    "- les méthodes :\n",
    "    - `crediter` (augmente le solde d'un montant passé en argument),\n",
    "    - `debiter` (diminue le solde d'un montant passé en argument, sauf si le débit provoque un dépassement du découvert autorisé),\n",
    "    - `virement` (transfère, si cela est possible, une somme d'argent vers un autre compte), \n",
    "    - `modifier_decouvert_autorise` (fixe le découvert autorisé au montant négatif passé en argument)\n",
    "    - `__str__` (affiche les éléments du compte sous la forme `Compte #0 === Solde : 0€ === Titulaire : Corinne Berthier`)."
   ]
  },
  {
   "cell_type": "code",
   "execution_count": null,
   "metadata": {},
   "outputs": [],
   "source": []
  },
  {
   "cell_type": "markdown",
   "metadata": {},
   "source": [
    "**(2)** 💻 Tester les méthodes de la classe et écrire leur spécification."
   ]
  },
  {
   "cell_type": "code",
   "execution_count": null,
   "metadata": {},
   "outputs": [],
   "source": [
    "# Création de deux instances de la classe CompteBancaire"
   ]
  },
  {
   "cell_type": "code",
   "execution_count": null,
   "metadata": {},
   "outputs": [],
   "source": [
    "# Test d'une opération de crédit et d'une opération de débit"
   ]
  },
  {
   "cell_type": "code",
   "execution_count": null,
   "metadata": {},
   "outputs": [],
   "source": [
    "# Test d'un virement entre deux comptes"
   ]
  },
  {
   "cell_type": "code",
   "execution_count": null,
   "metadata": {},
   "outputs": [],
   "source": [
    "# Vérification que le virement échoue lorsque le compte n'est pas assez approvisionné"
   ]
  },
  {
   "cell_type": "code",
   "execution_count": null,
   "metadata": {},
   "outputs": [],
   "source": [
    "# Modification du découvert autorisé"
   ]
  }
 ],
 "metadata": {
  "kernelspec": {
   "display_name": "Python 3",
   "language": "python",
   "name": "python3"
  },
  "language_info": {
   "codemirror_mode": {
    "name": "ipython",
    "version": 3
   },
   "file_extension": ".py",
   "mimetype": "text/x-python",
   "name": "python",
   "nbconvert_exporter": "python",
   "pygments_lexer": "ipython3",
   "version": "3.8.5"
  }
 },
 "nbformat": 4,
 "nbformat_minor": 2
}
