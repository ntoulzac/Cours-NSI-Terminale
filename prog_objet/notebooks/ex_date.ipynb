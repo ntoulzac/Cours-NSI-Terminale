{
 "cells": [
  {
   "cell_type": "markdown",
   "metadata": {},
   "source": [
    "<div style='background-color: #e3a8b6;\n",
    "    border: 0.5em solid black;\n",
    "    border-radius: 0.5em;\n",
    "    padding: 1em;'>\n",
    "    <h2>Exercice</h2>\n",
    "    <h1>Date</h1>\n",
    "</div>"
   ]
  },
  {
   "cell_type": "markdown",
   "metadata": {},
   "source": [
    "**(1)** 💻 Définir une classe `Date` dont les instances possèdent :\n",
    "\n",
    "- les attributs :\n",
    "    - `jour` (entier compris entre 1 et 31),\n",
    "    - `mois` (entier compris entre 1 et 12),\n",
    "    - `annee` (entier non nul),\n",
    "    - `evenement` (chaîne de caractères, `''` par défaut),\n",
    "- les méthodes :\n",
    "    - `definir_evenement` (prend en entrée une chaîne de caractères et affecte cette chaîne à l'attribut `evenement`),\n",
    "    - `__str__` (affiche la date au format `13 octobre 2021 (nom de l'événement éventuel)`),\n",
    "    - `__lt__` et `__gt__` (compare deux dates et retourne un booléen)."
   ]
  },
  {
   "cell_type": "code",
   "execution_count": null,
   "metadata": {},
   "outputs": [],
   "source": []
  },
  {
   "cell_type": "markdown",
   "metadata": {},
   "source": [
    "**(2)** 💻 Créer deux instances `bastille` et `republique` de la classe `Date`. La première correspond au 14 juillet 1789 (Prise de la Bastille) et la seconde au 21 septembre 1792 (Proclamation de la République)."
   ]
  },
  {
   "cell_type": "code",
   "execution_count": null,
   "metadata": {},
   "outputs": [],
   "source": []
  },
  {
   "cell_type": "markdown",
   "metadata": {},
   "source": [
    "**(3)** 💻 Définir une fonction `trier_dates` qui prend en paramètre d'entrée un tableau dont les éléments sont des instances de la classe `Date` et qui renvoie le tableau trié par ordre chronologique."
   ]
  },
  {
   "cell_type": "code",
   "execution_count": null,
   "metadata": {},
   "outputs": [],
   "source": []
  }
 ],
 "metadata": {
  "kernelspec": {
   "display_name": "Python 3",
   "language": "python",
   "name": "python3"
  },
  "language_info": {
   "codemirror_mode": {
    "name": "ipython",
    "version": 3
   },
   "file_extension": ".py",
   "mimetype": "text/x-python",
   "name": "python",
   "nbconvert_exporter": "python",
   "pygments_lexer": "ipython3",
   "version": "3.8.5"
  }
 },
 "nbformat": 4,
 "nbformat_minor": 2
}
