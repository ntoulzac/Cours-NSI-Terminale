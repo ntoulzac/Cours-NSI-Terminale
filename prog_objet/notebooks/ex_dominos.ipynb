{
 "cells": [
  {
   "cell_type": "markdown",
   "metadata": {},
   "source": [
    "<div style='background-color: #e3a8b6;\n",
    "    border: 0.5em solid black;\n",
    "    border-radius: 0.5em;\n",
    "    padding: 1em;'>\n",
    "    <h2>Exercice</h2>\n",
    "    <h1>Dominos</h1>\n",
    "</div>"
   ]
  },
  {
   "cell_type": "markdown",
   "metadata": {},
   "source": [
    "**(1)** 💻 Définir une classe `Domino` dont les instances possèdent :\n",
    "- les attributs `val1` et `val2` qui sont des entiers compris entre 0 et 6,\n",
    "- la méthode `retourner` qui permute les valeurs des deux attributs `val1` et `val2`."
   ]
  },
  {
   "cell_type": "code",
   "execution_count": null,
   "metadata": {},
   "outputs": [],
   "source": []
  },
  {
   "cell_type": "markdown",
   "metadata": {},
   "source": [
    "Le code Unicode du caractère \"domino avec `v1` à gauche et `v2` à droite\" est `127025 + 7*v1 + v2`.\n",
    "\n",
    "Par exemple, le code Unicode du caractère 🁕 (5 à gauche et 1 à droite) est $127025 + 7 \\times 5 + 1 = 127061$.\n",
    "\n",
    "**(2)** 💻 Recopier la définition de la classe `Domino` en y ajoutant une méthode permettant d'afficher le domino sous la forme du caractère Unicode approprié. "
   ]
  },
  {
   "cell_type": "code",
   "execution_count": null,
   "metadata": {},
   "outputs": [],
   "source": []
  },
  {
   "cell_type": "markdown",
   "metadata": {},
   "source": [
    "**(3)** 💻 Faire afficher les 28 dominos dans l'ordre 🀱 🀲 🀳 🀴 🀵 🀶 🀷 🀹 🀺 🀻 🀼 🀽 🀾 🁁 🁂 🁃 🁄 🁅 🁉 🁊 🁋 🁌 🁑 🁒 🁓 🁙 🁚 🁡."
   ]
  },
  {
   "cell_type": "code",
   "execution_count": null,
   "metadata": {},
   "outputs": [],
   "source": []
  }
 ],
 "metadata": {
  "kernelspec": {
   "display_name": "Python 3",
   "language": "python",
   "name": "python3"
  },
  "language_info": {
   "codemirror_mode": {
    "name": "ipython",
    "version": 3
   },
   "file_extension": ".py",
   "mimetype": "text/x-python",
   "name": "python",
   "nbconvert_exporter": "python",
   "pygments_lexer": "ipython3",
   "version": "3.8.8"
  }
 },
 "nbformat": 4,
 "nbformat_minor": 2
}
